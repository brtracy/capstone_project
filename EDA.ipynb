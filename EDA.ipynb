{
 "cells": [
  {
   "cell_type": "markdown",
   "id": "c0fe5c62",
   "metadata": {
    "heading_collapsed": true
   },
   "source": [
    "# Imports"
   ]
  },
  {
   "cell_type": "code",
   "execution_count": 1,
   "id": "f669c976",
   "metadata": {
    "ExecuteTime": {
     "end_time": "2022-05-05T19:19:38.136834Z",
     "start_time": "2022-05-05T19:19:27.704236Z"
    },
    "hidden": true
   },
   "outputs": [],
   "source": [
    "import pandas as pd\n",
    "import numpy as np\n",
    "import re\n",
    "import string\n",
    "import json\n",
    "import os\n",
    "import pickle\n",
    "\n",
    "import matplotlib.pyplot as plt\n",
    "import matplotlib as mpl\n",
    "%matplotlib inline\n",
    "\n",
    "from langdetect import detect\n",
    "import spacy\n",
    "\n",
    "import nltk\n",
    "from nltk import pos_tag\n",
    "from nltk.corpus import wordnet\n",
    "from nltk.probability import FreqDist\n",
    "from nltk.corpus import stopwords\n",
    "from nltk.tokenize import regexp_tokenize, word_tokenize, RegexpTokenizer\n",
    "\n",
    "from sklearn.model_selection import train_test_split, GridSearchCV\n",
    "from sklearn.preprocessing import StandardScaler\n",
    "from sklearn.linear_model import SGDClassifier\n",
    "from sklearn.metrics import confusion_matrix, ConfusionMatrixDisplay,\\\n",
    "classification_report, accuracy_score, precision_score\n",
    "\n",
    "from PIL import Image\n",
    "from wordcloud import WordCloud, STOPWORDS, ImageColorGenerator"
   ]
  },
  {
   "cell_type": "markdown",
   "id": "d255d32b",
   "metadata": {
    "hidden": true
   },
   "source": [
    "_________________"
   ]
  },
  {
   "cell_type": "markdown",
   "id": "5b8bd5ae",
   "metadata": {
    "hidden": true
   },
   "source": [
    "**Helper Functions**"
   ]
  },
  {
   "cell_type": "code",
   "execution_count": 2,
   "id": "e9058ba6",
   "metadata": {
    "ExecuteTime": {
     "end_time": "2022-05-05T03:13:33.813529Z",
     "start_time": "2022-05-05T03:13:33.804106Z"
    },
    "hidden": true
   },
   "outputs": [],
   "source": [
    "def confusion_matrix_plot(y_true, y_pred, class_names):\n",
    "    cm = confusion_matrix(y_true, y_pred)\n",
    "    disp = ConfusionMatrixDisplay(confusion_matrix=cm, display_labels=class_names)\n",
    "    disp.plot(cmap=plt.cm.Blues)\n",
    "    return plt.show()\n",
    "\n",
    "def report(y_true, y_pred, class_names=['no_spoiler', 'spoiler']):\n",
    "    print(classification_report(y_true, y_pred, target_names=class_names))\n",
    "    confusion_matrix_plot(y_true, y_pred, class_names)"
   ]
  },
  {
   "cell_type": "markdown",
   "id": "b345017f",
   "metadata": {
    "hidden": true
   },
   "source": [
    "_________\n",
    "\n",
    "Skip to section 2.3 to load the large dataframe after initial EDA and processing. Then all cells in the remainder of section 2 and beyond can be executed."
   ]
  },
  {
   "cell_type": "markdown",
   "id": "80fd5677",
   "metadata": {},
   "source": [
    "# EDA"
   ]
  },
  {
   "cell_type": "markdown",
   "id": "10097137",
   "metadata": {
    "heading_collapsed": true
   },
   "source": [
    "## Movie Details"
   ]
  },
  {
   "cell_type": "code",
   "execution_count": 3,
   "id": "3f94bc6e",
   "metadata": {
    "ExecuteTime": {
     "end_time": "2022-05-05T02:54:56.110671Z",
     "start_time": "2022-05-05T02:54:55.876505Z"
    },
    "hidden": true,
    "scrolled": true
   },
   "outputs": [
    {
     "name": "stdout",
     "output_type": "stream",
     "text": [
      "<class 'pandas.core.frame.DataFrame'>\n",
      "RangeIndex: 1572 entries, 0 to 1571\n",
      "Data columns (total 7 columns):\n",
      " #   Column         Non-Null Count  Dtype  \n",
      "---  ------         --------------  -----  \n",
      " 0   movie_id       1572 non-null   object \n",
      " 1   plot_summary   1572 non-null   object \n",
      " 2   duration       1572 non-null   object \n",
      " 3   genre          1572 non-null   object \n",
      " 4   rating         1572 non-null   float64\n",
      " 5   release_date   1572 non-null   object \n",
      " 6   plot_synopsis  1572 non-null   object \n",
      "dtypes: float64(1), object(6)\n",
      "memory usage: 86.1+ KB\n"
     ]
    },
    {
     "data": {
      "text/plain": [
       "None"
      ]
     },
     "metadata": {},
     "output_type": "display_data"
    },
    {
     "data": {
      "text/html": [
       "<div>\n",
       "<style scoped>\n",
       "    .dataframe tbody tr th:only-of-type {\n",
       "        vertical-align: middle;\n",
       "    }\n",
       "\n",
       "    .dataframe tbody tr th {\n",
       "        vertical-align: top;\n",
       "    }\n",
       "\n",
       "    .dataframe thead th {\n",
       "        text-align: right;\n",
       "    }\n",
       "</style>\n",
       "<table border=\"1\" class=\"dataframe\">\n",
       "  <thead>\n",
       "    <tr style=\"text-align: right;\">\n",
       "      <th></th>\n",
       "      <th>movie_id</th>\n",
       "      <th>plot_summary</th>\n",
       "      <th>duration</th>\n",
       "      <th>genre</th>\n",
       "      <th>rating</th>\n",
       "      <th>release_date</th>\n",
       "      <th>plot_synopsis</th>\n",
       "    </tr>\n",
       "  </thead>\n",
       "  <tbody>\n",
       "    <tr>\n",
       "      <th>0</th>\n",
       "      <td>tt0105112</td>\n",
       "      <td>Former CIA analyst, Jack Ryan is in England wi...</td>\n",
       "      <td>1h 57min</td>\n",
       "      <td>[Action, Thriller]</td>\n",
       "      <td>6.9</td>\n",
       "      <td>1992-06-05</td>\n",
       "      <td>Jack Ryan (Ford) is on a \"working vacation\" in...</td>\n",
       "    </tr>\n",
       "    <tr>\n",
       "      <th>1</th>\n",
       "      <td>tt1204975</td>\n",
       "      <td>Billy (Michael Douglas), Paddy (Robert De Niro...</td>\n",
       "      <td>1h 45min</td>\n",
       "      <td>[Comedy]</td>\n",
       "      <td>6.6</td>\n",
       "      <td>2013-11-01</td>\n",
       "      <td>Four boys around the age of 10 are friends in ...</td>\n",
       "    </tr>\n",
       "    <tr>\n",
       "      <th>2</th>\n",
       "      <td>tt0243655</td>\n",
       "      <td>The setting is Camp Firewood, the year 1981. I...</td>\n",
       "      <td>1h 37min</td>\n",
       "      <td>[Comedy, Romance]</td>\n",
       "      <td>6.7</td>\n",
       "      <td>2002-04-11</td>\n",
       "      <td></td>\n",
       "    </tr>\n",
       "    <tr>\n",
       "      <th>3</th>\n",
       "      <td>tt0040897</td>\n",
       "      <td>Fred C. Dobbs and Bob Curtin, both down on the...</td>\n",
       "      <td>2h 6min</td>\n",
       "      <td>[Adventure, Drama, Western]</td>\n",
       "      <td>8.3</td>\n",
       "      <td>1948-01-24</td>\n",
       "      <td>Fred Dobbs (Humphrey Bogart) and Bob Curtin (T...</td>\n",
       "    </tr>\n",
       "    <tr>\n",
       "      <th>4</th>\n",
       "      <td>tt0126886</td>\n",
       "      <td>Tracy Flick is running unopposed for this year...</td>\n",
       "      <td>1h 43min</td>\n",
       "      <td>[Comedy, Drama, Romance]</td>\n",
       "      <td>7.3</td>\n",
       "      <td>1999-05-07</td>\n",
       "      <td>Jim McAllister (Matthew Broderick) is a much-a...</td>\n",
       "    </tr>\n",
       "    <tr>\n",
       "      <th>...</th>\n",
       "      <td>...</td>\n",
       "      <td>...</td>\n",
       "      <td>...</td>\n",
       "      <td>...</td>\n",
       "      <td>...</td>\n",
       "      <td>...</td>\n",
       "      <td>...</td>\n",
       "    </tr>\n",
       "    <tr>\n",
       "      <th>1567</th>\n",
       "      <td>tt0289879</td>\n",
       "      <td>Evan Treborn grows up in a small town with his...</td>\n",
       "      <td>1h 53min</td>\n",
       "      <td>[Sci-Fi, Thriller]</td>\n",
       "      <td>7.7</td>\n",
       "      <td>2004-01-23</td>\n",
       "      <td>In the year 1998, Evan Treborn (Ashton Kutcher...</td>\n",
       "    </tr>\n",
       "    <tr>\n",
       "      <th>1568</th>\n",
       "      <td>tt1723811</td>\n",
       "      <td>Brandon is a 30-something man living in New Yo...</td>\n",
       "      <td>1h 41min</td>\n",
       "      <td>[Drama]</td>\n",
       "      <td>7.2</td>\n",
       "      <td>2012-01-13</td>\n",
       "      <td>Brandon (Michael Fassbender) is a successful, ...</td>\n",
       "    </tr>\n",
       "    <tr>\n",
       "      <th>1569</th>\n",
       "      <td>tt5013056</td>\n",
       "      <td>Evacuation of Allied soldiers from the British...</td>\n",
       "      <td>1h 46min</td>\n",
       "      <td>[Action, Drama, History]</td>\n",
       "      <td>8.1</td>\n",
       "      <td>2017-07-21</td>\n",
       "      <td>The film alternates between three different pe...</td>\n",
       "    </tr>\n",
       "    <tr>\n",
       "      <th>1570</th>\n",
       "      <td>tt0104014/</td>\n",
       "      <td>For a while now, beautiful 24-year-old Diana B...</td>\n",
       "      <td>1h 33min</td>\n",
       "      <td>[Comedy, Drama]</td>\n",
       "      <td>5.3</td>\n",
       "      <td>1992-02-21</td>\n",
       "      <td></td>\n",
       "    </tr>\n",
       "    <tr>\n",
       "      <th>1571</th>\n",
       "      <td>tt0114142/</td>\n",
       "      <td>The marriage of David Burgess, a senior execut...</td>\n",
       "      <td>1h 32min</td>\n",
       "      <td>[Drama, Thriller]</td>\n",
       "      <td>4.0</td>\n",
       "      <td>1999-01-29</td>\n",
       "      <td></td>\n",
       "    </tr>\n",
       "  </tbody>\n",
       "</table>\n",
       "<p>1572 rows × 7 columns</p>\n",
       "</div>"
      ],
      "text/plain": [
       "        movie_id                                       plot_summary  duration  \\\n",
       "0      tt0105112  Former CIA analyst, Jack Ryan is in England wi...  1h 57min   \n",
       "1      tt1204975  Billy (Michael Douglas), Paddy (Robert De Niro...  1h 45min   \n",
       "2      tt0243655  The setting is Camp Firewood, the year 1981. I...  1h 37min   \n",
       "3      tt0040897  Fred C. Dobbs and Bob Curtin, both down on the...   2h 6min   \n",
       "4      tt0126886  Tracy Flick is running unopposed for this year...  1h 43min   \n",
       "...          ...                                                ...       ...   \n",
       "1567   tt0289879  Evan Treborn grows up in a small town with his...  1h 53min   \n",
       "1568   tt1723811  Brandon is a 30-something man living in New Yo...  1h 41min   \n",
       "1569   tt5013056  Evacuation of Allied soldiers from the British...  1h 46min   \n",
       "1570  tt0104014/  For a while now, beautiful 24-year-old Diana B...  1h 33min   \n",
       "1571  tt0114142/  The marriage of David Burgess, a senior execut...  1h 32min   \n",
       "\n",
       "                            genre  rating release_date  \\\n",
       "0              [Action, Thriller]     6.9   1992-06-05   \n",
       "1                        [Comedy]     6.6   2013-11-01   \n",
       "2               [Comedy, Romance]     6.7   2002-04-11   \n",
       "3     [Adventure, Drama, Western]     8.3   1948-01-24   \n",
       "4        [Comedy, Drama, Romance]     7.3   1999-05-07   \n",
       "...                           ...     ...          ...   \n",
       "1567           [Sci-Fi, Thriller]     7.7   2004-01-23   \n",
       "1568                      [Drama]     7.2   2012-01-13   \n",
       "1569     [Action, Drama, History]     8.1   2017-07-21   \n",
       "1570              [Comedy, Drama]     5.3   1992-02-21   \n",
       "1571            [Drama, Thriller]     4.0   1999-01-29   \n",
       "\n",
       "                                          plot_synopsis  \n",
       "0     Jack Ryan (Ford) is on a \"working vacation\" in...  \n",
       "1     Four boys around the age of 10 are friends in ...  \n",
       "2                                                        \n",
       "3     Fred Dobbs (Humphrey Bogart) and Bob Curtin (T...  \n",
       "4     Jim McAllister (Matthew Broderick) is a much-a...  \n",
       "...                                                 ...  \n",
       "1567  In the year 1998, Evan Treborn (Ashton Kutcher...  \n",
       "1568  Brandon (Michael Fassbender) is a successful, ...  \n",
       "1569  The film alternates between three different pe...  \n",
       "1570                                                     \n",
       "1571                                                     \n",
       "\n",
       "[1572 rows x 7 columns]"
      ]
     },
     "execution_count": 3,
     "metadata": {},
     "output_type": "execute_result"
    }
   ],
   "source": [
    "movie_details = pd.read_json('./data/IMDB_movie_details.json', lines=True)\n",
    "display(movie_details.info())\n",
    "movie_details"
   ]
  },
  {
   "cell_type": "markdown",
   "id": "653a024b",
   "metadata": {
    "hidden": true
   },
   "source": [
    "Convert 'release_date' to a datetime object"
   ]
  },
  {
   "cell_type": "code",
   "execution_count": 4,
   "id": "366546b1",
   "metadata": {
    "ExecuteTime": {
     "end_time": "2022-05-05T02:56:56.261746Z",
     "start_time": "2022-05-05T02:56:56.246839Z"
    },
    "hidden": true
   },
   "outputs": [],
   "source": [
    "movie_details['release_date'] = pd.to_datetime(movie_details.release_date)"
   ]
  },
  {
   "cell_type": "markdown",
   "id": "b361ba6d",
   "metadata": {
    "hidden": true
   },
   "source": [
    "Convert duration into a minute count (integer)"
   ]
  },
  {
   "cell_type": "code",
   "execution_count": 5,
   "id": "ebdc0b96",
   "metadata": {
    "ExecuteTime": {
     "end_time": "2022-05-05T02:56:57.851621Z",
     "start_time": "2022-05-05T02:56:57.803012Z"
    },
    "hidden": true
   },
   "outputs": [],
   "source": [
    "hour = re.compile('(\\d+)h')\n",
    "minute = re.compile('(\\d+)min')\n",
    "\n",
    "def duration_convert(df):\n",
    "    # set intial duration to 0\n",
    "    duration = 0\n",
    "    # find number of hours and minutes\n",
    "    hour_found = hour.findall(df.duration)\n",
    "    minute_found = minute.findall(df.duration)\n",
    "    # if hours, multiply value by 60 and add to duration\n",
    "    if hour_found:\n",
    "        duration += 60 * int(hour_found[0])\n",
    "    # if minutes, add to duration\n",
    "    if minute_found:\n",
    "        duration += int(minute_found[0])\n",
    "    # return total number of minutes\n",
    "    return duration\n",
    "\n",
    "movie_details['duration'] = movie_details.apply(duration_convert, axis=1)"
   ]
  },
  {
   "cell_type": "markdown",
   "id": "6834d6c9",
   "metadata": {
    "hidden": true
   },
   "source": [
    "Confirm that genre contains lists for possible future genre analysis"
   ]
  },
  {
   "cell_type": "code",
   "execution_count": 6,
   "id": "3c9d9c90",
   "metadata": {
    "ExecuteTime": {
     "end_time": "2022-05-05T02:56:59.562536Z",
     "start_time": "2022-05-05T02:56:59.339832Z"
    },
    "hidden": true
   },
   "outputs": [
    {
     "name": "stdout",
     "output_type": "stream",
     "text": [
      "There are 0 entries for genre that are not a list\n"
     ]
    }
   ],
   "source": [
    "for i in list(range(len(movie_details))):\n",
    "    count = 0\n",
    "    if str(type(movie_details.iloc[i].genre)) != \"<class 'list'>\":\n",
    "        count += 1\n",
    "        print(type(movie_details.iloc[i].genre))\n",
    "print(f\"There are {count} entries for genre that are not a list\")"
   ]
  },
  {
   "cell_type": "markdown",
   "id": "77177116",
   "metadata": {
    "hidden": true
   },
   "source": [
    "There are some movie_ids that have a trailing forward slash, we need to fix that to merge the data"
   ]
  },
  {
   "cell_type": "code",
   "execution_count": 7,
   "id": "1b63ec62",
   "metadata": {
    "ExecuteTime": {
     "end_time": "2022-05-05T02:57:01.022881Z",
     "start_time": "2022-05-05T02:57:00.970276Z"
    },
    "hidden": true
   },
   "outputs": [],
   "source": [
    "def fix_movie_id(df):\n",
    "    if df.movie_id[-1] == '/':\n",
    "        return  df.movie_id[:-1]\n",
    "    else:\n",
    "        return df.movie_id\n",
    "\n",
    "movie_details['movie_id'] = movie_details.apply(fix_movie_id, axis=1)"
   ]
  },
  {
   "cell_type": "code",
   "execution_count": 16,
   "id": "e4dec6e0",
   "metadata": {
    "ExecuteTime": {
     "end_time": "2022-05-05T03:00:28.182350Z",
     "start_time": "2022-05-05T03:00:28.163035Z"
    },
    "hidden": true
   },
   "outputs": [
    {
     "data": {
      "text/html": [
       "<div>\n",
       "<style scoped>\n",
       "    .dataframe tbody tr th:only-of-type {\n",
       "        vertical-align: middle;\n",
       "    }\n",
       "\n",
       "    .dataframe tbody tr th {\n",
       "        vertical-align: top;\n",
       "    }\n",
       "\n",
       "    .dataframe thead th {\n",
       "        text-align: right;\n",
       "    }\n",
       "</style>\n",
       "<table border=\"1\" class=\"dataframe\">\n",
       "  <thead>\n",
       "    <tr style=\"text-align: right;\">\n",
       "      <th></th>\n",
       "      <th>duration</th>\n",
       "      <th>rating</th>\n",
       "      <th>release_date</th>\n",
       "    </tr>\n",
       "  </thead>\n",
       "  <tbody>\n",
       "    <tr>\n",
       "      <th>count</th>\n",
       "      <td>1572.000000</td>\n",
       "      <td>1572.000000</td>\n",
       "      <td>1572</td>\n",
       "    </tr>\n",
       "    <tr>\n",
       "      <th>mean</th>\n",
       "      <td>115.269084</td>\n",
       "      <td>7.071819</td>\n",
       "      <td>2001-06-20 14:17:24.274809216</td>\n",
       "    </tr>\n",
       "    <tr>\n",
       "      <th>min</th>\n",
       "      <td>42.000000</td>\n",
       "      <td>2.400000</td>\n",
       "      <td>1921-02-06 00:00:00</td>\n",
       "    </tr>\n",
       "    <tr>\n",
       "      <th>25%</th>\n",
       "      <td>100.000000</td>\n",
       "      <td>6.500000</td>\n",
       "      <td>1995-08-23 06:00:00</td>\n",
       "    </tr>\n",
       "    <tr>\n",
       "      <th>50%</th>\n",
       "      <td>113.000000</td>\n",
       "      <td>7.100000</td>\n",
       "      <td>2003-07-05 12:00:00</td>\n",
       "    </tr>\n",
       "    <tr>\n",
       "      <th>75%</th>\n",
       "      <td>128.000000</td>\n",
       "      <td>7.800000</td>\n",
       "      <td>2010-12-04 18:00:00</td>\n",
       "    </tr>\n",
       "    <tr>\n",
       "      <th>max</th>\n",
       "      <td>321.000000</td>\n",
       "      <td>9.500000</td>\n",
       "      <td>2018-02-15 00:00:00</td>\n",
       "    </tr>\n",
       "    <tr>\n",
       "      <th>std</th>\n",
       "      <td>24.544471</td>\n",
       "      <td>0.967966</td>\n",
       "      <td>NaN</td>\n",
       "    </tr>\n",
       "  </tbody>\n",
       "</table>\n",
       "</div>"
      ],
      "text/plain": [
       "          duration       rating                   release_date\n",
       "count  1572.000000  1572.000000                           1572\n",
       "mean    115.269084     7.071819  2001-06-20 14:17:24.274809216\n",
       "min      42.000000     2.400000            1921-02-06 00:00:00\n",
       "25%     100.000000     6.500000            1995-08-23 06:00:00\n",
       "50%     113.000000     7.100000            2003-07-05 12:00:00\n",
       "75%     128.000000     7.800000            2010-12-04 18:00:00\n",
       "max     321.000000     9.500000            2018-02-15 00:00:00\n",
       "std      24.544471     0.967966                            NaN"
      ]
     },
     "execution_count": 16,
     "metadata": {},
     "output_type": "execute_result"
    }
   ],
   "source": [
    "movie_details.describe(datetime_is_numeric=True)"
   ]
  },
  {
   "cell_type": "markdown",
   "id": "e688c5d5",
   "metadata": {
    "hidden": true
   },
   "source": [
    "The numerical data for our films being reviews shows:\n",
    "- Average film is 115 minutes, with a range of 42 to 321 minutes\n",
    "- Average rating is a 7, with a range from 2.4 to 9.5\n",
    "- The oldest film is from 1921, but the vast majority are released after 1995"
   ]
  },
  {
   "cell_type": "markdown",
   "id": "9fed2c3f",
   "metadata": {
    "hidden": true
   },
   "source": [
    "### plot summary / synopsis"
   ]
  },
  {
   "cell_type": "code",
   "execution_count": 8,
   "id": "ea6e8e94",
   "metadata": {
    "ExecuteTime": {
     "end_time": "2022-05-05T02:57:02.686653Z",
     "start_time": "2022-05-05T02:57:02.666346Z"
    },
    "hidden": true,
    "run_control": {
     "marked": false
    }
   },
   "outputs": [
    {
     "name": "stdout",
     "output_type": "stream",
     "text": [
      "There are 0 entries with an empty summary.\n",
      "There are 233 entries with an empty synopsis.\n"
     ]
    }
   ],
   "source": [
    "empty_summary = len(movie_details[movie_details.plot_summary == ''])\n",
    "empty_synopsis = len(movie_details[movie_details.plot_synopsis == ''])\n",
    "print(f\"There are {empty_summary} entries with an empty summary.\\nThere are {empty_synopsis} entries with an empty synopsis.\")"
   ]
  },
  {
   "cell_type": "code",
   "execution_count": 9,
   "id": "efcae333",
   "metadata": {
    "ExecuteTime": {
     "end_time": "2022-05-05T02:57:03.639819Z",
     "start_time": "2022-05-05T02:57:03.630367Z"
    },
    "hidden": true
   },
   "outputs": [
    {
     "name": "stdout",
     "output_type": "stream",
     "text": [
      "The first entry summary length is: 1034\n",
      "The first entry synopsis length is: 8605\n"
     ]
    }
   ],
   "source": [
    "first_summary_len = len(movie_details.iloc[0].plot_summary)\n",
    "first_synopsis_len = len(movie_details.iloc[0].plot_synopsis)\n",
    "print(f\"The first entry summary length is: {first_summary_len}\\nThe first entry synopsis length is: {first_synopsis_len}\")"
   ]
  },
  {
   "cell_type": "code",
   "execution_count": 10,
   "id": "af457968",
   "metadata": {
    "ExecuteTime": {
     "end_time": "2022-05-05T02:57:05.069890Z",
     "start_time": "2022-05-05T02:57:05.041097Z"
    },
    "hidden": true
   },
   "outputs": [],
   "source": [
    "no_synopsis_ids = list(movie_details[movie_details.plot_synopsis == '']['movie_id'])\n",
    "\n",
    "with open('no_synopsis_ids.pkl', 'wb') as f:\n",
    "    pickle.dump(no_synopsis_ids, f)\n",
    "\n",
    "# load the saved list of indicies\n",
    "with open('no_synopsis_ids.pkl', 'rb') as f:\n",
    "    no_synopsis_ids = pickle.load(f)"
   ]
  },
  {
   "cell_type": "markdown",
   "id": "42be0458",
   "metadata": {
    "hidden": true
   },
   "source": [
    "The first entry's summary and synopsis reveals that the former is shorter than the latter, which is the field containing some missing values. Checking the whole dataframe to see if that relationship is always the case."
   ]
  },
  {
   "cell_type": "code",
   "execution_count": 11,
   "id": "c7d04a96",
   "metadata": {
    "ExecuteTime": {
     "end_time": "2022-05-05T02:57:08.011294Z",
     "start_time": "2022-05-05T02:57:07.463186Z"
    },
    "hidden": true
   },
   "outputs": [
    {
     "name": "stdout",
     "output_type": "stream",
     "text": [
      "There are 23 entries with a synopsis where the summary length is greater than the synopsis length.\n"
     ]
    }
   ],
   "source": [
    "count = 0\n",
    "\n",
    "for i in list(range(len(movie_details))):\n",
    "    if movie_details.iloc[i].plot_synopsis != '':\n",
    "        summary_len = len(movie_details.iloc[i].plot_summary)\n",
    "        synopsis_len = len(movie_details.iloc[i].plot_synopsis)\n",
    "        if summary_len > synopsis_len:\n",
    "            count += 1\n",
    "    \n",
    "print(f\"There are {count} entries with a synopsis where the summary length is greater than the synopsis length.\")"
   ]
  },
  {
   "cell_type": "markdown",
   "id": "76b91fdf",
   "metadata": {
    "hidden": true
   },
   "source": [
    "It would be best to use the film synopsis as it is longer and contains more detail about the film. But we are missing 233 synopses from the data. We have saved the film_ids for these films with missing synopsis. With that many missing, we will use the film summary instead of synopsis if we explore cosine similarity as an approach to spoiler detection."
   ]
  },
  {
   "cell_type": "markdown",
   "id": "21657f7d",
   "metadata": {
    "heading_collapsed": true
   },
   "source": [
    "## Movie Reviews"
   ]
  },
  {
   "cell_type": "code",
   "execution_count": 12,
   "id": "6d1ca975",
   "metadata": {
    "ExecuteTime": {
     "end_time": "2022-05-05T02:58:05.349376Z",
     "start_time": "2022-05-05T02:57:42.797140Z"
    },
    "hidden": true
   },
   "outputs": [
    {
     "name": "stdout",
     "output_type": "stream",
     "text": [
      "<class 'pandas.core.frame.DataFrame'>\n",
      "RangeIndex: 573913 entries, 0 to 573912\n",
      "Data columns (total 7 columns):\n",
      " #   Column          Non-Null Count   Dtype \n",
      "---  ------          --------------   ----- \n",
      " 0   review_date     573913 non-null  object\n",
      " 1   movie_id        573913 non-null  object\n",
      " 2   user_id         573913 non-null  object\n",
      " 3   is_spoiler      573913 non-null  bool  \n",
      " 4   review_text     573913 non-null  object\n",
      " 5   rating          573913 non-null  int64 \n",
      " 6   review_summary  573913 non-null  object\n",
      "dtypes: bool(1), int64(1), object(5)\n",
      "memory usage: 26.8+ MB\n"
     ]
    },
    {
     "data": {
      "text/plain": [
       "None"
      ]
     },
     "metadata": {},
     "output_type": "display_data"
    },
    {
     "data": {
      "text/html": [
       "<div>\n",
       "<style scoped>\n",
       "    .dataframe tbody tr th:only-of-type {\n",
       "        vertical-align: middle;\n",
       "    }\n",
       "\n",
       "    .dataframe tbody tr th {\n",
       "        vertical-align: top;\n",
       "    }\n",
       "\n",
       "    .dataframe thead th {\n",
       "        text-align: right;\n",
       "    }\n",
       "</style>\n",
       "<table border=\"1\" class=\"dataframe\">\n",
       "  <thead>\n",
       "    <tr style=\"text-align: right;\">\n",
       "      <th></th>\n",
       "      <th>review_date</th>\n",
       "      <th>movie_id</th>\n",
       "      <th>user_id</th>\n",
       "      <th>is_spoiler</th>\n",
       "      <th>review_text</th>\n",
       "      <th>rating</th>\n",
       "      <th>review_summary</th>\n",
       "    </tr>\n",
       "  </thead>\n",
       "  <tbody>\n",
       "    <tr>\n",
       "      <th>0</th>\n",
       "      <td>10 February 2006</td>\n",
       "      <td>tt0111161</td>\n",
       "      <td>ur1898687</td>\n",
       "      <td>True</td>\n",
       "      <td>In its Oscar year, Shawshank Redemption (writt...</td>\n",
       "      <td>10</td>\n",
       "      <td>A classic piece of unforgettable film-making.</td>\n",
       "    </tr>\n",
       "    <tr>\n",
       "      <th>1</th>\n",
       "      <td>6 September 2000</td>\n",
       "      <td>tt0111161</td>\n",
       "      <td>ur0842118</td>\n",
       "      <td>True</td>\n",
       "      <td>The Shawshank Redemption is without a doubt on...</td>\n",
       "      <td>10</td>\n",
       "      <td>Simply amazing. The best film of the 90's.</td>\n",
       "    </tr>\n",
       "    <tr>\n",
       "      <th>2</th>\n",
       "      <td>3 August 2001</td>\n",
       "      <td>tt0111161</td>\n",
       "      <td>ur1285640</td>\n",
       "      <td>True</td>\n",
       "      <td>I believe that this film is the best story eve...</td>\n",
       "      <td>8</td>\n",
       "      <td>The best story ever told on film</td>\n",
       "    </tr>\n",
       "    <tr>\n",
       "      <th>3</th>\n",
       "      <td>1 September 2002</td>\n",
       "      <td>tt0111161</td>\n",
       "      <td>ur1003471</td>\n",
       "      <td>True</td>\n",
       "      <td>**Yes, there are SPOILERS here**This film has ...</td>\n",
       "      <td>10</td>\n",
       "      <td>Busy dying or busy living?</td>\n",
       "    </tr>\n",
       "    <tr>\n",
       "      <th>4</th>\n",
       "      <td>20 May 2004</td>\n",
       "      <td>tt0111161</td>\n",
       "      <td>ur0226855</td>\n",
       "      <td>True</td>\n",
       "      <td>At the heart of this extraordinary movie is a ...</td>\n",
       "      <td>8</td>\n",
       "      <td>Great story, wondrously told and acted</td>\n",
       "    </tr>\n",
       "    <tr>\n",
       "      <th>...</th>\n",
       "      <td>...</td>\n",
       "      <td>...</td>\n",
       "      <td>...</td>\n",
       "      <td>...</td>\n",
       "      <td>...</td>\n",
       "      <td>...</td>\n",
       "      <td>...</td>\n",
       "    </tr>\n",
       "    <tr>\n",
       "      <th>573908</th>\n",
       "      <td>8 August 1999</td>\n",
       "      <td>tt0139239</td>\n",
       "      <td>ur0100166</td>\n",
       "      <td>False</td>\n",
       "      <td>Go is wise, fast and pure entertainment. Assem...</td>\n",
       "      <td>10</td>\n",
       "      <td>The best teen movie of the nineties</td>\n",
       "    </tr>\n",
       "    <tr>\n",
       "      <th>573909</th>\n",
       "      <td>31 July 1999</td>\n",
       "      <td>tt0139239</td>\n",
       "      <td>ur0021767</td>\n",
       "      <td>False</td>\n",
       "      <td>Well, what shall I say. this one´s fun at any ...</td>\n",
       "      <td>9</td>\n",
       "      <td>Go - see the movie</td>\n",
       "    </tr>\n",
       "    <tr>\n",
       "      <th>573910</th>\n",
       "      <td>20 July 1999</td>\n",
       "      <td>tt0139239</td>\n",
       "      <td>ur0392750</td>\n",
       "      <td>False</td>\n",
       "      <td>Go is the best movie I have ever seen, and I'v...</td>\n",
       "      <td>10</td>\n",
       "      <td>It's the best movie I've ever seen</td>\n",
       "    </tr>\n",
       "    <tr>\n",
       "      <th>573911</th>\n",
       "      <td>11 June 1999</td>\n",
       "      <td>tt0139239</td>\n",
       "      <td>ur0349105</td>\n",
       "      <td>False</td>\n",
       "      <td>Call this 1999 teenage version of Pulp Fiction...</td>\n",
       "      <td>3</td>\n",
       "      <td>Haven't we seen this before?</td>\n",
       "    </tr>\n",
       "    <tr>\n",
       "      <th>573912</th>\n",
       "      <td>3 May 1999</td>\n",
       "      <td>tt0139239</td>\n",
       "      <td>ur0156431</td>\n",
       "      <td>False</td>\n",
       "      <td>Why was this movie made? No doubt to sucker in...</td>\n",
       "      <td>2</td>\n",
       "      <td>Go doesn't go anywhere</td>\n",
       "    </tr>\n",
       "  </tbody>\n",
       "</table>\n",
       "<p>573913 rows × 7 columns</p>\n",
       "</div>"
      ],
      "text/plain": [
       "             review_date   movie_id    user_id  is_spoiler  \\\n",
       "0       10 February 2006  tt0111161  ur1898687        True   \n",
       "1       6 September 2000  tt0111161  ur0842118        True   \n",
       "2          3 August 2001  tt0111161  ur1285640        True   \n",
       "3       1 September 2002  tt0111161  ur1003471        True   \n",
       "4            20 May 2004  tt0111161  ur0226855        True   \n",
       "...                  ...        ...        ...         ...   \n",
       "573908     8 August 1999  tt0139239  ur0100166       False   \n",
       "573909      31 July 1999  tt0139239  ur0021767       False   \n",
       "573910      20 July 1999  tt0139239  ur0392750       False   \n",
       "573911      11 June 1999  tt0139239  ur0349105       False   \n",
       "573912        3 May 1999  tt0139239  ur0156431       False   \n",
       "\n",
       "                                              review_text  rating  \\\n",
       "0       In its Oscar year, Shawshank Redemption (writt...      10   \n",
       "1       The Shawshank Redemption is without a doubt on...      10   \n",
       "2       I believe that this film is the best story eve...       8   \n",
       "3       **Yes, there are SPOILERS here**This film has ...      10   \n",
       "4       At the heart of this extraordinary movie is a ...       8   \n",
       "...                                                   ...     ...   \n",
       "573908  Go is wise, fast and pure entertainment. Assem...      10   \n",
       "573909  Well, what shall I say. this one´s fun at any ...       9   \n",
       "573910  Go is the best movie I have ever seen, and I'v...      10   \n",
       "573911  Call this 1999 teenage version of Pulp Fiction...       3   \n",
       "573912  Why was this movie made? No doubt to sucker in...       2   \n",
       "\n",
       "                                       review_summary  \n",
       "0       A classic piece of unforgettable film-making.  \n",
       "1          Simply amazing. The best film of the 90's.  \n",
       "2                    The best story ever told on film  \n",
       "3                          Busy dying or busy living?  \n",
       "4              Great story, wondrously told and acted  \n",
       "...                                               ...  \n",
       "573908            The best teen movie of the nineties  \n",
       "573909                             Go - see the movie  \n",
       "573910             It's the best movie I've ever seen  \n",
       "573911                   Haven't we seen this before?  \n",
       "573912                         Go doesn't go anywhere  \n",
       "\n",
       "[573913 rows x 7 columns]"
      ]
     },
     "execution_count": 12,
     "metadata": {},
     "output_type": "execute_result"
    }
   ],
   "source": [
    "movie_reviews = pd.read_json('./data/IMDB_reviews.json', lines=True)\n",
    "display(movie_reviews.info())\n",
    "movie_reviews"
   ]
  },
  {
   "cell_type": "code",
   "execution_count": 13,
   "id": "59552a0e",
   "metadata": {
    "ExecuteTime": {
     "end_time": "2022-05-05T02:58:05.610803Z",
     "start_time": "2022-05-05T02:58:05.489547Z"
    },
    "hidden": true
   },
   "outputs": [
    {
     "name": "stdout",
     "output_type": "stream",
     "text": [
      "There are 1572 entries in movie_details and 1572 unique movie_id's in movie_reviews\n"
     ]
    }
   ],
   "source": [
    "unique_movies_in_reviews = movie_reviews.movie_id.nunique()\n",
    "print(f\"There are {len(movie_details)} entries in movie_details and {unique_movies_in_reviews} unique movie_id's in movie_reviews\")"
   ]
  },
  {
   "cell_type": "markdown",
   "id": "d1b20a04",
   "metadata": {
    "hidden": true
   },
   "source": [
    "Converting the review_date to datetime"
   ]
  },
  {
   "cell_type": "code",
   "execution_count": 14,
   "id": "7425e306",
   "metadata": {
    "ExecuteTime": {
     "end_time": "2022-05-05T02:59:20.916342Z",
     "start_time": "2022-05-05T02:58:25.259082Z"
    },
    "hidden": true
   },
   "outputs": [],
   "source": [
    "movie_reviews['review_date'] = pd.to_datetime(movie_reviews.review_date)"
   ]
  },
  {
   "cell_type": "code",
   "execution_count": 15,
   "id": "3b5af0ce",
   "metadata": {
    "ExecuteTime": {
     "end_time": "2022-05-05T02:59:21.116126Z",
     "start_time": "2022-05-05T02:59:21.041575Z"
    },
    "hidden": true
   },
   "outputs": [
    {
     "data": {
      "text/html": [
       "<div>\n",
       "<style scoped>\n",
       "    .dataframe tbody tr th:only-of-type {\n",
       "        vertical-align: middle;\n",
       "    }\n",
       "\n",
       "    .dataframe tbody tr th {\n",
       "        vertical-align: top;\n",
       "    }\n",
       "\n",
       "    .dataframe thead th {\n",
       "        text-align: right;\n",
       "    }\n",
       "</style>\n",
       "<table border=\"1\" class=\"dataframe\">\n",
       "  <thead>\n",
       "    <tr style=\"text-align: right;\">\n",
       "      <th></th>\n",
       "      <th>review_date</th>\n",
       "      <th>rating</th>\n",
       "    </tr>\n",
       "  </thead>\n",
       "  <tbody>\n",
       "    <tr>\n",
       "      <th>count</th>\n",
       "      <td>573913</td>\n",
       "      <td>573913.000000</td>\n",
       "    </tr>\n",
       "    <tr>\n",
       "      <th>mean</th>\n",
       "      <td>2009-07-20 04:42:25.548193280</td>\n",
       "      <td>6.954254</td>\n",
       "    </tr>\n",
       "    <tr>\n",
       "      <th>min</th>\n",
       "      <td>1998-07-28 00:00:00</td>\n",
       "      <td>1.000000</td>\n",
       "    </tr>\n",
       "    <tr>\n",
       "      <th>25%</th>\n",
       "      <td>2005-06-18 00:00:00</td>\n",
       "      <td>5.000000</td>\n",
       "    </tr>\n",
       "    <tr>\n",
       "      <th>50%</th>\n",
       "      <td>2009-07-25 00:00:00</td>\n",
       "      <td>8.000000</td>\n",
       "    </tr>\n",
       "    <tr>\n",
       "      <th>75%</th>\n",
       "      <td>2014-05-15 00:00:00</td>\n",
       "      <td>10.000000</td>\n",
       "    </tr>\n",
       "    <tr>\n",
       "      <th>max</th>\n",
       "      <td>2018-01-07 00:00:00</td>\n",
       "      <td>10.000000</td>\n",
       "    </tr>\n",
       "    <tr>\n",
       "      <th>std</th>\n",
       "      <td>NaN</td>\n",
       "      <td>2.956295</td>\n",
       "    </tr>\n",
       "  </tbody>\n",
       "</table>\n",
       "</div>"
      ],
      "text/plain": [
       "                         review_date         rating\n",
       "count                         573913  573913.000000\n",
       "mean   2009-07-20 04:42:25.548193280       6.954254\n",
       "min              1998-07-28 00:00:00       1.000000\n",
       "25%              2005-06-18 00:00:00       5.000000\n",
       "50%              2009-07-25 00:00:00       8.000000\n",
       "75%              2014-05-15 00:00:00      10.000000\n",
       "max              2018-01-07 00:00:00      10.000000\n",
       "std                              NaN       2.956295"
      ]
     },
     "execution_count": 15,
     "metadata": {},
     "output_type": "execute_result"
    }
   ],
   "source": [
    "movie_reviews.describe(datetime_is_numeric=True)"
   ]
  },
  {
   "cell_type": "markdown",
   "id": "59f201c1",
   "metadata": {
    "hidden": true
   },
   "source": [
    "The only numerical features from movie reviews are the date of the review and the rating. If we look at these compared to the data from the films being reviewed, we see:\n",
    "- The reviews are mostly from 2005 and later\n",
    "- The user rating is, on average, the same as the metadata rating. The range is larger, from 1 to 10"
   ]
  },
  {
   "cell_type": "markdown",
   "id": "c6730cd8",
   "metadata": {
    "hidden": true
   },
   "source": [
    "### Entity extraction, character and word counts"
   ]
  },
  {
   "cell_type": "markdown",
   "id": "63f280a9",
   "metadata": {
    "hidden": true
   },
   "source": [
    "We initially had interest in entitiy extraction to compare reviews with spoilers to those without. This processing takes just under 8 hours for the review text, much shorter for the synopsis text. The functions were manually changed to pull the correct text when performing the same processing on the synopsis text."
   ]
  },
  {
   "cell_type": "code",
   "execution_count": null,
   "id": "58b5da6b",
   "metadata": {
    "hidden": true
   },
   "outputs": [],
   "source": [
    "# nlp = spacy.load('en_core_web_sm')\n",
    "\n",
    "# def entity_info(row):\n",
    "#     # get the review text\n",
    "#     review = row.review_text\n",
    "#     # generate new features for character and word count of the summary\n",
    "#     row['char_count'] = len(review)\n",
    "#     row['word_count'] = len(review.split(' '))\n",
    "#     # get the entities with spacy\n",
    "#     doc = nlp(review)\n",
    "#     # initialize list of entities and their counts\n",
    "#     ent_list = []\n",
    "#     ent_count = []\n",
    "#     # append each entity to the list of entities\n",
    "#     for ent in doc.ents:\n",
    "#         ent_list.append(ent.text)\n",
    "#     # generate the set of unique entities\n",
    "#     ent_set = set(ent_list)\n",
    "#     # append a tuple to ent_count with each found entity and its count\n",
    "#     for ent in ent_set:\n",
    "#         ent_count.append((ent, ent_list.count(ent)))\n",
    "#     # set number of unique entities and initialize the total count to 0\n",
    "#     unique_ents = len(ent_count)\n",
    "#     unique_ent_count = 0\n",
    "#     # for each tuple, add the count from the entity frequency to the total count\n",
    "#     for x in ent_count:\n",
    "#         unique_ent_count += x[1]\n",
    "#     # get the average count for an entity\n",
    "#     if unique_ents != 0:\n",
    "#         avg_count = round(unique_ent_count / unique_ents, 2)\n",
    "#     else:\n",
    "#         avg_count = 0\n",
    "#     # generate new features for the total entity count, unique count, and avg frequency\n",
    "#     row['entity_count'] = len(ent_list)\n",
    "#     row['unique_entities'] = unique_ents\n",
    "#     row['avg_entity_freq'] = avg_count\n",
    "#     # return the row\n",
    "#     return row\n",
    "\n",
    "# movie_reviews = movie_reviews.apply(entity_info, axis=1)"
   ]
  },
  {
   "cell_type": "markdown",
   "id": "177d602c",
   "metadata": {
    "hidden": true
   },
   "source": [
    "We also had interest in character and word counts, which is what this cell does."
   ]
  },
  {
   "cell_type": "code",
   "execution_count": null,
   "id": "a3209718",
   "metadata": {
    "hidden": true
   },
   "outputs": [],
   "source": [
    "# summary_stopwords = stopwords.words('english')\n",
    "# pattern = \"([a-zA-Z]+(?:'[a-z]+)?)\"\n",
    "# tokenizer = RegexpTokenizer(pattern)\n",
    "\n",
    "# def review_tokenize(row):\n",
    "#     # get the film review\n",
    "#     review = row.review_text\n",
    "#     # tokenize\n",
    "#     review_tokens = tokenizer.tokenize(review)\n",
    "#     review_tokens = [token.lower() for token in review_tokens]\n",
    "#     review_tokens = [token for token in review_tokens if token not in summary_stopwords]\n",
    "#     # set new feature to token list\n",
    "#     row['review_tokens'] = review_tokens\n",
    "#     row['review_token_count'] = len(review_tokens)\n",
    "#     return row\n",
    "\n",
    "# movie_reviews = movie_reviews.apply(review_tokenize, axis=1)"
   ]
  },
  {
   "cell_type": "markdown",
   "id": "1ad5bea1",
   "metadata": {},
   "source": [
    "## Merge/Load all data"
   ]
  },
  {
   "cell_type": "markdown",
   "id": "9c91e5a7",
   "metadata": {},
   "source": [
    "To save time, the processing was performed once, the data merged, and the file saved to disk for easier loading later."
   ]
  },
  {
   "cell_type": "code",
   "execution_count": 1,
   "id": "b9905230",
   "metadata": {
    "ExecuteTime": {
     "end_time": "2022-05-05T03:13:08.459645Z",
     "start_time": "2022-05-05T03:13:08.452206Z"
    }
   },
   "outputs": [],
   "source": [
    "# merged_df = pd.merge(movie_details, movie_reviews, on='movie_id', how=\"right\")\n",
    "\n",
    "# corrected_columns = ['movie_id', 'plot_summary', 'duration', 'genre', 'film_rating',\n",
    "#                      'release_date', 'plot_synopsis', 'summary_char_count',\n",
    "#                      'summary_word_count', 'summary_entity_count', 'summary_unique_entities',\n",
    "#                      'summary_avg_entity_freq', 'summary_tokens', 'summary_token_count',\n",
    "#                      'review_date', 'user_id', 'is_spoiler', 'review_text', 'reviewer_rating',\n",
    "#                      'review_summary', 'review_char_count', 'review_word_count', 'review_entity_count',\n",
    "#                      'review_unique_entities', 'review_avg_entity_freq', 'review_tokens',\n",
    "#                      'review_token_count']\n",
    "\n",
    "# merged_df.columns = corrected_columns\n",
    "\n",
    "# merged_df.to_parquet('./data/full_dataframe.parquet')"
   ]
  },
  {
   "cell_type": "markdown",
   "id": "52cbe643",
   "metadata": {},
   "source": [
    "This cell reads in the full dataframe from the saved parquet file. The file is large, 573,913 entries with 27 features, takes up about 1.9 GB of space. The load takes about a minute"
   ]
  },
  {
   "cell_type": "code",
   "execution_count": 4,
   "id": "9b1ea75f",
   "metadata": {
    "ExecuteTime": {
     "end_time": "2022-05-05T19:19:10.629595Z",
     "start_time": "2022-05-05T19:17:40.548708Z"
    }
   },
   "outputs": [],
   "source": [
    "merged_df = pd.read_parquet('./data/full_dataframe.parquet')"
   ]
  },
  {
   "cell_type": "code",
   "execution_count": 5,
   "id": "4bf45e31",
   "metadata": {
    "ExecuteTime": {
     "end_time": "2022-05-05T19:19:11.917687Z",
     "start_time": "2022-05-05T19:19:11.903799Z"
    }
   },
   "outputs": [],
   "source": [
    "merged_df['is_spoiler'] = merged_df.is_spoiler.astype(int)"
   ]
  },
  {
   "cell_type": "markdown",
   "id": "a5585e6a",
   "metadata": {},
   "source": [
    "# Exploring reviews"
   ]
  },
  {
   "cell_type": "code",
   "execution_count": 5,
   "id": "7c585d8f",
   "metadata": {
    "ExecuteTime": {
     "end_time": "2022-05-05T03:17:03.861739Z",
     "start_time": "2022-05-05T03:17:03.802694Z"
    }
   },
   "outputs": [
    {
     "data": {
      "text/plain": [
       "count    573913.000000\n",
       "mean        259.399052\n",
       "std         195.438284\n",
       "min           1.000000\n",
       "25%         131.000000\n",
       "50%         189.000000\n",
       "75%         322.000000\n",
       "max        2673.000000\n",
       "Name: review_word_count, dtype: float64"
      ]
     },
     "execution_count": 5,
     "metadata": {},
     "output_type": "execute_result"
    }
   ],
   "source": [
    "merged_df.review_word_count.describe()"
   ]
  },
  {
   "cell_type": "markdown",
   "id": "7df3874a",
   "metadata": {},
   "source": [
    "## Word Count"
   ]
  },
  {
   "cell_type": "code",
   "execution_count": 6,
   "id": "20d3825e",
   "metadata": {
    "ExecuteTime": {
     "end_time": "2022-05-05T03:17:09.803759Z",
     "start_time": "2022-05-05T03:17:09.779951Z"
    }
   },
   "outputs": [
    {
     "name": "stdout",
     "output_type": "stream",
     "text": [
      "Upper outlier boundary for word count: 846\n",
      "Lower 2.5% reviews word count: 54.0\n",
      "Upper 2.5% reviews word count: 848.0\n"
     ]
    }
   ],
   "source": [
    "outlier_wc = round(merged_df.review_word_count.mean() + (3 * merged_df.review_word_count.std()),)\n",
    "print(\"Upper outlier boundary for word count:\", outlier_wc)\n",
    "print(\"Lower 2.5% reviews word count:\", merged_df.review_word_count.quantile(0.025))\n",
    "print(\"Upper 2.5% reviews word count:\", merged_df.review_word_count.quantile(0.975))"
   ]
  },
  {
   "cell_type": "markdown",
   "id": "6b013a3e",
   "metadata": {},
   "source": [
    "We saw that our minimum review word count is 1, and our maximum is 2673, but our average is just about 260 words. Defining outliers as 3x the std from the mean, we would not have any lower bound outliers, and our upper bound outliers would be 846 words. Our bottom 2.5% of reviews contains fewer words than 54 and our upper 2.5% contain more words than 848, which is close to the threshold we calculated for outliers.\n",
    "\n",
    "54 words is still quite a few and our model may see value in reviews with that many words, but there may not be value in reviews that are really short.\n",
    "\n",
    "Lets explore restricting reviews by length by looking at the counts for reviews with low word counts. We can modify the max_count value in this next cell to get the frequency by word count, total, and the indicies of all the reviews in question for easy removal"
   ]
  },
  {
   "cell_type": "code",
   "execution_count": 7,
   "id": "81449e18",
   "metadata": {
    "ExecuteTime": {
     "end_time": "2022-05-05T03:17:11.542013Z",
     "start_time": "2022-05-05T03:17:11.421175Z"
    }
   },
   "outputs": [
    {
     "name": "stdout",
     "output_type": "stream",
     "text": [
      "There are 14512 reviews containing 54 or fewer words.\n"
     ]
    }
   ],
   "source": [
    "total = 0\n",
    "min_count = 1\n",
    "max_count = 54\n",
    "review_indices = []\n",
    "\n",
    "for x in range(min_count,max_count+1):\n",
    "    df = merged_df[merged_df.review_word_count == x]\n",
    "    indices = list(df.index)\n",
    "    review_indices.extend(indices)\n",
    "    count = len(df)\n",
    "    total += count\n",
    "#     print(f\"Reviews with {x} words: {count}\")\n",
    "print(f\"There are {total} reviews containing {max_count} or fewer words.\")"
   ]
  },
  {
   "cell_type": "code",
   "execution_count": 8,
   "id": "29d6df12",
   "metadata": {
    "ExecuteTime": {
     "end_time": "2022-05-05T03:17:13.234056Z",
     "start_time": "2022-05-05T03:17:13.189643Z"
    }
   },
   "outputs": [
    {
     "data": {
      "text/plain": [
       "0    14211\n",
       "1      301\n",
       "Name: is_spoiler, dtype: int64"
      ]
     },
     "execution_count": 8,
     "metadata": {},
     "output_type": "execute_result"
    }
   ],
   "source": [
    "merged_df.iloc[review_indices].is_spoiler.value_counts()"
   ]
  },
  {
   "cell_type": "code",
   "execution_count": 9,
   "id": "614993c3",
   "metadata": {
    "ExecuteTime": {
     "end_time": "2022-05-05T03:17:16.770390Z",
     "start_time": "2022-05-05T03:17:14.897770Z"
    }
   },
   "outputs": [
    {
     "name": "stdout",
     "output_type": "stream",
     "text": [
      "There are 14518 reviews containing 846 or more words.\n"
     ]
    }
   ],
   "source": [
    "total = 0\n",
    "min_count = 846\n",
    "max_count = 2673\n",
    "review_indices = []\n",
    "\n",
    "for x in range(min_count,max_count+1):\n",
    "    df = merged_df[merged_df.review_word_count == x]\n",
    "    indices = list(df.index)\n",
    "    review_indices.extend(indices)\n",
    "    count = len(df)\n",
    "    total += count\n",
    "#     if count > 0:\n",
    "#         print(f\"Reviews with {x} words: {count}\")\n",
    "print(f\"There are {total} reviews containing {min_count} or more words.\")"
   ]
  },
  {
   "cell_type": "code",
   "execution_count": 10,
   "id": "c708b195",
   "metadata": {
    "ExecuteTime": {
     "end_time": "2022-05-05T03:17:18.446229Z",
     "start_time": "2022-05-05T03:17:18.402505Z"
    }
   },
   "outputs": [
    {
     "data": {
      "text/plain": [
       "1    7437\n",
       "0    7081\n",
       "Name: is_spoiler, dtype: int64"
      ]
     },
     "execution_count": 10,
     "metadata": {},
     "output_type": "execute_result"
    }
   ],
   "source": [
    "merged_df.iloc[review_indices].is_spoiler.value_counts()"
   ]
  },
  {
   "cell_type": "markdown",
   "id": "d64ce2c2",
   "metadata": {},
   "source": [
    "There are 14,512 reviews under 54 words and most of them (97.9%) are not spoilers. There are 14,518 reviews over 846 words, and unfortunately they contain a small majority of spoilers, much more by percent than our whole dataset. \n",
    "\n",
    "We also discovered through investigation that we have some not english text in reviews, one example in review at iloc 1533. We will engineer a new feature using langdetect to flag any reviews that are not in english."
   ]
  },
  {
   "cell_type": "markdown",
   "id": "e54181b6",
   "metadata": {},
   "source": [
    "## Language"
   ]
  },
  {
   "cell_type": "code",
   "execution_count": 11,
   "id": "a6f91f92",
   "metadata": {
    "ExecuteTime": {
     "end_time": "2022-05-05T03:17:20.137809Z",
     "start_time": "2022-05-05T03:17:20.127393Z"
    }
   },
   "outputs": [
    {
     "data": {
      "text/plain": [
       "'Izledigim filmeler arasinda pek hayli yer kaplamaktadir'"
      ]
     },
     "execution_count": 11,
     "metadata": {},
     "output_type": "execute_result"
    }
   ],
   "source": [
    "merged_df.iloc[1533].review_text"
   ]
  },
  {
   "cell_type": "code",
   "execution_count": 12,
   "id": "654acde7",
   "metadata": {
    "ExecuteTime": {
     "end_time": "2022-05-05T03:17:23.519099Z",
     "start_time": "2022-05-05T03:17:21.754423Z"
    }
   },
   "outputs": [
    {
     "data": {
      "text/plain": [
       "'tr'"
      ]
     },
     "execution_count": 12,
     "metadata": {},
     "output_type": "execute_result"
    }
   ],
   "source": [
    "detect(merged_df.iloc[1533].review_text)"
   ]
  },
  {
   "cell_type": "code",
   "execution_count": 13,
   "id": "931d42d6",
   "metadata": {
    "ExecuteTime": {
     "end_time": "2022-05-05T03:17:25.750038Z",
     "start_time": "2022-05-05T03:17:25.735627Z"
    },
    "scrolled": true
   },
   "outputs": [
    {
     "name": "stdout",
     "output_type": "stream",
     "text": [
      "Number of non-english reviews: 53\n"
     ]
    }
   ],
   "source": [
    "# def non_english_review(df):\n",
    "#     review = df.review_text\n",
    "#     if detect(review) != 'en':\n",
    "#         return 1\n",
    "#     else:\n",
    "#         return 0\n",
    "\n",
    "# this takes about an hour and a half\n",
    "# merged_df['non_english_review'] = merged_df.apply(non_english_review, axis=1)\n",
    "\n",
    "# pulling the index values of those entries with non-english reviews\n",
    "# non_english_reviews = list(merged_df[merged_df.non_english_review == 1].index)\n",
    "# going to save this to a pickle file to load later for removing these reviews instead of processing\n",
    "# each time\n",
    "# with open('non_english_reviews.pkl', 'wb') as f:\n",
    "#     pickle.dump(non_english_reviews, f)\n",
    "\n",
    "# load the saved list of indicies\n",
    "with open('non_english_reviews.pkl', 'rb') as f:\n",
    "    non_english_reviews = pickle.load(f)\n",
    "\n",
    "# look at how many non-english reviews we have\n",
    "print(f\"Number of non-english reviews: {len(non_english_reviews)}\")"
   ]
  },
  {
   "cell_type": "markdown",
   "id": "1aedfd53",
   "metadata": {},
   "source": [
    "With so few non-english reviews, we will remove them from consideration in modeling.\n",
    "\n",
    "Something we're not sure about is restricting our reviews based on word count, specifically very low or very high counts. Our average review count was about 260, so we are concerned about picking up on what is spoiler-y in those 'outlier' word count reviews."
   ]
  },
  {
   "cell_type": "code",
   "execution_count": 14,
   "id": "3803b407",
   "metadata": {
    "ExecuteTime": {
     "end_time": "2022-05-05T03:17:33.596463Z",
     "start_time": "2022-05-05T03:17:33.408442Z"
    }
   },
   "outputs": [],
   "source": [
    "merged_df.drop(non_english_reviews, inplace=True)\n",
    "merged_df.reset_index(drop=True, inplace=True)"
   ]
  },
  {
   "cell_type": "markdown",
   "id": "fe934dc6",
   "metadata": {},
   "source": [
    "## WordCloud"
   ]
  },
  {
   "cell_type": "code",
   "execution_count": 4,
   "id": "bf6f5f35",
   "metadata": {
    "ExecuteTime": {
     "end_time": "2022-05-05T19:22:21.207460Z",
     "start_time": "2022-05-05T19:22:19.068460Z"
    }
   },
   "outputs": [],
   "source": [
    "review_df = pd.read_parquet('./data/reviews_lemmed.parquet', columns=['is_spoiler', 'review_text_lemmed'])"
   ]
  },
  {
   "cell_type": "code",
   "execution_count": 5,
   "id": "0cf78eb5",
   "metadata": {
    "ExecuteTime": {
     "end_time": "2022-05-05T19:22:22.485492Z",
     "start_time": "2022-05-05T19:22:22.468338Z"
    }
   },
   "outputs": [
    {
     "data": {
      "text/html": [
       "<div>\n",
       "<style scoped>\n",
       "    .dataframe tbody tr th:only-of-type {\n",
       "        vertical-align: middle;\n",
       "    }\n",
       "\n",
       "    .dataframe tbody tr th {\n",
       "        vertical-align: top;\n",
       "    }\n",
       "\n",
       "    .dataframe thead th {\n",
       "        text-align: right;\n",
       "    }\n",
       "</style>\n",
       "<table border=\"1\" class=\"dataframe\">\n",
       "  <thead>\n",
       "    <tr style=\"text-align: right;\">\n",
       "      <th></th>\n",
       "      <th>is_spoiler</th>\n",
       "      <th>review_text_lemmed</th>\n",
       "    </tr>\n",
       "  </thead>\n",
       "  <tbody>\n",
       "    <tr>\n",
       "      <th>0</th>\n",
       "      <td>1</td>\n",
       "      <td>oscar year shawshank redemption write direct f...</td>\n",
       "    </tr>\n",
       "    <tr>\n",
       "      <th>1</th>\n",
       "      <td>1</td>\n",
       "      <td>shawshank redemption without doubt one brillia...</td>\n",
       "    </tr>\n",
       "    <tr>\n",
       "      <th>2</th>\n",
       "      <td>1</td>\n",
       "      <td>believe film best story ever tell film i'm tel...</td>\n",
       "    </tr>\n",
       "    <tr>\n",
       "      <th>3</th>\n",
       "      <td>1</td>\n",
       "      <td>yes spoiler film emotional impact find hard wr...</td>\n",
       "    </tr>\n",
       "    <tr>\n",
       "      <th>4</th>\n",
       "      <td>1</td>\n",
       "      <td>heart extraordinary movie brilliant indelible ...</td>\n",
       "    </tr>\n",
       "    <tr>\n",
       "      <th>...</th>\n",
       "      <td>...</td>\n",
       "      <td>...</td>\n",
       "    </tr>\n",
       "    <tr>\n",
       "      <th>573908</th>\n",
       "      <td>0</td>\n",
       "      <td>go wise fast pure entertainment assemble excep...</td>\n",
       "    </tr>\n",
       "    <tr>\n",
       "      <th>573909</th>\n",
       "      <td>0</td>\n",
       "      <td>well shall say one fun rate three plotlines or...</td>\n",
       "    </tr>\n",
       "    <tr>\n",
       "      <th>573910</th>\n",
       "      <td>0</td>\n",
       "      <td>go best movie ever see i've see lot movie read...</td>\n",
       "    </tr>\n",
       "    <tr>\n",
       "      <th>573911</th>\n",
       "      <td>0</td>\n",
       "      <td>call teenage version pulp fiction whatever wan...</td>\n",
       "    </tr>\n",
       "    <tr>\n",
       "      <th>573912</th>\n",
       "      <td>0</td>\n",
       "      <td>movie make doubt sucker family rebel mtv faith...</td>\n",
       "    </tr>\n",
       "  </tbody>\n",
       "</table>\n",
       "<p>573913 rows × 2 columns</p>\n",
       "</div>"
      ],
      "text/plain": [
       "        is_spoiler                                 review_text_lemmed\n",
       "0                1  oscar year shawshank redemption write direct f...\n",
       "1                1  shawshank redemption without doubt one brillia...\n",
       "2                1  believe film best story ever tell film i'm tel...\n",
       "3                1  yes spoiler film emotional impact find hard wr...\n",
       "4                1  heart extraordinary movie brilliant indelible ...\n",
       "...            ...                                                ...\n",
       "573908           0  go wise fast pure entertainment assemble excep...\n",
       "573909           0  well shall say one fun rate three plotlines or...\n",
       "573910           0  go best movie ever see i've see lot movie read...\n",
       "573911           0  call teenage version pulp fiction whatever wan...\n",
       "573912           0  movie make doubt sucker family rebel mtv faith...\n",
       "\n",
       "[573913 rows x 2 columns]"
      ]
     },
     "execution_count": 5,
     "metadata": {},
     "output_type": "execute_result"
    }
   ],
   "source": [
    "review_df"
   ]
  },
  {
   "cell_type": "code",
   "execution_count": 11,
   "id": "bf8707df",
   "metadata": {
    "ExecuteTime": {
     "end_time": "2022-05-05T19:24:21.321115Z",
     "start_time": "2022-05-05T19:24:20.609208Z"
    }
   },
   "outputs": [],
   "source": [
    "spoiler_words = review_df[review_df.is_spoiler == 1]['review_text_lemmed'].str.cat(sep=' ')\n",
    "non_spoiler_words = review_df[review_df.is_spoiler == 0]['review_text_lemmed'].str.cat(sep=' ')"
   ]
  },
  {
   "cell_type": "code",
   "execution_count": 16,
   "id": "6de664e9",
   "metadata": {
    "ExecuteTime": {
     "end_time": "2022-05-05T21:09:55.964396Z",
     "start_time": "2022-05-05T21:09:55.956460Z"
    }
   },
   "outputs": [
    {
     "data": {
      "text/plain": [
       "'want write th comment shawshank redemption sure almost everything could possibly say say like many people write comment profoundly move simple eloquent'"
      ]
     },
     "execution_count": 16,
     "metadata": {},
     "output_type": "execute_result"
    }
   ],
   "source": [
    "non_spoiler_words[:151]"
   ]
  },
  {
   "cell_type": "code",
   "execution_count": 19,
   "id": "ef17ef22",
   "metadata": {
    "ExecuteTime": {
     "end_time": "2022-05-05T21:16:21.375049Z",
     "start_time": "2022-05-05T21:14:05.770786Z"
    }
   },
   "outputs": [
    {
     "data": {
      "image/png": "[encoded data removed]",
      "text/plain": [
       "<Figure size 432x288 with 1 Axes>"
      ]
     },
     "metadata": {
      "needs_background": "light"
     },
     "output_type": "display_data"
    },
    {
     "data": {
      "text/plain": [
       "<Figure size 432x288 with 0 Axes>"
      ]
     },
     "metadata": {},
     "output_type": "display_data"
    }
   ],
   "source": [
    "spoiler_wordcloud = WordCloud(max_font_size=50, max_words=100, background_color='white').generate(spoiler_words)\n",
    "\n",
    "plt.figure()\n",
    "plt.imshow(spoiler_wordcloud, interpolation=\"bilinear\")\n",
    "plt.axis(\"off\")\n",
    "plt.show();"
   ]
  },
  {
   "cell_type": "code",
   "execution_count": 23,
   "id": "0187b5bd",
   "metadata": {
    "ExecuteTime": {
     "end_time": "2022-05-05T22:57:49.909506Z",
     "start_time": "2022-05-05T22:57:49.662325Z"
    }
   },
   "outputs": [
    {
     "data": {
      "text/plain": [
       "<wordcloud.wordcloud.WordCloud at 0x1b60a3c59a0>"
      ]
     },
     "execution_count": 23,
     "metadata": {},
     "output_type": "execute_result"
    }
   ],
   "source": [
    "spoiler_wordcloud.to_file('spoiler_wordcloud.png')"
   ]
  },
  {
   "cell_type": "code",
   "execution_count": 20,
   "id": "6811a19d",
   "metadata": {
    "ExecuteTime": {
     "end_time": "2022-05-05T21:20:46.556313Z",
     "start_time": "2022-05-05T21:16:21.453884Z"
    },
    "scrolled": true
   },
   "outputs": [
    {
     "data": {
      "image/png": "[encoded data removed]",
      "text/plain": [
       "<Figure size 432x288 with 1 Axes>"
      ]
     },
     "metadata": {
      "needs_background": "light"
     },
     "output_type": "display_data"
    },
    {
     "data": {
      "text/plain": [
       "<Figure size 432x288 with 0 Axes>"
      ]
     },
     "metadata": {},
     "output_type": "display_data"
    }
   ],
   "source": [
    "non_spoiler_wordcloud = WordCloud(max_font_size=50, max_words=100, background_color='white').generate(non_spoiler_words)\n",
    "\n",
    "plt.figure()\n",
    "plt.imshow(non_spoiler_wordcloud, interpolation=\"bilinear\")\n",
    "plt.axis(\"off\")\n",
    "plt.show();"
   ]
  },
  {
   "cell_type": "code",
   "execution_count": 24,
   "id": "1c37d079",
   "metadata": {
    "ExecuteTime": {
     "end_time": "2022-05-05T22:58:26.064101Z",
     "start_time": "2022-05-05T22:58:25.825030Z"
    }
   },
   "outputs": [
    {
     "data": {
      "text/plain": [
       "<wordcloud.wordcloud.WordCloud at 0x1b69418a880>"
      ]
     },
     "execution_count": 24,
     "metadata": {},
     "output_type": "execute_result"
    }
   ],
   "source": [
    "non_spoiler_wordcloud.to_file('non_spoiler_wordcloud.png')"
   ]
  },
  {
   "cell_type": "code",
   "execution_count": 15,
   "id": "52b9d51c",
   "metadata": {
    "ExecuteTime": {
     "end_time": "2022-05-05T03:17:48.892967Z",
     "start_time": "2022-05-05T03:17:48.718395Z"
    }
   },
   "outputs": [
    {
     "data": {
      "text/html": [
       "<div>\n",
       "<style scoped>\n",
       "    .dataframe tbody tr th:only-of-type {\n",
       "        vertical-align: middle;\n",
       "    }\n",
       "\n",
       "    .dataframe tbody tr th {\n",
       "        vertical-align: top;\n",
       "    }\n",
       "\n",
       "    .dataframe thead th {\n",
       "        text-align: right;\n",
       "    }\n",
       "</style>\n",
       "<table border=\"1\" class=\"dataframe\">\n",
       "  <thead>\n",
       "    <tr style=\"text-align: right;\">\n",
       "      <th></th>\n",
       "      <th>duration</th>\n",
       "      <th>film_rating</th>\n",
       "      <th>summary_char_count</th>\n",
       "      <th>summary_word_count</th>\n",
       "      <th>summary_entity_count</th>\n",
       "      <th>summary_unique_entities</th>\n",
       "      <th>summary_avg_entity_freq</th>\n",
       "      <th>summary_token_count</th>\n",
       "      <th>is_spoiler</th>\n",
       "      <th>reviewer_rating</th>\n",
       "      <th>review_char_count</th>\n",
       "      <th>review_word_count</th>\n",
       "      <th>review_entity_count</th>\n",
       "      <th>review_unique_entities</th>\n",
       "      <th>review_avg_entity_freq</th>\n",
       "      <th>review_token_count</th>\n",
       "    </tr>\n",
       "  </thead>\n",
       "  <tbody>\n",
       "    <tr>\n",
       "      <th>count</th>\n",
       "      <td>150909.000000</td>\n",
       "      <td>150909.000000</td>\n",
       "      <td>150909.000000</td>\n",
       "      <td>150909.000000</td>\n",
       "      <td>150909.000000</td>\n",
       "      <td>150909.000000</td>\n",
       "      <td>150909.000000</td>\n",
       "      <td>150909.000000</td>\n",
       "      <td>150909.0</td>\n",
       "      <td>150909.000000</td>\n",
       "      <td>150909.000000</td>\n",
       "      <td>150909.000000</td>\n",
       "      <td>150909.000000</td>\n",
       "      <td>150909.000000</td>\n",
       "      <td>150909.000000</td>\n",
       "      <td>150909.000000</td>\n",
       "    </tr>\n",
       "    <tr>\n",
       "      <th>mean</th>\n",
       "      <td>121.128488</td>\n",
       "      <td>7.280335</td>\n",
       "      <td>624.412116</td>\n",
       "      <td>117.460476</td>\n",
       "      <td>9.187166</td>\n",
       "      <td>7.519770</td>\n",
       "      <td>1.195448</td>\n",
       "      <td>59.631129</td>\n",
       "      <td>1.0</td>\n",
       "      <td>6.517444</td>\n",
       "      <td>1887.806353</td>\n",
       "      <td>334.917997</td>\n",
       "      <td>17.256658</td>\n",
       "      <td>13.035869</td>\n",
       "      <td>1.256000</td>\n",
       "      <td>173.768132</td>\n",
       "    </tr>\n",
       "    <tr>\n",
       "      <th>std</th>\n",
       "      <td>24.940509</td>\n",
       "      <td>0.948578</td>\n",
       "      <td>237.507669</td>\n",
       "      <td>41.978237</td>\n",
       "      <td>5.533896</td>\n",
       "      <td>4.162631</td>\n",
       "      <td>0.294973</td>\n",
       "      <td>22.896131</td>\n",
       "      <td>0.0</td>\n",
       "      <td>3.015920</td>\n",
       "      <td>1283.836091</td>\n",
       "      <td>223.268510</td>\n",
       "      <td>15.865774</td>\n",
       "      <td>10.606327</td>\n",
       "      <td>0.369353</td>\n",
       "      <td>118.606237</td>\n",
       "    </tr>\n",
       "    <tr>\n",
       "      <th>min</th>\n",
       "      <td>42.000000</td>\n",
       "      <td>2.400000</td>\n",
       "      <td>95.000000</td>\n",
       "      <td>15.000000</td>\n",
       "      <td>0.000000</td>\n",
       "      <td>0.000000</td>\n",
       "      <td>0.000000</td>\n",
       "      <td>8.000000</td>\n",
       "      <td>1.0</td>\n",
       "      <td>1.000000</td>\n",
       "      <td>50.000000</td>\n",
       "      <td>8.000000</td>\n",
       "      <td>0.000000</td>\n",
       "      <td>0.000000</td>\n",
       "      <td>0.000000</td>\n",
       "      <td>6.000000</td>\n",
       "    </tr>\n",
       "    <tr>\n",
       "      <th>25%</th>\n",
       "      <td>105.000000</td>\n",
       "      <td>6.700000</td>\n",
       "      <td>427.000000</td>\n",
       "      <td>82.000000</td>\n",
       "      <td>5.000000</td>\n",
       "      <td>4.000000</td>\n",
       "      <td>1.000000</td>\n",
       "      <td>41.000000</td>\n",
       "      <td>1.0</td>\n",
       "      <td>4.000000</td>\n",
       "      <td>920.000000</td>\n",
       "      <td>166.000000</td>\n",
       "      <td>6.000000</td>\n",
       "      <td>6.000000</td>\n",
       "      <td>1.000000</td>\n",
       "      <td>85.000000</td>\n",
       "    </tr>\n",
       "    <tr>\n",
       "      <th>50%</th>\n",
       "      <td>119.000000</td>\n",
       "      <td>7.400000</td>\n",
       "      <td>593.000000</td>\n",
       "      <td>114.000000</td>\n",
       "      <td>8.000000</td>\n",
       "      <td>7.000000</td>\n",
       "      <td>1.120000</td>\n",
       "      <td>57.000000</td>\n",
       "      <td>1.0</td>\n",
       "      <td>7.000000</td>\n",
       "      <td>1459.000000</td>\n",
       "      <td>261.000000</td>\n",
       "      <td>12.000000</td>\n",
       "      <td>10.000000</td>\n",
       "      <td>1.170000</td>\n",
       "      <td>135.000000</td>\n",
       "    </tr>\n",
       "    <tr>\n",
       "      <th>75%</th>\n",
       "      <td>136.000000</td>\n",
       "      <td>8.000000</td>\n",
       "      <td>803.000000</td>\n",
       "      <td>147.000000</td>\n",
       "      <td>12.000000</td>\n",
       "      <td>10.000000</td>\n",
       "      <td>1.310000</td>\n",
       "      <td>77.000000</td>\n",
       "      <td>1.0</td>\n",
       "      <td>9.000000</td>\n",
       "      <td>2456.000000</td>\n",
       "      <td>435.000000</td>\n",
       "      <td>23.000000</td>\n",
       "      <td>17.000000</td>\n",
       "      <td>1.380000</td>\n",
       "      <td>226.000000</td>\n",
       "    </tr>\n",
       "    <tr>\n",
       "      <th>max</th>\n",
       "      <td>321.000000</td>\n",
       "      <td>9.500000</td>\n",
       "      <td>1077.000000</td>\n",
       "      <td>212.000000</td>\n",
       "      <td>31.000000</td>\n",
       "      <td>25.000000</td>\n",
       "      <td>3.330000</td>\n",
       "      <td>144.000000</td>\n",
       "      <td>1.0</td>\n",
       "      <td>10.000000</td>\n",
       "      <td>14302.000000</td>\n",
       "      <td>2565.000000</td>\n",
       "      <td>176.000000</td>\n",
       "      <td>129.000000</td>\n",
       "      <td>22.000000</td>\n",
       "      <td>1295.000000</td>\n",
       "    </tr>\n",
       "  </tbody>\n",
       "</table>\n",
       "</div>"
      ],
      "text/plain": [
       "            duration    film_rating  summary_char_count  summary_word_count  \\\n",
       "count  150909.000000  150909.000000       150909.000000       150909.000000   \n",
       "mean      121.128488       7.280335          624.412116          117.460476   \n",
       "std        24.940509       0.948578          237.507669           41.978237   \n",
       "min        42.000000       2.400000           95.000000           15.000000   \n",
       "25%       105.000000       6.700000          427.000000           82.000000   \n",
       "50%       119.000000       7.400000          593.000000          114.000000   \n",
       "75%       136.000000       8.000000          803.000000          147.000000   \n",
       "max       321.000000       9.500000         1077.000000          212.000000   \n",
       "\n",
       "       summary_entity_count  summary_unique_entities  summary_avg_entity_freq  \\\n",
       "count         150909.000000            150909.000000            150909.000000   \n",
       "mean               9.187166                 7.519770                 1.195448   \n",
       "std                5.533896                 4.162631                 0.294973   \n",
       "min                0.000000                 0.000000                 0.000000   \n",
       "25%                5.000000                 4.000000                 1.000000   \n",
       "50%                8.000000                 7.000000                 1.120000   \n",
       "75%               12.000000                10.000000                 1.310000   \n",
       "max               31.000000                25.000000                 3.330000   \n",
       "\n",
       "       summary_token_count  is_spoiler  reviewer_rating  review_char_count  \\\n",
       "count        150909.000000    150909.0    150909.000000      150909.000000   \n",
       "mean             59.631129         1.0         6.517444        1887.806353   \n",
       "std              22.896131         0.0         3.015920        1283.836091   \n",
       "min               8.000000         1.0         1.000000          50.000000   \n",
       "25%              41.000000         1.0         4.000000         920.000000   \n",
       "50%              57.000000         1.0         7.000000        1459.000000   \n",
       "75%              77.000000         1.0         9.000000        2456.000000   \n",
       "max             144.000000         1.0        10.000000       14302.000000   \n",
       "\n",
       "       review_word_count  review_entity_count  review_unique_entities  \\\n",
       "count      150909.000000        150909.000000           150909.000000   \n",
       "mean          334.917997            17.256658               13.035869   \n",
       "std           223.268510            15.865774               10.606327   \n",
       "min             8.000000             0.000000                0.000000   \n",
       "25%           166.000000             6.000000                6.000000   \n",
       "50%           261.000000            12.000000               10.000000   \n",
       "75%           435.000000            23.000000               17.000000   \n",
       "max          2565.000000           176.000000              129.000000   \n",
       "\n",
       "       review_avg_entity_freq  review_token_count  \n",
       "count           150909.000000       150909.000000  \n",
       "mean                 1.256000          173.768132  \n",
       "std                  0.369353          118.606237  \n",
       "min                  0.000000            6.000000  \n",
       "25%                  1.000000           85.000000  \n",
       "50%                  1.170000          135.000000  \n",
       "75%                  1.380000          226.000000  \n",
       "max                 22.000000         1295.000000  "
      ]
     },
     "execution_count": 15,
     "metadata": {},
     "output_type": "execute_result"
    }
   ],
   "source": [
    "merged_df[merged_df.is_spoiler == 1].describe()"
   ]
  },
  {
   "cell_type": "code",
   "execution_count": 16,
   "id": "9ab3b5b5",
   "metadata": {
    "ExecuteTime": {
     "end_time": "2022-05-05T03:17:51.384178Z",
     "start_time": "2022-05-05T03:17:51.065747Z"
    },
    "scrolled": true
   },
   "outputs": [
    {
     "data": {
      "text/html": [
       "<div>\n",
       "<style scoped>\n",
       "    .dataframe tbody tr th:only-of-type {\n",
       "        vertical-align: middle;\n",
       "    }\n",
       "\n",
       "    .dataframe tbody tr th {\n",
       "        vertical-align: top;\n",
       "    }\n",
       "\n",
       "    .dataframe thead th {\n",
       "        text-align: right;\n",
       "    }\n",
       "</style>\n",
       "<table border=\"1\" class=\"dataframe\">\n",
       "  <thead>\n",
       "    <tr style=\"text-align: right;\">\n",
       "      <th></th>\n",
       "      <th>duration</th>\n",
       "      <th>film_rating</th>\n",
       "      <th>summary_char_count</th>\n",
       "      <th>summary_word_count</th>\n",
       "      <th>summary_entity_count</th>\n",
       "      <th>summary_unique_entities</th>\n",
       "      <th>summary_avg_entity_freq</th>\n",
       "      <th>summary_token_count</th>\n",
       "      <th>is_spoiler</th>\n",
       "      <th>reviewer_rating</th>\n",
       "      <th>review_char_count</th>\n",
       "      <th>review_word_count</th>\n",
       "      <th>review_entity_count</th>\n",
       "      <th>review_unique_entities</th>\n",
       "      <th>review_avg_entity_freq</th>\n",
       "      <th>review_token_count</th>\n",
       "    </tr>\n",
       "  </thead>\n",
       "  <tbody>\n",
       "    <tr>\n",
       "      <th>count</th>\n",
       "      <td>422951.000000</td>\n",
       "      <td>422951.000000</td>\n",
       "      <td>422951.000000</td>\n",
       "      <td>422951.000000</td>\n",
       "      <td>422951.000000</td>\n",
       "      <td>422951.000000</td>\n",
       "      <td>422951.000000</td>\n",
       "      <td>422951.000000</td>\n",
       "      <td>422951.0</td>\n",
       "      <td>422951.000000</td>\n",
       "      <td>422951.000000</td>\n",
       "      <td>422951.000000</td>\n",
       "      <td>422951.000000</td>\n",
       "      <td>422951.000000</td>\n",
       "      <td>422951.000000</td>\n",
       "      <td>422951.000000</td>\n",
       "    </tr>\n",
       "    <tr>\n",
       "      <th>mean</th>\n",
       "      <td>120.942258</td>\n",
       "      <td>7.298362</td>\n",
       "      <td>627.099151</td>\n",
       "      <td>118.291786</td>\n",
       "      <td>9.237148</td>\n",
       "      <td>7.556064</td>\n",
       "      <td>1.196654</td>\n",
       "      <td>60.078550</td>\n",
       "      <td>0.0</td>\n",
       "      <td>7.109942</td>\n",
       "      <td>1308.228097</td>\n",
       "      <td>232.475417</td>\n",
       "      <td>11.541337</td>\n",
       "      <td>9.341266</td>\n",
       "      <td>1.148739</td>\n",
       "      <td>120.600954</td>\n",
       "    </tr>\n",
       "    <tr>\n",
       "      <th>std</th>\n",
       "      <td>25.483269</td>\n",
       "      <td>0.963061</td>\n",
       "      <td>238.361767</td>\n",
       "      <td>42.148804</td>\n",
       "      <td>5.541603</td>\n",
       "      <td>4.174879</td>\n",
       "      <td>0.296576</td>\n",
       "      <td>22.920888</td>\n",
       "      <td>0.0</td>\n",
       "      <td>2.918918</td>\n",
       "      <td>1021.058027</td>\n",
       "      <td>176.857874</td>\n",
       "      <td>12.086183</td>\n",
       "      <td>8.651151</td>\n",
       "      <td>0.351401</td>\n",
       "      <td>94.618036</td>\n",
       "    </tr>\n",
       "    <tr>\n",
       "      <th>min</th>\n",
       "      <td>42.000000</td>\n",
       "      <td>2.400000</td>\n",
       "      <td>95.000000</td>\n",
       "      <td>15.000000</td>\n",
       "      <td>0.000000</td>\n",
       "      <td>0.000000</td>\n",
       "      <td>0.000000</td>\n",
       "      <td>8.000000</td>\n",
       "      <td>0.0</td>\n",
       "      <td>1.000000</td>\n",
       "      <td>18.000000</td>\n",
       "      <td>1.000000</td>\n",
       "      <td>0.000000</td>\n",
       "      <td>0.000000</td>\n",
       "      <td>0.000000</td>\n",
       "      <td>2.000000</td>\n",
       "    </tr>\n",
       "    <tr>\n",
       "      <th>25%</th>\n",
       "      <td>104.000000</td>\n",
       "      <td>6.700000</td>\n",
       "      <td>431.000000</td>\n",
       "      <td>83.000000</td>\n",
       "      <td>5.000000</td>\n",
       "      <td>4.000000</td>\n",
       "      <td>1.000000</td>\n",
       "      <td>41.000000</td>\n",
       "      <td>0.0</td>\n",
       "      <td>5.000000</td>\n",
       "      <td>682.000000</td>\n",
       "      <td>124.000000</td>\n",
       "      <td>4.000000</td>\n",
       "      <td>4.000000</td>\n",
       "      <td>1.000000</td>\n",
       "      <td>63.000000</td>\n",
       "    </tr>\n",
       "    <tr>\n",
       "      <th>50%</th>\n",
       "      <td>118.000000</td>\n",
       "      <td>7.400000</td>\n",
       "      <td>593.000000</td>\n",
       "      <td>114.000000</td>\n",
       "      <td>8.000000</td>\n",
       "      <td>7.000000</td>\n",
       "      <td>1.120000</td>\n",
       "      <td>58.000000</td>\n",
       "      <td>0.0</td>\n",
       "      <td>8.000000</td>\n",
       "      <td>947.000000</td>\n",
       "      <td>171.000000</td>\n",
       "      <td>8.000000</td>\n",
       "      <td>7.000000</td>\n",
       "      <td>1.070000</td>\n",
       "      <td>87.000000</td>\n",
       "    </tr>\n",
       "    <tr>\n",
       "      <th>75%</th>\n",
       "      <td>135.000000</td>\n",
       "      <td>8.000000</td>\n",
       "      <td>800.000000</td>\n",
       "      <td>148.000000</td>\n",
       "      <td>12.000000</td>\n",
       "      <td>10.000000</td>\n",
       "      <td>1.310000</td>\n",
       "      <td>78.000000</td>\n",
       "      <td>0.0</td>\n",
       "      <td>10.000000</td>\n",
       "      <td>1575.000000</td>\n",
       "      <td>280.000000</td>\n",
       "      <td>14.000000</td>\n",
       "      <td>12.000000</td>\n",
       "      <td>1.250000</td>\n",
       "      <td>145.000000</td>\n",
       "    </tr>\n",
       "    <tr>\n",
       "      <th>max</th>\n",
       "      <td>321.000000</td>\n",
       "      <td>9.500000</td>\n",
       "      <td>1077.000000</td>\n",
       "      <td>212.000000</td>\n",
       "      <td>31.000000</td>\n",
       "      <td>25.000000</td>\n",
       "      <td>3.330000</td>\n",
       "      <td>144.000000</td>\n",
       "      <td>0.0</td>\n",
       "      <td>10.000000</td>\n",
       "      <td>14963.000000</td>\n",
       "      <td>2673.000000</td>\n",
       "      <td>213.000000</td>\n",
       "      <td>179.000000</td>\n",
       "      <td>27.000000</td>\n",
       "      <td>1333.000000</td>\n",
       "    </tr>\n",
       "  </tbody>\n",
       "</table>\n",
       "</div>"
      ],
      "text/plain": [
       "            duration    film_rating  summary_char_count  summary_word_count  \\\n",
       "count  422951.000000  422951.000000       422951.000000       422951.000000   \n",
       "mean      120.942258       7.298362          627.099151          118.291786   \n",
       "std        25.483269       0.963061          238.361767           42.148804   \n",
       "min        42.000000       2.400000           95.000000           15.000000   \n",
       "25%       104.000000       6.700000          431.000000           83.000000   \n",
       "50%       118.000000       7.400000          593.000000          114.000000   \n",
       "75%       135.000000       8.000000          800.000000          148.000000   \n",
       "max       321.000000       9.500000         1077.000000          212.000000   \n",
       "\n",
       "       summary_entity_count  summary_unique_entities  summary_avg_entity_freq  \\\n",
       "count         422951.000000            422951.000000            422951.000000   \n",
       "mean               9.237148                 7.556064                 1.196654   \n",
       "std                5.541603                 4.174879                 0.296576   \n",
       "min                0.000000                 0.000000                 0.000000   \n",
       "25%                5.000000                 4.000000                 1.000000   \n",
       "50%                8.000000                 7.000000                 1.120000   \n",
       "75%               12.000000                10.000000                 1.310000   \n",
       "max               31.000000                25.000000                 3.330000   \n",
       "\n",
       "       summary_token_count  is_spoiler  reviewer_rating  review_char_count  \\\n",
       "count        422951.000000    422951.0    422951.000000      422951.000000   \n",
       "mean             60.078550         0.0         7.109942        1308.228097   \n",
       "std              22.920888         0.0         2.918918        1021.058027   \n",
       "min               8.000000         0.0         1.000000          18.000000   \n",
       "25%              41.000000         0.0         5.000000         682.000000   \n",
       "50%              58.000000         0.0         8.000000         947.000000   \n",
       "75%              78.000000         0.0        10.000000        1575.000000   \n",
       "max             144.000000         0.0        10.000000       14963.000000   \n",
       "\n",
       "       review_word_count  review_entity_count  review_unique_entities  \\\n",
       "count      422951.000000        422951.000000           422951.000000   \n",
       "mean          232.475417            11.541337                9.341266   \n",
       "std           176.857874            12.086183                8.651151   \n",
       "min             1.000000             0.000000                0.000000   \n",
       "25%           124.000000             4.000000                4.000000   \n",
       "50%           171.000000             8.000000                7.000000   \n",
       "75%           280.000000            14.000000               12.000000   \n",
       "max          2673.000000           213.000000              179.000000   \n",
       "\n",
       "       review_avg_entity_freq  review_token_count  \n",
       "count           422951.000000       422951.000000  \n",
       "mean                 1.148739          120.600954  \n",
       "std                  0.351401           94.618036  \n",
       "min                  0.000000            2.000000  \n",
       "25%                  1.000000           63.000000  \n",
       "50%                  1.070000           87.000000  \n",
       "75%                  1.250000          145.000000  \n",
       "max                 27.000000         1333.000000  "
      ]
     },
     "execution_count": 16,
     "metadata": {},
     "output_type": "execute_result"
    }
   ],
   "source": [
    "merged_df[merged_df.is_spoiler == 0].describe()"
   ]
  },
  {
   "cell_type": "markdown",
   "id": "4892e270",
   "metadata": {},
   "source": [
    "Initial observations from the describe calls on reviews marked as spoiler versus ones that are not:\n",
    "- The reviewer rating is about half a point lower on average for reviews marked as spoilers\n",
    "- The review word count of a spoiler review is longer on average by about 36% (232 -> 335), but does have a more variation\n",
    "- Rougly the same can be said about the entity counts (raw and unique)\n",
    "\n",
    "It looks like there is nothing glaringly obvious about the difference between spoiler and non-spoiler reviews in terms of entities or raw word counts"
   ]
  },
  {
   "cell_type": "markdown",
   "id": "7b39f5c4",
   "metadata": {},
   "source": [
    "## Spoiler Frequency"
   ]
  },
  {
   "cell_type": "code",
   "execution_count": 17,
   "id": "a583fd50",
   "metadata": {
    "ExecuteTime": {
     "end_time": "2022-05-05T03:18:03.078438Z",
     "start_time": "2022-05-05T03:18:02.719936Z"
    }
   },
   "outputs": [
    {
     "data": {
      "image/png": "[encoded data removed]",
      "text/plain": [
       "<Figure size 432x288 with 1 Axes>"
      ]
     },
     "metadata": {
      "needs_background": "light"
     },
     "output_type": "display_data"
    }
   ],
   "source": [
    "merged_df.groupby('is_spoiler').size().plot(kind='bar');"
   ]
  },
  {
   "cell_type": "markdown",
   "id": "475fa702",
   "metadata": {},
   "source": [
    "## Spoiler by genre"
   ]
  },
  {
   "cell_type": "markdown",
   "id": "f87bc1b1",
   "metadata": {},
   "source": [
    "Pull just the genre feature along with the target 'is_spoiler' so that each film is represented in each genre it's a part of."
   ]
  },
  {
   "cell_type": "code",
   "execution_count": 18,
   "id": "d276d40f",
   "metadata": {
    "ExecuteTime": {
     "end_time": "2022-05-05T03:18:16.022183Z",
     "start_time": "2022-05-05T03:18:15.333466Z"
    }
   },
   "outputs": [],
   "source": [
    "genres = merged_df[['genre', 'is_spoiler']].explode('genre').copy()"
   ]
  },
  {
   "cell_type": "code",
   "execution_count": 19,
   "id": "93eb1ff6",
   "metadata": {
    "ExecuteTime": {
     "end_time": "2022-05-05T03:18:18.082945Z",
     "start_time": "2022-05-05T03:18:17.639208Z"
    }
   },
   "outputs": [
    {
     "data": {
      "image/png": "[encoded data removed]",
      "text/plain": [
       "<Figure size 1080x576 with 1 Axes>"
      ]
     },
     "metadata": {
      "needs_background": "light"
     },
     "output_type": "display_data"
    }
   ],
   "source": [
    "genres.groupby(['genre', 'is_spoiler']).size().unstack().plot(kind='bar', stacked=True, figsize=(15,8));"
   ]
  },
  {
   "cell_type": "markdown",
   "id": "b22c4506",
   "metadata": {},
   "source": [
    "## Spoilers by UserID"
   ]
  },
  {
   "cell_type": "code",
   "execution_count": 20,
   "id": "d25bfe0c",
   "metadata": {
    "ExecuteTime": {
     "end_time": "2022-05-05T03:22:10.529000Z",
     "start_time": "2022-05-05T03:22:10.261963Z"
    }
   },
   "outputs": [
    {
     "data": {
      "text/plain": [
       "ur2898520     1303\n",
       "ur4248714     1021\n",
       "ur0453068      806\n",
       "ur60028700     770\n",
       "ur20552756     755\n",
       "              ... \n",
       "ur23470975       1\n",
       "ur50774218       1\n",
       "ur49925358       1\n",
       "ur47767082       1\n",
       "ur0156431        1\n",
       "Name: user_id, Length: 263362, dtype: int64"
      ]
     },
     "execution_count": 20,
     "metadata": {},
     "output_type": "execute_result"
    }
   ],
   "source": [
    "user_ids = merged_df[['user_id', 'is_spoiler']].copy()\n",
    "user_ids.user_id.value_counts()"
   ]
  },
  {
   "cell_type": "code",
   "execution_count": 21,
   "id": "a4ddc88c",
   "metadata": {
    "ExecuteTime": {
     "end_time": "2022-05-05T03:22:12.620321Z",
     "start_time": "2022-05-05T03:22:12.151674Z"
    }
   },
   "outputs": [
    {
     "data": {
      "text/plain": [
       "2.178977984675086"
      ]
     },
     "execution_count": 21,
     "metadata": {},
     "output_type": "execute_result"
    }
   ],
   "source": [
    "user_ids.user_id.value_counts().values.sum() / len(user_ids.user_id.value_counts())"
   ]
  },
  {
   "cell_type": "markdown",
   "id": "0105ff73",
   "metadata": {},
   "source": [
    "There are 263,407 unique users represented in the data. We can see that the vast majority do not comment more than once. The average number of comments is 2.17. Lets look at our top 20 commenters."
   ]
  },
  {
   "cell_type": "code",
   "execution_count": 22,
   "id": "c542dfc8",
   "metadata": {
    "ExecuteTime": {
     "end_time": "2022-05-05T03:22:19.887931Z",
     "start_time": "2022-05-05T03:22:18.955737Z"
    }
   },
   "outputs": [
    {
     "data": {
      "image/png": "[encoded data removed]",
      "text/plain": [
       "<Figure size 1080x576 with 1 Axes>"
      ]
     },
     "metadata": {
      "needs_background": "light"
     },
     "output_type": "display_data"
    }
   ],
   "source": [
    "# top 20 reviewers by total count, separated into spoiler/non\n",
    "user_ids.groupby(['user_id', 'is_spoiler']).size().unstack().sort_values(by=0, ascending=False)[:20].plot(kind='bar', stacked=True, figsize=(15,8));"
   ]
  },
  {
   "cell_type": "markdown",
   "id": "a13bfb02",
   "metadata": {
    "heading_collapsed": true
   },
   "source": [
    "# Non-language feature modeling"
   ]
  },
  {
   "cell_type": "markdown",
   "id": "156ec3ab",
   "metadata": {
    "hidden": true
   },
   "source": [
    "We thought it would be interesting to model using the non-language features of our data. Features which don't pertain to the summary or review text include:\n",
    "- film duration\n",
    "- genre\n",
    "- rating\n",
    "- release date\n",
    "- review date\n",
    "- is_spoiler (target)"
   ]
  },
  {
   "cell_type": "code",
   "execution_count": 23,
   "id": "877939cf",
   "metadata": {
    "ExecuteTime": {
     "end_time": "2022-05-05T03:22:37.171498Z",
     "start_time": "2022-05-05T03:22:37.127851Z"
    },
    "hidden": true
   },
   "outputs": [],
   "source": [
    "non_lang_features = ['duration', 'genre', 'film_rating', 'release_date', 'review_date',\n",
    "                     'is_spoiler']\n",
    "non_language_df = merged_df[non_lang_features].copy()"
   ]
  },
  {
   "cell_type": "markdown",
   "id": "24c92400",
   "metadata": {
    "hidden": true
   },
   "source": [
    "Engineer a new feature: age of film at review"
   ]
  },
  {
   "cell_type": "code",
   "execution_count": 24,
   "id": "1e3bb42a",
   "metadata": {
    "ExecuteTime": {
     "end_time": "2022-05-05T03:23:01.111831Z",
     "start_time": "2022-05-05T03:22:38.834655Z"
    },
    "hidden": true
   },
   "outputs": [],
   "source": [
    "def film_age(df):\n",
    "    age = df.review_date - df.release_date\n",
    "    return age.days\n",
    "\n",
    "non_language_df['days_since_release'] = non_language_df.apply(film_age, axis=1)\n",
    "non_language_df.drop(['release_date', 'review_date'], axis=1, inplace=True)"
   ]
  },
  {
   "cell_type": "markdown",
   "id": "14b32ef8",
   "metadata": {
    "ExecuteTime": {
     "end_time": "2022-04-22T18:57:15.272689Z",
     "start_time": "2022-04-22T18:57:15.252325Z"
    },
    "hidden": true
   },
   "source": [
    "Explode the genres. [Inspiration](https://stackoverflow.com/questions/45312377/how-to-one-hot-encode-from-a-pandas-column-containing-a-list)"
   ]
  },
  {
   "cell_type": "code",
   "execution_count": 25,
   "id": "1405d5d6",
   "metadata": {
    "ExecuteTime": {
     "end_time": "2022-05-05T03:23:10.845666Z",
     "start_time": "2022-05-05T03:23:02.797009Z"
    },
    "hidden": true
   },
   "outputs": [],
   "source": [
    "s = non_language_df['genre'].explode()\n",
    "non_language_df = non_language_df[['duration', 'film_rating', 'is_spoiler',\n",
    "                                   'days_since_release']].join(pd.crosstab(s.index, s))"
   ]
  },
  {
   "cell_type": "markdown",
   "id": "c7581590",
   "metadata": {
    "heading_collapsed": true,
    "hidden": true
   },
   "source": [
    "## SGD Classifier"
   ]
  },
  {
   "cell_type": "markdown",
   "id": "d66d2a43",
   "metadata": {
    "hidden": true
   },
   "source": [
    "We are going to try using a SGD classifer to see how well it performs"
   ]
  },
  {
   "cell_type": "code",
   "execution_count": 26,
   "id": "f7d42bfd",
   "metadata": {
    "ExecuteTime": {
     "end_time": "2022-05-05T03:23:13.474966Z",
     "start_time": "2022-05-05T03:23:12.923384Z"
    },
    "hidden": true
   },
   "outputs": [],
   "source": [
    "# set X and y\n",
    "X = non_language_df.drop('is_spoiler', axis=1)\n",
    "y = non_language_df['is_spoiler']\n",
    "\n",
    "# perform train/test split\n",
    "X_train, X_test, y_train, y_test = train_test_split(X, y, test_size=0.2)\n",
    "\n",
    "# scale the predictors\n",
    "scaler = StandardScaler().fit(X_train)\n",
    "X_train_s = scaler.transform(X_train)\n",
    "X_test_s = scaler.transform(X_test)"
   ]
  },
  {
   "cell_type": "markdown",
   "id": "278e1bb1",
   "metadata": {
    "hidden": true
   },
   "source": [
    "Performing a grid search for optimized parameters. This runs in about 18 minutes, so it's commented out and the best parameters are listed below"
   ]
  },
  {
   "cell_type": "code",
   "execution_count": 27,
   "id": "0028996e",
   "metadata": {
    "ExecuteTime": {
     "end_time": "2022-05-05T03:23:16.565337Z",
     "start_time": "2022-05-05T03:23:16.552441Z"
    },
    "hidden": true
   },
   "outputs": [],
   "source": [
    "params = {\n",
    "    \"loss\" : [\"hinge\", \"log\", \"squared_hinge\", \"modified_huber\", \"perceptron\"],\n",
    "    \"alpha\" : [0.0001, 0.001, 0.01, 0.1],\n",
    "    \"penalty\" : [\"l2\", \"l1\", \"elasticnet\", \"none\"],\n",
    "}\n",
    "\n",
    "clf = SGDClassifier(max_iter=1000)\n",
    "grid = GridSearchCV(clf, param_grid=params, cv=10, n_jobs=-1)\n",
    "\n",
    "# grid.fit(X_train, y_train)\n",
    "\n",
    "# print(grid.best_params_)"
   ]
  },
  {
   "cell_type": "markdown",
   "id": "6d7d603a",
   "metadata": {
    "hidden": true
   },
   "source": [
    "Best params were:\n",
    "- alpha: 0.0001\n",
    "- loss: 'hinge'\n",
    "- penalty: 'l2'"
   ]
  },
  {
   "cell_type": "code",
   "execution_count": 28,
   "id": "96c6bf0f",
   "metadata": {
    "ExecuteTime": {
     "end_time": "2022-05-05T03:23:21.193632Z",
     "start_time": "2022-05-05T03:23:19.672445Z"
    },
    "hidden": true
   },
   "outputs": [
    {
     "data": {
      "text/plain": [
       "SGDClassifier()"
      ]
     },
     "execution_count": 28,
     "metadata": {},
     "output_type": "execute_result"
    }
   ],
   "source": [
    "sgd_model = SGDClassifier(alpha=0.0001, loss='hinge', penalty='l2')\n",
    "sgd_model.fit(X_train_s, y_train)"
   ]
  },
  {
   "cell_type": "code",
   "execution_count": 29,
   "id": "bfb1398c",
   "metadata": {
    "ExecuteTime": {
     "end_time": "2022-05-05T03:23:24.253520Z",
     "start_time": "2022-05-05T03:23:24.240624Z"
    },
    "hidden": true
   },
   "outputs": [],
   "source": [
    "y_pred = sgd_model.predict(X_test_s)"
   ]
  },
  {
   "cell_type": "code",
   "execution_count": 30,
   "id": "363a65e8",
   "metadata": {
    "ExecuteTime": {
     "end_time": "2022-05-05T03:23:27.589880Z",
     "start_time": "2022-05-05T03:23:27.299721Z"
    },
    "hidden": true
   },
   "outputs": [
    {
     "name": "stdout",
     "output_type": "stream",
     "text": [
      "              precision    recall  f1-score   support\n",
      "\n",
      "  no_spoiler       0.74      1.00      0.85     84696\n",
      "     spoiler       0.00      0.00      0.00     30076\n",
      "\n",
      "    accuracy                           0.74    114772\n",
      "   macro avg       0.37      0.50      0.42    114772\n",
      "weighted avg       0.54      0.74      0.63    114772\n",
      "\n"
     ]
    },
    {
     "name": "stderr",
     "output_type": "stream",
     "text": [
      "C:\\Users\\brtra\\anaconda3\\lib\\site-packages\\sklearn\\metrics\\_classification.py:1318: UndefinedMetricWarning: Precision and F-score are ill-defined and being set to 0.0 in labels with no predicted samples. Use `zero_division` parameter to control this behavior.\n",
      "  _warn_prf(average, modifier, msg_start, len(result))\n",
      "C:\\Users\\brtra\\anaconda3\\lib\\site-packages\\sklearn\\metrics\\_classification.py:1318: UndefinedMetricWarning: Precision and F-score are ill-defined and being set to 0.0 in labels with no predicted samples. Use `zero_division` parameter to control this behavior.\n",
      "  _warn_prf(average, modifier, msg_start, len(result))\n",
      "C:\\Users\\brtra\\anaconda3\\lib\\site-packages\\sklearn\\metrics\\_classification.py:1318: UndefinedMetricWarning: Precision and F-score are ill-defined and being set to 0.0 in labels with no predicted samples. Use `zero_division` parameter to control this behavior.\n",
      "  _warn_prf(average, modifier, msg_start, len(result))\n"
     ]
    },
    {
     "data": {
      "image/png": "[encoded data removed]",
      "text/plain": [
       "<Figure size 432x288 with 2 Axes>"
      ]
     },
     "metadata": {
      "needs_background": "light"
     },
     "output_type": "display_data"
    }
   ],
   "source": [
    "report(y_test, y_pred)"
   ]
  },
  {
   "cell_type": "markdown",
   "id": "96231cd2",
   "metadata": {
    "hidden": true
   },
   "source": [
    "Modeling on the film review metadata we have does not look promising."
   ]
  },
  {
   "cell_type": "markdown",
   "id": "ccf519af",
   "metadata": {},
   "source": [
    "# Data Preparation"
   ]
  },
  {
   "cell_type": "markdown",
   "id": "23995dd2",
   "metadata": {},
   "source": [
    "Pulling the summaries into one dataframe and the reviews into another, retaining the movie_id for eventual combination.\n",
    "\n",
    "The lemmatizing of the reviews done in 6.1 takes about an hour and a half, so to save time we processed it and save the files as parquet files. All we need to do is import the files.\n",
    "\n",
    "**Since we performed the lemmatizing, we have discovered some non-english reviews. We have the indicies to remove them generated in section 3, stored in a variable non_english_reviews. That variable is also saved as a pickle file so we can load it and drop the indicies of the non-english reviews.**"
   ]
  },
  {
   "cell_type": "code",
   "execution_count": 143,
   "id": "9d0cdc2b",
   "metadata": {
    "ExecuteTime": {
     "end_time": "2022-04-30T21:50:17.547303Z",
     "start_time": "2022-04-30T21:50:16.600379Z"
    }
   },
   "outputs": [],
   "source": [
    "# # these lines are the original creation of the dataframes\n",
    "# summary_df = merged_df[['movie_id', 'plot_summary']].copy()\n",
    "# summary_df.drop_duplicates(inplace=True)\n",
    "# summary_df.reset_index(drop=True, inplace=True)\n",
    "# review_df = merged_df[['movie_id', 'review_text', 'is_spoiler']].copy()\n",
    "\n",
    "# deleting the merged_df\n",
    "# del merged_df"
   ]
  },
  {
   "cell_type": "code",
   "execution_count": 31,
   "id": "ccd0418d",
   "metadata": {
    "ExecuteTime": {
     "end_time": "2022-05-05T03:24:54.123313Z",
     "start_time": "2022-05-05T03:24:47.057416Z"
    }
   },
   "outputs": [],
   "source": [
    "# loading the reviews, contains both original and lemmed field\n",
    "review_df = pd.read_parquet('./data/reviews_lemmed.parquet')\n",
    "# loading the summaries, contains both original and lemmed field\n",
    "summary_df = pd.read_parquet('./data/plot_summary_lemmed.parquet')"
   ]
  },
  {
   "cell_type": "markdown",
   "id": "2e27e30c",
   "metadata": {},
   "source": [
    "After the original lemmatization of the reviews, we discovered that there were some non-english reviews that existed in our data. In 2.3.1 we identified the indicies of the non-english reviews and then saved that list in a pickle file. Here, we load that list and use it to remove those few non-english reviews rows from the dataframe.  "
   ]
  },
  {
   "cell_type": "code",
   "execution_count": 4,
   "id": "6b97a088",
   "metadata": {
    "ExecuteTime": {
     "end_time": "2022-05-03T12:48:41.902395Z",
     "start_time": "2022-05-03T12:48:41.796651Z"
    }
   },
   "outputs": [],
   "source": [
    "with open('non_english_reviews.pkl', 'rb') as f:\n",
    "    non_english_reviews = pickle.load(f)\n",
    "\n",
    "# dropping non english reviews\n",
    "review_df.drop(non_english_reviews, axis=0, inplace=True)\n",
    "review_df.reset_index(drop=True, inplace=True)"
   ]
  },
  {
   "cell_type": "markdown",
   "id": "d136ed80",
   "metadata": {},
   "source": [
    "## lemmatization (already processed)"
   ]
  },
  {
   "cell_type": "markdown",
   "id": "22cea695",
   "metadata": {},
   "source": [
    "This was performed once and then the dataframe was saved. It's left here in case we need to modify and reprocess the lemmatization."
   ]
  },
  {
   "cell_type": "code",
   "execution_count": 13,
   "id": "1c6c9989",
   "metadata": {
    "ExecuteTime": {
     "end_time": "2022-04-28T00:58:59.707178Z",
     "start_time": "2022-04-28T00:58:59.695247Z"
    }
   },
   "outputs": [],
   "source": [
    "sw = stopwords.words('english')\n",
    "pattern = \"([a-zA-Z]+(?:'[a-z]+)?)\"\n",
    "tokenizer = RegexpTokenizer(r\"([a-zA-Z]+(?:[’'][a-z]+)?)\")\n",
    "lemmatizer = nltk.stem.WordNetLemmatizer()\n",
    "\n",
    "# helper function to correctly format the part of speech\n",
    "def get_wordnet_pos(treebank_tag):\n",
    "    if treebank_tag.startswith('J'):\n",
    "        return wordnet.ADJ\n",
    "    elif treebank_tag.startswith('V'):\n",
    "        return wordnet.VERB\n",
    "    elif treebank_tag.startswith('N'):\n",
    "        return wordnet.NOUN\n",
    "    elif treebank_tag.startswith('R'):\n",
    "        return wordnet.ADV\n",
    "    else:\n",
    "        return wordnet.NOUN\n",
    "    \n",
    "# helper function to clean and lemmatize the review\n",
    "def lem_review(df):\n",
    "    # get the doc text\n",
    "    doc = df.review_text\n",
    "    # tokenize the doc, lowercase all words and remove stopwords\n",
    "    doc = tokenizer.tokenize(doc)\n",
    "    doc = [token.lower() for token in doc]\n",
    "    doc = [token for token in doc if token not in sw]\n",
    "    # tag part of speach and convert format of tagging\n",
    "    doc_tagged = pos_tag(doc)\n",
    "    doc_tagged = [(token[0], get_wordnet_pos(token[1])) for token in doc_tagged]\n",
    "    # lemmatize the doc\n",
    "    doc_lemmed = [lemmatizer.lemmatize(token[0], token[1]) for token in doc_tagged]\n",
    "    # join the lemmas together as a string\n",
    "    doc_cleaned = ' '.join(doc_lemmed)\n",
    "    # return the cleaned doc\n",
    "    return doc_cleaned\n",
    "\n",
    "# helper function to clean and lemmatize the summary\n",
    "def lem_summary(df):\n",
    "    # get the doc text\n",
    "    doc = df.plot_summary\n",
    "    # tokenize the doc, lowercase all words and remove stopwords\n",
    "    doc = tokenizer.tokenize(doc)\n",
    "    doc = [token.lower() for token in doc]\n",
    "    doc = [token for token in doc if token not in sw]\n",
    "    # tag part of speach and convert format of tagging\n",
    "    doc_tagged = pos_tag(doc)\n",
    "    doc_tagged = [(token[0], get_wordnet_pos(token[1])) for token in doc_tagged]\n",
    "    # lemmatize the doc\n",
    "    doc_lemmed = [lemmatizer.lemmatize(token[0], token[1]) for token in doc_tagged]\n",
    "    # join the lemmas together as a string\n",
    "    doc_cleaned = ' '.join(doc_lemmed)\n",
    "    # return the cleaned doc\n",
    "    return doc_cleaned"
   ]
  },
  {
   "cell_type": "code",
   "execution_count": 14,
   "id": "6556b48e",
   "metadata": {
    "ExecuteTime": {
     "end_time": "2022-04-28T00:59:10.963736Z",
     "start_time": "2022-04-28T00:59:01.148393Z"
    }
   },
   "outputs": [],
   "source": [
    "# this takes about an hour and a half\n",
    "# review_df['review_text_lemmed'] = review_df.apply(lem_review, axis=1)\n",
    "\n",
    "# this takes about 9 seconds\n",
    "# summary_df['plot_summary_lemmed'] = summary_df.apply(lem_summary, axis=1)"
   ]
  },
  {
   "cell_type": "markdown",
   "id": "fb44c479",
   "metadata": {},
   "source": [
    "Because it took so long to lemmatize the reviews, we are going to save both of these dataframes as parquet files to make modeling easier on ourselves."
   ]
  },
  {
   "cell_type": "code",
   "execution_count": 16,
   "id": "4f4e6ea4",
   "metadata": {
    "ExecuteTime": {
     "end_time": "2022-04-28T01:02:30.203347Z",
     "start_time": "2022-04-28T01:02:30.173588Z"
    }
   },
   "outputs": [],
   "source": [
    "# review_df.to_parquet('./data/reviews_lemmed.parquet')\n",
    "# summary_df.to_parquet('./data/plot_summary_lemmed.parquet')"
   ]
  }
 ],
 "metadata": {
  "kernelspec": {
   "display_name": "Python 3 (ipykernel)",
   "language": "python",
   "name": "python3"
  },
  "language_info": {
   "codemirror_mode": {
    "name": "ipython",
    "version": 3
   },
   "file_extension": ".py",
   "mimetype": "text/x-python",
   "name": "python",
   "nbconvert_exporter": "python",
   "pygments_lexer": "ipython3",
   "version": "3.9.7"
  },
  "toc": {
   "base_numbering": 1,
   "nav_menu": {},
   "number_sections": true,
   "sideBar": true,
   "skip_h1_title": false,
   "title_cell": "Table of Contents",
   "title_sidebar": "Contents",
   "toc_cell": false,
   "toc_position": {
    "height": "calc(100% - 180px)",
    "left": "10px",
    "top": "150px",
    "width": "512px"
   },
   "toc_section_display": true,
   "toc_window_display": true
  },
  "varInspector": {
   "cols": {
    "lenName": 16,
    "lenType": 16,
    "lenVar": 40
   },
   "kernels_config": {
    "python": {
     "delete_cmd_postfix": "",
     "delete_cmd_prefix": "del ",
     "library": "var_list.py",
     "varRefreshCmd": "print(var_dic_list())"
    },
    "r": {
     "delete_cmd_postfix": ") ",
     "delete_cmd_prefix": "rm(",
     "library": "var_list.r",
     "varRefreshCmd": "cat(var_dic_list()) "
    }
   },
   "oldHeight": 946.797,
   "position": {
    "height": "968.797px",
    "left": "1862px",
    "right": "20px",
    "top": "121px",
    "width": "666px"
   },
   "types_to_exclude": [
    "module",
    "function",
    "builtin_function_or_method",
    "instance",
    "_Feature"
   ],
   "varInspector_section_display": "block",
   "window_display": false
  }
 },
 "nbformat": 4,
 "nbformat_minor": 5
}
