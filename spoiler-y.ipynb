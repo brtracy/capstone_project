{
 "cells": [
  {
   "cell_type": "markdown",
   "id": "c0fe5c62",
   "metadata": {},
   "source": [
    "# Imports"
   ]
  },
  {
   "cell_type": "code",
   "execution_count": 1,
   "id": "f669c976",
   "metadata": {
    "ExecuteTime": {
     "end_time": "2022-05-03T15:29:15.830424Z",
     "start_time": "2022-05-03T15:29:04.044179Z"
    }
   },
   "outputs": [],
   "source": [
    "import pandas as pd\n",
    "import numpy as np\n",
    "import re\n",
    "import string\n",
    "import json\n",
    "import os\n",
    "import pickle\n",
    "\n",
    "import matplotlib.pyplot as plt\n",
    "import matplotlib as mpl\n",
    "%matplotlib inline\n",
    "\n",
    "from langdetect import detect\n",
    "import spacy\n",
    "\n",
    "import nltk\n",
    "from nltk import pos_tag\n",
    "from nltk.corpus import wordnet\n",
    "from nltk.probability import FreqDist\n",
    "from nltk.corpus import stopwords\n",
    "from nltk.tokenize import regexp_tokenize, word_tokenize, RegexpTokenizer\n",
    "\n",
    "from sklearn.model_selection import train_test_split, GridSearchCV\n",
    "from sklearn.preprocessing import StandardScaler\n",
    "from sklearn.linear_model import SGDClassifier, LogisticRegression\n",
    "from sklearn.metrics import confusion_matrix, ConfusionMatrixDisplay,\\\n",
    "classification_report, accuracy_score, precision_score\n",
    "\n",
    "from sklearn.feature_extraction.text import CountVectorizer, TfidfVectorizer,\\\n",
    "HashingVectorizer\n",
    "\n",
    "from sklearn.ensemble import RandomForestClassifier\n",
    "from sklearn.naive_bayes import MultinomialNB\n",
    "from sklearn.svm import LinearSVC\n",
    "\n",
    "from xgboost import XGBClassifier\n",
    "\n",
    "import pendulum"
   ]
  },
  {
   "cell_type": "markdown",
   "id": "d255d32b",
   "metadata": {},
   "source": [
    "_________________"
   ]
  },
  {
   "cell_type": "markdown",
   "id": "5b8bd5ae",
   "metadata": {},
   "source": [
    "**Helper Functions**"
   ]
  },
  {
   "cell_type": "code",
   "execution_count": 2,
   "id": "e9058ba6",
   "metadata": {
    "ExecuteTime": {
     "end_time": "2022-05-03T15:29:18.167556Z",
     "start_time": "2022-05-03T15:29:18.156644Z"
    }
   },
   "outputs": [],
   "source": [
    "def confusion_matrix_plot(y_true, y_pred, class_names):\n",
    "    cm = confusion_matrix(y_true, y_pred)\n",
    "    disp = ConfusionMatrixDisplay(confusion_matrix=cm, display_labels=class_names)\n",
    "    disp.plot(cmap=plt.cm.Blues)\n",
    "    return plt.show()\n",
    "\n",
    "def report(y_true, y_pred, class_names=['no_spoiler', 'spoiler']):\n",
    "    print(classification_report(y_true, y_pred, target_names=class_names))\n",
    "    confusion_matrix_plot(y_true, y_pred, class_names)"
   ]
  },
  {
   "cell_type": "markdown",
   "id": "b345017f",
   "metadata": {},
   "source": [
    "_________\n",
    "\n",
    "Skip to section 2.3 to load the large dataframe after initial EDA and processing. Then all cells in the remainder of section 2 as well as section 3 are able the be executed.\n",
    "\n",
    "To save time we can also skip to section 4 and load the review dataframe (with original and lemmatized reviews) and the summaries dataframe for modeling."
   ]
  },
  {
   "cell_type": "markdown",
   "id": "80fd5677",
   "metadata": {},
   "source": [
    "# EDA"
   ]
  },
  {
   "cell_type": "markdown",
   "id": "10097137",
   "metadata": {},
   "source": [
    "## Movie Details"
   ]
  },
  {
   "cell_type": "code",
   "execution_count": 3,
   "id": "3f94bc6e",
   "metadata": {
    "ExecuteTime": {
     "end_time": "2022-05-03T15:29:18.582708Z",
     "start_time": "2022-05-03T15:29:18.263781Z"
    },
    "scrolled": true
   },
   "outputs": [
    {
     "name": "stdout",
     "output_type": "stream",
     "text": [
      "<class 'pandas.core.frame.DataFrame'>\n",
      "RangeIndex: 1572 entries, 0 to 1571\n",
      "Data columns (total 7 columns):\n",
      " #   Column         Non-Null Count  Dtype  \n",
      "---  ------         --------------  -----  \n",
      " 0   movie_id       1572 non-null   object \n",
      " 1   plot_summary   1572 non-null   object \n",
      " 2   duration       1572 non-null   object \n",
      " 3   genre          1572 non-null   object \n",
      " 4   rating         1572 non-null   float64\n",
      " 5   release_date   1572 non-null   object \n",
      " 6   plot_synopsis  1572 non-null   object \n",
      "dtypes: float64(1), object(6)\n",
      "memory usage: 86.1+ KB\n"
     ]
    },
    {
     "data": {
      "text/plain": [
       "None"
      ]
     },
     "metadata": {},
     "output_type": "display_data"
    },
    {
     "data": {
      "text/html": [
       "<div>\n",
       "<style scoped>\n",
       "    .dataframe tbody tr th:only-of-type {\n",
       "        vertical-align: middle;\n",
       "    }\n",
       "\n",
       "    .dataframe tbody tr th {\n",
       "        vertical-align: top;\n",
       "    }\n",
       "\n",
       "    .dataframe thead th {\n",
       "        text-align: right;\n",
       "    }\n",
       "</style>\n",
       "<table border=\"1\" class=\"dataframe\">\n",
       "  <thead>\n",
       "    <tr style=\"text-align: right;\">\n",
       "      <th></th>\n",
       "      <th>movie_id</th>\n",
       "      <th>plot_summary</th>\n",
       "      <th>duration</th>\n",
       "      <th>genre</th>\n",
       "      <th>rating</th>\n",
       "      <th>release_date</th>\n",
       "      <th>plot_synopsis</th>\n",
       "    </tr>\n",
       "  </thead>\n",
       "  <tbody>\n",
       "    <tr>\n",
       "      <th>0</th>\n",
       "      <td>tt0105112</td>\n",
       "      <td>Former CIA analyst, Jack Ryan is in England wi...</td>\n",
       "      <td>1h 57min</td>\n",
       "      <td>[Action, Thriller]</td>\n",
       "      <td>6.9</td>\n",
       "      <td>1992-06-05</td>\n",
       "      <td>Jack Ryan (Ford) is on a \"working vacation\" in...</td>\n",
       "    </tr>\n",
       "    <tr>\n",
       "      <th>1</th>\n",
       "      <td>tt1204975</td>\n",
       "      <td>Billy (Michael Douglas), Paddy (Robert De Niro...</td>\n",
       "      <td>1h 45min</td>\n",
       "      <td>[Comedy]</td>\n",
       "      <td>6.6</td>\n",
       "      <td>2013-11-01</td>\n",
       "      <td>Four boys around the age of 10 are friends in ...</td>\n",
       "    </tr>\n",
       "    <tr>\n",
       "      <th>2</th>\n",
       "      <td>tt0243655</td>\n",
       "      <td>The setting is Camp Firewood, the year 1981. I...</td>\n",
       "      <td>1h 37min</td>\n",
       "      <td>[Comedy, Romance]</td>\n",
       "      <td>6.7</td>\n",
       "      <td>2002-04-11</td>\n",
       "      <td></td>\n",
       "    </tr>\n",
       "    <tr>\n",
       "      <th>3</th>\n",
       "      <td>tt0040897</td>\n",
       "      <td>Fred C. Dobbs and Bob Curtin, both down on the...</td>\n",
       "      <td>2h 6min</td>\n",
       "      <td>[Adventure, Drama, Western]</td>\n",
       "      <td>8.3</td>\n",
       "      <td>1948-01-24</td>\n",
       "      <td>Fred Dobbs (Humphrey Bogart) and Bob Curtin (T...</td>\n",
       "    </tr>\n",
       "    <tr>\n",
       "      <th>4</th>\n",
       "      <td>tt0126886</td>\n",
       "      <td>Tracy Flick is running unopposed for this year...</td>\n",
       "      <td>1h 43min</td>\n",
       "      <td>[Comedy, Drama, Romance]</td>\n",
       "      <td>7.3</td>\n",
       "      <td>1999-05-07</td>\n",
       "      <td>Jim McAllister (Matthew Broderick) is a much-a...</td>\n",
       "    </tr>\n",
       "    <tr>\n",
       "      <th>...</th>\n",
       "      <td>...</td>\n",
       "      <td>...</td>\n",
       "      <td>...</td>\n",
       "      <td>...</td>\n",
       "      <td>...</td>\n",
       "      <td>...</td>\n",
       "      <td>...</td>\n",
       "    </tr>\n",
       "    <tr>\n",
       "      <th>1567</th>\n",
       "      <td>tt0289879</td>\n",
       "      <td>Evan Treborn grows up in a small town with his...</td>\n",
       "      <td>1h 53min</td>\n",
       "      <td>[Sci-Fi, Thriller]</td>\n",
       "      <td>7.7</td>\n",
       "      <td>2004-01-23</td>\n",
       "      <td>In the year 1998, Evan Treborn (Ashton Kutcher...</td>\n",
       "    </tr>\n",
       "    <tr>\n",
       "      <th>1568</th>\n",
       "      <td>tt1723811</td>\n",
       "      <td>Brandon is a 30-something man living in New Yo...</td>\n",
       "      <td>1h 41min</td>\n",
       "      <td>[Drama]</td>\n",
       "      <td>7.2</td>\n",
       "      <td>2012-01-13</td>\n",
       "      <td>Brandon (Michael Fassbender) is a successful, ...</td>\n",
       "    </tr>\n",
       "    <tr>\n",
       "      <th>1569</th>\n",
       "      <td>tt5013056</td>\n",
       "      <td>Evacuation of Allied soldiers from the British...</td>\n",
       "      <td>1h 46min</td>\n",
       "      <td>[Action, Drama, History]</td>\n",
       "      <td>8.1</td>\n",
       "      <td>2017-07-21</td>\n",
       "      <td>The film alternates between three different pe...</td>\n",
       "    </tr>\n",
       "    <tr>\n",
       "      <th>1570</th>\n",
       "      <td>tt0104014/</td>\n",
       "      <td>For a while now, beautiful 24-year-old Diana B...</td>\n",
       "      <td>1h 33min</td>\n",
       "      <td>[Comedy, Drama]</td>\n",
       "      <td>5.3</td>\n",
       "      <td>1992-02-21</td>\n",
       "      <td></td>\n",
       "    </tr>\n",
       "    <tr>\n",
       "      <th>1571</th>\n",
       "      <td>tt0114142/</td>\n",
       "      <td>The marriage of David Burgess, a senior execut...</td>\n",
       "      <td>1h 32min</td>\n",
       "      <td>[Drama, Thriller]</td>\n",
       "      <td>4.0</td>\n",
       "      <td>1999-01-29</td>\n",
       "      <td></td>\n",
       "    </tr>\n",
       "  </tbody>\n",
       "</table>\n",
       "<p>1572 rows × 7 columns</p>\n",
       "</div>"
      ],
      "text/plain": [
       "        movie_id                                       plot_summary  duration  \\\n",
       "0      tt0105112  Former CIA analyst, Jack Ryan is in England wi...  1h 57min   \n",
       "1      tt1204975  Billy (Michael Douglas), Paddy (Robert De Niro...  1h 45min   \n",
       "2      tt0243655  The setting is Camp Firewood, the year 1981. I...  1h 37min   \n",
       "3      tt0040897  Fred C. Dobbs and Bob Curtin, both down on the...   2h 6min   \n",
       "4      tt0126886  Tracy Flick is running unopposed for this year...  1h 43min   \n",
       "...          ...                                                ...       ...   \n",
       "1567   tt0289879  Evan Treborn grows up in a small town with his...  1h 53min   \n",
       "1568   tt1723811  Brandon is a 30-something man living in New Yo...  1h 41min   \n",
       "1569   tt5013056  Evacuation of Allied soldiers from the British...  1h 46min   \n",
       "1570  tt0104014/  For a while now, beautiful 24-year-old Diana B...  1h 33min   \n",
       "1571  tt0114142/  The marriage of David Burgess, a senior execut...  1h 32min   \n",
       "\n",
       "                            genre  rating release_date  \\\n",
       "0              [Action, Thriller]     6.9   1992-06-05   \n",
       "1                        [Comedy]     6.6   2013-11-01   \n",
       "2               [Comedy, Romance]     6.7   2002-04-11   \n",
       "3     [Adventure, Drama, Western]     8.3   1948-01-24   \n",
       "4        [Comedy, Drama, Romance]     7.3   1999-05-07   \n",
       "...                           ...     ...          ...   \n",
       "1567           [Sci-Fi, Thriller]     7.7   2004-01-23   \n",
       "1568                      [Drama]     7.2   2012-01-13   \n",
       "1569     [Action, Drama, History]     8.1   2017-07-21   \n",
       "1570              [Comedy, Drama]     5.3   1992-02-21   \n",
       "1571            [Drama, Thriller]     4.0   1999-01-29   \n",
       "\n",
       "                                          plot_synopsis  \n",
       "0     Jack Ryan (Ford) is on a \"working vacation\" in...  \n",
       "1     Four boys around the age of 10 are friends in ...  \n",
       "2                                                        \n",
       "3     Fred Dobbs (Humphrey Bogart) and Bob Curtin (T...  \n",
       "4     Jim McAllister (Matthew Broderick) is a much-a...  \n",
       "...                                                 ...  \n",
       "1567  In the year 1998, Evan Treborn (Ashton Kutcher...  \n",
       "1568  Brandon (Michael Fassbender) is a successful, ...  \n",
       "1569  The film alternates between three different pe...  \n",
       "1570                                                     \n",
       "1571                                                     \n",
       "\n",
       "[1572 rows x 7 columns]"
      ]
     },
     "execution_count": 3,
     "metadata": {},
     "output_type": "execute_result"
    }
   ],
   "source": [
    "movie_details = pd.read_json('./data/IMDB_movie_details.json', lines=True)\n",
    "display(movie_details.info())\n",
    "movie_details"
   ]
  },
  {
   "cell_type": "markdown",
   "id": "653a024b",
   "metadata": {},
   "source": [
    "Convert 'release_date' to a datetime object"
   ]
  },
  {
   "cell_type": "code",
   "execution_count": 4,
   "id": "366546b1",
   "metadata": {
    "ExecuteTime": {
     "end_time": "2022-05-03T15:29:18.782596Z",
     "start_time": "2022-05-03T15:29:18.772180Z"
    }
   },
   "outputs": [],
   "source": [
    "movie_details['release_date'] = pd.to_datetime(movie_details.release_date)"
   ]
  },
  {
   "cell_type": "markdown",
   "id": "b361ba6d",
   "metadata": {},
   "source": [
    "Convert duration into a minute count (integer)"
   ]
  },
  {
   "cell_type": "code",
   "execution_count": 5,
   "id": "ebdc0b96",
   "metadata": {
    "ExecuteTime": {
     "end_time": "2022-05-03T15:29:20.320753Z",
     "start_time": "2022-05-03T15:29:20.266697Z"
    }
   },
   "outputs": [],
   "source": [
    "hour = re.compile('(\\d+)h')\n",
    "minute = re.compile('(\\d+)min')\n",
    "\n",
    "def duration_convert(df):\n",
    "    # set intial duration to 0\n",
    "    duration = 0\n",
    "    # find number of hours and minutes\n",
    "    hour_found = hour.findall(df.duration)\n",
    "    minute_found = minute.findall(df.duration)\n",
    "    # if hours, multiply value by 60 and add to duration\n",
    "    if hour_found:\n",
    "        duration += 60 * int(hour_found[0])\n",
    "    # if minutes, add to duration\n",
    "    if minute_found:\n",
    "        duration += int(minute_found[0])\n",
    "    # return total number of minutes\n",
    "    return duration\n",
    "\n",
    "movie_details['duration'] = movie_details.apply(duration_convert, axis=1)"
   ]
  },
  {
   "cell_type": "markdown",
   "id": "6834d6c9",
   "metadata": {},
   "source": [
    "Confirm that genre contains lists for possible future genre analysis"
   ]
  },
  {
   "cell_type": "code",
   "execution_count": 6,
   "id": "3c9d9c90",
   "metadata": {
    "ExecuteTime": {
     "end_time": "2022-05-03T15:29:22.211809Z",
     "start_time": "2022-05-03T15:29:21.908256Z"
    }
   },
   "outputs": [
    {
     "name": "stdout",
     "output_type": "stream",
     "text": [
      "There are 0 entries for genre that are not a list\n"
     ]
    }
   ],
   "source": [
    "for i in list(range(len(movie_details))):\n",
    "    count = 0\n",
    "    if str(type(movie_details.iloc[i].genre)) != \"<class 'list'>\":\n",
    "        count += 1\n",
    "        print(type(movie_details.iloc[i].genre))\n",
    "print(f\"There are {count} entries for genre that are not a list\")"
   ]
  },
  {
   "cell_type": "markdown",
   "id": "77177116",
   "metadata": {},
   "source": [
    "There are some movie_ids that have a trailing forward slash, we need to fix that to merge the data"
   ]
  },
  {
   "cell_type": "code",
   "execution_count": 14,
   "id": "1b63ec62",
   "metadata": {
    "ExecuteTime": {
     "end_time": "2022-05-03T15:36:48.633598Z",
     "start_time": "2022-05-03T15:36:48.593912Z"
    }
   },
   "outputs": [],
   "source": [
    "def fix_movie_id(df):\n",
    "    if df.movie_id[-1] == '/':\n",
    "        return  df.movie_id[:-1]\n",
    "    else:\n",
    "        return df.movie_id\n",
    "\n",
    "movie_details['movie_id'] = movie_details.apply(fix_movie_id, axis=1)"
   ]
  },
  {
   "cell_type": "markdown",
   "id": "9fed2c3f",
   "metadata": {},
   "source": [
    "_____________\n",
    "Check on how many empty plot summary/synopsis there are"
   ]
  },
  {
   "cell_type": "code",
   "execution_count": 15,
   "id": "ea6e8e94",
   "metadata": {
    "ExecuteTime": {
     "end_time": "2022-05-03T15:37:12.306880Z",
     "start_time": "2022-05-03T15:37:12.294952Z"
    },
    "run_control": {
     "marked": false
    }
   },
   "outputs": [
    {
     "name": "stdout",
     "output_type": "stream",
     "text": [
      "There are 0 entries with an empty summary.\n",
      "There are 233 entries with an empty synopsis.\n"
     ]
    }
   ],
   "source": [
    "empty_summary = len(movie_details[movie_details.plot_summary == ''])\n",
    "empty_synopsis = len(movie_details[movie_details.plot_synopsis == ''])\n",
    "print(f\"There are {empty_summary} entries with an empty summary.\\nThere are {empty_synopsis} entries with an empty synopsis.\")"
   ]
  },
  {
   "cell_type": "code",
   "execution_count": 16,
   "id": "efcae333",
   "metadata": {
    "ExecuteTime": {
     "end_time": "2022-05-03T15:37:13.722808Z",
     "start_time": "2022-05-03T15:37:13.715863Z"
    }
   },
   "outputs": [
    {
     "name": "stdout",
     "output_type": "stream",
     "text": [
      "The first entry summary length is: 1034\n",
      "The first entry synopsis length is: 8605\n"
     ]
    }
   ],
   "source": [
    "first_summary_len = len(movie_details.iloc[0].plot_summary)\n",
    "first_synopsis_len = len(movie_details.iloc[0].plot_synopsis)\n",
    "print(f\"The first entry summary length is: {first_summary_len}\\nThe first entry synopsis length is: {first_synopsis_len}\")"
   ]
  },
  {
   "cell_type": "code",
   "execution_count": 20,
   "id": "af457968",
   "metadata": {
    "ExecuteTime": {
     "end_time": "2022-05-03T15:40:03.040699Z",
     "start_time": "2022-05-03T15:40:03.028271Z"
    }
   },
   "outputs": [],
   "source": [
    "no_synopsis_ids = list(movie_details[movie_details.plot_synopsis == '']['movie_id'])\n",
    "\n",
    "with open('no_synopsis_ids.pkl', 'wb') as f:\n",
    "    pickle.dump(no_synopsis_ids, f)\n",
    "\n",
    "# load the saved list of indicies\n",
    "with open('no_synopsis_ids.pkl', 'rb') as f:\n",
    "    no_synopsis_ids = pickle.load(f)"
   ]
  },
  {
   "cell_type": "markdown",
   "id": "42be0458",
   "metadata": {},
   "source": [
    "The first entry's summary and synopsis reveals that the former is shorter than the latter, which is the field containing some missing values. Checking the whole dataframe to see if that relationship is always the case."
   ]
  },
  {
   "cell_type": "code",
   "execution_count": 19,
   "id": "c7d04a96",
   "metadata": {
    "ExecuteTime": {
     "end_time": "2022-05-03T15:37:28.481217Z",
     "start_time": "2022-05-03T15:37:27.785329Z"
    }
   },
   "outputs": [
    {
     "name": "stdout",
     "output_type": "stream",
     "text": [
      "There are 23 entries with a synopsis where the summary length is greater than the synopsis length.\n"
     ]
    }
   ],
   "source": [
    "count = 0\n",
    "\n",
    "for i in list(range(len(movie_details))):\n",
    "    if movie_details.iloc[i].plot_synopsis != '':\n",
    "        summary_len = len(movie_details.iloc[i].plot_summary)\n",
    "        synopsis_len = len(movie_details.iloc[i].plot_synopsis)\n",
    "        if summary_len > synopsis_len:\n",
    "            count += 1\n",
    "    \n",
    "print(f\"There are {count} entries with a synopsis where the summary length is greater than the synopsis length.\")"
   ]
  },
  {
   "cell_type": "markdown",
   "id": "76b91fdf",
   "metadata": {},
   "source": [
    "It would be best to use the film synopsis as it is longer and contains more detail about the film. But we are missing 233 synopses from the data. We have saved the film_ids for these films with missing synopsis. With that many missing, we will use the film summary instead of synopsis."
   ]
  },
  {
   "cell_type": "markdown",
   "id": "c804d7d2",
   "metadata": {},
   "source": [
    "### Entity extraction of film summary"
   ]
  },
  {
   "cell_type": "code",
   "execution_count": null,
   "id": "da063449",
   "metadata": {},
   "outputs": [],
   "source": [
    "# def summary_entities(row):\n",
    "#     # get the film summary\n",
    "#     summary = row.plot_summary\n",
    "#     # generate new features for character and word count of the summary\n",
    "#     row['summary_char_count'] = len(summary)\n",
    "#     row['summary_word_count'] = len(summary.split(' '))\n",
    "#     # get the entities with spacy\n",
    "#     doc = nlp(summary)\n",
    "#     # initialize list of entities and their counts\n",
    "#     ent_list = []\n",
    "#     ent_count = []\n",
    "#     # append each entity to the list of entities\n",
    "#     for ent in doc.ents:\n",
    "#         ent_list.append(ent.text)\n",
    "#     # generate the set of unique entities\n",
    "#     ent_set = set(ent_list)\n",
    "#     # append a tuple to ent_count with each found entity and its count\n",
    "#     for ent in ent_set:\n",
    "#         ent_count.append((ent, ent_list.count(ent)))\n",
    "#     # set number of unique entities and initialize the total count to 0\n",
    "#     unique_ents = len(ent_count)\n",
    "#     unique_ent_count = 0\n",
    "#     # for each tuple, add the count from the entity frequency to the total count\n",
    "#     for x in ent_count:\n",
    "#         unique_ent_count += x[1]\n",
    "#     # get the average count for an entity\n",
    "#     if unique_ents != 0:\n",
    "#         avg_count = round(unique_ent_count / unique_ents, 2)\n",
    "#     else:\n",
    "#         avg_count = 0\n",
    "#     # generate new features for the total entity count, unique count, and avg frequency\n",
    "#     row['summary_entity_count'] = len(ent_list)\n",
    "#     row['summary_unique_entities'] = unique_ents\n",
    "#     row['summary_avg_entity_freq'] = avg_count\n",
    "#     # return the row\n",
    "#     return row\n",
    "\n",
    "# movie_details = movie_details.apply(summary_entities, axis=1)"
   ]
  },
  {
   "cell_type": "markdown",
   "id": "6b3b4388",
   "metadata": {},
   "source": [
    "### Tokenize film summary"
   ]
  },
  {
   "cell_type": "code",
   "execution_count": null,
   "id": "cbf385d8",
   "metadata": {},
   "outputs": [],
   "source": [
    "# summary_stopwords = stopwords.words('english')\n",
    "# pattern = \"([a-zA-Z]+(?:'[a-z]+)?)\"\n",
    "# tokenizer = RegexpTokenizer(pattern)\n",
    "\n",
    "# def summary_tokenize(row):\n",
    "#     # get the film summary\n",
    "#     summary = row.plot_summary\n",
    "#     # tokenize\n",
    "#     summary_tokens = tokenizer.tokenize(summary)\n",
    "#     summary_tokens = [token.lower() for token in summary_tokens]\n",
    "#     summary_tokens = [token for token in summary_tokens if token not in summary_stopwords]\n",
    "#     # set new feature to token list\n",
    "#     row['summary_tokens'] = summary_tokens\n",
    "#     row['summary_token_count'] = len(summary_tokens)\n",
    "#     return row\n",
    "\n",
    "# movie_details = movie_details.apply(summary_tokenize, axis=1)"
   ]
  },
  {
   "cell_type": "markdown",
   "id": "21657f7d",
   "metadata": {
    "heading_collapsed": true
   },
   "source": [
    "## Movie Reviews"
   ]
  },
  {
   "cell_type": "code",
   "execution_count": 11,
   "id": "6d1ca975",
   "metadata": {
    "ExecuteTime": {
     "end_time": "2022-04-27T22:33:05.317090Z",
     "start_time": "2022-04-27T22:32:48.836049Z"
    },
    "hidden": true
   },
   "outputs": [
    {
     "name": "stdout",
     "output_type": "stream",
     "text": [
      "<class 'pandas.core.frame.DataFrame'>\n",
      "RangeIndex: 573913 entries, 0 to 573912\n",
      "Data columns (total 7 columns):\n",
      " #   Column          Non-Null Count   Dtype \n",
      "---  ------          --------------   ----- \n",
      " 0   review_date     573913 non-null  object\n",
      " 1   movie_id        573913 non-null  object\n",
      " 2   user_id         573913 non-null  object\n",
      " 3   is_spoiler      573913 non-null  bool  \n",
      " 4   review_text     573913 non-null  object\n",
      " 5   rating          573913 non-null  int64 \n",
      " 6   review_summary  573913 non-null  object\n",
      "dtypes: bool(1), int64(1), object(5)\n",
      "memory usage: 26.8+ MB\n"
     ]
    },
    {
     "data": {
      "text/plain": [
       "None"
      ]
     },
     "metadata": {},
     "output_type": "display_data"
    },
    {
     "data": {
      "text/html": [
       "<div>\n",
       "<style scoped>\n",
       "    .dataframe tbody tr th:only-of-type {\n",
       "        vertical-align: middle;\n",
       "    }\n",
       "\n",
       "    .dataframe tbody tr th {\n",
       "        vertical-align: top;\n",
       "    }\n",
       "\n",
       "    .dataframe thead th {\n",
       "        text-align: right;\n",
       "    }\n",
       "</style>\n",
       "<table border=\"1\" class=\"dataframe\">\n",
       "  <thead>\n",
       "    <tr style=\"text-align: right;\">\n",
       "      <th></th>\n",
       "      <th>review_date</th>\n",
       "      <th>movie_id</th>\n",
       "      <th>user_id</th>\n",
       "      <th>is_spoiler</th>\n",
       "      <th>review_text</th>\n",
       "      <th>rating</th>\n",
       "      <th>review_summary</th>\n",
       "    </tr>\n",
       "  </thead>\n",
       "  <tbody>\n",
       "    <tr>\n",
       "      <th>0</th>\n",
       "      <td>10 February 2006</td>\n",
       "      <td>tt0111161</td>\n",
       "      <td>ur1898687</td>\n",
       "      <td>True</td>\n",
       "      <td>In its Oscar year, Shawshank Redemption (writt...</td>\n",
       "      <td>10</td>\n",
       "      <td>A classic piece of unforgettable film-making.</td>\n",
       "    </tr>\n",
       "    <tr>\n",
       "      <th>1</th>\n",
       "      <td>6 September 2000</td>\n",
       "      <td>tt0111161</td>\n",
       "      <td>ur0842118</td>\n",
       "      <td>True</td>\n",
       "      <td>The Shawshank Redemption is without a doubt on...</td>\n",
       "      <td>10</td>\n",
       "      <td>Simply amazing. The best film of the 90's.</td>\n",
       "    </tr>\n",
       "    <tr>\n",
       "      <th>2</th>\n",
       "      <td>3 August 2001</td>\n",
       "      <td>tt0111161</td>\n",
       "      <td>ur1285640</td>\n",
       "      <td>True</td>\n",
       "      <td>I believe that this film is the best story eve...</td>\n",
       "      <td>8</td>\n",
       "      <td>The best story ever told on film</td>\n",
       "    </tr>\n",
       "    <tr>\n",
       "      <th>3</th>\n",
       "      <td>1 September 2002</td>\n",
       "      <td>tt0111161</td>\n",
       "      <td>ur1003471</td>\n",
       "      <td>True</td>\n",
       "      <td>**Yes, there are SPOILERS here**This film has ...</td>\n",
       "      <td>10</td>\n",
       "      <td>Busy dying or busy living?</td>\n",
       "    </tr>\n",
       "    <tr>\n",
       "      <th>4</th>\n",
       "      <td>20 May 2004</td>\n",
       "      <td>tt0111161</td>\n",
       "      <td>ur0226855</td>\n",
       "      <td>True</td>\n",
       "      <td>At the heart of this extraordinary movie is a ...</td>\n",
       "      <td>8</td>\n",
       "      <td>Great story, wondrously told and acted</td>\n",
       "    </tr>\n",
       "    <tr>\n",
       "      <th>...</th>\n",
       "      <td>...</td>\n",
       "      <td>...</td>\n",
       "      <td>...</td>\n",
       "      <td>...</td>\n",
       "      <td>...</td>\n",
       "      <td>...</td>\n",
       "      <td>...</td>\n",
       "    </tr>\n",
       "    <tr>\n",
       "      <th>573908</th>\n",
       "      <td>8 August 1999</td>\n",
       "      <td>tt0139239</td>\n",
       "      <td>ur0100166</td>\n",
       "      <td>False</td>\n",
       "      <td>Go is wise, fast and pure entertainment. Assem...</td>\n",
       "      <td>10</td>\n",
       "      <td>The best teen movie of the nineties</td>\n",
       "    </tr>\n",
       "    <tr>\n",
       "      <th>573909</th>\n",
       "      <td>31 July 1999</td>\n",
       "      <td>tt0139239</td>\n",
       "      <td>ur0021767</td>\n",
       "      <td>False</td>\n",
       "      <td>Well, what shall I say. this one´s fun at any ...</td>\n",
       "      <td>9</td>\n",
       "      <td>Go - see the movie</td>\n",
       "    </tr>\n",
       "    <tr>\n",
       "      <th>573910</th>\n",
       "      <td>20 July 1999</td>\n",
       "      <td>tt0139239</td>\n",
       "      <td>ur0392750</td>\n",
       "      <td>False</td>\n",
       "      <td>Go is the best movie I have ever seen, and I'v...</td>\n",
       "      <td>10</td>\n",
       "      <td>It's the best movie I've ever seen</td>\n",
       "    </tr>\n",
       "    <tr>\n",
       "      <th>573911</th>\n",
       "      <td>11 June 1999</td>\n",
       "      <td>tt0139239</td>\n",
       "      <td>ur0349105</td>\n",
       "      <td>False</td>\n",
       "      <td>Call this 1999 teenage version of Pulp Fiction...</td>\n",
       "      <td>3</td>\n",
       "      <td>Haven't we seen this before?</td>\n",
       "    </tr>\n",
       "    <tr>\n",
       "      <th>573912</th>\n",
       "      <td>3 May 1999</td>\n",
       "      <td>tt0139239</td>\n",
       "      <td>ur0156431</td>\n",
       "      <td>False</td>\n",
       "      <td>Why was this movie made? No doubt to sucker in...</td>\n",
       "      <td>2</td>\n",
       "      <td>Go doesn't go anywhere</td>\n",
       "    </tr>\n",
       "  </tbody>\n",
       "</table>\n",
       "<p>573913 rows × 7 columns</p>\n",
       "</div>"
      ],
      "text/plain": [
       "             review_date   movie_id    user_id  is_spoiler  \\\n",
       "0       10 February 2006  tt0111161  ur1898687        True   \n",
       "1       6 September 2000  tt0111161  ur0842118        True   \n",
       "2          3 August 2001  tt0111161  ur1285640        True   \n",
       "3       1 September 2002  tt0111161  ur1003471        True   \n",
       "4            20 May 2004  tt0111161  ur0226855        True   \n",
       "...                  ...        ...        ...         ...   \n",
       "573908     8 August 1999  tt0139239  ur0100166       False   \n",
       "573909      31 July 1999  tt0139239  ur0021767       False   \n",
       "573910      20 July 1999  tt0139239  ur0392750       False   \n",
       "573911      11 June 1999  tt0139239  ur0349105       False   \n",
       "573912        3 May 1999  tt0139239  ur0156431       False   \n",
       "\n",
       "                                              review_text  rating  \\\n",
       "0       In its Oscar year, Shawshank Redemption (writt...      10   \n",
       "1       The Shawshank Redemption is without a doubt on...      10   \n",
       "2       I believe that this film is the best story eve...       8   \n",
       "3       **Yes, there are SPOILERS here**This film has ...      10   \n",
       "4       At the heart of this extraordinary movie is a ...       8   \n",
       "...                                                   ...     ...   \n",
       "573908  Go is wise, fast and pure entertainment. Assem...      10   \n",
       "573909  Well, what shall I say. this one´s fun at any ...       9   \n",
       "573910  Go is the best movie I have ever seen, and I'v...      10   \n",
       "573911  Call this 1999 teenage version of Pulp Fiction...       3   \n",
       "573912  Why was this movie made? No doubt to sucker in...       2   \n",
       "\n",
       "                                       review_summary  \n",
       "0       A classic piece of unforgettable film-making.  \n",
       "1          Simply amazing. The best film of the 90's.  \n",
       "2                    The best story ever told on film  \n",
       "3                          Busy dying or busy living?  \n",
       "4              Great story, wondrously told and acted  \n",
       "...                                               ...  \n",
       "573908            The best teen movie of the nineties  \n",
       "573909                             Go - see the movie  \n",
       "573910             It's the best movie I've ever seen  \n",
       "573911                   Haven't we seen this before?  \n",
       "573912                         Go doesn't go anywhere  \n",
       "\n",
       "[573913 rows x 7 columns]"
      ]
     },
     "execution_count": 11,
     "metadata": {},
     "output_type": "execute_result"
    }
   ],
   "source": [
    "movie_reviews = pd.read_json('./data/IMDB_reviews.json', lines=True)\n",
    "display(movie_reviews.info())\n",
    "movie_reviews"
   ]
  },
  {
   "cell_type": "code",
   "execution_count": 12,
   "id": "59552a0e",
   "metadata": {
    "ExecuteTime": {
     "end_time": "2022-04-27T22:33:05.633538Z",
     "start_time": "2022-04-27T22:33:05.436130Z"
    },
    "hidden": true
   },
   "outputs": [
    {
     "name": "stdout",
     "output_type": "stream",
     "text": [
      "There are 1572 entries in movie_details and 1572 unique movie_id's in movie_reviews\n"
     ]
    }
   ],
   "source": [
    "unique_movies_in_reviews = movie_reviews.movie_id.nunique()\n",
    "print(f\"There are {len(movie_details)} entries in movie_details and {unique_movies_in_reviews} unique movie_id's in movie_reviews\")"
   ]
  },
  {
   "cell_type": "markdown",
   "id": "d1b20a04",
   "metadata": {
    "hidden": true
   },
   "source": [
    "Converting the review_date to datetime"
   ]
  },
  {
   "cell_type": "code",
   "execution_count": 13,
   "id": "7425e306",
   "metadata": {
    "ExecuteTime": {
     "end_time": "2022-04-27T22:34:25.189125Z",
     "start_time": "2022-04-27T22:33:05.743154Z"
    },
    "hidden": true
   },
   "outputs": [],
   "source": [
    "movie_reviews['review_date'] = pd.to_datetime(movie_reviews.review_date)"
   ]
  },
  {
   "cell_type": "code",
   "execution_count": 14,
   "id": "3b5af0ce",
   "metadata": {
    "ExecuteTime": {
     "end_time": "2022-04-27T22:34:25.419954Z",
     "start_time": "2022-04-27T22:34:25.319240Z"
    },
    "hidden": true
   },
   "outputs": [
    {
     "data": {
      "text/html": [
       "<div>\n",
       "<style scoped>\n",
       "    .dataframe tbody tr th:only-of-type {\n",
       "        vertical-align: middle;\n",
       "    }\n",
       "\n",
       "    .dataframe tbody tr th {\n",
       "        vertical-align: top;\n",
       "    }\n",
       "\n",
       "    .dataframe thead th {\n",
       "        text-align: right;\n",
       "    }\n",
       "</style>\n",
       "<table border=\"1\" class=\"dataframe\">\n",
       "  <thead>\n",
       "    <tr style=\"text-align: right;\">\n",
       "      <th></th>\n",
       "      <th>review_date</th>\n",
       "      <th>rating</th>\n",
       "    </tr>\n",
       "  </thead>\n",
       "  <tbody>\n",
       "    <tr>\n",
       "      <th>count</th>\n",
       "      <td>573913</td>\n",
       "      <td>573913.000000</td>\n",
       "    </tr>\n",
       "    <tr>\n",
       "      <th>mean</th>\n",
       "      <td>2009-07-20 04:42:25.548193280</td>\n",
       "      <td>6.954254</td>\n",
       "    </tr>\n",
       "    <tr>\n",
       "      <th>min</th>\n",
       "      <td>1998-07-28 00:00:00</td>\n",
       "      <td>1.000000</td>\n",
       "    </tr>\n",
       "    <tr>\n",
       "      <th>25%</th>\n",
       "      <td>2005-06-18 00:00:00</td>\n",
       "      <td>5.000000</td>\n",
       "    </tr>\n",
       "    <tr>\n",
       "      <th>50%</th>\n",
       "      <td>2009-07-25 00:00:00</td>\n",
       "      <td>8.000000</td>\n",
       "    </tr>\n",
       "    <tr>\n",
       "      <th>75%</th>\n",
       "      <td>2014-05-15 00:00:00</td>\n",
       "      <td>10.000000</td>\n",
       "    </tr>\n",
       "    <tr>\n",
       "      <th>max</th>\n",
       "      <td>2018-01-07 00:00:00</td>\n",
       "      <td>10.000000</td>\n",
       "    </tr>\n",
       "    <tr>\n",
       "      <th>std</th>\n",
       "      <td>NaN</td>\n",
       "      <td>2.956295</td>\n",
       "    </tr>\n",
       "  </tbody>\n",
       "</table>\n",
       "</div>"
      ],
      "text/plain": [
       "                         review_date         rating\n",
       "count                         573913  573913.000000\n",
       "mean   2009-07-20 04:42:25.548193280       6.954254\n",
       "min              1998-07-28 00:00:00       1.000000\n",
       "25%              2005-06-18 00:00:00       5.000000\n",
       "50%              2009-07-25 00:00:00       8.000000\n",
       "75%              2014-05-15 00:00:00      10.000000\n",
       "max              2018-01-07 00:00:00      10.000000\n",
       "std                              NaN       2.956295"
      ]
     },
     "execution_count": 14,
     "metadata": {},
     "output_type": "execute_result"
    }
   ],
   "source": [
    "movie_reviews.describe(datetime_is_numeric=True)"
   ]
  },
  {
   "cell_type": "markdown",
   "id": "c6730cd8",
   "metadata": {
    "hidden": true
   },
   "source": [
    "### Entity extraction of reviews"
   ]
  },
  {
   "cell_type": "markdown",
   "id": "63f280a9",
   "metadata": {
    "hidden": true
   },
   "source": [
    "This processing takes just under 8 hours."
   ]
  },
  {
   "cell_type": "code",
   "execution_count": null,
   "id": "58b5da6b",
   "metadata": {
    "hidden": true
   },
   "outputs": [],
   "source": [
    "# nlp = spacy.load('en_core_web_sm')\n",
    "\n",
    "# def entity_info(row):\n",
    "#     # get the review summary\n",
    "#     review = row.review_text\n",
    "#     # generate new features for character and word count of the summary\n",
    "#     row['char_count'] = len(review)\n",
    "#     row['word_count'] = len(review.split(' '))\n",
    "#     # get the entities with spacy\n",
    "#     doc = nlp(review)\n",
    "#     # initialize list of entities and their counts\n",
    "#     ent_list = []\n",
    "#     ent_count = []\n",
    "#     # append each entity to the list of entities\n",
    "#     for ent in doc.ents:\n",
    "#         ent_list.append(ent.text)\n",
    "#     # generate the set of unique entities\n",
    "#     ent_set = set(ent_list)\n",
    "#     # append a tuple to ent_count with each found entity and its count\n",
    "#     for ent in ent_set:\n",
    "#         ent_count.append((ent, ent_list.count(ent)))\n",
    "#     # set number of unique entities and initialize the total count to 0\n",
    "#     unique_ents = len(ent_count)\n",
    "#     unique_ent_count = 0\n",
    "#     # for each tuple, add the count from the entity frequency to the total count\n",
    "#     for x in ent_count:\n",
    "#         unique_ent_count += x[1]\n",
    "#     # get the average count for an entity\n",
    "#     if unique_ents != 0:\n",
    "#         avg_count = round(unique_ent_count / unique_ents, 2)\n",
    "#     else:\n",
    "#         avg_count = 0\n",
    "#     # generate new features for the total entity count, unique count, and avg frequency\n",
    "#     row['entity_count'] = len(ent_list)\n",
    "#     row['unique_entities'] = unique_ents\n",
    "#     row['avg_entity_freq'] = avg_count\n",
    "#     # return the row\n",
    "#     return row\n",
    "\n",
    "# movie_reviews = movie_reviews.apply(entity_info, axis=1)"
   ]
  },
  {
   "cell_type": "markdown",
   "id": "fba7dba4",
   "metadata": {
    "hidden": true
   },
   "source": [
    "### Tokenize reviews"
   ]
  },
  {
   "cell_type": "code",
   "execution_count": null,
   "id": "a3209718",
   "metadata": {
    "hidden": true
   },
   "outputs": [],
   "source": [
    "# summary_stopwords = stopwords.words('english')\n",
    "# pattern = \"([a-zA-Z]+(?:'[a-z]+)?)\"\n",
    "# tokenizer = RegexpTokenizer(pattern)\n",
    "\n",
    "# def review_tokenize(row):\n",
    "#     # get the film review\n",
    "#     review = row.review_text\n",
    "#     # tokenize\n",
    "#     review_tokens = tokenizer.tokenize(review)\n",
    "#     review_tokens = [token.lower() for token in review_tokens]\n",
    "#     review_tokens = [token for token in review_tokens if token not in summary_stopwords]\n",
    "#     # set new feature to token list\n",
    "#     row['review_tokens'] = review_tokens\n",
    "#     row['review_token_count'] = len(review_tokens)\n",
    "#     return row\n",
    "\n",
    "# movie_reviews = movie_reviews.apply(review_tokenize, axis=1)"
   ]
  },
  {
   "cell_type": "markdown",
   "id": "1ad5bea1",
   "metadata": {},
   "source": [
    "## Merge/Load all data"
   ]
  },
  {
   "cell_type": "code",
   "execution_count": null,
   "id": "b9905230",
   "metadata": {},
   "outputs": [],
   "source": [
    "# merged_df = pd.merge(movie_details, movie_reviews, on='movie_id', how=\"right\")\n",
    "\n",
    "# corrected_columns = ['movie_id', 'plot_summary', 'duration', 'genre', 'film_rating',\n",
    "#                      'release_date', 'plot_synopsis', 'summary_char_count',\n",
    "#                      'summary_word_count', 'summary_entity_count', 'summary_unique_entities',\n",
    "#                      'summary_avg_entity_freq', 'summary_tokens', 'summary_token_count',\n",
    "#                      'review_date', 'user_id', 'is_spoiler', 'review_text', 'reviewer_rating',\n",
    "#                      'review_summary', 'review_char_count', 'review_word_count', 'review_entity_count',\n",
    "#                      'review_unique_entities', 'review_avg_entity_freq', 'review_tokens',\n",
    "#                      'review_token_count']\n",
    "\n",
    "# merged_df.columns = corrected_columns\n",
    "\n",
    "# merged_df.to_parquet('./data/full_dataframe.parquet')"
   ]
  },
  {
   "cell_type": "markdown",
   "id": "52cbe643",
   "metadata": {},
   "source": [
    "This cell reads in the full dataframe from the saved parquet file. The file is large, 573,913 entries with 27 features, takes up about 1.9 GB of space. The load takes about a minute"
   ]
  },
  {
   "cell_type": "code",
   "execution_count": 3,
   "id": "9b1ea75f",
   "metadata": {
    "ExecuteTime": {
     "end_time": "2022-04-30T21:58:54.733706Z",
     "start_time": "2022-04-30T21:57:02.869972Z"
    }
   },
   "outputs": [],
   "source": [
    "merged_df = pd.read_parquet('./data/full_dataframe.parquet')"
   ]
  },
  {
   "cell_type": "code",
   "execution_count": 4,
   "id": "4bf45e31",
   "metadata": {
    "ExecuteTime": {
     "end_time": "2022-04-30T21:58:58.116557Z",
     "start_time": "2022-04-30T21:58:58.081855Z"
    }
   },
   "outputs": [],
   "source": [
    "merged_df['is_spoiler'] = merged_df.is_spoiler.astype(int)"
   ]
  },
  {
   "cell_type": "markdown",
   "id": "a5585e6a",
   "metadata": {},
   "source": [
    "### Exploring review (word count, language)"
   ]
  },
  {
   "cell_type": "code",
   "execution_count": 5,
   "id": "7c585d8f",
   "metadata": {
    "ExecuteTime": {
     "end_time": "2022-04-30T21:59:01.357917Z",
     "start_time": "2022-04-30T21:59:01.275085Z"
    }
   },
   "outputs": [
    {
     "data": {
      "text/plain": [
       "count    573913.000000\n",
       "mean        259.399052\n",
       "std         195.438284\n",
       "min           1.000000\n",
       "25%         131.000000\n",
       "50%         189.000000\n",
       "75%         322.000000\n",
       "max        2673.000000\n",
       "Name: review_word_count, dtype: float64"
      ]
     },
     "execution_count": 5,
     "metadata": {},
     "output_type": "execute_result"
    }
   ],
   "source": [
    "merged_df.review_word_count.describe()"
   ]
  },
  {
   "cell_type": "code",
   "execution_count": 6,
   "id": "20d3825e",
   "metadata": {
    "ExecuteTime": {
     "end_time": "2022-04-30T21:59:05.078436Z",
     "start_time": "2022-04-30T21:59:05.051133Z"
    }
   },
   "outputs": [
    {
     "name": "stdout",
     "output_type": "stream",
     "text": [
      "Upper outlier boundary for word count: 846\n",
      "Lower 2.5% reviews word count: 54.0\n",
      "Upper 2.5% reviews word count: 848.0\n"
     ]
    }
   ],
   "source": [
    "outlier_wc = round(merged_df.review_word_count.mean() + (3 * merged_df.review_word_count.std()),)\n",
    "print(\"Upper outlier boundary for word count:\", outlier_wc)\n",
    "print(\"Lower 2.5% reviews word count:\", merged_df.review_word_count.quantile(0.025))\n",
    "print(\"Upper 2.5% reviews word count:\", merged_df.review_word_count.quantile(0.975))"
   ]
  },
  {
   "cell_type": "markdown",
   "id": "6b013a3e",
   "metadata": {},
   "source": [
    "We saw that our minimum review word count is 1, and our maximum is 2673, but our average is just about 260 words. Defining outliers as 3x the std from the mean, we would not have any lower bound outliers, and our upper bound outliers would be 846 words. Our bottom 2.5% of reviews contains fewer words than 54 and our upper 2.5% contain more words than 848, which is close to the threshold we calculated for outliers.\n",
    "\n",
    "54 words is still quite a few and our model may see value in reviews with that many words, but there may not be value in reviews that are really short.\n",
    "\n",
    "Lets explore restricting reviews by length by looking at the counts for reviews with low word counts. We can modify the max_count value in this next cell to get the frequency by word count, total, and the indicies of all the reviews in question for easy removal"
   ]
  },
  {
   "cell_type": "code",
   "execution_count": 7,
   "id": "81449e18",
   "metadata": {
    "ExecuteTime": {
     "end_time": "2022-04-30T21:59:08.199704Z",
     "start_time": "2022-04-30T21:59:07.986424Z"
    }
   },
   "outputs": [
    {
     "name": "stdout",
     "output_type": "stream",
     "text": [
      "There are 14512 reviews containing 54 or fewer words.\n"
     ]
    }
   ],
   "source": [
    "total = 0\n",
    "min_count = 1\n",
    "max_count = 54\n",
    "review_indices = []\n",
    "\n",
    "for x in range(min_count,max_count+1):\n",
    "    df = merged_df[merged_df.review_word_count == x]\n",
    "    indices = list(df.index)\n",
    "    review_indices.extend(indices)\n",
    "    count = len(df)\n",
    "    total += count\n",
    "#     print(f\"Reviews with {x} words: {count}\")\n",
    "print(f\"There are {total} reviews containing {max_count} or fewer words.\")"
   ]
  },
  {
   "cell_type": "code",
   "execution_count": 8,
   "id": "29d6df12",
   "metadata": {
    "ExecuteTime": {
     "end_time": "2022-04-30T21:59:10.921276Z",
     "start_time": "2022-04-30T21:59:10.871656Z"
    }
   },
   "outputs": [
    {
     "data": {
      "text/plain": [
       "0    14211\n",
       "1      301\n",
       "Name: is_spoiler, dtype: int64"
      ]
     },
     "execution_count": 8,
     "metadata": {},
     "output_type": "execute_result"
    }
   ],
   "source": [
    "merged_df.iloc[review_indices].is_spoiler.value_counts()"
   ]
  },
  {
   "cell_type": "code",
   "execution_count": 9,
   "id": "614993c3",
   "metadata": {
    "ExecuteTime": {
     "end_time": "2022-04-30T21:59:15.857513Z",
     "start_time": "2022-04-30T21:59:13.414686Z"
    }
   },
   "outputs": [
    {
     "name": "stdout",
     "output_type": "stream",
     "text": [
      "There are 14518 reviews containing 846 or more words.\n"
     ]
    }
   ],
   "source": [
    "total = 0\n",
    "min_count = 846\n",
    "max_count = 2673\n",
    "review_indices = []\n",
    "\n",
    "for x in range(min_count,max_count+1):\n",
    "    df = merged_df[merged_df.review_word_count == x]\n",
    "    indices = list(df.index)\n",
    "    review_indices.extend(indices)\n",
    "    count = len(df)\n",
    "    total += count\n",
    "#     if count > 0:\n",
    "#         print(f\"Reviews with {x} words: {count}\")\n",
    "print(f\"There are {total} reviews containing {min_count} or more words.\")"
   ]
  },
  {
   "cell_type": "code",
   "execution_count": 10,
   "id": "c708b195",
   "metadata": {
    "ExecuteTime": {
     "end_time": "2022-04-30T21:59:19.101966Z",
     "start_time": "2022-04-30T21:59:19.042915Z"
    }
   },
   "outputs": [
    {
     "data": {
      "text/plain": [
       "1    7437\n",
       "0    7081\n",
       "Name: is_spoiler, dtype: int64"
      ]
     },
     "execution_count": 10,
     "metadata": {},
     "output_type": "execute_result"
    }
   ],
   "source": [
    "merged_df.iloc[review_indices].is_spoiler.value_counts()"
   ]
  },
  {
   "cell_type": "markdown",
   "id": "d64ce2c2",
   "metadata": {},
   "source": [
    "There are 14,512 reviews under 54 words and most of them (97.9%) are not spoilers. There are 14,518 reviews over 846 words, and unfortunately they contain a small majority of spoilers, much more by percent than our whole dataset. \n",
    "\n",
    "We also discovered through investigation that we have some not english text in reviews, one example in review at iloc 1533. We will engineer a new feature using langdetect to flag any reviews that are not in english."
   ]
  },
  {
   "cell_type": "code",
   "execution_count": 11,
   "id": "a6f91f92",
   "metadata": {
    "ExecuteTime": {
     "end_time": "2022-04-30T21:59:22.439638Z",
     "start_time": "2022-04-30T21:59:22.425254Z"
    }
   },
   "outputs": [
    {
     "data": {
      "text/plain": [
       "'Izledigim filmeler arasinda pek hayli yer kaplamaktadir'"
      ]
     },
     "execution_count": 11,
     "metadata": {},
     "output_type": "execute_result"
    }
   ],
   "source": [
    "merged_df.iloc[1533].review_text"
   ]
  },
  {
   "cell_type": "code",
   "execution_count": 12,
   "id": "654acde7",
   "metadata": {
    "ExecuteTime": {
     "end_time": "2022-04-30T21:59:27.454022Z",
     "start_time": "2022-04-30T21:59:25.749969Z"
    }
   },
   "outputs": [
    {
     "data": {
      "text/plain": [
       "'tr'"
      ]
     },
     "execution_count": 12,
     "metadata": {},
     "output_type": "execute_result"
    }
   ],
   "source": [
    "detect(merged_df.iloc[1533].review_text)"
   ]
  },
  {
   "cell_type": "code",
   "execution_count": 13,
   "id": "931d42d6",
   "metadata": {
    "ExecuteTime": {
     "end_time": "2022-04-30T21:59:30.374307Z",
     "start_time": "2022-04-30T21:59:30.330659Z"
    },
    "scrolled": true
   },
   "outputs": [
    {
     "name": "stdout",
     "output_type": "stream",
     "text": [
      "Number of non-english reviews: 53\n"
     ]
    }
   ],
   "source": [
    "# def non_english_review(df):\n",
    "#     review = df.review_text\n",
    "#     if detect(review) != 'en':\n",
    "#         return 1\n",
    "#     else:\n",
    "#         return 0\n",
    "\n",
    "# this takes about an hour and a half\n",
    "# merged_df['non_english_review'] = merged_df.apply(non_english_review, axis=1)\n",
    "\n",
    "# pulling the index values of those entries with non-english reviews\n",
    "# non_english_reviews = list(merged_df[merged_df.non_english_review == 1].index)\n",
    "# going to save this to a pickle file to load later for removing these reviews instead of processing\n",
    "# each time\n",
    "# with open('non_english_reviews.pkl', 'wb') as f:\n",
    "#     pickle.dump(non_english_reviews, f)\n",
    "\n",
    "# load the saved list of indicies\n",
    "with open('non_english_reviews.pkl', 'rb') as f:\n",
    "    non_english_reviews = pickle.load(f)\n",
    "\n",
    "# look at how many non-english reviews we have\n",
    "print(f\"Number of non-english reviews: {len(non_english_reviews)}\")"
   ]
  },
  {
   "cell_type": "markdown",
   "id": "1aedfd53",
   "metadata": {},
   "source": [
    "With so few non-english reviews, we will remove them from consideration in modeling.\n",
    "\n",
    "Something we're not sure about is restricting our reviews based on word count, specifically very low or very high counts. Our average review count was about 260, so we are concerned about picking up on what is spoiler-y in those 'outlier' word count reviews."
   ]
  },
  {
   "cell_type": "code",
   "execution_count": 14,
   "id": "3803b407",
   "metadata": {
    "ExecuteTime": {
     "end_time": "2022-04-30T21:59:33.464874Z",
     "start_time": "2022-04-30T21:59:33.193544Z"
    }
   },
   "outputs": [],
   "source": [
    "merged_df.drop(non_english_reviews, inplace=True)\n",
    "merged_df.reset_index(drop=True, inplace=True)"
   ]
  },
  {
   "cell_type": "markdown",
   "id": "67c625f2",
   "metadata": {
    "heading_collapsed": true
   },
   "source": [
    "## Explore spoilers vs non-spoilers"
   ]
  },
  {
   "cell_type": "code",
   "execution_count": 132,
   "id": "52b9d51c",
   "metadata": {
    "ExecuteTime": {
     "end_time": "2022-04-30T21:34:28.880087Z",
     "start_time": "2022-04-30T21:34:28.630587Z"
    },
    "hidden": true
   },
   "outputs": [
    {
     "data": {
      "text/html": [
       "<div>\n",
       "<style scoped>\n",
       "    .dataframe tbody tr th:only-of-type {\n",
       "        vertical-align: middle;\n",
       "    }\n",
       "\n",
       "    .dataframe tbody tr th {\n",
       "        vertical-align: top;\n",
       "    }\n",
       "\n",
       "    .dataframe thead th {\n",
       "        text-align: right;\n",
       "    }\n",
       "</style>\n",
       "<table border=\"1\" class=\"dataframe\">\n",
       "  <thead>\n",
       "    <tr style=\"text-align: right;\">\n",
       "      <th></th>\n",
       "      <th>duration</th>\n",
       "      <th>film_rating</th>\n",
       "      <th>summary_char_count</th>\n",
       "      <th>summary_word_count</th>\n",
       "      <th>summary_entity_count</th>\n",
       "      <th>summary_unique_entities</th>\n",
       "      <th>summary_avg_entity_freq</th>\n",
       "      <th>summary_token_count</th>\n",
       "      <th>is_spoiler</th>\n",
       "      <th>reviewer_rating</th>\n",
       "      <th>review_char_count</th>\n",
       "      <th>review_word_count</th>\n",
       "      <th>review_entity_count</th>\n",
       "      <th>review_unique_entities</th>\n",
       "      <th>review_avg_entity_freq</th>\n",
       "      <th>review_token_count</th>\n",
       "      <th>non_english_review</th>\n",
       "    </tr>\n",
       "  </thead>\n",
       "  <tbody>\n",
       "    <tr>\n",
       "      <th>count</th>\n",
       "      <td>150909.000000</td>\n",
       "      <td>150909.000000</td>\n",
       "      <td>150909.000000</td>\n",
       "      <td>150909.000000</td>\n",
       "      <td>150909.000000</td>\n",
       "      <td>150909.000000</td>\n",
       "      <td>150909.000000</td>\n",
       "      <td>150909.000000</td>\n",
       "      <td>150909.0</td>\n",
       "      <td>150909.000000</td>\n",
       "      <td>150909.000000</td>\n",
       "      <td>150909.000000</td>\n",
       "      <td>150909.000000</td>\n",
       "      <td>150909.000000</td>\n",
       "      <td>150909.000000</td>\n",
       "      <td>150909.000000</td>\n",
       "      <td>150909.0</td>\n",
       "    </tr>\n",
       "    <tr>\n",
       "      <th>mean</th>\n",
       "      <td>121.128488</td>\n",
       "      <td>7.280335</td>\n",
       "      <td>624.412116</td>\n",
       "      <td>117.460476</td>\n",
       "      <td>9.187166</td>\n",
       "      <td>7.519770</td>\n",
       "      <td>1.195448</td>\n",
       "      <td>59.631129</td>\n",
       "      <td>1.0</td>\n",
       "      <td>6.517444</td>\n",
       "      <td>1887.806353</td>\n",
       "      <td>334.917997</td>\n",
       "      <td>17.256658</td>\n",
       "      <td>13.035869</td>\n",
       "      <td>1.256000</td>\n",
       "      <td>173.768132</td>\n",
       "      <td>0.0</td>\n",
       "    </tr>\n",
       "    <tr>\n",
       "      <th>std</th>\n",
       "      <td>24.940509</td>\n",
       "      <td>0.948578</td>\n",
       "      <td>237.507669</td>\n",
       "      <td>41.978237</td>\n",
       "      <td>5.533896</td>\n",
       "      <td>4.162631</td>\n",
       "      <td>0.294973</td>\n",
       "      <td>22.896131</td>\n",
       "      <td>0.0</td>\n",
       "      <td>3.015920</td>\n",
       "      <td>1283.836091</td>\n",
       "      <td>223.268510</td>\n",
       "      <td>15.865774</td>\n",
       "      <td>10.606327</td>\n",
       "      <td>0.369353</td>\n",
       "      <td>118.606237</td>\n",
       "      <td>0.0</td>\n",
       "    </tr>\n",
       "    <tr>\n",
       "      <th>min</th>\n",
       "      <td>42.000000</td>\n",
       "      <td>2.400000</td>\n",
       "      <td>95.000000</td>\n",
       "      <td>15.000000</td>\n",
       "      <td>0.000000</td>\n",
       "      <td>0.000000</td>\n",
       "      <td>0.000000</td>\n",
       "      <td>8.000000</td>\n",
       "      <td>1.0</td>\n",
       "      <td>1.000000</td>\n",
       "      <td>50.000000</td>\n",
       "      <td>8.000000</td>\n",
       "      <td>0.000000</td>\n",
       "      <td>0.000000</td>\n",
       "      <td>0.000000</td>\n",
       "      <td>6.000000</td>\n",
       "      <td>0.0</td>\n",
       "    </tr>\n",
       "    <tr>\n",
       "      <th>25%</th>\n",
       "      <td>105.000000</td>\n",
       "      <td>6.700000</td>\n",
       "      <td>427.000000</td>\n",
       "      <td>82.000000</td>\n",
       "      <td>5.000000</td>\n",
       "      <td>4.000000</td>\n",
       "      <td>1.000000</td>\n",
       "      <td>41.000000</td>\n",
       "      <td>1.0</td>\n",
       "      <td>4.000000</td>\n",
       "      <td>920.000000</td>\n",
       "      <td>166.000000</td>\n",
       "      <td>6.000000</td>\n",
       "      <td>6.000000</td>\n",
       "      <td>1.000000</td>\n",
       "      <td>85.000000</td>\n",
       "      <td>0.0</td>\n",
       "    </tr>\n",
       "    <tr>\n",
       "      <th>50%</th>\n",
       "      <td>119.000000</td>\n",
       "      <td>7.400000</td>\n",
       "      <td>593.000000</td>\n",
       "      <td>114.000000</td>\n",
       "      <td>8.000000</td>\n",
       "      <td>7.000000</td>\n",
       "      <td>1.120000</td>\n",
       "      <td>57.000000</td>\n",
       "      <td>1.0</td>\n",
       "      <td>7.000000</td>\n",
       "      <td>1459.000000</td>\n",
       "      <td>261.000000</td>\n",
       "      <td>12.000000</td>\n",
       "      <td>10.000000</td>\n",
       "      <td>1.170000</td>\n",
       "      <td>135.000000</td>\n",
       "      <td>0.0</td>\n",
       "    </tr>\n",
       "    <tr>\n",
       "      <th>75%</th>\n",
       "      <td>136.000000</td>\n",
       "      <td>8.000000</td>\n",
       "      <td>803.000000</td>\n",
       "      <td>147.000000</td>\n",
       "      <td>12.000000</td>\n",
       "      <td>10.000000</td>\n",
       "      <td>1.310000</td>\n",
       "      <td>77.000000</td>\n",
       "      <td>1.0</td>\n",
       "      <td>9.000000</td>\n",
       "      <td>2456.000000</td>\n",
       "      <td>435.000000</td>\n",
       "      <td>23.000000</td>\n",
       "      <td>17.000000</td>\n",
       "      <td>1.380000</td>\n",
       "      <td>226.000000</td>\n",
       "      <td>0.0</td>\n",
       "    </tr>\n",
       "    <tr>\n",
       "      <th>max</th>\n",
       "      <td>321.000000</td>\n",
       "      <td>9.500000</td>\n",
       "      <td>1077.000000</td>\n",
       "      <td>212.000000</td>\n",
       "      <td>31.000000</td>\n",
       "      <td>25.000000</td>\n",
       "      <td>3.330000</td>\n",
       "      <td>144.000000</td>\n",
       "      <td>1.0</td>\n",
       "      <td>10.000000</td>\n",
       "      <td>14302.000000</td>\n",
       "      <td>2565.000000</td>\n",
       "      <td>176.000000</td>\n",
       "      <td>129.000000</td>\n",
       "      <td>22.000000</td>\n",
       "      <td>1295.000000</td>\n",
       "      <td>0.0</td>\n",
       "    </tr>\n",
       "  </tbody>\n",
       "</table>\n",
       "</div>"
      ],
      "text/plain": [
       "            duration    film_rating  summary_char_count  summary_word_count  \\\n",
       "count  150909.000000  150909.000000       150909.000000       150909.000000   \n",
       "mean      121.128488       7.280335          624.412116          117.460476   \n",
       "std        24.940509       0.948578          237.507669           41.978237   \n",
       "min        42.000000       2.400000           95.000000           15.000000   \n",
       "25%       105.000000       6.700000          427.000000           82.000000   \n",
       "50%       119.000000       7.400000          593.000000          114.000000   \n",
       "75%       136.000000       8.000000          803.000000          147.000000   \n",
       "max       321.000000       9.500000         1077.000000          212.000000   \n",
       "\n",
       "       summary_entity_count  summary_unique_entities  summary_avg_entity_freq  \\\n",
       "count         150909.000000            150909.000000            150909.000000   \n",
       "mean               9.187166                 7.519770                 1.195448   \n",
       "std                5.533896                 4.162631                 0.294973   \n",
       "min                0.000000                 0.000000                 0.000000   \n",
       "25%                5.000000                 4.000000                 1.000000   \n",
       "50%                8.000000                 7.000000                 1.120000   \n",
       "75%               12.000000                10.000000                 1.310000   \n",
       "max               31.000000                25.000000                 3.330000   \n",
       "\n",
       "       summary_token_count  is_spoiler  reviewer_rating  review_char_count  \\\n",
       "count        150909.000000    150909.0    150909.000000      150909.000000   \n",
       "mean             59.631129         1.0         6.517444        1887.806353   \n",
       "std              22.896131         0.0         3.015920        1283.836091   \n",
       "min               8.000000         1.0         1.000000          50.000000   \n",
       "25%              41.000000         1.0         4.000000         920.000000   \n",
       "50%              57.000000         1.0         7.000000        1459.000000   \n",
       "75%              77.000000         1.0         9.000000        2456.000000   \n",
       "max             144.000000         1.0        10.000000       14302.000000   \n",
       "\n",
       "       review_word_count  review_entity_count  review_unique_entities  \\\n",
       "count      150909.000000        150909.000000           150909.000000   \n",
       "mean          334.917997            17.256658               13.035869   \n",
       "std           223.268510            15.865774               10.606327   \n",
       "min             8.000000             0.000000                0.000000   \n",
       "25%           166.000000             6.000000                6.000000   \n",
       "50%           261.000000            12.000000               10.000000   \n",
       "75%           435.000000            23.000000               17.000000   \n",
       "max          2565.000000           176.000000              129.000000   \n",
       "\n",
       "       review_avg_entity_freq  review_token_count  non_english_review  \n",
       "count           150909.000000       150909.000000            150909.0  \n",
       "mean                 1.256000          173.768132                 0.0  \n",
       "std                  0.369353          118.606237                 0.0  \n",
       "min                  0.000000            6.000000                 0.0  \n",
       "25%                  1.000000           85.000000                 0.0  \n",
       "50%                  1.170000          135.000000                 0.0  \n",
       "75%                  1.380000          226.000000                 0.0  \n",
       "max                 22.000000         1295.000000                 0.0  "
      ]
     },
     "execution_count": 132,
     "metadata": {},
     "output_type": "execute_result"
    }
   ],
   "source": [
    "merged_df[merged_df.is_spoiler == 1].describe()"
   ]
  },
  {
   "cell_type": "code",
   "execution_count": 133,
   "id": "9ab3b5b5",
   "metadata": {
    "ExecuteTime": {
     "end_time": "2022-04-30T21:34:31.603130Z",
     "start_time": "2022-04-30T21:34:31.161199Z"
    },
    "hidden": true,
    "scrolled": true
   },
   "outputs": [
    {
     "data": {
      "text/html": [
       "<div>\n",
       "<style scoped>\n",
       "    .dataframe tbody tr th:only-of-type {\n",
       "        vertical-align: middle;\n",
       "    }\n",
       "\n",
       "    .dataframe tbody tr th {\n",
       "        vertical-align: top;\n",
       "    }\n",
       "\n",
       "    .dataframe thead th {\n",
       "        text-align: right;\n",
       "    }\n",
       "</style>\n",
       "<table border=\"1\" class=\"dataframe\">\n",
       "  <thead>\n",
       "    <tr style=\"text-align: right;\">\n",
       "      <th></th>\n",
       "      <th>duration</th>\n",
       "      <th>film_rating</th>\n",
       "      <th>summary_char_count</th>\n",
       "      <th>summary_word_count</th>\n",
       "      <th>summary_entity_count</th>\n",
       "      <th>summary_unique_entities</th>\n",
       "      <th>summary_avg_entity_freq</th>\n",
       "      <th>summary_token_count</th>\n",
       "      <th>is_spoiler</th>\n",
       "      <th>reviewer_rating</th>\n",
       "      <th>review_char_count</th>\n",
       "      <th>review_word_count</th>\n",
       "      <th>review_entity_count</th>\n",
       "      <th>review_unique_entities</th>\n",
       "      <th>review_avg_entity_freq</th>\n",
       "      <th>review_token_count</th>\n",
       "      <th>non_english_review</th>\n",
       "    </tr>\n",
       "  </thead>\n",
       "  <tbody>\n",
       "    <tr>\n",
       "      <th>count</th>\n",
       "      <td>422951.000000</td>\n",
       "      <td>422951.000000</td>\n",
       "      <td>422951.000000</td>\n",
       "      <td>422951.000000</td>\n",
       "      <td>422951.000000</td>\n",
       "      <td>422951.000000</td>\n",
       "      <td>422951.000000</td>\n",
       "      <td>422951.000000</td>\n",
       "      <td>422951.0</td>\n",
       "      <td>422951.000000</td>\n",
       "      <td>422951.000000</td>\n",
       "      <td>422951.000000</td>\n",
       "      <td>422951.000000</td>\n",
       "      <td>422951.000000</td>\n",
       "      <td>422951.000000</td>\n",
       "      <td>422951.000000</td>\n",
       "      <td>422951.0</td>\n",
       "    </tr>\n",
       "    <tr>\n",
       "      <th>mean</th>\n",
       "      <td>120.942258</td>\n",
       "      <td>7.298362</td>\n",
       "      <td>627.099151</td>\n",
       "      <td>118.291786</td>\n",
       "      <td>9.237148</td>\n",
       "      <td>7.556064</td>\n",
       "      <td>1.196654</td>\n",
       "      <td>60.078550</td>\n",
       "      <td>0.0</td>\n",
       "      <td>7.109942</td>\n",
       "      <td>1308.228097</td>\n",
       "      <td>232.475417</td>\n",
       "      <td>11.541337</td>\n",
       "      <td>9.341266</td>\n",
       "      <td>1.148739</td>\n",
       "      <td>120.600954</td>\n",
       "      <td>0.0</td>\n",
       "    </tr>\n",
       "    <tr>\n",
       "      <th>std</th>\n",
       "      <td>25.483269</td>\n",
       "      <td>0.963061</td>\n",
       "      <td>238.361767</td>\n",
       "      <td>42.148804</td>\n",
       "      <td>5.541603</td>\n",
       "      <td>4.174879</td>\n",
       "      <td>0.296576</td>\n",
       "      <td>22.920888</td>\n",
       "      <td>0.0</td>\n",
       "      <td>2.918918</td>\n",
       "      <td>1021.058027</td>\n",
       "      <td>176.857874</td>\n",
       "      <td>12.086183</td>\n",
       "      <td>8.651151</td>\n",
       "      <td>0.351401</td>\n",
       "      <td>94.618036</td>\n",
       "      <td>0.0</td>\n",
       "    </tr>\n",
       "    <tr>\n",
       "      <th>min</th>\n",
       "      <td>42.000000</td>\n",
       "      <td>2.400000</td>\n",
       "      <td>95.000000</td>\n",
       "      <td>15.000000</td>\n",
       "      <td>0.000000</td>\n",
       "      <td>0.000000</td>\n",
       "      <td>0.000000</td>\n",
       "      <td>8.000000</td>\n",
       "      <td>0.0</td>\n",
       "      <td>1.000000</td>\n",
       "      <td>18.000000</td>\n",
       "      <td>1.000000</td>\n",
       "      <td>0.000000</td>\n",
       "      <td>0.000000</td>\n",
       "      <td>0.000000</td>\n",
       "      <td>2.000000</td>\n",
       "      <td>0.0</td>\n",
       "    </tr>\n",
       "    <tr>\n",
       "      <th>25%</th>\n",
       "      <td>104.000000</td>\n",
       "      <td>6.700000</td>\n",
       "      <td>431.000000</td>\n",
       "      <td>83.000000</td>\n",
       "      <td>5.000000</td>\n",
       "      <td>4.000000</td>\n",
       "      <td>1.000000</td>\n",
       "      <td>41.000000</td>\n",
       "      <td>0.0</td>\n",
       "      <td>5.000000</td>\n",
       "      <td>682.000000</td>\n",
       "      <td>124.000000</td>\n",
       "      <td>4.000000</td>\n",
       "      <td>4.000000</td>\n",
       "      <td>1.000000</td>\n",
       "      <td>63.000000</td>\n",
       "      <td>0.0</td>\n",
       "    </tr>\n",
       "    <tr>\n",
       "      <th>50%</th>\n",
       "      <td>118.000000</td>\n",
       "      <td>7.400000</td>\n",
       "      <td>593.000000</td>\n",
       "      <td>114.000000</td>\n",
       "      <td>8.000000</td>\n",
       "      <td>7.000000</td>\n",
       "      <td>1.120000</td>\n",
       "      <td>58.000000</td>\n",
       "      <td>0.0</td>\n",
       "      <td>8.000000</td>\n",
       "      <td>947.000000</td>\n",
       "      <td>171.000000</td>\n",
       "      <td>8.000000</td>\n",
       "      <td>7.000000</td>\n",
       "      <td>1.070000</td>\n",
       "      <td>87.000000</td>\n",
       "      <td>0.0</td>\n",
       "    </tr>\n",
       "    <tr>\n",
       "      <th>75%</th>\n",
       "      <td>135.000000</td>\n",
       "      <td>8.000000</td>\n",
       "      <td>800.000000</td>\n",
       "      <td>148.000000</td>\n",
       "      <td>12.000000</td>\n",
       "      <td>10.000000</td>\n",
       "      <td>1.310000</td>\n",
       "      <td>78.000000</td>\n",
       "      <td>0.0</td>\n",
       "      <td>10.000000</td>\n",
       "      <td>1575.000000</td>\n",
       "      <td>280.000000</td>\n",
       "      <td>14.000000</td>\n",
       "      <td>12.000000</td>\n",
       "      <td>1.250000</td>\n",
       "      <td>145.000000</td>\n",
       "      <td>0.0</td>\n",
       "    </tr>\n",
       "    <tr>\n",
       "      <th>max</th>\n",
       "      <td>321.000000</td>\n",
       "      <td>9.500000</td>\n",
       "      <td>1077.000000</td>\n",
       "      <td>212.000000</td>\n",
       "      <td>31.000000</td>\n",
       "      <td>25.000000</td>\n",
       "      <td>3.330000</td>\n",
       "      <td>144.000000</td>\n",
       "      <td>0.0</td>\n",
       "      <td>10.000000</td>\n",
       "      <td>14963.000000</td>\n",
       "      <td>2673.000000</td>\n",
       "      <td>213.000000</td>\n",
       "      <td>179.000000</td>\n",
       "      <td>27.000000</td>\n",
       "      <td>1333.000000</td>\n",
       "      <td>0.0</td>\n",
       "    </tr>\n",
       "  </tbody>\n",
       "</table>\n",
       "</div>"
      ],
      "text/plain": [
       "            duration    film_rating  summary_char_count  summary_word_count  \\\n",
       "count  422951.000000  422951.000000       422951.000000       422951.000000   \n",
       "mean      120.942258       7.298362          627.099151          118.291786   \n",
       "std        25.483269       0.963061          238.361767           42.148804   \n",
       "min        42.000000       2.400000           95.000000           15.000000   \n",
       "25%       104.000000       6.700000          431.000000           83.000000   \n",
       "50%       118.000000       7.400000          593.000000          114.000000   \n",
       "75%       135.000000       8.000000          800.000000          148.000000   \n",
       "max       321.000000       9.500000         1077.000000          212.000000   \n",
       "\n",
       "       summary_entity_count  summary_unique_entities  summary_avg_entity_freq  \\\n",
       "count         422951.000000            422951.000000            422951.000000   \n",
       "mean               9.237148                 7.556064                 1.196654   \n",
       "std                5.541603                 4.174879                 0.296576   \n",
       "min                0.000000                 0.000000                 0.000000   \n",
       "25%                5.000000                 4.000000                 1.000000   \n",
       "50%                8.000000                 7.000000                 1.120000   \n",
       "75%               12.000000                10.000000                 1.310000   \n",
       "max               31.000000                25.000000                 3.330000   \n",
       "\n",
       "       summary_token_count  is_spoiler  reviewer_rating  review_char_count  \\\n",
       "count        422951.000000    422951.0    422951.000000      422951.000000   \n",
       "mean             60.078550         0.0         7.109942        1308.228097   \n",
       "std              22.920888         0.0         2.918918        1021.058027   \n",
       "min               8.000000         0.0         1.000000          18.000000   \n",
       "25%              41.000000         0.0         5.000000         682.000000   \n",
       "50%              58.000000         0.0         8.000000         947.000000   \n",
       "75%              78.000000         0.0        10.000000        1575.000000   \n",
       "max             144.000000         0.0        10.000000       14963.000000   \n",
       "\n",
       "       review_word_count  review_entity_count  review_unique_entities  \\\n",
       "count      422951.000000        422951.000000           422951.000000   \n",
       "mean          232.475417            11.541337                9.341266   \n",
       "std           176.857874            12.086183                8.651151   \n",
       "min             1.000000             0.000000                0.000000   \n",
       "25%           124.000000             4.000000                4.000000   \n",
       "50%           171.000000             8.000000                7.000000   \n",
       "75%           280.000000            14.000000               12.000000   \n",
       "max          2673.000000           213.000000              179.000000   \n",
       "\n",
       "       review_avg_entity_freq  review_token_count  non_english_review  \n",
       "count           422951.000000       422951.000000            422951.0  \n",
       "mean                 1.148739          120.600954                 0.0  \n",
       "std                  0.351401           94.618036                 0.0  \n",
       "min                  0.000000            2.000000                 0.0  \n",
       "25%                  1.000000           63.000000                 0.0  \n",
       "50%                  1.070000           87.000000                 0.0  \n",
       "75%                  1.250000          145.000000                 0.0  \n",
       "max                 27.000000         1333.000000                 0.0  "
      ]
     },
     "execution_count": 133,
     "metadata": {},
     "output_type": "execute_result"
    }
   ],
   "source": [
    "merged_df[merged_df.is_spoiler == 0].describe()"
   ]
  },
  {
   "cell_type": "markdown",
   "id": "4892e270",
   "metadata": {
    "hidden": true
   },
   "source": [
    "Initial observations from the describe calls on reviews marked as spoiler versus ones that are not:\n",
    "- The reviewer rating is about half a point lower on average for reviews marked as spoilers\n",
    "- The review word count of a spoiler review is longer on average by about 36% (232 -> 335), but does have a more variation\n",
    "- Rougly the same can be said about the entity counts (raw and unique)\n",
    "\n",
    "It looks like there is nothing glaringly obvious about the difference between spoiler and non-spoiler reviews in terms of entities or raw word counts"
   ]
  },
  {
   "cell_type": "markdown",
   "id": "7b39f5c4",
   "metadata": {
    "hidden": true
   },
   "source": [
    "### frequency"
   ]
  },
  {
   "cell_type": "code",
   "execution_count": 44,
   "id": "a583fd50",
   "metadata": {
    "ExecuteTime": {
     "end_time": "2022-04-29T16:28:21.818253Z",
     "start_time": "2022-04-29T16:28:21.402606Z"
    },
    "hidden": true
   },
   "outputs": [
    {
     "data": {
      "image/png": "[encoded data removed]",
      "text/plain": [
       "<Figure size 432x288 with 1 Axes>"
      ]
     },
     "metadata": {},
     "output_type": "display_data"
    }
   ],
   "source": [
    "merged_df.groupby('is_spoiler').size().plot(kind='pie');"
   ]
  },
  {
   "cell_type": "markdown",
   "id": "475fa702",
   "metadata": {
    "hidden": true
   },
   "source": [
    "### by genre - data removal at end of section"
   ]
  },
  {
   "cell_type": "markdown",
   "id": "f87bc1b1",
   "metadata": {
    "hidden": true
   },
   "source": [
    "Pull just the genre feature along with the target 'is_spoiler' so that each film is represented in each genre it's a part of."
   ]
  },
  {
   "cell_type": "code",
   "execution_count": 50,
   "id": "d276d40f",
   "metadata": {
    "ExecuteTime": {
     "end_time": "2022-04-29T16:32:08.982983Z",
     "start_time": "2022-04-29T16:32:08.286504Z"
    },
    "hidden": true
   },
   "outputs": [],
   "source": [
    "genres = merged_df[['genre', 'is_spoiler']].explode('genre').copy()"
   ]
  },
  {
   "cell_type": "code",
   "execution_count": 51,
   "id": "93eb1ff6",
   "metadata": {
    "ExecuteTime": {
     "end_time": "2022-04-29T16:32:11.018084Z",
     "start_time": "2022-04-29T16:32:10.585545Z"
    },
    "hidden": true
   },
   "outputs": [
    {
     "data": {
      "image/png": "[encoded data removed]",
      "text/plain": [
       "<Figure size 1080x576 with 1 Axes>"
      ]
     },
     "metadata": {
      "needs_background": "light"
     },
     "output_type": "display_data"
    }
   ],
   "source": [
    "genres.groupby(['genre', 'is_spoiler']).size().unstack().plot(kind='bar', stacked=True, figsize=(15,8));"
   ]
  },
  {
   "cell_type": "markdown",
   "id": "529bf33b",
   "metadata": {
    "hidden": true
   },
   "source": [
    "The smaller 6 categories are: Film-Noir, Music, Musical, Sport, War, and Western. It's important to note that most of the films reviews are classified with multiple genres. We may consider dropping these films as they don't represent a majority of film reviews. It may be more difficult for the model to correctly identify spoilers from films in these generes, but it may also improve modeling in the majority of reviews."
   ]
  },
  {
   "cell_type": "code",
   "execution_count": 134,
   "id": "715c3cfe",
   "metadata": {
    "ExecuteTime": {
     "end_time": "2022-04-30T21:40:50.429712Z",
     "start_time": "2022-04-30T21:39:05.085502Z"
    },
    "hidden": true
   },
   "outputs": [],
   "source": [
    "genres_to_drop = ['Film-Noir', 'Music', 'Musical', 'Sport', 'War', 'Western']\n",
    "genre_indicies = []\n",
    "\n",
    "for x in range(len(merged_df)):\n",
    "    \n",
    "    genres = merged_df.iloc[x].genre\n",
    "    \n",
    "    if len(genres) == 1:\n",
    "        if any(x in genres_to_drop for x in genres):\n",
    "            genre_indicies.append(x)\n",
    "    \n",
    "# def review_to_drop(df):\n",
    "#     genres = df.genre\n",
    "#     if len(genres) == 1:\n",
    "#         if any(x in genres_to_drop for x in genres):\n",
    "#             genre_indicies.append(df.index)\n",
    "#     else:\n",
    "#         return 0\n",
    "\n",
    "# merged_df['review_to_drop'] = merged_df.apply(review_to_drop, axis=1)"
   ]
  },
  {
   "cell_type": "code",
   "execution_count": 140,
   "id": "7543a758",
   "metadata": {
    "ExecuteTime": {
     "end_time": "2022-04-30T21:43:43.369238Z",
     "start_time": "2022-04-30T21:43:43.351382Z"
    },
    "hidden": true
   },
   "outputs": [
    {
     "name": "stdout",
     "output_type": "stream",
     "text": [
      "There are 1353 film reviews that review a film that is only one genre of our listed genres\n",
      "----------------------------------------------------------------\n",
      "This is the breakdown of our target value among these reviews:\n",
      "0    1066\n",
      "1     287\n",
      "Name: is_spoiler, dtype: int64\n"
     ]
    }
   ],
   "source": [
    "print(f\"There are {len(genre_indicies)} film reviews that review a film that is only one genre of our listed genres\")\n",
    "print(\"----------------------------------------------------------------\")\n",
    "print(\"This is the breakdown of our target value among these reviews:\")\n",
    "print(merged_df.iloc[genre_indicies].is_spoiler.value_counts())"
   ]
  },
  {
   "cell_type": "code",
   "execution_count": 23,
   "id": "8962f17a",
   "metadata": {
    "ExecuteTime": {
     "end_time": "2022-04-27T22:35:45.247472Z",
     "start_time": "2022-04-27T22:35:45.022235Z"
    },
    "hidden": true
   },
   "outputs": [],
   "source": [
    "genre_breakdown = genres.groupby(['genre', 'is_spoiler']).size().unstack()\n",
    "# genre_breakdown['percent_true'] = genre_breakdown.apply(lambda x: x..True / (x.True + x.False))"
   ]
  },
  {
   "cell_type": "code",
   "execution_count": 24,
   "id": "772c3c99",
   "metadata": {
    "ExecuteTime": {
     "end_time": "2022-04-27T22:35:46.324857Z",
     "start_time": "2022-04-27T22:35:46.301504Z"
    },
    "hidden": true
   },
   "outputs": [
    {
     "data": {
      "text/html": [
       "<div>\n",
       "<style scoped>\n",
       "    .dataframe tbody tr th:only-of-type {\n",
       "        vertical-align: middle;\n",
       "    }\n",
       "\n",
       "    .dataframe tbody tr th {\n",
       "        vertical-align: top;\n",
       "    }\n",
       "\n",
       "    .dataframe thead th {\n",
       "        text-align: right;\n",
       "    }\n",
       "</style>\n",
       "<table border=\"1\" class=\"dataframe\">\n",
       "  <thead>\n",
       "    <tr style=\"text-align: right;\">\n",
       "      <th>is_spoiler</th>\n",
       "      <th>0</th>\n",
       "      <th>1</th>\n",
       "    </tr>\n",
       "    <tr>\n",
       "      <th>genre</th>\n",
       "      <th></th>\n",
       "      <th></th>\n",
       "    </tr>\n",
       "  </thead>\n",
       "  <tbody>\n",
       "    <tr>\n",
       "      <th>Action</th>\n",
       "      <td>136820</td>\n",
       "      <td>53897</td>\n",
       "    </tr>\n",
       "    <tr>\n",
       "      <th>Adventure</th>\n",
       "      <td>133559</td>\n",
       "      <td>53734</td>\n",
       "    </tr>\n",
       "    <tr>\n",
       "      <th>Animation</th>\n",
       "      <td>19763</td>\n",
       "      <td>6834</td>\n",
       "    </tr>\n",
       "    <tr>\n",
       "      <th>Biography</th>\n",
       "      <td>25115</td>\n",
       "      <td>7992</td>\n",
       "    </tr>\n",
       "    <tr>\n",
       "      <th>Comedy</th>\n",
       "      <td>106658</td>\n",
       "      <td>29315</td>\n",
       "    </tr>\n",
       "    <tr>\n",
       "      <th>Crime</th>\n",
       "      <td>82659</td>\n",
       "      <td>27011</td>\n",
       "    </tr>\n",
       "    <tr>\n",
       "      <th>Drama</th>\n",
       "      <td>215137</td>\n",
       "      <td>74230</td>\n",
       "    </tr>\n",
       "    <tr>\n",
       "      <th>Family</th>\n",
       "      <td>28857</td>\n",
       "      <td>10702</td>\n",
       "    </tr>\n",
       "    <tr>\n",
       "      <th>Fantasy</th>\n",
       "      <td>55404</td>\n",
       "      <td>21694</td>\n",
       "    </tr>\n",
       "    <tr>\n",
       "      <th>Film-Noir</th>\n",
       "      <td>1303</td>\n",
       "      <td>488</td>\n",
       "    </tr>\n",
       "    <tr>\n",
       "      <th>History</th>\n",
       "      <td>18371</td>\n",
       "      <td>5668</td>\n",
       "    </tr>\n",
       "    <tr>\n",
       "      <th>Horror</th>\n",
       "      <td>32905</td>\n",
       "      <td>13879</td>\n",
       "    </tr>\n",
       "    <tr>\n",
       "      <th>Music</th>\n",
       "      <td>6918</td>\n",
       "      <td>1838</td>\n",
       "    </tr>\n",
       "    <tr>\n",
       "      <th>Musical</th>\n",
       "      <td>4398</td>\n",
       "      <td>1120</td>\n",
       "    </tr>\n",
       "    <tr>\n",
       "      <th>Mystery</th>\n",
       "      <td>45510</td>\n",
       "      <td>18541</td>\n",
       "    </tr>\n",
       "    <tr>\n",
       "      <th>Romance</th>\n",
       "      <td>52146</td>\n",
       "      <td>16155</td>\n",
       "    </tr>\n",
       "    <tr>\n",
       "      <th>Sci-Fi</th>\n",
       "      <td>65727</td>\n",
       "      <td>29823</td>\n",
       "    </tr>\n",
       "    <tr>\n",
       "      <th>Sport</th>\n",
       "      <td>6372</td>\n",
       "      <td>2012</td>\n",
       "    </tr>\n",
       "    <tr>\n",
       "      <th>Thriller</th>\n",
       "      <td>68452</td>\n",
       "      <td>26771</td>\n",
       "    </tr>\n",
       "    <tr>\n",
       "      <th>War</th>\n",
       "      <td>7742</td>\n",
       "      <td>2486</td>\n",
       "    </tr>\n",
       "    <tr>\n",
       "      <th>Western</th>\n",
       "      <td>3532</td>\n",
       "      <td>1209</td>\n",
       "    </tr>\n",
       "  </tbody>\n",
       "</table>\n",
       "</div>"
      ],
      "text/plain": [
       "is_spoiler       0      1\n",
       "genre                    \n",
       "Action      136820  53897\n",
       "Adventure   133559  53734\n",
       "Animation    19763   6834\n",
       "Biography    25115   7992\n",
       "Comedy      106658  29315\n",
       "Crime        82659  27011\n",
       "Drama       215137  74230\n",
       "Family       28857  10702\n",
       "Fantasy      55404  21694\n",
       "Film-Noir     1303    488\n",
       "History      18371   5668\n",
       "Horror       32905  13879\n",
       "Music         6918   1838\n",
       "Musical       4398   1120\n",
       "Mystery      45510  18541\n",
       "Romance      52146  16155\n",
       "Sci-Fi       65727  29823\n",
       "Sport         6372   2012\n",
       "Thriller     68452  26771\n",
       "War           7742   2486\n",
       "Western       3532   1209"
      ]
     },
     "execution_count": 24,
     "metadata": {},
     "output_type": "execute_result"
    }
   ],
   "source": [
    "genre_breakdown"
   ]
  },
  {
   "cell_type": "markdown",
   "id": "b22c4506",
   "metadata": {
    "hidden": true
   },
   "source": [
    "### by user ID"
   ]
  },
  {
   "cell_type": "code",
   "execution_count": 25,
   "id": "d25bfe0c",
   "metadata": {
    "ExecuteTime": {
     "end_time": "2022-04-27T22:35:47.815562Z",
     "start_time": "2022-04-27T22:35:47.449485Z"
    },
    "hidden": true
   },
   "outputs": [
    {
     "data": {
      "text/plain": [
       "ur2898520     1303\n",
       "ur4248714     1021\n",
       "ur0453068      806\n",
       "ur60028700     770\n",
       "ur20552756     755\n",
       "              ... \n",
       "ur13992719       1\n",
       "ur44287431       1\n",
       "ur23173336       1\n",
       "ur33891945       1\n",
       "ur0156431        1\n",
       "Name: user_id, Length: 263407, dtype: int64"
      ]
     },
     "execution_count": 25,
     "metadata": {},
     "output_type": "execute_result"
    }
   ],
   "source": [
    "user_ids = merged_df[['user_id', 'is_spoiler']].copy()\n",
    "user_ids.user_id.value_counts()"
   ]
  },
  {
   "cell_type": "code",
   "execution_count": 26,
   "id": "a4ddc88c",
   "metadata": {
    "ExecuteTime": {
     "end_time": "2022-04-27T22:35:49.415234Z",
     "start_time": "2022-04-27T22:35:48.867184Z"
    },
    "hidden": true
   },
   "outputs": [
    {
     "data": {
      "text/plain": [
       "2.1788069413493187"
      ]
     },
     "execution_count": 26,
     "metadata": {},
     "output_type": "execute_result"
    }
   ],
   "source": [
    "user_ids.user_id.value_counts().values.sum() / len(user_ids.user_id.value_counts())"
   ]
  },
  {
   "cell_type": "markdown",
   "id": "0105ff73",
   "metadata": {
    "hidden": true
   },
   "source": [
    "There are 263,407 unique users represented in the data. We can see that the vast majority do not comment more than once. The average number of comments is 2.17. Lets look at our top 20 commenters."
   ]
  },
  {
   "cell_type": "code",
   "execution_count": 28,
   "id": "032fb751",
   "metadata": {
    "ExecuteTime": {
     "end_time": "2022-04-27T23:34:24.778194Z",
     "start_time": "2022-04-27T23:34:23.705345Z"
    },
    "hidden": true
   },
   "outputs": [
    {
     "data": {
      "text/html": [
       "<div>\n",
       "<style scoped>\n",
       "    .dataframe tbody tr th:only-of-type {\n",
       "        vertical-align: middle;\n",
       "    }\n",
       "\n",
       "    .dataframe tbody tr th {\n",
       "        vertical-align: top;\n",
       "    }\n",
       "\n",
       "    .dataframe thead th {\n",
       "        text-align: right;\n",
       "    }\n",
       "</style>\n",
       "<table border=\"1\" class=\"dataframe\">\n",
       "  <thead>\n",
       "    <tr style=\"text-align: right;\">\n",
       "      <th>is_spoiler</th>\n",
       "      <th>0</th>\n",
       "      <th>1</th>\n",
       "    </tr>\n",
       "    <tr>\n",
       "      <th>user_id</th>\n",
       "      <th></th>\n",
       "      <th></th>\n",
       "    </tr>\n",
       "  </thead>\n",
       "  <tbody>\n",
       "    <tr>\n",
       "      <th>ur2898520</th>\n",
       "      <td>1283.0</td>\n",
       "      <td>20.0</td>\n",
       "    </tr>\n",
       "    <tr>\n",
       "      <th>ur20552756</th>\n",
       "      <td>742.0</td>\n",
       "      <td>13.0</td>\n",
       "    </tr>\n",
       "    <tr>\n",
       "      <th>ur0453068</th>\n",
       "      <td>735.0</td>\n",
       "      <td>71.0</td>\n",
       "    </tr>\n",
       "    <tr>\n",
       "      <th>ur1234929</th>\n",
       "      <td>670.0</td>\n",
       "      <td>10.0</td>\n",
       "    </tr>\n",
       "    <tr>\n",
       "      <th>ur4888011</th>\n",
       "      <td>658.0</td>\n",
       "      <td>43.0</td>\n",
       "    </tr>\n",
       "    <tr>\n",
       "      <th>ur2488512</th>\n",
       "      <td>616.0</td>\n",
       "      <td>65.0</td>\n",
       "    </tr>\n",
       "    <tr>\n",
       "      <th>ur17646017</th>\n",
       "      <td>587.0</td>\n",
       "      <td>41.0</td>\n",
       "    </tr>\n",
       "    <tr>\n",
       "      <th>ur23055365</th>\n",
       "      <td>561.0</td>\n",
       "      <td>16.0</td>\n",
       "    </tr>\n",
       "    <tr>\n",
       "      <th>ur4445210</th>\n",
       "      <td>539.0</td>\n",
       "      <td>45.0</td>\n",
       "    </tr>\n",
       "    <tr>\n",
       "      <th>ur5876717</th>\n",
       "      <td>539.0</td>\n",
       "      <td>23.0</td>\n",
       "    </tr>\n",
       "    <tr>\n",
       "      <th>ur8503729</th>\n",
       "      <td>529.0</td>\n",
       "      <td>27.0</td>\n",
       "    </tr>\n",
       "    <tr>\n",
       "      <th>ur2093818</th>\n",
       "      <td>523.0</td>\n",
       "      <td>6.0</td>\n",
       "    </tr>\n",
       "    <tr>\n",
       "      <th>ur4532636</th>\n",
       "      <td>505.0</td>\n",
       "      <td>13.0</td>\n",
       "    </tr>\n",
       "    <tr>\n",
       "      <th>ur1293485</th>\n",
       "      <td>493.0</td>\n",
       "      <td>167.0</td>\n",
       "    </tr>\n",
       "    <tr>\n",
       "      <th>ur0989035</th>\n",
       "      <td>491.0</td>\n",
       "      <td>3.0</td>\n",
       "    </tr>\n",
       "    <tr>\n",
       "      <th>ur2496397</th>\n",
       "      <td>487.0</td>\n",
       "      <td>4.0</td>\n",
       "    </tr>\n",
       "    <tr>\n",
       "      <th>ur1416505</th>\n",
       "      <td>478.0</td>\n",
       "      <td>24.0</td>\n",
       "    </tr>\n",
       "    <tr>\n",
       "      <th>ur33374263</th>\n",
       "      <td>447.0</td>\n",
       "      <td>NaN</td>\n",
       "    </tr>\n",
       "    <tr>\n",
       "      <th>ur6216723</th>\n",
       "      <td>439.0</td>\n",
       "      <td>10.0</td>\n",
       "    </tr>\n",
       "    <tr>\n",
       "      <th>ur16161013</th>\n",
       "      <td>416.0</td>\n",
       "      <td>9.0</td>\n",
       "    </tr>\n",
       "  </tbody>\n",
       "</table>\n",
       "</div>"
      ],
      "text/plain": [
       "is_spoiler       0      1\n",
       "user_id                  \n",
       "ur2898520   1283.0   20.0\n",
       "ur20552756   742.0   13.0\n",
       "ur0453068    735.0   71.0\n",
       "ur1234929    670.0   10.0\n",
       "ur4888011    658.0   43.0\n",
       "ur2488512    616.0   65.0\n",
       "ur17646017   587.0   41.0\n",
       "ur23055365   561.0   16.0\n",
       "ur4445210    539.0   45.0\n",
       "ur5876717    539.0   23.0\n",
       "ur8503729    529.0   27.0\n",
       "ur2093818    523.0    6.0\n",
       "ur4532636    505.0   13.0\n",
       "ur1293485    493.0  167.0\n",
       "ur0989035    491.0    3.0\n",
       "ur2496397    487.0    4.0\n",
       "ur1416505    478.0   24.0\n",
       "ur33374263   447.0    NaN\n",
       "ur6216723    439.0   10.0\n",
       "ur16161013   416.0    9.0"
      ]
     },
     "execution_count": 28,
     "metadata": {},
     "output_type": "execute_result"
    }
   ],
   "source": [
    "user_id_split_df = user_ids.groupby(['user_id', 'is_spoiler']).size().unstack().sort_values(by=0, ascending=False)\n",
    "# user_id_split_df.\n",
    "user_id_split_df[:20]"
   ]
  },
  {
   "cell_type": "markdown",
   "id": "31a9ff01",
   "metadata": {
    "hidden": true
   },
   "source": [
    "There are some null values where the user only has comments of one target class or the other. We will set them to zero"
   ]
  },
  {
   "cell_type": "code",
   "execution_count": 29,
   "id": "4fec7b63",
   "metadata": {
    "ExecuteTime": {
     "end_time": "2022-04-27T23:34:25.992247Z",
     "start_time": "2022-04-27T23:34:25.978834Z"
    },
    "hidden": true
   },
   "outputs": [],
   "source": [
    "user_id_split_df.fillna(0.0, inplace=True)"
   ]
  },
  {
   "cell_type": "code",
   "execution_count": 30,
   "id": "c619c24c",
   "metadata": {
    "ExecuteTime": {
     "end_time": "2022-04-27T23:34:27.976133Z",
     "start_time": "2022-04-27T23:34:27.945877Z"
    },
    "hidden": true
   },
   "outputs": [
    {
     "data": {
      "text/html": [
       "<div>\n",
       "<style scoped>\n",
       "    .dataframe tbody tr th:only-of-type {\n",
       "        vertical-align: middle;\n",
       "    }\n",
       "\n",
       "    .dataframe tbody tr th {\n",
       "        vertical-align: top;\n",
       "    }\n",
       "\n",
       "    .dataframe thead th {\n",
       "        text-align: right;\n",
       "    }\n",
       "</style>\n",
       "<table border=\"1\" class=\"dataframe\">\n",
       "  <thead>\n",
       "    <tr style=\"text-align: right;\">\n",
       "      <th></th>\n",
       "      <th>user_id</th>\n",
       "      <th>non_spoiler</th>\n",
       "      <th>spoiler</th>\n",
       "    </tr>\n",
       "  </thead>\n",
       "  <tbody>\n",
       "    <tr>\n",
       "      <th>0</th>\n",
       "      <td>ur2898520</td>\n",
       "      <td>1283.0</td>\n",
       "      <td>20.0</td>\n",
       "    </tr>\n",
       "    <tr>\n",
       "      <th>1</th>\n",
       "      <td>ur20552756</td>\n",
       "      <td>742.0</td>\n",
       "      <td>13.0</td>\n",
       "    </tr>\n",
       "    <tr>\n",
       "      <th>2</th>\n",
       "      <td>ur0453068</td>\n",
       "      <td>735.0</td>\n",
       "      <td>71.0</td>\n",
       "    </tr>\n",
       "    <tr>\n",
       "      <th>3</th>\n",
       "      <td>ur1234929</td>\n",
       "      <td>670.0</td>\n",
       "      <td>10.0</td>\n",
       "    </tr>\n",
       "    <tr>\n",
       "      <th>4</th>\n",
       "      <td>ur4888011</td>\n",
       "      <td>658.0</td>\n",
       "      <td>43.0</td>\n",
       "    </tr>\n",
       "    <tr>\n",
       "      <th>...</th>\n",
       "      <td>...</td>\n",
       "      <td>...</td>\n",
       "      <td>...</td>\n",
       "    </tr>\n",
       "    <tr>\n",
       "      <th>263402</th>\n",
       "      <td>ur9990913</td>\n",
       "      <td>0.0</td>\n",
       "      <td>1.0</td>\n",
       "    </tr>\n",
       "    <tr>\n",
       "      <th>263403</th>\n",
       "      <td>ur9992465</td>\n",
       "      <td>0.0</td>\n",
       "      <td>1.0</td>\n",
       "    </tr>\n",
       "    <tr>\n",
       "      <th>263404</th>\n",
       "      <td>ur9993627</td>\n",
       "      <td>0.0</td>\n",
       "      <td>1.0</td>\n",
       "    </tr>\n",
       "    <tr>\n",
       "      <th>263405</th>\n",
       "      <td>ur9995532</td>\n",
       "      <td>0.0</td>\n",
       "      <td>1.0</td>\n",
       "    </tr>\n",
       "    <tr>\n",
       "      <th>263406</th>\n",
       "      <td>ur9999060</td>\n",
       "      <td>0.0</td>\n",
       "      <td>1.0</td>\n",
       "    </tr>\n",
       "  </tbody>\n",
       "</table>\n",
       "<p>263407 rows × 3 columns</p>\n",
       "</div>"
      ],
      "text/plain": [
       "           user_id  non_spoiler  spoiler\n",
       "0        ur2898520       1283.0     20.0\n",
       "1       ur20552756        742.0     13.0\n",
       "2        ur0453068        735.0     71.0\n",
       "3        ur1234929        670.0     10.0\n",
       "4        ur4888011        658.0     43.0\n",
       "...            ...          ...      ...\n",
       "263402   ur9990913          0.0      1.0\n",
       "263403   ur9992465          0.0      1.0\n",
       "263404   ur9993627          0.0      1.0\n",
       "263405   ur9995532          0.0      1.0\n",
       "263406   ur9999060          0.0      1.0\n",
       "\n",
       "[263407 rows x 3 columns]"
      ]
     },
     "execution_count": 30,
     "metadata": {},
     "output_type": "execute_result"
    }
   ],
   "source": [
    "testing = user_id_split_df.reset_index()\n",
    "testing.columns = ['user_id', 'non_spoiler', 'spoiler']\n",
    "testing"
   ]
  },
  {
   "cell_type": "code",
   "execution_count": 31,
   "id": "5a752a67",
   "metadata": {
    "ExecuteTime": {
     "end_time": "2022-04-27T23:34:29.390796Z",
     "start_time": "2022-04-27T23:34:29.382861Z"
    },
    "hidden": true
   },
   "outputs": [],
   "source": [
    "def total_and_percent(row):\n",
    "    \n",
    "    total = row.non_spoiler + row.spoiler\n",
    "    row['total'] = total\n",
    "    \n",
    "    if row.non_spoiler == 0.0:\n",
    "        row['percent_spoiled'] = 1.0\n",
    "        \n",
    "    else:\n",
    "        row['percent_spoiled'] = row.spoiler / total\n",
    "        \n",
    "    return row"
   ]
  },
  {
   "cell_type": "code",
   "execution_count": 32,
   "id": "b56f0fd5",
   "metadata": {
    "ExecuteTime": {
     "end_time": "2022-04-27T23:40:08.170030Z",
     "start_time": "2022-04-27T23:34:30.562349Z"
    },
    "hidden": true
   },
   "outputs": [],
   "source": [
    "testing = testing.apply(total_and_percent, axis=1)"
   ]
  },
  {
   "cell_type": "code",
   "execution_count": 33,
   "id": "c0c3ac41",
   "metadata": {
    "ExecuteTime": {
     "end_time": "2022-04-27T23:40:09.323693Z",
     "start_time": "2022-04-27T23:40:09.286520Z"
    },
    "hidden": true
   },
   "outputs": [
    {
     "data": {
      "text/html": [
       "<div>\n",
       "<style scoped>\n",
       "    .dataframe tbody tr th:only-of-type {\n",
       "        vertical-align: middle;\n",
       "    }\n",
       "\n",
       "    .dataframe tbody tr th {\n",
       "        vertical-align: top;\n",
       "    }\n",
       "\n",
       "    .dataframe thead th {\n",
       "        text-align: right;\n",
       "    }\n",
       "</style>\n",
       "<table border=\"1\" class=\"dataframe\">\n",
       "  <thead>\n",
       "    <tr style=\"text-align: right;\">\n",
       "      <th></th>\n",
       "      <th>user_id</th>\n",
       "      <th>non_spoiler</th>\n",
       "      <th>spoiler</th>\n",
       "      <th>total</th>\n",
       "      <th>percent_spoiled</th>\n",
       "    </tr>\n",
       "  </thead>\n",
       "  <tbody>\n",
       "    <tr>\n",
       "      <th>263335</th>\n",
       "      <td>ur9938570</td>\n",
       "      <td>0.0</td>\n",
       "      <td>112.0</td>\n",
       "      <td>112.0</td>\n",
       "      <td>1.0</td>\n",
       "    </tr>\n",
       "    <tr>\n",
       "      <th>225272</th>\n",
       "      <td>ur24052844</td>\n",
       "      <td>0.0</td>\n",
       "      <td>13.0</td>\n",
       "      <td>13.0</td>\n",
       "      <td>1.0</td>\n",
       "    </tr>\n",
       "    <tr>\n",
       "      <th>225820</th>\n",
       "      <td>ur24421425</td>\n",
       "      <td>0.0</td>\n",
       "      <td>7.0</td>\n",
       "      <td>7.0</td>\n",
       "      <td>1.0</td>\n",
       "    </tr>\n",
       "    <tr>\n",
       "      <th>225804</th>\n",
       "      <td>ur24409764</td>\n",
       "      <td>0.0</td>\n",
       "      <td>10.0</td>\n",
       "      <td>10.0</td>\n",
       "      <td>1.0</td>\n",
       "    </tr>\n",
       "    <tr>\n",
       "      <th>225796</th>\n",
       "      <td>ur24403695</td>\n",
       "      <td>0.0</td>\n",
       "      <td>14.0</td>\n",
       "      <td>14.0</td>\n",
       "      <td>1.0</td>\n",
       "    </tr>\n",
       "    <tr>\n",
       "      <th>225711</th>\n",
       "      <td>ur24340247</td>\n",
       "      <td>0.0</td>\n",
       "      <td>82.0</td>\n",
       "      <td>82.0</td>\n",
       "      <td>1.0</td>\n",
       "    </tr>\n",
       "    <tr>\n",
       "      <th>225652</th>\n",
       "      <td>ur24310671</td>\n",
       "      <td>0.0</td>\n",
       "      <td>6.0</td>\n",
       "      <td>6.0</td>\n",
       "      <td>1.0</td>\n",
       "    </tr>\n",
       "    <tr>\n",
       "      <th>225619</th>\n",
       "      <td>ur24292397</td>\n",
       "      <td>0.0</td>\n",
       "      <td>9.0</td>\n",
       "      <td>9.0</td>\n",
       "      <td>1.0</td>\n",
       "    </tr>\n",
       "    <tr>\n",
       "      <th>225386</th>\n",
       "      <td>ur24139670</td>\n",
       "      <td>0.0</td>\n",
       "      <td>6.0</td>\n",
       "      <td>6.0</td>\n",
       "      <td>1.0</td>\n",
       "    </tr>\n",
       "    <tr>\n",
       "      <th>225279</th>\n",
       "      <td>ur24062644</td>\n",
       "      <td>0.0</td>\n",
       "      <td>54.0</td>\n",
       "      <td>54.0</td>\n",
       "      <td>1.0</td>\n",
       "    </tr>\n",
       "    <tr>\n",
       "      <th>225218</th>\n",
       "      <td>ur24008028</td>\n",
       "      <td>0.0</td>\n",
       "      <td>8.0</td>\n",
       "      <td>8.0</td>\n",
       "      <td>1.0</td>\n",
       "    </tr>\n",
       "    <tr>\n",
       "      <th>225852</th>\n",
       "      <td>ur24440574</td>\n",
       "      <td>0.0</td>\n",
       "      <td>24.0</td>\n",
       "      <td>24.0</td>\n",
       "      <td>1.0</td>\n",
       "    </tr>\n",
       "    <tr>\n",
       "      <th>225202</th>\n",
       "      <td>ur24000799</td>\n",
       "      <td>0.0</td>\n",
       "      <td>7.0</td>\n",
       "      <td>7.0</td>\n",
       "      <td>1.0</td>\n",
       "    </tr>\n",
       "    <tr>\n",
       "      <th>225178</th>\n",
       "      <td>ur23983265</td>\n",
       "      <td>0.0</td>\n",
       "      <td>8.0</td>\n",
       "      <td>8.0</td>\n",
       "      <td>1.0</td>\n",
       "    </tr>\n",
       "    <tr>\n",
       "      <th>225121</th>\n",
       "      <td>ur23927180</td>\n",
       "      <td>0.0</td>\n",
       "      <td>6.0</td>\n",
       "      <td>6.0</td>\n",
       "      <td>1.0</td>\n",
       "    </tr>\n",
       "    <tr>\n",
       "      <th>225055</th>\n",
       "      <td>ur23885365</td>\n",
       "      <td>0.0</td>\n",
       "      <td>7.0</td>\n",
       "      <td>7.0</td>\n",
       "      <td>1.0</td>\n",
       "    </tr>\n",
       "    <tr>\n",
       "      <th>225049</th>\n",
       "      <td>ur23882543</td>\n",
       "      <td>0.0</td>\n",
       "      <td>7.0</td>\n",
       "      <td>7.0</td>\n",
       "      <td>1.0</td>\n",
       "    </tr>\n",
       "    <tr>\n",
       "      <th>225007</th>\n",
       "      <td>ur23854444</td>\n",
       "      <td>0.0</td>\n",
       "      <td>7.0</td>\n",
       "      <td>7.0</td>\n",
       "      <td>1.0</td>\n",
       "    </tr>\n",
       "    <tr>\n",
       "      <th>224977</th>\n",
       "      <td>ur23832431</td>\n",
       "      <td>0.0</td>\n",
       "      <td>10.0</td>\n",
       "      <td>10.0</td>\n",
       "      <td>1.0</td>\n",
       "    </tr>\n",
       "    <tr>\n",
       "      <th>224840</th>\n",
       "      <td>ur23745625</td>\n",
       "      <td>0.0</td>\n",
       "      <td>10.0</td>\n",
       "      <td>10.0</td>\n",
       "      <td>1.0</td>\n",
       "    </tr>\n",
       "  </tbody>\n",
       "</table>\n",
       "</div>"
      ],
      "text/plain": [
       "           user_id  non_spoiler  spoiler  total  percent_spoiled\n",
       "263335   ur9938570          0.0    112.0  112.0              1.0\n",
       "225272  ur24052844          0.0     13.0   13.0              1.0\n",
       "225820  ur24421425          0.0      7.0    7.0              1.0\n",
       "225804  ur24409764          0.0     10.0   10.0              1.0\n",
       "225796  ur24403695          0.0     14.0   14.0              1.0\n",
       "225711  ur24340247          0.0     82.0   82.0              1.0\n",
       "225652  ur24310671          0.0      6.0    6.0              1.0\n",
       "225619  ur24292397          0.0      9.0    9.0              1.0\n",
       "225386  ur24139670          0.0      6.0    6.0              1.0\n",
       "225279  ur24062644          0.0     54.0   54.0              1.0\n",
       "225218  ur24008028          0.0      8.0    8.0              1.0\n",
       "225852  ur24440574          0.0     24.0   24.0              1.0\n",
       "225202  ur24000799          0.0      7.0    7.0              1.0\n",
       "225178  ur23983265          0.0      8.0    8.0              1.0\n",
       "225121  ur23927180          0.0      6.0    6.0              1.0\n",
       "225055  ur23885365          0.0      7.0    7.0              1.0\n",
       "225049  ur23882543          0.0      7.0    7.0              1.0\n",
       "225007  ur23854444          0.0      7.0    7.0              1.0\n",
       "224977  ur23832431          0.0     10.0   10.0              1.0\n",
       "224840  ur23745625          0.0     10.0   10.0              1.0"
      ]
     },
     "execution_count": 33,
     "metadata": {},
     "output_type": "execute_result"
    }
   ],
   "source": [
    "testing[testing.total > 5.0].sort_values(by='percent_spoiled', ascending=False)[:20]"
   ]
  },
  {
   "cell_type": "code",
   "execution_count": null,
   "id": "89e5ab05",
   "metadata": {
    "hidden": true
   },
   "outputs": [],
   "source": []
  },
  {
   "cell_type": "code",
   "execution_count": 34,
   "id": "c542dfc8",
   "metadata": {
    "ExecuteTime": {
     "end_time": "2022-04-27T23:40:11.829486Z",
     "start_time": "2022-04-27T23:40:10.527512Z"
    },
    "hidden": true
   },
   "outputs": [
    {
     "data": {
      "image/png": "[encoded data removed]",
      "text/plain": [
       "<Figure size 1080x576 with 1 Axes>"
      ]
     },
     "metadata": {
      "needs_background": "light"
     },
     "output_type": "display_data"
    }
   ],
   "source": [
    "# top 20 reviewers by total count, separated into spoiler/non\n",
    "user_ids.groupby(['user_id', 'is_spoiler']).size().unstack().sort_values(by=0, ascending=False)[:20].plot(kind='bar', stacked=True, figsize=(15,8));"
   ]
  },
  {
   "cell_type": "code",
   "execution_count": 35,
   "id": "f207c287",
   "metadata": {
    "ExecuteTime": {
     "end_time": "2022-04-27T23:40:13.182414Z",
     "start_time": "2022-04-27T23:40:12.907630Z"
    },
    "hidden": true
   },
   "outputs": [],
   "source": [
    "test_df = merged_df.groupby('is_spoiler').apply(lambda x: x.sample(frac=0.01))\n",
    "test_df.reset_index(drop=True, inplace=True)"
   ]
  },
  {
   "cell_type": "markdown",
   "id": "330776b5",
   "metadata": {},
   "source": [
    "# Baseline Model"
   ]
  },
  {
   "cell_type": "markdown",
   "id": "89e876b9",
   "metadata": {},
   "source": [
    "Our baseline model is going to say that any review that contains the word \"spoiler\" is, in-fact, a spoiler."
   ]
  },
  {
   "cell_type": "code",
   "execution_count": 141,
   "id": "08e968e5",
   "metadata": {
    "ExecuteTime": {
     "end_time": "2022-04-30T21:49:16.588266Z",
     "start_time": "2022-04-30T21:49:14.659814Z"
    }
   },
   "outputs": [],
   "source": [
    "# make a baseline dataframe with just the target and the review_text\n",
    "baseline_df = merged_df[['is_spoiler', 'review_text']].copy()\n",
    "\n",
    "# create a new boolean value for reviews that contain the word 'spoiler'\n",
    "baseline_df['contains_spoiler'] = baseline_df.review_text.str.contains('spoiler')\n",
    "baseline_df['contains_spoiler'] = baseline_df.contains_spoiler.astype(int)"
   ]
  },
  {
   "cell_type": "code",
   "execution_count": 142,
   "id": "25033adc",
   "metadata": {
    "ExecuteTime": {
     "end_time": "2022-04-30T21:49:20.084042Z",
     "start_time": "2022-04-30T21:49:18.838210Z"
    }
   },
   "outputs": [
    {
     "name": "stdout",
     "output_type": "stream",
     "text": [
      "              precision    recall  f1-score   support\n",
      "\n",
      "  no_spoiler       0.75      0.99      0.85    422951\n",
      "     spoiler       0.60      0.06      0.10    150909\n",
      "\n",
      "    accuracy                           0.74    573860\n",
      "   macro avg       0.67      0.52      0.48    573860\n",
      "weighted avg       0.71      0.74      0.65    573860\n",
      "\n"
     ]
    },
    {
     "data": {
      "image/png": "[encoded data removed]",
      "text/plain": [
       "<Figure size 432x288 with 2 Axes>"
      ]
     },
     "metadata": {
      "needs_background": "light"
     },
     "output_type": "display_data"
    }
   ],
   "source": [
    "report(baseline_df.is_spoiler, baseline_df.contains_spoiler)"
   ]
  },
  {
   "cell_type": "markdown",
   "id": "a862c092",
   "metadata": {},
   "source": [
    "Baseline accuracy is about 74%, which sounds great, but the recall on spoilers is very low. The amount of false negatives is staggeringly high. Interestingly, there are lots of films whose review contains the word 'spoiler' but are not marked as such. That could something as simple as a user stating 'No spoilers follow', but it does seem curious to have that many film reviews that aren't spoilers."
   ]
  },
  {
   "cell_type": "markdown",
   "id": "a13bfb02",
   "metadata": {
    "heading_collapsed": true
   },
   "source": [
    "## Non-language feature modeling"
   ]
  },
  {
   "cell_type": "markdown",
   "id": "156ec3ab",
   "metadata": {
    "hidden": true
   },
   "source": [
    "We thought it would be interesting to model using the non-language features of our data. Features which don't pertain to the summary or review text include:\n",
    "- film duration\n",
    "- genre\n",
    "- rating\n",
    "- release date\n",
    "- review date\n",
    "- is_spoiler (target)"
   ]
  },
  {
   "cell_type": "code",
   "execution_count": 38,
   "id": "877939cf",
   "metadata": {
    "ExecuteTime": {
     "end_time": "2022-04-27T23:40:19.547554Z",
     "start_time": "2022-04-27T23:40:19.492037Z"
    },
    "hidden": true
   },
   "outputs": [],
   "source": [
    "non_lang_features = ['duration', 'genre', 'film_rating', 'release_date', 'review_date',\n",
    "                     'is_spoiler']\n",
    "non_language_df = merged_df[non_lang_features].copy()"
   ]
  },
  {
   "cell_type": "markdown",
   "id": "24c92400",
   "metadata": {
    "hidden": true
   },
   "source": [
    "Engineer a new feature: age of film at review"
   ]
  },
  {
   "cell_type": "code",
   "execution_count": 39,
   "id": "1e3bb42a",
   "metadata": {
    "ExecuteTime": {
     "end_time": "2022-04-27T23:40:49.254110Z",
     "start_time": "2022-04-27T23:40:20.706209Z"
    },
    "hidden": true
   },
   "outputs": [],
   "source": [
    "def film_age(df):\n",
    "    age = df.review_date - df.release_date\n",
    "    return age.days\n",
    "\n",
    "non_language_df['days_since_release'] = non_language_df.apply(film_age, axis=1)\n",
    "non_language_df.drop(['release_date', 'review_date'], axis=1, inplace=True)"
   ]
  },
  {
   "cell_type": "markdown",
   "id": "14b32ef8",
   "metadata": {
    "ExecuteTime": {
     "end_time": "2022-04-22T18:57:15.272689Z",
     "start_time": "2022-04-22T18:57:15.252325Z"
    },
    "hidden": true
   },
   "source": [
    "Explode the genres. [Inspiration](https://stackoverflow.com/questions/45312377/how-to-one-hot-encode-from-a-pandas-column-containing-a-list)"
   ]
  },
  {
   "cell_type": "code",
   "execution_count": 40,
   "id": "1405d5d6",
   "metadata": {
    "ExecuteTime": {
     "end_time": "2022-04-27T23:41:00.695048Z",
     "start_time": "2022-04-27T23:40:50.445007Z"
    },
    "hidden": true
   },
   "outputs": [],
   "source": [
    "s = non_language_df['genre'].explode()\n",
    "non_language_df = non_language_df[['duration', 'film_rating', 'is_spoiler',\n",
    "                                   'days_since_release']].join(pd.crosstab(s.index, s))"
   ]
  },
  {
   "cell_type": "markdown",
   "id": "c7581590",
   "metadata": {
    "hidden": true
   },
   "source": [
    "### SGD Classifier"
   ]
  },
  {
   "cell_type": "markdown",
   "id": "d66d2a43",
   "metadata": {
    "hidden": true
   },
   "source": [
    "We are going to try using a SGD classifer to see how well it performs"
   ]
  },
  {
   "cell_type": "code",
   "execution_count": 41,
   "id": "f7d42bfd",
   "metadata": {
    "ExecuteTime": {
     "end_time": "2022-04-27T23:41:02.892757Z",
     "start_time": "2022-04-27T23:41:02.208357Z"
    },
    "hidden": true
   },
   "outputs": [],
   "source": [
    "# set X and y\n",
    "X = non_language_df.drop('is_spoiler', axis=1)\n",
    "y = non_language_df['is_spoiler']\n",
    "\n",
    "# perform train/test split\n",
    "X_train, X_test, y_train, y_test = train_test_split(X, y, test_size=0.2)\n",
    "\n",
    "# scale the predictors\n",
    "scaler = StandardScaler().fit(X_train)\n",
    "X_train_s = scaler.transform(X_train)\n",
    "X_test_s = scaler.transform(X_test)"
   ]
  },
  {
   "cell_type": "markdown",
   "id": "278e1bb1",
   "metadata": {
    "hidden": true
   },
   "source": [
    "Performing a grid search for optimized parameters. This runs in about 18 minutes, so it's commented out and the best parameters are listed below"
   ]
  },
  {
   "cell_type": "code",
   "execution_count": 43,
   "id": "0028996e",
   "metadata": {
    "ExecuteTime": {
     "end_time": "2022-04-28T00:40:09.300429Z",
     "start_time": "2022-04-28T00:40:09.279597Z"
    },
    "hidden": true
   },
   "outputs": [],
   "source": [
    "params = {\n",
    "    \"loss\" : [\"hinge\", \"log\", \"squared_hinge\", \"modified_huber\", \"perceptron\"],\n",
    "    \"alpha\" : [0.0001, 0.001, 0.01, 0.1],\n",
    "    \"penalty\" : [\"l2\", \"l1\", \"elasticnet\", \"none\"],\n",
    "}\n",
    "\n",
    "clf = SGDClassifier(max_iter=1000)\n",
    "grid = GridSearchCV(clf, param_grid=params, cv=10, n_jobs=-1)\n",
    "\n",
    "# grid.fit(X_train, y_train)\n",
    "\n",
    "# print(grid.best_params_)"
   ]
  },
  {
   "cell_type": "markdown",
   "id": "6d7d603a",
   "metadata": {
    "hidden": true
   },
   "source": [
    "Best params were:\n",
    "- alpha: 0.0001\n",
    "- loss: 'hinge'\n",
    "- penalty: 'l2'"
   ]
  },
  {
   "cell_type": "code",
   "execution_count": 44,
   "id": "96c6bf0f",
   "metadata": {
    "ExecuteTime": {
     "end_time": "2022-04-28T00:40:19.002104Z",
     "start_time": "2022-04-28T00:40:16.824169Z"
    },
    "hidden": true
   },
   "outputs": [
    {
     "data": {
      "text/plain": [
       "SGDClassifier()"
      ]
     },
     "execution_count": 44,
     "metadata": {},
     "output_type": "execute_result"
    }
   ],
   "source": [
    "sgd_model = SGDClassifier(alpha=0.0001, loss='hinge', penalty='l2')\n",
    "sgd_model.fit(X_train_s, y_train)"
   ]
  },
  {
   "cell_type": "code",
   "execution_count": 45,
   "id": "bfb1398c",
   "metadata": {
    "ExecuteTime": {
     "end_time": "2022-04-28T00:40:21.462265Z",
     "start_time": "2022-04-28T00:40:21.403737Z"
    },
    "hidden": true
   },
   "outputs": [],
   "source": [
    "y_pred = sgd_model.predict(X_test_s)"
   ]
  },
  {
   "cell_type": "code",
   "execution_count": 46,
   "id": "363a65e8",
   "metadata": {
    "ExecuteTime": {
     "end_time": "2022-04-28T00:40:24.199275Z",
     "start_time": "2022-04-28T00:40:23.820745Z"
    },
    "hidden": true
   },
   "outputs": [
    {
     "name": "stdout",
     "output_type": "stream",
     "text": [
      "              precision    recall  f1-score   support\n",
      "\n",
      "  no_spoiler       0.74      1.00      0.85     84508\n",
      "     spoiler       0.00      0.00      0.00     30275\n",
      "\n",
      "    accuracy                           0.74    114783\n",
      "   macro avg       0.37      0.50      0.42    114783\n",
      "weighted avg       0.54      0.74      0.62    114783\n",
      "\n"
     ]
    },
    {
     "name": "stderr",
     "output_type": "stream",
     "text": [
      "C:\\Users\\brtra\\anaconda3\\lib\\site-packages\\sklearn\\metrics\\_classification.py:1318: UndefinedMetricWarning: Precision and F-score are ill-defined and being set to 0.0 in labels with no predicted samples. Use `zero_division` parameter to control this behavior.\n",
      "  _warn_prf(average, modifier, msg_start, len(result))\n",
      "C:\\Users\\brtra\\anaconda3\\lib\\site-packages\\sklearn\\metrics\\_classification.py:1318: UndefinedMetricWarning: Precision and F-score are ill-defined and being set to 0.0 in labels with no predicted samples. Use `zero_division` parameter to control this behavior.\n",
      "  _warn_prf(average, modifier, msg_start, len(result))\n",
      "C:\\Users\\brtra\\anaconda3\\lib\\site-packages\\sklearn\\metrics\\_classification.py:1318: UndefinedMetricWarning: Precision and F-score are ill-defined and being set to 0.0 in labels with no predicted samples. Use `zero_division` parameter to control this behavior.\n",
      "  _warn_prf(average, modifier, msg_start, len(result))\n"
     ]
    },
    {
     "data": {
      "image/png": "[encoded data removed]",
      "text/plain": [
       "<Figure size 432x288 with 2 Axes>"
      ]
     },
     "metadata": {
      "needs_background": "light"
     },
     "output_type": "display_data"
    }
   ],
   "source": [
    "report(y_test, y_pred)"
   ]
  },
  {
   "cell_type": "markdown",
   "id": "96231cd2",
   "metadata": {
    "hidden": true
   },
   "source": [
    "Modeling on the film review metadata we have does not look promising."
   ]
  },
  {
   "cell_type": "markdown",
   "id": "ccf519af",
   "metadata": {},
   "source": [
    "# Data Preparation"
   ]
  },
  {
   "cell_type": "markdown",
   "id": "23995dd2",
   "metadata": {},
   "source": [
    "Pulling the summaries into one dataframe and the reviews into another, retaining the movie_id for eventual combination.\n",
    "\n",
    "The lemmatizing of the reviews done in 5.1 takes about an hour and a half, so to save time we processed it and save the files as parquet files. All we need to do is import the files.\n",
    "**Since we performed the lemmatizing, we have discovered some non-english reviews. We have the indicies to remove them generated in 2.3.1, stored as non_english_reviews**"
   ]
  },
  {
   "cell_type": "code",
   "execution_count": 143,
   "id": "9d0cdc2b",
   "metadata": {
    "ExecuteTime": {
     "end_time": "2022-04-30T21:50:17.547303Z",
     "start_time": "2022-04-30T21:50:16.600379Z"
    }
   },
   "outputs": [],
   "source": [
    "# # these lines are the original creation of the dataframes\n",
    "# summary_df = merged_df[['movie_id', 'plot_summary']].copy()\n",
    "# summary_df.drop_duplicates(inplace=True)\n",
    "# summary_df.reset_index(drop=True, inplace=True)\n",
    "# review_df = merged_df[['movie_id', 'review_text', 'is_spoiler']].copy()\n",
    "\n",
    "# deleting the merged_df\n",
    "# del merged_df"
   ]
  },
  {
   "cell_type": "code",
   "execution_count": 3,
   "id": "ccd0418d",
   "metadata": {
    "ExecuteTime": {
     "end_time": "2022-05-03T12:48:41.640681Z",
     "start_time": "2022-05-03T12:48:35.753083Z"
    }
   },
   "outputs": [],
   "source": [
    "# loading the reviews, contains both original and lemmed field\n",
    "review_df = pd.read_parquet('./data/reviews_lemmed.parquet')\n",
    "# loading the summaries, contains both original and lemmed field\n",
    "summary_df = pd.read_parquet('./data/plot_summary_lemmed.parquet')"
   ]
  },
  {
   "cell_type": "markdown",
   "id": "2e27e30c",
   "metadata": {},
   "source": [
    "After original lemmatization of the reviews, we realized that there were some non-english reviews that existed in our data. In 2.3.1 we identified the indicies of the non-english reviews and then saved that list in a pickle file. Here, we load that list and use it to remove those few non-english reviews rows from the dataframe.  "
   ]
  },
  {
   "cell_type": "code",
   "execution_count": 4,
   "id": "6b97a088",
   "metadata": {
    "ExecuteTime": {
     "end_time": "2022-05-03T12:48:41.902395Z",
     "start_time": "2022-05-03T12:48:41.796651Z"
    }
   },
   "outputs": [],
   "source": [
    "with open('non_english_reviews.pkl', 'rb') as f:\n",
    "    non_english_reviews = pickle.load(f)\n",
    "\n",
    "# dropping non english reviews\n",
    "review_df.drop(non_english_reviews, axis=0, inplace=True)\n",
    "review_df.reset_index(drop=True, inplace=True)"
   ]
  },
  {
   "cell_type": "code",
   "execution_count": 17,
   "id": "ee26cbf8",
   "metadata": {
    "ExecuteTime": {
     "end_time": "2022-04-30T22:01:31.208824Z",
     "start_time": "2022-04-30T22:01:31.199372Z"
    }
   },
   "outputs": [],
   "source": [
    "# this is to output our data to a csv for uploading to cloud modeling services\n",
    "# review_df[['review_text_lemmed', 'is_spoiler']].to_csv('./data/reviews.csv')"
   ]
  },
  {
   "cell_type": "markdown",
   "id": "915a5cd7",
   "metadata": {},
   "source": [
    "_________\n",
    "Setting up a testing Dataframe to ensure things work before applying to all data. It's 1/100th of the size so we can test quickly and extrapolate processing times for the entire dataframe"
   ]
  },
  {
   "cell_type": "code",
   "execution_count": 18,
   "id": "3c4650a8",
   "metadata": {
    "ExecuteTime": {
     "end_time": "2022-04-30T22:01:33.039814Z",
     "start_time": "2022-04-30T22:01:33.019974Z"
    },
    "scrolled": true
   },
   "outputs": [],
   "source": [
    "# test_df = review_df.groupby('is_spoiler').apply(lambda x: x.sample(frac=0.01))\n",
    "# test_df.reset_index(drop=True, inplace=True)\n",
    "# test_df"
   ]
  },
  {
   "cell_type": "markdown",
   "id": "d136ed80",
   "metadata": {
    "heading_collapsed": true
   },
   "source": [
    "## lemmatization (already processed)"
   ]
  },
  {
   "cell_type": "markdown",
   "id": "22cea695",
   "metadata": {
    "hidden": true
   },
   "source": [
    "This was performed once and then the dataframe was saved. It's left here in case we need to modify and reprocess the lemmatization."
   ]
  },
  {
   "cell_type": "code",
   "execution_count": 13,
   "id": "1c6c9989",
   "metadata": {
    "ExecuteTime": {
     "end_time": "2022-04-28T00:58:59.707178Z",
     "start_time": "2022-04-28T00:58:59.695247Z"
    },
    "hidden": true
   },
   "outputs": [],
   "source": [
    "sw = stopwords.words('english')\n",
    "pattern = \"([a-zA-Z]+(?:'[a-z]+)?)\"\n",
    "tokenizer = RegexpTokenizer(r\"([a-zA-Z]+(?:[’'][a-z]+)?)\")\n",
    "lemmatizer = nltk.stem.WordNetLemmatizer()\n",
    "\n",
    "# helper function to correctly format the part of speech\n",
    "def get_wordnet_pos(treebank_tag):\n",
    "    if treebank_tag.startswith('J'):\n",
    "        return wordnet.ADJ\n",
    "    elif treebank_tag.startswith('V'):\n",
    "        return wordnet.VERB\n",
    "    elif treebank_tag.startswith('N'):\n",
    "        return wordnet.NOUN\n",
    "    elif treebank_tag.startswith('R'):\n",
    "        return wordnet.ADV\n",
    "    else:\n",
    "        return wordnet.NOUN\n",
    "    \n",
    "# helper function to clean and lemmatize the review\n",
    "def lem_review(df):\n",
    "    # get the doc text\n",
    "    doc = df.review_text\n",
    "    # tokenize the doc, lowercase all words and remove stopwords\n",
    "    doc = tokenizer.tokenize(doc)\n",
    "    doc = [token.lower() for token in doc]\n",
    "    doc = [token for token in doc if token not in sw]\n",
    "    # tag part of speach and convert format of tagging\n",
    "    doc_tagged = pos_tag(doc)\n",
    "    doc_tagged = [(token[0], get_wordnet_pos(token[1])) for token in doc_tagged]\n",
    "    # lemmatize the doc\n",
    "    doc_lemmed = [lemmatizer.lemmatize(token[0], token[1]) for token in doc_tagged]\n",
    "    # join the lemmas together as a string\n",
    "    doc_cleaned = ' '.join(doc_lemmed)\n",
    "    # return the cleaned doc\n",
    "    return doc_cleaned\n",
    "\n",
    "# helper function to clean and lemmatize the summary\n",
    "def lem_summary(df):\n",
    "    # get the doc text\n",
    "    doc = df.plot_summary\n",
    "    # tokenize the doc, lowercase all words and remove stopwords\n",
    "    doc = tokenizer.tokenize(doc)\n",
    "    doc = [token.lower() for token in doc]\n",
    "    doc = [token for token in doc if token not in sw]\n",
    "    # tag part of speach and convert format of tagging\n",
    "    doc_tagged = pos_tag(doc)\n",
    "    doc_tagged = [(token[0], get_wordnet_pos(token[1])) for token in doc_tagged]\n",
    "    # lemmatize the doc\n",
    "    doc_lemmed = [lemmatizer.lemmatize(token[0], token[1]) for token in doc_tagged]\n",
    "    # join the lemmas together as a string\n",
    "    doc_cleaned = ' '.join(doc_lemmed)\n",
    "    # return the cleaned doc\n",
    "    return doc_cleaned"
   ]
  },
  {
   "cell_type": "code",
   "execution_count": 14,
   "id": "6556b48e",
   "metadata": {
    "ExecuteTime": {
     "end_time": "2022-04-28T00:59:10.963736Z",
     "start_time": "2022-04-28T00:59:01.148393Z"
    },
    "hidden": true
   },
   "outputs": [],
   "source": [
    "# this takes about an hour and a half\n",
    "# review_df['review_text_lemmed'] = review_df.apply(lem_review, axis=1)\n",
    "\n",
    "# this takes about 9 seconds\n",
    "# summary_df['plot_summary_lemmed'] = summary_df.apply(lem_summary, axis=1)"
   ]
  },
  {
   "cell_type": "markdown",
   "id": "fb44c479",
   "metadata": {
    "hidden": true
   },
   "source": [
    "Because it took so long to lemmatize the reviews, we are going to save both of these dataframes as parquet files to make modeling easier on ourselves."
   ]
  },
  {
   "cell_type": "code",
   "execution_count": 16,
   "id": "4f4e6ea4",
   "metadata": {
    "ExecuteTime": {
     "end_time": "2022-04-28T01:02:30.203347Z",
     "start_time": "2022-04-28T01:02:30.173588Z"
    },
    "hidden": true
   },
   "outputs": [],
   "source": [
    "# because it took so long, we are going to save it to a parquet file\n",
    "# review_df.to_parquet('./data/reviews_lemmed.parquet')\n",
    "\n",
    "# we are also saving the summary dataframe as well to save time\n",
    "# summary_df.to_parquet('./data/plot_summary_lemmed.parquet')"
   ]
  },
  {
   "cell_type": "markdown",
   "id": "ceaa77f7",
   "metadata": {
    "heading_collapsed": true
   },
   "source": [
    "## set train/val/test"
   ]
  },
  {
   "cell_type": "code",
   "execution_count": 5,
   "id": "ca75e294",
   "metadata": {
    "ExecuteTime": {
     "end_time": "2022-05-03T12:48:41.994649Z",
     "start_time": "2022-05-03T12:48:41.982746Z"
    },
    "hidden": true
   },
   "outputs": [],
   "source": [
    "# set X to the review text lemmed, y to target\n",
    "X = review_df.review_text_lemmed\n",
    "y = review_df.is_spoiler\n",
    "\n",
    "# We want 10% of our data for test and 10% for validation, generate our holdout number\n",
    "holdout = round(len(X) * 0.1)"
   ]
  },
  {
   "cell_type": "code",
   "execution_count": 6,
   "id": "694f5899",
   "metadata": {
    "ExecuteTime": {
     "end_time": "2022-05-03T12:48:42.379074Z",
     "start_time": "2022-05-03T12:48:42.119642Z"
    },
    "hidden": true
   },
   "outputs": [
    {
     "name": "stdout",
     "output_type": "stream",
     "text": [
      "X_train / y_train shapes: (459088,), (459088,)\n",
      "X_val / y_val shapes: (57386,), (57386,)\n",
      "X_test / y_test shapes: (57386,), (57386,)\n"
     ]
    }
   ],
   "source": [
    "# do first train/test split for train/val set and test set\n",
    "X_trainval, X_test, y_trainval, y_test = train_test_split(X, y, random_state=42, test_size=holdout)\n",
    "\n",
    "# perform 2nd train/test split (on train/val) for train and val sets\n",
    "X_train, X_val, y_train, y_val = train_test_split(X_trainval, y_trainval, random_state=42, test_size=holdout)\n",
    "\n",
    "# delete the X, y and trainval variables (no longer needed)\n",
    "del X, y, X_trainval, y_trainval\n",
    "\n",
    "# confirm shapes\n",
    "print(f\"X_train / y_train shapes: {X_train.shape}, {y_train.shape}\")\n",
    "print(f\"X_val / y_val shapes: {X_val.shape}, {y_val.shape}\")\n",
    "print(f\"X_test / y_test shapes: {X_test.shape}, {y_test.shape}\")"
   ]
  },
  {
   "cell_type": "code",
   "execution_count": 8,
   "id": "b7459bfb",
   "metadata": {
    "ExecuteTime": {
     "end_time": "2022-05-03T12:49:17.197080Z",
     "start_time": "2022-05-03T12:49:17.179238Z"
    },
    "hidden": true
   },
   "outputs": [],
   "source": [
    "del review_df"
   ]
  },
  {
   "cell_type": "code",
   "execution_count": 8,
   "id": "53a90afb",
   "metadata": {
    "ExecuteTime": {
     "end_time": "2022-05-01T19:09:21.748914Z",
     "start_time": "2022-05-01T19:09:21.744477Z"
    },
    "hidden": true
   },
   "outputs": [],
   "source": [
    "# these were used to output files to cloud services\n",
    "# train = pd.concat([X_train, y_train], axis=1)\n",
    "# val = pd.concat([X_val, y_val], axis=1)\n",
    "# test = pd.concat([X_test, y_test], axis=1)\n",
    "# train.to_csv('./data/train.csv')\n",
    "# val.to_csv('./data/val.csv')\n",
    "# test.to_csv('./data/test.csv')"
   ]
  },
  {
   "cell_type": "markdown",
   "id": "8650514a",
   "metadata": {},
   "source": [
    "# Bag of Words Model"
   ]
  },
  {
   "cell_type": "code",
   "execution_count": 7,
   "id": "a1ea4475",
   "metadata": {
    "ExecuteTime": {
     "end_time": "2022-05-03T12:48:42.548289Z",
     "start_time": "2022-05-03T12:48:42.534298Z"
    }
   },
   "outputs": [],
   "source": [
    "# helper function to transform the training and validation data\n",
    "def transformX(vectorizer, train=X_train, val=X_val, train_target=y_train, val_target=y_val):\n",
    "    # fit/transform training data\n",
    "    train_vec = vectorizer.fit_transform(train)\n",
    "    train_vec = pd.DataFrame.sparse.from_spmatrix(train_vec)\n",
    "    train_vec.columns = sorted(vectorizer.vocabulary_)\n",
    "    train_vec.set_index(train_target.index, inplace=True)\n",
    "    # transform validation data\n",
    "    val_vec = vectorizer.transform(val)\n",
    "    val_vec = pd.DataFrame.sparse.from_spmatrix(val_vec)\n",
    "    val_vec.columns = sorted(vectorizer.vocabulary_)\n",
    "    val_vec.set_index(val_target.index, inplace=True)\n",
    "    # return both dataframes\n",
    "    return train_vec, val_vec"
   ]
  },
  {
   "cell_type": "markdown",
   "id": "e160e936",
   "metadata": {},
   "source": [
    "## base tfidf vectorizer"
   ]
  },
  {
   "cell_type": "markdown",
   "id": "e633e458",
   "metadata": {},
   "source": [
    "Transforming the training/validation sets takes about a minute and generates a 230,844 word vocabulary"
   ]
  },
  {
   "cell_type": "code",
   "execution_count": 10,
   "id": "a67a67fe",
   "metadata": {
    "ExecuteTime": {
     "end_time": "2022-05-03T12:29:59.791434Z",
     "start_time": "2022-05-03T12:28:48.827293Z"
    }
   },
   "outputs": [],
   "source": [
    "# set tfidf vectorizer, default parameters\n",
    "base_tfidf = TfidfVectorizer()\n",
    "\n",
    "X_train_tfidf, X_val_tfidf = transformX(base_tfidf)\n",
    "\n",
    "# helper function to make fitting, predicting and reporting easier\n",
    "def fitpredreport(model):\n",
    "    model.fit(X_train_tfidf, y_train)\n",
    "    y_pred = model.predict(X_val_tfidf)\n",
    "    report(y_val, y_pred)"
   ]
  },
  {
   "cell_type": "markdown",
   "id": "38bb3a0f",
   "metadata": {},
   "source": [
    "________\n",
    "Multinomial Naive Bayes"
   ]
  },
  {
   "cell_type": "code",
   "execution_count": 11,
   "id": "de7f605e",
   "metadata": {
    "ExecuteTime": {
     "end_time": "2022-05-03T12:40:52.817277Z",
     "start_time": "2022-05-03T12:40:33.648688Z"
    }
   },
   "outputs": [
    {
     "name": "stdout",
     "output_type": "stream",
     "text": [
      "              precision    recall  f1-score   support\n",
      "\n",
      "  no_spoiler       0.74      1.00      0.85     42126\n",
      "     spoiler       0.75      0.03      0.05     15260\n",
      "\n",
      "    accuracy                           0.74     57386\n",
      "   macro avg       0.74      0.51      0.45     57386\n",
      "weighted avg       0.74      0.74      0.64     57386\n",
      "\n"
     ]
    },
    {
     "data": {
      "image/png": "[encoded data removed]",
      "text/plain": [
       "<Figure size 432x288 with 2 Axes>"
      ]
     },
     "metadata": {
      "needs_background": "light"
     },
     "output_type": "display_data"
    }
   ],
   "source": [
    "# instantiate multinomial naive bayes model\n",
    "mnb_v1 = MultinomialNB()\n",
    "# fit, predict and report with helper function\n",
    "fitpredreport(mnb_v1)"
   ]
  },
  {
   "cell_type": "markdown",
   "id": "3a13490b",
   "metadata": {},
   "source": [
    "Definitely not better than our baseline.\n",
    "_________\n",
    "Logistic Regression"
   ]
  },
  {
   "cell_type": "code",
   "execution_count": 12,
   "id": "60d50246",
   "metadata": {
    "ExecuteTime": {
     "end_time": "2022-05-03T12:41:56.058852Z",
     "start_time": "2022-05-03T12:41:01.337739Z"
    }
   },
   "outputs": [
    {
     "name": "stdout",
     "output_type": "stream",
     "text": [
      "[LibLinear]              precision    recall  f1-score   support\n",
      "\n",
      "  no_spoiler       0.80      0.92      0.86     42126\n",
      "     spoiler       0.63      0.36      0.46     15260\n",
      "\n",
      "    accuracy                           0.78     57386\n",
      "   macro avg       0.72      0.64      0.66     57386\n",
      "weighted avg       0.76      0.78      0.75     57386\n",
      "\n"
     ]
    },
    {
     "data": {
      "image/png": "[encoded data removed]",
      "text/plain": [
       "<Figure size 432x288 with 2 Axes>"
      ]
     },
     "metadata": {
      "needs_background": "light"
     },
     "output_type": "display_data"
    }
   ],
   "source": [
    "# instantiate logistic regression model\n",
    "lr_v1 = LogisticRegression(verbose=1, solver='liblinear', random_state=42, C=5, max_iter=1000)\n",
    "# fit, predict and report with helper function\n",
    "fitpredreport(lr_v1)"
   ]
  },
  {
   "cell_type": "markdown",
   "id": "63b99378",
   "metadata": {},
   "source": [
    "________\n",
    "SVM"
   ]
  },
  {
   "cell_type": "code",
   "execution_count": 13,
   "id": "cdcd71b0",
   "metadata": {
    "ExecuteTime": {
     "end_time": "2022-05-03T12:42:36.282640Z",
     "start_time": "2022-05-03T12:42:04.533160Z"
    }
   },
   "outputs": [
    {
     "name": "stdout",
     "output_type": "stream",
     "text": [
      "              precision    recall  f1-score   support\n",
      "\n",
      "  no_spoiler       0.80      0.93      0.86     42126\n",
      "     spoiler       0.63      0.35      0.45     15260\n",
      "\n",
      "    accuracy                           0.77     57386\n",
      "   macro avg       0.72      0.64      0.66     57386\n",
      "weighted avg       0.75      0.77      0.75     57386\n",
      "\n"
     ]
    },
    {
     "data": {
      "image/png": "[encoded data removed]",
      "text/plain": [
       "<Figure size 432x288 with 2 Axes>"
      ]
     },
     "metadata": {
      "needs_background": "light"
     },
     "output_type": "display_data"
    }
   ],
   "source": [
    "# instantiate SVM model\n",
    "svm_v1 = LinearSVC(random_state=42)\n",
    "# fit, predict and report with helper function\n",
    "fitpredreport(svm_v1)"
   ]
  },
  {
   "cell_type": "markdown",
   "id": "5767948b",
   "metadata": {},
   "source": [
    "____________\n",
    "RandomForest"
   ]
  },
  {
   "cell_type": "code",
   "execution_count": 28,
   "id": "d8bcc77e",
   "metadata": {
    "ExecuteTime": {
     "end_time": "2022-05-01T00:13:58.155935Z",
     "start_time": "2022-04-30T22:33:23.807017Z"
    }
   },
   "outputs": [
    {
     "name": "stdout",
     "output_type": "stream",
     "text": [
      "              precision    recall  f1-score   support\n",
      "\n",
      "  no_spoiler       0.74      1.00      0.85     42126\n",
      "     spoiler       0.76      0.02      0.05     15260\n",
      "\n",
      "    accuracy                           0.74     57386\n",
      "   macro avg       0.75      0.51      0.45     57386\n",
      "weighted avg       0.74      0.74      0.64     57386\n",
      "\n"
     ]
    },
    {
     "data": {
      "image/png": "[encoded data removed]",
      "text/plain": [
       "<Figure size 432x288 with 2 Axes>"
      ]
     },
     "metadata": {
      "needs_background": "light"
     },
     "output_type": "display_data"
    }
   ],
   "source": [
    "# this cell is using the pruned df with non-english reviews removed\n",
    "# instantiate random forest classifier\n",
    "rf_v1 = RandomForestClassifier(random_state=42, n_jobs=-1)\n",
    "# fit, predict and report with helper function\n",
    "fitpredreport(rf_v1)"
   ]
  },
  {
   "cell_type": "markdown",
   "id": "e28610fa",
   "metadata": {},
   "source": [
    "____________\n",
    "XGBoost"
   ]
  },
  {
   "cell_type": "code",
   "execution_count": 14,
   "id": "f2a27595",
   "metadata": {
    "ExecuteTime": {
     "end_time": "2022-05-03T12:46:00.548960Z",
     "start_time": "2022-05-03T12:45:53.990682Z"
    }
   },
   "outputs": [
    {
     "ename": "MemoryError",
     "evalue": "Unable to allocate 787. GiB for an array with shape (230160, 459088) and data type float64",
     "output_type": "error",
     "traceback": [
      "\u001b[1;31m---------------------------------------------------------------------------\u001b[0m",
      "\u001b[1;31mMemoryError\u001b[0m                               Traceback (most recent call last)",
      "\u001b[1;32m~\\AppData\\Local\\Temp/ipykernel_20220/2058205553.py\u001b[0m in \u001b[0;36m<module>\u001b[1;34m\u001b[0m\n\u001b[0;32m      1\u001b[0m \u001b[0mxgb_v1\u001b[0m \u001b[1;33m=\u001b[0m \u001b[0mXGBClassifier\u001b[0m\u001b[1;33m(\u001b[0m\u001b[0mrandom_state\u001b[0m\u001b[1;33m=\u001b[0m\u001b[1;36m42\u001b[0m\u001b[1;33m,\u001b[0m \u001b[0mn_jobs\u001b[0m\u001b[1;33m=\u001b[0m\u001b[1;33m-\u001b[0m\u001b[1;36m1\u001b[0m\u001b[1;33m)\u001b[0m\u001b[1;33m\u001b[0m\u001b[1;33m\u001b[0m\u001b[0m\n\u001b[1;32m----> 2\u001b[1;33m \u001b[0mfitpredreport\u001b[0m\u001b[1;33m(\u001b[0m\u001b[0mxgb_v1\u001b[0m\u001b[1;33m)\u001b[0m\u001b[1;33m\u001b[0m\u001b[1;33m\u001b[0m\u001b[0m\n\u001b[0m",
      "\u001b[1;32m~\\AppData\\Local\\Temp/ipykernel_20220/2006769416.py\u001b[0m in \u001b[0;36mfitpredreport\u001b[1;34m(model)\u001b[0m\n\u001b[0;32m      6\u001b[0m \u001b[1;31m# helper function to make fitting, predicting and reporting easier\u001b[0m\u001b[1;33m\u001b[0m\u001b[1;33m\u001b[0m\u001b[0m\n\u001b[0;32m      7\u001b[0m \u001b[1;32mdef\u001b[0m \u001b[0mfitpredreport\u001b[0m\u001b[1;33m(\u001b[0m\u001b[0mmodel\u001b[0m\u001b[1;33m)\u001b[0m\u001b[1;33m:\u001b[0m\u001b[1;33m\u001b[0m\u001b[1;33m\u001b[0m\u001b[0m\n\u001b[1;32m----> 8\u001b[1;33m     \u001b[0mmodel\u001b[0m\u001b[1;33m.\u001b[0m\u001b[0mfit\u001b[0m\u001b[1;33m(\u001b[0m\u001b[0mX_train_tfidf\u001b[0m\u001b[1;33m,\u001b[0m \u001b[0my_train\u001b[0m\u001b[1;33m)\u001b[0m\u001b[1;33m\u001b[0m\u001b[1;33m\u001b[0m\u001b[0m\n\u001b[0m\u001b[0;32m      9\u001b[0m     \u001b[0my_pred\u001b[0m \u001b[1;33m=\u001b[0m \u001b[0mmodel\u001b[0m\u001b[1;33m.\u001b[0m\u001b[0mpredict\u001b[0m\u001b[1;33m(\u001b[0m\u001b[0mX_val_tfidf\u001b[0m\u001b[1;33m)\u001b[0m\u001b[1;33m\u001b[0m\u001b[1;33m\u001b[0m\u001b[0m\n\u001b[0;32m     10\u001b[0m     \u001b[0mreport\u001b[0m\u001b[1;33m(\u001b[0m\u001b[0my_val\u001b[0m\u001b[1;33m,\u001b[0m \u001b[0my_pred\u001b[0m\u001b[1;33m)\u001b[0m\u001b[1;33m\u001b[0m\u001b[1;33m\u001b[0m\u001b[0m\n",
      "\u001b[1;32m~\\anaconda3\\lib\\site-packages\\xgboost\\core.py\u001b[0m in \u001b[0;36minner_f\u001b[1;34m(*args, **kwargs)\u001b[0m\n\u001b[0;32m    530\u001b[0m         \u001b[1;32mfor\u001b[0m \u001b[0mk\u001b[0m\u001b[1;33m,\u001b[0m \u001b[0marg\u001b[0m \u001b[1;32min\u001b[0m \u001b[0mzip\u001b[0m\u001b[1;33m(\u001b[0m\u001b[0msig\u001b[0m\u001b[1;33m.\u001b[0m\u001b[0mparameters\u001b[0m\u001b[1;33m,\u001b[0m \u001b[0margs\u001b[0m\u001b[1;33m)\u001b[0m\u001b[1;33m:\u001b[0m\u001b[1;33m\u001b[0m\u001b[1;33m\u001b[0m\u001b[0m\n\u001b[0;32m    531\u001b[0m             \u001b[0mkwargs\u001b[0m\u001b[1;33m[\u001b[0m\u001b[0mk\u001b[0m\u001b[1;33m]\u001b[0m \u001b[1;33m=\u001b[0m \u001b[0marg\u001b[0m\u001b[1;33m\u001b[0m\u001b[1;33m\u001b[0m\u001b[0m\n\u001b[1;32m--> 532\u001b[1;33m         \u001b[1;32mreturn\u001b[0m \u001b[0mf\u001b[0m\u001b[1;33m(\u001b[0m\u001b[1;33m**\u001b[0m\u001b[0mkwargs\u001b[0m\u001b[1;33m)\u001b[0m\u001b[1;33m\u001b[0m\u001b[1;33m\u001b[0m\u001b[0m\n\u001b[0m\u001b[0;32m    533\u001b[0m \u001b[1;33m\u001b[0m\u001b[0m\n\u001b[0;32m    534\u001b[0m     \u001b[1;32mreturn\u001b[0m \u001b[0minner_f\u001b[0m\u001b[1;33m\u001b[0m\u001b[1;33m\u001b[0m\u001b[0m\n",
      "\u001b[1;32m~\\anaconda3\\lib\\site-packages\\xgboost\\sklearn.py\u001b[0m in \u001b[0;36mfit\u001b[1;34m(self, X, y, sample_weight, base_margin, eval_set, eval_metric, early_stopping_rounds, verbose, xgb_model, sample_weight_eval_set, base_margin_eval_set, feature_weights, callbacks)\u001b[0m\n\u001b[0;32m   1380\u001b[0m             \u001b[0mxgb_model\u001b[0m\u001b[1;33m,\u001b[0m \u001b[0meval_metric\u001b[0m\u001b[1;33m,\u001b[0m \u001b[0mparams\u001b[0m\u001b[1;33m,\u001b[0m \u001b[0mearly_stopping_rounds\u001b[0m\u001b[1;33m,\u001b[0m \u001b[0mcallbacks\u001b[0m\u001b[1;33m\u001b[0m\u001b[1;33m\u001b[0m\u001b[0m\n\u001b[0;32m   1381\u001b[0m         )\n\u001b[1;32m-> 1382\u001b[1;33m         train_dmatrix, evals = _wrap_evaluation_matrices(\n\u001b[0m\u001b[0;32m   1383\u001b[0m             \u001b[0mmissing\u001b[0m\u001b[1;33m=\u001b[0m\u001b[0mself\u001b[0m\u001b[1;33m.\u001b[0m\u001b[0mmissing\u001b[0m\u001b[1;33m,\u001b[0m\u001b[1;33m\u001b[0m\u001b[1;33m\u001b[0m\u001b[0m\n\u001b[0;32m   1384\u001b[0m             \u001b[0mX\u001b[0m\u001b[1;33m=\u001b[0m\u001b[0mX\u001b[0m\u001b[1;33m,\u001b[0m\u001b[1;33m\u001b[0m\u001b[1;33m\u001b[0m\u001b[0m\n",
      "\u001b[1;32m~\\anaconda3\\lib\\site-packages\\xgboost\\sklearn.py\u001b[0m in \u001b[0;36m_wrap_evaluation_matrices\u001b[1;34m(missing, X, y, group, qid, sample_weight, base_margin, feature_weights, eval_set, sample_weight_eval_set, base_margin_eval_set, eval_group, eval_qid, create_dmatrix, enable_categorical)\u001b[0m\n\u001b[0;32m    399\u001b[0m \u001b[1;33m\u001b[0m\u001b[0m\n\u001b[0;32m    400\u001b[0m     \"\"\"\n\u001b[1;32m--> 401\u001b[1;33m     train_dmatrix = create_dmatrix(\n\u001b[0m\u001b[0;32m    402\u001b[0m         \u001b[0mdata\u001b[0m\u001b[1;33m=\u001b[0m\u001b[0mX\u001b[0m\u001b[1;33m,\u001b[0m\u001b[1;33m\u001b[0m\u001b[1;33m\u001b[0m\u001b[0m\n\u001b[0;32m    403\u001b[0m         \u001b[0mlabel\u001b[0m\u001b[1;33m=\u001b[0m\u001b[0my\u001b[0m\u001b[1;33m,\u001b[0m\u001b[1;33m\u001b[0m\u001b[1;33m\u001b[0m\u001b[0m\n",
      "\u001b[1;32m~\\anaconda3\\lib\\site-packages\\xgboost\\sklearn.py\u001b[0m in \u001b[0;36m<lambda>\u001b[1;34m(**kwargs)\u001b[0m\n\u001b[0;32m   1394\u001b[0m             \u001b[0meval_group\u001b[0m\u001b[1;33m=\u001b[0m\u001b[1;32mNone\u001b[0m\u001b[1;33m,\u001b[0m\u001b[1;33m\u001b[0m\u001b[1;33m\u001b[0m\u001b[0m\n\u001b[0;32m   1395\u001b[0m             \u001b[0meval_qid\u001b[0m\u001b[1;33m=\u001b[0m\u001b[1;32mNone\u001b[0m\u001b[1;33m,\u001b[0m\u001b[1;33m\u001b[0m\u001b[1;33m\u001b[0m\u001b[0m\n\u001b[1;32m-> 1396\u001b[1;33m             \u001b[0mcreate_dmatrix\u001b[0m\u001b[1;33m=\u001b[0m\u001b[1;32mlambda\u001b[0m \u001b[1;33m**\u001b[0m\u001b[0mkwargs\u001b[0m\u001b[1;33m:\u001b[0m \u001b[0mDMatrix\u001b[0m\u001b[1;33m(\u001b[0m\u001b[0mnthread\u001b[0m\u001b[1;33m=\u001b[0m\u001b[0mself\u001b[0m\u001b[1;33m.\u001b[0m\u001b[0mn_jobs\u001b[0m\u001b[1;33m,\u001b[0m \u001b[1;33m**\u001b[0m\u001b[0mkwargs\u001b[0m\u001b[1;33m)\u001b[0m\u001b[1;33m,\u001b[0m\u001b[1;33m\u001b[0m\u001b[1;33m\u001b[0m\u001b[0m\n\u001b[0m\u001b[0;32m   1397\u001b[0m             \u001b[0menable_categorical\u001b[0m\u001b[1;33m=\u001b[0m\u001b[0mself\u001b[0m\u001b[1;33m.\u001b[0m\u001b[0menable_categorical\u001b[0m\u001b[1;33m,\u001b[0m\u001b[1;33m\u001b[0m\u001b[1;33m\u001b[0m\u001b[0m\n\u001b[0;32m   1398\u001b[0m         )\n",
      "\u001b[1;32m~\\anaconda3\\lib\\site-packages\\xgboost\\core.py\u001b[0m in \u001b[0;36minner_f\u001b[1;34m(*args, **kwargs)\u001b[0m\n\u001b[0;32m    530\u001b[0m         \u001b[1;32mfor\u001b[0m \u001b[0mk\u001b[0m\u001b[1;33m,\u001b[0m \u001b[0marg\u001b[0m \u001b[1;32min\u001b[0m \u001b[0mzip\u001b[0m\u001b[1;33m(\u001b[0m\u001b[0msig\u001b[0m\u001b[1;33m.\u001b[0m\u001b[0mparameters\u001b[0m\u001b[1;33m,\u001b[0m \u001b[0margs\u001b[0m\u001b[1;33m)\u001b[0m\u001b[1;33m:\u001b[0m\u001b[1;33m\u001b[0m\u001b[1;33m\u001b[0m\u001b[0m\n\u001b[0;32m    531\u001b[0m             \u001b[0mkwargs\u001b[0m\u001b[1;33m[\u001b[0m\u001b[0mk\u001b[0m\u001b[1;33m]\u001b[0m \u001b[1;33m=\u001b[0m \u001b[0marg\u001b[0m\u001b[1;33m\u001b[0m\u001b[1;33m\u001b[0m\u001b[0m\n\u001b[1;32m--> 532\u001b[1;33m         \u001b[1;32mreturn\u001b[0m \u001b[0mf\u001b[0m\u001b[1;33m(\u001b[0m\u001b[1;33m**\u001b[0m\u001b[0mkwargs\u001b[0m\u001b[1;33m)\u001b[0m\u001b[1;33m\u001b[0m\u001b[1;33m\u001b[0m\u001b[0m\n\u001b[0m\u001b[0;32m    533\u001b[0m \u001b[1;33m\u001b[0m\u001b[0m\n\u001b[0;32m    534\u001b[0m     \u001b[1;32mreturn\u001b[0m \u001b[0minner_f\u001b[0m\u001b[1;33m\u001b[0m\u001b[1;33m\u001b[0m\u001b[0m\n",
      "\u001b[1;32m~\\anaconda3\\lib\\site-packages\\xgboost\\core.py\u001b[0m in \u001b[0;36m__init__\u001b[1;34m(self, data, label, weight, base_margin, missing, silent, feature_names, feature_types, nthread, group, qid, label_lower_bound, label_upper_bound, feature_weights, enable_categorical)\u001b[0m\n\u001b[0;32m    641\u001b[0m             \u001b[1;32mreturn\u001b[0m\u001b[1;33m\u001b[0m\u001b[1;33m\u001b[0m\u001b[0m\n\u001b[0;32m    642\u001b[0m \u001b[1;33m\u001b[0m\u001b[0m\n\u001b[1;32m--> 643\u001b[1;33m         handle, feature_names, feature_types = dispatch_data_backend(\n\u001b[0m\u001b[0;32m    644\u001b[0m             \u001b[0mdata\u001b[0m\u001b[1;33m,\u001b[0m\u001b[1;33m\u001b[0m\u001b[1;33m\u001b[0m\u001b[0m\n\u001b[0;32m    645\u001b[0m             \u001b[0mmissing\u001b[0m\u001b[1;33m=\u001b[0m\u001b[0mself\u001b[0m\u001b[1;33m.\u001b[0m\u001b[0mmissing\u001b[0m\u001b[1;33m,\u001b[0m\u001b[1;33m\u001b[0m\u001b[1;33m\u001b[0m\u001b[0m\n",
      "\u001b[1;32m~\\anaconda3\\lib\\site-packages\\xgboost\\data.py\u001b[0m in \u001b[0;36mdispatch_data_backend\u001b[1;34m(data, missing, threads, feature_names, feature_types, enable_categorical)\u001b[0m\n\u001b[0;32m    894\u001b[0m         \u001b[1;32mreturn\u001b[0m \u001b[0m_from_tuple\u001b[0m\u001b[1;33m(\u001b[0m\u001b[0mdata\u001b[0m\u001b[1;33m,\u001b[0m \u001b[0mmissing\u001b[0m\u001b[1;33m,\u001b[0m \u001b[0mthreads\u001b[0m\u001b[1;33m,\u001b[0m \u001b[0mfeature_names\u001b[0m\u001b[1;33m,\u001b[0m \u001b[0mfeature_types\u001b[0m\u001b[1;33m)\u001b[0m\u001b[1;33m\u001b[0m\u001b[1;33m\u001b[0m\u001b[0m\n\u001b[0;32m    895\u001b[0m     \u001b[1;32mif\u001b[0m \u001b[0m_is_pandas_df\u001b[0m\u001b[1;33m(\u001b[0m\u001b[0mdata\u001b[0m\u001b[1;33m)\u001b[0m\u001b[1;33m:\u001b[0m\u001b[1;33m\u001b[0m\u001b[1;33m\u001b[0m\u001b[0m\n\u001b[1;32m--> 896\u001b[1;33m         return _from_pandas_df(data, enable_categorical, missing, threads,\n\u001b[0m\u001b[0;32m    897\u001b[0m                                feature_names, feature_types)\n\u001b[0;32m    898\u001b[0m     \u001b[1;32mif\u001b[0m \u001b[0m_is_pandas_series\u001b[0m\u001b[1;33m(\u001b[0m\u001b[0mdata\u001b[0m\u001b[1;33m)\u001b[0m\u001b[1;33m:\u001b[0m\u001b[1;33m\u001b[0m\u001b[1;33m\u001b[0m\u001b[0m\n",
      "\u001b[1;32m~\\anaconda3\\lib\\site-packages\\xgboost\\data.py\u001b[0m in \u001b[0;36m_from_pandas_df\u001b[1;34m(data, enable_categorical, missing, nthread, feature_names, feature_types)\u001b[0m\n\u001b[0;32m    343\u001b[0m     \u001b[0mfeature_types\u001b[0m\u001b[1;33m:\u001b[0m \u001b[0mOptional\u001b[0m\u001b[1;33m[\u001b[0m\u001b[0mList\u001b[0m\u001b[1;33m[\u001b[0m\u001b[0mstr\u001b[0m\u001b[1;33m]\u001b[0m\u001b[1;33m]\u001b[0m\u001b[1;33m,\u001b[0m\u001b[1;33m\u001b[0m\u001b[1;33m\u001b[0m\u001b[0m\n\u001b[0;32m    344\u001b[0m ) -> Tuple[ctypes.c_void_p, FeatureNames, Optional[List[str]]]:\n\u001b[1;32m--> 345\u001b[1;33m     data, feature_names, feature_types = _transform_pandas_df(\n\u001b[0m\u001b[0;32m    346\u001b[0m         \u001b[0mdata\u001b[0m\u001b[1;33m,\u001b[0m \u001b[0menable_categorical\u001b[0m\u001b[1;33m,\u001b[0m \u001b[0mfeature_names\u001b[0m\u001b[1;33m,\u001b[0m \u001b[0mfeature_types\u001b[0m\u001b[1;33m\u001b[0m\u001b[1;33m\u001b[0m\u001b[0m\n\u001b[0;32m    347\u001b[0m     )\n",
      "\u001b[1;32m~\\anaconda3\\lib\\site-packages\\xgboost\\data.py\u001b[0m in \u001b[0;36m_transform_pandas_df\u001b[1;34m(data, enable_categorical, feature_names, feature_types, meta, meta_type)\u001b[0m\n\u001b[0;32m    329\u001b[0m \u001b[1;33m\u001b[0m\u001b[0m\n\u001b[0;32m    330\u001b[0m     \u001b[0mdtype\u001b[0m \u001b[1;33m=\u001b[0m \u001b[0mmeta_type\u001b[0m \u001b[1;32mif\u001b[0m \u001b[0mmeta_type\u001b[0m \u001b[1;32melse\u001b[0m \u001b[0mnp\u001b[0m\u001b[1;33m.\u001b[0m\u001b[0mfloat32\u001b[0m\u001b[1;33m\u001b[0m\u001b[1;33m\u001b[0m\u001b[0m\n\u001b[1;32m--> 331\u001b[1;33m     \u001b[0marr\u001b[0m \u001b[1;33m=\u001b[0m \u001b[0mtransformed\u001b[0m\u001b[1;33m.\u001b[0m\u001b[0mvalues\u001b[0m\u001b[1;33m\u001b[0m\u001b[1;33m\u001b[0m\u001b[0m\n\u001b[0m\u001b[0;32m    332\u001b[0m     \u001b[1;32mif\u001b[0m \u001b[0mmeta_type\u001b[0m\u001b[1;33m:\u001b[0m\u001b[1;33m\u001b[0m\u001b[1;33m\u001b[0m\u001b[0m\n\u001b[0;32m    333\u001b[0m         \u001b[0marr\u001b[0m \u001b[1;33m=\u001b[0m \u001b[0marr\u001b[0m\u001b[1;33m.\u001b[0m\u001b[0mastype\u001b[0m\u001b[1;33m(\u001b[0m\u001b[0mmeta_type\u001b[0m\u001b[1;33m)\u001b[0m\u001b[1;33m\u001b[0m\u001b[1;33m\u001b[0m\u001b[0m\n",
      "\u001b[1;32m~\\anaconda3\\lib\\site-packages\\pandas\\core\\frame.py\u001b[0m in \u001b[0;36mvalues\u001b[1;34m(self)\u001b[0m\n\u001b[0;32m  10662\u001b[0m         \"\"\"\n\u001b[0;32m  10663\u001b[0m         \u001b[0mself\u001b[0m\u001b[1;33m.\u001b[0m\u001b[0m_consolidate_inplace\u001b[0m\u001b[1;33m(\u001b[0m\u001b[1;33m)\u001b[0m\u001b[1;33m\u001b[0m\u001b[1;33m\u001b[0m\u001b[0m\n\u001b[1;32m> 10664\u001b[1;33m         \u001b[1;32mreturn\u001b[0m \u001b[0mself\u001b[0m\u001b[1;33m.\u001b[0m\u001b[0m_mgr\u001b[0m\u001b[1;33m.\u001b[0m\u001b[0mas_array\u001b[0m\u001b[1;33m(\u001b[0m\u001b[0mtranspose\u001b[0m\u001b[1;33m=\u001b[0m\u001b[1;32mTrue\u001b[0m\u001b[1;33m)\u001b[0m\u001b[1;33m\u001b[0m\u001b[1;33m\u001b[0m\u001b[0m\n\u001b[0m\u001b[0;32m  10665\u001b[0m \u001b[1;33m\u001b[0m\u001b[0m\n\u001b[0;32m  10666\u001b[0m     \u001b[1;33m@\u001b[0m\u001b[0mdeprecate_nonkeyword_arguments\u001b[0m\u001b[1;33m(\u001b[0m\u001b[0mversion\u001b[0m\u001b[1;33m=\u001b[0m\u001b[1;32mNone\u001b[0m\u001b[1;33m,\u001b[0m \u001b[0mallowed_args\u001b[0m\u001b[1;33m=\u001b[0m\u001b[1;33m[\u001b[0m\u001b[1;34m\"self\"\u001b[0m\u001b[1;33m]\u001b[0m\u001b[1;33m)\u001b[0m\u001b[1;33m\u001b[0m\u001b[1;33m\u001b[0m\u001b[0m\n",
      "\u001b[1;32m~\\anaconda3\\lib\\site-packages\\pandas\\core\\internals\\managers.py\u001b[0m in \u001b[0;36mas_array\u001b[1;34m(self, transpose, dtype, copy, na_value)\u001b[0m\n\u001b[0;32m   1464\u001b[0m                     \u001b[0marr\u001b[0m \u001b[1;33m=\u001b[0m \u001b[0marr\u001b[0m\u001b[1;33m.\u001b[0m\u001b[0mastype\u001b[0m\u001b[1;33m(\u001b[0m\u001b[0mdtype\u001b[0m\u001b[1;33m,\u001b[0m \u001b[0mcopy\u001b[0m\u001b[1;33m=\u001b[0m\u001b[1;32mFalse\u001b[0m\u001b[1;33m)\u001b[0m  \u001b[1;31m# type: ignore[arg-type]\u001b[0m\u001b[1;33m\u001b[0m\u001b[1;33m\u001b[0m\u001b[0m\n\u001b[0;32m   1465\u001b[0m         \u001b[1;32melse\u001b[0m\u001b[1;33m:\u001b[0m\u001b[1;33m\u001b[0m\u001b[1;33m\u001b[0m\u001b[0m\n\u001b[1;32m-> 1466\u001b[1;33m             \u001b[0marr\u001b[0m \u001b[1;33m=\u001b[0m \u001b[0mself\u001b[0m\u001b[1;33m.\u001b[0m\u001b[0m_interleave\u001b[0m\u001b[1;33m(\u001b[0m\u001b[0mdtype\u001b[0m\u001b[1;33m=\u001b[0m\u001b[0mdtype\u001b[0m\u001b[1;33m,\u001b[0m \u001b[0mna_value\u001b[0m\u001b[1;33m=\u001b[0m\u001b[0mna_value\u001b[0m\u001b[1;33m)\u001b[0m\u001b[1;33m\u001b[0m\u001b[1;33m\u001b[0m\u001b[0m\n\u001b[0m\u001b[0;32m   1467\u001b[0m             \u001b[1;31m# The underlying data was copied within _interleave\u001b[0m\u001b[1;33m\u001b[0m\u001b[1;33m\u001b[0m\u001b[0m\n\u001b[0;32m   1468\u001b[0m             \u001b[0mcopy\u001b[0m \u001b[1;33m=\u001b[0m \u001b[1;32mFalse\u001b[0m\u001b[1;33m\u001b[0m\u001b[1;33m\u001b[0m\u001b[0m\n",
      "\u001b[1;32m~\\anaconda3\\lib\\site-packages\\pandas\\core\\internals\\managers.py\u001b[0m in \u001b[0;36m_interleave\u001b[1;34m(self, dtype, na_value)\u001b[0m\n\u001b[0;32m   1500\u001b[0m         \u001b[1;31m# Tuple[Any, Union[int, Sequence[int]]], List[Any], _DTypeDict,\u001b[0m\u001b[1;33m\u001b[0m\u001b[1;33m\u001b[0m\u001b[0m\n\u001b[0;32m   1501\u001b[0m         \u001b[1;31m# Tuple[Any, Any]]]\"\u001b[0m\u001b[1;33m\u001b[0m\u001b[1;33m\u001b[0m\u001b[0m\n\u001b[1;32m-> 1502\u001b[1;33m         \u001b[0mresult\u001b[0m \u001b[1;33m=\u001b[0m \u001b[0mnp\u001b[0m\u001b[1;33m.\u001b[0m\u001b[0mempty\u001b[0m\u001b[1;33m(\u001b[0m\u001b[0mself\u001b[0m\u001b[1;33m.\u001b[0m\u001b[0mshape\u001b[0m\u001b[1;33m,\u001b[0m \u001b[0mdtype\u001b[0m\u001b[1;33m=\u001b[0m\u001b[0mdtype\u001b[0m\u001b[1;33m)\u001b[0m  \u001b[1;31m# type: ignore[arg-type]\u001b[0m\u001b[1;33m\u001b[0m\u001b[1;33m\u001b[0m\u001b[0m\n\u001b[0m\u001b[0;32m   1503\u001b[0m \u001b[1;33m\u001b[0m\u001b[0m\n\u001b[0;32m   1504\u001b[0m         \u001b[0mitemmask\u001b[0m \u001b[1;33m=\u001b[0m \u001b[0mnp\u001b[0m\u001b[1;33m.\u001b[0m\u001b[0mzeros\u001b[0m\u001b[1;33m(\u001b[0m\u001b[0mself\u001b[0m\u001b[1;33m.\u001b[0m\u001b[0mshape\u001b[0m\u001b[1;33m[\u001b[0m\u001b[1;36m0\u001b[0m\u001b[1;33m]\u001b[0m\u001b[1;33m)\u001b[0m\u001b[1;33m\u001b[0m\u001b[1;33m\u001b[0m\u001b[0m\n",
      "\u001b[1;31mMemoryError\u001b[0m: Unable to allocate 787. GiB for an array with shape (230160, 459088) and data type float64"
     ]
    }
   ],
   "source": [
    "xgb_v1 = XGBClassifier(random_state=42, n_jobs=-1)\n",
    "fitpredreport(xgb_v1)"
   ]
  },
  {
   "cell_type": "markdown",
   "id": "cdb5526b",
   "metadata": {},
   "source": [
    "## tfidf, min occurance 8"
   ]
  },
  {
   "cell_type": "markdown",
   "id": "19b89ebc",
   "metadata": {},
   "source": [
    "Transforming the training/validation sets takes about a minute and generates a 230,844 word vocabulary"
   ]
  },
  {
   "cell_type": "code",
   "execution_count": 9,
   "id": "3fbd1e72",
   "metadata": {
    "ExecuteTime": {
     "end_time": "2022-05-03T12:50:24.946075Z",
     "start_time": "2022-05-03T12:49:27.282273Z"
    }
   },
   "outputs": [],
   "source": [
    "# set tfidf vectorizer, default parameters\n",
    "tfidf_eight = TfidfVectorizer(min_df=8)\n",
    "\n",
    "X_train_tfidf, X_val_tfidf = transformX(tfidf_eight)\n",
    "\n",
    "# helper function to make fitting, predicting and reporting easier\n",
    "def fitpredreport(model):\n",
    "    model.fit(X_train_tfidf, y_train)\n",
    "    y_pred = model.predict(X_val_tfidf)\n",
    "    report(y_val, y_pred)"
   ]
  },
  {
   "cell_type": "markdown",
   "id": "a6d20862",
   "metadata": {},
   "source": [
    "________\n",
    "Multinomial Naive Bayes"
   ]
  },
  {
   "cell_type": "code",
   "execution_count": 10,
   "id": "ae1bcdbb",
   "metadata": {
    "ExecuteTime": {
     "end_time": "2022-05-03T12:55:03.256321Z",
     "start_time": "2022-05-03T12:54:56.400578Z"
    }
   },
   "outputs": [
    {
     "name": "stdout",
     "output_type": "stream",
     "text": [
      "              precision    recall  f1-score   support\n",
      "\n",
      "  no_spoiler       0.75      0.98      0.85     42126\n",
      "     spoiler       0.67      0.12      0.20     15260\n",
      "\n",
      "    accuracy                           0.75     57386\n",
      "   macro avg       0.71      0.55      0.52     57386\n",
      "weighted avg       0.73      0.75      0.68     57386\n",
      "\n"
     ]
    },
    {
     "data": {
      "image/png": "[encoded data removed]",
      "text/plain": [
       "<Figure size 432x288 with 2 Axes>"
      ]
     },
     "metadata": {
      "needs_background": "light"
     },
     "output_type": "display_data"
    }
   ],
   "source": [
    "# instantiate multinomial naive bayes model\n",
    "mnb_v2 = MultinomialNB()\n",
    "# fit, predict and report with helper function\n",
    "fitpredreport(mnb_v2)"
   ]
  },
  {
   "cell_type": "markdown",
   "id": "ec71d927",
   "metadata": {},
   "source": [
    "Definitely not better than our baseline.\n",
    "_________\n",
    "Logistic Regression"
   ]
  },
  {
   "cell_type": "code",
   "execution_count": 11,
   "id": "c63f1fd7",
   "metadata": {
    "ExecuteTime": {
     "end_time": "2022-05-03T12:55:48.707864Z",
     "start_time": "2022-05-03T12:55:06.179788Z"
    }
   },
   "outputs": [
    {
     "name": "stdout",
     "output_type": "stream",
     "text": [
      "[LibLinear]              precision    recall  f1-score   support\n",
      "\n",
      "  no_spoiler       0.80      0.92      0.86     42126\n",
      "     spoiler       0.64      0.36      0.46     15260\n",
      "\n",
      "    accuracy                           0.78     57386\n",
      "   macro avg       0.72      0.64      0.66     57386\n",
      "weighted avg       0.76      0.78      0.75     57386\n",
      "\n"
     ]
    },
    {
     "data": {
      "image/png": "[encoded data removed]",
      "text/plain": [
       "<Figure size 432x288 with 2 Axes>"
      ]
     },
     "metadata": {
      "needs_background": "light"
     },
     "output_type": "display_data"
    }
   ],
   "source": [
    "# instantiate logistic regression model\n",
    "lr_v2 = LogisticRegression(verbose=1, solver='liblinear', random_state=42, C=5, max_iter=1000)\n",
    "# fit, predict and report with helper function\n",
    "fitpredreport(lr_v2)"
   ]
  },
  {
   "cell_type": "markdown",
   "id": "b417318c",
   "metadata": {},
   "source": [
    "________\n",
    "SVM"
   ]
  },
  {
   "cell_type": "code",
   "execution_count": 12,
   "id": "4780a506",
   "metadata": {
    "ExecuteTime": {
     "end_time": "2022-05-03T12:56:14.862635Z",
     "start_time": "2022-05-03T12:55:51.524334Z"
    }
   },
   "outputs": [
    {
     "name": "stdout",
     "output_type": "stream",
     "text": [
      "              precision    recall  f1-score   support\n",
      "\n",
      "  no_spoiler       0.80      0.93      0.86     42126\n",
      "     spoiler       0.64      0.35      0.45     15260\n",
      "\n",
      "    accuracy                           0.77     57386\n",
      "   macro avg       0.72      0.64      0.66     57386\n",
      "weighted avg       0.76      0.77      0.75     57386\n",
      "\n"
     ]
    },
    {
     "data": {
      "image/png": "[encoded data removed]",
      "text/plain": [
       "<Figure size 432x288 with 2 Axes>"
      ]
     },
     "metadata": {
      "needs_background": "light"
     },
     "output_type": "display_data"
    }
   ],
   "source": [
    "# instantiate SVM model\n",
    "svm_v2 = LinearSVC(random_state=42)\n",
    "# fit, predict and report with helper function\n",
    "fitpredreport(svm_v2)"
   ]
  },
  {
   "cell_type": "markdown",
   "id": "259971f0",
   "metadata": {},
   "source": [
    "____________\n",
    "RandomForest"
   ]
  },
  {
   "cell_type": "code",
   "execution_count": 13,
   "id": "a21be566",
   "metadata": {
    "ExecuteTime": {
     "end_time": "2022-05-03T13:51:17.411413Z",
     "start_time": "2022-05-03T12:56:17.693308Z"
    }
   },
   "outputs": [
    {
     "name": "stdout",
     "output_type": "stream",
     "text": [
      "              precision    recall  f1-score   support\n",
      "\n",
      "  no_spoiler       0.74      1.00      0.85     42126\n",
      "     spoiler       0.78      0.05      0.09     15260\n",
      "\n",
      "    accuracy                           0.74     57386\n",
      "   macro avg       0.76      0.52      0.47     57386\n",
      "weighted avg       0.75      0.74      0.65     57386\n",
      "\n"
     ]
    },
    {
     "data": {
      "image/png": "[encoded data removed]",
      "text/plain": [
       "<Figure size 432x288 with 2 Axes>"
      ]
     },
     "metadata": {
      "needs_background": "light"
     },
     "output_type": "display_data"
    }
   ],
   "source": [
    "# this cell is using the pruned df with non-english reviews removed\n",
    "# instantiate random forest classifier\n",
    "rf_v1 = RandomForestClassifier(random_state=42, n_jobs=-1)\n",
    "# fit, predict and report with helper function\n",
    "fitpredreport(rf_v1)"
   ]
  },
  {
   "cell_type": "markdown",
   "id": "c0d8fdfa",
   "metadata": {},
   "source": [
    "____________\n",
    "XGBoost"
   ]
  },
  {
   "cell_type": "code",
   "execution_count": 14,
   "id": "ccd7e1e0",
   "metadata": {
    "ExecuteTime": {
     "end_time": "2022-05-03T13:51:25.404336Z",
     "start_time": "2022-05-03T13:51:22.025922Z"
    }
   },
   "outputs": [
    {
     "ename": "MemoryError",
     "evalue": "Unable to allocate 182. GiB for an array with shape (53207, 459088) and data type float64",
     "output_type": "error",
     "traceback": [
      "\u001b[1;31m---------------------------------------------------------------------------\u001b[0m",
      "\u001b[1;31mMemoryError\u001b[0m                               Traceback (most recent call last)",
      "\u001b[1;32m~\\AppData\\Local\\Temp/ipykernel_22240/2058205553.py\u001b[0m in \u001b[0;36m<module>\u001b[1;34m\u001b[0m\n\u001b[0;32m      1\u001b[0m \u001b[0mxgb_v1\u001b[0m \u001b[1;33m=\u001b[0m \u001b[0mXGBClassifier\u001b[0m\u001b[1;33m(\u001b[0m\u001b[0mrandom_state\u001b[0m\u001b[1;33m=\u001b[0m\u001b[1;36m42\u001b[0m\u001b[1;33m,\u001b[0m \u001b[0mn_jobs\u001b[0m\u001b[1;33m=\u001b[0m\u001b[1;33m-\u001b[0m\u001b[1;36m1\u001b[0m\u001b[1;33m)\u001b[0m\u001b[1;33m\u001b[0m\u001b[1;33m\u001b[0m\u001b[0m\n\u001b[1;32m----> 2\u001b[1;33m \u001b[0mfitpredreport\u001b[0m\u001b[1;33m(\u001b[0m\u001b[0mxgb_v1\u001b[0m\u001b[1;33m)\u001b[0m\u001b[1;33m\u001b[0m\u001b[1;33m\u001b[0m\u001b[0m\n\u001b[0m",
      "\u001b[1;32m~\\AppData\\Local\\Temp/ipykernel_22240/1823227927.py\u001b[0m in \u001b[0;36mfitpredreport\u001b[1;34m(model)\u001b[0m\n\u001b[0;32m      6\u001b[0m \u001b[1;31m# helper function to make fitting, predicting and reporting easier\u001b[0m\u001b[1;33m\u001b[0m\u001b[1;33m\u001b[0m\u001b[0m\n\u001b[0;32m      7\u001b[0m \u001b[1;32mdef\u001b[0m \u001b[0mfitpredreport\u001b[0m\u001b[1;33m(\u001b[0m\u001b[0mmodel\u001b[0m\u001b[1;33m)\u001b[0m\u001b[1;33m:\u001b[0m\u001b[1;33m\u001b[0m\u001b[1;33m\u001b[0m\u001b[0m\n\u001b[1;32m----> 8\u001b[1;33m     \u001b[0mmodel\u001b[0m\u001b[1;33m.\u001b[0m\u001b[0mfit\u001b[0m\u001b[1;33m(\u001b[0m\u001b[0mX_train_tfidf\u001b[0m\u001b[1;33m,\u001b[0m \u001b[0my_train\u001b[0m\u001b[1;33m)\u001b[0m\u001b[1;33m\u001b[0m\u001b[1;33m\u001b[0m\u001b[0m\n\u001b[0m\u001b[0;32m      9\u001b[0m     \u001b[0my_pred\u001b[0m \u001b[1;33m=\u001b[0m \u001b[0mmodel\u001b[0m\u001b[1;33m.\u001b[0m\u001b[0mpredict\u001b[0m\u001b[1;33m(\u001b[0m\u001b[0mX_val_tfidf\u001b[0m\u001b[1;33m)\u001b[0m\u001b[1;33m\u001b[0m\u001b[1;33m\u001b[0m\u001b[0m\n\u001b[0;32m     10\u001b[0m     \u001b[0mreport\u001b[0m\u001b[1;33m(\u001b[0m\u001b[0my_val\u001b[0m\u001b[1;33m,\u001b[0m \u001b[0my_pred\u001b[0m\u001b[1;33m)\u001b[0m\u001b[1;33m\u001b[0m\u001b[1;33m\u001b[0m\u001b[0m\n",
      "\u001b[1;32m~\\anaconda3\\lib\\site-packages\\xgboost\\core.py\u001b[0m in \u001b[0;36minner_f\u001b[1;34m(*args, **kwargs)\u001b[0m\n\u001b[0;32m    530\u001b[0m         \u001b[1;32mfor\u001b[0m \u001b[0mk\u001b[0m\u001b[1;33m,\u001b[0m \u001b[0marg\u001b[0m \u001b[1;32min\u001b[0m \u001b[0mzip\u001b[0m\u001b[1;33m(\u001b[0m\u001b[0msig\u001b[0m\u001b[1;33m.\u001b[0m\u001b[0mparameters\u001b[0m\u001b[1;33m,\u001b[0m \u001b[0margs\u001b[0m\u001b[1;33m)\u001b[0m\u001b[1;33m:\u001b[0m\u001b[1;33m\u001b[0m\u001b[1;33m\u001b[0m\u001b[0m\n\u001b[0;32m    531\u001b[0m             \u001b[0mkwargs\u001b[0m\u001b[1;33m[\u001b[0m\u001b[0mk\u001b[0m\u001b[1;33m]\u001b[0m \u001b[1;33m=\u001b[0m \u001b[0marg\u001b[0m\u001b[1;33m\u001b[0m\u001b[1;33m\u001b[0m\u001b[0m\n\u001b[1;32m--> 532\u001b[1;33m         \u001b[1;32mreturn\u001b[0m \u001b[0mf\u001b[0m\u001b[1;33m(\u001b[0m\u001b[1;33m**\u001b[0m\u001b[0mkwargs\u001b[0m\u001b[1;33m)\u001b[0m\u001b[1;33m\u001b[0m\u001b[1;33m\u001b[0m\u001b[0m\n\u001b[0m\u001b[0;32m    533\u001b[0m \u001b[1;33m\u001b[0m\u001b[0m\n\u001b[0;32m    534\u001b[0m     \u001b[1;32mreturn\u001b[0m \u001b[0minner_f\u001b[0m\u001b[1;33m\u001b[0m\u001b[1;33m\u001b[0m\u001b[0m\n",
      "\u001b[1;32m~\\anaconda3\\lib\\site-packages\\xgboost\\sklearn.py\u001b[0m in \u001b[0;36mfit\u001b[1;34m(self, X, y, sample_weight, base_margin, eval_set, eval_metric, early_stopping_rounds, verbose, xgb_model, sample_weight_eval_set, base_margin_eval_set, feature_weights, callbacks)\u001b[0m\n\u001b[0;32m   1380\u001b[0m             \u001b[0mxgb_model\u001b[0m\u001b[1;33m,\u001b[0m \u001b[0meval_metric\u001b[0m\u001b[1;33m,\u001b[0m \u001b[0mparams\u001b[0m\u001b[1;33m,\u001b[0m \u001b[0mearly_stopping_rounds\u001b[0m\u001b[1;33m,\u001b[0m \u001b[0mcallbacks\u001b[0m\u001b[1;33m\u001b[0m\u001b[1;33m\u001b[0m\u001b[0m\n\u001b[0;32m   1381\u001b[0m         )\n\u001b[1;32m-> 1382\u001b[1;33m         train_dmatrix, evals = _wrap_evaluation_matrices(\n\u001b[0m\u001b[0;32m   1383\u001b[0m             \u001b[0mmissing\u001b[0m\u001b[1;33m=\u001b[0m\u001b[0mself\u001b[0m\u001b[1;33m.\u001b[0m\u001b[0mmissing\u001b[0m\u001b[1;33m,\u001b[0m\u001b[1;33m\u001b[0m\u001b[1;33m\u001b[0m\u001b[0m\n\u001b[0;32m   1384\u001b[0m             \u001b[0mX\u001b[0m\u001b[1;33m=\u001b[0m\u001b[0mX\u001b[0m\u001b[1;33m,\u001b[0m\u001b[1;33m\u001b[0m\u001b[1;33m\u001b[0m\u001b[0m\n",
      "\u001b[1;32m~\\anaconda3\\lib\\site-packages\\xgboost\\sklearn.py\u001b[0m in \u001b[0;36m_wrap_evaluation_matrices\u001b[1;34m(missing, X, y, group, qid, sample_weight, base_margin, feature_weights, eval_set, sample_weight_eval_set, base_margin_eval_set, eval_group, eval_qid, create_dmatrix, enable_categorical)\u001b[0m\n\u001b[0;32m    399\u001b[0m \u001b[1;33m\u001b[0m\u001b[0m\n\u001b[0;32m    400\u001b[0m     \"\"\"\n\u001b[1;32m--> 401\u001b[1;33m     train_dmatrix = create_dmatrix(\n\u001b[0m\u001b[0;32m    402\u001b[0m         \u001b[0mdata\u001b[0m\u001b[1;33m=\u001b[0m\u001b[0mX\u001b[0m\u001b[1;33m,\u001b[0m\u001b[1;33m\u001b[0m\u001b[1;33m\u001b[0m\u001b[0m\n\u001b[0;32m    403\u001b[0m         \u001b[0mlabel\u001b[0m\u001b[1;33m=\u001b[0m\u001b[0my\u001b[0m\u001b[1;33m,\u001b[0m\u001b[1;33m\u001b[0m\u001b[1;33m\u001b[0m\u001b[0m\n",
      "\u001b[1;32m~\\anaconda3\\lib\\site-packages\\xgboost\\sklearn.py\u001b[0m in \u001b[0;36m<lambda>\u001b[1;34m(**kwargs)\u001b[0m\n\u001b[0;32m   1394\u001b[0m             \u001b[0meval_group\u001b[0m\u001b[1;33m=\u001b[0m\u001b[1;32mNone\u001b[0m\u001b[1;33m,\u001b[0m\u001b[1;33m\u001b[0m\u001b[1;33m\u001b[0m\u001b[0m\n\u001b[0;32m   1395\u001b[0m             \u001b[0meval_qid\u001b[0m\u001b[1;33m=\u001b[0m\u001b[1;32mNone\u001b[0m\u001b[1;33m,\u001b[0m\u001b[1;33m\u001b[0m\u001b[1;33m\u001b[0m\u001b[0m\n\u001b[1;32m-> 1396\u001b[1;33m             \u001b[0mcreate_dmatrix\u001b[0m\u001b[1;33m=\u001b[0m\u001b[1;32mlambda\u001b[0m \u001b[1;33m**\u001b[0m\u001b[0mkwargs\u001b[0m\u001b[1;33m:\u001b[0m \u001b[0mDMatrix\u001b[0m\u001b[1;33m(\u001b[0m\u001b[0mnthread\u001b[0m\u001b[1;33m=\u001b[0m\u001b[0mself\u001b[0m\u001b[1;33m.\u001b[0m\u001b[0mn_jobs\u001b[0m\u001b[1;33m,\u001b[0m \u001b[1;33m**\u001b[0m\u001b[0mkwargs\u001b[0m\u001b[1;33m)\u001b[0m\u001b[1;33m,\u001b[0m\u001b[1;33m\u001b[0m\u001b[1;33m\u001b[0m\u001b[0m\n\u001b[0m\u001b[0;32m   1397\u001b[0m             \u001b[0menable_categorical\u001b[0m\u001b[1;33m=\u001b[0m\u001b[0mself\u001b[0m\u001b[1;33m.\u001b[0m\u001b[0menable_categorical\u001b[0m\u001b[1;33m,\u001b[0m\u001b[1;33m\u001b[0m\u001b[1;33m\u001b[0m\u001b[0m\n\u001b[0;32m   1398\u001b[0m         )\n",
      "\u001b[1;32m~\\anaconda3\\lib\\site-packages\\xgboost\\core.py\u001b[0m in \u001b[0;36minner_f\u001b[1;34m(*args, **kwargs)\u001b[0m\n\u001b[0;32m    530\u001b[0m         \u001b[1;32mfor\u001b[0m \u001b[0mk\u001b[0m\u001b[1;33m,\u001b[0m \u001b[0marg\u001b[0m \u001b[1;32min\u001b[0m \u001b[0mzip\u001b[0m\u001b[1;33m(\u001b[0m\u001b[0msig\u001b[0m\u001b[1;33m.\u001b[0m\u001b[0mparameters\u001b[0m\u001b[1;33m,\u001b[0m \u001b[0margs\u001b[0m\u001b[1;33m)\u001b[0m\u001b[1;33m:\u001b[0m\u001b[1;33m\u001b[0m\u001b[1;33m\u001b[0m\u001b[0m\n\u001b[0;32m    531\u001b[0m             \u001b[0mkwargs\u001b[0m\u001b[1;33m[\u001b[0m\u001b[0mk\u001b[0m\u001b[1;33m]\u001b[0m \u001b[1;33m=\u001b[0m \u001b[0marg\u001b[0m\u001b[1;33m\u001b[0m\u001b[1;33m\u001b[0m\u001b[0m\n\u001b[1;32m--> 532\u001b[1;33m         \u001b[1;32mreturn\u001b[0m \u001b[0mf\u001b[0m\u001b[1;33m(\u001b[0m\u001b[1;33m**\u001b[0m\u001b[0mkwargs\u001b[0m\u001b[1;33m)\u001b[0m\u001b[1;33m\u001b[0m\u001b[1;33m\u001b[0m\u001b[0m\n\u001b[0m\u001b[0;32m    533\u001b[0m \u001b[1;33m\u001b[0m\u001b[0m\n\u001b[0;32m    534\u001b[0m     \u001b[1;32mreturn\u001b[0m \u001b[0minner_f\u001b[0m\u001b[1;33m\u001b[0m\u001b[1;33m\u001b[0m\u001b[0m\n",
      "\u001b[1;32m~\\anaconda3\\lib\\site-packages\\xgboost\\core.py\u001b[0m in \u001b[0;36m__init__\u001b[1;34m(self, data, label, weight, base_margin, missing, silent, feature_names, feature_types, nthread, group, qid, label_lower_bound, label_upper_bound, feature_weights, enable_categorical)\u001b[0m\n\u001b[0;32m    641\u001b[0m             \u001b[1;32mreturn\u001b[0m\u001b[1;33m\u001b[0m\u001b[1;33m\u001b[0m\u001b[0m\n\u001b[0;32m    642\u001b[0m \u001b[1;33m\u001b[0m\u001b[0m\n\u001b[1;32m--> 643\u001b[1;33m         handle, feature_names, feature_types = dispatch_data_backend(\n\u001b[0m\u001b[0;32m    644\u001b[0m             \u001b[0mdata\u001b[0m\u001b[1;33m,\u001b[0m\u001b[1;33m\u001b[0m\u001b[1;33m\u001b[0m\u001b[0m\n\u001b[0;32m    645\u001b[0m             \u001b[0mmissing\u001b[0m\u001b[1;33m=\u001b[0m\u001b[0mself\u001b[0m\u001b[1;33m.\u001b[0m\u001b[0mmissing\u001b[0m\u001b[1;33m,\u001b[0m\u001b[1;33m\u001b[0m\u001b[1;33m\u001b[0m\u001b[0m\n",
      "\u001b[1;32m~\\anaconda3\\lib\\site-packages\\xgboost\\data.py\u001b[0m in \u001b[0;36mdispatch_data_backend\u001b[1;34m(data, missing, threads, feature_names, feature_types, enable_categorical)\u001b[0m\n\u001b[0;32m    894\u001b[0m         \u001b[1;32mreturn\u001b[0m \u001b[0m_from_tuple\u001b[0m\u001b[1;33m(\u001b[0m\u001b[0mdata\u001b[0m\u001b[1;33m,\u001b[0m \u001b[0mmissing\u001b[0m\u001b[1;33m,\u001b[0m \u001b[0mthreads\u001b[0m\u001b[1;33m,\u001b[0m \u001b[0mfeature_names\u001b[0m\u001b[1;33m,\u001b[0m \u001b[0mfeature_types\u001b[0m\u001b[1;33m)\u001b[0m\u001b[1;33m\u001b[0m\u001b[1;33m\u001b[0m\u001b[0m\n\u001b[0;32m    895\u001b[0m     \u001b[1;32mif\u001b[0m \u001b[0m_is_pandas_df\u001b[0m\u001b[1;33m(\u001b[0m\u001b[0mdata\u001b[0m\u001b[1;33m)\u001b[0m\u001b[1;33m:\u001b[0m\u001b[1;33m\u001b[0m\u001b[1;33m\u001b[0m\u001b[0m\n\u001b[1;32m--> 896\u001b[1;33m         return _from_pandas_df(data, enable_categorical, missing, threads,\n\u001b[0m\u001b[0;32m    897\u001b[0m                                feature_names, feature_types)\n\u001b[0;32m    898\u001b[0m     \u001b[1;32mif\u001b[0m \u001b[0m_is_pandas_series\u001b[0m\u001b[1;33m(\u001b[0m\u001b[0mdata\u001b[0m\u001b[1;33m)\u001b[0m\u001b[1;33m:\u001b[0m\u001b[1;33m\u001b[0m\u001b[1;33m\u001b[0m\u001b[0m\n",
      "\u001b[1;32m~\\anaconda3\\lib\\site-packages\\xgboost\\data.py\u001b[0m in \u001b[0;36m_from_pandas_df\u001b[1;34m(data, enable_categorical, missing, nthread, feature_names, feature_types)\u001b[0m\n\u001b[0;32m    343\u001b[0m     \u001b[0mfeature_types\u001b[0m\u001b[1;33m:\u001b[0m \u001b[0mOptional\u001b[0m\u001b[1;33m[\u001b[0m\u001b[0mList\u001b[0m\u001b[1;33m[\u001b[0m\u001b[0mstr\u001b[0m\u001b[1;33m]\u001b[0m\u001b[1;33m]\u001b[0m\u001b[1;33m,\u001b[0m\u001b[1;33m\u001b[0m\u001b[1;33m\u001b[0m\u001b[0m\n\u001b[0;32m    344\u001b[0m ) -> Tuple[ctypes.c_void_p, FeatureNames, Optional[List[str]]]:\n\u001b[1;32m--> 345\u001b[1;33m     data, feature_names, feature_types = _transform_pandas_df(\n\u001b[0m\u001b[0;32m    346\u001b[0m         \u001b[0mdata\u001b[0m\u001b[1;33m,\u001b[0m \u001b[0menable_categorical\u001b[0m\u001b[1;33m,\u001b[0m \u001b[0mfeature_names\u001b[0m\u001b[1;33m,\u001b[0m \u001b[0mfeature_types\u001b[0m\u001b[1;33m\u001b[0m\u001b[1;33m\u001b[0m\u001b[0m\n\u001b[0;32m    347\u001b[0m     )\n",
      "\u001b[1;32m~\\anaconda3\\lib\\site-packages\\xgboost\\data.py\u001b[0m in \u001b[0;36m_transform_pandas_df\u001b[1;34m(data, enable_categorical, feature_names, feature_types, meta, meta_type)\u001b[0m\n\u001b[0;32m    329\u001b[0m \u001b[1;33m\u001b[0m\u001b[0m\n\u001b[0;32m    330\u001b[0m     \u001b[0mdtype\u001b[0m \u001b[1;33m=\u001b[0m \u001b[0mmeta_type\u001b[0m \u001b[1;32mif\u001b[0m \u001b[0mmeta_type\u001b[0m \u001b[1;32melse\u001b[0m \u001b[0mnp\u001b[0m\u001b[1;33m.\u001b[0m\u001b[0mfloat32\u001b[0m\u001b[1;33m\u001b[0m\u001b[1;33m\u001b[0m\u001b[0m\n\u001b[1;32m--> 331\u001b[1;33m     \u001b[0marr\u001b[0m \u001b[1;33m=\u001b[0m \u001b[0mtransformed\u001b[0m\u001b[1;33m.\u001b[0m\u001b[0mvalues\u001b[0m\u001b[1;33m\u001b[0m\u001b[1;33m\u001b[0m\u001b[0m\n\u001b[0m\u001b[0;32m    332\u001b[0m     \u001b[1;32mif\u001b[0m \u001b[0mmeta_type\u001b[0m\u001b[1;33m:\u001b[0m\u001b[1;33m\u001b[0m\u001b[1;33m\u001b[0m\u001b[0m\n\u001b[0;32m    333\u001b[0m         \u001b[0marr\u001b[0m \u001b[1;33m=\u001b[0m \u001b[0marr\u001b[0m\u001b[1;33m.\u001b[0m\u001b[0mastype\u001b[0m\u001b[1;33m(\u001b[0m\u001b[0mmeta_type\u001b[0m\u001b[1;33m)\u001b[0m\u001b[1;33m\u001b[0m\u001b[1;33m\u001b[0m\u001b[0m\n",
      "\u001b[1;32m~\\anaconda3\\lib\\site-packages\\pandas\\core\\frame.py\u001b[0m in \u001b[0;36mvalues\u001b[1;34m(self)\u001b[0m\n\u001b[0;32m  10662\u001b[0m         \"\"\"\n\u001b[0;32m  10663\u001b[0m         \u001b[0mself\u001b[0m\u001b[1;33m.\u001b[0m\u001b[0m_consolidate_inplace\u001b[0m\u001b[1;33m(\u001b[0m\u001b[1;33m)\u001b[0m\u001b[1;33m\u001b[0m\u001b[1;33m\u001b[0m\u001b[0m\n\u001b[1;32m> 10664\u001b[1;33m         \u001b[1;32mreturn\u001b[0m \u001b[0mself\u001b[0m\u001b[1;33m.\u001b[0m\u001b[0m_mgr\u001b[0m\u001b[1;33m.\u001b[0m\u001b[0mas_array\u001b[0m\u001b[1;33m(\u001b[0m\u001b[0mtranspose\u001b[0m\u001b[1;33m=\u001b[0m\u001b[1;32mTrue\u001b[0m\u001b[1;33m)\u001b[0m\u001b[1;33m\u001b[0m\u001b[1;33m\u001b[0m\u001b[0m\n\u001b[0m\u001b[0;32m  10665\u001b[0m \u001b[1;33m\u001b[0m\u001b[0m\n\u001b[0;32m  10666\u001b[0m     \u001b[1;33m@\u001b[0m\u001b[0mdeprecate_nonkeyword_arguments\u001b[0m\u001b[1;33m(\u001b[0m\u001b[0mversion\u001b[0m\u001b[1;33m=\u001b[0m\u001b[1;32mNone\u001b[0m\u001b[1;33m,\u001b[0m \u001b[0mallowed_args\u001b[0m\u001b[1;33m=\u001b[0m\u001b[1;33m[\u001b[0m\u001b[1;34m\"self\"\u001b[0m\u001b[1;33m]\u001b[0m\u001b[1;33m)\u001b[0m\u001b[1;33m\u001b[0m\u001b[1;33m\u001b[0m\u001b[0m\n",
      "\u001b[1;32m~\\anaconda3\\lib\\site-packages\\pandas\\core\\internals\\managers.py\u001b[0m in \u001b[0;36mas_array\u001b[1;34m(self, transpose, dtype, copy, na_value)\u001b[0m\n\u001b[0;32m   1464\u001b[0m                     \u001b[0marr\u001b[0m \u001b[1;33m=\u001b[0m \u001b[0marr\u001b[0m\u001b[1;33m.\u001b[0m\u001b[0mastype\u001b[0m\u001b[1;33m(\u001b[0m\u001b[0mdtype\u001b[0m\u001b[1;33m,\u001b[0m \u001b[0mcopy\u001b[0m\u001b[1;33m=\u001b[0m\u001b[1;32mFalse\u001b[0m\u001b[1;33m)\u001b[0m  \u001b[1;31m# type: ignore[arg-type]\u001b[0m\u001b[1;33m\u001b[0m\u001b[1;33m\u001b[0m\u001b[0m\n\u001b[0;32m   1465\u001b[0m         \u001b[1;32melse\u001b[0m\u001b[1;33m:\u001b[0m\u001b[1;33m\u001b[0m\u001b[1;33m\u001b[0m\u001b[0m\n\u001b[1;32m-> 1466\u001b[1;33m             \u001b[0marr\u001b[0m \u001b[1;33m=\u001b[0m \u001b[0mself\u001b[0m\u001b[1;33m.\u001b[0m\u001b[0m_interleave\u001b[0m\u001b[1;33m(\u001b[0m\u001b[0mdtype\u001b[0m\u001b[1;33m=\u001b[0m\u001b[0mdtype\u001b[0m\u001b[1;33m,\u001b[0m \u001b[0mna_value\u001b[0m\u001b[1;33m=\u001b[0m\u001b[0mna_value\u001b[0m\u001b[1;33m)\u001b[0m\u001b[1;33m\u001b[0m\u001b[1;33m\u001b[0m\u001b[0m\n\u001b[0m\u001b[0;32m   1467\u001b[0m             \u001b[1;31m# The underlying data was copied within _interleave\u001b[0m\u001b[1;33m\u001b[0m\u001b[1;33m\u001b[0m\u001b[0m\n\u001b[0;32m   1468\u001b[0m             \u001b[0mcopy\u001b[0m \u001b[1;33m=\u001b[0m \u001b[1;32mFalse\u001b[0m\u001b[1;33m\u001b[0m\u001b[1;33m\u001b[0m\u001b[0m\n",
      "\u001b[1;32m~\\anaconda3\\lib\\site-packages\\pandas\\core\\internals\\managers.py\u001b[0m in \u001b[0;36m_interleave\u001b[1;34m(self, dtype, na_value)\u001b[0m\n\u001b[0;32m   1500\u001b[0m         \u001b[1;31m# Tuple[Any, Union[int, Sequence[int]]], List[Any], _DTypeDict,\u001b[0m\u001b[1;33m\u001b[0m\u001b[1;33m\u001b[0m\u001b[0m\n\u001b[0;32m   1501\u001b[0m         \u001b[1;31m# Tuple[Any, Any]]]\"\u001b[0m\u001b[1;33m\u001b[0m\u001b[1;33m\u001b[0m\u001b[0m\n\u001b[1;32m-> 1502\u001b[1;33m         \u001b[0mresult\u001b[0m \u001b[1;33m=\u001b[0m \u001b[0mnp\u001b[0m\u001b[1;33m.\u001b[0m\u001b[0mempty\u001b[0m\u001b[1;33m(\u001b[0m\u001b[0mself\u001b[0m\u001b[1;33m.\u001b[0m\u001b[0mshape\u001b[0m\u001b[1;33m,\u001b[0m \u001b[0mdtype\u001b[0m\u001b[1;33m=\u001b[0m\u001b[0mdtype\u001b[0m\u001b[1;33m)\u001b[0m  \u001b[1;31m# type: ignore[arg-type]\u001b[0m\u001b[1;33m\u001b[0m\u001b[1;33m\u001b[0m\u001b[0m\n\u001b[0m\u001b[0;32m   1503\u001b[0m \u001b[1;33m\u001b[0m\u001b[0m\n\u001b[0;32m   1504\u001b[0m         \u001b[0mitemmask\u001b[0m \u001b[1;33m=\u001b[0m \u001b[0mnp\u001b[0m\u001b[1;33m.\u001b[0m\u001b[0mzeros\u001b[0m\u001b[1;33m(\u001b[0m\u001b[0mself\u001b[0m\u001b[1;33m.\u001b[0m\u001b[0mshape\u001b[0m\u001b[1;33m[\u001b[0m\u001b[1;36m0\u001b[0m\u001b[1;33m]\u001b[0m\u001b[1;33m)\u001b[0m\u001b[1;33m\u001b[0m\u001b[1;33m\u001b[0m\u001b[0m\n",
      "\u001b[1;31mMemoryError\u001b[0m: Unable to allocate 182. GiB for an array with shape (53207, 459088) and data type float64"
     ]
    }
   ],
   "source": [
    "xgb_v1 = XGBClassifier(random_state=42, n_jobs=-1)\n",
    "fitpredreport(xgb_v1)"
   ]
  },
  {
   "cell_type": "markdown",
   "id": "92b9134e",
   "metadata": {},
   "source": [
    "## tfidf with bigrams, min occurance 5"
   ]
  },
  {
   "cell_type": "code",
   "execution_count": 10,
   "id": "f35891ab",
   "metadata": {
    "ExecuteTime": {
     "end_time": "2022-05-01T19:15:48.406298Z",
     "start_time": "2022-05-01T19:09:31.940591Z"
    }
   },
   "outputs": [],
   "source": [
    "# set tfidf vectorizer, default parameters\n",
    "tfidf_bigrams = TfidfVectorizer(min_df=5, ngram_range=(1,2))\n",
    "\n",
    "X_train_tfidf, X_val_tfidf = transformX(tfidf_bigrams)\n",
    "\n",
    "# helper function to make fitting, predicting and reporting easier\n",
    "def fitpredreport(model):\n",
    "    model.fit(X_train_tfidf, y_train)\n",
    "    y_pred = model.predict(X_val_tfidf)\n",
    "    report(y_val, y_pred)"
   ]
  },
  {
   "cell_type": "markdown",
   "id": "f5d0723a",
   "metadata": {},
   "source": [
    "Transforming the training/validation sets takes about 4 minutes and generates a 1,576,114 word vocabulary"
   ]
  },
  {
   "cell_type": "markdown",
   "id": "77e0f5e0",
   "metadata": {},
   "source": [
    "________\n",
    "Multinomial Naive Bayes"
   ]
  },
  {
   "cell_type": "code",
   "execution_count": 8,
   "id": "51293c60",
   "metadata": {
    "ExecuteTime": {
     "end_time": "2022-04-26T21:40:09.591472Z",
     "start_time": "2022-04-26T21:38:17.784017Z"
    },
    "scrolled": false
   },
   "outputs": [
    {
     "name": "stdout",
     "output_type": "stream",
     "text": [
      "              precision    recall  f1-score   support\n",
      "\n",
      "  no_spoiler       0.74      1.00      0.85     42206\n",
      "     spoiler       0.80      0.01      0.01     15185\n",
      "\n",
      "    accuracy                           0.74     57391\n",
      "   macro avg       0.77      0.50      0.43     57391\n",
      "weighted avg       0.75      0.74      0.63     57391\n",
      "\n"
     ]
    },
    {
     "data": {
      "image/png": "[encoded data removed]",
      "text/plain": [
       "<Figure size 432x288 with 2 Axes>"
      ]
     },
     "metadata": {
      "needs_background": "light"
     },
     "output_type": "display_data"
    }
   ],
   "source": [
    "# instantiate multinomial naive bayes model\n",
    "mnb_v2 = MultinomialNB()\n",
    "# fit, predict and report with helper function\n",
    "fitpredreport(mnb_v2)"
   ]
  },
  {
   "cell_type": "markdown",
   "id": "046f02a4",
   "metadata": {},
   "source": [
    "Definitely not better than our baseline.\n",
    "_________\n",
    "Logistic Regression"
   ]
  },
  {
   "cell_type": "code",
   "execution_count": 9,
   "id": "fced3744",
   "metadata": {
    "ExecuteTime": {
     "end_time": "2022-04-26T21:47:44.521758Z",
     "start_time": "2022-04-26T21:43:45.549883Z"
    },
    "scrolled": false
   },
   "outputs": [
    {
     "name": "stdout",
     "output_type": "stream",
     "text": [
      "[LibLinear]              precision    recall  f1-score   support\n",
      "\n",
      "  no_spoiler       0.81      0.92      0.86     42206\n",
      "     spoiler       0.64      0.38      0.48     15185\n",
      "\n",
      "    accuracy                           0.78     57391\n",
      "   macro avg       0.72      0.65      0.67     57391\n",
      "weighted avg       0.76      0.78      0.76     57391\n",
      "\n"
     ]
    },
    {
     "data": {
      "image/png": "[encoded data removed]",
      "text/plain": [
       "<Figure size 432x288 with 2 Axes>"
      ]
     },
     "metadata": {
      "needs_background": "light"
     },
     "output_type": "display_data"
    }
   ],
   "source": [
    "# instantiate logistic regression model\n",
    "lr_v2 = LogisticRegression(verbose=1, solver='liblinear', random_state=42, C=5, max_iter=1000)\n",
    "# fit, predict and report with helper function\n",
    "fitpredreport(lr_v2)"
   ]
  },
  {
   "cell_type": "markdown",
   "id": "485d7582",
   "metadata": {},
   "source": [
    "Better than the base tfidf, but still not better than baseline.\n",
    "_________\n",
    "SVM"
   ]
  },
  {
   "cell_type": "code",
   "execution_count": 8,
   "id": "0c191f01",
   "metadata": {
    "ExecuteTime": {
     "end_time": "2022-04-27T19:01:28.585799Z",
     "start_time": "2022-04-27T18:59:06.198509Z"
    }
   },
   "outputs": [
    {
     "name": "stdout",
     "output_type": "stream",
     "text": [
      "              precision    recall  f1-score   support\n",
      "\n",
      "  no_spoiler       0.81      0.91      0.86     42206\n",
      "     spoiler       0.61      0.40      0.48     15185\n",
      "\n",
      "    accuracy                           0.77     57391\n",
      "   macro avg       0.71      0.65      0.67     57391\n",
      "weighted avg       0.76      0.77      0.76     57391\n",
      "\n"
     ]
    },
    {
     "data": {
      "image/png": "[encoded data removed]",
      "text/plain": [
       "<Figure size 432x288 with 2 Axes>"
      ]
     },
     "metadata": {
      "needs_background": "light"
     },
     "output_type": "display_data"
    }
   ],
   "source": [
    "# instantiate SVM model\n",
    "svm_v2 = LinearSVC(random_state=42)\n",
    "# fit, predict and report with helper function\n",
    "fitpredreport(svm_v2)"
   ]
  },
  {
   "cell_type": "markdown",
   "id": "a8e0a8df",
   "metadata": {},
   "source": [
    "____________\n",
    "RandomForest"
   ]
  },
  {
   "cell_type": "code",
   "execution_count": 11,
   "id": "bd9d67de",
   "metadata": {
    "ExecuteTime": {
     "end_time": "2022-05-01T21:57:30.015704Z",
     "start_time": "2022-05-01T19:19:35.640852Z"
    }
   },
   "outputs": [
    {
     "name": "stdout",
     "output_type": "stream",
     "text": [
      "              precision    recall  f1-score   support\n",
      "\n",
      "  no_spoiler       0.74      1.00      0.85     42206\n",
      "     spoiler       0.73      0.01      0.01     15185\n",
      "\n",
      "    accuracy                           0.74     57391\n",
      "   macro avg       0.74      0.50      0.43     57391\n",
      "weighted avg       0.74      0.74      0.63     57391\n",
      "\n"
     ]
    },
    {
     "data": {
      "image/png": "[encoded data removed]",
      "text/plain": [
       "<Figure size 432x288 with 2 Axes>"
      ]
     },
     "metadata": {
      "needs_background": "light"
     },
     "output_type": "display_data"
    }
   ],
   "source": [
    "# instantiate random forest classifier\n",
    "rf_v2 = RandomForestClassifier(random_state=42, n_jobs=-1)\n",
    "# fit, predict and report with helper function\n",
    "fitpredreport(rf_v2)"
   ]
  },
  {
   "cell_type": "markdown",
   "id": "e37698e7",
   "metadata": {},
   "source": [
    "## tfidf with bi- and tri-grams, min occurance 5"
   ]
  },
  {
   "cell_type": "markdown",
   "id": "a27ea4f8",
   "metadata": {},
   "source": [
    "We saw some improvement over just unigrams, we're going to try adding in trigrams as well to see if that improves further. We suspect we may be at the limit of improvement using bag of words."
   ]
  },
  {
   "cell_type": "code",
   "execution_count": 7,
   "id": "27228a35",
   "metadata": {
    "ExecuteTime": {
     "end_time": "2022-04-27T20:39:51.995141Z",
     "start_time": "2022-04-27T20:23:18.208820Z"
    }
   },
   "outputs": [],
   "source": [
    "# set tfidf vectorizer\n",
    "tfidf_trigrams = TfidfVectorizer(min_df=5, ngram_range=(1,3))\n",
    "\n",
    "X_train_tfidf, X_val_tfidf = transformX(tfidf_trigrams)\n",
    "\n",
    "# helper function to make fitting, predicting and reporting easier\n",
    "def fitpredreport(model):\n",
    "    model.fit(X_train_tfidf, y_train)\n",
    "    y_pred = model.predict(X_val_tfidf)\n",
    "    report(y_val, y_pred)"
   ]
  },
  {
   "cell_type": "markdown",
   "id": "488c7a81",
   "metadata": {},
   "source": [
    "Transforming the training/validation sets takes about 16 minutes and generates a 2,392,535 word vocabulary\n",
    "_________\n",
    "Naive Bayes models have not been performing well, so we're just going to start with logistic regression"
   ]
  },
  {
   "cell_type": "code",
   "execution_count": 11,
   "id": "75fa8ce8",
   "metadata": {
    "ExecuteTime": {
     "end_time": "2022-04-26T23:45:35.000086Z",
     "start_time": "2022-04-26T23:39:13.494202Z"
    },
    "scrolled": false
   },
   "outputs": [
    {
     "name": "stdout",
     "output_type": "stream",
     "text": [
      "[LibLinear]              precision    recall  f1-score   support\n",
      "\n",
      "  no_spoiler       0.81      0.93      0.86     42206\n",
      "     spoiler       0.65      0.38      0.48     15185\n",
      "\n",
      "    accuracy                           0.78     57391\n",
      "   macro avg       0.73      0.65      0.67     57391\n",
      "weighted avg       0.76      0.78      0.76     57391\n",
      "\n"
     ]
    },
    {
     "data": {
      "image/png": "[encoded data removed]",
      "text/plain": [
       "<Figure size 432x288 with 2 Axes>"
      ]
     },
     "metadata": {
      "needs_background": "light"
     },
     "output_type": "display_data"
    }
   ],
   "source": [
    "# instantiate logistic regression model\n",
    "lr_v3 = LogisticRegression(verbose=1, solver='liblinear', random_state=42, C=5, max_iter=1000)\n",
    "# fit, predict and report with helper function\n",
    "fitpredreport(lr_v3)"
   ]
  },
  {
   "cell_type": "markdown",
   "id": "d0ef10b8",
   "metadata": {},
   "source": [
    ".\n",
    "_________\n",
    "SVM"
   ]
  },
  {
   "cell_type": "code",
   "execution_count": 8,
   "id": "7f91bc24",
   "metadata": {
    "ExecuteTime": {
     "end_time": "2022-04-27T21:05:34.048429Z",
     "start_time": "2022-04-27T21:00:33.198698Z"
    }
   },
   "outputs": [
    {
     "name": "stdout",
     "output_type": "stream",
     "text": [
      "              precision    recall  f1-score   support\n",
      "\n",
      "  no_spoiler       0.81      0.91      0.86     42206\n",
      "     spoiler       0.62      0.40      0.49     15185\n",
      "\n",
      "    accuracy                           0.78     57391\n",
      "   macro avg       0.71      0.66      0.67     57391\n",
      "weighted avg       0.76      0.78      0.76     57391\n",
      "\n"
     ]
    },
    {
     "data": {
      "image/png": "[encoded data removed]",
      "text/plain": [
       "<Figure size 432x288 with 2 Axes>"
      ]
     },
     "metadata": {
      "needs_background": "light"
     },
     "output_type": "display_data"
    }
   ],
   "source": [
    "# instantiate SVM model\n",
    "svm_v3 = LinearSVC(random_state=42)\n",
    "# fit, predict and report with helper function\n",
    "fitpredreport(svm_v3)"
   ]
  },
  {
   "cell_type": "markdown",
   "id": "f8b8e319",
   "metadata": {},
   "source": [
    "As we expanded the vocabulary with ngrams, we did see improvement in recall on spoilers, but our FP rate is still above 50%. We will explore another angle."
   ]
  },
  {
   "cell_type": "markdown",
   "id": "f3e07378",
   "metadata": {},
   "source": [
    "# Word2Vec"
   ]
  },
  {
   "cell_type": "code",
   "execution_count": null,
   "id": "6a6f5c0d",
   "metadata": {},
   "outputs": [],
   "source": []
  },
  {
   "cell_type": "code",
   "execution_count": null,
   "id": "7bed5c2f",
   "metadata": {},
   "outputs": [],
   "source": []
  },
  {
   "cell_type": "markdown",
   "id": "bc7e5bb3",
   "metadata": {},
   "source": [
    "# roBERTa"
   ]
  },
  {
   "cell_type": "code",
   "execution_count": null,
   "id": "3015b6c5",
   "metadata": {},
   "outputs": [],
   "source": []
  },
  {
   "cell_type": "code",
   "execution_count": null,
   "id": "d730ab91",
   "metadata": {},
   "outputs": [],
   "source": []
  },
  {
   "cell_type": "code",
   "execution_count": null,
   "id": "d3d50ea8",
   "metadata": {},
   "outputs": [],
   "source": []
  },
  {
   "cell_type": "code",
   "execution_count": null,
   "id": "0ad73cdc",
   "metadata": {},
   "outputs": [],
   "source": []
  },
  {
   "cell_type": "code",
   "execution_count": null,
   "id": "563f29f1",
   "metadata": {},
   "outputs": [],
   "source": []
  },
  {
   "cell_type": "code",
   "execution_count": null,
   "id": "9d7c2b2c",
   "metadata": {},
   "outputs": [],
   "source": []
  },
  {
   "cell_type": "code",
   "execution_count": null,
   "id": "dabf703e",
   "metadata": {},
   "outputs": [],
   "source": []
  },
  {
   "cell_type": "code",
   "execution_count": null,
   "id": "cb5b9b6d",
   "metadata": {},
   "outputs": [],
   "source": []
  },
  {
   "cell_type": "code",
   "execution_count": 39,
   "id": "9b1c103f",
   "metadata": {
    "ExecuteTime": {
     "end_time": "2022-04-28T13:25:26.739007Z",
     "start_time": "2022-04-28T13:25:26.720653Z"
    }
   },
   "outputs": [],
   "source": [
    "# import fastai, torch, pytorch_transformers\n",
    "from fastai.text.all import *\n",
    "from fastai.metrics import *\n",
    "import torch\n",
    "import torch.nn as nn\n",
    "from pytorch_transformers import RobertaTokenizer\n",
    "from pytorch_transformers import RobertaModel\n",
    "# Garbage Collector\n",
    "import gc "
   ]
  },
  {
   "cell_type": "code",
   "execution_count": 30,
   "id": "d17a981e",
   "metadata": {
    "ExecuteTime": {
     "end_time": "2022-04-28T13:11:04.195907Z",
     "start_time": "2022-04-28T13:11:04.182023Z"
    }
   },
   "outputs": [],
   "source": [
    "class Config(dict):\n",
    "    def __init__(self, **kwargs):\n",
    "        super().__init__(**kwargs)\n",
    "        for k, v in kwargs.items():\n",
    "            setattr(self, k, v)\n",
    "            \n",
    "    def set(self, key, val):\n",
    "        self[key] = val\n",
    "        setattr(self, key, val)\n",
    "        \n",
    "\"\"\"\n",
    "seed: diff seed can have diff train and validate dataset (how to split)\n",
    "roberta_model_name: roberta-large/roberta-base\n",
    "max_lr: maximum learning rate\n",
    "epochs: number of epochs\n",
    "bs: batch size, set 4 because of limitation of GPU memory\n",
    "max_seq_len: the maximum nlength of tokens in a sentence\n",
    "num_labels: number of categories\n",
    "hidden_dropout_prob: the percentage of dropout\n",
    "hidden_size: 1024 for roberta-large and 768 for roberta-base\n",
    "valida_pct: percentage of validation dataset\n",
    "start_tok: start of sentence\n",
    "end_tok: end of a sentence\n",
    "model_path: path of model\n",
    "pred_path: path of prediction\n",
    "train_file_path: path of training dataset\n",
    "test_file_path: path of test dataset\n",
    "text_column_name: column name of text\n",
    "target_column_name: column name of target/label\n",
    "\"\"\"\n",
    "        \n",
    "config = Config(\n",
    "    file_path=\"./data/\",\n",
    "    date = pendulum.now().strftime('%Y%m%d'),\n",
    "    seed=18,\n",
    "    roberta_model_name='roberta-base',\n",
    "    max_lr=1e-5,\n",
    "    epochs=1,\n",
    "    bs=4,\n",
    "    max_seq_len=200,\n",
    "    num_labels=2,\n",
    "    hidden_dropout_prob=0.4,\n",
    "    hidden_size=768,\n",
    "    valid_pct=0.10,\n",
    "    start_tok=\"<./s>\",\n",
    "    end_tok=\"<./s>\",\n",
    "#     model_path='Model_Roberta.pkl',\n",
    "#     pred_path='Prediction_Roberta.csv',\n",
    "#     train_file_path='train.csv',\n",
    "#     test_file_path='test.csv',\n",
    "    text_column_name='review_text_lemmed',\n",
    "    target_column_name='is_spoiler'\n",
    ")"
   ]
  },
  {
   "cell_type": "code",
   "execution_count": 32,
   "id": "b390030a",
   "metadata": {
    "ExecuteTime": {
     "end_time": "2022-04-28T13:13:03.752974Z",
     "start_time": "2022-04-28T13:13:03.736582Z"
    }
   },
   "outputs": [],
   "source": [
    "config.model_path = f'{config.file_path}/models/{config.roberta_model_name}_Epoch_{config.epochs}_len_{config.max_seq_len}_{config.date}.pkl'\n",
    "config.pred_path = f'{config.file_path}/pred/{config.roberta_model_name}_Epoch_{config.epochs}_len_{config.max_seq_len}_{config.date}.csv'\n",
    "config.train_file_path=f'{config.file_path}/train.csv'\n",
    "config.test_file_path=f'{config.file_path}/test.csv'"
   ]
  },
  {
   "cell_type": "code",
   "execution_count": null,
   "id": "21d917ce",
   "metadata": {},
   "outputs": [],
   "source": [
    "Tokenizer()"
   ]
  },
  {
   "cell_type": "code",
   "execution_count": 42,
   "id": "a22ab6aa",
   "metadata": {
    "ExecuteTime": {
     "end_time": "2022-04-28T13:34:13.448386Z",
     "start_time": "2022-04-28T13:34:12.866393Z"
    }
   },
   "outputs": [
    {
     "ename": "UnicodeDecodeError",
     "evalue": "'charmap' codec can't decode byte 0x81 in position 71438: character maps to <undefined>",
     "output_type": "error",
     "traceback": [
      "\u001b[1;31m---------------------------------------------------------------------------\u001b[0m",
      "\u001b[1;31mUnicodeDecodeError\u001b[0m                        Traceback (most recent call last)",
      "\u001b[1;32m~\\AppData\\Local\\Temp/ipykernel_8080/518352798.py\u001b[0m in \u001b[0;36m<module>\u001b[1;34m\u001b[0m\n\u001b[0;32m     20\u001b[0m \u001b[1;33m\u001b[0m\u001b[0m\n\u001b[0;32m     21\u001b[0m \u001b[1;32mwith\u001b[0m \u001b[0mopen\u001b[0m\u001b[1;33m(\u001b[0m\u001b[1;34m'vocab.json'\u001b[0m\u001b[1;33m,\u001b[0m \u001b[1;34m'r'\u001b[0m\u001b[1;33m)\u001b[0m \u001b[1;32mas\u001b[0m \u001b[0mf\u001b[0m\u001b[1;33m:\u001b[0m\u001b[1;33m\u001b[0m\u001b[1;33m\u001b[0m\u001b[0m\n\u001b[1;32m---> 22\u001b[1;33m     \u001b[0mroberta_vocab_dict\u001b[0m \u001b[1;33m=\u001b[0m \u001b[0mjson\u001b[0m\u001b[1;33m.\u001b[0m\u001b[0mload\u001b[0m\u001b[1;33m(\u001b[0m\u001b[0mf\u001b[0m\u001b[1;33m)\u001b[0m\u001b[1;33m\u001b[0m\u001b[1;33m\u001b[0m\u001b[0m\n\u001b[0m\u001b[0;32m     23\u001b[0m \u001b[1;33m\u001b[0m\u001b[0m\n\u001b[0;32m     24\u001b[0m \u001b[0mfastai_roberta_vocab\u001b[0m \u001b[1;33m=\u001b[0m \u001b[0mVocab\u001b[0m\u001b[1;33m(\u001b[0m\u001b[0mlist\u001b[0m\u001b[1;33m(\u001b[0m\u001b[0mroberta_vocab_dict\u001b[0m\u001b[1;33m.\u001b[0m\u001b[0mkeys\u001b[0m\u001b[1;33m(\u001b[0m\u001b[1;33m)\u001b[0m\u001b[1;33m)\u001b[0m\u001b[1;33m)\u001b[0m\u001b[1;33m\u001b[0m\u001b[1;33m\u001b[0m\u001b[0m\n",
      "\u001b[1;32m~\\anaconda3\\lib\\json\\__init__.py\u001b[0m in \u001b[0;36mload\u001b[1;34m(fp, cls, object_hook, parse_float, parse_int, parse_constant, object_pairs_hook, **kw)\u001b[0m\n\u001b[0;32m    291\u001b[0m     \u001b[0mkwarg\u001b[0m\u001b[1;33m;\u001b[0m \u001b[0motherwise\u001b[0m\u001b[0;31m \u001b[0m\u001b[0;31m`\u001b[0m\u001b[0;31m`\u001b[0m\u001b[0mJSONDecoder\u001b[0m\u001b[0;31m`\u001b[0m\u001b[0;31m`\u001b[0m \u001b[1;32mis\u001b[0m \u001b[0mused\u001b[0m\u001b[1;33m.\u001b[0m\u001b[1;33m\u001b[0m\u001b[1;33m\u001b[0m\u001b[0m\n\u001b[0;32m    292\u001b[0m     \"\"\"\n\u001b[1;32m--> 293\u001b[1;33m     return loads(fp.read(),\n\u001b[0m\u001b[0;32m    294\u001b[0m         \u001b[0mcls\u001b[0m\u001b[1;33m=\u001b[0m\u001b[0mcls\u001b[0m\u001b[1;33m,\u001b[0m \u001b[0mobject_hook\u001b[0m\u001b[1;33m=\u001b[0m\u001b[0mobject_hook\u001b[0m\u001b[1;33m,\u001b[0m\u001b[1;33m\u001b[0m\u001b[1;33m\u001b[0m\u001b[0m\n\u001b[0;32m    295\u001b[0m         \u001b[0mparse_float\u001b[0m\u001b[1;33m=\u001b[0m\u001b[0mparse_float\u001b[0m\u001b[1;33m,\u001b[0m \u001b[0mparse_int\u001b[0m\u001b[1;33m=\u001b[0m\u001b[0mparse_int\u001b[0m\u001b[1;33m,\u001b[0m\u001b[1;33m\u001b[0m\u001b[1;33m\u001b[0m\u001b[0m\n",
      "\u001b[1;32m~\\anaconda3\\lib\\encodings\\cp1252.py\u001b[0m in \u001b[0;36mdecode\u001b[1;34m(self, input, final)\u001b[0m\n\u001b[0;32m     21\u001b[0m \u001b[1;32mclass\u001b[0m \u001b[0mIncrementalDecoder\u001b[0m\u001b[1;33m(\u001b[0m\u001b[0mcodecs\u001b[0m\u001b[1;33m.\u001b[0m\u001b[0mIncrementalDecoder\u001b[0m\u001b[1;33m)\u001b[0m\u001b[1;33m:\u001b[0m\u001b[1;33m\u001b[0m\u001b[1;33m\u001b[0m\u001b[0m\n\u001b[0;32m     22\u001b[0m     \u001b[1;32mdef\u001b[0m \u001b[0mdecode\u001b[0m\u001b[1;33m(\u001b[0m\u001b[0mself\u001b[0m\u001b[1;33m,\u001b[0m \u001b[0minput\u001b[0m\u001b[1;33m,\u001b[0m \u001b[0mfinal\u001b[0m\u001b[1;33m=\u001b[0m\u001b[1;32mFalse\u001b[0m\u001b[1;33m)\u001b[0m\u001b[1;33m:\u001b[0m\u001b[1;33m\u001b[0m\u001b[1;33m\u001b[0m\u001b[0m\n\u001b[1;32m---> 23\u001b[1;33m         \u001b[1;32mreturn\u001b[0m \u001b[0mcodecs\u001b[0m\u001b[1;33m.\u001b[0m\u001b[0mcharmap_decode\u001b[0m\u001b[1;33m(\u001b[0m\u001b[0minput\u001b[0m\u001b[1;33m,\u001b[0m\u001b[0mself\u001b[0m\u001b[1;33m.\u001b[0m\u001b[0merrors\u001b[0m\u001b[1;33m,\u001b[0m\u001b[0mdecoding_table\u001b[0m\u001b[1;33m)\u001b[0m\u001b[1;33m[\u001b[0m\u001b[1;36m0\u001b[0m\u001b[1;33m]\u001b[0m\u001b[1;33m\u001b[0m\u001b[1;33m\u001b[0m\u001b[0m\n\u001b[0m\u001b[0;32m     24\u001b[0m \u001b[1;33m\u001b[0m\u001b[0m\n\u001b[0;32m     25\u001b[0m \u001b[1;32mclass\u001b[0m \u001b[0mStreamWriter\u001b[0m\u001b[1;33m(\u001b[0m\u001b[0mCodec\u001b[0m\u001b[1;33m,\u001b[0m\u001b[0mcodecs\u001b[0m\u001b[1;33m.\u001b[0m\u001b[0mStreamWriter\u001b[0m\u001b[1;33m)\u001b[0m\u001b[1;33m:\u001b[0m\u001b[1;33m\u001b[0m\u001b[1;33m\u001b[0m\u001b[0m\n",
      "\u001b[1;31mUnicodeDecodeError\u001b[0m: 'charmap' codec can't decode byte 0x81 in position 71438: character maps to <undefined>"
     ]
    }
   ],
   "source": [
    "class FastAiRobertaTokenizer(BaseTokenizer):\n",
    "    \"\"\"Wrapper around RobertaTokenizer to be compatible with fastai\"\"\"\n",
    "    def __init__(self, tokenizer: RobertaTokenizer, max_seq_len: int=128, **kwargs): \n",
    "        self._pretrained_tokenizer = tokenizer\n",
    "        self.max_seq_len = max_seq_len \n",
    "    def __call__(self, *args, **kwargs): \n",
    "        return self \n",
    "    def tokenizer(self, t:str) -> list[str]: \n",
    "        \"\"\"Adds Roberta bos and eos tokens and limits the maximum sequence length\"\"\" \n",
    "        return [config.start_tok] + self._pretrained_tokenizer.tokenize(t)[:self.max_seq_len - 2] + [config.end_tok]\n",
    "\n",
    "# create fastai tokenizer for roberta\n",
    "roberta_tok = RobertaTokenizer.from_pretrained(config.roberta_model_name)\n",
    "\n",
    "fastai_tokenizer = Tokenizer(tok=FastAiRobertaTokenizer(roberta_tok, max_seq_len=config.max_seq_len))\n",
    "\n",
    "# create fastai vocabulary for roberta\n",
    "path = Path()\n",
    "roberta_tok.save_vocabulary(path)\n",
    "\n",
    "with open('vocab.json', 'r') as f:\n",
    "    roberta_vocab_dict = json.load(f)\n",
    "    \n",
    "fastai_roberta_vocab = Vocab(list(roberta_vocab_dict.keys()))\n",
    "\n",
    "# Setting up pre-processors\n",
    "class RobertaTokenizeProcessor(TokenizeProcessor):\n",
    "    def __init__(self, tokenizer):\n",
    "         super().__init__(tokenizer=tokenizer, include_bos=False, include_eos=False)\n",
    "\n",
    "class RobertaNumericalizeProcessor(NumericalizeProcessor):\n",
    "    def __init__(self, *args, **kwargs):\n",
    "        super().__init__(*args, vocab=fastai_roberta_vocab, **kwargs)\n",
    "\n",
    "\n",
    "def get_roberta_processor(tokenizer:Tokenizer=None, vocab:Vocab=None):\n",
    "    \"\"\"\n",
    "    Constructing preprocessors for Roberta\n",
    "    We remove sos and eos tokens since we add that ourselves in the tokenizer.\n",
    "    We also use a custom vocabulary to match the numericalization with the original Roberta model.\n",
    "    \"\"\"\n",
    "    return [RobertaTokenizeProcessor(tokenizer=tokenizer), NumericalizeProcessor(vocab=vocab)]"
   ]
  },
  {
   "cell_type": "code",
   "execution_count": null,
   "id": "a3b1b8e6",
   "metadata": {},
   "outputs": [],
   "source": [
    "# Creating a Roberta specific DataBunch class\n",
    "class RobertaDataBunch(TextDataBunch):\n",
    "    \"Create a `TextDataBunch` suitable for training Roberta\"\n",
    "    @classmethod\n",
    "    def create(cls, train_ds, valid_ds, test_ds=None, path:PathOrStr='.', bs:int=64, val_bs:int=None, pad_idx=1,\n",
    "               pad_first=True, device:torch.device=None, no_check:bool=False, backwards:bool=False, \n",
    "               dl_tfms:Optional[Collection[Callable]]=None, **dl_kwargs) -> DataBunch:\n",
    "        \"Function that transform the `datasets` in a `DataBunch` for classification. Passes `**dl_kwargs` on to `DataLoader()`\"\n",
    "        datasets = cls._init_ds(train_ds, valid_ds, test_ds)\n",
    "        val_bs = ifnone(val_bs, bs)\n",
    "        collate_fn = partial(pad_collate, pad_idx=pad_idx, pad_first=pad_first, backwards=backwards)\n",
    "        train_sampler = SortishSampler(datasets[0].x, key=lambda t: len(datasets[0][t][0].data), bs=bs)\n",
    "        train_dl = DataLoader(datasets[0], batch_size=bs, sampler=train_sampler, drop_last=True, **dl_kwargs)\n",
    "        dataloaders = [train_dl]\n",
    "        for ds in datasets[1:]:\n",
    "            lengths = [len(t) for t in ds.x.items]\n",
    "            sampler = SortSampler(ds.x, key=lengths.__getitem__)\n",
    "            dataloaders.append(DataLoader(ds, batch_size=val_bs, sampler=sampler, **dl_kwargs))\n",
    "        return cls(*dataloaders, path=path, device=device, dl_tfms=dl_tfms, collate_fn=collate_fn, no_check=no_check)\n",
    "\n",
    "class RobertaTextList(TextList):\n",
    "    _bunch = RobertaDataBunch\n",
    "    _label_cls = TextList\n",
    "\n",
    "# load dataset\n",
    "train_df = pd.read_csv(config.train_file_path)\n",
    "test_df = pd.read_csv(config.test_file_path)\n",
    "feat_cols = config.text_column_name\n",
    "label_cols = config.target_column_name\n",
    "\n",
    "# loading the tokenizer and vocab processors\n",
    "processor = get_roberta_processor(\n",
    "    tokenizer=fastai_tokenizer, vocab=fastai_roberta_vocab)\n",
    "\n",
    "'''\n",
    "creating databunch\n",
    "from_df: import the data\n",
    "split_by_rand_pct: split the data between the training and the validation set\n",
    "label_from_df: get label from dataset\n",
    "add_test: get test dataset\n",
    "databunch: get some config (batch size)\n",
    "'''\n",
    "data = RobertaTextList.from_df(train_df, \".\", cols=feat_cols, processor=processor) \\\n",
    "    .split_by_rand_pct(valid_pct=config.valid_pct, seed=config.seed) \\\n",
    "    .label_from_df(cols=label_cols, label_cls=CategoryList) \\\n",
    "    .add_test(RobertaTextList.from_df(test_df, \".\", cols=feat_cols, processor=processor)) \\\n",
    "    .databunch(bs=config.bs, pad_first=False, pad_idx=0)\n",
    "\n",
    "# remove unnecessary files\n",
    "del train_df  \n",
    "del test_df \n",
    "gc.collect()  # clean the memory"
   ]
  }
 ],
 "metadata": {
  "kernelspec": {
   "display_name": "Python 3 (ipykernel)",
   "language": "python",
   "name": "python3"
  },
  "language_info": {
   "codemirror_mode": {
    "name": "ipython",
    "version": 3
   },
   "file_extension": ".py",
   "mimetype": "text/x-python",
   "name": "python",
   "nbconvert_exporter": "python",
   "pygments_lexer": "ipython3",
   "version": "3.9.7"
  },
  "toc": {
   "base_numbering": 1,
   "nav_menu": {},
   "number_sections": true,
   "sideBar": true,
   "skip_h1_title": false,
   "title_cell": "Table of Contents",
   "title_sidebar": "Contents",
   "toc_cell": false,
   "toc_position": {
    "height": "calc(100% - 180px)",
    "left": "10px",
    "top": "150px",
    "width": "512px"
   },
   "toc_section_display": true,
   "toc_window_display": true
  },
  "varInspector": {
   "cols": {
    "lenName": 16,
    "lenType": 16,
    "lenVar": 40
   },
   "kernels_config": {
    "python": {
     "delete_cmd_postfix": "",
     "delete_cmd_prefix": "del ",
     "library": "var_list.py",
     "varRefreshCmd": "print(var_dic_list())"
    },
    "r": {
     "delete_cmd_postfix": ") ",
     "delete_cmd_prefix": "rm(",
     "library": "var_list.r",
     "varRefreshCmd": "cat(var_dic_list()) "
    }
   },
   "oldHeight": 946.828,
   "position": {
    "height": "968.797px",
    "left": "1862px",
    "right": "20px",
    "top": "121px",
    "width": "666px"
   },
   "types_to_exclude": [
    "module",
    "function",
    "builtin_function_or_method",
    "instance",
    "_Feature"
   ],
   "varInspector_section_display": "block",
   "window_display": false
  }
 },
 "nbformat": 4,
 "nbformat_minor": 5
}
