{
 "cells": [
  {
   "cell_type": "markdown",
   "id": "c0fe5c62",
   "metadata": {},
   "source": [
    "# Imports"
   ]
  },
  {
   "cell_type": "code",
   "execution_count": 331,
   "id": "f669c976",
   "metadata": {
    "ExecuteTime": {
     "end_time": "2022-04-23T20:41:26.268580Z",
     "start_time": "2022-04-23T20:41:26.075739Z"
    }
   },
   "outputs": [],
   "source": [
    "import pandas as pd\n",
    "import numpy as np\n",
    "import re\n",
    "import string\n",
    "import json\n",
    "import os\n",
    "\n",
    "import matplotlib.pyplot as plt\n",
    "import matplotlib as mpl\n",
    "%matplotlib inline\n",
    "\n",
    "import spacy\n",
    "\n",
    "import nltk\n",
    "from nltk import pos_tag\n",
    "from nltk.corpus import wordnet\n",
    "from nltk.probability import FreqDist\n",
    "from nltk.corpus import stopwords\n",
    "from nltk.tokenize import regexp_tokenize, word_tokenize, RegexpTokenizer\n",
    "\n",
    "from sklearn.model_selection import train_test_split, GridSearchCV\n",
    "from sklearn.preprocessing import StandardScaler\n",
    "from sklearn.linear_model import SGDClassifier\n",
    "from sklearn.metrics import confusion_matrix, ConfusionMatrixDisplay,\\\n",
    "classification_report, accuracy_score, precision_score\n",
    "\n",
    "from sklearn.feature_extraction.text import CountVectorizer, TfidfVectorizer,\\\n",
    "HashingVectorizer\n",
    "\n",
    "from sklearn.ensemble import RandomForestClassifier\n",
    "from sklearn.naive_bayes import MultinomialNB"
   ]
  },
  {
   "cell_type": "markdown",
   "id": "b345017f",
   "metadata": {},
   "source": [
    "GO TO SECTION 2.3 TO IMPORT DATA FROM PARQUET FILE"
   ]
  },
  {
   "cell_type": "markdown",
   "id": "80fd5677",
   "metadata": {
    "heading_collapsed": true
   },
   "source": [
    "# EDA"
   ]
  },
  {
   "cell_type": "markdown",
   "id": "10097137",
   "metadata": {
    "heading_collapsed": true,
    "hidden": true
   },
   "source": [
    "## Movie Details"
   ]
  },
  {
   "cell_type": "code",
   "execution_count": 211,
   "id": "3f94bc6e",
   "metadata": {
    "ExecuteTime": {
     "end_time": "2022-04-22T20:27:25.223664Z",
     "start_time": "2022-04-22T20:27:25.022727Z"
    },
    "hidden": true,
    "scrolled": true
   },
   "outputs": [
    {
     "name": "stdout",
     "output_type": "stream",
     "text": [
      "<class 'pandas.core.frame.DataFrame'>\n",
      "RangeIndex: 1572 entries, 0 to 1571\n",
      "Data columns (total 7 columns):\n",
      " #   Column         Non-Null Count  Dtype  \n",
      "---  ------         --------------  -----  \n",
      " 0   movie_id       1572 non-null   object \n",
      " 1   plot_summary   1572 non-null   object \n",
      " 2   duration       1572 non-null   object \n",
      " 3   genre          1572 non-null   object \n",
      " 4   rating         1572 non-null   float64\n",
      " 5   release_date   1572 non-null   object \n",
      " 6   plot_synopsis  1572 non-null   object \n",
      "dtypes: float64(1), object(6)\n",
      "memory usage: 86.1+ KB\n"
     ]
    },
    {
     "data": {
      "text/plain": [
       "None"
      ]
     },
     "metadata": {},
     "output_type": "display_data"
    },
    {
     "data": {
      "text/html": [
       "<div>\n",
       "<style scoped>\n",
       "    .dataframe tbody tr th:only-of-type {\n",
       "        vertical-align: middle;\n",
       "    }\n",
       "\n",
       "    .dataframe tbody tr th {\n",
       "        vertical-align: top;\n",
       "    }\n",
       "\n",
       "    .dataframe thead th {\n",
       "        text-align: right;\n",
       "    }\n",
       "</style>\n",
       "<table border=\"1\" class=\"dataframe\">\n",
       "  <thead>\n",
       "    <tr style=\"text-align: right;\">\n",
       "      <th></th>\n",
       "      <th>movie_id</th>\n",
       "      <th>plot_summary</th>\n",
       "      <th>duration</th>\n",
       "      <th>genre</th>\n",
       "      <th>rating</th>\n",
       "      <th>release_date</th>\n",
       "      <th>plot_synopsis</th>\n",
       "    </tr>\n",
       "  </thead>\n",
       "  <tbody>\n",
       "    <tr>\n",
       "      <th>0</th>\n",
       "      <td>tt0105112</td>\n",
       "      <td>Former CIA analyst, Jack Ryan is in England wi...</td>\n",
       "      <td>1h 57min</td>\n",
       "      <td>[Action, Thriller]</td>\n",
       "      <td>6.9</td>\n",
       "      <td>1992-06-05</td>\n",
       "      <td>Jack Ryan (Ford) is on a \"working vacation\" in...</td>\n",
       "    </tr>\n",
       "    <tr>\n",
       "      <th>1</th>\n",
       "      <td>tt1204975</td>\n",
       "      <td>Billy (Michael Douglas), Paddy (Robert De Niro...</td>\n",
       "      <td>1h 45min</td>\n",
       "      <td>[Comedy]</td>\n",
       "      <td>6.6</td>\n",
       "      <td>2013-11-01</td>\n",
       "      <td>Four boys around the age of 10 are friends in ...</td>\n",
       "    </tr>\n",
       "    <tr>\n",
       "      <th>2</th>\n",
       "      <td>tt0243655</td>\n",
       "      <td>The setting is Camp Firewood, the year 1981. I...</td>\n",
       "      <td>1h 37min</td>\n",
       "      <td>[Comedy, Romance]</td>\n",
       "      <td>6.7</td>\n",
       "      <td>2002-04-11</td>\n",
       "      <td></td>\n",
       "    </tr>\n",
       "    <tr>\n",
       "      <th>3</th>\n",
       "      <td>tt0040897</td>\n",
       "      <td>Fred C. Dobbs and Bob Curtin, both down on the...</td>\n",
       "      <td>2h 6min</td>\n",
       "      <td>[Adventure, Drama, Western]</td>\n",
       "      <td>8.3</td>\n",
       "      <td>1948-01-24</td>\n",
       "      <td>Fred Dobbs (Humphrey Bogart) and Bob Curtin (T...</td>\n",
       "    </tr>\n",
       "    <tr>\n",
       "      <th>4</th>\n",
       "      <td>tt0126886</td>\n",
       "      <td>Tracy Flick is running unopposed for this year...</td>\n",
       "      <td>1h 43min</td>\n",
       "      <td>[Comedy, Drama, Romance]</td>\n",
       "      <td>7.3</td>\n",
       "      <td>1999-05-07</td>\n",
       "      <td>Jim McAllister (Matthew Broderick) is a much-a...</td>\n",
       "    </tr>\n",
       "    <tr>\n",
       "      <th>...</th>\n",
       "      <td>...</td>\n",
       "      <td>...</td>\n",
       "      <td>...</td>\n",
       "      <td>...</td>\n",
       "      <td>...</td>\n",
       "      <td>...</td>\n",
       "      <td>...</td>\n",
       "    </tr>\n",
       "    <tr>\n",
       "      <th>1567</th>\n",
       "      <td>tt0289879</td>\n",
       "      <td>Evan Treborn grows up in a small town with his...</td>\n",
       "      <td>1h 53min</td>\n",
       "      <td>[Sci-Fi, Thriller]</td>\n",
       "      <td>7.7</td>\n",
       "      <td>2004-01-23</td>\n",
       "      <td>In the year 1998, Evan Treborn (Ashton Kutcher...</td>\n",
       "    </tr>\n",
       "    <tr>\n",
       "      <th>1568</th>\n",
       "      <td>tt1723811</td>\n",
       "      <td>Brandon is a 30-something man living in New Yo...</td>\n",
       "      <td>1h 41min</td>\n",
       "      <td>[Drama]</td>\n",
       "      <td>7.2</td>\n",
       "      <td>2012-01-13</td>\n",
       "      <td>Brandon (Michael Fassbender) is a successful, ...</td>\n",
       "    </tr>\n",
       "    <tr>\n",
       "      <th>1569</th>\n",
       "      <td>tt5013056</td>\n",
       "      <td>Evacuation of Allied soldiers from the British...</td>\n",
       "      <td>1h 46min</td>\n",
       "      <td>[Action, Drama, History]</td>\n",
       "      <td>8.1</td>\n",
       "      <td>2017-07-21</td>\n",
       "      <td>The film alternates between three different pe...</td>\n",
       "    </tr>\n",
       "    <tr>\n",
       "      <th>1570</th>\n",
       "      <td>tt0104014/</td>\n",
       "      <td>For a while now, beautiful 24-year-old Diana B...</td>\n",
       "      <td>1h 33min</td>\n",
       "      <td>[Comedy, Drama]</td>\n",
       "      <td>5.3</td>\n",
       "      <td>1992-02-21</td>\n",
       "      <td></td>\n",
       "    </tr>\n",
       "    <tr>\n",
       "      <th>1571</th>\n",
       "      <td>tt0114142/</td>\n",
       "      <td>The marriage of David Burgess, a senior execut...</td>\n",
       "      <td>1h 32min</td>\n",
       "      <td>[Drama, Thriller]</td>\n",
       "      <td>4.0</td>\n",
       "      <td>1999-01-29</td>\n",
       "      <td></td>\n",
       "    </tr>\n",
       "  </tbody>\n",
       "</table>\n",
       "<p>1572 rows × 7 columns</p>\n",
       "</div>"
      ],
      "text/plain": [
       "        movie_id                                       plot_summary  duration  \\\n",
       "0      tt0105112  Former CIA analyst, Jack Ryan is in England wi...  1h 57min   \n",
       "1      tt1204975  Billy (Michael Douglas), Paddy (Robert De Niro...  1h 45min   \n",
       "2      tt0243655  The setting is Camp Firewood, the year 1981. I...  1h 37min   \n",
       "3      tt0040897  Fred C. Dobbs and Bob Curtin, both down on the...   2h 6min   \n",
       "4      tt0126886  Tracy Flick is running unopposed for this year...  1h 43min   \n",
       "...          ...                                                ...       ...   \n",
       "1567   tt0289879  Evan Treborn grows up in a small town with his...  1h 53min   \n",
       "1568   tt1723811  Brandon is a 30-something man living in New Yo...  1h 41min   \n",
       "1569   tt5013056  Evacuation of Allied soldiers from the British...  1h 46min   \n",
       "1570  tt0104014/  For a while now, beautiful 24-year-old Diana B...  1h 33min   \n",
       "1571  tt0114142/  The marriage of David Burgess, a senior execut...  1h 32min   \n",
       "\n",
       "                            genre  rating release_date  \\\n",
       "0              [Action, Thriller]     6.9   1992-06-05   \n",
       "1                        [Comedy]     6.6   2013-11-01   \n",
       "2               [Comedy, Romance]     6.7   2002-04-11   \n",
       "3     [Adventure, Drama, Western]     8.3   1948-01-24   \n",
       "4        [Comedy, Drama, Romance]     7.3   1999-05-07   \n",
       "...                           ...     ...          ...   \n",
       "1567           [Sci-Fi, Thriller]     7.7   2004-01-23   \n",
       "1568                      [Drama]     7.2   2012-01-13   \n",
       "1569     [Action, Drama, History]     8.1   2017-07-21   \n",
       "1570              [Comedy, Drama]     5.3   1992-02-21   \n",
       "1571            [Drama, Thriller]     4.0   1999-01-29   \n",
       "\n",
       "                                          plot_synopsis  \n",
       "0     Jack Ryan (Ford) is on a \"working vacation\" in...  \n",
       "1     Four boys around the age of 10 are friends in ...  \n",
       "2                                                        \n",
       "3     Fred Dobbs (Humphrey Bogart) and Bob Curtin (T...  \n",
       "4     Jim McAllister (Matthew Broderick) is a much-a...  \n",
       "...                                                 ...  \n",
       "1567  In the year 1998, Evan Treborn (Ashton Kutcher...  \n",
       "1568  Brandon (Michael Fassbender) is a successful, ...  \n",
       "1569  The film alternates between three different pe...  \n",
       "1570                                                     \n",
       "1571                                                     \n",
       "\n",
       "[1572 rows x 7 columns]"
      ]
     },
     "execution_count": 211,
     "metadata": {},
     "output_type": "execute_result"
    }
   ],
   "source": [
    "movie_details = pd.read_json('./data/IMDB_movie_details.json', lines=True)\n",
    "display(movie_details.info())\n",
    "movie_details"
   ]
  },
  {
   "cell_type": "markdown",
   "id": "653a024b",
   "metadata": {
    "hidden": true
   },
   "source": [
    "Convert 'release_date' to a datetime object"
   ]
  },
  {
   "cell_type": "code",
   "execution_count": 212,
   "id": "366546b1",
   "metadata": {
    "ExecuteTime": {
     "end_time": "2022-04-22T20:27:26.330886Z",
     "start_time": "2022-04-22T20:27:26.316846Z"
    },
    "hidden": true
   },
   "outputs": [],
   "source": [
    "movie_details['release_date'] = pd.to_datetime(movie_details.release_date)"
   ]
  },
  {
   "cell_type": "markdown",
   "id": "b361ba6d",
   "metadata": {
    "hidden": true
   },
   "source": [
    "Convert duration into a minute count (integer)"
   ]
  },
  {
   "cell_type": "code",
   "execution_count": 213,
   "id": "ebdc0b96",
   "metadata": {
    "ExecuteTime": {
     "end_time": "2022-04-22T20:27:30.531740Z",
     "start_time": "2022-04-22T20:27:30.478669Z"
    },
    "hidden": true
   },
   "outputs": [],
   "source": [
    "hour = re.compile('(\\d+)h')\n",
    "minute = re.compile('(\\d+)min')\n",
    "\n",
    "def duration_convert(df):\n",
    "    # set intial duration to 0\n",
    "    duration = 0\n",
    "    # find number of hours and minutes\n",
    "    hour_found = hour.findall(df.duration)\n",
    "    minute_found = minute.findall(df.duration)\n",
    "    # if hours, multiply value by 60 and add to duration\n",
    "    if hour_found:\n",
    "        duration += 60 * int(hour_found[0])\n",
    "    # if minutes, add to duration\n",
    "    if minute_found:\n",
    "        duration += int(minute_found[0])\n",
    "    # return total number of minutes\n",
    "    return duration\n",
    "\n",
    "movie_details['duration'] = movie_details.apply(duration_convert, axis=1)"
   ]
  },
  {
   "cell_type": "markdown",
   "id": "6834d6c9",
   "metadata": {
    "hidden": true
   },
   "source": [
    "Confirm that genre contains lists for possible future genre analysis"
   ]
  },
  {
   "cell_type": "code",
   "execution_count": 214,
   "id": "3c9d9c90",
   "metadata": {
    "ExecuteTime": {
     "end_time": "2022-04-22T20:27:31.946152Z",
     "start_time": "2022-04-22T20:27:31.657481Z"
    },
    "hidden": true
   },
   "outputs": [
    {
     "name": "stdout",
     "output_type": "stream",
     "text": [
      "There are 0 entries for genre that are not a list\n"
     ]
    }
   ],
   "source": [
    "for i in list(range(len(movie_details))):\n",
    "    count = 0\n",
    "    if str(type(movie_details.iloc[i].genre)) != \"<class 'list'>\":\n",
    "        count += 1\n",
    "        print(type(movie_details.iloc[i].genre))\n",
    "print(f\"There are {count} entries for genre that are not a list\")"
   ]
  },
  {
   "cell_type": "markdown",
   "id": "9fed2c3f",
   "metadata": {
    "hidden": true
   },
   "source": [
    "_____________\n",
    "Check on how many empty plot summary/synopsis there are"
   ]
  },
  {
   "cell_type": "code",
   "execution_count": 215,
   "id": "ea6e8e94",
   "metadata": {
    "ExecuteTime": {
     "end_time": "2022-04-22T20:27:34.482240Z",
     "start_time": "2022-04-22T20:27:34.464412Z"
    },
    "hidden": true,
    "run_control": {
     "marked": false
    }
   },
   "outputs": [
    {
     "name": "stdout",
     "output_type": "stream",
     "text": [
      "There are 0 entries with an empty summary.\n",
      "There are 233 entries with an empty synopsis.\n"
     ]
    }
   ],
   "source": [
    "empty_summary = len(movie_details[movie_details.plot_summary == ''])\n",
    "empty_synopsis = len(movie_details[movie_details.plot_synopsis == ''])\n",
    "print(f\"There are {empty_summary} entries with an empty summary.\\nThere are {empty_synopsis} entries with an empty synopsis.\")"
   ]
  },
  {
   "cell_type": "code",
   "execution_count": 216,
   "id": "efcae333",
   "metadata": {
    "ExecuteTime": {
     "end_time": "2022-04-22T20:27:35.497286Z",
     "start_time": "2022-04-22T20:27:35.484783Z"
    },
    "hidden": true
   },
   "outputs": [
    {
     "name": "stdout",
     "output_type": "stream",
     "text": [
      "The first entry summary length is: 1034\n",
      "The first entry synopsis length is: 8605\n"
     ]
    }
   ],
   "source": [
    "first_summary_len = len(movie_details.iloc[0].plot_summary)\n",
    "first_synopsis_len = len(movie_details.iloc[0].plot_synopsis)\n",
    "print(f\"The first entry summary length is: {first_summary_len}\\nThe first entry synopsis length is: {first_synopsis_len}\")"
   ]
  },
  {
   "cell_type": "markdown",
   "id": "42be0458",
   "metadata": {
    "hidden": true
   },
   "source": [
    "The first entry's summary and synopsis reveals that the former is shorter than the latter, which is the field containing some missing values. Checking the whole dataframe to see if that relationship is always the case."
   ]
  },
  {
   "cell_type": "code",
   "execution_count": 217,
   "id": "c7d04a96",
   "metadata": {
    "ExecuteTime": {
     "end_time": "2022-04-22T20:27:37.988002Z",
     "start_time": "2022-04-22T20:27:37.570840Z"
    },
    "hidden": true
   },
   "outputs": [
    {
     "name": "stdout",
     "output_type": "stream",
     "text": [
      "There are 256 entries where the summary length is greater than the synopsis length.\n",
      "There are 23 of these entries that contain a synopsis.\n"
     ]
    }
   ],
   "source": [
    "count = 0\n",
    "\n",
    "for i in list(range(len(movie_details))):\n",
    "    summary_len = len(movie_details.iloc[i].plot_summary)\n",
    "    synopsis_len = len(movie_details.iloc[i].plot_synopsis)\n",
    "    if summary_len > synopsis_len:\n",
    "        count += 1\n",
    "\n",
    "difference = count - empty_synopsis\n",
    "    \n",
    "print(f\"There are {count} entries where the summary length is greater than the synopsis length.\")\n",
    "print(f\"There are {difference} of these entries that contain a synopsis.\")"
   ]
  },
  {
   "cell_type": "markdown",
   "id": "76b91fdf",
   "metadata": {
    "hidden": true
   },
   "source": [
    "With that many missing, we will use the film summary instead of synopsis.\n",
    "____________\n",
    "The quantity of unique values from movie_reviews' movie_id match the number of films we have in the movie details. Some of the movie_id values in the movie_details dataframe have a trailing '/' character which will affect matching when we merge the two dataframes."
   ]
  },
  {
   "cell_type": "code",
   "execution_count": 273,
   "id": "16cab04c",
   "metadata": {
    "ExecuteTime": {
     "end_time": "2022-04-23T18:04:43.508159Z",
     "start_time": "2022-04-23T18:04:43.433789Z"
    },
    "hidden": true
   },
   "outputs": [],
   "source": [
    "def fix_movie_id(df):\n",
    "    if df.movie_id[-1] == '/':\n",
    "        return  df.movie_id[:-1]\n",
    "    else:\n",
    "        return df.movie_id\n",
    "\n",
    "movie_details['movie_id'] = movie_details.apply(fix_movie_id, axis=1)"
   ]
  },
  {
   "cell_type": "markdown",
   "id": "c804d7d2",
   "metadata": {
    "heading_collapsed": true,
    "hidden": true
   },
   "source": [
    "### Entity extraction of film summary"
   ]
  },
  {
   "cell_type": "code",
   "execution_count": null,
   "id": "da063449",
   "metadata": {
    "hidden": true
   },
   "outputs": [],
   "source": [
    "def summary_entities(row):\n",
    "    # get the film summary\n",
    "    summary = row.plot_summary\n",
    "    # generate new features for character and word count of the summary\n",
    "    row['summary_char_count'] = len(summary)\n",
    "    row['summary_word_count'] = len(summary.split(' '))\n",
    "    # get the entities with spacy\n",
    "    doc = nlp(summary)\n",
    "    # initialize list of entities and their counts\n",
    "    ent_list = []\n",
    "    ent_count = []\n",
    "    # append each entity to the list of entities\n",
    "    for ent in doc.ents:\n",
    "        ent_list.append(ent.text)\n",
    "    # generate the set of unique entities\n",
    "    ent_set = set(ent_list)\n",
    "    # append a tuple to ent_count with each found entity and its count\n",
    "    for ent in ent_set:\n",
    "        ent_count.append((ent, ent_list.count(ent)))\n",
    "    # set number of unique entities and initialize the total count to 0\n",
    "    unique_ents = len(ent_count)\n",
    "    unique_ent_count = 0\n",
    "    # for each tuple, add the count from the entity frequency to the total count\n",
    "    for x in ent_count:\n",
    "        unique_ent_count += x[1]\n",
    "    # get the average count for an entity\n",
    "    if unique_ents != 0:\n",
    "        avg_count = round(unique_ent_count / unique_ents, 2)\n",
    "    else:\n",
    "        avg_count = 0\n",
    "    # generate new features for the total entity count, unique count, and avg frequency\n",
    "    row['summary_entity_count'] = len(ent_list)\n",
    "    row['summary_unique_entities'] = unique_ents\n",
    "    row['summary_avg_entity_freq'] = avg_count\n",
    "    # return the row\n",
    "    return row\n",
    "\n",
    "movie_details = movie_details.apply(summary_entities, axis=1)"
   ]
  },
  {
   "cell_type": "markdown",
   "id": "6b3b4388",
   "metadata": {
    "heading_collapsed": true,
    "hidden": true
   },
   "source": [
    "### Tokenize film summary"
   ]
  },
  {
   "cell_type": "code",
   "execution_count": null,
   "id": "cbf385d8",
   "metadata": {
    "hidden": true
   },
   "outputs": [],
   "source": [
    "summary_stopwords = stopwords.words('english')\n",
    "pattern = \"([a-zA-Z]+(?:'[a-z]+)?)\"\n",
    "tokenizer = RegexpTokenizer(pattern)\n",
    "\n",
    "def summary_tokenize(row):\n",
    "    # get the film summary\n",
    "    summary = row.plot_summary\n",
    "    # tokenize\n",
    "    summary_tokens = tokenizer.tokenize(summary)\n",
    "    summary_tokens = [token.lower() for token in summary_tokens]\n",
    "    summary_tokens = [token for token in summary_tokens if token not in summary_stopwords]\n",
    "    # set new feature to token list\n",
    "    row['summary_tokens'] = summary_tokens\n",
    "    row['summary_token_count'] = len(summary_tokens)\n",
    "    return row\n",
    "\n",
    "movie_details = movie_details.apply(summary_tokenize, axis=1)"
   ]
  },
  {
   "cell_type": "markdown",
   "id": "21657f7d",
   "metadata": {
    "heading_collapsed": true,
    "hidden": true
   },
   "source": [
    "## Movie Reviews"
   ]
  },
  {
   "cell_type": "code",
   "execution_count": null,
   "id": "6d1ca975",
   "metadata": {
    "hidden": true
   },
   "outputs": [],
   "source": [
    "movie_reviews = pd.read_json('./data/IMDB_reviews.json', lines=True)\n",
    "display(movie_reviews.info())\n",
    "movie_reviews"
   ]
  },
  {
   "cell_type": "code",
   "execution_count": null,
   "id": "59552a0e",
   "metadata": {
    "hidden": true
   },
   "outputs": [],
   "source": [
    "unique_movies_in_reviews = movie_reviews.movie_id.nunique()\n",
    "print(f\"There are {len(movie_details)} entries in movie_details and {unique_movies_in_reviews} unique movie_id's in movie_reviews\")"
   ]
  },
  {
   "cell_type": "markdown",
   "id": "d1b20a04",
   "metadata": {
    "hidden": true
   },
   "source": [
    "Converting the review_date to datetime"
   ]
  },
  {
   "cell_type": "code",
   "execution_count": null,
   "id": "7425e306",
   "metadata": {
    "hidden": true
   },
   "outputs": [],
   "source": [
    "movie_reviews['review_date'] = pd.to_datetime(movie_reviews.review_date)"
   ]
  },
  {
   "cell_type": "code",
   "execution_count": null,
   "id": "3b5af0ce",
   "metadata": {
    "hidden": true
   },
   "outputs": [],
   "source": [
    "movie_reviews.describe(datetime_is_numeric=True)"
   ]
  },
  {
   "cell_type": "markdown",
   "id": "c6730cd8",
   "metadata": {
    "heading_collapsed": true,
    "hidden": true
   },
   "source": [
    "### Entity extraction of reviews"
   ]
  },
  {
   "cell_type": "markdown",
   "id": "63f280a9",
   "metadata": {
    "hidden": true
   },
   "source": [
    "This processing takes just under 8 hours."
   ]
  },
  {
   "cell_type": "code",
   "execution_count": null,
   "id": "58b5da6b",
   "metadata": {
    "hidden": true
   },
   "outputs": [],
   "source": [
    "nlp = spacy.load('en_core_web_sm')\n",
    "\n",
    "def entity_info(row):\n",
    "    # get the review summary\n",
    "    review = row.review_text\n",
    "    # generate new features for character and word count of the summary\n",
    "    row['char_count'] = len(review)\n",
    "    row['word_count'] = len(review.split(' '))\n",
    "    # get the entities with spacy\n",
    "    doc = nlp(review)\n",
    "    # initialize list of entities and their counts\n",
    "    ent_list = []\n",
    "    ent_count = []\n",
    "    # append each entity to the list of entities\n",
    "    for ent in doc.ents:\n",
    "        ent_list.append(ent.text)\n",
    "    # generate the set of unique entities\n",
    "    ent_set = set(ent_list)\n",
    "    # append a tuple to ent_count with each found entity and its count\n",
    "    for ent in ent_set:\n",
    "        ent_count.append((ent, ent_list.count(ent)))\n",
    "    # set number of unique entities and initialize the total count to 0\n",
    "    unique_ents = len(ent_count)\n",
    "    unique_ent_count = 0\n",
    "    # for each tuple, add the count from the entity frequency to the total count\n",
    "    for x in ent_count:\n",
    "        unique_ent_count += x[1]\n",
    "    # get the average count for an entity\n",
    "    if unique_ents != 0:\n",
    "        avg_count = round(unique_ent_count / unique_ents, 2)\n",
    "    else:\n",
    "        avg_count = 0\n",
    "    # generate new features for the total entity count, unique count, and avg frequency\n",
    "    row['entity_count'] = len(ent_list)\n",
    "    row['unique_entities'] = unique_ents\n",
    "    row['avg_entity_freq'] = avg_count\n",
    "    # return the row\n",
    "    return row\n",
    "\n",
    "# movie_reviews = movie_reviews.apply(entity_info, axis=1)"
   ]
  },
  {
   "cell_type": "markdown",
   "id": "fba7dba4",
   "metadata": {
    "heading_collapsed": true,
    "hidden": true
   },
   "source": [
    "### Tokenize reviews"
   ]
  },
  {
   "cell_type": "code",
   "execution_count": null,
   "id": "a3209718",
   "metadata": {
    "hidden": true
   },
   "outputs": [],
   "source": [
    "summary_stopwords = stopwords.words('english')\n",
    "pattern = \"([a-zA-Z]+(?:'[a-z]+)?)\"\n",
    "tokenizer = RegexpTokenizer(pattern)\n",
    "\n",
    "def review_tokenize(row):\n",
    "    # get the film review\n",
    "    review = row.review_text\n",
    "    # tokenize\n",
    "    review_tokens = tokenizer.tokenize(review)\n",
    "    review_tokens = [token.lower() for token in review_tokens]\n",
    "    review_tokens = [token for token in review_tokens if token not in summary_stopwords]\n",
    "    # set new feature to token list\n",
    "    row['review_tokens'] = review_tokens\n",
    "    row['review_token_count'] = len(review_tokens)\n",
    "    return row\n",
    "\n",
    "movie_reviews = movie_reviews.apply(review_tokenize, axis=1)"
   ]
  },
  {
   "cell_type": "markdown",
   "id": "1ad5bea1",
   "metadata": {
    "heading_collapsed": true,
    "hidden": true
   },
   "source": [
    "## Merging details and reviews"
   ]
  },
  {
   "cell_type": "code",
   "execution_count": null,
   "id": "b9905230",
   "metadata": {
    "hidden": true
   },
   "outputs": [],
   "source": [
    "# merged_df = pd.merge(movie_details, movie_reviews, on='movie_id', how=\"right\")\n",
    "\n",
    "# corrected_columns = ['movie_id', 'plot_summary', 'duration', 'genre', 'film_rating',\n",
    "#                      'release_date', 'plot_synopsis', 'summary_char_count',\n",
    "#                      'summary_word_count', 'summary_entity_count', 'summary_unique_entities',\n",
    "#                      'summary_avg_entity_freq', 'summary_tokens', 'summary_token_count',\n",
    "#                      'review_date', 'user_id', 'is_spoiler', 'review_text', 'reviewer_rating',\n",
    "#                      'review_summary', 'review_char_count', 'review_word_count', 'review_entity_count',\n",
    "#                      'review_unique_entities', 'review_avg_entity_freq', 'review_tokens',\n",
    "#                      'review_token_count']\n",
    "\n",
    "# merged_df.columns = corrected_columns\n",
    "\n",
    "# merged_df.to_parquet('./data/full_dataframe.parquet')"
   ]
  },
  {
   "cell_type": "markdown",
   "id": "52cbe643",
   "metadata": {
    "hidden": true
   },
   "source": [
    "This cell reads in the full dataframe from the saved parquet file. The file is large, 573,913 entries with 27 features, takes up about 1.9 GB of space. The load takes about a minute"
   ]
  },
  {
   "cell_type": "code",
   "execution_count": 2,
   "id": "9b1ea75f",
   "metadata": {
    "ExecuteTime": {
     "end_time": "2022-04-22T14:26:03.259316Z",
     "start_time": "2022-04-22T14:25:00.884472Z"
    },
    "hidden": true
   },
   "outputs": [],
   "source": [
    "merged_df = pd.read_parquet('./data/full_dataframe.parquet')"
   ]
  },
  {
   "cell_type": "code",
   "execution_count": 3,
   "id": "901c7a2d",
   "metadata": {
    "ExecuteTime": {
     "end_time": "2022-04-22T14:26:17.628210Z",
     "start_time": "2022-04-22T14:26:17.305831Z"
    },
    "hidden": true
   },
   "outputs": [
    {
     "name": "stdout",
     "output_type": "stream",
     "text": [
      "<class 'pandas.core.frame.DataFrame'>\n",
      "Int64Index: 573913 entries, 0 to 573912\n",
      "Data columns (total 27 columns):\n",
      " #   Column                   Non-Null Count   Dtype         \n",
      "---  ------                   --------------   -----         \n",
      " 0   movie_id                 573913 non-null  object        \n",
      " 1   plot_summary             573913 non-null  object        \n",
      " 2   duration                 573913 non-null  int64         \n",
      " 3   genre                    573913 non-null  object        \n",
      " 4   film_rating              573913 non-null  float64       \n",
      " 5   release_date             573913 non-null  datetime64[ns]\n",
      " 6   plot_synopsis            573913 non-null  object        \n",
      " 7   summary_char_count       573913 non-null  int64         \n",
      " 8   summary_word_count       573913 non-null  int64         \n",
      " 9   summary_entity_count     573913 non-null  int64         \n",
      " 10  summary_unique_entities  573913 non-null  int64         \n",
      " 11  summary_avg_entity_freq  573913 non-null  float64       \n",
      " 12  summary_tokens           573913 non-null  object        \n",
      " 13  summary_token_count      573913 non-null  int64         \n",
      " 14  review_date              573913 non-null  datetime64[ns]\n",
      " 15  user_id                  573913 non-null  object        \n",
      " 16  is_spoiler               573913 non-null  bool          \n",
      " 17  review_text              573913 non-null  object        \n",
      " 18  reviewer_rating          573913 non-null  int64         \n",
      " 19  review_summary           573913 non-null  object        \n",
      " 20  review_char_count        573913 non-null  int64         \n",
      " 21  review_word_count        573913 non-null  int64         \n",
      " 22  review_entity_count      573913 non-null  int64         \n",
      " 23  review_unique_entities   573913 non-null  int64         \n",
      " 24  review_avg_entity_freq   573913 non-null  float64       \n",
      " 25  review_tokens            573913 non-null  object        \n",
      " 26  review_token_count       573913 non-null  int64         \n",
      "dtypes: bool(1), datetime64[ns](2), float64(3), int64(12), object(9)\n",
      "memory usage: 118.8+ MB\n"
     ]
    }
   ],
   "source": [
    "merged_df.info()"
   ]
  },
  {
   "cell_type": "code",
   "execution_count": 43,
   "id": "4bf45e31",
   "metadata": {
    "ExecuteTime": {
     "end_time": "2022-04-22T14:50:51.111086Z",
     "start_time": "2022-04-22T14:50:51.100647Z"
    },
    "hidden": true
   },
   "outputs": [],
   "source": [
    "merged_df['is_spoiler'] = merged_df.is_spoiler.astype(int)"
   ]
  },
  {
   "cell_type": "code",
   "execution_count": 73,
   "id": "52b9d51c",
   "metadata": {
    "ExecuteTime": {
     "end_time": "2022-04-22T15:12:21.103074Z",
     "start_time": "2022-04-22T15:12:20.940910Z"
    },
    "hidden": true
   },
   "outputs": [
    {
     "data": {
      "text/html": [
       "<div>\n",
       "<style scoped>\n",
       "    .dataframe tbody tr th:only-of-type {\n",
       "        vertical-align: middle;\n",
       "    }\n",
       "\n",
       "    .dataframe tbody tr th {\n",
       "        vertical-align: top;\n",
       "    }\n",
       "\n",
       "    .dataframe thead th {\n",
       "        text-align: right;\n",
       "    }\n",
       "</style>\n",
       "<table border=\"1\" class=\"dataframe\">\n",
       "  <thead>\n",
       "    <tr style=\"text-align: right;\">\n",
       "      <th></th>\n",
       "      <th>duration</th>\n",
       "      <th>film_rating</th>\n",
       "      <th>summary_char_count</th>\n",
       "      <th>summary_word_count</th>\n",
       "      <th>summary_entity_count</th>\n",
       "      <th>summary_unique_entities</th>\n",
       "      <th>summary_avg_entity_freq</th>\n",
       "      <th>summary_token_count</th>\n",
       "      <th>is_spoiler</th>\n",
       "      <th>reviewer_rating</th>\n",
       "      <th>review_char_count</th>\n",
       "      <th>review_word_count</th>\n",
       "      <th>review_entity_count</th>\n",
       "      <th>review_unique_entities</th>\n",
       "      <th>review_avg_entity_freq</th>\n",
       "      <th>review_token_count</th>\n",
       "    </tr>\n",
       "  </thead>\n",
       "  <tbody>\n",
       "    <tr>\n",
       "      <th>count</th>\n",
       "      <td>150924.000000</td>\n",
       "      <td>150924.000000</td>\n",
       "      <td>150924.000000</td>\n",
       "      <td>150924.000000</td>\n",
       "      <td>150924.000000</td>\n",
       "      <td>150924.000000</td>\n",
       "      <td>150924.000000</td>\n",
       "      <td>150924.000000</td>\n",
       "      <td>150924.0</td>\n",
       "      <td>150924.000000</td>\n",
       "      <td>150924.000000</td>\n",
       "      <td>150924.000000</td>\n",
       "      <td>150924.000000</td>\n",
       "      <td>150924.000000</td>\n",
       "      <td>150924.000000</td>\n",
       "      <td>150924.000000</td>\n",
       "    </tr>\n",
       "    <tr>\n",
       "      <th>mean</th>\n",
       "      <td>121.130384</td>\n",
       "      <td>7.280437</td>\n",
       "      <td>624.399572</td>\n",
       "      <td>117.458138</td>\n",
       "      <td>9.186948</td>\n",
       "      <td>7.519639</td>\n",
       "      <td>1.195440</td>\n",
       "      <td>59.630046</td>\n",
       "      <td>1.0</td>\n",
       "      <td>6.517665</td>\n",
       "      <td>1887.676731</td>\n",
       "      <td>334.893695</td>\n",
       "      <td>17.256136</td>\n",
       "      <td>13.035415</td>\n",
       "      <td>1.255999</td>\n",
       "      <td>173.760164</td>\n",
       "    </tr>\n",
       "    <tr>\n",
       "      <th>std</th>\n",
       "      <td>24.942642</td>\n",
       "      <td>0.948630</td>\n",
       "      <td>237.506254</td>\n",
       "      <td>41.978062</td>\n",
       "      <td>5.533847</td>\n",
       "      <td>4.162621</td>\n",
       "      <td>0.294963</td>\n",
       "      <td>22.895998</td>\n",
       "      <td>0.0</td>\n",
       "      <td>3.015940</td>\n",
       "      <td>1283.848098</td>\n",
       "      <td>223.272556</td>\n",
       "      <td>15.865584</td>\n",
       "      <td>10.606174</td>\n",
       "      <td>0.369803</td>\n",
       "      <td>118.606350</td>\n",
       "    </tr>\n",
       "    <tr>\n",
       "      <th>min</th>\n",
       "      <td>42.000000</td>\n",
       "      <td>2.400000</td>\n",
       "      <td>95.000000</td>\n",
       "      <td>15.000000</td>\n",
       "      <td>0.000000</td>\n",
       "      <td>0.000000</td>\n",
       "      <td>0.000000</td>\n",
       "      <td>8.000000</td>\n",
       "      <td>1.0</td>\n",
       "      <td>1.000000</td>\n",
       "      <td>50.000000</td>\n",
       "      <td>1.000000</td>\n",
       "      <td>0.000000</td>\n",
       "      <td>0.000000</td>\n",
       "      <td>0.000000</td>\n",
       "      <td>1.000000</td>\n",
       "    </tr>\n",
       "    <tr>\n",
       "      <th>25%</th>\n",
       "      <td>105.000000</td>\n",
       "      <td>6.700000</td>\n",
       "      <td>426.750000</td>\n",
       "      <td>82.000000</td>\n",
       "      <td>5.000000</td>\n",
       "      <td>4.000000</td>\n",
       "      <td>1.000000</td>\n",
       "      <td>41.000000</td>\n",
       "      <td>1.0</td>\n",
       "      <td>4.000000</td>\n",
       "      <td>920.000000</td>\n",
       "      <td>166.000000</td>\n",
       "      <td>6.000000</td>\n",
       "      <td>6.000000</td>\n",
       "      <td>1.000000</td>\n",
       "      <td>85.000000</td>\n",
       "    </tr>\n",
       "    <tr>\n",
       "      <th>50%</th>\n",
       "      <td>119.000000</td>\n",
       "      <td>7.400000</td>\n",
       "      <td>593.000000</td>\n",
       "      <td>114.000000</td>\n",
       "      <td>8.000000</td>\n",
       "      <td>7.000000</td>\n",
       "      <td>1.120000</td>\n",
       "      <td>57.000000</td>\n",
       "      <td>1.0</td>\n",
       "      <td>7.000000</td>\n",
       "      <td>1459.000000</td>\n",
       "      <td>261.000000</td>\n",
       "      <td>12.000000</td>\n",
       "      <td>10.000000</td>\n",
       "      <td>1.170000</td>\n",
       "      <td>135.000000</td>\n",
       "    </tr>\n",
       "    <tr>\n",
       "      <th>75%</th>\n",
       "      <td>136.000000</td>\n",
       "      <td>8.000000</td>\n",
       "      <td>803.000000</td>\n",
       "      <td>147.000000</td>\n",
       "      <td>12.000000</td>\n",
       "      <td>10.000000</td>\n",
       "      <td>1.310000</td>\n",
       "      <td>77.000000</td>\n",
       "      <td>1.0</td>\n",
       "      <td>9.000000</td>\n",
       "      <td>2456.000000</td>\n",
       "      <td>435.000000</td>\n",
       "      <td>23.000000</td>\n",
       "      <td>17.000000</td>\n",
       "      <td>1.380000</td>\n",
       "      <td>226.000000</td>\n",
       "    </tr>\n",
       "    <tr>\n",
       "      <th>max</th>\n",
       "      <td>321.000000</td>\n",
       "      <td>9.500000</td>\n",
       "      <td>1077.000000</td>\n",
       "      <td>212.000000</td>\n",
       "      <td>31.000000</td>\n",
       "      <td>25.000000</td>\n",
       "      <td>3.330000</td>\n",
       "      <td>144.000000</td>\n",
       "      <td>1.0</td>\n",
       "      <td>10.000000</td>\n",
       "      <td>14302.000000</td>\n",
       "      <td>2565.000000</td>\n",
       "      <td>176.000000</td>\n",
       "      <td>129.000000</td>\n",
       "      <td>22.000000</td>\n",
       "      <td>1295.000000</td>\n",
       "    </tr>\n",
       "  </tbody>\n",
       "</table>\n",
       "</div>"
      ],
      "text/plain": [
       "            duration    film_rating  summary_char_count  summary_word_count  \\\n",
       "count  150924.000000  150924.000000       150924.000000       150924.000000   \n",
       "mean      121.130384       7.280437          624.399572          117.458138   \n",
       "std        24.942642       0.948630          237.506254           41.978062   \n",
       "min        42.000000       2.400000           95.000000           15.000000   \n",
       "25%       105.000000       6.700000          426.750000           82.000000   \n",
       "50%       119.000000       7.400000          593.000000          114.000000   \n",
       "75%       136.000000       8.000000          803.000000          147.000000   \n",
       "max       321.000000       9.500000         1077.000000          212.000000   \n",
       "\n",
       "       summary_entity_count  summary_unique_entities  summary_avg_entity_freq  \\\n",
       "count         150924.000000            150924.000000            150924.000000   \n",
       "mean               9.186948                 7.519639                 1.195440   \n",
       "std                5.533847                 4.162621                 0.294963   \n",
       "min                0.000000                 0.000000                 0.000000   \n",
       "25%                5.000000                 4.000000                 1.000000   \n",
       "50%                8.000000                 7.000000                 1.120000   \n",
       "75%               12.000000                10.000000                 1.310000   \n",
       "max               31.000000                25.000000                 3.330000   \n",
       "\n",
       "       summary_token_count  is_spoiler  reviewer_rating  review_char_count  \\\n",
       "count        150924.000000    150924.0    150924.000000      150924.000000   \n",
       "mean             59.630046         1.0         6.517665        1887.676731   \n",
       "std              22.895998         0.0         3.015940        1283.848098   \n",
       "min               8.000000         1.0         1.000000          50.000000   \n",
       "25%              41.000000         1.0         4.000000         920.000000   \n",
       "50%              57.000000         1.0         7.000000        1459.000000   \n",
       "75%              77.000000         1.0         9.000000        2456.000000   \n",
       "max             144.000000         1.0        10.000000       14302.000000   \n",
       "\n",
       "       review_word_count  review_entity_count  review_unique_entities  \\\n",
       "count      150924.000000        150924.000000           150924.000000   \n",
       "mean          334.893695            17.256136               13.035415   \n",
       "std           223.272556            15.865584               10.606174   \n",
       "min             1.000000             0.000000                0.000000   \n",
       "25%           166.000000             6.000000                6.000000   \n",
       "50%           261.000000            12.000000               10.000000   \n",
       "75%           435.000000            23.000000               17.000000   \n",
       "max          2565.000000           176.000000              129.000000   \n",
       "\n",
       "       review_avg_entity_freq  review_token_count  \n",
       "count           150924.000000       150924.000000  \n",
       "mean                 1.255999          173.760164  \n",
       "std                  0.369803          118.606350  \n",
       "min                  0.000000            1.000000  \n",
       "25%                  1.000000           85.000000  \n",
       "50%                  1.170000          135.000000  \n",
       "75%                  1.380000          226.000000  \n",
       "max                 22.000000         1295.000000  "
      ]
     },
     "execution_count": 73,
     "metadata": {},
     "output_type": "execute_result"
    }
   ],
   "source": [
    "merged_df[merged_df.is_spoiler == 1].describe()"
   ]
  },
  {
   "cell_type": "code",
   "execution_count": 74,
   "id": "9ab3b5b5",
   "metadata": {
    "ExecuteTime": {
     "end_time": "2022-04-22T15:12:23.211597Z",
     "start_time": "2022-04-22T15:12:22.872335Z"
    },
    "hidden": true
   },
   "outputs": [
    {
     "data": {
      "text/html": [
       "<div>\n",
       "<style scoped>\n",
       "    .dataframe tbody tr th:only-of-type {\n",
       "        vertical-align: middle;\n",
       "    }\n",
       "\n",
       "    .dataframe tbody tr th {\n",
       "        vertical-align: top;\n",
       "    }\n",
       "\n",
       "    .dataframe thead th {\n",
       "        text-align: right;\n",
       "    }\n",
       "</style>\n",
       "<table border=\"1\" class=\"dataframe\">\n",
       "  <thead>\n",
       "    <tr style=\"text-align: right;\">\n",
       "      <th></th>\n",
       "      <th>duration</th>\n",
       "      <th>film_rating</th>\n",
       "      <th>summary_char_count</th>\n",
       "      <th>summary_word_count</th>\n",
       "      <th>summary_entity_count</th>\n",
       "      <th>summary_unique_entities</th>\n",
       "      <th>summary_avg_entity_freq</th>\n",
       "      <th>summary_token_count</th>\n",
       "      <th>is_spoiler</th>\n",
       "      <th>reviewer_rating</th>\n",
       "      <th>review_char_count</th>\n",
       "      <th>review_word_count</th>\n",
       "      <th>review_entity_count</th>\n",
       "      <th>review_unique_entities</th>\n",
       "      <th>review_avg_entity_freq</th>\n",
       "      <th>review_token_count</th>\n",
       "    </tr>\n",
       "  </thead>\n",
       "  <tbody>\n",
       "    <tr>\n",
       "      <th>count</th>\n",
       "      <td>422989.000000</td>\n",
       "      <td>422989.000000</td>\n",
       "      <td>422989.000000</td>\n",
       "      <td>422989.000000</td>\n",
       "      <td>422989.000000</td>\n",
       "      <td>422989.000000</td>\n",
       "      <td>422989.000000</td>\n",
       "      <td>422989.000000</td>\n",
       "      <td>422989.0</td>\n",
       "      <td>422989.000000</td>\n",
       "      <td>422989.000000</td>\n",
       "      <td>422989.000000</td>\n",
       "      <td>422989.000000</td>\n",
       "      <td>422989.000000</td>\n",
       "      <td>422989.000000</td>\n",
       "      <td>422989.000000</td>\n",
       "    </tr>\n",
       "    <tr>\n",
       "      <th>mean</th>\n",
       "      <td>120.942374</td>\n",
       "      <td>7.298383</td>\n",
       "      <td>627.095475</td>\n",
       "      <td>118.291052</td>\n",
       "      <td>9.237061</td>\n",
       "      <td>7.555986</td>\n",
       "      <td>1.196648</td>\n",
       "      <td>60.078194</td>\n",
       "      <td>0.0</td>\n",
       "      <td>7.110031</td>\n",
       "      <td>1308.154425</td>\n",
       "      <td>232.462291</td>\n",
       "      <td>11.540912</td>\n",
       "      <td>9.340723</td>\n",
       "      <td>1.148814</td>\n",
       "      <td>120.596046</td>\n",
       "    </tr>\n",
       "    <tr>\n",
       "      <th>std</th>\n",
       "      <td>25.483305</td>\n",
       "      <td>0.963094</td>\n",
       "      <td>238.361301</td>\n",
       "      <td>42.148712</td>\n",
       "      <td>5.541700</td>\n",
       "      <td>4.174949</td>\n",
       "      <td>0.296580</td>\n",
       "      <td>22.920865</td>\n",
       "      <td>0.0</td>\n",
       "      <td>2.918959</td>\n",
       "      <td>1021.050440</td>\n",
       "      <td>176.857803</td>\n",
       "      <td>12.086659</td>\n",
       "      <td>8.651105</td>\n",
       "      <td>0.357940</td>\n",
       "      <td>94.617510</td>\n",
       "    </tr>\n",
       "    <tr>\n",
       "      <th>min</th>\n",
       "      <td>42.000000</td>\n",
       "      <td>2.400000</td>\n",
       "      <td>95.000000</td>\n",
       "      <td>15.000000</td>\n",
       "      <td>0.000000</td>\n",
       "      <td>0.000000</td>\n",
       "      <td>0.000000</td>\n",
       "      <td>8.000000</td>\n",
       "      <td>0.0</td>\n",
       "      <td>1.000000</td>\n",
       "      <td>18.000000</td>\n",
       "      <td>1.000000</td>\n",
       "      <td>0.000000</td>\n",
       "      <td>0.000000</td>\n",
       "      <td>0.000000</td>\n",
       "      <td>1.000000</td>\n",
       "    </tr>\n",
       "    <tr>\n",
       "      <th>25%</th>\n",
       "      <td>104.000000</td>\n",
       "      <td>6.700000</td>\n",
       "      <td>431.000000</td>\n",
       "      <td>83.000000</td>\n",
       "      <td>5.000000</td>\n",
       "      <td>4.000000</td>\n",
       "      <td>1.000000</td>\n",
       "      <td>41.000000</td>\n",
       "      <td>0.0</td>\n",
       "      <td>5.000000</td>\n",
       "      <td>682.000000</td>\n",
       "      <td>124.000000</td>\n",
       "      <td>4.000000</td>\n",
       "      <td>4.000000</td>\n",
       "      <td>1.000000</td>\n",
       "      <td>63.000000</td>\n",
       "    </tr>\n",
       "    <tr>\n",
       "      <th>50%</th>\n",
       "      <td>118.000000</td>\n",
       "      <td>7.400000</td>\n",
       "      <td>593.000000</td>\n",
       "      <td>114.000000</td>\n",
       "      <td>8.000000</td>\n",
       "      <td>7.000000</td>\n",
       "      <td>1.120000</td>\n",
       "      <td>58.000000</td>\n",
       "      <td>0.0</td>\n",
       "      <td>8.000000</td>\n",
       "      <td>947.000000</td>\n",
       "      <td>171.000000</td>\n",
       "      <td>8.000000</td>\n",
       "      <td>7.000000</td>\n",
       "      <td>1.070000</td>\n",
       "      <td>87.000000</td>\n",
       "    </tr>\n",
       "    <tr>\n",
       "      <th>75%</th>\n",
       "      <td>135.000000</td>\n",
       "      <td>8.000000</td>\n",
       "      <td>800.000000</td>\n",
       "      <td>148.000000</td>\n",
       "      <td>12.000000</td>\n",
       "      <td>10.000000</td>\n",
       "      <td>1.310000</td>\n",
       "      <td>78.000000</td>\n",
       "      <td>0.0</td>\n",
       "      <td>10.000000</td>\n",
       "      <td>1575.000000</td>\n",
       "      <td>280.000000</td>\n",
       "      <td>14.000000</td>\n",
       "      <td>12.000000</td>\n",
       "      <td>1.250000</td>\n",
       "      <td>145.000000</td>\n",
       "    </tr>\n",
       "    <tr>\n",
       "      <th>max</th>\n",
       "      <td>321.000000</td>\n",
       "      <td>9.500000</td>\n",
       "      <td>1077.000000</td>\n",
       "      <td>212.000000</td>\n",
       "      <td>31.000000</td>\n",
       "      <td>25.000000</td>\n",
       "      <td>3.330000</td>\n",
       "      <td>144.000000</td>\n",
       "      <td>0.0</td>\n",
       "      <td>10.000000</td>\n",
       "      <td>14963.000000</td>\n",
       "      <td>2673.000000</td>\n",
       "      <td>213.000000</td>\n",
       "      <td>179.000000</td>\n",
       "      <td>45.000000</td>\n",
       "      <td>1333.000000</td>\n",
       "    </tr>\n",
       "  </tbody>\n",
       "</table>\n",
       "</div>"
      ],
      "text/plain": [
       "            duration    film_rating  summary_char_count  summary_word_count  \\\n",
       "count  422989.000000  422989.000000       422989.000000       422989.000000   \n",
       "mean      120.942374       7.298383          627.095475          118.291052   \n",
       "std        25.483305       0.963094          238.361301           42.148712   \n",
       "min        42.000000       2.400000           95.000000           15.000000   \n",
       "25%       104.000000       6.700000          431.000000           83.000000   \n",
       "50%       118.000000       7.400000          593.000000          114.000000   \n",
       "75%       135.000000       8.000000          800.000000          148.000000   \n",
       "max       321.000000       9.500000         1077.000000          212.000000   \n",
       "\n",
       "       summary_entity_count  summary_unique_entities  summary_avg_entity_freq  \\\n",
       "count         422989.000000            422989.000000            422989.000000   \n",
       "mean               9.237061                 7.555986                 1.196648   \n",
       "std                5.541700                 4.174949                 0.296580   \n",
       "min                0.000000                 0.000000                 0.000000   \n",
       "25%                5.000000                 4.000000                 1.000000   \n",
       "50%                8.000000                 7.000000                 1.120000   \n",
       "75%               12.000000                10.000000                 1.310000   \n",
       "max               31.000000                25.000000                 3.330000   \n",
       "\n",
       "       summary_token_count  is_spoiler  reviewer_rating  review_char_count  \\\n",
       "count        422989.000000    422989.0    422989.000000      422989.000000   \n",
       "mean             60.078194         0.0         7.110031        1308.154425   \n",
       "std              22.920865         0.0         2.918959        1021.050440   \n",
       "min               8.000000         0.0         1.000000          18.000000   \n",
       "25%              41.000000         0.0         5.000000         682.000000   \n",
       "50%              58.000000         0.0         8.000000         947.000000   \n",
       "75%              78.000000         0.0        10.000000        1575.000000   \n",
       "max             144.000000         0.0        10.000000       14963.000000   \n",
       "\n",
       "       review_word_count  review_entity_count  review_unique_entities  \\\n",
       "count      422989.000000        422989.000000           422989.000000   \n",
       "mean          232.462291            11.540912                9.340723   \n",
       "std           176.857803            12.086659                8.651105   \n",
       "min             1.000000             0.000000                0.000000   \n",
       "25%           124.000000             4.000000                4.000000   \n",
       "50%           171.000000             8.000000                7.000000   \n",
       "75%           280.000000            14.000000               12.000000   \n",
       "max          2673.000000           213.000000              179.000000   \n",
       "\n",
       "       review_avg_entity_freq  review_token_count  \n",
       "count           422989.000000       422989.000000  \n",
       "mean                 1.148814          120.596046  \n",
       "std                  0.357940           94.617510  \n",
       "min                  0.000000            1.000000  \n",
       "25%                  1.000000           63.000000  \n",
       "50%                  1.070000           87.000000  \n",
       "75%                  1.250000          145.000000  \n",
       "max                 45.000000         1333.000000  "
      ]
     },
     "execution_count": 74,
     "metadata": {},
     "output_type": "execute_result"
    }
   ],
   "source": [
    "merged_df[merged_df.is_spoiler == 0].describe()"
   ]
  },
  {
   "cell_type": "markdown",
   "id": "67c625f2",
   "metadata": {
    "heading_collapsed": true
   },
   "source": [
    "# Explore spoilers vs non-spoilers"
   ]
  },
  {
   "cell_type": "markdown",
   "id": "4892e270",
   "metadata": {
    "hidden": true
   },
   "source": [
    "Initial observations from the describe calls on reviews marked as spoiler versus ones that are not:\n",
    "- The reviewer rating is about half a point lower on average for reviews marked as spoilers\n",
    "- The review word count of a spoiler review is longer on average by about 44% (232 -> 335), but does have a more variation\n",
    "- Rougly the same can be said about the entity counts (raw and unique)\n",
    "\n",
    "It looks like there is nothing glaringly obvious about the difference between spoiler and non-spoiler reviews"
   ]
  },
  {
   "cell_type": "markdown",
   "id": "7b39f5c4",
   "metadata": {
    "heading_collapsed": true,
    "hidden": true
   },
   "source": [
    "## frequency"
   ]
  },
  {
   "cell_type": "code",
   "execution_count": 50,
   "id": "a583fd50",
   "metadata": {
    "ExecuteTime": {
     "end_time": "2022-04-22T14:55:13.920400Z",
     "start_time": "2022-04-22T14:55:13.821452Z"
    },
    "hidden": true
   },
   "outputs": [
    {
     "data": {
      "text/plain": [
       "<AxesSubplot:ylabel='None'>"
      ]
     },
     "execution_count": 50,
     "metadata": {},
     "output_type": "execute_result"
    },
    {
     "data": {
      "image/png": "[encoded data removed]",
      "text/plain": [
       "<Figure size 432x288 with 1 Axes>"
      ]
     },
     "metadata": {},
     "output_type": "display_data"
    }
   ],
   "source": [
    "merged_df.groupby('is_spoiler').size().plot(kind='pie')"
   ]
  },
  {
   "cell_type": "markdown",
   "id": "475fa702",
   "metadata": {
    "heading_collapsed": true,
    "hidden": true
   },
   "source": [
    "## by genre"
   ]
  },
  {
   "cell_type": "markdown",
   "id": "f87bc1b1",
   "metadata": {
    "hidden": true
   },
   "source": [
    "Pull just the genre feature along with the target 'is_spoiler' so that each film is represented in each genre it's a part of."
   ]
  },
  {
   "cell_type": "code",
   "execution_count": 81,
   "id": "d276d40f",
   "metadata": {
    "ExecuteTime": {
     "end_time": "2022-04-22T15:36:02.118696Z",
     "start_time": "2022-04-22T15:36:01.430945Z"
    },
    "hidden": true
   },
   "outputs": [],
   "source": [
    "genres = merged_df[['genre', 'is_spoiler']].explode('genre').copy()"
   ]
  },
  {
   "cell_type": "code",
   "execution_count": 82,
   "id": "93eb1ff6",
   "metadata": {
    "ExecuteTime": {
     "end_time": "2022-04-22T15:36:04.212098Z",
     "start_time": "2022-04-22T15:36:03.730511Z"
    },
    "hidden": true
   },
   "outputs": [
    {
     "data": {
      "image/png": "[encoded data removed]",
      "text/plain": [
       "<Figure size 1080x576 with 1 Axes>"
      ]
     },
     "metadata": {},
     "output_type": "display_data"
    }
   ],
   "source": [
    "genres.groupby(['genre', 'is_spoiler']).size().unstack().plot(kind='bar', stacked=True, figsize=(15,8));"
   ]
  },
  {
   "cell_type": "code",
   "execution_count": 83,
   "id": "8962f17a",
   "metadata": {
    "ExecuteTime": {
     "end_time": "2022-04-22T15:36:09.721691Z",
     "start_time": "2022-04-22T15:36:09.556399Z"
    },
    "hidden": true
   },
   "outputs": [],
   "source": [
    "genre_breakdown = genres.groupby(['genre', 'is_spoiler']).size().unstack()\n",
    "# genre_breakdown['percent_true'] = genre_breakdown.apply(lambda x: x..True / (x.True + x.False))"
   ]
  },
  {
   "cell_type": "code",
   "execution_count": 85,
   "id": "772c3c99",
   "metadata": {
    "ExecuteTime": {
     "end_time": "2022-04-22T15:36:18.134323Z",
     "start_time": "2022-04-22T15:36:18.122415Z"
    },
    "hidden": true
   },
   "outputs": [
    {
     "data": {
      "text/html": [
       "<div>\n",
       "<style scoped>\n",
       "    .dataframe tbody tr th:only-of-type {\n",
       "        vertical-align: middle;\n",
       "    }\n",
       "\n",
       "    .dataframe tbody tr th {\n",
       "        vertical-align: top;\n",
       "    }\n",
       "\n",
       "    .dataframe thead th {\n",
       "        text-align: right;\n",
       "    }\n",
       "</style>\n",
       "<table border=\"1\" class=\"dataframe\">\n",
       "  <thead>\n",
       "    <tr style=\"text-align: right;\">\n",
       "      <th>is_spoiler</th>\n",
       "      <th>0</th>\n",
       "      <th>1</th>\n",
       "    </tr>\n",
       "    <tr>\n",
       "      <th>genre</th>\n",
       "      <th></th>\n",
       "      <th></th>\n",
       "    </tr>\n",
       "  </thead>\n",
       "  <tbody>\n",
       "    <tr>\n",
       "      <th>Action</th>\n",
       "      <td>136820</td>\n",
       "      <td>53897</td>\n",
       "    </tr>\n",
       "    <tr>\n",
       "      <th>Adventure</th>\n",
       "      <td>133559</td>\n",
       "      <td>53734</td>\n",
       "    </tr>\n",
       "    <tr>\n",
       "      <th>Animation</th>\n",
       "      <td>19763</td>\n",
       "      <td>6834</td>\n",
       "    </tr>\n",
       "    <tr>\n",
       "      <th>Biography</th>\n",
       "      <td>25115</td>\n",
       "      <td>7992</td>\n",
       "    </tr>\n",
       "    <tr>\n",
       "      <th>Comedy</th>\n",
       "      <td>106658</td>\n",
       "      <td>29315</td>\n",
       "    </tr>\n",
       "    <tr>\n",
       "      <th>Crime</th>\n",
       "      <td>82659</td>\n",
       "      <td>27011</td>\n",
       "    </tr>\n",
       "    <tr>\n",
       "      <th>Drama</th>\n",
       "      <td>215137</td>\n",
       "      <td>74230</td>\n",
       "    </tr>\n",
       "    <tr>\n",
       "      <th>Family</th>\n",
       "      <td>28857</td>\n",
       "      <td>10702</td>\n",
       "    </tr>\n",
       "    <tr>\n",
       "      <th>Fantasy</th>\n",
       "      <td>55404</td>\n",
       "      <td>21694</td>\n",
       "    </tr>\n",
       "    <tr>\n",
       "      <th>Film-Noir</th>\n",
       "      <td>1303</td>\n",
       "      <td>488</td>\n",
       "    </tr>\n",
       "    <tr>\n",
       "      <th>History</th>\n",
       "      <td>18371</td>\n",
       "      <td>5668</td>\n",
       "    </tr>\n",
       "    <tr>\n",
       "      <th>Horror</th>\n",
       "      <td>32905</td>\n",
       "      <td>13879</td>\n",
       "    </tr>\n",
       "    <tr>\n",
       "      <th>Music</th>\n",
       "      <td>6918</td>\n",
       "      <td>1838</td>\n",
       "    </tr>\n",
       "    <tr>\n",
       "      <th>Musical</th>\n",
       "      <td>4398</td>\n",
       "      <td>1120</td>\n",
       "    </tr>\n",
       "    <tr>\n",
       "      <th>Mystery</th>\n",
       "      <td>45510</td>\n",
       "      <td>18541</td>\n",
       "    </tr>\n",
       "    <tr>\n",
       "      <th>Romance</th>\n",
       "      <td>52146</td>\n",
       "      <td>16155</td>\n",
       "    </tr>\n",
       "    <tr>\n",
       "      <th>Sci-Fi</th>\n",
       "      <td>65727</td>\n",
       "      <td>29823</td>\n",
       "    </tr>\n",
       "    <tr>\n",
       "      <th>Sport</th>\n",
       "      <td>6372</td>\n",
       "      <td>2012</td>\n",
       "    </tr>\n",
       "    <tr>\n",
       "      <th>Thriller</th>\n",
       "      <td>68452</td>\n",
       "      <td>26771</td>\n",
       "    </tr>\n",
       "    <tr>\n",
       "      <th>War</th>\n",
       "      <td>7742</td>\n",
       "      <td>2486</td>\n",
       "    </tr>\n",
       "    <tr>\n",
       "      <th>Western</th>\n",
       "      <td>3532</td>\n",
       "      <td>1209</td>\n",
       "    </tr>\n",
       "  </tbody>\n",
       "</table>\n",
       "</div>"
      ],
      "text/plain": [
       "is_spoiler       0      1\n",
       "genre                    \n",
       "Action      136820  53897\n",
       "Adventure   133559  53734\n",
       "Animation    19763   6834\n",
       "Biography    25115   7992\n",
       "Comedy      106658  29315\n",
       "Crime        82659  27011\n",
       "Drama       215137  74230\n",
       "Family       28857  10702\n",
       "Fantasy      55404  21694\n",
       "Film-Noir     1303    488\n",
       "History      18371   5668\n",
       "Horror       32905  13879\n",
       "Music         6918   1838\n",
       "Musical       4398   1120\n",
       "Mystery      45510  18541\n",
       "Romance      52146  16155\n",
       "Sci-Fi       65727  29823\n",
       "Sport         6372   2012\n",
       "Thriller     68452  26771\n",
       "War           7742   2486\n",
       "Western       3532   1209"
      ]
     },
     "execution_count": 85,
     "metadata": {},
     "output_type": "execute_result"
    }
   ],
   "source": [
    "genre_breakdown"
   ]
  },
  {
   "cell_type": "code",
   "execution_count": null,
   "id": "c9d88b1e",
   "metadata": {
    "hidden": true
   },
   "outputs": [],
   "source": []
  },
  {
   "cell_type": "markdown",
   "id": "b22c4506",
   "metadata": {
    "heading_collapsed": true,
    "hidden": true
   },
   "source": [
    "## by user ID"
   ]
  },
  {
   "cell_type": "code",
   "execution_count": 57,
   "id": "d25bfe0c",
   "metadata": {
    "ExecuteTime": {
     "end_time": "2022-04-22T15:01:11.239611Z",
     "start_time": "2022-04-22T15:01:10.957388Z"
    },
    "hidden": true
   },
   "outputs": [
    {
     "data": {
      "text/plain": [
       "ur2898520     1303\n",
       "ur4248714     1021\n",
       "ur0453068      806\n",
       "ur60028700     770\n",
       "ur20552756     755\n",
       "              ... \n",
       "ur13992719       1\n",
       "ur44287431       1\n",
       "ur23173336       1\n",
       "ur33891945       1\n",
       "ur0156431        1\n",
       "Name: user_id, Length: 263407, dtype: int64"
      ]
     },
     "execution_count": 57,
     "metadata": {},
     "output_type": "execute_result"
    }
   ],
   "source": [
    "user_ids = merged_df[['user_id', 'is_spoiler']].copy()\n",
    "user_ids.user_id.value_counts()"
   ]
  },
  {
   "cell_type": "code",
   "execution_count": 348,
   "id": "a4ddc88c",
   "metadata": {
    "ExecuteTime": {
     "end_time": "2022-04-24T14:36:51.245563Z",
     "start_time": "2022-04-24T14:36:50.842785Z"
    },
    "hidden": true
   },
   "outputs": [
    {
     "data": {
      "text/plain": [
       "2.1788069413493187"
      ]
     },
     "execution_count": 348,
     "metadata": {},
     "output_type": "execute_result"
    }
   ],
   "source": [
    "user_ids.user_id.value_counts().values.sum() / len(user_ids.user_id.value_counts())"
   ]
  },
  {
   "cell_type": "markdown",
   "id": "0105ff73",
   "metadata": {
    "hidden": true
   },
   "source": [
    "There are 263,407 unique users represented in the data. We can see that the vast majority do not comment more than once. The average number of comments is 2.17. Lets look at our top 20 commenters."
   ]
  },
  {
   "cell_type": "code",
   "execution_count": 349,
   "id": "032fb751",
   "metadata": {
    "ExecuteTime": {
     "end_time": "2022-04-24T14:37:32.185563Z",
     "start_time": "2022-04-24T14:37:31.512961Z"
    },
    "hidden": true
   },
   "outputs": [
    {
     "data": {
      "text/html": [
       "<div>\n",
       "<style scoped>\n",
       "    .dataframe tbody tr th:only-of-type {\n",
       "        vertical-align: middle;\n",
       "    }\n",
       "\n",
       "    .dataframe tbody tr th {\n",
       "        vertical-align: top;\n",
       "    }\n",
       "\n",
       "    .dataframe thead th {\n",
       "        text-align: right;\n",
       "    }\n",
       "</style>\n",
       "<table border=\"1\" class=\"dataframe\">\n",
       "  <thead>\n",
       "    <tr style=\"text-align: right;\">\n",
       "      <th>is_spoiler</th>\n",
       "      <th>0</th>\n",
       "      <th>1</th>\n",
       "    </tr>\n",
       "    <tr>\n",
       "      <th>user_id</th>\n",
       "      <th></th>\n",
       "      <th></th>\n",
       "    </tr>\n",
       "  </thead>\n",
       "  <tbody>\n",
       "    <tr>\n",
       "      <th>ur2898520</th>\n",
       "      <td>1283.0</td>\n",
       "      <td>20.0</td>\n",
       "    </tr>\n",
       "    <tr>\n",
       "      <th>ur20552756</th>\n",
       "      <td>742.0</td>\n",
       "      <td>13.0</td>\n",
       "    </tr>\n",
       "    <tr>\n",
       "      <th>ur0453068</th>\n",
       "      <td>735.0</td>\n",
       "      <td>71.0</td>\n",
       "    </tr>\n",
       "    <tr>\n",
       "      <th>ur1234929</th>\n",
       "      <td>670.0</td>\n",
       "      <td>10.0</td>\n",
       "    </tr>\n",
       "    <tr>\n",
       "      <th>ur4888011</th>\n",
       "      <td>658.0</td>\n",
       "      <td>43.0</td>\n",
       "    </tr>\n",
       "    <tr>\n",
       "      <th>ur2488512</th>\n",
       "      <td>616.0</td>\n",
       "      <td>65.0</td>\n",
       "    </tr>\n",
       "    <tr>\n",
       "      <th>ur17646017</th>\n",
       "      <td>587.0</td>\n",
       "      <td>41.0</td>\n",
       "    </tr>\n",
       "    <tr>\n",
       "      <th>ur23055365</th>\n",
       "      <td>561.0</td>\n",
       "      <td>16.0</td>\n",
       "    </tr>\n",
       "    <tr>\n",
       "      <th>ur4445210</th>\n",
       "      <td>539.0</td>\n",
       "      <td>45.0</td>\n",
       "    </tr>\n",
       "    <tr>\n",
       "      <th>ur5876717</th>\n",
       "      <td>539.0</td>\n",
       "      <td>23.0</td>\n",
       "    </tr>\n",
       "    <tr>\n",
       "      <th>ur8503729</th>\n",
       "      <td>529.0</td>\n",
       "      <td>27.0</td>\n",
       "    </tr>\n",
       "    <tr>\n",
       "      <th>ur2093818</th>\n",
       "      <td>523.0</td>\n",
       "      <td>6.0</td>\n",
       "    </tr>\n",
       "    <tr>\n",
       "      <th>ur4532636</th>\n",
       "      <td>505.0</td>\n",
       "      <td>13.0</td>\n",
       "    </tr>\n",
       "    <tr>\n",
       "      <th>ur1293485</th>\n",
       "      <td>493.0</td>\n",
       "      <td>167.0</td>\n",
       "    </tr>\n",
       "    <tr>\n",
       "      <th>ur0989035</th>\n",
       "      <td>491.0</td>\n",
       "      <td>3.0</td>\n",
       "    </tr>\n",
       "    <tr>\n",
       "      <th>ur2496397</th>\n",
       "      <td>487.0</td>\n",
       "      <td>4.0</td>\n",
       "    </tr>\n",
       "    <tr>\n",
       "      <th>ur1416505</th>\n",
       "      <td>478.0</td>\n",
       "      <td>24.0</td>\n",
       "    </tr>\n",
       "    <tr>\n",
       "      <th>ur33374263</th>\n",
       "      <td>447.0</td>\n",
       "      <td>NaN</td>\n",
       "    </tr>\n",
       "    <tr>\n",
       "      <th>ur6216723</th>\n",
       "      <td>439.0</td>\n",
       "      <td>10.0</td>\n",
       "    </tr>\n",
       "    <tr>\n",
       "      <th>ur16161013</th>\n",
       "      <td>416.0</td>\n",
       "      <td>9.0</td>\n",
       "    </tr>\n",
       "  </tbody>\n",
       "</table>\n",
       "</div>"
      ],
      "text/plain": [
       "is_spoiler       0      1\n",
       "user_id                  \n",
       "ur2898520   1283.0   20.0\n",
       "ur20552756   742.0   13.0\n",
       "ur0453068    735.0   71.0\n",
       "ur1234929    670.0   10.0\n",
       "ur4888011    658.0   43.0\n",
       "ur2488512    616.0   65.0\n",
       "ur17646017   587.0   41.0\n",
       "ur23055365   561.0   16.0\n",
       "ur4445210    539.0   45.0\n",
       "ur5876717    539.0   23.0\n",
       "ur8503729    529.0   27.0\n",
       "ur2093818    523.0    6.0\n",
       "ur4532636    505.0   13.0\n",
       "ur1293485    493.0  167.0\n",
       "ur0989035    491.0    3.0\n",
       "ur2496397    487.0    4.0\n",
       "ur1416505    478.0   24.0\n",
       "ur33374263   447.0    NaN\n",
       "ur6216723    439.0   10.0\n",
       "ur16161013   416.0    9.0"
      ]
     },
     "execution_count": 349,
     "metadata": {},
     "output_type": "execute_result"
    }
   ],
   "source": [
    "user_id_split_df = user_ids.groupby(['user_id', 'is_spoiler']).size().unstack().sort_values(by=0, ascending=False)\n",
    "user_id_split_df.\n",
    "user_id_split_df[:20]"
   ]
  },
  {
   "cell_type": "markdown",
   "id": "31a9ff01",
   "metadata": {
    "hidden": true
   },
   "source": [
    "There are some null values where the user only has comments of one target class or the other. We will set them to zero"
   ]
  },
  {
   "cell_type": "code",
   "execution_count": 357,
   "id": "4fec7b63",
   "metadata": {
    "ExecuteTime": {
     "end_time": "2022-04-24T14:41:07.031888Z",
     "start_time": "2022-04-24T14:41:07.018993Z"
    },
    "hidden": true
   },
   "outputs": [],
   "source": [
    "user_id_split_df.fillna(0.0, inplace=True)"
   ]
  },
  {
   "cell_type": "code",
   "execution_count": 365,
   "id": "c619c24c",
   "metadata": {
    "ExecuteTime": {
     "end_time": "2022-04-24T14:44:55.648814Z",
     "start_time": "2022-04-24T14:44:55.629975Z"
    },
    "hidden": true
   },
   "outputs": [
    {
     "data": {
      "text/html": [
       "<div>\n",
       "<style scoped>\n",
       "    .dataframe tbody tr th:only-of-type {\n",
       "        vertical-align: middle;\n",
       "    }\n",
       "\n",
       "    .dataframe tbody tr th {\n",
       "        vertical-align: top;\n",
       "    }\n",
       "\n",
       "    .dataframe thead th {\n",
       "        text-align: right;\n",
       "    }\n",
       "</style>\n",
       "<table border=\"1\" class=\"dataframe\">\n",
       "  <thead>\n",
       "    <tr style=\"text-align: right;\">\n",
       "      <th></th>\n",
       "      <th>user_id</th>\n",
       "      <th>non_spoiler</th>\n",
       "      <th>spoiler</th>\n",
       "    </tr>\n",
       "  </thead>\n",
       "  <tbody>\n",
       "    <tr>\n",
       "      <th>0</th>\n",
       "      <td>ur2898520</td>\n",
       "      <td>1283.0</td>\n",
       "      <td>20.0</td>\n",
       "    </tr>\n",
       "    <tr>\n",
       "      <th>1</th>\n",
       "      <td>ur20552756</td>\n",
       "      <td>742.0</td>\n",
       "      <td>13.0</td>\n",
       "    </tr>\n",
       "    <tr>\n",
       "      <th>2</th>\n",
       "      <td>ur0453068</td>\n",
       "      <td>735.0</td>\n",
       "      <td>71.0</td>\n",
       "    </tr>\n",
       "    <tr>\n",
       "      <th>3</th>\n",
       "      <td>ur1234929</td>\n",
       "      <td>670.0</td>\n",
       "      <td>10.0</td>\n",
       "    </tr>\n",
       "    <tr>\n",
       "      <th>4</th>\n",
       "      <td>ur4888011</td>\n",
       "      <td>658.0</td>\n",
       "      <td>43.0</td>\n",
       "    </tr>\n",
       "    <tr>\n",
       "      <th>...</th>\n",
       "      <td>...</td>\n",
       "      <td>...</td>\n",
       "      <td>...</td>\n",
       "    </tr>\n",
       "    <tr>\n",
       "      <th>263402</th>\n",
       "      <td>ur9990913</td>\n",
       "      <td>0.0</td>\n",
       "      <td>1.0</td>\n",
       "    </tr>\n",
       "    <tr>\n",
       "      <th>263403</th>\n",
       "      <td>ur9992465</td>\n",
       "      <td>0.0</td>\n",
       "      <td>1.0</td>\n",
       "    </tr>\n",
       "    <tr>\n",
       "      <th>263404</th>\n",
       "      <td>ur9993627</td>\n",
       "      <td>0.0</td>\n",
       "      <td>1.0</td>\n",
       "    </tr>\n",
       "    <tr>\n",
       "      <th>263405</th>\n",
       "      <td>ur9995532</td>\n",
       "      <td>0.0</td>\n",
       "      <td>1.0</td>\n",
       "    </tr>\n",
       "    <tr>\n",
       "      <th>263406</th>\n",
       "      <td>ur9999060</td>\n",
       "      <td>0.0</td>\n",
       "      <td>1.0</td>\n",
       "    </tr>\n",
       "  </tbody>\n",
       "</table>\n",
       "<p>263407 rows × 3 columns</p>\n",
       "</div>"
      ],
      "text/plain": [
       "           user_id  non_spoiler  spoiler\n",
       "0        ur2898520       1283.0     20.0\n",
       "1       ur20552756        742.0     13.0\n",
       "2        ur0453068        735.0     71.0\n",
       "3        ur1234929        670.0     10.0\n",
       "4        ur4888011        658.0     43.0\n",
       "...            ...          ...      ...\n",
       "263402   ur9990913          0.0      1.0\n",
       "263403   ur9992465          0.0      1.0\n",
       "263404   ur9993627          0.0      1.0\n",
       "263405   ur9995532          0.0      1.0\n",
       "263406   ur9999060          0.0      1.0\n",
       "\n",
       "[263407 rows x 3 columns]"
      ]
     },
     "execution_count": 365,
     "metadata": {},
     "output_type": "execute_result"
    }
   ],
   "source": [
    "testing = user_id_split_df.reset_index()\n",
    "testing.columns = ['user_id', 'non_spoiler', 'spoiler']\n",
    "testing"
   ]
  },
  {
   "cell_type": "code",
   "execution_count": 368,
   "id": "5a752a67",
   "metadata": {
    "ExecuteTime": {
     "end_time": "2022-04-24T14:50:42.160238Z",
     "start_time": "2022-04-24T14:50:42.144893Z"
    },
    "hidden": true
   },
   "outputs": [],
   "source": [
    "def total_and_percent(row):\n",
    "    \n",
    "    total = row.non_spoiler + row.spoiler\n",
    "    row['total'] = total\n",
    "    \n",
    "    if row.non_spoiler == 0.0:\n",
    "        row['percent_spoiled'] = 1.0\n",
    "        \n",
    "    else:\n",
    "        row['percent_spoiled'] = row.spoiler / total\n",
    "        \n",
    "    return row"
   ]
  },
  {
   "cell_type": "code",
   "execution_count": 369,
   "id": "b56f0fd5",
   "metadata": {
    "ExecuteTime": {
     "end_time": "2022-04-24T14:55:38.927836Z",
     "start_time": "2022-04-24T14:51:28.094723Z"
    },
    "hidden": true
   },
   "outputs": [],
   "source": [
    "testing = testing.apply(total_and_percent, axis=1)"
   ]
  },
  {
   "cell_type": "code",
   "execution_count": 371,
   "id": "c0c3ac41",
   "metadata": {
    "ExecuteTime": {
     "end_time": "2022-04-24T14:58:14.511029Z",
     "start_time": "2022-04-24T14:58:14.488213Z"
    },
    "hidden": true
   },
   "outputs": [
    {
     "data": {
      "text/html": [
       "<div>\n",
       "<style scoped>\n",
       "    .dataframe tbody tr th:only-of-type {\n",
       "        vertical-align: middle;\n",
       "    }\n",
       "\n",
       "    .dataframe tbody tr th {\n",
       "        vertical-align: top;\n",
       "    }\n",
       "\n",
       "    .dataframe thead th {\n",
       "        text-align: right;\n",
       "    }\n",
       "</style>\n",
       "<table border=\"1\" class=\"dataframe\">\n",
       "  <thead>\n",
       "    <tr style=\"text-align: right;\">\n",
       "      <th></th>\n",
       "      <th>user_id</th>\n",
       "      <th>non_spoiler</th>\n",
       "      <th>spoiler</th>\n",
       "      <th>total</th>\n",
       "      <th>percent_spoiled</th>\n",
       "    </tr>\n",
       "  </thead>\n",
       "  <tbody>\n",
       "    <tr>\n",
       "      <th>263335</th>\n",
       "      <td>ur9938570</td>\n",
       "      <td>0.0</td>\n",
       "      <td>112.0</td>\n",
       "      <td>112.0</td>\n",
       "      <td>1.0</td>\n",
       "    </tr>\n",
       "    <tr>\n",
       "      <th>225272</th>\n",
       "      <td>ur24052844</td>\n",
       "      <td>0.0</td>\n",
       "      <td>13.0</td>\n",
       "      <td>13.0</td>\n",
       "      <td>1.0</td>\n",
       "    </tr>\n",
       "    <tr>\n",
       "      <th>225820</th>\n",
       "      <td>ur24421425</td>\n",
       "      <td>0.0</td>\n",
       "      <td>7.0</td>\n",
       "      <td>7.0</td>\n",
       "      <td>1.0</td>\n",
       "    </tr>\n",
       "    <tr>\n",
       "      <th>225804</th>\n",
       "      <td>ur24409764</td>\n",
       "      <td>0.0</td>\n",
       "      <td>10.0</td>\n",
       "      <td>10.0</td>\n",
       "      <td>1.0</td>\n",
       "    </tr>\n",
       "    <tr>\n",
       "      <th>225796</th>\n",
       "      <td>ur24403695</td>\n",
       "      <td>0.0</td>\n",
       "      <td>14.0</td>\n",
       "      <td>14.0</td>\n",
       "      <td>1.0</td>\n",
       "    </tr>\n",
       "    <tr>\n",
       "      <th>225711</th>\n",
       "      <td>ur24340247</td>\n",
       "      <td>0.0</td>\n",
       "      <td>82.0</td>\n",
       "      <td>82.0</td>\n",
       "      <td>1.0</td>\n",
       "    </tr>\n",
       "    <tr>\n",
       "      <th>225652</th>\n",
       "      <td>ur24310671</td>\n",
       "      <td>0.0</td>\n",
       "      <td>6.0</td>\n",
       "      <td>6.0</td>\n",
       "      <td>1.0</td>\n",
       "    </tr>\n",
       "    <tr>\n",
       "      <th>225619</th>\n",
       "      <td>ur24292397</td>\n",
       "      <td>0.0</td>\n",
       "      <td>9.0</td>\n",
       "      <td>9.0</td>\n",
       "      <td>1.0</td>\n",
       "    </tr>\n",
       "    <tr>\n",
       "      <th>225386</th>\n",
       "      <td>ur24139670</td>\n",
       "      <td>0.0</td>\n",
       "      <td>6.0</td>\n",
       "      <td>6.0</td>\n",
       "      <td>1.0</td>\n",
       "    </tr>\n",
       "    <tr>\n",
       "      <th>225279</th>\n",
       "      <td>ur24062644</td>\n",
       "      <td>0.0</td>\n",
       "      <td>54.0</td>\n",
       "      <td>54.0</td>\n",
       "      <td>1.0</td>\n",
       "    </tr>\n",
       "    <tr>\n",
       "      <th>225218</th>\n",
       "      <td>ur24008028</td>\n",
       "      <td>0.0</td>\n",
       "      <td>8.0</td>\n",
       "      <td>8.0</td>\n",
       "      <td>1.0</td>\n",
       "    </tr>\n",
       "    <tr>\n",
       "      <th>225852</th>\n",
       "      <td>ur24440574</td>\n",
       "      <td>0.0</td>\n",
       "      <td>24.0</td>\n",
       "      <td>24.0</td>\n",
       "      <td>1.0</td>\n",
       "    </tr>\n",
       "    <tr>\n",
       "      <th>225202</th>\n",
       "      <td>ur24000799</td>\n",
       "      <td>0.0</td>\n",
       "      <td>7.0</td>\n",
       "      <td>7.0</td>\n",
       "      <td>1.0</td>\n",
       "    </tr>\n",
       "    <tr>\n",
       "      <th>225178</th>\n",
       "      <td>ur23983265</td>\n",
       "      <td>0.0</td>\n",
       "      <td>8.0</td>\n",
       "      <td>8.0</td>\n",
       "      <td>1.0</td>\n",
       "    </tr>\n",
       "    <tr>\n",
       "      <th>225121</th>\n",
       "      <td>ur23927180</td>\n",
       "      <td>0.0</td>\n",
       "      <td>6.0</td>\n",
       "      <td>6.0</td>\n",
       "      <td>1.0</td>\n",
       "    </tr>\n",
       "    <tr>\n",
       "      <th>225055</th>\n",
       "      <td>ur23885365</td>\n",
       "      <td>0.0</td>\n",
       "      <td>7.0</td>\n",
       "      <td>7.0</td>\n",
       "      <td>1.0</td>\n",
       "    </tr>\n",
       "    <tr>\n",
       "      <th>225049</th>\n",
       "      <td>ur23882543</td>\n",
       "      <td>0.0</td>\n",
       "      <td>7.0</td>\n",
       "      <td>7.0</td>\n",
       "      <td>1.0</td>\n",
       "    </tr>\n",
       "    <tr>\n",
       "      <th>225007</th>\n",
       "      <td>ur23854444</td>\n",
       "      <td>0.0</td>\n",
       "      <td>7.0</td>\n",
       "      <td>7.0</td>\n",
       "      <td>1.0</td>\n",
       "    </tr>\n",
       "    <tr>\n",
       "      <th>224977</th>\n",
       "      <td>ur23832431</td>\n",
       "      <td>0.0</td>\n",
       "      <td>10.0</td>\n",
       "      <td>10.0</td>\n",
       "      <td>1.0</td>\n",
       "    </tr>\n",
       "    <tr>\n",
       "      <th>224840</th>\n",
       "      <td>ur23745625</td>\n",
       "      <td>0.0</td>\n",
       "      <td>10.0</td>\n",
       "      <td>10.0</td>\n",
       "      <td>1.0</td>\n",
       "    </tr>\n",
       "  </tbody>\n",
       "</table>\n",
       "</div>"
      ],
      "text/plain": [
       "           user_id  non_spoiler  spoiler  total  percent_spoiled\n",
       "263335   ur9938570          0.0    112.0  112.0              1.0\n",
       "225272  ur24052844          0.0     13.0   13.0              1.0\n",
       "225820  ur24421425          0.0      7.0    7.0              1.0\n",
       "225804  ur24409764          0.0     10.0   10.0              1.0\n",
       "225796  ur24403695          0.0     14.0   14.0              1.0\n",
       "225711  ur24340247          0.0     82.0   82.0              1.0\n",
       "225652  ur24310671          0.0      6.0    6.0              1.0\n",
       "225619  ur24292397          0.0      9.0    9.0              1.0\n",
       "225386  ur24139670          0.0      6.0    6.0              1.0\n",
       "225279  ur24062644          0.0     54.0   54.0              1.0\n",
       "225218  ur24008028          0.0      8.0    8.0              1.0\n",
       "225852  ur24440574          0.0     24.0   24.0              1.0\n",
       "225202  ur24000799          0.0      7.0    7.0              1.0\n",
       "225178  ur23983265          0.0      8.0    8.0              1.0\n",
       "225121  ur23927180          0.0      6.0    6.0              1.0\n",
       "225055  ur23885365          0.0      7.0    7.0              1.0\n",
       "225049  ur23882543          0.0      7.0    7.0              1.0\n",
       "225007  ur23854444          0.0      7.0    7.0              1.0\n",
       "224977  ur23832431          0.0     10.0   10.0              1.0\n",
       "224840  ur23745625          0.0     10.0   10.0              1.0"
      ]
     },
     "execution_count": 371,
     "metadata": {},
     "output_type": "execute_result"
    }
   ],
   "source": [
    "testing[testing.total > 5.0].sort_values(by='percent_spoiled', ascending=False)[:20]"
   ]
  },
  {
   "cell_type": "code",
   "execution_count": null,
   "id": "89e5ab05",
   "metadata": {
    "hidden": true
   },
   "outputs": [],
   "source": []
  },
  {
   "cell_type": "code",
   "execution_count": 343,
   "id": "c542dfc8",
   "metadata": {
    "ExecuteTime": {
     "end_time": "2022-04-24T14:33:11.841160Z",
     "start_time": "2022-04-24T14:33:10.760181Z"
    },
    "hidden": true
   },
   "outputs": [
    {
     "data": {
      "image/png": "[encoded data removed]",
      "text/plain": [
       "<Figure size 1080x576 with 1 Axes>"
      ]
     },
     "metadata": {
      "needs_background": "light"
     },
     "output_type": "display_data"
    }
   ],
   "source": [
    "# top 20 reviewers by total count, separated into spoiler/non\n",
    "user_ids.groupby(['user_id', 'is_spoiler']).size().unstack().sort_values(by=0, ascending=False)[:20].plot(kind='bar', stacked=True, figsize=(15,8));"
   ]
  },
  {
   "cell_type": "markdown",
   "id": "f1a6e02d",
   "metadata": {
    "heading_collapsed": true
   },
   "source": [
    "# Helper functions"
   ]
  },
  {
   "cell_type": "code",
   "execution_count": 336,
   "id": "0a2e2b66",
   "metadata": {
    "ExecuteTime": {
     "end_time": "2022-04-24T14:25:57.476833Z",
     "start_time": "2022-04-24T14:25:57.457957Z"
    },
    "hidden": true
   },
   "outputs": [],
   "source": [
    "def confusion_matrix_plot(y_true, y_pred, class_names):\n",
    "    cm = confusion_matrix(y_true, y_pred)\n",
    "    disp = ConfusionMatrixDisplay(confusion_matrix=cm, display_labels=class_names)\n",
    "    disp.plot(cmap=plt.cm.Blues)\n",
    "    return plt.show()\n",
    "\n",
    "def report(y_true, y_pred, class_names=['no_spoiler', 'spoiler']):\n",
    "    print(classification_report(y_true, y_pred, target_names=class_names))\n",
    "    confusion_matrix_plot(y_true, y_pred, class_names)"
   ]
  },
  {
   "cell_type": "markdown",
   "id": "6d7c1650",
   "metadata": {
    "hidden": true
   },
   "source": [
    "## Testing section"
   ]
  },
  {
   "cell_type": "markdown",
   "id": "6d489d26",
   "metadata": {
    "hidden": true
   },
   "source": [
    "Taking 1% of the large dataframe to run tests on, preserving the ratio of spoiler to non-spoiler reviews in the subset."
   ]
  },
  {
   "cell_type": "code",
   "execution_count": 144,
   "id": "f207c287",
   "metadata": {
    "ExecuteTime": {
     "end_time": "2022-04-22T17:11:44.313180Z",
     "start_time": "2022-04-22T17:11:44.009979Z"
    },
    "hidden": true
   },
   "outputs": [],
   "source": [
    "test_df = merged_df.groupby('is_spoiler').apply(lambda x: x.sample(frac=0.01))\n",
    "test_df.reset_index(drop=True, inplace=True)"
   ]
  },
  {
   "cell_type": "code",
   "execution_count": 146,
   "id": "b24ee2bc",
   "metadata": {
    "ExecuteTime": {
     "end_time": "2022-04-22T17:12:22.249739Z",
     "start_time": "2022-04-22T17:12:22.233371Z"
    },
    "hidden": true
   },
   "outputs": [
    {
     "data": {
      "text/plain": [
       "0    0.737062\n",
       "1    0.262938\n",
       "Name: is_spoiler, dtype: float64"
      ]
     },
     "execution_count": 146,
     "metadata": {},
     "output_type": "execute_result"
    }
   ],
   "source": [
    "test_df.is_spoiler.value_counts(normalize=True)"
   ]
  },
  {
   "cell_type": "code",
   "execution_count": null,
   "id": "7bc9aaac",
   "metadata": {
    "hidden": true
   },
   "outputs": [],
   "source": []
  },
  {
   "cell_type": "markdown",
   "id": "a13bfb02",
   "metadata": {
    "heading_collapsed": true
   },
   "source": [
    "# Non-language feature modeling"
   ]
  },
  {
   "cell_type": "markdown",
   "id": "156ec3ab",
   "metadata": {
    "hidden": true
   },
   "source": [
    "Features which don't pertain to the summary or review text include:\n",
    "- film duration\n",
    "- genre\n",
    "- rating\n",
    "- release date\n",
    "- review date\n",
    "- is_spoiler (target)"
   ]
  },
  {
   "cell_type": "code",
   "execution_count": 175,
   "id": "877939cf",
   "metadata": {
    "ExecuteTime": {
     "end_time": "2022-04-22T18:56:12.387778Z",
     "start_time": "2022-04-22T18:56:12.344638Z"
    },
    "hidden": true
   },
   "outputs": [],
   "source": [
    "non_lang_features = ['duration', 'genre', 'film_rating', 'release_date', 'review_date',\n",
    "                     'is_spoiler']\n",
    "non_language_df = merged_df[non_lang_features].copy()"
   ]
  },
  {
   "cell_type": "markdown",
   "id": "24c92400",
   "metadata": {
    "hidden": true
   },
   "source": [
    "Engineer a new feature: age of film at review"
   ]
  },
  {
   "cell_type": "code",
   "execution_count": 177,
   "id": "1e3bb42a",
   "metadata": {
    "ExecuteTime": {
     "end_time": "2022-04-22T18:56:40.312684Z",
     "start_time": "2022-04-22T18:56:17.585965Z"
    },
    "hidden": true
   },
   "outputs": [],
   "source": [
    "def film_age(df):\n",
    "    age = df.review_date - df.release_date\n",
    "    return age.days\n",
    "\n",
    "non_language_df['days_since_release'] = non_language_df.apply(film_age, axis=1)\n",
    "non_language_df.drop(['release_date', 'review_date'], axis=1, inplace=True)"
   ]
  },
  {
   "cell_type": "markdown",
   "id": "14b32ef8",
   "metadata": {
    "ExecuteTime": {
     "end_time": "2022-04-22T18:57:15.272689Z",
     "start_time": "2022-04-22T18:57:15.252325Z"
    },
    "hidden": true
   },
   "source": [
    "Encode the genres. [Inspiration](https://stackoverflow.com/questions/45312377/how-to-one-hot-encode-from-a-pandas-column-containing-a-list)"
   ]
  },
  {
   "cell_type": "code",
   "execution_count": 179,
   "id": "1405d5d6",
   "metadata": {
    "ExecuteTime": {
     "end_time": "2022-04-22T18:58:02.854084Z",
     "start_time": "2022-04-22T18:58:02.322443Z"
    },
    "hidden": true
   },
   "outputs": [],
   "source": [
    "s = non_language_df['genre'].explode()\n",
    "non_language_df = non_language_df[['duration', 'film_rating', 'is_spoiler',\n",
    "                                   'days_since_release']].join(pd.crosstab(s.index, s))"
   ]
  },
  {
   "cell_type": "markdown",
   "id": "c7581590",
   "metadata": {
    "heading_collapsed": true,
    "hidden": true
   },
   "source": [
    "## SGD Classifier"
   ]
  },
  {
   "cell_type": "markdown",
   "id": "299ce087",
   "metadata": {
    "ExecuteTime": {
     "end_time": "2022-04-25T17:12:06.246099Z",
     "start_time": "2022-04-25T17:12:06.151657Z"
    },
    "hidden": true
   },
   "source": [
    "![image info](https://scikit-learn.org/stable/_static/ml_map.png)"
   ]
  },
  {
   "cell_type": "markdown",
   "id": "d66d2a43",
   "metadata": {
    "hidden": true
   },
   "source": [
    "We are going to try using a SGD classifer to see how well it performs"
   ]
  },
  {
   "cell_type": "code",
   "execution_count": 385,
   "id": "f7d42bfd",
   "metadata": {
    "ExecuteTime": {
     "end_time": "2022-04-25T17:23:32.888242Z",
     "start_time": "2022-04-25T17:23:32.323369Z"
    },
    "hidden": true
   },
   "outputs": [],
   "source": [
    "# set X and y\n",
    "X = non_language_df.drop('is_spoiler', axis=1)\n",
    "y = non_language_df['is_spoiler']\n",
    "\n",
    "# perform train/test split\n",
    "X_train, X_test, y_train, y_test = train_test_split(X, y, test_size=0.2)\n",
    "\n",
    "# scale the predictors\n",
    "scaler = StandardScaler().fit(X_train)\n",
    "X_train_s = scaler.transform(X_train)\n",
    "X_test_s = scaler.transform(X_test)"
   ]
  },
  {
   "cell_type": "markdown",
   "id": "278e1bb1",
   "metadata": {
    "hidden": true
   },
   "source": [
    "Performing a grid search for optimized parameters. This runs in about 18 minutes, so it's commented out and the best parameters are listed below"
   ]
  },
  {
   "cell_type": "code",
   "execution_count": 195,
   "id": "0028996e",
   "metadata": {
    "ExecuteTime": {
     "end_time": "2022-04-22T19:41:08.118048Z",
     "start_time": "2022-04-22T19:41:08.109093Z"
    },
    "hidden": true
   },
   "outputs": [],
   "source": [
    "params = {\n",
    "    \"loss\" : [\"hinge\", \"log\", \"squared_hinge\", \"modified_huber\", \"perceptron\"],\n",
    "    \"alpha\" : [0.0001, 0.001, 0.01, 0.1],\n",
    "    \"penalty\" : [\"l2\", \"l1\", \"elasticnet\", \"none\"],\n",
    "}\n",
    "\n",
    "clf = SGDClassifier(max_iter=1000)\n",
    "grid = GridSearchCV(clf, param_grid=params, cv=10, n_jobs=-1)\n",
    "\n",
    "grid.fit(X_train, y_train)\n",
    "\n",
    "print(grid.best_params_)"
   ]
  },
  {
   "cell_type": "markdown",
   "id": "6d7d603a",
   "metadata": {
    "hidden": true
   },
   "source": [
    "Best params were:\n",
    "- alpha: 0.0001\n",
    "- loss: 'hinge'\n",
    "- penalty: 'l2'"
   ]
  },
  {
   "cell_type": "code",
   "execution_count": 386,
   "id": "96c6bf0f",
   "metadata": {
    "ExecuteTime": {
     "end_time": "2022-04-25T17:23:51.212705Z",
     "start_time": "2022-04-25T17:23:49.457861Z"
    },
    "hidden": true
   },
   "outputs": [
    {
     "data": {
      "text/plain": [
       "SGDClassifier()"
      ]
     },
     "execution_count": 386,
     "metadata": {},
     "output_type": "execute_result"
    }
   ],
   "source": [
    "sgd_model = SGDClassifier(alpha=0.0001, loss='hinge', penalty='l2')\n",
    "sgd_model.fit(X_train_s, y_train)"
   ]
  },
  {
   "cell_type": "code",
   "execution_count": 387,
   "id": "bfb1398c",
   "metadata": {
    "ExecuteTime": {
     "end_time": "2022-04-25T17:23:57.043077Z",
     "start_time": "2022-04-25T17:23:57.031669Z"
    },
    "hidden": true
   },
   "outputs": [],
   "source": [
    "y_pred = sgd_model.predict(X_test_s)"
   ]
  },
  {
   "cell_type": "code",
   "execution_count": 388,
   "id": "363a65e8",
   "metadata": {
    "ExecuteTime": {
     "end_time": "2022-04-25T17:23:59.966921Z",
     "start_time": "2022-04-25T17:23:59.656782Z"
    },
    "hidden": true
   },
   "outputs": [
    {
     "name": "stderr",
     "output_type": "stream",
     "text": [
      "C:\\Users\\brtra\\anaconda3\\lib\\site-packages\\sklearn\\metrics\\_classification.py:1318: UndefinedMetricWarning: Precision and F-score are ill-defined and being set to 0.0 in labels with no predicted samples. Use `zero_division` parameter to control this behavior.\n",
      "  _warn_prf(average, modifier, msg_start, len(result))\n",
      "C:\\Users\\brtra\\anaconda3\\lib\\site-packages\\sklearn\\metrics\\_classification.py:1318: UndefinedMetricWarning: Precision and F-score are ill-defined and being set to 0.0 in labels with no predicted samples. Use `zero_division` parameter to control this behavior.\n",
      "  _warn_prf(average, modifier, msg_start, len(result))\n",
      "C:\\Users\\brtra\\anaconda3\\lib\\site-packages\\sklearn\\metrics\\_classification.py:1318: UndefinedMetricWarning: Precision and F-score are ill-defined and being set to 0.0 in labels with no predicted samples. Use `zero_division` parameter to control this behavior.\n",
      "  _warn_prf(average, modifier, msg_start, len(result))\n"
     ]
    },
    {
     "name": "stdout",
     "output_type": "stream",
     "text": [
      "              precision    recall  f1-score   support\n",
      "\n",
      "  no_spoiler       0.74      1.00      0.85     84626\n",
      "     spoiler       0.00      0.00      0.00     30157\n",
      "\n",
      "    accuracy                           0.74    114783\n",
      "   macro avg       0.37      0.50      0.42    114783\n",
      "weighted avg       0.54      0.74      0.63    114783\n",
      "\n"
     ]
    },
    {
     "data": {
      "image/png": "[encoded data removed]",
      "text/plain": [
       "<Figure size 432x288 with 2 Axes>"
      ]
     },
     "metadata": {
      "needs_background": "light"
     },
     "output_type": "display_data"
    }
   ],
   "source": [
    "report(y_test, y_pred)"
   ]
  },
  {
   "cell_type": "markdown",
   "id": "96231cd2",
   "metadata": {
    "hidden": true
   },
   "source": [
    "Modeling on the film review metadata we have does not look promising."
   ]
  },
  {
   "cell_type": "markdown",
   "id": "330776b5",
   "metadata": {
    "heading_collapsed": true
   },
   "source": [
    "# Baseline Model"
   ]
  },
  {
   "cell_type": "markdown",
   "id": "89e876b9",
   "metadata": {
    "hidden": true
   },
   "source": [
    "Our baseline model is going to say that any review that contains the word \"spoiler\" is, in-fact, a spoiler."
   ]
  },
  {
   "cell_type": "code",
   "execution_count": 147,
   "id": "08e968e5",
   "metadata": {
    "ExecuteTime": {
     "end_time": "2022-04-22T17:14:01.958350Z",
     "start_time": "2022-04-22T17:14:00.536540Z"
    },
    "hidden": true
   },
   "outputs": [],
   "source": [
    "# make a baseline dataframe with just the target and the review_text\n",
    "baseline_df = merged_df[['is_spoiler', 'review_text']].copy()\n",
    "\n",
    "# create a new boolean value for reviews that contain the word 'spoiler'\n",
    "baseline_df['contains_spoiler'] = baseline_df.review_text.str.contains('spoiler')\n",
    "baseline_df['contains_spoiler'] = baseline_df.contains_spoiler.astype(int)"
   ]
  },
  {
   "cell_type": "code",
   "execution_count": 337,
   "id": "25033adc",
   "metadata": {
    "ExecuteTime": {
     "end_time": "2022-04-24T14:26:44.146663Z",
     "start_time": "2022-04-24T14:26:43.213341Z"
    },
    "hidden": true
   },
   "outputs": [
    {
     "name": "stdout",
     "output_type": "stream",
     "text": [
      "              precision    recall  f1-score   support\n",
      "\n",
      "  no_spoiler       0.75      0.99      0.85    422989\n",
      "     spoiler       0.60      0.06      0.10    150924\n",
      "\n",
      "    accuracy                           0.74    573913\n",
      "   macro avg       0.67      0.52      0.48    573913\n",
      "weighted avg       0.71      0.74      0.65    573913\n",
      "\n"
     ]
    },
    {
     "data": {
      "image/png": "[encoded data removed]",
      "text/plain": [
       "<Figure size 432x288 with 2 Axes>"
      ]
     },
     "metadata": {
      "needs_background": "light"
     },
     "output_type": "display_data"
    }
   ],
   "source": [
    "report(baseline_df.is_spoiler, baseline_df.contains_spoiler)"
   ]
  },
  {
   "cell_type": "markdown",
   "id": "a862c092",
   "metadata": {
    "hidden": true
   },
   "source": [
    "Baseline accuracy is about 74%, which sounds great, but the recall on spoilers is very low. The amount of false negatives is staggeringly high. Interestingly, there are lots of films whose review contains the word 'spoiler' but are not marked as such. That could something as simple as a user stating 'No spoilers follow', but it does seem curious to have that many film reviews that aren't spoilers."
   ]
  },
  {
   "cell_type": "markdown",
   "id": "8650514a",
   "metadata": {},
   "source": [
    "# Bag of Words Model"
   ]
  },
  {
   "cell_type": "code",
   "execution_count": 219,
   "id": "ccd0418d",
   "metadata": {
    "ExecuteTime": {
     "end_time": "2022-04-22T20:29:17.371247Z",
     "start_time": "2022-04-22T20:29:17.359806Z"
    }
   },
   "outputs": [
    {
     "data": {
      "text/html": [
       "<div>\n",
       "<style scoped>\n",
       "    .dataframe tbody tr th:only-of-type {\n",
       "        vertical-align: middle;\n",
       "    }\n",
       "\n",
       "    .dataframe tbody tr th {\n",
       "        vertical-align: top;\n",
       "    }\n",
       "\n",
       "    .dataframe thead th {\n",
       "        text-align: right;\n",
       "    }\n",
       "</style>\n",
       "<table border=\"1\" class=\"dataframe\">\n",
       "  <thead>\n",
       "    <tr style=\"text-align: right;\">\n",
       "      <th></th>\n",
       "      <th>movie_id</th>\n",
       "      <th>plot_summary</th>\n",
       "    </tr>\n",
       "  </thead>\n",
       "  <tbody>\n",
       "    <tr>\n",
       "      <th>0</th>\n",
       "      <td>tt0105112</td>\n",
       "      <td>Former CIA analyst, Jack Ryan is in England wi...</td>\n",
       "    </tr>\n",
       "    <tr>\n",
       "      <th>1</th>\n",
       "      <td>tt1204975</td>\n",
       "      <td>Billy (Michael Douglas), Paddy (Robert De Niro...</td>\n",
       "    </tr>\n",
       "    <tr>\n",
       "      <th>2</th>\n",
       "      <td>tt0243655</td>\n",
       "      <td>The setting is Camp Firewood, the year 1981. I...</td>\n",
       "    </tr>\n",
       "    <tr>\n",
       "      <th>3</th>\n",
       "      <td>tt0040897</td>\n",
       "      <td>Fred C. Dobbs and Bob Curtin, both down on the...</td>\n",
       "    </tr>\n",
       "    <tr>\n",
       "      <th>4</th>\n",
       "      <td>tt0126886</td>\n",
       "      <td>Tracy Flick is running unopposed for this year...</td>\n",
       "    </tr>\n",
       "    <tr>\n",
       "      <th>...</th>\n",
       "      <td>...</td>\n",
       "      <td>...</td>\n",
       "    </tr>\n",
       "    <tr>\n",
       "      <th>1567</th>\n",
       "      <td>tt0289879</td>\n",
       "      <td>Evan Treborn grows up in a small town with his...</td>\n",
       "    </tr>\n",
       "    <tr>\n",
       "      <th>1568</th>\n",
       "      <td>tt1723811</td>\n",
       "      <td>Brandon is a 30-something man living in New Yo...</td>\n",
       "    </tr>\n",
       "    <tr>\n",
       "      <th>1569</th>\n",
       "      <td>tt5013056</td>\n",
       "      <td>Evacuation of Allied soldiers from the British...</td>\n",
       "    </tr>\n",
       "    <tr>\n",
       "      <th>1570</th>\n",
       "      <td>tt0104014/</td>\n",
       "      <td>For a while now, beautiful 24-year-old Diana B...</td>\n",
       "    </tr>\n",
       "    <tr>\n",
       "      <th>1571</th>\n",
       "      <td>tt0114142/</td>\n",
       "      <td>The marriage of David Burgess, a senior execut...</td>\n",
       "    </tr>\n",
       "  </tbody>\n",
       "</table>\n",
       "<p>1572 rows × 2 columns</p>\n",
       "</div>"
      ],
      "text/plain": [
       "        movie_id                                       plot_summary\n",
       "0      tt0105112  Former CIA analyst, Jack Ryan is in England wi...\n",
       "1      tt1204975  Billy (Michael Douglas), Paddy (Robert De Niro...\n",
       "2      tt0243655  The setting is Camp Firewood, the year 1981. I...\n",
       "3      tt0040897  Fred C. Dobbs and Bob Curtin, both down on the...\n",
       "4      tt0126886  Tracy Flick is running unopposed for this year...\n",
       "...          ...                                                ...\n",
       "1567   tt0289879  Evan Treborn grows up in a small town with his...\n",
       "1568   tt1723811  Brandon is a 30-something man living in New Yo...\n",
       "1569   tt5013056  Evacuation of Allied soldiers from the British...\n",
       "1570  tt0104014/  For a while now, beautiful 24-year-old Diana B...\n",
       "1571  tt0114142/  The marriage of David Burgess, a senior execut...\n",
       "\n",
       "[1572 rows x 2 columns]"
      ]
     },
     "execution_count": 219,
     "metadata": {},
     "output_type": "execute_result"
    }
   ],
   "source": [
    "summary_df = movie_details[['movie_id', 'plot_summary']].copy()\n",
    "summary_df"
   ]
  },
  {
   "cell_type": "code",
   "execution_count": 221,
   "id": "8de8d7af",
   "metadata": {
    "ExecuteTime": {
     "end_time": "2022-04-22T20:30:27.269467Z",
     "start_time": "2022-04-22T20:30:27.207962Z"
    }
   },
   "outputs": [
    {
     "data": {
      "text/html": [
       "<div>\n",
       "<style scoped>\n",
       "    .dataframe tbody tr th:only-of-type {\n",
       "        vertical-align: middle;\n",
       "    }\n",
       "\n",
       "    .dataframe tbody tr th {\n",
       "        vertical-align: top;\n",
       "    }\n",
       "\n",
       "    .dataframe thead th {\n",
       "        text-align: right;\n",
       "    }\n",
       "</style>\n",
       "<table border=\"1\" class=\"dataframe\">\n",
       "  <thead>\n",
       "    <tr style=\"text-align: right;\">\n",
       "      <th></th>\n",
       "      <th>movie_id</th>\n",
       "      <th>review_text</th>\n",
       "      <th>is_spoiler</th>\n",
       "    </tr>\n",
       "  </thead>\n",
       "  <tbody>\n",
       "    <tr>\n",
       "      <th>0</th>\n",
       "      <td>tt0111161</td>\n",
       "      <td>In its Oscar year, Shawshank Redemption (writt...</td>\n",
       "      <td>1</td>\n",
       "    </tr>\n",
       "    <tr>\n",
       "      <th>1</th>\n",
       "      <td>tt0111161</td>\n",
       "      <td>The Shawshank Redemption is without a doubt on...</td>\n",
       "      <td>1</td>\n",
       "    </tr>\n",
       "    <tr>\n",
       "      <th>2</th>\n",
       "      <td>tt0111161</td>\n",
       "      <td>I believe that this film is the best story eve...</td>\n",
       "      <td>1</td>\n",
       "    </tr>\n",
       "    <tr>\n",
       "      <th>3</th>\n",
       "      <td>tt0111161</td>\n",
       "      <td>**Yes, there are SPOILERS here**This film has ...</td>\n",
       "      <td>1</td>\n",
       "    </tr>\n",
       "    <tr>\n",
       "      <th>4</th>\n",
       "      <td>tt0111161</td>\n",
       "      <td>At the heart of this extraordinary movie is a ...</td>\n",
       "      <td>1</td>\n",
       "    </tr>\n",
       "    <tr>\n",
       "      <th>...</th>\n",
       "      <td>...</td>\n",
       "      <td>...</td>\n",
       "      <td>...</td>\n",
       "    </tr>\n",
       "    <tr>\n",
       "      <th>573908</th>\n",
       "      <td>tt0139239</td>\n",
       "      <td>Go is wise, fast and pure entertainment. Assem...</td>\n",
       "      <td>0</td>\n",
       "    </tr>\n",
       "    <tr>\n",
       "      <th>573909</th>\n",
       "      <td>tt0139239</td>\n",
       "      <td>Well, what shall I say. this one´s fun at any ...</td>\n",
       "      <td>0</td>\n",
       "    </tr>\n",
       "    <tr>\n",
       "      <th>573910</th>\n",
       "      <td>tt0139239</td>\n",
       "      <td>Go is the best movie I have ever seen, and I'v...</td>\n",
       "      <td>0</td>\n",
       "    </tr>\n",
       "    <tr>\n",
       "      <th>573911</th>\n",
       "      <td>tt0139239</td>\n",
       "      <td>Call this 1999 teenage version of Pulp Fiction...</td>\n",
       "      <td>0</td>\n",
       "    </tr>\n",
       "    <tr>\n",
       "      <th>573912</th>\n",
       "      <td>tt0139239</td>\n",
       "      <td>Why was this movie made? No doubt to sucker in...</td>\n",
       "      <td>0</td>\n",
       "    </tr>\n",
       "  </tbody>\n",
       "</table>\n",
       "<p>573913 rows × 3 columns</p>\n",
       "</div>"
      ],
      "text/plain": [
       "         movie_id                                        review_text  \\\n",
       "0       tt0111161  In its Oscar year, Shawshank Redemption (writt...   \n",
       "1       tt0111161  The Shawshank Redemption is without a doubt on...   \n",
       "2       tt0111161  I believe that this film is the best story eve...   \n",
       "3       tt0111161  **Yes, there are SPOILERS here**This film has ...   \n",
       "4       tt0111161  At the heart of this extraordinary movie is a ...   \n",
       "...           ...                                                ...   \n",
       "573908  tt0139239  Go is wise, fast and pure entertainment. Assem...   \n",
       "573909  tt0139239  Well, what shall I say. this one´s fun at any ...   \n",
       "573910  tt0139239  Go is the best movie I have ever seen, and I'v...   \n",
       "573911  tt0139239  Call this 1999 teenage version of Pulp Fiction...   \n",
       "573912  tt0139239  Why was this movie made? No doubt to sucker in...   \n",
       "\n",
       "        is_spoiler  \n",
       "0                1  \n",
       "1                1  \n",
       "2                1  \n",
       "3                1  \n",
       "4                1  \n",
       "...            ...  \n",
       "573908           0  \n",
       "573909           0  \n",
       "573910           0  \n",
       "573911           0  \n",
       "573912           0  \n",
       "\n",
       "[573913 rows x 3 columns]"
      ]
     },
     "execution_count": 221,
     "metadata": {},
     "output_type": "execute_result"
    }
   ],
   "source": [
    "review_df = merged_df[['movie_id', 'review_text', 'is_spoiler']].copy()\n",
    "review_df"
   ]
  },
  {
   "cell_type": "markdown",
   "id": "dddd236f",
   "metadata": {},
   "source": [
    "## Bag of Words"
   ]
  },
  {
   "cell_type": "markdown",
   "id": "915a5cd7",
   "metadata": {},
   "source": [
    "Testing Dataframe to ensure things work before applying to all data. It's 1/1000th of the size, so any processing times multiply by 1000 and that will give the estimated time for application to the whole dataset"
   ]
  },
  {
   "cell_type": "code",
   "execution_count": 252,
   "id": "3c4650a8",
   "metadata": {
    "ExecuteTime": {
     "end_time": "2022-04-23T17:27:48.278083Z",
     "start_time": "2022-04-23T17:27:48.152099Z"
    }
   },
   "outputs": [
    {
     "data": {
      "text/html": [
       "<div>\n",
       "<style scoped>\n",
       "    .dataframe tbody tr th:only-of-type {\n",
       "        vertical-align: middle;\n",
       "    }\n",
       "\n",
       "    .dataframe tbody tr th {\n",
       "        vertical-align: top;\n",
       "    }\n",
       "\n",
       "    .dataframe thead th {\n",
       "        text-align: right;\n",
       "    }\n",
       "</style>\n",
       "<table border=\"1\" class=\"dataframe\">\n",
       "  <thead>\n",
       "    <tr style=\"text-align: right;\">\n",
       "      <th></th>\n",
       "      <th>movie_id</th>\n",
       "      <th>review_text</th>\n",
       "      <th>is_spoiler</th>\n",
       "    </tr>\n",
       "  </thead>\n",
       "  <tbody>\n",
       "    <tr>\n",
       "      <th>0</th>\n",
       "      <td>tt1013752</td>\n",
       "      <td>The fourth film in the series. Placed, in time...</td>\n",
       "      <td>0</td>\n",
       "    </tr>\n",
       "    <tr>\n",
       "      <th>1</th>\n",
       "      <td>tt0327850</td>\n",
       "      <td>Welcome To The Jungle (AKA: The Rundown) is di...</td>\n",
       "      <td>0</td>\n",
       "    </tr>\n",
       "    <tr>\n",
       "      <th>2</th>\n",
       "      <td>tt1490017</td>\n",
       "      <td>Ca-shizzle ma dizzle. What a ride! There hasn'...</td>\n",
       "      <td>0</td>\n",
       "    </tr>\n",
       "    <tr>\n",
       "      <th>3</th>\n",
       "      <td>tt1288558</td>\n",
       "      <td>I love the new Evil Dead and I like it a lot m...</td>\n",
       "      <td>0</td>\n",
       "    </tr>\n",
       "    <tr>\n",
       "      <th>4</th>\n",
       "      <td>tt2911666</td>\n",
       "      <td>The worst kind of film making. Truly awful, do...</td>\n",
       "      <td>0</td>\n",
       "    </tr>\n",
       "    <tr>\n",
       "      <th>...</th>\n",
       "      <td>...</td>\n",
       "      <td>...</td>\n",
       "      <td>...</td>\n",
       "    </tr>\n",
       "    <tr>\n",
       "      <th>569</th>\n",
       "      <td>tt0884328</td>\n",
       "      <td>The movie compares the mist with the path we'r...</td>\n",
       "      <td>1</td>\n",
       "    </tr>\n",
       "    <tr>\n",
       "      <th>570</th>\n",
       "      <td>tt2381249</td>\n",
       "      <td>This, the fifth instalment in the Mission Impo...</td>\n",
       "      <td>1</td>\n",
       "    </tr>\n",
       "    <tr>\n",
       "      <th>571</th>\n",
       "      <td>tt0180093</td>\n",
       "      <td>Arsty-farsty shooting and gritty squalor canno...</td>\n",
       "      <td>1</td>\n",
       "    </tr>\n",
       "    <tr>\n",
       "      <th>572</th>\n",
       "      <td>tt1615065</td>\n",
       "      <td>This was an attempted comeback by Oliver Stone...</td>\n",
       "      <td>1</td>\n",
       "    </tr>\n",
       "    <tr>\n",
       "      <th>573</th>\n",
       "      <td>tt0102558</td>\n",
       "      <td>This is the only movie that I ever saw for fre...</td>\n",
       "      <td>1</td>\n",
       "    </tr>\n",
       "  </tbody>\n",
       "</table>\n",
       "<p>574 rows × 3 columns</p>\n",
       "</div>"
      ],
      "text/plain": [
       "      movie_id                                        review_text  is_spoiler\n",
       "0    tt1013752  The fourth film in the series. Placed, in time...           0\n",
       "1    tt0327850  Welcome To The Jungle (AKA: The Rundown) is di...           0\n",
       "2    tt1490017  Ca-shizzle ma dizzle. What a ride! There hasn'...           0\n",
       "3    tt1288558  I love the new Evil Dead and I like it a lot m...           0\n",
       "4    tt2911666  The worst kind of film making. Truly awful, do...           0\n",
       "..         ...                                                ...         ...\n",
       "569  tt0884328  The movie compares the mist with the path we'r...           1\n",
       "570  tt2381249  This, the fifth instalment in the Mission Impo...           1\n",
       "571  tt0180093  Arsty-farsty shooting and gritty squalor canno...           1\n",
       "572  tt1615065  This was an attempted comeback by Oliver Stone...           1\n",
       "573  tt0102558  This is the only movie that I ever saw for fre...           1\n",
       "\n",
       "[574 rows x 3 columns]"
      ]
     },
     "execution_count": 252,
     "metadata": {},
     "output_type": "execute_result"
    }
   ],
   "source": [
    "test_df = review_df.groupby('is_spoiler').apply(lambda x: x.sample(frac=0.001))\n",
    "test_df.reset_index(drop=True, inplace=True)\n",
    "test_df"
   ]
  },
  {
   "cell_type": "markdown",
   "id": "d136ed80",
   "metadata": {},
   "source": [
    "### Lemmatizing"
   ]
  },
  {
   "cell_type": "code",
   "execution_count": 265,
   "id": "1c6c9989",
   "metadata": {
    "ExecuteTime": {
     "end_time": "2022-04-23T17:33:18.090000Z",
     "start_time": "2022-04-23T17:33:18.075092Z"
    }
   },
   "outputs": [],
   "source": [
    "sw = stopwords.words('english')\n",
    "pattern = \"([a-zA-Z]+(?:'[a-z]+)?)\"\n",
    "tokenizer = RegexpTokenizer(r\"([a-zA-Z]+(?:[’'][a-z]+)?)\")\n",
    "lemmatizer = nltk.stem.WordNetLemmatizer()\n",
    "\n",
    "# helper function to correctly format the part of speech\n",
    "def get_wordnet_pos(treebank_tag):\n",
    "    if treebank_tag.startswith('J'):\n",
    "        return wordnet.ADJ\n",
    "    elif treebank_tag.startswith('V'):\n",
    "        return wordnet.VERB\n",
    "    elif treebank_tag.startswith('N'):\n",
    "        return wordnet.NOUN\n",
    "    elif treebank_tag.startswith('R'):\n",
    "        return wordnet.ADV\n",
    "    else:\n",
    "        return wordnet.NOUN\n",
    "    \n",
    "# helper function to clean and lemmatize the review\n",
    "def lem_review(df):\n",
    "    # get the review text\n",
    "    doc = df.review_text\n",
    "    # tokenize the review, lowercase all words and remove stopwords\n",
    "    doc = tokenizer.tokenize(doc)\n",
    "    doc = [token.lower() for token in doc]\n",
    "    doc = [token for token in doc if token not in sw]\n",
    "    # tag part of speach and convert format of tagging\n",
    "    doc_tagged = pos_tag(doc)\n",
    "    doc_tagged = [(token[0], get_wordnet_pos(token[1])) for token in doc_tagged]\n",
    "    # lemmatize the review\n",
    "    doc_lemmed = [lemmatizer.lemmatize(token[0], token[1]) for token in doc_tagged]\n",
    "    # join the lemmas together as a string\n",
    "    doc_cleaned = ' '.join(doc_lemmed)\n",
    "    # return the cleaned review\n",
    "    return doc_cleaned"
   ]
  },
  {
   "cell_type": "code",
   "execution_count": 283,
   "id": "4f4e6ea4",
   "metadata": {
    "ExecuteTime": {
     "end_time": "2022-04-23T19:48:50.345971Z",
     "start_time": "2022-04-23T18:18:17.071512Z"
    }
   },
   "outputs": [],
   "source": [
    "review_df['review_text_lemmed'] = review_df.apply(lem_review, axis=1)"
   ]
  },
  {
   "cell_type": "code",
   "execution_count": 284,
   "id": "bfeb5856",
   "metadata": {
    "ExecuteTime": {
     "end_time": "2022-04-23T19:49:09.506025Z",
     "start_time": "2022-04-23T19:49:09.481722Z"
    }
   },
   "outputs": [
    {
     "data": {
      "text/html": [
       "<div>\n",
       "<style scoped>\n",
       "    .dataframe tbody tr th:only-of-type {\n",
       "        vertical-align: middle;\n",
       "    }\n",
       "\n",
       "    .dataframe tbody tr th {\n",
       "        vertical-align: top;\n",
       "    }\n",
       "\n",
       "    .dataframe thead th {\n",
       "        text-align: right;\n",
       "    }\n",
       "</style>\n",
       "<table border=\"1\" class=\"dataframe\">\n",
       "  <thead>\n",
       "    <tr style=\"text-align: right;\">\n",
       "      <th></th>\n",
       "      <th>movie_id</th>\n",
       "      <th>review_text</th>\n",
       "      <th>is_spoiler</th>\n",
       "      <th>review_text_lemmed</th>\n",
       "    </tr>\n",
       "  </thead>\n",
       "  <tbody>\n",
       "    <tr>\n",
       "      <th>0</th>\n",
       "      <td>tt0111161</td>\n",
       "      <td>In its Oscar year, Shawshank Redemption (writt...</td>\n",
       "      <td>1</td>\n",
       "      <td>oscar year shawshank redemption write direct f...</td>\n",
       "    </tr>\n",
       "    <tr>\n",
       "      <th>1</th>\n",
       "      <td>tt0111161</td>\n",
       "      <td>The Shawshank Redemption is without a doubt on...</td>\n",
       "      <td>1</td>\n",
       "      <td>shawshank redemption without doubt one brillia...</td>\n",
       "    </tr>\n",
       "    <tr>\n",
       "      <th>2</th>\n",
       "      <td>tt0111161</td>\n",
       "      <td>I believe that this film is the best story eve...</td>\n",
       "      <td>1</td>\n",
       "      <td>believe film best story ever tell film i'm tel...</td>\n",
       "    </tr>\n",
       "    <tr>\n",
       "      <th>3</th>\n",
       "      <td>tt0111161</td>\n",
       "      <td>**Yes, there are SPOILERS here**This film has ...</td>\n",
       "      <td>1</td>\n",
       "      <td>yes spoiler film emotional impact find hard wr...</td>\n",
       "    </tr>\n",
       "    <tr>\n",
       "      <th>4</th>\n",
       "      <td>tt0111161</td>\n",
       "      <td>At the heart of this extraordinary movie is a ...</td>\n",
       "      <td>1</td>\n",
       "      <td>heart extraordinary movie brilliant indelible ...</td>\n",
       "    </tr>\n",
       "    <tr>\n",
       "      <th>...</th>\n",
       "      <td>...</td>\n",
       "      <td>...</td>\n",
       "      <td>...</td>\n",
       "      <td>...</td>\n",
       "    </tr>\n",
       "    <tr>\n",
       "      <th>573908</th>\n",
       "      <td>tt0139239</td>\n",
       "      <td>Go is wise, fast and pure entertainment. Assem...</td>\n",
       "      <td>0</td>\n",
       "      <td>go wise fast pure entertainment assemble excep...</td>\n",
       "    </tr>\n",
       "    <tr>\n",
       "      <th>573909</th>\n",
       "      <td>tt0139239</td>\n",
       "      <td>Well, what shall I say. this one´s fun at any ...</td>\n",
       "      <td>0</td>\n",
       "      <td>well shall say one fun rate three plotlines or...</td>\n",
       "    </tr>\n",
       "    <tr>\n",
       "      <th>573910</th>\n",
       "      <td>tt0139239</td>\n",
       "      <td>Go is the best movie I have ever seen, and I'v...</td>\n",
       "      <td>0</td>\n",
       "      <td>go best movie ever see i've see lot movie read...</td>\n",
       "    </tr>\n",
       "    <tr>\n",
       "      <th>573911</th>\n",
       "      <td>tt0139239</td>\n",
       "      <td>Call this 1999 teenage version of Pulp Fiction...</td>\n",
       "      <td>0</td>\n",
       "      <td>call teenage version pulp fiction whatever wan...</td>\n",
       "    </tr>\n",
       "    <tr>\n",
       "      <th>573912</th>\n",
       "      <td>tt0139239</td>\n",
       "      <td>Why was this movie made? No doubt to sucker in...</td>\n",
       "      <td>0</td>\n",
       "      <td>movie make doubt sucker family rebel mtv faith...</td>\n",
       "    </tr>\n",
       "  </tbody>\n",
       "</table>\n",
       "<p>573913 rows × 4 columns</p>\n",
       "</div>"
      ],
      "text/plain": [
       "         movie_id                                        review_text  \\\n",
       "0       tt0111161  In its Oscar year, Shawshank Redemption (writt...   \n",
       "1       tt0111161  The Shawshank Redemption is without a doubt on...   \n",
       "2       tt0111161  I believe that this film is the best story eve...   \n",
       "3       tt0111161  **Yes, there are SPOILERS here**This film has ...   \n",
       "4       tt0111161  At the heart of this extraordinary movie is a ...   \n",
       "...           ...                                                ...   \n",
       "573908  tt0139239  Go is wise, fast and pure entertainment. Assem...   \n",
       "573909  tt0139239  Well, what shall I say. this one´s fun at any ...   \n",
       "573910  tt0139239  Go is the best movie I have ever seen, and I'v...   \n",
       "573911  tt0139239  Call this 1999 teenage version of Pulp Fiction...   \n",
       "573912  tt0139239  Why was this movie made? No doubt to sucker in...   \n",
       "\n",
       "        is_spoiler                                 review_text_lemmed  \n",
       "0                1  oscar year shawshank redemption write direct f...  \n",
       "1                1  shawshank redemption without doubt one brillia...  \n",
       "2                1  believe film best story ever tell film i'm tel...  \n",
       "3                1  yes spoiler film emotional impact find hard wr...  \n",
       "4                1  heart extraordinary movie brilliant indelible ...  \n",
       "...            ...                                                ...  \n",
       "573908           0  go wise fast pure entertainment assemble excep...  \n",
       "573909           0  well shall say one fun rate three plotlines or...  \n",
       "573910           0  go best movie ever see i've see lot movie read...  \n",
       "573911           0  call teenage version pulp fiction whatever wan...  \n",
       "573912           0  movie make doubt sucker family rebel mtv faith...  \n",
       "\n",
       "[573913 rows x 4 columns]"
      ]
     },
     "execution_count": 284,
     "metadata": {},
     "output_type": "execute_result"
    }
   ],
   "source": [
    "review_df"
   ]
  },
  {
   "cell_type": "code",
   "execution_count": 282,
   "id": "5cc450e9",
   "metadata": {
    "ExecuteTime": {
     "end_time": "2022-04-23T18:18:11.034365Z",
     "start_time": "2022-04-23T18:18:11.027934Z"
    },
    "scrolled": true
   },
   "outputs": [],
   "source": [
    "# first_document = test_df.iloc[0].review_text\n",
    "\n",
    "# # tokenize the document, lowercase all words and remove stopwords\n",
    "# first_doc = tokenizer.tokenize(first_document)\n",
    "# first_doc = [token.lower() for token in first_doc]\n",
    "# first_doc = [token for token in first_doc if token not in sw]\n",
    "\n",
    "# # tag the document with the part of speech\n",
    "# first_doc_tagged = pos_tag(first_doc)\n",
    "# # change the tagging to the correct format using helper function above\n",
    "# first_doc_tagged = [(token[0], get_wordnet_pos(token[1])) for token in first_doc_tagged]\n",
    "# # lemmatize the tagged document\n",
    "# first_doc_lemmed = [lemmatizer.lemmatize(token[0], token[1]) for token in first_doc_tagged]\n",
    "# # combine the list of lemmas into a string\n",
    "# first_doc_clean = ' '.join(first_doc_lemmed)\n",
    "# first_doc_clean\n",
    "\n",
    "# test_df['review_text_lemmed'] = test_df.apply(lem_review, axis=1)"
   ]
  },
  {
   "cell_type": "markdown",
   "id": "ceaa77f7",
   "metadata": {},
   "source": [
    "## first model - multinomial naive bayes"
   ]
  },
  {
   "cell_type": "code",
   "execution_count": 324,
   "id": "ca75e294",
   "metadata": {
    "ExecuteTime": {
     "end_time": "2022-04-23T20:37:02.400667Z",
     "start_time": "2022-04-23T20:37:02.392235Z"
    }
   },
   "outputs": [],
   "source": [
    "# set X to the review text lemmed, y to target\n",
    "X = review_df.review_text_lemmed\n",
    "y = review_df.is_spoiler\n",
    "\n",
    "# We want 20% of our data for test and 20% for validation, generate our holdout number\n",
    "holdout = round(len(X) * 0.2)"
   ]
  },
  {
   "cell_type": "code",
   "execution_count": 317,
   "id": "694f5899",
   "metadata": {
    "ExecuteTime": {
     "end_time": "2022-04-23T20:31:17.342649Z",
     "start_time": "2022-04-23T20:31:17.329725Z"
    }
   },
   "outputs": [],
   "source": [
    "# do first train/test split for train/val set and test set\n",
    "X_trainval, X_test, y_trainval, y_test = train_test_split(X, y, random_state=42, test_size=holdout)\n",
    "\n",
    "# perform 2nd train/test split (on train/val) for train and val sets\n",
    "X_train, X_val, y_train, y_val = train_test_split(X_trainval, y_trainval, random_state=42, test_size=holdout)\n",
    "\n",
    "# confirm shapes\n",
    "print(f\"X_train / y_train shapes: {X_train.shape}, {y_train.shape}\")\n",
    "print(f\"X_val / y_val shapes: {X_val.shape}, {y_val.shape}\")\n",
    "print(f\"X_test / y_test shapes: {X_test.shape}, {y_test.shape}\")"
   ]
  },
  {
   "cell_type": "code",
   "execution_count": 328,
   "id": "59dcddd2",
   "metadata": {
    "ExecuteTime": {
     "end_time": "2022-04-23T20:37:17.057222Z",
     "start_time": "2022-04-23T20:37:17.045489Z"
    }
   },
   "outputs": [],
   "source": [
    "# set tfidf vectorizer\n",
    "tf_vec = TfidfVectorizer()\n",
    "\n",
    "# fit/transfrom X_train, convert to dataframe and set columns/index\n",
    "X_train_vec = tf_vec.fit_transform(X_train)\n",
    "X_train_vec = pd.DataFrame.sparse.from_spmatrix(X_train_vec)\n",
    "X_train_vec.columns = sorted(tf_vec.vocabulary_)\n",
    "X_train_vec.set_index(y_train.index, inplace=True)\n",
    "\n",
    "# transform X_val, convert to dataframe and set columns/index\n",
    "X_val_vec = tf_vec.transform(X_val)\n",
    "X_val_vec  = pd.DataFrame.sparse.from_spmatrix(X_val_vec)\n",
    "X_val_vec.columns = sorted(tf_vec.vocabulary_)\n",
    "X_val_vec.set_index(y_val.index, inplace=True)\n",
    "\n",
    "\n",
    "\"\"\"\n",
    "This section can be uncommented to use count vectorizer instead\n",
    "\"\"\"\n",
    "# set count vectorizer\n",
    "# c_vec = CountVectorizer()\n",
    "\n",
    "# fit/transfrom X_train, convert to dataframe and set columns/index\n",
    "# X_train_vec = c_vec.fit_transform(X_train)\n",
    "# X_train_vec = pd.DataFrame.sparse.from_spmatrix(X_train_vec)\n",
    "# X_train_vec.columns = sorted(tf_vec.vocabulary_)\n",
    "# X_train_vec.set_index(y_train.index, inplace=True)\n",
    "\n",
    "# transform X_val, convert to dataframe and set columns/index\n",
    "# X_val_vec = c_vec.transform(X_val)\n",
    "# X_val_vec  = pd.DataFrame.sparse.from_spmatrix(X_val_vec)\n",
    "# X_val_vec.columns = sorted(c_vec.vocabulary_)\n",
    "# X_val_vec.set_index(y_val.index, inplace=True)"
   ]
  },
  {
   "cell_type": "code",
   "execution_count": 332,
   "id": "0f9d25fe",
   "metadata": {
    "ExecuteTime": {
     "end_time": "2022-04-23T20:42:28.319830Z",
     "start_time": "2022-04-23T20:42:20.357093Z"
    }
   },
   "outputs": [
    {
     "data": {
      "text/plain": [
       "MultinomialNB()"
      ]
     },
     "execution_count": 332,
     "metadata": {},
     "output_type": "execute_result"
    }
   ],
   "source": [
    "# instantiate multinomial naive bayes model\n",
    "mnb = MultinomialNB()\n",
    "\n",
    "# fit to X_train_vec/y_train\n",
    "mnb.fit(X_train_vec, y_train)\n",
    "\n",
    "# generate y_pred\n",
    "y_pred = mnb.predict(X_val_vec)"
   ]
  },
  {
   "cell_type": "code",
   "execution_count": 334,
   "id": "aaf19b7f",
   "metadata": {
    "ExecuteTime": {
     "end_time": "2022-04-23T20:44:36.690415Z",
     "start_time": "2022-04-23T20:44:36.493412Z"
    }
   },
   "outputs": [
    {
     "data": {
      "image/png": "[encoded data removed]",
      "text/plain": [
       "<Figure size 432x288 with 2 Axes>"
      ]
     },
     "metadata": {
      "needs_background": "light"
     },
     "output_type": "display_data"
    }
   ],
   "source": [
    "confusion_matrix_plot(y_val, y_pred, class_names=['no_spoiler', 'spoiler'])"
   ]
  },
  {
   "cell_type": "code",
   "execution_count": 335,
   "id": "6b5e4e51",
   "metadata": {
    "ExecuteTime": {
     "end_time": "2022-04-23T20:45:29.680848Z",
     "start_time": "2022-04-23T20:45:29.465585Z"
    }
   },
   "outputs": [
    {
     "name": "stdout",
     "output_type": "stream",
     "text": [
      "              precision    recall  f1-score   support\n",
      "\n",
      "  no_spoiler       0.74      1.00      0.85     84751\n",
      "     spoiler       0.77      0.02      0.05     30032\n",
      "\n",
      "    accuracy                           0.74    114783\n",
      "   macro avg       0.76      0.51      0.45    114783\n",
      "weighted avg       0.75      0.74      0.64    114783\n",
      "\n"
     ]
    }
   ],
   "source": [
    "print(classification_report(y_val, y_pred, target_names=['no_spoiler', 'spoiler']))"
   ]
  },
  {
   "cell_type": "markdown",
   "id": "e37698e7",
   "metadata": {},
   "source": [
    "## second model - MNB restrict frequency"
   ]
  },
  {
   "cell_type": "code",
   "execution_count": 372,
   "id": "e5b2e4ec",
   "metadata": {
    "ExecuteTime": {
     "end_time": "2022-04-25T16:55:46.509581Z",
     "start_time": "2022-04-25T16:55:46.488749Z"
    }
   },
   "outputs": [],
   "source": [
    "# set X to the review text lemmed, y to target\n",
    "X = review_df.review_text_lemmed\n",
    "y = review_df.is_spoiler\n",
    "\n",
    "# We want 20% of our data for test and 20% for validation, generate our holdout number\n",
    "holdout = round(len(X) * 0.2)"
   ]
  },
  {
   "cell_type": "code",
   "execution_count": 373,
   "id": "df3bbc05",
   "metadata": {
    "ExecuteTime": {
     "end_time": "2022-04-25T16:56:02.630709Z",
     "start_time": "2022-04-25T16:56:00.757550Z"
    }
   },
   "outputs": [
    {
     "name": "stdout",
     "output_type": "stream",
     "text": [
      "X_train / y_train shapes: (344347,), (344347,)\n",
      "X_val / y_val shapes: (114783,), (114783,)\n",
      "X_test / y_test shapes: (114783,), (114783,)\n"
     ]
    }
   ],
   "source": [
    "# do first train/test split for train/val set and test set\n",
    "X_trainval, X_test, y_trainval, y_test = train_test_split(X, y, random_state=42, test_size=holdout)\n",
    "\n",
    "# perform 2nd train/test split (on train/val) for train and val sets\n",
    "X_train, X_val, y_train, y_val = train_test_split(X_trainval, y_trainval, random_state=42, test_size=holdout)\n",
    "\n",
    "# confirm shapes\n",
    "print(f\"X_train / y_train shapes: {X_train.shape}, {y_train.shape}\")\n",
    "print(f\"X_val / y_val shapes: {X_val.shape}, {y_val.shape}\")\n",
    "print(f\"X_test / y_test shapes: {X_test.shape}, {y_test.shape}\")"
   ]
  },
  {
   "cell_type": "code",
   "execution_count": 374,
   "id": "27228a35",
   "metadata": {
    "ExecuteTime": {
     "end_time": "2022-04-25T16:58:16.374871Z",
     "start_time": "2022-04-25T16:57:21.486430Z"
    }
   },
   "outputs": [],
   "source": [
    "# set tfidf vectorizer\n",
    "tf_vec = TfidfVectorizer(min_df=0.05, max_df=0.95)\n",
    "\n",
    "# fit/transfrom X_train, convert to dataframe and set columns/index\n",
    "X_train_vec = tf_vec.fit_transform(X_train)\n",
    "X_train_vec = pd.DataFrame.sparse.from_spmatrix(X_train_vec)\n",
    "X_train_vec.columns = sorted(tf_vec.vocabulary_)\n",
    "X_train_vec.set_index(y_train.index, inplace=True)\n",
    "\n",
    "# transform X_val, convert to dataframe and set columns/index\n",
    "X_val_vec = tf_vec.transform(X_val)\n",
    "X_val_vec  = pd.DataFrame.sparse.from_spmatrix(X_val_vec)\n",
    "X_val_vec.columns = sorted(tf_vec.vocabulary_)\n",
    "X_val_vec.set_index(y_val.index, inplace=True)"
   ]
  },
  {
   "cell_type": "code",
   "execution_count": 375,
   "id": "beea6739",
   "metadata": {
    "ExecuteTime": {
     "end_time": "2022-04-25T17:00:44.695423Z",
     "start_time": "2022-04-25T17:00:43.454904Z"
    }
   },
   "outputs": [],
   "source": [
    "# instantiate multinomial naive bayes model\n",
    "mnb_v2 = MultinomialNB()\n",
    "\n",
    "# fit to X_train_vec/y_train\n",
    "mnb_v2.fit(X_train_vec, y_train)\n",
    "\n",
    "# generate y_pred\n",
    "y_pred = mnb_v2.predict(X_val_vec)"
   ]
  },
  {
   "cell_type": "code",
   "execution_count": 377,
   "id": "eec31a82",
   "metadata": {
    "ExecuteTime": {
     "end_time": "2022-04-25T17:01:17.209094Z",
     "start_time": "2022-04-25T17:01:16.857927Z"
    }
   },
   "outputs": [
    {
     "name": "stdout",
     "output_type": "stream",
     "text": [
      "              precision    recall  f1-score   support\n",
      "\n",
      "  no_spoiler       0.74      1.00      0.85     84742\n",
      "     spoiler       0.33      0.00      0.00     30041\n",
      "\n",
      "    accuracy                           0.74    114783\n",
      "   macro avg       0.54      0.50      0.43    114783\n",
      "weighted avg       0.63      0.74      0.63    114783\n",
      "\n"
     ]
    },
    {
     "data": {
      "image/png": "[encoded data removed]",
      "text/plain": [
       "<Figure size 432x288 with 2 Axes>"
      ]
     },
     "metadata": {
      "needs_background": "light"
     },
     "output_type": "display_data"
    }
   ],
   "source": [
    "report(y_test, y_pred)"
   ]
  },
  {
   "cell_type": "code",
   "execution_count": null,
   "id": "999c7594",
   "metadata": {},
   "outputs": [],
   "source": []
  },
  {
   "cell_type": "code",
   "execution_count": null,
   "id": "9e1fa518",
   "metadata": {},
   "outputs": [],
   "source": []
  },
  {
   "cell_type": "markdown",
   "id": "2d67d8f8",
   "metadata": {
    "heading_collapsed": true
   },
   "source": [
    "# testing"
   ]
  },
  {
   "cell_type": "code",
   "execution_count": 293,
   "id": "d857fc9c",
   "metadata": {
    "ExecuteTime": {
     "end_time": "2022-04-23T20:03:11.736675Z",
     "start_time": "2022-04-23T20:03:11.563054Z"
    },
    "hidden": true
   },
   "outputs": [
    {
     "data": {
      "text/html": [
       "<div>\n",
       "<style scoped>\n",
       "    .dataframe tbody tr th:only-of-type {\n",
       "        vertical-align: middle;\n",
       "    }\n",
       "\n",
       "    .dataframe tbody tr th {\n",
       "        vertical-align: top;\n",
       "    }\n",
       "\n",
       "    .dataframe thead th {\n",
       "        text-align: right;\n",
       "    }\n",
       "</style>\n",
       "<table border=\"1\" class=\"dataframe\">\n",
       "  <thead>\n",
       "    <tr style=\"text-align: right;\">\n",
       "      <th></th>\n",
       "      <th>aaron</th>\n",
       "      <th>aback</th>\n",
       "      <th>abandoned</th>\n",
       "      <th>abandons</th>\n",
       "      <th>abba</th>\n",
       "      <th>abc</th>\n",
       "      <th>abcs</th>\n",
       "      <th>abducted</th>\n",
       "      <th>aberrant</th>\n",
       "      <th>abhorrence</th>\n",
       "      <th>...</th>\n",
       "      <th>zones</th>\n",
       "      <th>zoo</th>\n",
       "      <th>zooey</th>\n",
       "      <th>zoom</th>\n",
       "      <th>zooms</th>\n",
       "      <th>zootopia</th>\n",
       "      <th>zorro</th>\n",
       "      <th>zuckerberg</th>\n",
       "      <th>zurer</th>\n",
       "      <th>zwick</th>\n",
       "    </tr>\n",
       "  </thead>\n",
       "  <tbody>\n",
       "    <tr>\n",
       "      <th>0</th>\n",
       "      <td>0</td>\n",
       "      <td>0</td>\n",
       "      <td>0</td>\n",
       "      <td>0</td>\n",
       "      <td>0</td>\n",
       "      <td>0</td>\n",
       "      <td>0</td>\n",
       "      <td>0</td>\n",
       "      <td>0</td>\n",
       "      <td>0</td>\n",
       "      <td>...</td>\n",
       "      <td>0</td>\n",
       "      <td>0</td>\n",
       "      <td>0</td>\n",
       "      <td>0</td>\n",
       "      <td>0</td>\n",
       "      <td>0</td>\n",
       "      <td>0</td>\n",
       "      <td>0</td>\n",
       "      <td>0</td>\n",
       "      <td>0</td>\n",
       "    </tr>\n",
       "    <tr>\n",
       "      <th>1</th>\n",
       "      <td>0</td>\n",
       "      <td>0</td>\n",
       "      <td>0</td>\n",
       "      <td>0</td>\n",
       "      <td>0</td>\n",
       "      <td>0</td>\n",
       "      <td>0</td>\n",
       "      <td>0</td>\n",
       "      <td>0</td>\n",
       "      <td>0</td>\n",
       "      <td>...</td>\n",
       "      <td>0</td>\n",
       "      <td>0</td>\n",
       "      <td>0</td>\n",
       "      <td>0</td>\n",
       "      <td>0</td>\n",
       "      <td>0</td>\n",
       "      <td>0</td>\n",
       "      <td>0</td>\n",
       "      <td>0</td>\n",
       "      <td>0</td>\n",
       "    </tr>\n",
       "    <tr>\n",
       "      <th>2</th>\n",
       "      <td>0</td>\n",
       "      <td>0</td>\n",
       "      <td>0</td>\n",
       "      <td>0</td>\n",
       "      <td>0</td>\n",
       "      <td>0</td>\n",
       "      <td>0</td>\n",
       "      <td>0</td>\n",
       "      <td>0</td>\n",
       "      <td>0</td>\n",
       "      <td>...</td>\n",
       "      <td>0</td>\n",
       "      <td>0</td>\n",
       "      <td>0</td>\n",
       "      <td>0</td>\n",
       "      <td>0</td>\n",
       "      <td>0</td>\n",
       "      <td>0</td>\n",
       "      <td>0</td>\n",
       "      <td>0</td>\n",
       "      <td>0</td>\n",
       "    </tr>\n",
       "    <tr>\n",
       "      <th>3</th>\n",
       "      <td>0</td>\n",
       "      <td>0</td>\n",
       "      <td>0</td>\n",
       "      <td>0</td>\n",
       "      <td>0</td>\n",
       "      <td>0</td>\n",
       "      <td>0</td>\n",
       "      <td>0</td>\n",
       "      <td>0</td>\n",
       "      <td>0</td>\n",
       "      <td>...</td>\n",
       "      <td>0</td>\n",
       "      <td>0</td>\n",
       "      <td>0</td>\n",
       "      <td>0</td>\n",
       "      <td>0</td>\n",
       "      <td>0</td>\n",
       "      <td>0</td>\n",
       "      <td>0</td>\n",
       "      <td>0</td>\n",
       "      <td>0</td>\n",
       "    </tr>\n",
       "    <tr>\n",
       "      <th>4</th>\n",
       "      <td>0</td>\n",
       "      <td>0</td>\n",
       "      <td>0</td>\n",
       "      <td>0</td>\n",
       "      <td>0</td>\n",
       "      <td>0</td>\n",
       "      <td>0</td>\n",
       "      <td>0</td>\n",
       "      <td>0</td>\n",
       "      <td>0</td>\n",
       "      <td>...</td>\n",
       "      <td>0</td>\n",
       "      <td>0</td>\n",
       "      <td>0</td>\n",
       "      <td>0</td>\n",
       "      <td>0</td>\n",
       "      <td>0</td>\n",
       "      <td>0</td>\n",
       "      <td>0</td>\n",
       "      <td>0</td>\n",
       "      <td>0</td>\n",
       "    </tr>\n",
       "  </tbody>\n",
       "</table>\n",
       "<p>5 rows × 12572 columns</p>\n",
       "</div>"
      ],
      "text/plain": [
       "   aaron  aback  abandoned  abandons  abba  abc  abcs  abducted  aberrant  \\\n",
       "0      0      0          0         0     0    0     0         0         0   \n",
       "1      0      0          0         0     0    0     0         0         0   \n",
       "2      0      0          0         0     0    0     0         0         0   \n",
       "3      0      0          0         0     0    0     0         0         0   \n",
       "4      0      0          0         0     0    0     0         0         0   \n",
       "\n",
       "   abhorrence  ...  zones  zoo  zooey  zoom  zooms  zootopia  zorro  \\\n",
       "0           0  ...      0    0      0     0      0         0      0   \n",
       "1           0  ...      0    0      0     0      0         0      0   \n",
       "2           0  ...      0    0      0     0      0         0      0   \n",
       "3           0  ...      0    0      0     0      0         0      0   \n",
       "4           0  ...      0    0      0     0      0         0      0   \n",
       "\n",
       "   zuckerberg  zurer  zwick  \n",
       "0           0      0      0  \n",
       "1           0      0      0  \n",
       "2           0      0      0  \n",
       "3           0      0      0  \n",
       "4           0      0      0  \n",
       "\n",
       "[5 rows x 12572 columns]"
      ]
     },
     "execution_count": 293,
     "metadata": {},
     "output_type": "execute_result"
    }
   ],
   "source": [
    "vec = CountVectorizer(token_pattern=r\"([a-zA-Z]+(?:'[a-z]+)?)\", stop_words=sw)\n",
    "X = vec.fit_transform(test_df.review_text)\n",
    "\n",
    "df_cv = pd.DataFrame(X.toarray(), columns=vec.get_feature_names_out())\n",
    "df_cv.head()"
   ]
  },
  {
   "cell_type": "code",
   "execution_count": 288,
   "id": "3432c390",
   "metadata": {
    "ExecuteTime": {
     "end_time": "2022-04-23T19:59:08.606318Z",
     "start_time": "2022-04-23T19:59:08.413853Z"
    },
    "hidden": true
   },
   "outputs": [
    {
     "data": {
      "text/html": [
       "<div>\n",
       "<style scoped>\n",
       "    .dataframe tbody tr th:only-of-type {\n",
       "        vertical-align: middle;\n",
       "    }\n",
       "\n",
       "    .dataframe tbody tr th {\n",
       "        vertical-align: top;\n",
       "    }\n",
       "\n",
       "    .dataframe thead th {\n",
       "        text-align: right;\n",
       "    }\n",
       "</style>\n",
       "<table border=\"1\" class=\"dataframe\">\n",
       "  <thead>\n",
       "    <tr style=\"text-align: right;\">\n",
       "      <th></th>\n",
       "      <th>aaron</th>\n",
       "      <th>aback</th>\n",
       "      <th>abandoned</th>\n",
       "      <th>abandons</th>\n",
       "      <th>abba</th>\n",
       "      <th>abc</th>\n",
       "      <th>abcs</th>\n",
       "      <th>abducted</th>\n",
       "      <th>aberrant</th>\n",
       "      <th>abhorrence</th>\n",
       "      <th>...</th>\n",
       "      <th>zones</th>\n",
       "      <th>zoo</th>\n",
       "      <th>zooey</th>\n",
       "      <th>zoom</th>\n",
       "      <th>zooms</th>\n",
       "      <th>zootopia</th>\n",
       "      <th>zorro</th>\n",
       "      <th>zuckerberg</th>\n",
       "      <th>zurer</th>\n",
       "      <th>zwick</th>\n",
       "    </tr>\n",
       "  </thead>\n",
       "  <tbody>\n",
       "    <tr>\n",
       "      <th>0</th>\n",
       "      <td>0.0</td>\n",
       "      <td>0.0</td>\n",
       "      <td>0.0</td>\n",
       "      <td>0.0</td>\n",
       "      <td>0.0</td>\n",
       "      <td>0.0</td>\n",
       "      <td>0.0</td>\n",
       "      <td>0.0</td>\n",
       "      <td>0.0</td>\n",
       "      <td>0.0</td>\n",
       "      <td>...</td>\n",
       "      <td>0.0</td>\n",
       "      <td>0.0</td>\n",
       "      <td>0.0</td>\n",
       "      <td>0.0</td>\n",
       "      <td>0.0</td>\n",
       "      <td>0.0</td>\n",
       "      <td>0.0</td>\n",
       "      <td>0.0</td>\n",
       "      <td>0.0</td>\n",
       "      <td>0.0</td>\n",
       "    </tr>\n",
       "    <tr>\n",
       "      <th>1</th>\n",
       "      <td>0.0</td>\n",
       "      <td>0.0</td>\n",
       "      <td>0.0</td>\n",
       "      <td>0.0</td>\n",
       "      <td>0.0</td>\n",
       "      <td>0.0</td>\n",
       "      <td>0.0</td>\n",
       "      <td>0.0</td>\n",
       "      <td>0.0</td>\n",
       "      <td>0.0</td>\n",
       "      <td>...</td>\n",
       "      <td>0.0</td>\n",
       "      <td>0.0</td>\n",
       "      <td>0.0</td>\n",
       "      <td>0.0</td>\n",
       "      <td>0.0</td>\n",
       "      <td>0.0</td>\n",
       "      <td>0.0</td>\n",
       "      <td>0.0</td>\n",
       "      <td>0.0</td>\n",
       "      <td>0.0</td>\n",
       "    </tr>\n",
       "    <tr>\n",
       "      <th>2</th>\n",
       "      <td>0.0</td>\n",
       "      <td>0.0</td>\n",
       "      <td>0.0</td>\n",
       "      <td>0.0</td>\n",
       "      <td>0.0</td>\n",
       "      <td>0.0</td>\n",
       "      <td>0.0</td>\n",
       "      <td>0.0</td>\n",
       "      <td>0.0</td>\n",
       "      <td>0.0</td>\n",
       "      <td>...</td>\n",
       "      <td>0.0</td>\n",
       "      <td>0.0</td>\n",
       "      <td>0.0</td>\n",
       "      <td>0.0</td>\n",
       "      <td>0.0</td>\n",
       "      <td>0.0</td>\n",
       "      <td>0.0</td>\n",
       "      <td>0.0</td>\n",
       "      <td>0.0</td>\n",
       "      <td>0.0</td>\n",
       "    </tr>\n",
       "    <tr>\n",
       "      <th>3</th>\n",
       "      <td>0.0</td>\n",
       "      <td>0.0</td>\n",
       "      <td>0.0</td>\n",
       "      <td>0.0</td>\n",
       "      <td>0.0</td>\n",
       "      <td>0.0</td>\n",
       "      <td>0.0</td>\n",
       "      <td>0.0</td>\n",
       "      <td>0.0</td>\n",
       "      <td>0.0</td>\n",
       "      <td>...</td>\n",
       "      <td>0.0</td>\n",
       "      <td>0.0</td>\n",
       "      <td>0.0</td>\n",
       "      <td>0.0</td>\n",
       "      <td>0.0</td>\n",
       "      <td>0.0</td>\n",
       "      <td>0.0</td>\n",
       "      <td>0.0</td>\n",
       "      <td>0.0</td>\n",
       "      <td>0.0</td>\n",
       "    </tr>\n",
       "    <tr>\n",
       "      <th>4</th>\n",
       "      <td>0.0</td>\n",
       "      <td>0.0</td>\n",
       "      <td>0.0</td>\n",
       "      <td>0.0</td>\n",
       "      <td>0.0</td>\n",
       "      <td>0.0</td>\n",
       "      <td>0.0</td>\n",
       "      <td>0.0</td>\n",
       "      <td>0.0</td>\n",
       "      <td>0.0</td>\n",
       "      <td>...</td>\n",
       "      <td>0.0</td>\n",
       "      <td>0.0</td>\n",
       "      <td>0.0</td>\n",
       "      <td>0.0</td>\n",
       "      <td>0.0</td>\n",
       "      <td>0.0</td>\n",
       "      <td>0.0</td>\n",
       "      <td>0.0</td>\n",
       "      <td>0.0</td>\n",
       "      <td>0.0</td>\n",
       "    </tr>\n",
       "  </tbody>\n",
       "</table>\n",
       "<p>5 rows × 12572 columns</p>\n",
       "</div>"
      ],
      "text/plain": [
       "   aaron  aback  abandoned  abandons  abba  abc  abcs  abducted  aberrant  \\\n",
       "0    0.0    0.0        0.0       0.0   0.0  0.0   0.0       0.0       0.0   \n",
       "1    0.0    0.0        0.0       0.0   0.0  0.0   0.0       0.0       0.0   \n",
       "2    0.0    0.0        0.0       0.0   0.0  0.0   0.0       0.0       0.0   \n",
       "3    0.0    0.0        0.0       0.0   0.0  0.0   0.0       0.0       0.0   \n",
       "4    0.0    0.0        0.0       0.0   0.0  0.0   0.0       0.0       0.0   \n",
       "\n",
       "   abhorrence  ...  zones  zoo  zooey  zoom  zooms  zootopia  zorro  \\\n",
       "0         0.0  ...    0.0  0.0    0.0   0.0    0.0       0.0    0.0   \n",
       "1         0.0  ...    0.0  0.0    0.0   0.0    0.0       0.0    0.0   \n",
       "2         0.0  ...    0.0  0.0    0.0   0.0    0.0       0.0    0.0   \n",
       "3         0.0  ...    0.0  0.0    0.0   0.0    0.0       0.0    0.0   \n",
       "4         0.0  ...    0.0  0.0    0.0   0.0    0.0       0.0    0.0   \n",
       "\n",
       "   zuckerberg  zurer  zwick  \n",
       "0         0.0    0.0    0.0  \n",
       "1         0.0    0.0    0.0  \n",
       "2         0.0    0.0    0.0  \n",
       "3         0.0    0.0    0.0  \n",
       "4         0.0    0.0    0.0  \n",
       "\n",
       "[5 rows x 12572 columns]"
      ]
     },
     "execution_count": 288,
     "metadata": {},
     "output_type": "execute_result"
    }
   ],
   "source": [
    "tf_vec = TfidfVectorizer(token_pattern=r\"([a-zA-Z]+(?:'[a-z]+)?)\", stop_words=sw)\n",
    "X = tf_vec.fit_transform(test_df.review_text)\n",
    "\n",
    "df = pd.DataFrame(X.toarray(), columns = tf_vec.get_feature_names_out())\n",
    "df.head()"
   ]
  },
  {
   "cell_type": "code",
   "execution_count": 289,
   "id": "ca9efe1e",
   "metadata": {
    "ExecuteTime": {
     "end_time": "2022-04-23T19:59:59.551173Z",
     "start_time": "2022-04-23T19:59:59.542769Z"
    },
    "hidden": true
   },
   "outputs": [
    {
     "data": {
      "text/plain": [
       "'The fourth film in the series. Placed, in time, somewhere between the first and the third. I am not completely sure whether this film plays before the second film, or after the second film - both scenarios would work out. Anyway, being the fourth film in the series there is little left to be explained and so the action starts rolling right from the very first seconds of the film and it doesn\\'t run flat until a long while later. The story line is more or less the same as the first film and the roles being played out are much the same too.In fact, that is where this film fails to work out all that well - it is too much of a copy of the original one and although its subtitle is \"original parts\" that really does not make it worth the cinema time - the first film is not so old that there is a whole generation of people between that one and this one. It is not a bad film and for the fans of the series this is a worthy watch but I would have hoped they had done some more work on the story line and a little on the fast pace action - it would have made for a better and more attractive film.5 out of 10 high speed chases'"
      ]
     },
     "execution_count": 289,
     "metadata": {},
     "output_type": "execute_result"
    }
   ],
   "source": [
    "test_df.iloc[0].review_text"
   ]
  },
  {
   "cell_type": "code",
   "execution_count": 290,
   "id": "8cacee69",
   "metadata": {
    "ExecuteTime": {
     "end_time": "2022-04-23T20:00:28.775047Z",
     "start_time": "2022-04-23T20:00:28.763612Z"
    },
    "hidden": true
   },
   "outputs": [
    {
     "data": {
      "text/plain": [
       "film         0.401541\n",
       "fourth       0.248957\n",
       "series       0.246509\n",
       "first        0.208117\n",
       "work         0.205230\n",
       "line         0.167590\n",
       "second       0.157543\n",
       "original     0.154912\n",
       "scenarios    0.153312\n",
       "would        0.139922\n",
       "Name: 0, dtype: float64"
      ]
     },
     "execution_count": 290,
     "metadata": {},
     "output_type": "execute_result"
    }
   ],
   "source": [
    "df.iloc[0].sort_values(ascending=False)[:10]"
   ]
  },
  {
   "cell_type": "code",
   "execution_count": 294,
   "id": "59be98a5",
   "metadata": {
    "ExecuteTime": {
     "end_time": "2022-04-23T20:03:36.511947Z",
     "start_time": "2022-04-23T20:03:36.490591Z"
    },
    "hidden": true
   },
   "outputs": [
    {
     "data": {
      "text/plain": [
       "film      11\n",
       "first      4\n",
       "series     3\n",
       "work       3\n",
       "one        3\n",
       "would      3\n",
       "fourth     2\n",
       "story      2\n",
       "much       2\n",
       "second     2\n",
       "Name: 0, dtype: int64"
      ]
     },
     "execution_count": 294,
     "metadata": {},
     "output_type": "execute_result"
    }
   ],
   "source": [
    "df_cv.iloc[0].sort_values(ascending=False)[:10]"
   ]
  },
  {
   "cell_type": "code",
   "execution_count": null,
   "id": "26a34b05",
   "metadata": {
    "hidden": true
   },
   "outputs": [],
   "source": []
  }
 ],
 "metadata": {
  "kernelspec": {
   "display_name": "Python 3 (ipykernel)",
   "language": "python",
   "name": "python3"
  },
  "language_info": {
   "codemirror_mode": {
    "name": "ipython",
    "version": 3
   },
   "file_extension": ".py",
   "mimetype": "text/x-python",
   "name": "python",
   "nbconvert_exporter": "python",
   "pygments_lexer": "ipython3",
   "version": "3.9.7"
  },
  "toc": {
   "base_numbering": 1,
   "nav_menu": {},
   "number_sections": true,
   "sideBar": true,
   "skip_h1_title": false,
   "title_cell": "Table of Contents",
   "title_sidebar": "Contents",
   "toc_cell": false,
   "toc_position": {
    "height": "calc(100% - 180px)",
    "left": "10px",
    "top": "150px",
    "width": "512px"
   },
   "toc_section_display": true,
   "toc_window_display": true
  },
  "varInspector": {
   "cols": {
    "lenName": 16,
    "lenType": 16,
    "lenVar": 40
   },
   "kernels_config": {
    "python": {
     "delete_cmd_postfix": "",
     "delete_cmd_prefix": "del ",
     "library": "var_list.py",
     "varRefreshCmd": "print(var_dic_list())"
    },
    "r": {
     "delete_cmd_postfix": ") ",
     "delete_cmd_prefix": "rm(",
     "library": "var_list.r",
     "varRefreshCmd": "cat(var_dic_list()) "
    }
   },
   "position": {
    "height": "769.844px",
    "left": "1882px",
    "right": "20px",
    "top": "125px",
    "width": "619px"
   },
   "types_to_exclude": [
    "module",
    "function",
    "builtin_function_or_method",
    "instance",
    "_Feature"
   ],
   "window_display": false
  }
 },
 "nbformat": 4,
 "nbformat_minor": 5
}
