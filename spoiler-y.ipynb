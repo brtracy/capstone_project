{
 "cells": [
  {
   "cell_type": "markdown",
   "id": "c0fe5c62",
   "metadata": {
    "heading_collapsed": true
   },
   "source": [
    "# Imports"
   ]
  },
  {
   "cell_type": "code",
   "execution_count": 1,
   "id": "f669c976",
   "metadata": {
    "ExecuteTime": {
     "end_time": "2022-04-26T13:12:03.562269Z",
     "start_time": "2022-04-26T13:11:53.880618Z"
    },
    "hidden": true
   },
   "outputs": [],
   "source": [
    "import pandas as pd\n",
    "import numpy as np\n",
    "import re\n",
    "import string\n",
    "import json\n",
    "import os\n",
    "\n",
    "import matplotlib.pyplot as plt\n",
    "import matplotlib as mpl\n",
    "%matplotlib inline\n",
    "\n",
    "import spacy\n",
    "\n",
    "import nltk\n",
    "from nltk import pos_tag\n",
    "from nltk.corpus import wordnet\n",
    "from nltk.probability import FreqDist\n",
    "from nltk.corpus import stopwords\n",
    "from nltk.tokenize import regexp_tokenize, word_tokenize, RegexpTokenizer\n",
    "\n",
    "from sklearn.model_selection import train_test_split, GridSearchCV\n",
    "from sklearn.preprocessing import StandardScaler\n",
    "from sklearn.linear_model import SGDClassifier\n",
    "from sklearn.metrics import confusion_matrix, ConfusionMatrixDisplay,\\\n",
    "classification_report, accuracy_score, precision_score\n",
    "\n",
    "from sklearn.feature_extraction.text import CountVectorizer, TfidfVectorizer,\\\n",
    "HashingVectorizer\n",
    "\n",
    "from sklearn.ensemble import RandomForestClassifier\n",
    "from sklearn.naive_bayes import MultinomialNB"
   ]
  },
  {
   "cell_type": "markdown",
   "id": "d255d32b",
   "metadata": {
    "hidden": true
   },
   "source": [
    "_________________"
   ]
  },
  {
   "cell_type": "markdown",
   "id": "5b8bd5ae",
   "metadata": {
    "hidden": true
   },
   "source": [
    "**Helper Functions**"
   ]
  },
  {
   "cell_type": "code",
   "execution_count": 6,
   "id": "e9058ba6",
   "metadata": {
    "ExecuteTime": {
     "end_time": "2022-04-26T13:30:28.615160Z",
     "start_time": "2022-04-26T13:30:28.602729Z"
    },
    "hidden": true
   },
   "outputs": [],
   "source": [
    "def confusion_matrix_plot(y_true, y_pred, class_names):\n",
    "    cm = confusion_matrix(y_true, y_pred)\n",
    "    disp = ConfusionMatrixDisplay(confusion_matrix=cm, display_labels=class_names)\n",
    "    disp.plot(cmap=plt.cm.Blues)\n",
    "    return plt.show()\n",
    "\n",
    "def report(y_true, y_pred, class_names=['no_spoiler', 'spoiler']):\n",
    "    print(classification_report(y_true, y_pred, target_names=class_names))\n",
    "    confusion_matrix_plot(y_true, y_pred, class_names)"
   ]
  },
  {
   "cell_type": "markdown",
   "id": "b345017f",
   "metadata": {
    "hidden": true
   },
   "source": [
    "_________\n",
    "\n",
    "Skip to section 2.3 to load the large dataframe. Then we can run all cells in the remainder of section 2 as well as sections 3 and 4.\n",
    "\n",
    "To save we can also skip to section 7 and load the review dataframe (with original and lemmatized reviews) and the summaries dataframe for current modeling."
   ]
  },
  {
   "cell_type": "markdown",
   "id": "80fd5677",
   "metadata": {
    "heading_collapsed": true
   },
   "source": [
    "# EDA"
   ]
  },
  {
   "cell_type": "markdown",
   "id": "10097137",
   "metadata": {
    "heading_collapsed": true,
    "hidden": true
   },
   "source": [
    "## Movie Details"
   ]
  },
  {
   "cell_type": "code",
   "execution_count": null,
   "id": "3f94bc6e",
   "metadata": {
    "hidden": true,
    "scrolled": true
   },
   "outputs": [],
   "source": [
    "movie_details = pd.read_json('./data/IMDB_movie_details.json', lines=True)\n",
    "display(movie_details.info())\n",
    "movie_details"
   ]
  },
  {
   "cell_type": "markdown",
   "id": "653a024b",
   "metadata": {
    "hidden": true
   },
   "source": [
    "Convert 'release_date' to a datetime object"
   ]
  },
  {
   "cell_type": "code",
   "execution_count": null,
   "id": "366546b1",
   "metadata": {
    "hidden": true
   },
   "outputs": [],
   "source": [
    "movie_details['release_date'] = pd.to_datetime(movie_details.release_date)"
   ]
  },
  {
   "cell_type": "markdown",
   "id": "b361ba6d",
   "metadata": {
    "hidden": true
   },
   "source": [
    "Convert duration into a minute count (integer)"
   ]
  },
  {
   "cell_type": "code",
   "execution_count": null,
   "id": "ebdc0b96",
   "metadata": {
    "hidden": true
   },
   "outputs": [],
   "source": [
    "hour = re.compile('(\\d+)h')\n",
    "minute = re.compile('(\\d+)min')\n",
    "\n",
    "def duration_convert(df):\n",
    "    # set intial duration to 0\n",
    "    duration = 0\n",
    "    # find number of hours and minutes\n",
    "    hour_found = hour.findall(df.duration)\n",
    "    minute_found = minute.findall(df.duration)\n",
    "    # if hours, multiply value by 60 and add to duration\n",
    "    if hour_found:\n",
    "        duration += 60 * int(hour_found[0])\n",
    "    # if minutes, add to duration\n",
    "    if minute_found:\n",
    "        duration += int(minute_found[0])\n",
    "    # return total number of minutes\n",
    "    return duration\n",
    "\n",
    "movie_details['duration'] = movie_details.apply(duration_convert, axis=1)"
   ]
  },
  {
   "cell_type": "markdown",
   "id": "6834d6c9",
   "metadata": {
    "hidden": true
   },
   "source": [
    "Confirm that genre contains lists for possible future genre analysis"
   ]
  },
  {
   "cell_type": "code",
   "execution_count": null,
   "id": "3c9d9c90",
   "metadata": {
    "hidden": true
   },
   "outputs": [],
   "source": [
    "for i in list(range(len(movie_details))):\n",
    "    count = 0\n",
    "    if str(type(movie_details.iloc[i].genre)) != \"<class 'list'>\":\n",
    "        count += 1\n",
    "        print(type(movie_details.iloc[i].genre))\n",
    "print(f\"There are {count} entries for genre that are not a list\")"
   ]
  },
  {
   "cell_type": "markdown",
   "id": "9fed2c3f",
   "metadata": {
    "hidden": true
   },
   "source": [
    "_____________\n",
    "Check on how many empty plot summary/synopsis there are"
   ]
  },
  {
   "cell_type": "code",
   "execution_count": null,
   "id": "ea6e8e94",
   "metadata": {
    "hidden": true,
    "run_control": {
     "marked": false
    }
   },
   "outputs": [],
   "source": [
    "empty_summary = len(movie_details[movie_details.plot_summary == ''])\n",
    "empty_synopsis = len(movie_details[movie_details.plot_synopsis == ''])\n",
    "print(f\"There are {empty_summary} entries with an empty summary.\\nThere are {empty_synopsis} entries with an empty synopsis.\")"
   ]
  },
  {
   "cell_type": "code",
   "execution_count": null,
   "id": "efcae333",
   "metadata": {
    "hidden": true
   },
   "outputs": [],
   "source": [
    "first_summary_len = len(movie_details.iloc[0].plot_summary)\n",
    "first_synopsis_len = len(movie_details.iloc[0].plot_synopsis)\n",
    "print(f\"The first entry summary length is: {first_summary_len}\\nThe first entry synopsis length is: {first_synopsis_len}\")"
   ]
  },
  {
   "cell_type": "markdown",
   "id": "42be0458",
   "metadata": {
    "hidden": true
   },
   "source": [
    "The first entry's summary and synopsis reveals that the former is shorter than the latter, which is the field containing some missing values. Checking the whole dataframe to see if that relationship is always the case."
   ]
  },
  {
   "cell_type": "code",
   "execution_count": null,
   "id": "c7d04a96",
   "metadata": {
    "hidden": true
   },
   "outputs": [],
   "source": [
    "count = 0\n",
    "\n",
    "for i in list(range(len(movie_details))):\n",
    "    summary_len = len(movie_details.iloc[i].plot_summary)\n",
    "    synopsis_len = len(movie_details.iloc[i].plot_synopsis)\n",
    "    if summary_len > synopsis_len:\n",
    "        count += 1\n",
    "\n",
    "difference = count - empty_synopsis\n",
    "    \n",
    "print(f\"There are {count} entries where the summary length is greater than the synopsis length.\")\n",
    "print(f\"There are {difference} of these entries that contain a synopsis.\")"
   ]
  },
  {
   "cell_type": "markdown",
   "id": "76b91fdf",
   "metadata": {
    "hidden": true
   },
   "source": [
    "With that many missing, we will use the film summary instead of synopsis.\n",
    "____________\n",
    "The quantity of unique values from movie_reviews' movie_id match the number of films we have in the movie details. Some of the movie_id values in the movie_details dataframe have a trailing '/' character which will affect matching when we merge the two dataframes."
   ]
  },
  {
   "cell_type": "code",
   "execution_count": null,
   "id": "16cab04c",
   "metadata": {
    "hidden": true
   },
   "outputs": [],
   "source": [
    "def fix_movie_id(df):\n",
    "    if df.movie_id[-1] == '/':\n",
    "        return  df.movie_id[:-1]\n",
    "    else:\n",
    "        return df.movie_id\n",
    "\n",
    "movie_details['movie_id'] = movie_details.apply(fix_movie_id, axis=1)"
   ]
  },
  {
   "cell_type": "markdown",
   "id": "c804d7d2",
   "metadata": {
    "heading_collapsed": true,
    "hidden": true
   },
   "source": [
    "### Entity extraction of film summary"
   ]
  },
  {
   "cell_type": "code",
   "execution_count": null,
   "id": "da063449",
   "metadata": {
    "hidden": true
   },
   "outputs": [],
   "source": [
    "# def summary_entities(row):\n",
    "#     # get the film summary\n",
    "#     summary = row.plot_summary\n",
    "#     # generate new features for character and word count of the summary\n",
    "#     row['summary_char_count'] = len(summary)\n",
    "#     row['summary_word_count'] = len(summary.split(' '))\n",
    "#     # get the entities with spacy\n",
    "#     doc = nlp(summary)\n",
    "#     # initialize list of entities and their counts\n",
    "#     ent_list = []\n",
    "#     ent_count = []\n",
    "#     # append each entity to the list of entities\n",
    "#     for ent in doc.ents:\n",
    "#         ent_list.append(ent.text)\n",
    "#     # generate the set of unique entities\n",
    "#     ent_set = set(ent_list)\n",
    "#     # append a tuple to ent_count with each found entity and its count\n",
    "#     for ent in ent_set:\n",
    "#         ent_count.append((ent, ent_list.count(ent)))\n",
    "#     # set number of unique entities and initialize the total count to 0\n",
    "#     unique_ents = len(ent_count)\n",
    "#     unique_ent_count = 0\n",
    "#     # for each tuple, add the count from the entity frequency to the total count\n",
    "#     for x in ent_count:\n",
    "#         unique_ent_count += x[1]\n",
    "#     # get the average count for an entity\n",
    "#     if unique_ents != 0:\n",
    "#         avg_count = round(unique_ent_count / unique_ents, 2)\n",
    "#     else:\n",
    "#         avg_count = 0\n",
    "#     # generate new features for the total entity count, unique count, and avg frequency\n",
    "#     row['summary_entity_count'] = len(ent_list)\n",
    "#     row['summary_unique_entities'] = unique_ents\n",
    "#     row['summary_avg_entity_freq'] = avg_count\n",
    "#     # return the row\n",
    "#     return row\n",
    "\n",
    "# movie_details = movie_details.apply(summary_entities, axis=1)"
   ]
  },
  {
   "cell_type": "markdown",
   "id": "6b3b4388",
   "metadata": {
    "heading_collapsed": true,
    "hidden": true
   },
   "source": [
    "### Tokenize film summary"
   ]
  },
  {
   "cell_type": "code",
   "execution_count": null,
   "id": "cbf385d8",
   "metadata": {
    "hidden": true
   },
   "outputs": [],
   "source": [
    "# summary_stopwords = stopwords.words('english')\n",
    "# pattern = \"([a-zA-Z]+(?:'[a-z]+)?)\"\n",
    "# tokenizer = RegexpTokenizer(pattern)\n",
    "\n",
    "# def summary_tokenize(row):\n",
    "#     # get the film summary\n",
    "#     summary = row.plot_summary\n",
    "#     # tokenize\n",
    "#     summary_tokens = tokenizer.tokenize(summary)\n",
    "#     summary_tokens = [token.lower() for token in summary_tokens]\n",
    "#     summary_tokens = [token for token in summary_tokens if token not in summary_stopwords]\n",
    "#     # set new feature to token list\n",
    "#     row['summary_tokens'] = summary_tokens\n",
    "#     row['summary_token_count'] = len(summary_tokens)\n",
    "#     return row\n",
    "\n",
    "# movie_details = movie_details.apply(summary_tokenize, axis=1)"
   ]
  },
  {
   "cell_type": "markdown",
   "id": "21657f7d",
   "metadata": {
    "heading_collapsed": true,
    "hidden": true
   },
   "source": [
    "## Movie Reviews"
   ]
  },
  {
   "cell_type": "code",
   "execution_count": null,
   "id": "6d1ca975",
   "metadata": {
    "hidden": true
   },
   "outputs": [],
   "source": [
    "movie_reviews = pd.read_json('./data/IMDB_reviews.json', lines=True)\n",
    "display(movie_reviews.info())\n",
    "movie_reviews"
   ]
  },
  {
   "cell_type": "code",
   "execution_count": null,
   "id": "59552a0e",
   "metadata": {
    "hidden": true
   },
   "outputs": [],
   "source": [
    "unique_movies_in_reviews = movie_reviews.movie_id.nunique()\n",
    "print(f\"There are {len(movie_details)} entries in movie_details and {unique_movies_in_reviews} unique movie_id's in movie_reviews\")"
   ]
  },
  {
   "cell_type": "markdown",
   "id": "d1b20a04",
   "metadata": {
    "hidden": true
   },
   "source": [
    "Converting the review_date to datetime"
   ]
  },
  {
   "cell_type": "code",
   "execution_count": null,
   "id": "7425e306",
   "metadata": {
    "hidden": true
   },
   "outputs": [],
   "source": [
    "movie_reviews['review_date'] = pd.to_datetime(movie_reviews.review_date)"
   ]
  },
  {
   "cell_type": "code",
   "execution_count": null,
   "id": "3b5af0ce",
   "metadata": {
    "hidden": true
   },
   "outputs": [],
   "source": [
    "movie_reviews.describe(datetime_is_numeric=True)"
   ]
  },
  {
   "cell_type": "markdown",
   "id": "c6730cd8",
   "metadata": {
    "heading_collapsed": true,
    "hidden": true
   },
   "source": [
    "### Entity extraction of reviews"
   ]
  },
  {
   "cell_type": "markdown",
   "id": "63f280a9",
   "metadata": {
    "hidden": true
   },
   "source": [
    "This processing takes just under 8 hours."
   ]
  },
  {
   "cell_type": "code",
   "execution_count": null,
   "id": "58b5da6b",
   "metadata": {
    "hidden": true
   },
   "outputs": [],
   "source": [
    "# nlp = spacy.load('en_core_web_sm')\n",
    "\n",
    "# def entity_info(row):\n",
    "#     # get the review summary\n",
    "#     review = row.review_text\n",
    "#     # generate new features for character and word count of the summary\n",
    "#     row['char_count'] = len(review)\n",
    "#     row['word_count'] = len(review.split(' '))\n",
    "#     # get the entities with spacy\n",
    "#     doc = nlp(review)\n",
    "#     # initialize list of entities and their counts\n",
    "#     ent_list = []\n",
    "#     ent_count = []\n",
    "#     # append each entity to the list of entities\n",
    "#     for ent in doc.ents:\n",
    "#         ent_list.append(ent.text)\n",
    "#     # generate the set of unique entities\n",
    "#     ent_set = set(ent_list)\n",
    "#     # append a tuple to ent_count with each found entity and its count\n",
    "#     for ent in ent_set:\n",
    "#         ent_count.append((ent, ent_list.count(ent)))\n",
    "#     # set number of unique entities and initialize the total count to 0\n",
    "#     unique_ents = len(ent_count)\n",
    "#     unique_ent_count = 0\n",
    "#     # for each tuple, add the count from the entity frequency to the total count\n",
    "#     for x in ent_count:\n",
    "#         unique_ent_count += x[1]\n",
    "#     # get the average count for an entity\n",
    "#     if unique_ents != 0:\n",
    "#         avg_count = round(unique_ent_count / unique_ents, 2)\n",
    "#     else:\n",
    "#         avg_count = 0\n",
    "#     # generate new features for the total entity count, unique count, and avg frequency\n",
    "#     row['entity_count'] = len(ent_list)\n",
    "#     row['unique_entities'] = unique_ents\n",
    "#     row['avg_entity_freq'] = avg_count\n",
    "#     # return the row\n",
    "#     return row\n",
    "\n",
    "# movie_reviews = movie_reviews.apply(entity_info, axis=1)"
   ]
  },
  {
   "cell_type": "markdown",
   "id": "fba7dba4",
   "metadata": {
    "heading_collapsed": true,
    "hidden": true
   },
   "source": [
    "### Tokenize reviews"
   ]
  },
  {
   "cell_type": "code",
   "execution_count": null,
   "id": "a3209718",
   "metadata": {
    "hidden": true
   },
   "outputs": [],
   "source": [
    "# summary_stopwords = stopwords.words('english')\n",
    "# pattern = \"([a-zA-Z]+(?:'[a-z]+)?)\"\n",
    "# tokenizer = RegexpTokenizer(pattern)\n",
    "\n",
    "# def review_tokenize(row):\n",
    "#     # get the film review\n",
    "#     review = row.review_text\n",
    "#     # tokenize\n",
    "#     review_tokens = tokenizer.tokenize(review)\n",
    "#     review_tokens = [token.lower() for token in review_tokens]\n",
    "#     review_tokens = [token for token in review_tokens if token not in summary_stopwords]\n",
    "#     # set new feature to token list\n",
    "#     row['review_tokens'] = review_tokens\n",
    "#     row['review_token_count'] = len(review_tokens)\n",
    "#     return row\n",
    "\n",
    "# movie_reviews = movie_reviews.apply(review_tokenize, axis=1)"
   ]
  },
  {
   "cell_type": "markdown",
   "id": "1ad5bea1",
   "metadata": {
    "heading_collapsed": true,
    "hidden": true
   },
   "source": [
    "## Merging details and reviews"
   ]
  },
  {
   "cell_type": "code",
   "execution_count": null,
   "id": "b9905230",
   "metadata": {
    "hidden": true
   },
   "outputs": [],
   "source": [
    "# merged_df = pd.merge(movie_details, movie_reviews, on='movie_id', how=\"right\")\n",
    "\n",
    "# corrected_columns = ['movie_id', 'plot_summary', 'duration', 'genre', 'film_rating',\n",
    "#                      'release_date', 'plot_synopsis', 'summary_char_count',\n",
    "#                      'summary_word_count', 'summary_entity_count', 'summary_unique_entities',\n",
    "#                      'summary_avg_entity_freq', 'summary_tokens', 'summary_token_count',\n",
    "#                      'review_date', 'user_id', 'is_spoiler', 'review_text', 'reviewer_rating',\n",
    "#                      'review_summary', 'review_char_count', 'review_word_count', 'review_entity_count',\n",
    "#                      'review_unique_entities', 'review_avg_entity_freq', 'review_tokens',\n",
    "#                      'review_token_count']\n",
    "\n",
    "# merged_df.columns = corrected_columns\n",
    "\n",
    "# merged_df.to_parquet('./data/full_dataframe.parquet')"
   ]
  },
  {
   "cell_type": "markdown",
   "id": "52cbe643",
   "metadata": {
    "hidden": true
   },
   "source": [
    "This cell reads in the full dataframe from the saved parquet file. The file is large, 573,913 entries with 27 features, takes up about 1.9 GB of space. The load takes about a minute"
   ]
  },
  {
   "cell_type": "code",
   "execution_count": null,
   "id": "9b1ea75f",
   "metadata": {
    "hidden": true
   },
   "outputs": [],
   "source": [
    "merged_df = pd.read_parquet('./data/full_dataframe.parquet')"
   ]
  },
  {
   "cell_type": "code",
   "execution_count": null,
   "id": "901c7a2d",
   "metadata": {
    "hidden": true
   },
   "outputs": [],
   "source": [
    "merged_df.info()"
   ]
  },
  {
   "cell_type": "code",
   "execution_count": null,
   "id": "4bf45e31",
   "metadata": {
    "hidden": true
   },
   "outputs": [],
   "source": [
    "merged_df['is_spoiler'] = merged_df.is_spoiler.astype(int)"
   ]
  },
  {
   "cell_type": "code",
   "execution_count": null,
   "id": "52b9d51c",
   "metadata": {
    "hidden": true
   },
   "outputs": [],
   "source": [
    "merged_df[merged_df.is_spoiler == 1].describe()"
   ]
  },
  {
   "cell_type": "code",
   "execution_count": null,
   "id": "9ab3b5b5",
   "metadata": {
    "hidden": true
   },
   "outputs": [],
   "source": [
    "merged_df[merged_df.is_spoiler == 0].describe()"
   ]
  },
  {
   "cell_type": "markdown",
   "id": "67c625f2",
   "metadata": {
    "heading_collapsed": true,
    "hidden": true
   },
   "source": [
    "## Explore spoilers vs non-spoilers"
   ]
  },
  {
   "cell_type": "markdown",
   "id": "4892e270",
   "metadata": {
    "hidden": true
   },
   "source": [
    "Initial observations from the describe calls on reviews marked as spoiler versus ones that are not:\n",
    "- The reviewer rating is about half a point lower on average for reviews marked as spoilers\n",
    "- The review word count of a spoiler review is longer on average by about 44% (232 -> 335), but does have a more variation\n",
    "- Rougly the same can be said about the entity counts (raw and unique)\n",
    "\n",
    "It looks like there is nothing glaringly obvious about the difference between spoiler and non-spoiler reviews"
   ]
  },
  {
   "cell_type": "markdown",
   "id": "7b39f5c4",
   "metadata": {
    "heading_collapsed": true,
    "hidden": true
   },
   "source": [
    "### frequency"
   ]
  },
  {
   "cell_type": "code",
   "execution_count": null,
   "id": "a583fd50",
   "metadata": {
    "hidden": true
   },
   "outputs": [],
   "source": [
    "merged_df.groupby('is_spoiler').size().plot(kind='pie')"
   ]
  },
  {
   "cell_type": "markdown",
   "id": "475fa702",
   "metadata": {
    "heading_collapsed": true,
    "hidden": true
   },
   "source": [
    "### by genre"
   ]
  },
  {
   "cell_type": "markdown",
   "id": "f87bc1b1",
   "metadata": {
    "hidden": true
   },
   "source": [
    "Pull just the genre feature along with the target 'is_spoiler' so that each film is represented in each genre it's a part of."
   ]
  },
  {
   "cell_type": "code",
   "execution_count": null,
   "id": "d276d40f",
   "metadata": {
    "hidden": true
   },
   "outputs": [],
   "source": [
    "genres = merged_df[['genre', 'is_spoiler']].explode('genre').copy()"
   ]
  },
  {
   "cell_type": "code",
   "execution_count": null,
   "id": "93eb1ff6",
   "metadata": {
    "hidden": true
   },
   "outputs": [],
   "source": [
    "genres.groupby(['genre', 'is_spoiler']).size().unstack().plot(kind='bar', stacked=True, figsize=(15,8));"
   ]
  },
  {
   "cell_type": "code",
   "execution_count": null,
   "id": "8962f17a",
   "metadata": {
    "hidden": true
   },
   "outputs": [],
   "source": [
    "genre_breakdown = genres.groupby(['genre', 'is_spoiler']).size().unstack()\n",
    "# genre_breakdown['percent_true'] = genre_breakdown.apply(lambda x: x..True / (x.True + x.False))"
   ]
  },
  {
   "cell_type": "code",
   "execution_count": null,
   "id": "772c3c99",
   "metadata": {
    "hidden": true
   },
   "outputs": [],
   "source": [
    "genre_breakdown"
   ]
  },
  {
   "cell_type": "code",
   "execution_count": null,
   "id": "c9d88b1e",
   "metadata": {
    "hidden": true
   },
   "outputs": [],
   "source": []
  },
  {
   "cell_type": "markdown",
   "id": "b22c4506",
   "metadata": {
    "heading_collapsed": true,
    "hidden": true
   },
   "source": [
    "### by user ID"
   ]
  },
  {
   "cell_type": "code",
   "execution_count": null,
   "id": "d25bfe0c",
   "metadata": {
    "hidden": true
   },
   "outputs": [],
   "source": [
    "user_ids = merged_df[['user_id', 'is_spoiler']].copy()\n",
    "user_ids.user_id.value_counts()"
   ]
  },
  {
   "cell_type": "code",
   "execution_count": null,
   "id": "a4ddc88c",
   "metadata": {
    "hidden": true
   },
   "outputs": [],
   "source": [
    "user_ids.user_id.value_counts().values.sum() / len(user_ids.user_id.value_counts())"
   ]
  },
  {
   "cell_type": "markdown",
   "id": "0105ff73",
   "metadata": {
    "hidden": true
   },
   "source": [
    "There are 263,407 unique users represented in the data. We can see that the vast majority do not comment more than once. The average number of comments is 2.17. Lets look at our top 20 commenters."
   ]
  },
  {
   "cell_type": "code",
   "execution_count": null,
   "id": "032fb751",
   "metadata": {
    "hidden": true
   },
   "outputs": [],
   "source": [
    "user_id_split_df = user_ids.groupby(['user_id', 'is_spoiler']).size().unstack().sort_values(by=0, ascending=False)\n",
    "user_id_split_df.\n",
    "user_id_split_df[:20]"
   ]
  },
  {
   "cell_type": "markdown",
   "id": "31a9ff01",
   "metadata": {
    "hidden": true
   },
   "source": [
    "There are some null values where the user only has comments of one target class or the other. We will set them to zero"
   ]
  },
  {
   "cell_type": "code",
   "execution_count": null,
   "id": "4fec7b63",
   "metadata": {
    "hidden": true
   },
   "outputs": [],
   "source": [
    "user_id_split_df.fillna(0.0, inplace=True)"
   ]
  },
  {
   "cell_type": "code",
   "execution_count": null,
   "id": "c619c24c",
   "metadata": {
    "hidden": true
   },
   "outputs": [],
   "source": [
    "testing = user_id_split_df.reset_index()\n",
    "testing.columns = ['user_id', 'non_spoiler', 'spoiler']\n",
    "testing"
   ]
  },
  {
   "cell_type": "code",
   "execution_count": null,
   "id": "5a752a67",
   "metadata": {
    "hidden": true
   },
   "outputs": [],
   "source": [
    "def total_and_percent(row):\n",
    "    \n",
    "    total = row.non_spoiler + row.spoiler\n",
    "    row['total'] = total\n",
    "    \n",
    "    if row.non_spoiler == 0.0:\n",
    "        row['percent_spoiled'] = 1.0\n",
    "        \n",
    "    else:\n",
    "        row['percent_spoiled'] = row.spoiler / total\n",
    "        \n",
    "    return row"
   ]
  },
  {
   "cell_type": "code",
   "execution_count": null,
   "id": "b56f0fd5",
   "metadata": {
    "hidden": true
   },
   "outputs": [],
   "source": [
    "testing = testing.apply(total_and_percent, axis=1)"
   ]
  },
  {
   "cell_type": "code",
   "execution_count": null,
   "id": "c0c3ac41",
   "metadata": {
    "hidden": true
   },
   "outputs": [],
   "source": [
    "testing[testing.total > 5.0].sort_values(by='percent_spoiled', ascending=False)[:20]"
   ]
  },
  {
   "cell_type": "code",
   "execution_count": null,
   "id": "89e5ab05",
   "metadata": {
    "hidden": true
   },
   "outputs": [],
   "source": []
  },
  {
   "cell_type": "code",
   "execution_count": null,
   "id": "c542dfc8",
   "metadata": {
    "hidden": true
   },
   "outputs": [],
   "source": [
    "# top 20 reviewers by total count, separated into spoiler/non\n",
    "user_ids.groupby(['user_id', 'is_spoiler']).size().unstack().sort_values(by=0, ascending=False)[:20].plot(kind='bar', stacked=True, figsize=(15,8));"
   ]
  },
  {
   "cell_type": "code",
   "execution_count": null,
   "id": "f207c287",
   "metadata": {
    "hidden": true
   },
   "outputs": [],
   "source": [
    "test_df = merged_df.groupby('is_spoiler').apply(lambda x: x.sample(frac=0.01))\n",
    "test_df.reset_index(drop=True, inplace=True)"
   ]
  },
  {
   "cell_type": "markdown",
   "id": "a13bfb02",
   "metadata": {
    "heading_collapsed": true
   },
   "source": [
    "# Non-language feature modeling"
   ]
  },
  {
   "cell_type": "markdown",
   "id": "156ec3ab",
   "metadata": {
    "hidden": true
   },
   "source": [
    "Features which don't pertain to the summary or review text include:\n",
    "- film duration\n",
    "- genre\n",
    "- rating\n",
    "- release date\n",
    "- review date\n",
    "- is_spoiler (target)"
   ]
  },
  {
   "cell_type": "code",
   "execution_count": null,
   "id": "877939cf",
   "metadata": {
    "hidden": true
   },
   "outputs": [],
   "source": [
    "non_lang_features = ['duration', 'genre', 'film_rating', 'release_date', 'review_date',\n",
    "                     'is_spoiler']\n",
    "non_language_df = merged_df[non_lang_features].copy()"
   ]
  },
  {
   "cell_type": "markdown",
   "id": "24c92400",
   "metadata": {
    "hidden": true
   },
   "source": [
    "Engineer a new feature: age of film at review"
   ]
  },
  {
   "cell_type": "code",
   "execution_count": null,
   "id": "1e3bb42a",
   "metadata": {
    "hidden": true
   },
   "outputs": [],
   "source": [
    "def film_age(df):\n",
    "    age = df.review_date - df.release_date\n",
    "    return age.days\n",
    "\n",
    "non_language_df['days_since_release'] = non_language_df.apply(film_age, axis=1)\n",
    "non_language_df.drop(['release_date', 'review_date'], axis=1, inplace=True)"
   ]
  },
  {
   "cell_type": "markdown",
   "id": "14b32ef8",
   "metadata": {
    "ExecuteTime": {
     "end_time": "2022-04-22T18:57:15.272689Z",
     "start_time": "2022-04-22T18:57:15.252325Z"
    },
    "hidden": true
   },
   "source": [
    "Encode the genres. [Inspiration](https://stackoverflow.com/questions/45312377/how-to-one-hot-encode-from-a-pandas-column-containing-a-list)"
   ]
  },
  {
   "cell_type": "code",
   "execution_count": null,
   "id": "1405d5d6",
   "metadata": {
    "hidden": true
   },
   "outputs": [],
   "source": [
    "s = non_language_df['genre'].explode()\n",
    "non_language_df = non_language_df[['duration', 'film_rating', 'is_spoiler',\n",
    "                                   'days_since_release']].join(pd.crosstab(s.index, s))"
   ]
  },
  {
   "cell_type": "markdown",
   "id": "c7581590",
   "metadata": {
    "heading_collapsed": true,
    "hidden": true
   },
   "source": [
    "## SGD Classifier"
   ]
  },
  {
   "cell_type": "markdown",
   "id": "299ce087",
   "metadata": {
    "ExecuteTime": {
     "end_time": "2022-04-25T17:12:06.246099Z",
     "start_time": "2022-04-25T17:12:06.151657Z"
    },
    "hidden": true
   },
   "source": [
    "![image info](https://scikit-learn.org/stable/_static/ml_map.png)"
   ]
  },
  {
   "cell_type": "markdown",
   "id": "d66d2a43",
   "metadata": {
    "hidden": true
   },
   "source": [
    "We are going to try using a SGD classifer to see how well it performs"
   ]
  },
  {
   "cell_type": "code",
   "execution_count": null,
   "id": "f7d42bfd",
   "metadata": {
    "hidden": true
   },
   "outputs": [],
   "source": [
    "# set X and y\n",
    "X = non_language_df.drop('is_spoiler', axis=1)\n",
    "y = non_language_df['is_spoiler']\n",
    "\n",
    "# perform train/test split\n",
    "X_train, X_test, y_train, y_test = train_test_split(X, y, test_size=0.2)\n",
    "\n",
    "# scale the predictors\n",
    "scaler = StandardScaler().fit(X_train)\n",
    "X_train_s = scaler.transform(X_train)\n",
    "X_test_s = scaler.transform(X_test)"
   ]
  },
  {
   "cell_type": "markdown",
   "id": "278e1bb1",
   "metadata": {
    "hidden": true
   },
   "source": [
    "Performing a grid search for optimized parameters. This runs in about 18 minutes, so it's commented out and the best parameters are listed below"
   ]
  },
  {
   "cell_type": "code",
   "execution_count": null,
   "id": "0028996e",
   "metadata": {
    "hidden": true
   },
   "outputs": [],
   "source": [
    "params = {\n",
    "    \"loss\" : [\"hinge\", \"log\", \"squared_hinge\", \"modified_huber\", \"perceptron\"],\n",
    "    \"alpha\" : [0.0001, 0.001, 0.01, 0.1],\n",
    "    \"penalty\" : [\"l2\", \"l1\", \"elasticnet\", \"none\"],\n",
    "}\n",
    "\n",
    "clf = SGDClassifier(max_iter=1000)\n",
    "grid = GridSearchCV(clf, param_grid=params, cv=10, n_jobs=-1)\n",
    "\n",
    "grid.fit(X_train, y_train)\n",
    "\n",
    "print(grid.best_params_)"
   ]
  },
  {
   "cell_type": "markdown",
   "id": "6d7d603a",
   "metadata": {
    "hidden": true
   },
   "source": [
    "Best params were:\n",
    "- alpha: 0.0001\n",
    "- loss: 'hinge'\n",
    "- penalty: 'l2'"
   ]
  },
  {
   "cell_type": "code",
   "execution_count": null,
   "id": "96c6bf0f",
   "metadata": {
    "hidden": true
   },
   "outputs": [],
   "source": [
    "sgd_model = SGDClassifier(alpha=0.0001, loss='hinge', penalty='l2')\n",
    "sgd_model.fit(X_train_s, y_train)"
   ]
  },
  {
   "cell_type": "code",
   "execution_count": null,
   "id": "bfb1398c",
   "metadata": {
    "hidden": true
   },
   "outputs": [],
   "source": [
    "y_pred = sgd_model.predict(X_test_s)"
   ]
  },
  {
   "cell_type": "code",
   "execution_count": null,
   "id": "363a65e8",
   "metadata": {
    "hidden": true
   },
   "outputs": [],
   "source": [
    "report(y_test, y_pred)"
   ]
  },
  {
   "cell_type": "markdown",
   "id": "96231cd2",
   "metadata": {
    "hidden": true
   },
   "source": [
    "Modeling on the film review metadata we have does not look promising."
   ]
  },
  {
   "cell_type": "markdown",
   "id": "330776b5",
   "metadata": {
    "heading_collapsed": true
   },
   "source": [
    "# Baseline Model"
   ]
  },
  {
   "cell_type": "markdown",
   "id": "89e876b9",
   "metadata": {
    "hidden": true
   },
   "source": [
    "Our baseline model is going to say that any review that contains the word \"spoiler\" is, in-fact, a spoiler."
   ]
  },
  {
   "cell_type": "code",
   "execution_count": null,
   "id": "08e968e5",
   "metadata": {
    "hidden": true
   },
   "outputs": [],
   "source": [
    "# make a baseline dataframe with just the target and the review_text\n",
    "baseline_df = merged_df[['is_spoiler', 'review_text']].copy()\n",
    "\n",
    "# create a new boolean value for reviews that contain the word 'spoiler'\n",
    "baseline_df['contains_spoiler'] = baseline_df.review_text.str.contains('spoiler')\n",
    "baseline_df['contains_spoiler'] = baseline_df.contains_spoiler.astype(int)"
   ]
  },
  {
   "cell_type": "code",
   "execution_count": null,
   "id": "25033adc",
   "metadata": {
    "hidden": true
   },
   "outputs": [],
   "source": [
    "report(baseline_df.is_spoiler, baseline_df.contains_spoiler)"
   ]
  },
  {
   "cell_type": "markdown",
   "id": "a862c092",
   "metadata": {
    "hidden": true
   },
   "source": [
    "Baseline accuracy is about 74%, which sounds great, but the recall on spoilers is very low. The amount of false negatives is staggeringly high. Interestingly, there are lots of films whose review contains the word 'spoiler' but are not marked as such. That could something as simple as a user stating 'No spoilers follow', but it does seem curious to have that many film reviews that aren't spoilers."
   ]
  },
  {
   "cell_type": "markdown",
   "id": "8650514a",
   "metadata": {},
   "source": [
    "# Bag of Words Model"
   ]
  },
  {
   "cell_type": "markdown",
   "id": "23995dd2",
   "metadata": {},
   "source": [
    "Pulling the summaries into one dataframe and the reviews into another, retaining the movie_id for eventual combination.\n",
    "\n",
    "The lemmatizing of the reviews done in 5.1 takes about an hour and a half, so to save time we processed it and save the files as parquet files. All we need to do is import the files."
   ]
  },
  {
   "cell_type": "code",
   "execution_count": 4,
   "id": "ccd0418d",
   "metadata": {
    "ExecuteTime": {
     "end_time": "2022-04-26T13:24:45.660651Z",
     "start_time": "2022-04-26T13:24:39.511177Z"
    }
   },
   "outputs": [],
   "source": [
    "# these lines are the original creation of the dataframes\n",
    "# summary_df = merged_df[['movie_id', 'plot_summary']].copy()\n",
    "# summary_df.drop_duplicates(inplace=True)\n",
    "# summary_df.reset_index(drop=True, inplace=True)\n",
    "# review_df = merged_df[['movie_id', 'review_text', 'is_spoiler']].copy()\n",
    "\n",
    "# loading the reviews, contains both original and lemmed field\n",
    "review_df = pd.read_parquet('./data/reviews_lemmed.parquet')\n",
    "# loading the summaries\n",
    "summary_df = pd.read_parquet('./data/plot_summary.parquet')"
   ]
  },
  {
   "cell_type": "markdown",
   "id": "915a5cd7",
   "metadata": {},
   "source": [
    "_________\n",
    "Setting up a testing Dataframe to ensure things work before applying to all data. It's 1/1000th of the size, so any processing times multiply by 1000 and that will give the estimated time for application to the whole dataset"
   ]
  },
  {
   "cell_type": "code",
   "execution_count": 5,
   "id": "3c4650a8",
   "metadata": {
    "ExecuteTime": {
     "end_time": "2022-04-26T13:25:49.806409Z",
     "start_time": "2022-04-26T13:25:49.679273Z"
    }
   },
   "outputs": [
    {
     "data": {
      "text/html": [
       "<div>\n",
       "<style scoped>\n",
       "    .dataframe tbody tr th:only-of-type {\n",
       "        vertical-align: middle;\n",
       "    }\n",
       "\n",
       "    .dataframe tbody tr th {\n",
       "        vertical-align: top;\n",
       "    }\n",
       "\n",
       "    .dataframe thead th {\n",
       "        text-align: right;\n",
       "    }\n",
       "</style>\n",
       "<table border=\"1\" class=\"dataframe\">\n",
       "  <thead>\n",
       "    <tr style=\"text-align: right;\">\n",
       "      <th></th>\n",
       "      <th>movie_id</th>\n",
       "      <th>review_text</th>\n",
       "      <th>is_spoiler</th>\n",
       "      <th>review_text_lemmed</th>\n",
       "    </tr>\n",
       "  </thead>\n",
       "  <tbody>\n",
       "    <tr>\n",
       "      <th>0</th>\n",
       "      <td>tt0195685</td>\n",
       "      <td>I did watched this movie because I dearly love...</td>\n",
       "      <td>0</td>\n",
       "      <td>watched movie dearly love julia robert know gr...</td>\n",
       "    </tr>\n",
       "    <tr>\n",
       "      <th>1</th>\n",
       "      <td>tt0414387</td>\n",
       "      <td>This movie is terrible. I was so bored I liter...</td>\n",
       "      <td>0</td>\n",
       "      <td>movie terrible bore literally check dvd player...</td>\n",
       "    </tr>\n",
       "    <tr>\n",
       "      <th>2</th>\n",
       "      <td>tt0110912</td>\n",
       "      <td>I've always wanted to put this film's parts in...</td>\n",
       "      <td>0</td>\n",
       "      <td>i've always want put film's part order strange...</td>\n",
       "    </tr>\n",
       "    <tr>\n",
       "      <th>3</th>\n",
       "      <td>tt0125664</td>\n",
       "      <td>If you believe that the Academy shunned Jim Ca...</td>\n",
       "      <td>0</td>\n",
       "      <td>believe academy shun jim carrey yet another ti...</td>\n",
       "    </tr>\n",
       "    <tr>\n",
       "      <th>4</th>\n",
       "      <td>tt0203259</td>\n",
       "      <td>I have been watching this show since their fir...</td>\n",
       "      <td>0</td>\n",
       "      <td>watch show since first season always want help...</td>\n",
       "    </tr>\n",
       "    <tr>\n",
       "      <th>...</th>\n",
       "      <td>...</td>\n",
       "      <td>...</td>\n",
       "      <td>...</td>\n",
       "      <td>...</td>\n",
       "    </tr>\n",
       "    <tr>\n",
       "      <th>569</th>\n",
       "      <td>tt0322259</td>\n",
       "      <td>I didn't like part one of this because it had ...</td>\n",
       "      <td>1</td>\n",
       "      <td>like part one horrible actor horrible direct b...</td>\n",
       "    </tr>\n",
       "    <tr>\n",
       "      <th>570</th>\n",
       "      <td>tt0078788</td>\n",
       "      <td>**Spoilers**I first saw AN on TV while I was i...</td>\n",
       "      <td>1</td>\n",
       "      <td>spoiler first saw tv high school find interest...</td>\n",
       "    </tr>\n",
       "    <tr>\n",
       "      <th>571</th>\n",
       "      <td>tt0080678</td>\n",
       "      <td>Easily David Lynch's most accessible film and ...</td>\n",
       "      <td>1</td>\n",
       "      <td>easily david lynch's accessible film undoubted...</td>\n",
       "    </tr>\n",
       "    <tr>\n",
       "      <th>572</th>\n",
       "      <td>tt2322441</td>\n",
       "      <td>(I have to mention that my review contains spo...</td>\n",
       "      <td>1</td>\n",
       "      <td>mention review contain spoiler read complete t...</td>\n",
       "    </tr>\n",
       "    <tr>\n",
       "      <th>573</th>\n",
       "      <td>tt0221027</td>\n",
       "      <td>\"Blow\" can almost be compared to \"Goodfellas\" ...</td>\n",
       "      <td>1</td>\n",
       "      <td>blow almost compare goodfellas exception immac...</td>\n",
       "    </tr>\n",
       "  </tbody>\n",
       "</table>\n",
       "<p>574 rows × 4 columns</p>\n",
       "</div>"
      ],
      "text/plain": [
       "      movie_id                                        review_text  is_spoiler  \\\n",
       "0    tt0195685  I did watched this movie because I dearly love...           0   \n",
       "1    tt0414387  This movie is terrible. I was so bored I liter...           0   \n",
       "2    tt0110912  I've always wanted to put this film's parts in...           0   \n",
       "3    tt0125664  If you believe that the Academy shunned Jim Ca...           0   \n",
       "4    tt0203259  I have been watching this show since their fir...           0   \n",
       "..         ...                                                ...         ...   \n",
       "569  tt0322259  I didn't like part one of this because it had ...           1   \n",
       "570  tt0078788  **Spoilers**I first saw AN on TV while I was i...           1   \n",
       "571  tt0080678  Easily David Lynch's most accessible film and ...           1   \n",
       "572  tt2322441  (I have to mention that my review contains spo...           1   \n",
       "573  tt0221027  \"Blow\" can almost be compared to \"Goodfellas\" ...           1   \n",
       "\n",
       "                                    review_text_lemmed  \n",
       "0    watched movie dearly love julia robert know gr...  \n",
       "1    movie terrible bore literally check dvd player...  \n",
       "2    i've always want put film's part order strange...  \n",
       "3    believe academy shun jim carrey yet another ti...  \n",
       "4    watch show since first season always want help...  \n",
       "..                                                 ...  \n",
       "569  like part one horrible actor horrible direct b...  \n",
       "570  spoiler first saw tv high school find interest...  \n",
       "571  easily david lynch's accessible film undoubted...  \n",
       "572  mention review contain spoiler read complete t...  \n",
       "573  blow almost compare goodfellas exception immac...  \n",
       "\n",
       "[574 rows x 4 columns]"
      ]
     },
     "execution_count": 5,
     "metadata": {},
     "output_type": "execute_result"
    }
   ],
   "source": [
    "test_df = review_df.groupby('is_spoiler').apply(lambda x: x.sample(frac=0.001))\n",
    "test_df.reset_index(drop=True, inplace=True)\n",
    "test_df"
   ]
  },
  {
   "cell_type": "markdown",
   "id": "d136ed80",
   "metadata": {
    "heading_collapsed": true
   },
   "source": [
    "## lemmatization (already processed)"
   ]
  },
  {
   "cell_type": "markdown",
   "id": "22cea695",
   "metadata": {
    "hidden": true
   },
   "source": [
    "This was performed once and then the dataframe was saved. It's left here in case we need to modify and reprocess the lemmatization."
   ]
  },
  {
   "cell_type": "code",
   "execution_count": null,
   "id": "1c6c9989",
   "metadata": {
    "hidden": true
   },
   "outputs": [],
   "source": [
    "sw = stopwords.words('english')\n",
    "pattern = \"([a-zA-Z]+(?:'[a-z]+)?)\"\n",
    "tokenizer = RegexpTokenizer(r\"([a-zA-Z]+(?:[’'][a-z]+)?)\")\n",
    "lemmatizer = nltk.stem.WordNetLemmatizer()\n",
    "\n",
    "# helper function to correctly format the part of speech\n",
    "def get_wordnet_pos(treebank_tag):\n",
    "    if treebank_tag.startswith('J'):\n",
    "        return wordnet.ADJ\n",
    "    elif treebank_tag.startswith('V'):\n",
    "        return wordnet.VERB\n",
    "    elif treebank_tag.startswith('N'):\n",
    "        return wordnet.NOUN\n",
    "    elif treebank_tag.startswith('R'):\n",
    "        return wordnet.ADV\n",
    "    else:\n",
    "        return wordnet.NOUN\n",
    "    \n",
    "# helper function to clean and lemmatize the review\n",
    "def lem_review(df):\n",
    "    # get the review text\n",
    "    doc = df.review_text\n",
    "    # tokenize the review, lowercase all words and remove stopwords\n",
    "    doc = tokenizer.tokenize(doc)\n",
    "    doc = [token.lower() for token in doc]\n",
    "    doc = [token for token in doc if token not in sw]\n",
    "    # tag part of speach and convert format of tagging\n",
    "    doc_tagged = pos_tag(doc)\n",
    "    doc_tagged = [(token[0], get_wordnet_pos(token[1])) for token in doc_tagged]\n",
    "    # lemmatize the review\n",
    "    doc_lemmed = [lemmatizer.lemmatize(token[0], token[1]) for token in doc_tagged]\n",
    "    # join the lemmas together as a string\n",
    "    doc_cleaned = ' '.join(doc_lemmed)\n",
    "    # return the cleaned review\n",
    "    return doc_cleaned"
   ]
  },
  {
   "cell_type": "code",
   "execution_count": null,
   "id": "4f4e6ea4",
   "metadata": {
    "hidden": true
   },
   "outputs": [],
   "source": [
    "# this takes about an hour and a half\n",
    "# review_df['review_text_lemmed'] = review_df.apply(lem_review, axis=1)\n",
    "\n",
    "# because it took so long, we are going to save it to a parquet file\n",
    "# review_df.to_parquet('./data/reviews_lemmed.parquet')\n",
    "\n",
    "# we are also saving the summary dataframe as well to save time\n",
    "# summary_df.to_parquet('./data/plot_summary.parquet')"
   ]
  },
  {
   "cell_type": "markdown",
   "id": "ceaa77f7",
   "metadata": {},
   "source": [
    "## set train/val/test"
   ]
  },
  {
   "cell_type": "code",
   "execution_count": 7,
   "id": "ca75e294",
   "metadata": {
    "ExecuteTime": {
     "end_time": "2022-04-26T13:34:57.590774Z",
     "start_time": "2022-04-26T13:34:57.572422Z"
    }
   },
   "outputs": [],
   "source": [
    "# set X to the review text lemmed, y to target\n",
    "X = review_df.review_text_lemmed\n",
    "y = review_df.is_spoiler\n",
    "\n",
    "# We want 20% of our data for test and 20% for validation, generate our holdout number\n",
    "holdout = round(len(X) * 0.2)"
   ]
  },
  {
   "cell_type": "code",
   "execution_count": 8,
   "id": "694f5899",
   "metadata": {
    "ExecuteTime": {
     "end_time": "2022-04-26T13:35:00.008416Z",
     "start_time": "2022-04-26T13:34:59.781250Z"
    }
   },
   "outputs": [
    {
     "name": "stdout",
     "output_type": "stream",
     "text": [
      "X_train / y_train shapes: (344347,), (344347,)\n",
      "X_val / y_val shapes: (114783,), (114783,)\n",
      "X_test / y_test shapes: (114783,), (114783,)\n"
     ]
    }
   ],
   "source": [
    "# do first train/test split for train/val set and test set\n",
    "X_trainval, X_test, y_trainval, y_test = train_test_split(X, y, random_state=42, test_size=holdout)\n",
    "\n",
    "# perform 2nd train/test split (on train/val) for train and val sets\n",
    "X_train, X_val, y_train, y_val = train_test_split(X_trainval, y_trainval, random_state=42, test_size=holdout)\n",
    "\n",
    "# confirm shapes\n",
    "print(f\"X_train / y_train shapes: {X_train.shape}, {y_train.shape}\")\n",
    "print(f\"X_val / y_val shapes: {X_val.shape}, {y_val.shape}\")\n",
    "print(f\"X_test / y_test shapes: {X_test.shape}, {y_test.shape}\")"
   ]
  },
  {
   "cell_type": "markdown",
   "id": "e160e936",
   "metadata": {},
   "source": [
    "## first model - MNB, base tfidf vectorizer"
   ]
  },
  {
   "cell_type": "code",
   "execution_count": 9,
   "id": "59dcddd2",
   "metadata": {
    "ExecuteTime": {
     "end_time": "2022-04-26T13:36:07.961538Z",
     "start_time": "2022-04-26T13:35:07.514674Z"
    }
   },
   "outputs": [],
   "source": [
    "# set tfidf vectorizer\n",
    "tf_vec_v1 = TfidfVectorizer()\n",
    "\n",
    "# fit/transfrom X_train, convert to dataframe and set columns/index\n",
    "X_train_vec_v1 = tf_vec_v1.fit_transform(X_train)\n",
    "X_train_vec_v1 = pd.DataFrame.sparse.from_spmatrix(X_train_vec_v1)\n",
    "X_train_vec_v1.columns = sorted(tf_vec_v1.vocabulary_)\n",
    "X_train_vec_v1.set_index(y_train.index, inplace=True)\n",
    "\n",
    "# transform X_val, convert to dataframe and set columns/index\n",
    "X_val_vec_v1 = tf_vec_v1.transform(X_val)\n",
    "X_val_vec_v1  = pd.DataFrame.sparse.from_spmatrix(X_val_vec_v1)\n",
    "X_val_vec_v1.columns = sorted(tf_vec_v1.vocabulary_)\n",
    "X_val_vec_v1.set_index(y_val.index, inplace=True)"
   ]
  },
  {
   "cell_type": "code",
   "execution_count": 10,
   "id": "60c2dc25",
   "metadata": {
    "ExecuteTime": {
     "end_time": "2022-04-26T13:36:34.594999Z",
     "start_time": "2022-04-26T13:36:34.579103Z"
    },
    "scrolled": true
   },
   "outputs": [
    {
     "data": {
      "text/plain": [
       "198034"
      ]
     },
     "execution_count": 10,
     "metadata": {},
     "output_type": "execute_result"
    }
   ],
   "source": [
    "len(tf_vec_v1.vocabulary_)"
   ]
  },
  {
   "cell_type": "code",
   "execution_count": null,
   "id": "e36946b6",
   "metadata": {},
   "outputs": [],
   "source": [
    "# This section can be uncommented to use count vectorizer instead\n",
    "# set count vectorizer\n",
    "# c_vec = CountVectorizer()\n",
    "\n",
    "# fit/transfrom X_train, convert to dataframe and set columns/index\n",
    "# X_train_vec = c_vec.fit_transform(X_train)\n",
    "# X_train_vec = pd.DataFrame.sparse.from_spmatrix(X_train_vec)\n",
    "# X_train_vec.columns = sorted(tf_vec.vocabulary_)\n",
    "# X_train_vec.set_index(y_train.index, inplace=True)\n",
    "\n",
    "# transform X_val, convert to dataframe and set columns/index\n",
    "# X_val_vec = c_vec.transform(X_val)\n",
    "# X_val_vec  = pd.DataFrame.sparse.from_spmatrix(X_val_vec)\n",
    "# X_val_vec.columns = sorted(c_vec.vocabulary_)\n",
    "# X_val_vec.set_index(y_val.index, inplace=True)"
   ]
  },
  {
   "cell_type": "code",
   "execution_count": 11,
   "id": "0f9d25fe",
   "metadata": {
    "ExecuteTime": {
     "end_time": "2022-04-26T13:36:54.030223Z",
     "start_time": "2022-04-26T13:36:40.627212Z"
    }
   },
   "outputs": [],
   "source": [
    "# instantiate multinomial naive bayes model\n",
    "mnb = MultinomialNB()\n",
    "\n",
    "# fit to X_train_vec/y_train\n",
    "mnb.fit(X_train_vec_v1, y_train)\n",
    "\n",
    "# generate y_pred\n",
    "y_pred_v1 = mnb.predict(X_val_vec_v1)"
   ]
  },
  {
   "cell_type": "code",
   "execution_count": 12,
   "id": "70281c37",
   "metadata": {
    "ExecuteTime": {
     "end_time": "2022-04-26T13:37:00.365396Z",
     "start_time": "2022-04-26T13:36:59.953683Z"
    },
    "scrolled": false
   },
   "outputs": [
    {
     "name": "stdout",
     "output_type": "stream",
     "text": [
      "              precision    recall  f1-score   support\n",
      "\n",
      "  no_spoiler       0.74      1.00      0.85     84751\n",
      "     spoiler       0.77      0.02      0.05     30032\n",
      "\n",
      "    accuracy                           0.74    114783\n",
      "   macro avg       0.76      0.51      0.45    114783\n",
      "weighted avg       0.75      0.74      0.64    114783\n",
      "\n"
     ]
    },
    {
     "data": {
      "image/png": "[encoded data removed]",
      "text/plain": [
       "<Figure size 432x288 with 2 Axes>"
      ]
     },
     "metadata": {
      "needs_background": "light"
     },
     "output_type": "display_data"
    }
   ],
   "source": [
    "report(y_val, y_pred_v1)"
   ]
  },
  {
   "cell_type": "markdown",
   "id": "e37698e7",
   "metadata": {},
   "source": [
    "## second model - MNB add bigrams, min occurance 5"
   ]
  },
  {
   "cell_type": "code",
   "execution_count": 13,
   "id": "afccff7e",
   "metadata": {
    "ExecuteTime": {
     "end_time": "2022-04-26T13:37:13.283542Z",
     "start_time": "2022-04-26T13:37:13.096170Z"
    },
    "scrolled": true
   },
   "outputs": [
    {
     "data": {
      "text/html": [
       "<div>\n",
       "<style scoped>\n",
       "    .dataframe tbody tr th:only-of-type {\n",
       "        vertical-align: middle;\n",
       "    }\n",
       "\n",
       "    .dataframe tbody tr th {\n",
       "        vertical-align: top;\n",
       "    }\n",
       "\n",
       "    .dataframe thead th {\n",
       "        text-align: right;\n",
       "    }\n",
       "</style>\n",
       "<table border=\"1\" class=\"dataframe\">\n",
       "  <thead>\n",
       "    <tr style=\"text-align: right;\">\n",
       "      <th></th>\n",
       "      <th>movie_id</th>\n",
       "      <th>review_text</th>\n",
       "      <th>is_spoiler</th>\n",
       "      <th>review_text_lemmed</th>\n",
       "    </tr>\n",
       "  </thead>\n",
       "  <tbody>\n",
       "    <tr>\n",
       "      <th>0</th>\n",
       "      <td>tt3530002</td>\n",
       "      <td>I'm a pretty tough critic when it comes to mov...</td>\n",
       "      <td>0</td>\n",
       "      <td>i'm pretty tough critic come movie general com...</td>\n",
       "    </tr>\n",
       "    <tr>\n",
       "      <th>1</th>\n",
       "      <td>tt2304933</td>\n",
       "      <td>Bad on every variable/level/potential area for...</td>\n",
       "      <td>0</td>\n",
       "      <td>bad every variable level potential area type c...</td>\n",
       "    </tr>\n",
       "    <tr>\n",
       "      <th>2</th>\n",
       "      <td>tt0309698</td>\n",
       "      <td>It's really a little bit weird at the beginnin...</td>\n",
       "      <td>0</td>\n",
       "      <td>really little bit weird begin thought murder t...</td>\n",
       "    </tr>\n",
       "    <tr>\n",
       "      <th>3</th>\n",
       "      <td>tt0115798</td>\n",
       "      <td>When first released, Cable Guy was such an unu...</td>\n",
       "      <td>0</td>\n",
       "      <td>first release cable guy unusual departure jim ...</td>\n",
       "    </tr>\n",
       "    <tr>\n",
       "      <th>4</th>\n",
       "      <td>tt0430912</td>\n",
       "      <td>LESS MAJESTIC than it's predecessor,BI2 came o...</td>\n",
       "      <td>0</td>\n",
       "      <td>less majestic predecessor bi come year later w...</td>\n",
       "    </tr>\n",
       "    <tr>\n",
       "      <th>...</th>\n",
       "      <td>...</td>\n",
       "      <td>...</td>\n",
       "      <td>...</td>\n",
       "      <td>...</td>\n",
       "    </tr>\n",
       "    <tr>\n",
       "      <th>569</th>\n",
       "      <td>tt2140479</td>\n",
       "      <td>In this silly convoluted tale that seems to ta...</td>\n",
       "      <td>1</td>\n",
       "      <td>silly convolute tale seem take place vacuum so...</td>\n",
       "    </tr>\n",
       "    <tr>\n",
       "      <th>570</th>\n",
       "      <td>tt0114814</td>\n",
       "      <td>This film is basically a dark, sophisticated '...</td>\n",
       "      <td>1</td>\n",
       "      <td>film basically dark sophisticated caper thrill...</td>\n",
       "    </tr>\n",
       "    <tr>\n",
       "      <th>571</th>\n",
       "      <td>tt0075686</td>\n",
       "      <td>The way woody Allen tells the story of his cha...</td>\n",
       "      <td>1</td>\n",
       "      <td>way woody allen tell story character's relatio...</td>\n",
       "    </tr>\n",
       "    <tr>\n",
       "      <th>572</th>\n",
       "      <td>tt2872732</td>\n",
       "      <td>I really liked this film. I'll go ahead and gi...</td>\n",
       "      <td>1</td>\n",
       "      <td>really like film i'll go ahead give example co...</td>\n",
       "    </tr>\n",
       "    <tr>\n",
       "      <th>573</th>\n",
       "      <td>tt1403981</td>\n",
       "      <td>You'll have to forgive me if I seem a little p...</td>\n",
       "      <td>1</td>\n",
       "      <td>forgive seem little perplexed critic find movi...</td>\n",
       "    </tr>\n",
       "  </tbody>\n",
       "</table>\n",
       "<p>574 rows × 4 columns</p>\n",
       "</div>"
      ],
      "text/plain": [
       "      movie_id                                        review_text  is_spoiler  \\\n",
       "0    tt3530002  I'm a pretty tough critic when it comes to mov...           0   \n",
       "1    tt2304933  Bad on every variable/level/potential area for...           0   \n",
       "2    tt0309698  It's really a little bit weird at the beginnin...           0   \n",
       "3    tt0115798  When first released, Cable Guy was such an unu...           0   \n",
       "4    tt0430912  LESS MAJESTIC than it's predecessor,BI2 came o...           0   \n",
       "..         ...                                                ...         ...   \n",
       "569  tt2140479  In this silly convoluted tale that seems to ta...           1   \n",
       "570  tt0114814  This film is basically a dark, sophisticated '...           1   \n",
       "571  tt0075686  The way woody Allen tells the story of his cha...           1   \n",
       "572  tt2872732  I really liked this film. I'll go ahead and gi...           1   \n",
       "573  tt1403981  You'll have to forgive me if I seem a little p...           1   \n",
       "\n",
       "                                    review_text_lemmed  \n",
       "0    i'm pretty tough critic come movie general com...  \n",
       "1    bad every variable level potential area type c...  \n",
       "2    really little bit weird begin thought murder t...  \n",
       "3    first release cable guy unusual departure jim ...  \n",
       "4    less majestic predecessor bi come year later w...  \n",
       "..                                                 ...  \n",
       "569  silly convolute tale seem take place vacuum so...  \n",
       "570  film basically dark sophisticated caper thrill...  \n",
       "571  way woody allen tell story character's relatio...  \n",
       "572  really like film i'll go ahead give example co...  \n",
       "573  forgive seem little perplexed critic find movi...  \n",
       "\n",
       "[574 rows x 4 columns]"
      ]
     },
     "execution_count": 13,
     "metadata": {},
     "output_type": "execute_result"
    }
   ],
   "source": [
    "test_df = review_df.groupby('is_spoiler').apply(lambda x: x.sample(frac=0.001))\n",
    "test_df.reset_index(drop=True, inplace=True)\n",
    "test_df"
   ]
  },
  {
   "cell_type": "code",
   "execution_count": 14,
   "id": "6a061d30",
   "metadata": {
    "ExecuteTime": {
     "end_time": "2022-04-26T13:37:29.553557Z",
     "start_time": "2022-04-26T13:37:29.243035Z"
    },
    "scrolled": true
   },
   "outputs": [
    {
     "data": {
      "text/html": [
       "<div>\n",
       "<style scoped>\n",
       "    .dataframe tbody tr th:only-of-type {\n",
       "        vertical-align: middle;\n",
       "    }\n",
       "\n",
       "    .dataframe tbody tr th {\n",
       "        vertical-align: top;\n",
       "    }\n",
       "\n",
       "    .dataframe thead th {\n",
       "        text-align: right;\n",
       "    }\n",
       "</style>\n",
       "<table border=\"1\" class=\"dataframe\">\n",
       "  <thead>\n",
       "    <tr style=\"text-align: right;\">\n",
       "      <th></th>\n",
       "      <th>aamir</th>\n",
       "      <th>aang</th>\n",
       "      <th>aaron</th>\n",
       "      <th>abandon</th>\n",
       "      <th>abandonment</th>\n",
       "      <th>abba</th>\n",
       "      <th>abbie</th>\n",
       "      <th>abc</th>\n",
       "      <th>abduction</th>\n",
       "      <th>abe</th>\n",
       "      <th>...</th>\n",
       "      <th>zoe</th>\n",
       "      <th>zohan</th>\n",
       "      <th>zombie</th>\n",
       "      <th>zone</th>\n",
       "      <th>zooey</th>\n",
       "      <th>zoolander</th>\n",
       "      <th>zoom</th>\n",
       "      <th>zubrowka</th>\n",
       "      <th>zuckerberg</th>\n",
       "      <th>zuko</th>\n",
       "    </tr>\n",
       "  </thead>\n",
       "  <tbody>\n",
       "    <tr>\n",
       "      <th>0</th>\n",
       "      <td>0.0</td>\n",
       "      <td>0.0</td>\n",
       "      <td>0.0</td>\n",
       "      <td>0.0</td>\n",
       "      <td>0.0</td>\n",
       "      <td>0.0</td>\n",
       "      <td>0.0</td>\n",
       "      <td>0.0</td>\n",
       "      <td>0.0</td>\n",
       "      <td>0.0</td>\n",
       "      <td>...</td>\n",
       "      <td>0.0</td>\n",
       "      <td>0.0</td>\n",
       "      <td>0.0</td>\n",
       "      <td>0.0</td>\n",
       "      <td>0.0</td>\n",
       "      <td>0.0</td>\n",
       "      <td>0.0</td>\n",
       "      <td>0.0</td>\n",
       "      <td>0.0</td>\n",
       "      <td>0.0</td>\n",
       "    </tr>\n",
       "    <tr>\n",
       "      <th>1</th>\n",
       "      <td>0.0</td>\n",
       "      <td>0.0</td>\n",
       "      <td>0.0</td>\n",
       "      <td>0.0</td>\n",
       "      <td>0.0</td>\n",
       "      <td>0.0</td>\n",
       "      <td>0.0</td>\n",
       "      <td>0.0</td>\n",
       "      <td>0.0</td>\n",
       "      <td>0.0</td>\n",
       "      <td>...</td>\n",
       "      <td>0.0</td>\n",
       "      <td>0.0</td>\n",
       "      <td>0.0</td>\n",
       "      <td>0.0</td>\n",
       "      <td>0.0</td>\n",
       "      <td>0.0</td>\n",
       "      <td>0.0</td>\n",
       "      <td>0.0</td>\n",
       "      <td>0.0</td>\n",
       "      <td>0.0</td>\n",
       "    </tr>\n",
       "    <tr>\n",
       "      <th>2</th>\n",
       "      <td>0.0</td>\n",
       "      <td>0.0</td>\n",
       "      <td>0.0</td>\n",
       "      <td>0.0</td>\n",
       "      <td>0.0</td>\n",
       "      <td>0.0</td>\n",
       "      <td>0.0</td>\n",
       "      <td>0.0</td>\n",
       "      <td>0.0</td>\n",
       "      <td>0.0</td>\n",
       "      <td>...</td>\n",
       "      <td>0.0</td>\n",
       "      <td>0.0</td>\n",
       "      <td>0.0</td>\n",
       "      <td>0.0</td>\n",
       "      <td>0.0</td>\n",
       "      <td>0.0</td>\n",
       "      <td>0.0</td>\n",
       "      <td>0.0</td>\n",
       "      <td>0.0</td>\n",
       "      <td>0.0</td>\n",
       "    </tr>\n",
       "    <tr>\n",
       "      <th>3</th>\n",
       "      <td>0.0</td>\n",
       "      <td>0.0</td>\n",
       "      <td>0.0</td>\n",
       "      <td>0.0</td>\n",
       "      <td>0.0</td>\n",
       "      <td>0.0</td>\n",
       "      <td>0.0</td>\n",
       "      <td>0.0</td>\n",
       "      <td>0.0</td>\n",
       "      <td>0.0</td>\n",
       "      <td>...</td>\n",
       "      <td>0.0</td>\n",
       "      <td>0.0</td>\n",
       "      <td>0.0</td>\n",
       "      <td>0.0</td>\n",
       "      <td>0.0</td>\n",
       "      <td>0.0</td>\n",
       "      <td>0.0</td>\n",
       "      <td>0.0</td>\n",
       "      <td>0.0</td>\n",
       "      <td>0.0</td>\n",
       "    </tr>\n",
       "    <tr>\n",
       "      <th>4</th>\n",
       "      <td>0.0</td>\n",
       "      <td>0.0</td>\n",
       "      <td>0.0</td>\n",
       "      <td>0.0</td>\n",
       "      <td>0.0</td>\n",
       "      <td>0.0</td>\n",
       "      <td>0.0</td>\n",
       "      <td>0.0</td>\n",
       "      <td>0.0</td>\n",
       "      <td>0.0</td>\n",
       "      <td>...</td>\n",
       "      <td>0.0</td>\n",
       "      <td>0.0</td>\n",
       "      <td>0.0</td>\n",
       "      <td>0.0</td>\n",
       "      <td>0.0</td>\n",
       "      <td>0.0</td>\n",
       "      <td>0.0</td>\n",
       "      <td>0.0</td>\n",
       "      <td>0.0</td>\n",
       "      <td>0.0</td>\n",
       "    </tr>\n",
       "    <tr>\n",
       "      <th>...</th>\n",
       "      <td>...</td>\n",
       "      <td>...</td>\n",
       "      <td>...</td>\n",
       "      <td>...</td>\n",
       "      <td>...</td>\n",
       "      <td>...</td>\n",
       "      <td>...</td>\n",
       "      <td>...</td>\n",
       "      <td>...</td>\n",
       "      <td>...</td>\n",
       "      <td>...</td>\n",
       "      <td>...</td>\n",
       "      <td>...</td>\n",
       "      <td>...</td>\n",
       "      <td>...</td>\n",
       "      <td>...</td>\n",
       "      <td>...</td>\n",
       "      <td>...</td>\n",
       "      <td>...</td>\n",
       "      <td>...</td>\n",
       "      <td>...</td>\n",
       "    </tr>\n",
       "    <tr>\n",
       "      <th>569</th>\n",
       "      <td>0.0</td>\n",
       "      <td>0.0</td>\n",
       "      <td>0.0</td>\n",
       "      <td>0.0</td>\n",
       "      <td>0.0</td>\n",
       "      <td>0.0</td>\n",
       "      <td>0.0</td>\n",
       "      <td>0.0</td>\n",
       "      <td>0.0</td>\n",
       "      <td>0.0</td>\n",
       "      <td>...</td>\n",
       "      <td>0.0</td>\n",
       "      <td>0.0</td>\n",
       "      <td>0.0</td>\n",
       "      <td>0.0</td>\n",
       "      <td>0.0</td>\n",
       "      <td>0.0</td>\n",
       "      <td>0.0</td>\n",
       "      <td>0.0</td>\n",
       "      <td>0.0</td>\n",
       "      <td>0.0</td>\n",
       "    </tr>\n",
       "    <tr>\n",
       "      <th>570</th>\n",
       "      <td>0.0</td>\n",
       "      <td>0.0</td>\n",
       "      <td>0.0</td>\n",
       "      <td>0.0</td>\n",
       "      <td>0.0</td>\n",
       "      <td>0.0</td>\n",
       "      <td>0.0</td>\n",
       "      <td>0.0</td>\n",
       "      <td>0.0</td>\n",
       "      <td>0.0</td>\n",
       "      <td>...</td>\n",
       "      <td>0.0</td>\n",
       "      <td>0.0</td>\n",
       "      <td>0.0</td>\n",
       "      <td>0.0</td>\n",
       "      <td>0.0</td>\n",
       "      <td>0.0</td>\n",
       "      <td>0.0</td>\n",
       "      <td>0.0</td>\n",
       "      <td>0.0</td>\n",
       "      <td>0.0</td>\n",
       "    </tr>\n",
       "    <tr>\n",
       "      <th>571</th>\n",
       "      <td>0.0</td>\n",
       "      <td>0.0</td>\n",
       "      <td>0.0</td>\n",
       "      <td>0.0</td>\n",
       "      <td>0.0</td>\n",
       "      <td>0.0</td>\n",
       "      <td>0.0</td>\n",
       "      <td>0.0</td>\n",
       "      <td>0.0</td>\n",
       "      <td>0.0</td>\n",
       "      <td>...</td>\n",
       "      <td>0.0</td>\n",
       "      <td>0.0</td>\n",
       "      <td>0.0</td>\n",
       "      <td>0.0</td>\n",
       "      <td>0.0</td>\n",
       "      <td>0.0</td>\n",
       "      <td>0.0</td>\n",
       "      <td>0.0</td>\n",
       "      <td>0.0</td>\n",
       "      <td>0.0</td>\n",
       "    </tr>\n",
       "    <tr>\n",
       "      <th>572</th>\n",
       "      <td>0.0</td>\n",
       "      <td>0.0</td>\n",
       "      <td>0.0</td>\n",
       "      <td>0.0</td>\n",
       "      <td>0.0</td>\n",
       "      <td>0.0</td>\n",
       "      <td>0.0</td>\n",
       "      <td>0.0</td>\n",
       "      <td>0.0</td>\n",
       "      <td>0.0</td>\n",
       "      <td>...</td>\n",
       "      <td>0.0</td>\n",
       "      <td>0.0</td>\n",
       "      <td>0.0</td>\n",
       "      <td>0.0</td>\n",
       "      <td>0.0</td>\n",
       "      <td>0.0</td>\n",
       "      <td>0.0</td>\n",
       "      <td>0.0</td>\n",
       "      <td>0.0</td>\n",
       "      <td>0.0</td>\n",
       "    </tr>\n",
       "    <tr>\n",
       "      <th>573</th>\n",
       "      <td>0.0</td>\n",
       "      <td>0.0</td>\n",
       "      <td>0.0</td>\n",
       "      <td>0.0</td>\n",
       "      <td>0.0</td>\n",
       "      <td>0.0</td>\n",
       "      <td>0.0</td>\n",
       "      <td>0.0</td>\n",
       "      <td>0.0</td>\n",
       "      <td>0.0</td>\n",
       "      <td>...</td>\n",
       "      <td>0.0</td>\n",
       "      <td>0.0</td>\n",
       "      <td>0.0</td>\n",
       "      <td>0.0</td>\n",
       "      <td>0.0</td>\n",
       "      <td>0.0</td>\n",
       "      <td>0.0</td>\n",
       "      <td>0.0</td>\n",
       "      <td>0.0</td>\n",
       "      <td>0.0</td>\n",
       "    </tr>\n",
       "  </tbody>\n",
       "</table>\n",
       "<p>574 rows × 10825 columns</p>\n",
       "</div>"
      ],
      "text/plain": [
       "     aamir  aang  aaron  abandon  abandonment  abba  abbie  abc  abduction  \\\n",
       "0      0.0   0.0    0.0      0.0          0.0   0.0    0.0  0.0        0.0   \n",
       "1      0.0   0.0    0.0      0.0          0.0   0.0    0.0  0.0        0.0   \n",
       "2      0.0   0.0    0.0      0.0          0.0   0.0    0.0  0.0        0.0   \n",
       "3      0.0   0.0    0.0      0.0          0.0   0.0    0.0  0.0        0.0   \n",
       "4      0.0   0.0    0.0      0.0          0.0   0.0    0.0  0.0        0.0   \n",
       "..     ...   ...    ...      ...          ...   ...    ...  ...        ...   \n",
       "569    0.0   0.0    0.0      0.0          0.0   0.0    0.0  0.0        0.0   \n",
       "570    0.0   0.0    0.0      0.0          0.0   0.0    0.0  0.0        0.0   \n",
       "571    0.0   0.0    0.0      0.0          0.0   0.0    0.0  0.0        0.0   \n",
       "572    0.0   0.0    0.0      0.0          0.0   0.0    0.0  0.0        0.0   \n",
       "573    0.0   0.0    0.0      0.0          0.0   0.0    0.0  0.0        0.0   \n",
       "\n",
       "     abe  ...  zoe  zohan  zombie  zone  zooey  zoolander  zoom  zubrowka  \\\n",
       "0    0.0  ...  0.0    0.0     0.0   0.0    0.0        0.0   0.0       0.0   \n",
       "1    0.0  ...  0.0    0.0     0.0   0.0    0.0        0.0   0.0       0.0   \n",
       "2    0.0  ...  0.0    0.0     0.0   0.0    0.0        0.0   0.0       0.0   \n",
       "3    0.0  ...  0.0    0.0     0.0   0.0    0.0        0.0   0.0       0.0   \n",
       "4    0.0  ...  0.0    0.0     0.0   0.0    0.0        0.0   0.0       0.0   \n",
       "..   ...  ...  ...    ...     ...   ...    ...        ...   ...       ...   \n",
       "569  0.0  ...  0.0    0.0     0.0   0.0    0.0        0.0   0.0       0.0   \n",
       "570  0.0  ...  0.0    0.0     0.0   0.0    0.0        0.0   0.0       0.0   \n",
       "571  0.0  ...  0.0    0.0     0.0   0.0    0.0        0.0   0.0       0.0   \n",
       "572  0.0  ...  0.0    0.0     0.0   0.0    0.0        0.0   0.0       0.0   \n",
       "573  0.0  ...  0.0    0.0     0.0   0.0    0.0        0.0   0.0       0.0   \n",
       "\n",
       "     zuckerberg  zuko  \n",
       "0           0.0   0.0  \n",
       "1           0.0   0.0  \n",
       "2           0.0   0.0  \n",
       "3           0.0   0.0  \n",
       "4           0.0   0.0  \n",
       "..          ...   ...  \n",
       "569         0.0   0.0  \n",
       "570         0.0   0.0  \n",
       "571         0.0   0.0  \n",
       "572         0.0   0.0  \n",
       "573         0.0   0.0  \n",
       "\n",
       "[574 rows x 10825 columns]"
      ]
     },
     "execution_count": 14,
     "metadata": {},
     "output_type": "execute_result"
    }
   ],
   "source": [
    "test_vec = TfidfVectorizer()\n",
    "\n",
    "test_df_vec = test_vec.fit_transform(test_df['review_text_lemmed'])\n",
    "test_df_vec = pd.DataFrame.sparse.from_spmatrix(test_df_vec)\n",
    "test_df_vec.columns = sorted(test_vec.vocabulary_)\n",
    "# test_df_vec.set_index()\n",
    "\n",
    "test_df_vec"
   ]
  },
  {
   "cell_type": "code",
   "execution_count": 15,
   "id": "27228a35",
   "metadata": {
    "ExecuteTime": {
     "end_time": "2022-04-26T13:42:44.791048Z",
     "start_time": "2022-04-26T13:39:26.186138Z"
    }
   },
   "outputs": [],
   "source": [
    "# set tfidf vectorizer\n",
    "tf_vec_v2 = TfidfVectorizer(min_df=5, ngram_range=(1,2))\n",
    "\n",
    "# fit/transfrom X_train, convert to dataframe and set columns/index\n",
    "X_train_vec_v2 = tf_vec_v2.fit_transform(X_train)\n",
    "X_train_vec_v2 = pd.DataFrame.sparse.from_spmatrix(X_train_vec_v2)\n",
    "X_train_vec_v2.columns = sorted(tf_vec_v2.vocabulary_)\n",
    "X_train_vec_v2.set_index(y_train.index, inplace=True)\n",
    "\n",
    "# transform X_val, convert to dataframe and set columns/index\n",
    "X_val_vec_v2 = tf_vec_v2.transform(X_val)\n",
    "X_val_vec_v2 = pd.DataFrame.sparse.from_spmatrix(X_val_vec_v2)\n",
    "X_val_vec_v2.columns = sorted(tf_vec_v2.vocabulary_)\n",
    "X_val_vec_v2.set_index(y_val.index, inplace=True)"
   ]
  },
  {
   "cell_type": "code",
   "execution_count": null,
   "id": "69b6a503",
   "metadata": {
    "ExecuteTime": {
     "start_time": "2022-04-26T13:43:05.276Z"
    }
   },
   "outputs": [],
   "source": [
    "X_train_vec_v2"
   ]
  },
  {
   "cell_type": "code",
   "execution_count": null,
   "id": "beea6739",
   "metadata": {},
   "outputs": [],
   "source": [
    "# instantiate multinomial naive bayes model\n",
    "mnb_v2 = MultinomialNB()\n",
    "\n",
    "# fit to X_train_vec/y_train\n",
    "mnb_v2.fit(X_train_vec_v2, y_train)\n",
    "\n",
    "# generate y_pred\n",
    "y_pred_v2 = mnb_v2.predict(X_val_vec_v2)"
   ]
  },
  {
   "cell_type": "code",
   "execution_count": null,
   "id": "eec31a82",
   "metadata": {},
   "outputs": [],
   "source": [
    "report(y_val, y_pred_v2)"
   ]
  },
  {
   "cell_type": "code",
   "execution_count": null,
   "id": "999c7594",
   "metadata": {},
   "outputs": [],
   "source": []
  },
  {
   "cell_type": "code",
   "execution_count": null,
   "id": "9e1fa518",
   "metadata": {},
   "outputs": [],
   "source": []
  },
  {
   "cell_type": "markdown",
   "id": "2d67d8f8",
   "metadata": {
    "heading_collapsed": true
   },
   "source": [
    "# testing"
   ]
  },
  {
   "cell_type": "code",
   "execution_count": null,
   "id": "d857fc9c",
   "metadata": {
    "hidden": true
   },
   "outputs": [],
   "source": [
    "vec = CountVectorizer(token_pattern=r\"([a-zA-Z]+(?:'[a-z]+)?)\", stop_words=sw)\n",
    "X = vec.fit_transform(test_df.review_text)\n",
    "\n",
    "df_cv = pd.DataFrame(X.toarray(), columns=vec.get_feature_names_out())\n",
    "df_cv.head()"
   ]
  },
  {
   "cell_type": "code",
   "execution_count": null,
   "id": "3432c390",
   "metadata": {
    "hidden": true
   },
   "outputs": [],
   "source": [
    "tf_vec = TfidfVectorizer(token_pattern=r\"([a-zA-Z]+(?:'[a-z]+)?)\", stop_words=sw)\n",
    "X = tf_vec.fit_transform(test_df.review_text)\n",
    "\n",
    "df = pd.DataFrame(X.toarray(), columns = tf_vec.get_feature_names_out())\n",
    "df.head()"
   ]
  },
  {
   "cell_type": "code",
   "execution_count": null,
   "id": "ca9efe1e",
   "metadata": {
    "hidden": true
   },
   "outputs": [],
   "source": [
    "test_df.iloc[0].review_text"
   ]
  },
  {
   "cell_type": "code",
   "execution_count": null,
   "id": "8cacee69",
   "metadata": {
    "hidden": true
   },
   "outputs": [],
   "source": [
    "df.iloc[0].sort_values(ascending=False)[:10]"
   ]
  },
  {
   "cell_type": "code",
   "execution_count": null,
   "id": "59be98a5",
   "metadata": {
    "hidden": true
   },
   "outputs": [],
   "source": [
    "df_cv.iloc[0].sort_values(ascending=False)[:10]"
   ]
  },
  {
   "cell_type": "code",
   "execution_count": null,
   "id": "26a34b05",
   "metadata": {
    "hidden": true
   },
   "outputs": [],
   "source": []
  }
 ],
 "metadata": {
  "kernelspec": {
   "display_name": "Python 3 (ipykernel)",
   "language": "python",
   "name": "python3"
  },
  "language_info": {
   "codemirror_mode": {
    "name": "ipython",
    "version": 3
   },
   "file_extension": ".py",
   "mimetype": "text/x-python",
   "name": "python",
   "nbconvert_exporter": "python",
   "pygments_lexer": "ipython3",
   "version": "3.9.7"
  },
  "toc": {
   "base_numbering": 1,
   "nav_menu": {},
   "number_sections": true,
   "sideBar": true,
   "skip_h1_title": false,
   "title_cell": "Table of Contents",
   "title_sidebar": "Contents",
   "toc_cell": false,
   "toc_position": {
    "height": "calc(100% - 180px)",
    "left": "10px",
    "top": "150px",
    "width": "512px"
   },
   "toc_section_display": true,
   "toc_window_display": true
  },
  "varInspector": {
   "cols": {
    "lenName": 16,
    "lenType": 16,
    "lenVar": 40
   },
   "kernels_config": {
    "python": {
     "delete_cmd_postfix": "",
     "delete_cmd_prefix": "del ",
     "library": "var_list.py",
     "varRefreshCmd": "print(var_dic_list())"
    },
    "r": {
     "delete_cmd_postfix": ") ",
     "delete_cmd_prefix": "rm(",
     "library": "var_list.r",
     "varRefreshCmd": "cat(var_dic_list()) "
    }
   },
   "position": {
    "height": "769.844px",
    "left": "1882px",
    "right": "20px",
    "top": "125px",
    "width": "619px"
   },
   "types_to_exclude": [
    "module",
    "function",
    "builtin_function_or_method",
    "instance",
    "_Feature"
   ],
   "window_display": true
  }
 },
 "nbformat": 4,
 "nbformat_minor": 5
}
