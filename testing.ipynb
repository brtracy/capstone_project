{
 "cells": [
  {
   "cell_type": "markdown",
   "id": "243e1f1a",
   "metadata": {},
   "source": [
    "# Imports"
   ]
  },
  {
   "cell_type": "code",
   "execution_count": 1,
   "id": "a94bbadc",
   "metadata": {
    "ExecuteTime": {
     "end_time": "2022-05-03T19:40:19.278797Z",
     "start_time": "2022-05-03T19:40:07.500387Z"
    }
   },
   "outputs": [],
   "source": [
    "import pandas as pd\n",
    "import numpy as np\n",
    "import re\n",
    "import string\n",
    "import json\n",
    "import os\n",
    "import pickle\n",
    "\n",
    "import matplotlib.pyplot as plt\n",
    "import matplotlib as mpl\n",
    "%matplotlib inline\n",
    "\n",
    "from langdetect import detect\n",
    "import spacy\n",
    "\n",
    "import nltk\n",
    "from nltk import pos_tag\n",
    "from nltk.corpus import wordnet\n",
    "from nltk.probability import FreqDist\n",
    "from nltk.corpus import stopwords\n",
    "from nltk.tokenize import regexp_tokenize, word_tokenize, RegexpTokenizer\n",
    "\n",
    "from sklearn.model_selection import train_test_split, GridSearchCV\n",
    "from sklearn.preprocessing import StandardScaler\n",
    "from sklearn.linear_model import SGDClassifier, LogisticRegression\n",
    "from sklearn.metrics import confusion_matrix, ConfusionMatrixDisplay,\\\n",
    "classification_report, accuracy_score, precision_score\n",
    "\n",
    "from sklearn.feature_extraction.text import CountVectorizer, TfidfVectorizer,\\\n",
    "HashingVectorizer\n",
    "\n",
    "from sklearn.ensemble import RandomForestClassifier\n",
    "from sklearn.naive_bayes import MultinomialNB\n",
    "from sklearn.svm import LinearSVC\n",
    "\n",
    "from xgboost import XGBClassifier\n",
    "\n",
    "import pendulum"
   ]
  },
  {
   "cell_type": "code",
   "execution_count": 2,
   "id": "ebb04c4d",
   "metadata": {
    "ExecuteTime": {
     "end_time": "2022-05-03T19:40:20.986002Z",
     "start_time": "2022-05-03T19:40:20.972945Z"
    }
   },
   "outputs": [],
   "source": [
    "def confusion_matrix_plot(y_true, y_pred, class_names):\n",
    "    cm = confusion_matrix(y_true, y_pred)\n",
    "    disp = ConfusionMatrixDisplay(confusion_matrix=cm, display_labels=class_names)\n",
    "    disp.plot(cmap=plt.cm.Blues)\n",
    "    return plt.show()\n",
    "\n",
    "def report(y_true, y_pred, class_names=['no_spoiler', 'spoiler']):\n",
    "    print(classification_report(y_true, y_pred, target_names=class_names))\n",
    "    confusion_matrix_plot(y_true, y_pred, class_names)"
   ]
  },
  {
   "cell_type": "markdown",
   "id": "593b9cd8",
   "metadata": {},
   "source": [
    "# Select top 10 reviews films"
   ]
  },
  {
   "cell_type": "code",
   "execution_count": 3,
   "id": "ece5addd",
   "metadata": {
    "ExecuteTime": {
     "end_time": "2022-05-03T13:25:07.096064Z",
     "start_time": "2022-05-03T13:22:20.632911Z"
    }
   },
   "outputs": [],
   "source": [
    "merged_df = pd.read_parquet('./data/full_dataframe.parquet')"
   ]
  },
  {
   "cell_type": "code",
   "execution_count": 4,
   "id": "e710f96a",
   "metadata": {
    "ExecuteTime": {
     "end_time": "2022-05-03T13:25:10.812595Z",
     "start_time": "2022-05-03T13:25:09.707506Z"
    }
   },
   "outputs": [
    {
     "data": {
      "text/html": [
       "<div>\n",
       "<style scoped>\n",
       "    .dataframe tbody tr th:only-of-type {\n",
       "        vertical-align: middle;\n",
       "    }\n",
       "\n",
       "    .dataframe tbody tr th {\n",
       "        vertical-align: top;\n",
       "    }\n",
       "\n",
       "    .dataframe thead th {\n",
       "        text-align: right;\n",
       "    }\n",
       "</style>\n",
       "<table border=\"1\" class=\"dataframe\">\n",
       "  <thead>\n",
       "    <tr style=\"text-align: right;\">\n",
       "      <th></th>\n",
       "      <th>plot_summary</th>\n",
       "      <th>duration</th>\n",
       "      <th>genre</th>\n",
       "      <th>film_rating</th>\n",
       "      <th>release_date</th>\n",
       "      <th>plot_synopsis</th>\n",
       "      <th>summary_char_count</th>\n",
       "      <th>summary_word_count</th>\n",
       "      <th>summary_entity_count</th>\n",
       "      <th>summary_unique_entities</th>\n",
       "      <th>...</th>\n",
       "      <th>review_text</th>\n",
       "      <th>reviewer_rating</th>\n",
       "      <th>review_summary</th>\n",
       "      <th>review_char_count</th>\n",
       "      <th>review_word_count</th>\n",
       "      <th>review_entity_count</th>\n",
       "      <th>review_unique_entities</th>\n",
       "      <th>review_avg_entity_freq</th>\n",
       "      <th>review_tokens</th>\n",
       "      <th>review_token_count</th>\n",
       "    </tr>\n",
       "    <tr>\n",
       "      <th>movie_id</th>\n",
       "      <th></th>\n",
       "      <th></th>\n",
       "      <th></th>\n",
       "      <th></th>\n",
       "      <th></th>\n",
       "      <th></th>\n",
       "      <th></th>\n",
       "      <th></th>\n",
       "      <th></th>\n",
       "      <th></th>\n",
       "      <th></th>\n",
       "      <th></th>\n",
       "      <th></th>\n",
       "      <th></th>\n",
       "      <th></th>\n",
       "      <th></th>\n",
       "      <th></th>\n",
       "      <th></th>\n",
       "      <th></th>\n",
       "      <th></th>\n",
       "      <th></th>\n",
       "    </tr>\n",
       "  </thead>\n",
       "  <tbody>\n",
       "    <tr>\n",
       "      <th>tt0468569</th>\n",
       "      <td>4845</td>\n",
       "      <td>4845</td>\n",
       "      <td>4845</td>\n",
       "      <td>4845</td>\n",
       "      <td>4845</td>\n",
       "      <td>4845</td>\n",
       "      <td>4845</td>\n",
       "      <td>4845</td>\n",
       "      <td>4845</td>\n",
       "      <td>4845</td>\n",
       "      <td>...</td>\n",
       "      <td>4845</td>\n",
       "      <td>4845</td>\n",
       "      <td>4845</td>\n",
       "      <td>4845</td>\n",
       "      <td>4845</td>\n",
       "      <td>4845</td>\n",
       "      <td>4845</td>\n",
       "      <td>4845</td>\n",
       "      <td>4845</td>\n",
       "      <td>4845</td>\n",
       "    </tr>\n",
       "    <tr>\n",
       "      <th>tt0111161</th>\n",
       "      <td>4361</td>\n",
       "      <td>4361</td>\n",
       "      <td>4361</td>\n",
       "      <td>4361</td>\n",
       "      <td>4361</td>\n",
       "      <td>4361</td>\n",
       "      <td>4361</td>\n",
       "      <td>4361</td>\n",
       "      <td>4361</td>\n",
       "      <td>4361</td>\n",
       "      <td>...</td>\n",
       "      <td>4361</td>\n",
       "      <td>4361</td>\n",
       "      <td>4361</td>\n",
       "      <td>4361</td>\n",
       "      <td>4361</td>\n",
       "      <td>4361</td>\n",
       "      <td>4361</td>\n",
       "      <td>4361</td>\n",
       "      <td>4361</td>\n",
       "      <td>4361</td>\n",
       "    </tr>\n",
       "    <tr>\n",
       "      <th>tt0167260</th>\n",
       "      <td>2729</td>\n",
       "      <td>2729</td>\n",
       "      <td>2729</td>\n",
       "      <td>2729</td>\n",
       "      <td>2729</td>\n",
       "      <td>2729</td>\n",
       "      <td>2729</td>\n",
       "      <td>2729</td>\n",
       "      <td>2729</td>\n",
       "      <td>2729</td>\n",
       "      <td>...</td>\n",
       "      <td>2729</td>\n",
       "      <td>2729</td>\n",
       "      <td>2729</td>\n",
       "      <td>2729</td>\n",
       "      <td>2729</td>\n",
       "      <td>2729</td>\n",
       "      <td>2729</td>\n",
       "      <td>2729</td>\n",
       "      <td>2729</td>\n",
       "      <td>2729</td>\n",
       "    </tr>\n",
       "    <tr>\n",
       "      <th>tt0137523</th>\n",
       "      <td>2480</td>\n",
       "      <td>2480</td>\n",
       "      <td>2480</td>\n",
       "      <td>2480</td>\n",
       "      <td>2480</td>\n",
       "      <td>2480</td>\n",
       "      <td>2480</td>\n",
       "      <td>2480</td>\n",
       "      <td>2480</td>\n",
       "      <td>2480</td>\n",
       "      <td>...</td>\n",
       "      <td>2480</td>\n",
       "      <td>2480</td>\n",
       "      <td>2480</td>\n",
       "      <td>2480</td>\n",
       "      <td>2480</td>\n",
       "      <td>2480</td>\n",
       "      <td>2480</td>\n",
       "      <td>2480</td>\n",
       "      <td>2480</td>\n",
       "      <td>2480</td>\n",
       "    </tr>\n",
       "    <tr>\n",
       "      <th>tt0068646</th>\n",
       "      <td>2137</td>\n",
       "      <td>2137</td>\n",
       "      <td>2137</td>\n",
       "      <td>2137</td>\n",
       "      <td>2137</td>\n",
       "      <td>2137</td>\n",
       "      <td>2137</td>\n",
       "      <td>2137</td>\n",
       "      <td>2137</td>\n",
       "      <td>2137</td>\n",
       "      <td>...</td>\n",
       "      <td>2137</td>\n",
       "      <td>2137</td>\n",
       "      <td>2137</td>\n",
       "      <td>2137</td>\n",
       "      <td>2137</td>\n",
       "      <td>2137</td>\n",
       "      <td>2137</td>\n",
       "      <td>2137</td>\n",
       "      <td>2137</td>\n",
       "      <td>2137</td>\n",
       "    </tr>\n",
       "    <tr>\n",
       "      <th>tt0110912</th>\n",
       "      <td>1994</td>\n",
       "      <td>1994</td>\n",
       "      <td>1994</td>\n",
       "      <td>1994</td>\n",
       "      <td>1994</td>\n",
       "      <td>1994</td>\n",
       "      <td>1994</td>\n",
       "      <td>1994</td>\n",
       "      <td>1994</td>\n",
       "      <td>1994</td>\n",
       "      <td>...</td>\n",
       "      <td>1994</td>\n",
       "      <td>1994</td>\n",
       "      <td>1994</td>\n",
       "      <td>1994</td>\n",
       "      <td>1994</td>\n",
       "      <td>1994</td>\n",
       "      <td>1994</td>\n",
       "      <td>1994</td>\n",
       "      <td>1994</td>\n",
       "      <td>1994</td>\n",
       "    </tr>\n",
       "    <tr>\n",
       "      <th>tt0108052</th>\n",
       "      <td>1151</td>\n",
       "      <td>1151</td>\n",
       "      <td>1151</td>\n",
       "      <td>1151</td>\n",
       "      <td>1151</td>\n",
       "      <td>1151</td>\n",
       "      <td>1151</td>\n",
       "      <td>1151</td>\n",
       "      <td>1151</td>\n",
       "      <td>1151</td>\n",
       "      <td>...</td>\n",
       "      <td>1151</td>\n",
       "      <td>1151</td>\n",
       "      <td>1151</td>\n",
       "      <td>1151</td>\n",
       "      <td>1151</td>\n",
       "      <td>1151</td>\n",
       "      <td>1151</td>\n",
       "      <td>1151</td>\n",
       "      <td>1151</td>\n",
       "      <td>1151</td>\n",
       "    </tr>\n",
       "    <tr>\n",
       "      <th>tt0050083</th>\n",
       "      <td>916</td>\n",
       "      <td>916</td>\n",
       "      <td>916</td>\n",
       "      <td>916</td>\n",
       "      <td>916</td>\n",
       "      <td>916</td>\n",
       "      <td>916</td>\n",
       "      <td>916</td>\n",
       "      <td>916</td>\n",
       "      <td>916</td>\n",
       "      <td>...</td>\n",
       "      <td>916</td>\n",
       "      <td>916</td>\n",
       "      <td>916</td>\n",
       "      <td>916</td>\n",
       "      <td>916</td>\n",
       "      <td>916</td>\n",
       "      <td>916</td>\n",
       "      <td>916</td>\n",
       "      <td>916</td>\n",
       "      <td>916</td>\n",
       "    </tr>\n",
       "    <tr>\n",
       "      <th>tt0803096</th>\n",
       "      <td>751</td>\n",
       "      <td>751</td>\n",
       "      <td>751</td>\n",
       "      <td>751</td>\n",
       "      <td>751</td>\n",
       "      <td>751</td>\n",
       "      <td>751</td>\n",
       "      <td>751</td>\n",
       "      <td>751</td>\n",
       "      <td>751</td>\n",
       "      <td>...</td>\n",
       "      <td>751</td>\n",
       "      <td>751</td>\n",
       "      <td>751</td>\n",
       "      <td>751</td>\n",
       "      <td>751</td>\n",
       "      <td>751</td>\n",
       "      <td>751</td>\n",
       "      <td>751</td>\n",
       "      <td>751</td>\n",
       "      <td>751</td>\n",
       "    </tr>\n",
       "    <tr>\n",
       "      <th>tt5109784</th>\n",
       "      <td>751</td>\n",
       "      <td>751</td>\n",
       "      <td>751</td>\n",
       "      <td>751</td>\n",
       "      <td>751</td>\n",
       "      <td>751</td>\n",
       "      <td>751</td>\n",
       "      <td>751</td>\n",
       "      <td>751</td>\n",
       "      <td>751</td>\n",
       "      <td>...</td>\n",
       "      <td>751</td>\n",
       "      <td>751</td>\n",
       "      <td>751</td>\n",
       "      <td>751</td>\n",
       "      <td>751</td>\n",
       "      <td>751</td>\n",
       "      <td>751</td>\n",
       "      <td>751</td>\n",
       "      <td>751</td>\n",
       "      <td>751</td>\n",
       "    </tr>\n",
       "  </tbody>\n",
       "</table>\n",
       "<p>10 rows × 26 columns</p>\n",
       "</div>"
      ],
      "text/plain": [
       "           plot_summary  duration  genre  film_rating  release_date  \\\n",
       "movie_id                                                              \n",
       "tt0468569          4845      4845   4845         4845          4845   \n",
       "tt0111161          4361      4361   4361         4361          4361   \n",
       "tt0167260          2729      2729   2729         2729          2729   \n",
       "tt0137523          2480      2480   2480         2480          2480   \n",
       "tt0068646          2137      2137   2137         2137          2137   \n",
       "tt0110912          1994      1994   1994         1994          1994   \n",
       "tt0108052          1151      1151   1151         1151          1151   \n",
       "tt0050083           916       916    916          916           916   \n",
       "tt0803096           751       751    751          751           751   \n",
       "tt5109784           751       751    751          751           751   \n",
       "\n",
       "           plot_synopsis  summary_char_count  summary_word_count  \\\n",
       "movie_id                                                           \n",
       "tt0468569           4845                4845                4845   \n",
       "tt0111161           4361                4361                4361   \n",
       "tt0167260           2729                2729                2729   \n",
       "tt0137523           2480                2480                2480   \n",
       "tt0068646           2137                2137                2137   \n",
       "tt0110912           1994                1994                1994   \n",
       "tt0108052           1151                1151                1151   \n",
       "tt0050083            916                 916                 916   \n",
       "tt0803096            751                 751                 751   \n",
       "tt5109784            751                 751                 751   \n",
       "\n",
       "           summary_entity_count  summary_unique_entities  ...  review_text  \\\n",
       "movie_id                                                  ...                \n",
       "tt0468569                  4845                     4845  ...         4845   \n",
       "tt0111161                  4361                     4361  ...         4361   \n",
       "tt0167260                  2729                     2729  ...         2729   \n",
       "tt0137523                  2480                     2480  ...         2480   \n",
       "tt0068646                  2137                     2137  ...         2137   \n",
       "tt0110912                  1994                     1994  ...         1994   \n",
       "tt0108052                  1151                     1151  ...         1151   \n",
       "tt0050083                   916                      916  ...          916   \n",
       "tt0803096                   751                      751  ...          751   \n",
       "tt5109784                   751                      751  ...          751   \n",
       "\n",
       "           reviewer_rating  review_summary  review_char_count  \\\n",
       "movie_id                                                        \n",
       "tt0468569             4845            4845               4845   \n",
       "tt0111161             4361            4361               4361   \n",
       "tt0167260             2729            2729               2729   \n",
       "tt0137523             2480            2480               2480   \n",
       "tt0068646             2137            2137               2137   \n",
       "tt0110912             1994            1994               1994   \n",
       "tt0108052             1151            1151               1151   \n",
       "tt0050083              916             916                916   \n",
       "tt0803096              751             751                751   \n",
       "tt5109784              751             751                751   \n",
       "\n",
       "           review_word_count  review_entity_count  review_unique_entities  \\\n",
       "movie_id                                                                    \n",
       "tt0468569               4845                 4845                    4845   \n",
       "tt0111161               4361                 4361                    4361   \n",
       "tt0167260               2729                 2729                    2729   \n",
       "tt0137523               2480                 2480                    2480   \n",
       "tt0068646               2137                 2137                    2137   \n",
       "tt0110912               1994                 1994                    1994   \n",
       "tt0108052               1151                 1151                    1151   \n",
       "tt0050083                916                  916                     916   \n",
       "tt0803096                751                  751                     751   \n",
       "tt5109784                751                  751                     751   \n",
       "\n",
       "           review_avg_entity_freq  review_tokens  review_token_count  \n",
       "movie_id                                                              \n",
       "tt0468569                    4845           4845                4845  \n",
       "tt0111161                    4361           4361                4361  \n",
       "tt0167260                    2729           2729                2729  \n",
       "tt0137523                    2480           2480                2480  \n",
       "tt0068646                    2137           2137                2137  \n",
       "tt0110912                    1994           1994                1994  \n",
       "tt0108052                    1151           1151                1151  \n",
       "tt0050083                     916            916                 916  \n",
       "tt0803096                     751            751                 751  \n",
       "tt5109784                     751            751                 751  \n",
       "\n",
       "[10 rows x 26 columns]"
      ]
     },
     "execution_count": 4,
     "metadata": {},
     "output_type": "execute_result"
    }
   ],
   "source": [
    "merged_df.groupby('movie_id').count().sort_values(by='is_spoiler', ascending=False)[:10]"
   ]
  },
  {
   "cell_type": "code",
   "execution_count": 5,
   "id": "6d6f7cba",
   "metadata": {
    "ExecuteTime": {
     "end_time": "2022-05-03T13:25:13.964677Z",
     "start_time": "2022-05-03T13:25:12.444434Z"
    }
   },
   "outputs": [],
   "source": [
    "# set up list of review count values\n",
    "review_counts = list(merged_df.groupby('movie_id').count().sort_values(by='is_spoiler', ascending=False).plot_summary[:10].values)\n",
    "# set up list of movie_ids\n",
    "most_reviewed_movie_ids = list(merged_df.groupby('movie_id').count().sort_values(by='is_spoiler', ascending=False)[:10].index)\n",
    "# save the list of movie ids as a pickle file for easier import later\n",
    "with open('top_10_movie_ids.pkl', 'wb') as f:\n",
    "    pickle.dump(most_reviewed_movie_ids, f)"
   ]
  },
  {
   "cell_type": "code",
   "execution_count": 6,
   "id": "c1f950c4",
   "metadata": {
    "ExecuteTime": {
     "end_time": "2022-05-03T13:25:15.410023Z",
     "start_time": "2022-05-03T13:25:15.396629Z"
    }
   },
   "outputs": [
    {
     "data": {
      "text/plain": [
       "0.03853371504043296"
      ]
     },
     "execution_count": 6,
     "metadata": {},
     "output_type": "execute_result"
    }
   ],
   "source": [
    "sum(review_counts)/len(merged_df)"
   ]
  },
  {
   "cell_type": "markdown",
   "id": "16229ade",
   "metadata": {},
   "source": [
    "Top 10 most reviews films represent 22,115 reviews, about 3.8 percent of our total reviews. We then searched google for the title associated with the movie_id."
   ]
  },
  {
   "cell_type": "code",
   "execution_count": 7,
   "id": "d9af0dfb",
   "metadata": {
    "ExecuteTime": {
     "end_time": "2022-05-03T13:25:16.886120Z",
     "start_time": "2022-05-03T13:25:16.873222Z"
    }
   },
   "outputs": [],
   "source": [
    "# create list of movie titles\n",
    "most_reviewed_movie_titles = ['The Dark Knight',\n",
    "                              'The Shawshank Redemption',\n",
    "                              'The Lord of the Rings: The Return of the King',\n",
    "                              'Fight Club',\n",
    "                              'The Godfather',\n",
    "                              'Pulp Fiction',\n",
    "                              \"Schindler's List\",\n",
    "                              '12 Angry Men',\n",
    "                              'Warcraft',\n",
    "                              'Mother!']"
   ]
  },
  {
   "cell_type": "code",
   "execution_count": 8,
   "id": "ef68b78a",
   "metadata": {
    "ExecuteTime": {
     "end_time": "2022-05-03T13:25:18.469849Z",
     "start_time": "2022-05-03T13:25:18.394950Z"
    }
   },
   "outputs": [
    {
     "name": "stdout",
     "output_type": "stream",
     "text": [
      "False    69.41\n",
      "True     30.59\n",
      "Name: is_spoiler, dtype: float64\n"
     ]
    }
   ],
   "source": [
    "print(round(merged_df[merged_df.movie_id == 'tt0468569'].is_spoiler.value_counts(normalize=True)*100, 2))"
   ]
  },
  {
   "cell_type": "code",
   "execution_count": 9,
   "id": "a1172c12",
   "metadata": {
    "ExecuteTime": {
     "end_time": "2022-05-03T13:25:20.391850Z",
     "start_time": "2022-05-03T13:25:19.917177Z"
    },
    "scrolled": true
   },
   "outputs": [
    {
     "name": "stdout",
     "output_type": "stream",
     "text": [
      "Film: The Dark Knight\n",
      "Total reviews: 4845\n",
      "Spoiler distribution:\n",
      "False    69.41\n",
      "True     30.59\n",
      "Name: is_spoiler, dtype: float64\n",
      "---------------------------------------------\n",
      "Film: The Shawshank Redemption\n",
      "Total reviews: 4361\n",
      "Spoiler distribution:\n",
      "False    78.08\n",
      "True     21.92\n",
      "Name: is_spoiler, dtype: float64\n",
      "---------------------------------------------\n",
      "Film: The Lord of the Rings: The Return of the King\n",
      "Total reviews: 2729\n",
      "Spoiler distribution:\n",
      "False    82.04\n",
      "True     17.96\n",
      "Name: is_spoiler, dtype: float64\n",
      "---------------------------------------------\n",
      "Film: Fight Club\n",
      "Total reviews: 2480\n",
      "Spoiler distribution:\n",
      "False    81.49\n",
      "True     18.51\n",
      "Name: is_spoiler, dtype: float64\n",
      "---------------------------------------------\n",
      "Film: The Godfather\n",
      "Total reviews: 2137\n",
      "Spoiler distribution:\n",
      "False    80.35\n",
      "True     19.65\n",
      "Name: is_spoiler, dtype: float64\n",
      "---------------------------------------------\n",
      "Film: Pulp Fiction\n",
      "Total reviews: 1994\n",
      "Spoiler distribution:\n",
      "False    80.09\n",
      "True     19.91\n",
      "Name: is_spoiler, dtype: float64\n",
      "---------------------------------------------\n",
      "Film: Schindler's List\n",
      "Total reviews: 1151\n",
      "Spoiler distribution:\n",
      "False    78.45\n",
      "True     21.55\n",
      "Name: is_spoiler, dtype: float64\n",
      "---------------------------------------------\n",
      "Film: 12 Angry Men\n",
      "Total reviews: 916\n",
      "Spoiler distribution:\n",
      "False    72.82\n",
      "True     27.18\n",
      "Name: is_spoiler, dtype: float64\n",
      "---------------------------------------------\n",
      "Film: Warcraft\n",
      "Total reviews: 751\n",
      "Spoiler distribution:\n",
      "False    78.43\n",
      "True     21.57\n",
      "Name: is_spoiler, dtype: float64\n",
      "---------------------------------------------\n",
      "Film: Mother!\n",
      "Total reviews: 751\n",
      "Spoiler distribution:\n",
      "False    71.64\n",
      "True     28.36\n",
      "Name: is_spoiler, dtype: float64\n",
      "---------------------------------------------\n"
     ]
    }
   ],
   "source": [
    "for i, v in enumerate(most_reviewed_movie_ids):\n",
    "    print(f\"Film: {most_reviewed_movie_titles[i]}\")\n",
    "    print(f\"Total reviews: {review_counts[i]}\")\n",
    "    print(\"Spoiler distribution:\")\n",
    "    print(round(merged_df[merged_df.movie_id == v].is_spoiler.value_counts(normalize=True)*100, 2))\n",
    "    print(\"---------------------------------------------\")"
   ]
  },
  {
   "cell_type": "code",
   "execution_count": 10,
   "id": "23d24547",
   "metadata": {
    "ExecuteTime": {
     "end_time": "2022-05-03T13:25:25.942589Z",
     "start_time": "2022-05-03T13:25:21.854552Z"
    }
   },
   "outputs": [],
   "source": [
    "del merged_df"
   ]
  },
  {
   "cell_type": "markdown",
   "id": "0a83589c",
   "metadata": {},
   "source": [
    "# Data Preparation"
   ]
  },
  {
   "cell_type": "code",
   "execution_count": 3,
   "id": "ad0ac144",
   "metadata": {
    "ExecuteTime": {
     "end_time": "2022-05-03T19:42:56.817138Z",
     "start_time": "2022-05-03T19:42:49.198804Z"
    }
   },
   "outputs": [
    {
     "data": {
      "text/html": [
       "<div>\n",
       "<style scoped>\n",
       "    .dataframe tbody tr th:only-of-type {\n",
       "        vertical-align: middle;\n",
       "    }\n",
       "\n",
       "    .dataframe tbody tr th {\n",
       "        vertical-align: top;\n",
       "    }\n",
       "\n",
       "    .dataframe thead th {\n",
       "        text-align: right;\n",
       "    }\n",
       "</style>\n",
       "<table border=\"1\" class=\"dataframe\">\n",
       "  <thead>\n",
       "    <tr style=\"text-align: right;\">\n",
       "      <th></th>\n",
       "      <th>movie_id</th>\n",
       "      <th>is_spoiler</th>\n",
       "      <th>review_text_lemmed</th>\n",
       "    </tr>\n",
       "  </thead>\n",
       "  <tbody>\n",
       "    <tr>\n",
       "      <th>0</th>\n",
       "      <td>tt0111161</td>\n",
       "      <td>1</td>\n",
       "      <td>oscar year shawshank redemption write direct f...</td>\n",
       "    </tr>\n",
       "    <tr>\n",
       "      <th>1</th>\n",
       "      <td>tt0111161</td>\n",
       "      <td>1</td>\n",
       "      <td>shawshank redemption without doubt one brillia...</td>\n",
       "    </tr>\n",
       "    <tr>\n",
       "      <th>2</th>\n",
       "      <td>tt0111161</td>\n",
       "      <td>1</td>\n",
       "      <td>believe film best story ever tell film i'm tel...</td>\n",
       "    </tr>\n",
       "    <tr>\n",
       "      <th>3</th>\n",
       "      <td>tt0111161</td>\n",
       "      <td>1</td>\n",
       "      <td>yes spoiler film emotional impact find hard wr...</td>\n",
       "    </tr>\n",
       "    <tr>\n",
       "      <th>4</th>\n",
       "      <td>tt0111161</td>\n",
       "      <td>1</td>\n",
       "      <td>heart extraordinary movie brilliant indelible ...</td>\n",
       "    </tr>\n",
       "    <tr>\n",
       "      <th>...</th>\n",
       "      <td>...</td>\n",
       "      <td>...</td>\n",
       "      <td>...</td>\n",
       "    </tr>\n",
       "    <tr>\n",
       "      <th>22110</th>\n",
       "      <td>tt0110912</td>\n",
       "      <td>0</td>\n",
       "      <td>know people planet maybe like movie much hones...</td>\n",
       "    </tr>\n",
       "    <tr>\n",
       "      <th>22111</th>\n",
       "      <td>tt0110912</td>\n",
       "      <td>0</td>\n",
       "      <td>love everything movie always enjoy one list st...</td>\n",
       "    </tr>\n",
       "    <tr>\n",
       "      <th>22112</th>\n",
       "      <td>tt0110912</td>\n",
       "      <td>0</td>\n",
       "      <td>quentin tarantino's pulp fiction terrible star...</td>\n",
       "    </tr>\n",
       "    <tr>\n",
       "      <th>22113</th>\n",
       "      <td>tt0110912</td>\n",
       "      <td>0</td>\n",
       "      <td>lot people think movie masterpiece decide watc...</td>\n",
       "    </tr>\n",
       "    <tr>\n",
       "      <th>22114</th>\n",
       "      <td>tt0137523</td>\n",
       "      <td>0</td>\n",
       "      <td>many wait moment watch rewatch pitt norton epi...</td>\n",
       "    </tr>\n",
       "  </tbody>\n",
       "</table>\n",
       "<p>22115 rows × 3 columns</p>\n",
       "</div>"
      ],
      "text/plain": [
       "        movie_id  is_spoiler  \\\n",
       "0      tt0111161           1   \n",
       "1      tt0111161           1   \n",
       "2      tt0111161           1   \n",
       "3      tt0111161           1   \n",
       "4      tt0111161           1   \n",
       "...          ...         ...   \n",
       "22110  tt0110912           0   \n",
       "22111  tt0110912           0   \n",
       "22112  tt0110912           0   \n",
       "22113  tt0110912           0   \n",
       "22114  tt0137523           0   \n",
       "\n",
       "                                      review_text_lemmed  \n",
       "0      oscar year shawshank redemption write direct f...  \n",
       "1      shawshank redemption without doubt one brillia...  \n",
       "2      believe film best story ever tell film i'm tel...  \n",
       "3      yes spoiler film emotional impact find hard wr...  \n",
       "4      heart extraordinary movie brilliant indelible ...  \n",
       "...                                                  ...  \n",
       "22110  know people planet maybe like movie much hones...  \n",
       "22111  love everything movie always enjoy one list st...  \n",
       "22112  quentin tarantino's pulp fiction terrible star...  \n",
       "22113  lot people think movie masterpiece decide watc...  \n",
       "22114  many wait moment watch rewatch pitt norton epi...  \n",
       "\n",
       "[22115 rows x 3 columns]"
      ]
     },
     "execution_count": 3,
     "metadata": {},
     "output_type": "execute_result"
    }
   ],
   "source": [
    "# load all reviews\n",
    "review_df = pd.read_parquet('./data/reviews_lemmed.parquet')\n",
    "# open pickle file with top 10 reviews films' movie ids\n",
    "with open('top_10_movie_ids.pkl', 'rb') as f:\n",
    "    most_reviewed_movie_ids = pickle.load(f)\n",
    "# create a new dataframe of reviews for those 10 films\n",
    "top_ten_reviews = review_df[review_df.movie_id.isin(most_reviewed_movie_ids)][['movie_id', 'is_spoiler', 'review_text_lemmed']].copy()\n",
    "top_ten_reviews.reset_index(drop=True, inplace=True)\n",
    "# delete the larger dataframe\n",
    "del review_df\n",
    "# display the new dataframe\n",
    "top_ten_reviews"
   ]
  },
  {
   "cell_type": "code",
   "execution_count": 4,
   "id": "d0e001c9",
   "metadata": {
    "ExecuteTime": {
     "end_time": "2022-05-03T13:55:12.904192Z",
     "start_time": "2022-05-03T13:55:12.896213Z"
    }
   },
   "outputs": [
    {
     "data": {
      "text/plain": [
       "0    0.770473\n",
       "1    0.229527\n",
       "Name: is_spoiler, dtype: float64"
      ]
     },
     "execution_count": 4,
     "metadata": {},
     "output_type": "execute_result"
    }
   ],
   "source": [
    "top_ten_reviews.is_spoiler.value_counts(normalize=True)"
   ]
  },
  {
   "cell_type": "markdown",
   "id": "cb9c255e",
   "metadata": {},
   "source": [
    "## Train/Test split"
   ]
  },
  {
   "cell_type": "code",
   "execution_count": 30,
   "id": "6a439719",
   "metadata": {
    "ExecuteTime": {
     "end_time": "2022-05-02T17:48:45.227975Z",
     "start_time": "2022-05-02T17:48:45.219548Z"
    }
   },
   "outputs": [],
   "source": [
    "# set X to the review text lemmed, y to target\n",
    "X = top_ten_reviews.review_text_lemmed\n",
    "y = top_ten_reviews.is_spoiler\n",
    "\n",
    "X_train, X_test, y_train, y_test = train_test_split(X, y, random_state=42, test_size=0.2)"
   ]
  },
  {
   "cell_type": "code",
   "execution_count": 32,
   "id": "af3603f7",
   "metadata": {
    "ExecuteTime": {
     "end_time": "2022-05-02T17:51:15.024784Z",
     "start_time": "2022-05-02T17:51:15.004945Z"
    }
   },
   "outputs": [],
   "source": [
    "# helper function to transform the training and validation data\n",
    "def transformX(vectorizer, train=X_train, val=X_test, train_target=y_train, val_target=y_test):\n",
    "    # fit/transform training data\n",
    "    train_vec = vectorizer.fit_transform(train)\n",
    "    train_vec = pd.DataFrame.sparse.from_spmatrix(train_vec)\n",
    "    train_vec.columns = sorted(vectorizer.vocabulary_)\n",
    "    train_vec.set_index(train_target.index, inplace=True)\n",
    "    # transform validation data\n",
    "    val_vec = vectorizer.transform(val)\n",
    "    val_vec = pd.DataFrame.sparse.from_spmatrix(val_vec)\n",
    "    val_vec.columns = sorted(vectorizer.vocabulary_)\n",
    "    val_vec.set_index(val_target.index, inplace=True)\n",
    "    # return both dataframes\n",
    "    return train_vec, val_vec"
   ]
  },
  {
   "cell_type": "markdown",
   "id": "804e7504",
   "metadata": {
    "heading_collapsed": true
   },
   "source": [
    "# Modeling"
   ]
  },
  {
   "cell_type": "markdown",
   "id": "07811436",
   "metadata": {
    "hidden": true
   },
   "source": [
    "## tfidf more than 5 appearances"
   ]
  },
  {
   "cell_type": "code",
   "execution_count": 39,
   "id": "fff96f15",
   "metadata": {
    "ExecuteTime": {
     "end_time": "2022-05-02T19:49:44.652532Z",
     "start_time": "2022-05-02T19:49:41.523129Z"
    },
    "hidden": true
   },
   "outputs": [],
   "source": [
    "# set tfidf vectorizer, default parameters\n",
    "base_tfidf = TfidfVectorizer(min_df=5)\n",
    "\n",
    "X_train_tfidf, X_test_tfidf = transformX(base_tfidf)\n",
    "\n",
    "# helper function to make fitting, predicting and reporting easier\n",
    "def fitpredreport(model):\n",
    "    model.fit(X_train_tfidf, y_train)\n",
    "    y_pred = model.predict(X_test_tfidf)\n",
    "    report(y_test, y_pred)"
   ]
  },
  {
   "cell_type": "code",
   "execution_count": 40,
   "id": "35f6b475",
   "metadata": {
    "ExecuteTime": {
     "end_time": "2022-05-02T19:49:46.759268Z",
     "start_time": "2022-05-02T19:49:45.777762Z"
    },
    "hidden": true
   },
   "outputs": [
    {
     "name": "stdout",
     "output_type": "stream",
     "text": [
      "              precision    recall  f1-score   support\n",
      "\n",
      "  no_spoiler       0.78      0.99      0.87      3405\n",
      "     spoiler       0.59      0.06      0.11      1018\n",
      "\n",
      "    accuracy                           0.77      4423\n",
      "   macro avg       0.69      0.52      0.49      4423\n",
      "weighted avg       0.74      0.77      0.69      4423\n",
      "\n"
     ]
    },
    {
     "data": {
      "image/png": "[encoded data removed]",
      "text/plain": [
       "<Figure size 432x288 with 2 Axes>"
      ]
     },
     "metadata": {
      "needs_background": "light"
     },
     "output_type": "display_data"
    }
   ],
   "source": [
    "# instantiate multinomial naive bayes model\n",
    "mnb_v1 = MultinomialNB()\n",
    "# fit, predict and report with helper function\n",
    "fitpredreport(mnb_v1)"
   ]
  },
  {
   "cell_type": "code",
   "execution_count": 41,
   "id": "9286a334",
   "metadata": {
    "ExecuteTime": {
     "end_time": "2022-05-02T19:49:48.635952Z",
     "start_time": "2022-05-02T19:49:47.145415Z"
    },
    "hidden": true
   },
   "outputs": [
    {
     "name": "stdout",
     "output_type": "stream",
     "text": [
      "[LibLinear]              precision    recall  f1-score   support\n",
      "\n",
      "  no_spoiler       0.82      0.93      0.87      3405\n",
      "     spoiler       0.59      0.32      0.42      1018\n",
      "\n",
      "    accuracy                           0.79      4423\n",
      "   macro avg       0.71      0.63      0.64      4423\n",
      "weighted avg       0.77      0.79      0.77      4423\n",
      "\n"
     ]
    },
    {
     "data": {
      "image/png": "[encoded data removed]",
      "text/plain": [
       "<Figure size 432x288 with 2 Axes>"
      ]
     },
     "metadata": {
      "needs_background": "light"
     },
     "output_type": "display_data"
    }
   ],
   "source": [
    "# instantiate logistic regression model\n",
    "lr_v1 = LogisticRegression(verbose=1, solver='liblinear', random_state=42, C=5, max_iter=1000)\n",
    "# fit, predict and report with helper function\n",
    "fitpredreport(lr_v1)"
   ]
  },
  {
   "cell_type": "code",
   "execution_count": 42,
   "id": "324d5e0d",
   "metadata": {
    "ExecuteTime": {
     "end_time": "2022-05-02T19:49:50.173227Z",
     "start_time": "2022-05-02T19:49:49.038172Z"
    },
    "hidden": true
   },
   "outputs": [
    {
     "name": "stdout",
     "output_type": "stream",
     "text": [
      "              precision    recall  f1-score   support\n",
      "\n",
      "  no_spoiler       0.82      0.92      0.87      3405\n",
      "     spoiler       0.55      0.34      0.42      1018\n",
      "\n",
      "    accuracy                           0.78      4423\n",
      "   macro avg       0.69      0.63      0.64      4423\n",
      "weighted avg       0.76      0.78      0.76      4423\n",
      "\n"
     ]
    },
    {
     "data": {
      "image/png": "[encoded data removed]",
      "text/plain": [
       "<Figure size 432x288 with 2 Axes>"
      ]
     },
     "metadata": {
      "needs_background": "light"
     },
     "output_type": "display_data"
    }
   ],
   "source": [
    "# instantiate SVM model\n",
    "svm_v1 = LinearSVC(random_state=42)\n",
    "# fit, predict and report with helper function\n",
    "fitpredreport(svm_v1)"
   ]
  },
  {
   "cell_type": "code",
   "execution_count": 43,
   "id": "2b8edb27",
   "metadata": {
    "ExecuteTime": {
     "end_time": "2022-05-02T19:49:59.952985Z",
     "start_time": "2022-05-02T19:49:50.560187Z"
    },
    "hidden": true
   },
   "outputs": [
    {
     "name": "stdout",
     "output_type": "stream",
     "text": [
      "              precision    recall  f1-score   support\n",
      "\n",
      "  no_spoiler       0.78      0.99      0.87      3405\n",
      "     spoiler       0.64      0.05      0.09      1018\n",
      "\n",
      "    accuracy                           0.78      4423\n",
      "   macro avg       0.71      0.52      0.48      4423\n",
      "weighted avg       0.75      0.78      0.69      4423\n",
      "\n"
     ]
    },
    {
     "data": {
      "image/png": "[encoded data removed]",
      "text/plain": [
       "<Figure size 432x288 with 2 Axes>"
      ]
     },
     "metadata": {
      "needs_background": "light"
     },
     "output_type": "display_data"
    }
   ],
   "source": [
    "# instantiate random forest classifier\n",
    "rf_v1 = RandomForestClassifier(random_state=42, n_jobs=-1)\n",
    "# fit, predict and report with helper function\n",
    "fitpredreport(rf_v1)"
   ]
  },
  {
   "cell_type": "code",
   "execution_count": 34,
   "id": "1e1d1433",
   "metadata": {
    "ExecuteTime": {
     "end_time": "2022-05-02T17:56:17.700173Z",
     "start_time": "2022-05-02T17:52:36.635567Z"
    },
    "hidden": true
   },
   "outputs": [
    {
     "name": "stdout",
     "output_type": "stream",
     "text": [
      "              precision    recall  f1-score   support\n",
      "\n",
      "  no_spoiler       0.82      0.94      0.87      3405\n",
      "     spoiler       0.59      0.30      0.39      1018\n",
      "\n",
      "    accuracy                           0.79      4423\n",
      "   macro avg       0.70      0.62      0.63      4423\n",
      "weighted avg       0.77      0.79      0.76      4423\n",
      "\n"
     ]
    },
    {
     "data": {
      "image/png": "[encoded data removed]",
      "text/plain": [
       "<Figure size 432x288 with 2 Axes>"
      ]
     },
     "metadata": {
      "needs_background": "light"
     },
     "output_type": "display_data"
    }
   ],
   "source": [
    "# instantiate XGB classifier\n",
    "xgb_v1 = XGBClassifier(random_state=42, n_jobs=-1)\n",
    "# fit, predict and report with helper function\n",
    "fitpredreport(xgb_v1)"
   ]
  },
  {
   "cell_type": "code",
   "execution_count": null,
   "id": "1f1f5acb",
   "metadata": {
    "hidden": true
   },
   "outputs": [],
   "source": []
  },
  {
   "cell_type": "code",
   "execution_count": null,
   "id": "f5d0eddb",
   "metadata": {
    "hidden": true
   },
   "outputs": [],
   "source": []
  },
  {
   "cell_type": "markdown",
   "id": "6d6e5fe1",
   "metadata": {
    "hidden": true
   },
   "source": [
    "## tfidf bi grams more than 5 appearances"
   ]
  },
  {
   "cell_type": "code",
   "execution_count": 44,
   "id": "8cb6d651",
   "metadata": {
    "ExecuteTime": {
     "end_time": "2022-05-02T19:50:13.496209Z",
     "start_time": "2022-05-02T19:50:00.418234Z"
    },
    "hidden": true
   },
   "outputs": [],
   "source": [
    "# set tfidf vectorizer, default parameters\n",
    "tfidf_bigrams = TfidfVectorizer(min_df=5, ngram_range=(1,2))\n",
    "\n",
    "X_train_tfidf, X_test_tfidf = transformX(tfidf_bigrams)\n",
    "\n",
    "# helper function to make fitting, predicting and reporting easier\n",
    "def fitpredreport(model):\n",
    "    model.fit(X_train_tfidf, y_train)\n",
    "    y_pred = model.predict(X_test_tfidf)\n",
    "    report(y_test, y_pred)"
   ]
  },
  {
   "cell_type": "code",
   "execution_count": 49,
   "id": "4b86dbba",
   "metadata": {
    "ExecuteTime": {
     "end_time": "2022-05-02T19:51:02.437879Z",
     "start_time": "2022-05-02T19:50:58.642641Z"
    },
    "hidden": true
   },
   "outputs": [
    {
     "name": "stdout",
     "output_type": "stream",
     "text": [
      "              precision    recall  f1-score   support\n",
      "\n",
      "  no_spoiler       0.77      1.00      0.87      3405\n",
      "     spoiler       0.53      0.02      0.04      1018\n",
      "\n",
      "    accuracy                           0.77      4423\n",
      "   macro avg       0.65      0.51      0.45      4423\n",
      "weighted avg       0.72      0.77      0.68      4423\n",
      "\n"
     ]
    },
    {
     "data": {
      "image/png": "[encoded data removed]",
      "text/plain": [
       "<Figure size 432x288 with 2 Axes>"
      ]
     },
     "metadata": {
      "needs_background": "light"
     },
     "output_type": "display_data"
    }
   ],
   "source": [
    "# instantiate multinomial naive bayes model\n",
    "mnb_v2 = MultinomialNB()\n",
    "# fit, predict and report with helper function\n",
    "fitpredreport(mnb_v2)"
   ]
  },
  {
   "cell_type": "code",
   "execution_count": 50,
   "id": "c478ef04",
   "metadata": {
    "ExecuteTime": {
     "end_time": "2022-05-02T19:51:08.527162Z",
     "start_time": "2022-05-02T19:51:03.854930Z"
    },
    "hidden": true
   },
   "outputs": [
    {
     "name": "stdout",
     "output_type": "stream",
     "text": [
      "[LibLinear]              precision    recall  f1-score   support\n",
      "\n",
      "  no_spoiler       0.82      0.94      0.87      3405\n",
      "     spoiler       0.60      0.29      0.39      1018\n",
      "\n",
      "    accuracy                           0.79      4423\n",
      "   macro avg       0.71      0.61      0.63      4423\n",
      "weighted avg       0.76      0.79      0.76      4423\n",
      "\n"
     ]
    },
    {
     "data": {
      "image/png": "[encoded data removed]",
      "text/plain": [
       "<Figure size 432x288 with 2 Axes>"
      ]
     },
     "metadata": {
      "needs_background": "light"
     },
     "output_type": "display_data"
    }
   ],
   "source": [
    "# instantiate logistic regression model\n",
    "lr_v2 = LogisticRegression(verbose=1, solver='liblinear', random_state=42, C=5, max_iter=1000)\n",
    "# fit, predict and report with helper function\n",
    "fitpredreport(lr_v2)"
   ]
  },
  {
   "cell_type": "code",
   "execution_count": 51,
   "id": "173f09f6",
   "metadata": {
    "ExecuteTime": {
     "end_time": "2022-05-02T19:51:14.246632Z",
     "start_time": "2022-05-02T19:51:10.021227Z"
    },
    "hidden": true
   },
   "outputs": [
    {
     "name": "stdout",
     "output_type": "stream",
     "text": [
      "              precision    recall  f1-score   support\n",
      "\n",
      "  no_spoiler       0.82      0.93      0.87      3405\n",
      "     spoiler       0.56      0.31      0.40      1018\n",
      "\n",
      "    accuracy                           0.79      4423\n",
      "   macro avg       0.69      0.62      0.63      4423\n",
      "weighted avg       0.76      0.79      0.76      4423\n",
      "\n"
     ]
    },
    {
     "data": {
      "image/png": "[encoded data removed]",
      "text/plain": [
       "<Figure size 432x288 with 2 Axes>"
      ]
     },
     "metadata": {
      "needs_background": "light"
     },
     "output_type": "display_data"
    }
   ],
   "source": [
    "# instantiate SVM model\n",
    "svm_v2 = LinearSVC(random_state=42)\n",
    "# fit, predict and report with helper function\n",
    "fitpredreport(svm_v2)"
   ]
  },
  {
   "cell_type": "code",
   "execution_count": 52,
   "id": "7d002111",
   "metadata": {
    "ExecuteTime": {
     "end_time": "2022-05-02T19:51:34.989085Z",
     "start_time": "2022-05-02T19:51:15.725705Z"
    },
    "hidden": true
   },
   "outputs": [
    {
     "name": "stdout",
     "output_type": "stream",
     "text": [
      "              precision    recall  f1-score   support\n",
      "\n",
      "  no_spoiler       0.78      0.99      0.87      3405\n",
      "     spoiler       0.57      0.04      0.07      1018\n",
      "\n",
      "    accuracy                           0.77      4423\n",
      "   macro avg       0.67      0.51      0.47      4423\n",
      "weighted avg       0.73      0.77      0.69      4423\n",
      "\n"
     ]
    },
    {
     "data": {
      "image/png": "[encoded data removed]",
      "text/plain": [
       "<Figure size 432x288 with 2 Axes>"
      ]
     },
     "metadata": {
      "needs_background": "light"
     },
     "output_type": "display_data"
    }
   ],
   "source": [
    "# instantiate random forest classifier\n",
    "rf_v2 = RandomForestClassifier(random_state=42, n_jobs=-1)\n",
    "# fit, predict and report with helper function\n",
    "fitpredreport(rf_v2)"
   ]
  },
  {
   "cell_type": "code",
   "execution_count": 36,
   "id": "d89cd6d4",
   "metadata": {
    "ExecuteTime": {
     "end_time": "2022-05-02T18:23:00.424559Z",
     "start_time": "2022-05-02T17:59:08.867410Z"
    },
    "hidden": true
   },
   "outputs": [
    {
     "name": "stdout",
     "output_type": "stream",
     "text": [
      "              precision    recall  f1-score   support\n",
      "\n",
      "  no_spoiler       0.81      0.95      0.88      3405\n",
      "     spoiler       0.62      0.28      0.39      1018\n",
      "\n",
      "    accuracy                           0.79      4423\n",
      "   macro avg       0.72      0.61      0.63      4423\n",
      "weighted avg       0.77      0.79      0.76      4423\n",
      "\n"
     ]
    },
    {
     "data": {
      "image/png": "[encoded data removed]",
      "text/plain": [
       "<Figure size 432x288 with 2 Axes>"
      ]
     },
     "metadata": {
      "needs_background": "light"
     },
     "output_type": "display_data"
    }
   ],
   "source": [
    "# instantiate XGB classifier\n",
    "xgb_v2 = XGBClassifier(random_state=42, n_jobs=-1)\n",
    "# fit, predict and report with helper function\n",
    "fitpredreport(xgb_v2)"
   ]
  },
  {
   "cell_type": "markdown",
   "id": "7a34fc50",
   "metadata": {
    "hidden": true
   },
   "source": [
    "## tfidf tri grams more than 5 appearances"
   ]
  },
  {
   "cell_type": "code",
   "execution_count": 53,
   "id": "8d7dc478",
   "metadata": {
    "ExecuteTime": {
     "end_time": "2022-05-02T19:51:52.562747Z",
     "start_time": "2022-05-02T19:51:36.475608Z"
    },
    "hidden": true
   },
   "outputs": [],
   "source": [
    "# set tfidf vectorizer, default parameters\n",
    "tfidf_trigrams = TfidfVectorizer(min_df=5, ngram_range=(1,3))\n",
    "\n",
    "X_train_tfidf, X_test_tfidf = transformX(tfidf_trigrams)\n",
    "\n",
    "# helper function to make fitting, predicting and reporting easier\n",
    "def fitpredreport(model):\n",
    "    model.fit(X_train_tfidf, y_train)\n",
    "    y_pred = model.predict(X_test_tfidf)\n",
    "    report(y_test, y_pred)"
   ]
  },
  {
   "cell_type": "code",
   "execution_count": 54,
   "id": "dbb2a87f",
   "metadata": {
    "ExecuteTime": {
     "end_time": "2022-05-02T19:52:08.369301Z",
     "start_time": "2022-05-02T19:52:01.531118Z"
    },
    "hidden": true
   },
   "outputs": [
    {
     "name": "stdout",
     "output_type": "stream",
     "text": [
      "              precision    recall  f1-score   support\n",
      "\n",
      "  no_spoiler       0.77      0.99      0.87      3405\n",
      "     spoiler       0.47      0.03      0.05      1018\n",
      "\n",
      "    accuracy                           0.77      4423\n",
      "   macro avg       0.62      0.51      0.46      4423\n",
      "weighted avg       0.70      0.77      0.68      4423\n",
      "\n"
     ]
    },
    {
     "data": {
      "image/png": "[encoded data removed]",
      "text/plain": [
       "<Figure size 432x288 with 2 Axes>"
      ]
     },
     "metadata": {
      "needs_background": "light"
     },
     "output_type": "display_data"
    }
   ],
   "source": [
    "# instantiate multinomial naive bayes model\n",
    "mnb_v3 = MultinomialNB()\n",
    "# fit, predict and report with helper function\n",
    "fitpredreport(mnb_v3)"
   ]
  },
  {
   "cell_type": "code",
   "execution_count": 55,
   "id": "313c8b4c",
   "metadata": {
    "ExecuteTime": {
     "end_time": "2022-05-02T19:52:15.672966Z",
     "start_time": "2022-05-02T19:52:10.140128Z"
    },
    "hidden": true
   },
   "outputs": [
    {
     "name": "stdout",
     "output_type": "stream",
     "text": [
      "[LibLinear]              precision    recall  f1-score   support\n",
      "\n",
      "  no_spoiler       0.81      0.94      0.87      3405\n",
      "     spoiler       0.60      0.28      0.38      1018\n",
      "\n",
      "    accuracy                           0.79      4423\n",
      "   macro avg       0.70      0.61      0.63      4423\n",
      "weighted avg       0.76      0.79      0.76      4423\n",
      "\n"
     ]
    },
    {
     "data": {
      "image/png": "[encoded data removed]",
      "text/plain": [
       "<Figure size 432x288 with 2 Axes>"
      ]
     },
     "metadata": {
      "needs_background": "light"
     },
     "output_type": "display_data"
    }
   ],
   "source": [
    "# instantiate logistic regression model\n",
    "lr_v3 = LogisticRegression(verbose=1, solver='liblinear', random_state=42, C=5, max_iter=1000)\n",
    "# fit, predict and report with helper function\n",
    "fitpredreport(lr_v3)"
   ]
  },
  {
   "cell_type": "code",
   "execution_count": 56,
   "id": "39086da5",
   "metadata": {
    "ExecuteTime": {
     "end_time": "2022-05-02T19:52:22.653735Z",
     "start_time": "2022-05-02T19:52:17.459177Z"
    },
    "hidden": true
   },
   "outputs": [
    {
     "name": "stdout",
     "output_type": "stream",
     "text": [
      "              precision    recall  f1-score   support\n",
      "\n",
      "  no_spoiler       0.82      0.93      0.87      3405\n",
      "     spoiler       0.57      0.32      0.41      1018\n",
      "\n",
      "    accuracy                           0.79      4423\n",
      "   macro avg       0.70      0.62      0.64      4423\n",
      "weighted avg       0.76      0.79      0.76      4423\n",
      "\n"
     ]
    },
    {
     "data": {
      "image/png": "[encoded data removed]",
      "text/plain": [
       "<Figure size 432x288 with 2 Axes>"
      ]
     },
     "metadata": {
      "needs_background": "light"
     },
     "output_type": "display_data"
    }
   ],
   "source": [
    "# instantiate SVM model\n",
    "svm_v3 = LinearSVC(random_state=42)\n",
    "# fit, predict and report with helper function\n",
    "fitpredreport(svm_v3)"
   ]
  },
  {
   "cell_type": "code",
   "execution_count": 57,
   "id": "5b36e8b4",
   "metadata": {
    "ExecuteTime": {
     "end_time": "2022-05-02T19:52:47.147860Z",
     "start_time": "2022-05-02T19:52:24.393712Z"
    },
    "hidden": true
   },
   "outputs": [
    {
     "name": "stdout",
     "output_type": "stream",
     "text": [
      "              precision    recall  f1-score   support\n",
      "\n",
      "  no_spoiler       0.78      0.99      0.87      3405\n",
      "     spoiler       0.64      0.04      0.07      1018\n",
      "\n",
      "    accuracy                           0.77      4423\n",
      "   macro avg       0.71      0.51      0.47      4423\n",
      "weighted avg       0.74      0.77      0.69      4423\n",
      "\n"
     ]
    },
    {
     "data": {
      "image/png": "[encoded data removed]",
      "text/plain": [
       "<Figure size 432x288 with 2 Axes>"
      ]
     },
     "metadata": {
      "needs_background": "light"
     },
     "output_type": "display_data"
    }
   ],
   "source": [
    "# instantiate random forest classifier\n",
    "rf_v3 = RandomForestClassifier(random_state=42, n_jobs=-1)\n",
    "# fit, predict and report with helper function\n",
    "fitpredreport(rf_v3)"
   ]
  },
  {
   "cell_type": "code",
   "execution_count": 38,
   "id": "0a1c958e",
   "metadata": {
    "ExecuteTime": {
     "end_time": "2022-05-02T19:49:37.738525Z",
     "start_time": "2022-05-02T18:48:52.583686Z"
    },
    "hidden": true
   },
   "outputs": [
    {
     "name": "stdout",
     "output_type": "stream",
     "text": [
      "              precision    recall  f1-score   support\n",
      "\n",
      "  no_spoiler       0.82      0.94      0.88      3405\n",
      "     spoiler       0.61      0.29      0.40      1018\n",
      "\n",
      "    accuracy                           0.79      4423\n",
      "   macro avg       0.71      0.62      0.64      4423\n",
      "weighted avg       0.77      0.79      0.77      4423\n",
      "\n"
     ]
    },
    {
     "data": {
      "image/png": "[encoded data removed]",
      "text/plain": [
       "<Figure size 432x288 with 2 Axes>"
      ]
     },
     "metadata": {
      "needs_background": "light"
     },
     "output_type": "display_data"
    }
   ],
   "source": [
    "xgb_v3 = XGBClassifier(random_state=42, n_jobs=-1)\n",
    "fitpredreport(xgb_v3)"
   ]
  },
  {
   "cell_type": "markdown",
   "id": "69a30eda",
   "metadata": {
    "hidden": true
   },
   "source": [
    "## tfidf more than 7 appearances"
   ]
  },
  {
   "cell_type": "code",
   "execution_count": 59,
   "id": "2d7aceb8",
   "metadata": {
    "ExecuteTime": {
     "end_time": "2022-05-03T12:37:24.442110Z",
     "start_time": "2022-05-03T12:37:21.975830Z"
    },
    "hidden": true
   },
   "outputs": [],
   "source": [
    "# set tfidf vectorizer, default parameters\n",
    "tfidf_trigrams = TfidfVectorizer(min_df=7)\n",
    "\n",
    "X_train_tfidf, X_test_tfidf = transformX(tfidf_trigrams)\n",
    "\n",
    "# helper function to make fitting, predicting and reporting easier\n",
    "def fitpredreport(model):\n",
    "    model.fit(X_train_tfidf, y_train)\n",
    "    y_pred = model.predict(X_test_tfidf)\n",
    "    report(y_test, y_pred)"
   ]
  },
  {
   "cell_type": "code",
   "execution_count": 60,
   "id": "a8b0922e",
   "metadata": {
    "ExecuteTime": {
     "end_time": "2022-05-03T12:37:26.287019Z",
     "start_time": "2022-05-03T12:37:25.429093Z"
    },
    "hidden": true
   },
   "outputs": [
    {
     "name": "stdout",
     "output_type": "stream",
     "text": [
      "              precision    recall  f1-score   support\n",
      "\n",
      "  no_spoiler       0.78      0.99      0.87      3405\n",
      "     spoiler       0.60      0.07      0.13      1018\n",
      "\n",
      "    accuracy                           0.78      4423\n",
      "   macro avg       0.69      0.53      0.50      4423\n",
      "weighted avg       0.74      0.78      0.70      4423\n",
      "\n"
     ]
    },
    {
     "data": {
      "image/png": "[encoded data removed]",
      "text/plain": [
       "<Figure size 432x288 with 2 Axes>"
      ]
     },
     "metadata": {
      "needs_background": "light"
     },
     "output_type": "display_data"
    }
   ],
   "source": [
    "# instantiate multinomial naive bayes model\n",
    "mnb_v4 = MultinomialNB()\n",
    "# fit, predict and report with helper function\n",
    "fitpredreport(mnb_v4)"
   ]
  },
  {
   "cell_type": "code",
   "execution_count": 61,
   "id": "6e0a1169",
   "metadata": {
    "ExecuteTime": {
     "end_time": "2022-05-03T12:37:27.963327Z",
     "start_time": "2022-05-03T12:37:26.659100Z"
    },
    "hidden": true
   },
   "outputs": [
    {
     "name": "stdout",
     "output_type": "stream",
     "text": [
      "[LibLinear]              precision    recall  f1-score   support\n",
      "\n",
      "  no_spoiler       0.82      0.93      0.87      3405\n",
      "     spoiler       0.59      0.32      0.41      1018\n",
      "\n",
      "    accuracy                           0.79      4423\n",
      "   macro avg       0.71      0.63      0.64      4423\n",
      "weighted avg       0.77      0.79      0.77      4423\n",
      "\n"
     ]
    },
    {
     "data": {
      "image/png": "[encoded data removed]",
      "text/plain": [
       "<Figure size 432x288 with 2 Axes>"
      ]
     },
     "metadata": {
      "needs_background": "light"
     },
     "output_type": "display_data"
    }
   ],
   "source": [
    "# instantiate logistic regression model\n",
    "lr_v4 = LogisticRegression(verbose=1, solver='liblinear', random_state=42, C=5, max_iter=1000)\n",
    "# fit, predict and report with helper function\n",
    "fitpredreport(lr_v4)"
   ]
  },
  {
   "cell_type": "code",
   "execution_count": 62,
   "id": "e16d89d4",
   "metadata": {
    "ExecuteTime": {
     "end_time": "2022-05-03T12:37:29.454397Z",
     "start_time": "2022-05-03T12:37:28.319642Z"
    },
    "hidden": true
   },
   "outputs": [
    {
     "name": "stdout",
     "output_type": "stream",
     "text": [
      "              precision    recall  f1-score   support\n",
      "\n",
      "  no_spoiler       0.82      0.92      0.87      3405\n",
      "     spoiler       0.54      0.33      0.41      1018\n",
      "\n",
      "    accuracy                           0.78      4423\n",
      "   macro avg       0.68      0.62      0.64      4423\n",
      "weighted avg       0.76      0.78      0.76      4423\n",
      "\n"
     ]
    },
    {
     "data": {
      "image/png": "[encoded data removed]",
      "text/plain": [
       "<Figure size 432x288 with 2 Axes>"
      ]
     },
     "metadata": {
      "needs_background": "light"
     },
     "output_type": "display_data"
    }
   ],
   "source": [
    "# instantiate SVM model\n",
    "svm_v4 = LinearSVC(random_state=42)\n",
    "# fit, predict and report with helper function\n",
    "fitpredreport(svm_v4)"
   ]
  },
  {
   "cell_type": "code",
   "execution_count": 63,
   "id": "027f14ba",
   "metadata": {
    "ExecuteTime": {
     "end_time": "2022-05-03T12:37:39.541261Z",
     "start_time": "2022-05-03T12:37:29.841087Z"
    },
    "hidden": true
   },
   "outputs": [
    {
     "name": "stdout",
     "output_type": "stream",
     "text": [
      "              precision    recall  f1-score   support\n",
      "\n",
      "  no_spoiler       0.78      0.99      0.87      3405\n",
      "     spoiler       0.69      0.07      0.12      1018\n",
      "\n",
      "    accuracy                           0.78      4423\n",
      "   macro avg       0.73      0.53      0.50      4423\n",
      "weighted avg       0.76      0.78      0.70      4423\n",
      "\n"
     ]
    },
    {
     "data": {
      "image/png": "[encoded data removed]",
      "text/plain": [
       "<Figure size 432x288 with 2 Axes>"
      ]
     },
     "metadata": {
      "needs_background": "light"
     },
     "output_type": "display_data"
    }
   ],
   "source": [
    "# instantiate random forest classifier\n",
    "rf_v4 = RandomForestClassifier(random_state=42, n_jobs=-1)\n",
    "# fit, predict and report with helper function\n",
    "fitpredreport(rf_v4)"
   ]
  },
  {
   "cell_type": "code",
   "execution_count": 64,
   "id": "7b7600d4",
   "metadata": {
    "ExecuteTime": {
     "end_time": "2022-05-03T12:40:43.161478Z",
     "start_time": "2022-05-03T12:37:39.912683Z"
    },
    "hidden": true
   },
   "outputs": [
    {
     "name": "stdout",
     "output_type": "stream",
     "text": [
      "              precision    recall  f1-score   support\n",
      "\n",
      "  no_spoiler       0.82      0.95      0.88      3405\n",
      "     spoiler       0.61      0.29      0.39      1018\n",
      "\n",
      "    accuracy                           0.79      4423\n",
      "   macro avg       0.71      0.62      0.63      4423\n",
      "weighted avg       0.77      0.79      0.76      4423\n",
      "\n"
     ]
    },
    {
     "data": {
      "image/png": "[encoded data removed]",
      "text/plain": [
       "<Figure size 432x288 with 2 Axes>"
      ]
     },
     "metadata": {
      "needs_background": "light"
     },
     "output_type": "display_data"
    }
   ],
   "source": [
    "xgb_v4 = XGBClassifier(random_state=42, n_jobs=-1)\n",
    "fitpredreport(xgb_v4)"
   ]
  },
  {
   "cell_type": "markdown",
   "id": "7f18ea25",
   "metadata": {},
   "source": [
    "# Cosine Similarity with movie summary"
   ]
  },
  {
   "cell_type": "code",
   "execution_count": null,
   "id": "13cae31a",
   "metadata": {},
   "outputs": [],
   "source": []
  },
  {
   "cell_type": "code",
   "execution_count": 4,
   "id": "d8696fea",
   "metadata": {
    "ExecuteTime": {
     "end_time": "2022-05-03T19:43:03.603509Z",
     "start_time": "2022-05-03T19:43:03.565310Z"
    }
   },
   "outputs": [
    {
     "data": {
      "text/html": [
       "<div>\n",
       "<style scoped>\n",
       "    .dataframe tbody tr th:only-of-type {\n",
       "        vertical-align: middle;\n",
       "    }\n",
       "\n",
       "    .dataframe tbody tr th {\n",
       "        vertical-align: top;\n",
       "    }\n",
       "\n",
       "    .dataframe thead th {\n",
       "        text-align: right;\n",
       "    }\n",
       "</style>\n",
       "<table border=\"1\" class=\"dataframe\">\n",
       "  <thead>\n",
       "    <tr style=\"text-align: right;\">\n",
       "      <th></th>\n",
       "      <th>movie_id</th>\n",
       "      <th>plot_summary_lemmed</th>\n",
       "    </tr>\n",
       "  </thead>\n",
       "  <tbody>\n",
       "    <tr>\n",
       "      <th>0</th>\n",
       "      <td>tt0111161</td>\n",
       "      <td>chronicle experience formerly successful banke...</td>\n",
       "    </tr>\n",
       "    <tr>\n",
       "      <th>1</th>\n",
       "      <td>tt0068646</td>\n",
       "      <td>age head famous crime family decide transfer p...</td>\n",
       "    </tr>\n",
       "    <tr>\n",
       "      <th>3</th>\n",
       "      <td>tt0468569</td>\n",
       "      <td>set within year event batman begin batman lieu...</td>\n",
       "    </tr>\n",
       "    <tr>\n",
       "      <th>4</th>\n",
       "      <td>tt0050083</td>\n",
       "      <td>defense prosecution rest jury filing jury room...</td>\n",
       "    </tr>\n",
       "    <tr>\n",
       "      <th>5</th>\n",
       "      <td>tt0108052</td>\n",
       "      <td>oskar schindler vainglorious greedy german bus...</td>\n",
       "    </tr>\n",
       "    <tr>\n",
       "      <th>6</th>\n",
       "      <td>tt0110912</td>\n",
       "      <td>jules winnfield samuel l jackson vincent vega ...</td>\n",
       "    </tr>\n",
       "    <tr>\n",
       "      <th>7</th>\n",
       "      <td>tt0167260</td>\n",
       "      <td>final confrontation force good evil fight cont...</td>\n",
       "    </tr>\n",
       "    <tr>\n",
       "      <th>9</th>\n",
       "      <td>tt0137523</td>\n",
       "      <td>nameless first person narrator edward norton a...</td>\n",
       "    </tr>\n",
       "    <tr>\n",
       "      <th>253</th>\n",
       "      <td>tt5109784</td>\n",
       "      <td>couple's relationship test uninvited guest arr...</td>\n",
       "    </tr>\n",
       "    <tr>\n",
       "      <th>592</th>\n",
       "      <td>tt0803096</td>\n",
       "      <td>world orcs draenor destroy evil fel magic use ...</td>\n",
       "    </tr>\n",
       "  </tbody>\n",
       "</table>\n",
       "</div>"
      ],
      "text/plain": [
       "      movie_id                                plot_summary_lemmed\n",
       "0    tt0111161  chronicle experience formerly successful banke...\n",
       "1    tt0068646  age head famous crime family decide transfer p...\n",
       "3    tt0468569  set within year event batman begin batman lieu...\n",
       "4    tt0050083  defense prosecution rest jury filing jury room...\n",
       "5    tt0108052  oskar schindler vainglorious greedy german bus...\n",
       "6    tt0110912  jules winnfield samuel l jackson vincent vega ...\n",
       "7    tt0167260  final confrontation force good evil fight cont...\n",
       "9    tt0137523  nameless first person narrator edward norton a...\n",
       "253  tt5109784  couple's relationship test uninvited guest arr...\n",
       "592  tt0803096  world orcs draenor destroy evil fel magic use ..."
      ]
     },
     "execution_count": 4,
     "metadata": {},
     "output_type": "execute_result"
    }
   ],
   "source": [
    "summary_df = pd.read_parquet('./data/plot_summary_lemmed.parquet')\n",
    "top_ten_summaries = summary_df[summary_df.movie_id.isin(most_reviewed_movie_ids)][['movie_id', 'plot_summary_lemmed']].copy()\n",
    "del summary_df\n",
    "top_ten_summaries"
   ]
  },
  {
   "cell_type": "code",
   "execution_count": 5,
   "id": "20ee4265",
   "metadata": {
    "ExecuteTime": {
     "end_time": "2022-05-03T19:43:05.926607Z",
     "start_time": "2022-05-03T19:43:05.889876Z"
    }
   },
   "outputs": [
    {
     "data": {
      "text/html": [
       "<div>\n",
       "<style scoped>\n",
       "    .dataframe tbody tr th:only-of-type {\n",
       "        vertical-align: middle;\n",
       "    }\n",
       "\n",
       "    .dataframe tbody tr th {\n",
       "        vertical-align: top;\n",
       "    }\n",
       "\n",
       "    .dataframe thead th {\n",
       "        text-align: right;\n",
       "    }\n",
       "</style>\n",
       "<table border=\"1\" class=\"dataframe\">\n",
       "  <thead>\n",
       "    <tr style=\"text-align: right;\">\n",
       "      <th></th>\n",
       "      <th>movie_id</th>\n",
       "      <th>is_spoiler</th>\n",
       "      <th>review_text_lemmed</th>\n",
       "      <th>plot_summary_lemmed</th>\n",
       "    </tr>\n",
       "  </thead>\n",
       "  <tbody>\n",
       "    <tr>\n",
       "      <th>0</th>\n",
       "      <td>tt0111161</td>\n",
       "      <td>1</td>\n",
       "      <td>oscar year shawshank redemption write direct f...</td>\n",
       "      <td>chronicle experience formerly successful banke...</td>\n",
       "    </tr>\n",
       "    <tr>\n",
       "      <th>1</th>\n",
       "      <td>tt0111161</td>\n",
       "      <td>1</td>\n",
       "      <td>shawshank redemption without doubt one brillia...</td>\n",
       "      <td>chronicle experience formerly successful banke...</td>\n",
       "    </tr>\n",
       "    <tr>\n",
       "      <th>2</th>\n",
       "      <td>tt0111161</td>\n",
       "      <td>1</td>\n",
       "      <td>believe film best story ever tell film i'm tel...</td>\n",
       "      <td>chronicle experience formerly successful banke...</td>\n",
       "    </tr>\n",
       "    <tr>\n",
       "      <th>3</th>\n",
       "      <td>tt0111161</td>\n",
       "      <td>1</td>\n",
       "      <td>yes spoiler film emotional impact find hard wr...</td>\n",
       "      <td>chronicle experience formerly successful banke...</td>\n",
       "    </tr>\n",
       "    <tr>\n",
       "      <th>4</th>\n",
       "      <td>tt0111161</td>\n",
       "      <td>1</td>\n",
       "      <td>heart extraordinary movie brilliant indelible ...</td>\n",
       "      <td>chronicle experience formerly successful banke...</td>\n",
       "    </tr>\n",
       "    <tr>\n",
       "      <th>...</th>\n",
       "      <td>...</td>\n",
       "      <td>...</td>\n",
       "      <td>...</td>\n",
       "      <td>...</td>\n",
       "    </tr>\n",
       "    <tr>\n",
       "      <th>22110</th>\n",
       "      <td>tt0110912</td>\n",
       "      <td>0</td>\n",
       "      <td>know people planet maybe like movie much hones...</td>\n",
       "      <td>jules winnfield samuel l jackson vincent vega ...</td>\n",
       "    </tr>\n",
       "    <tr>\n",
       "      <th>22111</th>\n",
       "      <td>tt0110912</td>\n",
       "      <td>0</td>\n",
       "      <td>love everything movie always enjoy one list st...</td>\n",
       "      <td>jules winnfield samuel l jackson vincent vega ...</td>\n",
       "    </tr>\n",
       "    <tr>\n",
       "      <th>22112</th>\n",
       "      <td>tt0110912</td>\n",
       "      <td>0</td>\n",
       "      <td>quentin tarantino's pulp fiction terrible star...</td>\n",
       "      <td>jules winnfield samuel l jackson vincent vega ...</td>\n",
       "    </tr>\n",
       "    <tr>\n",
       "      <th>22113</th>\n",
       "      <td>tt0110912</td>\n",
       "      <td>0</td>\n",
       "      <td>lot people think movie masterpiece decide watc...</td>\n",
       "      <td>jules winnfield samuel l jackson vincent vega ...</td>\n",
       "    </tr>\n",
       "    <tr>\n",
       "      <th>22114</th>\n",
       "      <td>tt0137523</td>\n",
       "      <td>0</td>\n",
       "      <td>many wait moment watch rewatch pitt norton epi...</td>\n",
       "      <td>nameless first person narrator edward norton a...</td>\n",
       "    </tr>\n",
       "  </tbody>\n",
       "</table>\n",
       "<p>22115 rows × 4 columns</p>\n",
       "</div>"
      ],
      "text/plain": [
       "        movie_id  is_spoiler  \\\n",
       "0      tt0111161           1   \n",
       "1      tt0111161           1   \n",
       "2      tt0111161           1   \n",
       "3      tt0111161           1   \n",
       "4      tt0111161           1   \n",
       "...          ...         ...   \n",
       "22110  tt0110912           0   \n",
       "22111  tt0110912           0   \n",
       "22112  tt0110912           0   \n",
       "22113  tt0110912           0   \n",
       "22114  tt0137523           0   \n",
       "\n",
       "                                      review_text_lemmed  \\\n",
       "0      oscar year shawshank redemption write direct f...   \n",
       "1      shawshank redemption without doubt one brillia...   \n",
       "2      believe film best story ever tell film i'm tel...   \n",
       "3      yes spoiler film emotional impact find hard wr...   \n",
       "4      heart extraordinary movie brilliant indelible ...   \n",
       "...                                                  ...   \n",
       "22110  know people planet maybe like movie much hones...   \n",
       "22111  love everything movie always enjoy one list st...   \n",
       "22112  quentin tarantino's pulp fiction terrible star...   \n",
       "22113  lot people think movie masterpiece decide watc...   \n",
       "22114  many wait moment watch rewatch pitt norton epi...   \n",
       "\n",
       "                                     plot_summary_lemmed  \n",
       "0      chronicle experience formerly successful banke...  \n",
       "1      chronicle experience formerly successful banke...  \n",
       "2      chronicle experience formerly successful banke...  \n",
       "3      chronicle experience formerly successful banke...  \n",
       "4      chronicle experience formerly successful banke...  \n",
       "...                                                  ...  \n",
       "22110  jules winnfield samuel l jackson vincent vega ...  \n",
       "22111  jules winnfield samuel l jackson vincent vega ...  \n",
       "22112  jules winnfield samuel l jackson vincent vega ...  \n",
       "22113  jules winnfield samuel l jackson vincent vega ...  \n",
       "22114  nameless first person narrator edward norton a...  \n",
       "\n",
       "[22115 rows x 4 columns]"
      ]
     },
     "execution_count": 5,
     "metadata": {},
     "output_type": "execute_result"
    }
   ],
   "source": [
    "top_ten_reviews = pd.merge(top_ten_reviews, top_ten_summaries, on='movie_id', how='left')\n",
    "top_ten_reviews"
   ]
  },
  {
   "cell_type": "markdown",
   "id": "1deeacb6",
   "metadata": {},
   "source": [
    "## testing"
   ]
  },
  {
   "cell_type": "code",
   "execution_count": 33,
   "id": "8d077bcb",
   "metadata": {
    "ExecuteTime": {
     "end_time": "2022-05-03T15:28:07.970578Z",
     "start_time": "2022-05-03T15:25:54.265579Z"
    }
   },
   "outputs": [],
   "source": [
    "whole_df = pd.read_parquet('./data/full_dataframe.parquet')"
   ]
  },
  {
   "cell_type": "code",
   "execution_count": 34,
   "id": "6fc77762",
   "metadata": {
    "ExecuteTime": {
     "end_time": "2022-05-03T16:13:31.171120Z",
     "start_time": "2022-05-03T16:13:31.151280Z"
    }
   },
   "outputs": [
    {
     "data": {
      "text/plain": [
       "0         In 1947, Andy Dufresne (Tim Robbins), a banker...\n",
       "1         In 1947, Andy Dufresne (Tim Robbins), a banker...\n",
       "2         In 1947, Andy Dufresne (Tim Robbins), a banker...\n",
       "3         In 1947, Andy Dufresne (Tim Robbins), a banker...\n",
       "4         In 1947, Andy Dufresne (Tim Robbins), a banker...\n",
       "                                ...                        \n",
       "573908    The film is told out of chronological format, ...\n",
       "573909    The film is told out of chronological format, ...\n",
       "573910    The film is told out of chronological format, ...\n",
       "573911    The film is told out of chronological format, ...\n",
       "573912    The film is told out of chronological format, ...\n",
       "Name: plot_synopsis, Length: 573913, dtype: object"
      ]
     },
     "execution_count": 34,
     "metadata": {},
     "output_type": "execute_result"
    }
   ],
   "source": [
    "whole_df.plot_synopsis"
   ]
  },
  {
   "cell_type": "code",
   "execution_count": 35,
   "id": "e6e3537b",
   "metadata": {
    "ExecuteTime": {
     "end_time": "2022-05-03T16:13:56.749971Z",
     "start_time": "2022-05-03T16:13:56.732612Z"
    }
   },
   "outputs": [],
   "source": [
    "with open('no_synopsis_ids.pkl', 'rb') as f:\n",
    "    no_synopsis_ids = pickle.load(f)"
   ]
  },
  {
   "cell_type": "code",
   "execution_count": 40,
   "id": "5e328c39",
   "metadata": {
    "ExecuteTime": {
     "end_time": "2022-05-03T16:15:30.707723Z",
     "start_time": "2022-05-03T16:15:30.608777Z"
    }
   },
   "outputs": [
    {
     "data": {
      "text/html": [
       "<div>\n",
       "<style scoped>\n",
       "    .dataframe tbody tr th:only-of-type {\n",
       "        vertical-align: middle;\n",
       "    }\n",
       "\n",
       "    .dataframe tbody tr th {\n",
       "        vertical-align: top;\n",
       "    }\n",
       "\n",
       "    .dataframe thead th {\n",
       "        text-align: right;\n",
       "    }\n",
       "</style>\n",
       "<table border=\"1\" class=\"dataframe\">\n",
       "  <thead>\n",
       "    <tr style=\"text-align: right;\">\n",
       "      <th></th>\n",
       "      <th>movie_id</th>\n",
       "      <th>plot_summary</th>\n",
       "      <th>duration</th>\n",
       "      <th>genre</th>\n",
       "      <th>film_rating</th>\n",
       "      <th>release_date</th>\n",
       "      <th>plot_synopsis</th>\n",
       "      <th>summary_char_count</th>\n",
       "      <th>summary_word_count</th>\n",
       "      <th>summary_entity_count</th>\n",
       "      <th>...</th>\n",
       "      <th>review_text</th>\n",
       "      <th>reviewer_rating</th>\n",
       "      <th>review_summary</th>\n",
       "      <th>review_char_count</th>\n",
       "      <th>review_word_count</th>\n",
       "      <th>review_entity_count</th>\n",
       "      <th>review_unique_entities</th>\n",
       "      <th>review_avg_entity_freq</th>\n",
       "      <th>review_tokens</th>\n",
       "      <th>review_token_count</th>\n",
       "    </tr>\n",
       "  </thead>\n",
       "  <tbody>\n",
       "    <tr>\n",
       "      <th>30226</th>\n",
       "      <td>tt2380307</td>\n",
       "      <td>Despite his family's baffling generations-old ...</td>\n",
       "      <td>105</td>\n",
       "      <td>[Animation, Adventure, Comedy]</td>\n",
       "      <td>8.7</td>\n",
       "      <td>2017-11-21</td>\n",
       "      <td></td>\n",
       "      <td>485</td>\n",
       "      <td>88</td>\n",
       "      <td>5</td>\n",
       "      <td>...</td>\n",
       "      <td>Well Disney and pixar really make such a great...</td>\n",
       "      <td>10</td>\n",
       "      <td>My Favorite Animation Movie of the year</td>\n",
       "      <td>557</td>\n",
       "      <td>105</td>\n",
       "      <td>5</td>\n",
       "      <td>4</td>\n",
       "      <td>1.25</td>\n",
       "      <td>[well, disney, pixar, really, make, great, mov...</td>\n",
       "      <td>59</td>\n",
       "    </tr>\n",
       "    <tr>\n",
       "      <th>30227</th>\n",
       "      <td>tt2380307</td>\n",
       "      <td>Despite his family's baffling generations-old ...</td>\n",
       "      <td>105</td>\n",
       "      <td>[Animation, Adventure, Comedy]</td>\n",
       "      <td>8.7</td>\n",
       "      <td>2017-11-21</td>\n",
       "      <td></td>\n",
       "      <td>485</td>\n",
       "      <td>88</td>\n",
       "      <td>5</td>\n",
       "      <td>...</td>\n",
       "      <td>One of the best movie ever, it is an amazing a...</td>\n",
       "      <td>10</td>\n",
       "      <td>Perfect Movie Ever</td>\n",
       "      <td>344</td>\n",
       "      <td>67</td>\n",
       "      <td>5</td>\n",
       "      <td>4</td>\n",
       "      <td>1.25</td>\n",
       "      <td>[one, best, movie, ever, amazing, animated, mo...</td>\n",
       "      <td>36</td>\n",
       "    </tr>\n",
       "    <tr>\n",
       "      <th>30228</th>\n",
       "      <td>tt2380307</td>\n",
       "      <td>Despite his family's baffling generations-old ...</td>\n",
       "      <td>105</td>\n",
       "      <td>[Animation, Adventure, Comedy]</td>\n",
       "      <td>8.7</td>\n",
       "      <td>2017-11-21</td>\n",
       "      <td></td>\n",
       "      <td>485</td>\n",
       "      <td>88</td>\n",
       "      <td>5</td>\n",
       "      <td>...</td>\n",
       "      <td>It's not a secret that every time Disney's Pix...</td>\n",
       "      <td>8</td>\n",
       "      <td>Disney did it again! A heartwarming and dazzli...</td>\n",
       "      <td>2466</td>\n",
       "      <td>450</td>\n",
       "      <td>18</td>\n",
       "      <td>12</td>\n",
       "      <td>1.50</td>\n",
       "      <td>[secret, every, time, disney's, pixar, make, p...</td>\n",
       "      <td>225</td>\n",
       "    </tr>\n",
       "    <tr>\n",
       "      <th>30229</th>\n",
       "      <td>tt2380307</td>\n",
       "      <td>Despite his family's baffling generations-old ...</td>\n",
       "      <td>105</td>\n",
       "      <td>[Animation, Adventure, Comedy]</td>\n",
       "      <td>8.7</td>\n",
       "      <td>2017-11-21</td>\n",
       "      <td></td>\n",
       "      <td>485</td>\n",
       "      <td>88</td>\n",
       "      <td>5</td>\n",
       "      <td>...</td>\n",
       "      <td>I did not watch this in 3D.Before I begin with...</td>\n",
       "      <td>5</td>\n",
       "      <td>Sorry, but mostly a Snoozefest.</td>\n",
       "      <td>4472</td>\n",
       "      <td>823</td>\n",
       "      <td>34</td>\n",
       "      <td>23</td>\n",
       "      <td>1.48</td>\n",
       "      <td>[watch, begin, coco, would, like, state, froze...</td>\n",
       "      <td>389</td>\n",
       "    </tr>\n",
       "    <tr>\n",
       "      <th>30230</th>\n",
       "      <td>tt2380307</td>\n",
       "      <td>Despite his family's baffling generations-old ...</td>\n",
       "      <td>105</td>\n",
       "      <td>[Animation, Adventure, Comedy]</td>\n",
       "      <td>8.7</td>\n",
       "      <td>2017-11-21</td>\n",
       "      <td></td>\n",
       "      <td>485</td>\n",
       "      <td>88</td>\n",
       "      <td>5</td>\n",
       "      <td>...</td>\n",
       "      <td>Taking place in contemporary Mexico, in a fict...</td>\n",
       "      <td>10</td>\n",
       "      <td>A beautiful story and a faithful depiction of ...</td>\n",
       "      <td>1345</td>\n",
       "      <td>231</td>\n",
       "      <td>11</td>\n",
       "      <td>11</td>\n",
       "      <td>1.00</td>\n",
       "      <td>[taking, place, contemporary, mexico, fictiona...</td>\n",
       "      <td>131</td>\n",
       "    </tr>\n",
       "    <tr>\n",
       "      <th>...</th>\n",
       "      <td>...</td>\n",
       "      <td>...</td>\n",
       "      <td>...</td>\n",
       "      <td>...</td>\n",
       "      <td>...</td>\n",
       "      <td>...</td>\n",
       "      <td>...</td>\n",
       "      <td>...</td>\n",
       "      <td>...</td>\n",
       "      <td>...</td>\n",
       "      <td>...</td>\n",
       "      <td>...</td>\n",
       "      <td>...</td>\n",
       "      <td>...</td>\n",
       "      <td>...</td>\n",
       "      <td>...</td>\n",
       "      <td>...</td>\n",
       "      <td>...</td>\n",
       "      <td>...</td>\n",
       "      <td>...</td>\n",
       "      <td>...</td>\n",
       "    </tr>\n",
       "    <tr>\n",
       "      <th>573094</th>\n",
       "      <td>tt0157503</td>\n",
       "      <td>In a small Minnesota town, the annual beauty p...</td>\n",
       "      <td>97</td>\n",
       "      <td>[Comedy, Romance, Thriller]</td>\n",
       "      <td>6.6</td>\n",
       "      <td>1999-07-23</td>\n",
       "      <td></td>\n",
       "      <td>507</td>\n",
       "      <td>95</td>\n",
       "      <td>6</td>\n",
       "      <td>...</td>\n",
       "      <td>Drop Dead Gorgeous is an unfortunate entry int...</td>\n",
       "      <td>3</td>\n",
       "      <td>a misguided attempt at comedy</td>\n",
       "      <td>2006</td>\n",
       "      <td>326</td>\n",
       "      <td>16</td>\n",
       "      <td>14</td>\n",
       "      <td>1.14</td>\n",
       "      <td>[drop, dead, gorgeous, unfortunate, entry, moc...</td>\n",
       "      <td>182</td>\n",
       "    </tr>\n",
       "    <tr>\n",
       "      <th>573095</th>\n",
       "      <td>tt0157503</td>\n",
       "      <td>In a small Minnesota town, the annual beauty p...</td>\n",
       "      <td>97</td>\n",
       "      <td>[Comedy, Romance, Thriller]</td>\n",
       "      <td>6.6</td>\n",
       "      <td>1999-07-23</td>\n",
       "      <td></td>\n",
       "      <td>507</td>\n",
       "      <td>95</td>\n",
       "      <td>6</td>\n",
       "      <td>...</td>\n",
       "      <td>There is not one surprise in this movie, it is...</td>\n",
       "      <td>1</td>\n",
       "      <td>This movie sucks bigtime...</td>\n",
       "      <td>176</td>\n",
       "      <td>37</td>\n",
       "      <td>0</td>\n",
       "      <td>0</td>\n",
       "      <td>0.00</td>\n",
       "      <td>[one, surprise, movie, one, worst, movies, eve...</td>\n",
       "      <td>14</td>\n",
       "    </tr>\n",
       "    <tr>\n",
       "      <th>573096</th>\n",
       "      <td>tt0157503</td>\n",
       "      <td>In a small Minnesota town, the annual beauty p...</td>\n",
       "      <td>97</td>\n",
       "      <td>[Comedy, Romance, Thriller]</td>\n",
       "      <td>6.6</td>\n",
       "      <td>1999-07-23</td>\n",
       "      <td></td>\n",
       "      <td>507</td>\n",
       "      <td>95</td>\n",
       "      <td>6</td>\n",
       "      <td>...</td>\n",
       "      <td>Well where do I begin ? I must say before any ...</td>\n",
       "      <td>4</td>\n",
       "      <td>It had its' moments....</td>\n",
       "      <td>501</td>\n",
       "      <td>96</td>\n",
       "      <td>4</td>\n",
       "      <td>2</td>\n",
       "      <td>2.00</td>\n",
       "      <td>[well, begin, must, say, comment, may, movie, ...</td>\n",
       "      <td>44</td>\n",
       "    </tr>\n",
       "    <tr>\n",
       "      <th>573097</th>\n",
       "      <td>tt0157503</td>\n",
       "      <td>In a small Minnesota town, the annual beauty p...</td>\n",
       "      <td>97</td>\n",
       "      <td>[Comedy, Romance, Thriller]</td>\n",
       "      <td>6.6</td>\n",
       "      <td>1999-07-23</td>\n",
       "      <td></td>\n",
       "      <td>507</td>\n",
       "      <td>95</td>\n",
       "      <td>6</td>\n",
       "      <td>...</td>\n",
       "      <td>Denise Richards is hilarious as a ruthless tee...</td>\n",
       "      <td>5</td>\n",
       "      <td>Uneven</td>\n",
       "      <td>534</td>\n",
       "      <td>95</td>\n",
       "      <td>2</td>\n",
       "      <td>2</td>\n",
       "      <td>1.00</td>\n",
       "      <td>[denise, richards, hilarious, ruthless, teen, ...</td>\n",
       "      <td>57</td>\n",
       "    </tr>\n",
       "    <tr>\n",
       "      <th>573098</th>\n",
       "      <td>tt0157503</td>\n",
       "      <td>In a small Minnesota town, the annual beauty p...</td>\n",
       "      <td>97</td>\n",
       "      <td>[Comedy, Romance, Thriller]</td>\n",
       "      <td>6.6</td>\n",
       "      <td>1999-07-23</td>\n",
       "      <td></td>\n",
       "      <td>507</td>\n",
       "      <td>95</td>\n",
       "      <td>6</td>\n",
       "      <td>...</td>\n",
       "      <td>Pleasant enough viewing I suppose, but halfway...</td>\n",
       "      <td>4</td>\n",
       "      <td>Rewriting History</td>\n",
       "      <td>310</td>\n",
       "      <td>57</td>\n",
       "      <td>3</td>\n",
       "      <td>3</td>\n",
       "      <td>1.00</td>\n",
       "      <td>[pleasant, enough, viewing, suppose, halfway, ...</td>\n",
       "      <td>27</td>\n",
       "    </tr>\n",
       "  </tbody>\n",
       "</table>\n",
       "<p>35085 rows × 27 columns</p>\n",
       "</div>"
      ],
      "text/plain": [
       "         movie_id                                       plot_summary  \\\n",
       "30226   tt2380307  Despite his family's baffling generations-old ...   \n",
       "30227   tt2380307  Despite his family's baffling generations-old ...   \n",
       "30228   tt2380307  Despite his family's baffling generations-old ...   \n",
       "30229   tt2380307  Despite his family's baffling generations-old ...   \n",
       "30230   tt2380307  Despite his family's baffling generations-old ...   \n",
       "...           ...                                                ...   \n",
       "573094  tt0157503  In a small Minnesota town, the annual beauty p...   \n",
       "573095  tt0157503  In a small Minnesota town, the annual beauty p...   \n",
       "573096  tt0157503  In a small Minnesota town, the annual beauty p...   \n",
       "573097  tt0157503  In a small Minnesota town, the annual beauty p...   \n",
       "573098  tt0157503  In a small Minnesota town, the annual beauty p...   \n",
       "\n",
       "        duration                           genre  film_rating release_date  \\\n",
       "30226        105  [Animation, Adventure, Comedy]          8.7   2017-11-21   \n",
       "30227        105  [Animation, Adventure, Comedy]          8.7   2017-11-21   \n",
       "30228        105  [Animation, Adventure, Comedy]          8.7   2017-11-21   \n",
       "30229        105  [Animation, Adventure, Comedy]          8.7   2017-11-21   \n",
       "30230        105  [Animation, Adventure, Comedy]          8.7   2017-11-21   \n",
       "...          ...                             ...          ...          ...   \n",
       "573094        97     [Comedy, Romance, Thriller]          6.6   1999-07-23   \n",
       "573095        97     [Comedy, Romance, Thriller]          6.6   1999-07-23   \n",
       "573096        97     [Comedy, Romance, Thriller]          6.6   1999-07-23   \n",
       "573097        97     [Comedy, Romance, Thriller]          6.6   1999-07-23   \n",
       "573098        97     [Comedy, Romance, Thriller]          6.6   1999-07-23   \n",
       "\n",
       "       plot_synopsis  summary_char_count  summary_word_count  \\\n",
       "30226                                485                  88   \n",
       "30227                                485                  88   \n",
       "30228                                485                  88   \n",
       "30229                                485                  88   \n",
       "30230                                485                  88   \n",
       "...              ...                 ...                 ...   \n",
       "573094                               507                  95   \n",
       "573095                               507                  95   \n",
       "573096                               507                  95   \n",
       "573097                               507                  95   \n",
       "573098                               507                  95   \n",
       "\n",
       "        summary_entity_count  ...  \\\n",
       "30226                      5  ...   \n",
       "30227                      5  ...   \n",
       "30228                      5  ...   \n",
       "30229                      5  ...   \n",
       "30230                      5  ...   \n",
       "...                      ...  ...   \n",
       "573094                     6  ...   \n",
       "573095                     6  ...   \n",
       "573096                     6  ...   \n",
       "573097                     6  ...   \n",
       "573098                     6  ...   \n",
       "\n",
       "                                              review_text  reviewer_rating  \\\n",
       "30226   Well Disney and pixar really make such a great...               10   \n",
       "30227   One of the best movie ever, it is an amazing a...               10   \n",
       "30228   It's not a secret that every time Disney's Pix...                8   \n",
       "30229   I did not watch this in 3D.Before I begin with...                5   \n",
       "30230   Taking place in contemporary Mexico, in a fict...               10   \n",
       "...                                                   ...              ...   \n",
       "573094  Drop Dead Gorgeous is an unfortunate entry int...                3   \n",
       "573095  There is not one surprise in this movie, it is...                1   \n",
       "573096  Well where do I begin ? I must say before any ...                4   \n",
       "573097  Denise Richards is hilarious as a ruthless tee...                5   \n",
       "573098  Pleasant enough viewing I suppose, but halfway...                4   \n",
       "\n",
       "                                           review_summary  review_char_count  \\\n",
       "30226             My Favorite Animation Movie of the year                557   \n",
       "30227                                  Perfect Movie Ever                344   \n",
       "30228   Disney did it again! A heartwarming and dazzli...               2466   \n",
       "30229                     Sorry, but mostly a Snoozefest.               4472   \n",
       "30230   A beautiful story and a faithful depiction of ...               1345   \n",
       "...                                                   ...                ...   \n",
       "573094                      a misguided attempt at comedy               2006   \n",
       "573095                        This movie sucks bigtime...                176   \n",
       "573096                            It had its' moments....                501   \n",
       "573097                                             Uneven                534   \n",
       "573098                                  Rewriting History                310   \n",
       "\n",
       "       review_word_count review_entity_count  review_unique_entities  \\\n",
       "30226                105                   5                       4   \n",
       "30227                 67                   5                       4   \n",
       "30228                450                  18                      12   \n",
       "30229                823                  34                      23   \n",
       "30230                231                  11                      11   \n",
       "...                  ...                 ...                     ...   \n",
       "573094               326                  16                      14   \n",
       "573095                37                   0                       0   \n",
       "573096                96                   4                       2   \n",
       "573097                95                   2                       2   \n",
       "573098                57                   3                       3   \n",
       "\n",
       "       review_avg_entity_freq  \\\n",
       "30226                    1.25   \n",
       "30227                    1.25   \n",
       "30228                    1.50   \n",
       "30229                    1.48   \n",
       "30230                    1.00   \n",
       "...                       ...   \n",
       "573094                   1.14   \n",
       "573095                   0.00   \n",
       "573096                   2.00   \n",
       "573097                   1.00   \n",
       "573098                   1.00   \n",
       "\n",
       "                                            review_tokens review_token_count  \n",
       "30226   [well, disney, pixar, really, make, great, mov...                 59  \n",
       "30227   [one, best, movie, ever, amazing, animated, mo...                 36  \n",
       "30228   [secret, every, time, disney's, pixar, make, p...                225  \n",
       "30229   [watch, begin, coco, would, like, state, froze...                389  \n",
       "30230   [taking, place, contemporary, mexico, fictiona...                131  \n",
       "...                                                   ...                ...  \n",
       "573094  [drop, dead, gorgeous, unfortunate, entry, moc...                182  \n",
       "573095  [one, surprise, movie, one, worst, movies, eve...                 14  \n",
       "573096  [well, begin, must, say, comment, may, movie, ...                 44  \n",
       "573097  [denise, richards, hilarious, ruthless, teen, ...                 57  \n",
       "573098  [pleasant, enough, viewing, suppose, halfway, ...                 27  \n",
       "\n",
       "[35085 rows x 27 columns]"
      ]
     },
     "execution_count": 40,
     "metadata": {},
     "output_type": "execute_result"
    }
   ],
   "source": [
    "whole_df[whole_df.movie_id.isin(no_synopsis_ids)]"
   ]
  },
  {
   "cell_type": "code",
   "execution_count": 39,
   "id": "093c6d26",
   "metadata": {
    "ExecuteTime": {
     "end_time": "2022-05-03T16:15:15.214167Z",
     "start_time": "2022-05-03T16:15:14.639335Z"
    }
   },
   "outputs": [
    {
     "data": {
      "text/html": [
       "<div>\n",
       "<style scoped>\n",
       "    .dataframe tbody tr th:only-of-type {\n",
       "        vertical-align: middle;\n",
       "    }\n",
       "\n",
       "    .dataframe tbody tr th {\n",
       "        vertical-align: top;\n",
       "    }\n",
       "\n",
       "    .dataframe thead th {\n",
       "        text-align: right;\n",
       "    }\n",
       "</style>\n",
       "<table border=\"1\" class=\"dataframe\">\n",
       "  <thead>\n",
       "    <tr style=\"text-align: right;\">\n",
       "      <th></th>\n",
       "      <th>movie_id</th>\n",
       "      <th>plot_summary</th>\n",
       "      <th>duration</th>\n",
       "      <th>genre</th>\n",
       "      <th>film_rating</th>\n",
       "      <th>release_date</th>\n",
       "      <th>plot_synopsis</th>\n",
       "      <th>summary_char_count</th>\n",
       "      <th>summary_word_count</th>\n",
       "      <th>summary_entity_count</th>\n",
       "      <th>...</th>\n",
       "      <th>review_text</th>\n",
       "      <th>reviewer_rating</th>\n",
       "      <th>review_summary</th>\n",
       "      <th>review_char_count</th>\n",
       "      <th>review_word_count</th>\n",
       "      <th>review_entity_count</th>\n",
       "      <th>review_unique_entities</th>\n",
       "      <th>review_avg_entity_freq</th>\n",
       "      <th>review_tokens</th>\n",
       "      <th>review_token_count</th>\n",
       "    </tr>\n",
       "  </thead>\n",
       "  <tbody>\n",
       "    <tr>\n",
       "      <th>0</th>\n",
       "      <td>tt0111161</td>\n",
       "      <td>Chronicles the experiences of a formerly succe...</td>\n",
       "      <td>142</td>\n",
       "      <td>[Crime, Drama]</td>\n",
       "      <td>9.3</td>\n",
       "      <td>1994-10-14</td>\n",
       "      <td>In 1947, Andy Dufresne (Tim Robbins), a banker...</td>\n",
       "      <td>386</td>\n",
       "      <td>77</td>\n",
       "      <td>1</td>\n",
       "      <td>...</td>\n",
       "      <td>In its Oscar year, Shawshank Redemption (writt...</td>\n",
       "      <td>10</td>\n",
       "      <td>A classic piece of unforgettable film-making.</td>\n",
       "      <td>4751</td>\n",
       "      <td>843</td>\n",
       "      <td>56</td>\n",
       "      <td>44</td>\n",
       "      <td>1.27</td>\n",
       "      <td>[oscar, year, shawshank, redemption, written, ...</td>\n",
       "      <td>441</td>\n",
       "    </tr>\n",
       "    <tr>\n",
       "      <th>1</th>\n",
       "      <td>tt0111161</td>\n",
       "      <td>Chronicles the experiences of a formerly succe...</td>\n",
       "      <td>142</td>\n",
       "      <td>[Crime, Drama]</td>\n",
       "      <td>9.3</td>\n",
       "      <td>1994-10-14</td>\n",
       "      <td>In 1947, Andy Dufresne (Tim Robbins), a banker...</td>\n",
       "      <td>386</td>\n",
       "      <td>77</td>\n",
       "      <td>1</td>\n",
       "      <td>...</td>\n",
       "      <td>The Shawshank Redemption is without a doubt on...</td>\n",
       "      <td>10</td>\n",
       "      <td>Simply amazing. The best film of the 90's.</td>\n",
       "      <td>1218</td>\n",
       "      <td>223</td>\n",
       "      <td>20</td>\n",
       "      <td>19</td>\n",
       "      <td>1.05</td>\n",
       "      <td>[shawshank, redemption, without, doubt, one, b...</td>\n",
       "      <td>110</td>\n",
       "    </tr>\n",
       "    <tr>\n",
       "      <th>2</th>\n",
       "      <td>tt0111161</td>\n",
       "      <td>Chronicles the experiences of a formerly succe...</td>\n",
       "      <td>142</td>\n",
       "      <td>[Crime, Drama]</td>\n",
       "      <td>9.3</td>\n",
       "      <td>1994-10-14</td>\n",
       "      <td>In 1947, Andy Dufresne (Tim Robbins), a banker...</td>\n",
       "      <td>386</td>\n",
       "      <td>77</td>\n",
       "      <td>1</td>\n",
       "      <td>...</td>\n",
       "      <td>I believe that this film is the best story eve...</td>\n",
       "      <td>8</td>\n",
       "      <td>The best story ever told on film</td>\n",
       "      <td>1470</td>\n",
       "      <td>250</td>\n",
       "      <td>9</td>\n",
       "      <td>6</td>\n",
       "      <td>1.50</td>\n",
       "      <td>[believe, film, best, story, ever, told, film,...</td>\n",
       "      <td>145</td>\n",
       "    </tr>\n",
       "    <tr>\n",
       "      <th>3</th>\n",
       "      <td>tt0111161</td>\n",
       "      <td>Chronicles the experiences of a formerly succe...</td>\n",
       "      <td>142</td>\n",
       "      <td>[Crime, Drama]</td>\n",
       "      <td>9.3</td>\n",
       "      <td>1994-10-14</td>\n",
       "      <td>In 1947, Andy Dufresne (Tim Robbins), a banker...</td>\n",
       "      <td>386</td>\n",
       "      <td>77</td>\n",
       "      <td>1</td>\n",
       "      <td>...</td>\n",
       "      <td>**Yes, there are SPOILERS here**This film has ...</td>\n",
       "      <td>10</td>\n",
       "      <td>Busy dying or busy living?</td>\n",
       "      <td>4096</td>\n",
       "      <td>766</td>\n",
       "      <td>6</td>\n",
       "      <td>6</td>\n",
       "      <td>1.00</td>\n",
       "      <td>[yes, spoilers, film, emotional, impact, find,...</td>\n",
       "      <td>347</td>\n",
       "    </tr>\n",
       "    <tr>\n",
       "      <th>4</th>\n",
       "      <td>tt0111161</td>\n",
       "      <td>Chronicles the experiences of a formerly succe...</td>\n",
       "      <td>142</td>\n",
       "      <td>[Crime, Drama]</td>\n",
       "      <td>9.3</td>\n",
       "      <td>1994-10-14</td>\n",
       "      <td>In 1947, Andy Dufresne (Tim Robbins), a banker...</td>\n",
       "      <td>386</td>\n",
       "      <td>77</td>\n",
       "      <td>1</td>\n",
       "      <td>...</td>\n",
       "      <td>At the heart of this extraordinary movie is a ...</td>\n",
       "      <td>8</td>\n",
       "      <td>Great story, wondrously told and acted</td>\n",
       "      <td>4632</td>\n",
       "      <td>829</td>\n",
       "      <td>52</td>\n",
       "      <td>45</td>\n",
       "      <td>1.16</td>\n",
       "      <td>[heart, extraordinary, movie, brilliant, indel...</td>\n",
       "      <td>411</td>\n",
       "    </tr>\n",
       "    <tr>\n",
       "      <th>...</th>\n",
       "      <td>...</td>\n",
       "      <td>...</td>\n",
       "      <td>...</td>\n",
       "      <td>...</td>\n",
       "      <td>...</td>\n",
       "      <td>...</td>\n",
       "      <td>...</td>\n",
       "      <td>...</td>\n",
       "      <td>...</td>\n",
       "      <td>...</td>\n",
       "      <td>...</td>\n",
       "      <td>...</td>\n",
       "      <td>...</td>\n",
       "      <td>...</td>\n",
       "      <td>...</td>\n",
       "      <td>...</td>\n",
       "      <td>...</td>\n",
       "      <td>...</td>\n",
       "      <td>...</td>\n",
       "      <td>...</td>\n",
       "      <td>...</td>\n",
       "    </tr>\n",
       "    <tr>\n",
       "      <th>573908</th>\n",
       "      <td>tt0139239</td>\n",
       "      <td>Told from three perspectives, a story of a bun...</td>\n",
       "      <td>102</td>\n",
       "      <td>[Comedy, Crime]</td>\n",
       "      <td>7.3</td>\n",
       "      <td>1999-04-09</td>\n",
       "      <td>The film is told out of chronological format, ...</td>\n",
       "      <td>260</td>\n",
       "      <td>55</td>\n",
       "      <td>4</td>\n",
       "      <td>...</td>\n",
       "      <td>Go is wise, fast and pure entertainment. Assem...</td>\n",
       "      <td>10</td>\n",
       "      <td>The best teen movie of the nineties</td>\n",
       "      <td>317</td>\n",
       "      <td>52</td>\n",
       "      <td>2</td>\n",
       "      <td>2</td>\n",
       "      <td>1.00</td>\n",
       "      <td>[go, wise, fast, pure, entertainment, assembli...</td>\n",
       "      <td>32</td>\n",
       "    </tr>\n",
       "    <tr>\n",
       "      <th>573909</th>\n",
       "      <td>tt0139239</td>\n",
       "      <td>Told from three perspectives, a story of a bun...</td>\n",
       "      <td>102</td>\n",
       "      <td>[Comedy, Crime]</td>\n",
       "      <td>7.3</td>\n",
       "      <td>1999-04-09</td>\n",
       "      <td>The film is told out of chronological format, ...</td>\n",
       "      <td>260</td>\n",
       "      <td>55</td>\n",
       "      <td>4</td>\n",
       "      <td>...</td>\n",
       "      <td>Well, what shall I say. this one´s fun at any ...</td>\n",
       "      <td>9</td>\n",
       "      <td>Go - see the movie</td>\n",
       "      <td>302</td>\n",
       "      <td>54</td>\n",
       "      <td>2</td>\n",
       "      <td>2</td>\n",
       "      <td>1.00</td>\n",
       "      <td>[well, shall, say, one, fun, rate, three, plot...</td>\n",
       "      <td>31</td>\n",
       "    </tr>\n",
       "    <tr>\n",
       "      <th>573910</th>\n",
       "      <td>tt0139239</td>\n",
       "      <td>Told from three perspectives, a story of a bun...</td>\n",
       "      <td>102</td>\n",
       "      <td>[Comedy, Crime]</td>\n",
       "      <td>7.3</td>\n",
       "      <td>1999-04-09</td>\n",
       "      <td>The film is told out of chronological format, ...</td>\n",
       "      <td>260</td>\n",
       "      <td>55</td>\n",
       "      <td>4</td>\n",
       "      <td>...</td>\n",
       "      <td>Go is the best movie I have ever seen, and I'v...</td>\n",
       "      <td>10</td>\n",
       "      <td>It's the best movie I've ever seen</td>\n",
       "      <td>1044</td>\n",
       "      <td>202</td>\n",
       "      <td>10</td>\n",
       "      <td>9</td>\n",
       "      <td>1.11</td>\n",
       "      <td>[go, best, movie, ever, seen, i've, seen, lot,...</td>\n",
       "      <td>107</td>\n",
       "    </tr>\n",
       "    <tr>\n",
       "      <th>573911</th>\n",
       "      <td>tt0139239</td>\n",
       "      <td>Told from three perspectives, a story of a bun...</td>\n",
       "      <td>102</td>\n",
       "      <td>[Comedy, Crime]</td>\n",
       "      <td>7.3</td>\n",
       "      <td>1999-04-09</td>\n",
       "      <td>The film is told out of chronological format, ...</td>\n",
       "      <td>260</td>\n",
       "      <td>55</td>\n",
       "      <td>4</td>\n",
       "      <td>...</td>\n",
       "      <td>Call this 1999 teenage version of Pulp Fiction...</td>\n",
       "      <td>3</td>\n",
       "      <td>Haven't we seen this before?</td>\n",
       "      <td>507</td>\n",
       "      <td>89</td>\n",
       "      <td>7</td>\n",
       "      <td>7</td>\n",
       "      <td>1.00</td>\n",
       "      <td>[call, teenage, version, pulp, fiction, whatev...</td>\n",
       "      <td>47</td>\n",
       "    </tr>\n",
       "    <tr>\n",
       "      <th>573912</th>\n",
       "      <td>tt0139239</td>\n",
       "      <td>Told from three perspectives, a story of a bun...</td>\n",
       "      <td>102</td>\n",
       "      <td>[Comedy, Crime]</td>\n",
       "      <td>7.3</td>\n",
       "      <td>1999-04-09</td>\n",
       "      <td>The film is told out of chronological format, ...</td>\n",
       "      <td>260</td>\n",
       "      <td>55</td>\n",
       "      <td>4</td>\n",
       "      <td>...</td>\n",
       "      <td>Why was this movie made? No doubt to sucker in...</td>\n",
       "      <td>2</td>\n",
       "      <td>Go doesn't go anywhere</td>\n",
       "      <td>992</td>\n",
       "      <td>181</td>\n",
       "      <td>5</td>\n",
       "      <td>5</td>\n",
       "      <td>1.00</td>\n",
       "      <td>[movie, made, doubt, sucker, family, rebelling...</td>\n",
       "      <td>85</td>\n",
       "    </tr>\n",
       "  </tbody>\n",
       "</table>\n",
       "<p>538828 rows × 27 columns</p>\n",
       "</div>"
      ],
      "text/plain": [
       "         movie_id                                       plot_summary  \\\n",
       "0       tt0111161  Chronicles the experiences of a formerly succe...   \n",
       "1       tt0111161  Chronicles the experiences of a formerly succe...   \n",
       "2       tt0111161  Chronicles the experiences of a formerly succe...   \n",
       "3       tt0111161  Chronicles the experiences of a formerly succe...   \n",
       "4       tt0111161  Chronicles the experiences of a formerly succe...   \n",
       "...           ...                                                ...   \n",
       "573908  tt0139239  Told from three perspectives, a story of a bun...   \n",
       "573909  tt0139239  Told from three perspectives, a story of a bun...   \n",
       "573910  tt0139239  Told from three perspectives, a story of a bun...   \n",
       "573911  tt0139239  Told from three perspectives, a story of a bun...   \n",
       "573912  tt0139239  Told from three perspectives, a story of a bun...   \n",
       "\n",
       "        duration            genre  film_rating release_date  \\\n",
       "0            142   [Crime, Drama]          9.3   1994-10-14   \n",
       "1            142   [Crime, Drama]          9.3   1994-10-14   \n",
       "2            142   [Crime, Drama]          9.3   1994-10-14   \n",
       "3            142   [Crime, Drama]          9.3   1994-10-14   \n",
       "4            142   [Crime, Drama]          9.3   1994-10-14   \n",
       "...          ...              ...          ...          ...   \n",
       "573908       102  [Comedy, Crime]          7.3   1999-04-09   \n",
       "573909       102  [Comedy, Crime]          7.3   1999-04-09   \n",
       "573910       102  [Comedy, Crime]          7.3   1999-04-09   \n",
       "573911       102  [Comedy, Crime]          7.3   1999-04-09   \n",
       "573912       102  [Comedy, Crime]          7.3   1999-04-09   \n",
       "\n",
       "                                            plot_synopsis  summary_char_count  \\\n",
       "0       In 1947, Andy Dufresne (Tim Robbins), a banker...                 386   \n",
       "1       In 1947, Andy Dufresne (Tim Robbins), a banker...                 386   \n",
       "2       In 1947, Andy Dufresne (Tim Robbins), a banker...                 386   \n",
       "3       In 1947, Andy Dufresne (Tim Robbins), a banker...                 386   \n",
       "4       In 1947, Andy Dufresne (Tim Robbins), a banker...                 386   \n",
       "...                                                   ...                 ...   \n",
       "573908  The film is told out of chronological format, ...                 260   \n",
       "573909  The film is told out of chronological format, ...                 260   \n",
       "573910  The film is told out of chronological format, ...                 260   \n",
       "573911  The film is told out of chronological format, ...                 260   \n",
       "573912  The film is told out of chronological format, ...                 260   \n",
       "\n",
       "        summary_word_count  summary_entity_count  ...  \\\n",
       "0                       77                     1  ...   \n",
       "1                       77                     1  ...   \n",
       "2                       77                     1  ...   \n",
       "3                       77                     1  ...   \n",
       "4                       77                     1  ...   \n",
       "...                    ...                   ...  ...   \n",
       "573908                  55                     4  ...   \n",
       "573909                  55                     4  ...   \n",
       "573910                  55                     4  ...   \n",
       "573911                  55                     4  ...   \n",
       "573912                  55                     4  ...   \n",
       "\n",
       "                                              review_text  reviewer_rating  \\\n",
       "0       In its Oscar year, Shawshank Redemption (writt...               10   \n",
       "1       The Shawshank Redemption is without a doubt on...               10   \n",
       "2       I believe that this film is the best story eve...                8   \n",
       "3       **Yes, there are SPOILERS here**This film has ...               10   \n",
       "4       At the heart of this extraordinary movie is a ...                8   \n",
       "...                                                   ...              ...   \n",
       "573908  Go is wise, fast and pure entertainment. Assem...               10   \n",
       "573909  Well, what shall I say. this one´s fun at any ...                9   \n",
       "573910  Go is the best movie I have ever seen, and I'v...               10   \n",
       "573911  Call this 1999 teenage version of Pulp Fiction...                3   \n",
       "573912  Why was this movie made? No doubt to sucker in...                2   \n",
       "\n",
       "                                       review_summary  review_char_count  \\\n",
       "0       A classic piece of unforgettable film-making.               4751   \n",
       "1          Simply amazing. The best film of the 90's.               1218   \n",
       "2                    The best story ever told on film               1470   \n",
       "3                          Busy dying or busy living?               4096   \n",
       "4              Great story, wondrously told and acted               4632   \n",
       "...                                               ...                ...   \n",
       "573908            The best teen movie of the nineties                317   \n",
       "573909                             Go - see the movie                302   \n",
       "573910             It's the best movie I've ever seen               1044   \n",
       "573911                   Haven't we seen this before?                507   \n",
       "573912                         Go doesn't go anywhere                992   \n",
       "\n",
       "       review_word_count review_entity_count  review_unique_entities  \\\n",
       "0                    843                  56                      44   \n",
       "1                    223                  20                      19   \n",
       "2                    250                   9                       6   \n",
       "3                    766                   6                       6   \n",
       "4                    829                  52                      45   \n",
       "...                  ...                 ...                     ...   \n",
       "573908                52                   2                       2   \n",
       "573909                54                   2                       2   \n",
       "573910               202                  10                       9   \n",
       "573911                89                   7                       7   \n",
       "573912               181                   5                       5   \n",
       "\n",
       "       review_avg_entity_freq  \\\n",
       "0                        1.27   \n",
       "1                        1.05   \n",
       "2                        1.50   \n",
       "3                        1.00   \n",
       "4                        1.16   \n",
       "...                       ...   \n",
       "573908                   1.00   \n",
       "573909                   1.00   \n",
       "573910                   1.11   \n",
       "573911                   1.00   \n",
       "573912                   1.00   \n",
       "\n",
       "                                            review_tokens review_token_count  \n",
       "0       [oscar, year, shawshank, redemption, written, ...                441  \n",
       "1       [shawshank, redemption, without, doubt, one, b...                110  \n",
       "2       [believe, film, best, story, ever, told, film,...                145  \n",
       "3       [yes, spoilers, film, emotional, impact, find,...                347  \n",
       "4       [heart, extraordinary, movie, brilliant, indel...                411  \n",
       "...                                                   ...                ...  \n",
       "573908  [go, wise, fast, pure, entertainment, assembli...                 32  \n",
       "573909  [well, shall, say, one, fun, rate, three, plot...                 31  \n",
       "573910  [go, best, movie, ever, seen, i've, seen, lot,...                107  \n",
       "573911  [call, teenage, version, pulp, fiction, whatev...                 47  \n",
       "573912  [movie, made, doubt, sucker, family, rebelling...                 85  \n",
       "\n",
       "[538828 rows x 27 columns]"
      ]
     },
     "execution_count": 39,
     "metadata": {},
     "output_type": "execute_result"
    }
   ],
   "source": [
    "whole_df[~whole_df.movie_id.isin(no_synopsis_ids)]"
   ]
  },
  {
   "cell_type": "code",
   "execution_count": null,
   "id": "a2daf296",
   "metadata": {},
   "outputs": [],
   "source": [
    "sw = stopwords.words('english')\n",
    "pattern = \"([a-zA-Z]+(?:'[a-z]+)?)\"\n",
    "tokenizer = RegexpTokenizer(r\"([a-zA-Z]+(?:[’'][a-z]+)?)\")\n",
    "lemmatizer = nltk.stem.WordNetLemmatizer()\n",
    "\n",
    "# helper function to correctly format the part of speech\n",
    "def get_wordnet_pos(treebank_tag):\n",
    "    if treebank_tag.startswith('J'):\n",
    "        return wordnet.ADJ\n",
    "    elif treebank_tag.startswith('V'):\n",
    "        return wordnet.VERB\n",
    "    elif treebank_tag.startswith('N'):\n",
    "        return wordnet.NOUN\n",
    "    elif treebank_tag.startswith('R'):\n",
    "        return wordnet.ADV\n",
    "    else:\n",
    "        return wordnet.NOUN\n",
    "\n",
    "# helper function to clean and lemmatize the summary\n",
    "def lem_summary(df):\n",
    "    # get the doc text\n",
    "    doc = df.plot_summary\n",
    "    # tokenize the doc, lowercase all words and remove stopwords\n",
    "    doc = tokenizer.tokenize(doc)\n",
    "    doc = [token.lower() for token in doc]\n",
    "    doc = [token for token in doc if token not in sw]\n",
    "    # tag part of speach and convert format of tagging\n",
    "    doc_tagged = pos_tag(doc)\n",
    "    doc_tagged = [(token[0], get_wordnet_pos(token[1])) for token in doc_tagged]\n",
    "    # lemmatize the doc\n",
    "    doc_lemmed = [lemmatizer.lemmatize(token[0], token[1]) for token in doc_tagged]\n",
    "    # join the lemmas together as a string\n",
    "    doc_cleaned = ' '.join(doc_lemmed)\n",
    "    # return the cleaned doc\n",
    "    return doc_cleaned"
   ]
  },
  {
   "cell_type": "code",
   "execution_count": 8,
   "id": "5c79e21e",
   "metadata": {
    "ExecuteTime": {
     "end_time": "2022-05-03T13:59:20.131170Z",
     "start_time": "2022-05-03T13:59:20.115288Z"
    }
   },
   "outputs": [
    {
     "data": {
      "text/html": [
       "<div>\n",
       "<style scoped>\n",
       "    .dataframe tbody tr th:only-of-type {\n",
       "        vertical-align: middle;\n",
       "    }\n",
       "\n",
       "    .dataframe tbody tr th {\n",
       "        vertical-align: top;\n",
       "    }\n",
       "\n",
       "    .dataframe thead th {\n",
       "        text-align: right;\n",
       "    }\n",
       "</style>\n",
       "<table border=\"1\" class=\"dataframe\">\n",
       "  <thead>\n",
       "    <tr style=\"text-align: right;\">\n",
       "      <th></th>\n",
       "      <th>movie_id</th>\n",
       "      <th>is_spoiler</th>\n",
       "      <th>review_text_lemmed</th>\n",
       "      <th>plot_summary_lemmed</th>\n",
       "    </tr>\n",
       "  </thead>\n",
       "  <tbody>\n",
       "    <tr>\n",
       "      <th>0</th>\n",
       "      <td>tt0111161</td>\n",
       "      <td>1</td>\n",
       "      <td>oscar year shawshank redemption write direct f...</td>\n",
       "      <td>chronicle experience formerly successful banke...</td>\n",
       "    </tr>\n",
       "    <tr>\n",
       "      <th>1</th>\n",
       "      <td>tt0111161</td>\n",
       "      <td>1</td>\n",
       "      <td>shawshank redemption without doubt one brillia...</td>\n",
       "      <td>chronicle experience formerly successful banke...</td>\n",
       "    </tr>\n",
       "    <tr>\n",
       "      <th>2</th>\n",
       "      <td>tt0111161</td>\n",
       "      <td>1</td>\n",
       "      <td>believe film best story ever tell film i'm tel...</td>\n",
       "      <td>chronicle experience formerly successful banke...</td>\n",
       "    </tr>\n",
       "    <tr>\n",
       "      <th>3</th>\n",
       "      <td>tt0111161</td>\n",
       "      <td>1</td>\n",
       "      <td>yes spoiler film emotional impact find hard wr...</td>\n",
       "      <td>chronicle experience formerly successful banke...</td>\n",
       "    </tr>\n",
       "    <tr>\n",
       "      <th>4</th>\n",
       "      <td>tt0111161</td>\n",
       "      <td>1</td>\n",
       "      <td>heart extraordinary movie brilliant indelible ...</td>\n",
       "      <td>chronicle experience formerly successful banke...</td>\n",
       "    </tr>\n",
       "    <tr>\n",
       "      <th>...</th>\n",
       "      <td>...</td>\n",
       "      <td>...</td>\n",
       "      <td>...</td>\n",
       "      <td>...</td>\n",
       "    </tr>\n",
       "    <tr>\n",
       "      <th>4356</th>\n",
       "      <td>tt0111161</td>\n",
       "      <td>0</td>\n",
       "      <td>movie really need hour develop story think sha...</td>\n",
       "      <td>chronicle experience formerly successful banke...</td>\n",
       "    </tr>\n",
       "    <tr>\n",
       "      <th>4357</th>\n",
       "      <td>tt0111161</td>\n",
       "      <td>0</td>\n",
       "      <td>due respect people complain stark good v evil ...</td>\n",
       "      <td>chronicle experience formerly successful banke...</td>\n",
       "    </tr>\n",
       "    <tr>\n",
       "      <th>4358</th>\n",
       "      <td>tt0111161</td>\n",
       "      <td>0</td>\n",
       "      <td>every single scene shawshank redemption every ...</td>\n",
       "      <td>chronicle experience formerly successful banke...</td>\n",
       "    </tr>\n",
       "    <tr>\n",
       "      <th>4359</th>\n",
       "      <td>tt0111161</td>\n",
       "      <td>0</td>\n",
       "      <td>begin think would another annoy movie i've tot...</td>\n",
       "      <td>chronicle experience formerly successful banke...</td>\n",
       "    </tr>\n",
       "    <tr>\n",
       "      <th>4360</th>\n",
       "      <td>tt0111161</td>\n",
       "      <td>0</td>\n",
       "      <td>year come shawshank redemtion see classic righ...</td>\n",
       "      <td>chronicle experience formerly successful banke...</td>\n",
       "    </tr>\n",
       "  </tbody>\n",
       "</table>\n",
       "<p>4361 rows × 4 columns</p>\n",
       "</div>"
      ],
      "text/plain": [
       "       movie_id  is_spoiler  \\\n",
       "0     tt0111161           1   \n",
       "1     tt0111161           1   \n",
       "2     tt0111161           1   \n",
       "3     tt0111161           1   \n",
       "4     tt0111161           1   \n",
       "...         ...         ...   \n",
       "4356  tt0111161           0   \n",
       "4357  tt0111161           0   \n",
       "4358  tt0111161           0   \n",
       "4359  tt0111161           0   \n",
       "4360  tt0111161           0   \n",
       "\n",
       "                                     review_text_lemmed  \\\n",
       "0     oscar year shawshank redemption write direct f...   \n",
       "1     shawshank redemption without doubt one brillia...   \n",
       "2     believe film best story ever tell film i'm tel...   \n",
       "3     yes spoiler film emotional impact find hard wr...   \n",
       "4     heart extraordinary movie brilliant indelible ...   \n",
       "...                                                 ...   \n",
       "4356  movie really need hour develop story think sha...   \n",
       "4357  due respect people complain stark good v evil ...   \n",
       "4358  every single scene shawshank redemption every ...   \n",
       "4359  begin think would another annoy movie i've tot...   \n",
       "4360  year come shawshank redemtion see classic righ...   \n",
       "\n",
       "                                    plot_summary_lemmed  \n",
       "0     chronicle experience formerly successful banke...  \n",
       "1     chronicle experience formerly successful banke...  \n",
       "2     chronicle experience formerly successful banke...  \n",
       "3     chronicle experience formerly successful banke...  \n",
       "4     chronicle experience formerly successful banke...  \n",
       "...                                                 ...  \n",
       "4356  chronicle experience formerly successful banke...  \n",
       "4357  chronicle experience formerly successful banke...  \n",
       "4358  chronicle experience formerly successful banke...  \n",
       "4359  chronicle experience formerly successful banke...  \n",
       "4360  chronicle experience formerly successful banke...  \n",
       "\n",
       "[4361 rows x 4 columns]"
      ]
     },
     "execution_count": 8,
     "metadata": {},
     "output_type": "execute_result"
    }
   ],
   "source": [
    "# testing with the film with the most reviews: shawshank redemption\n",
    "shawshank = top_ten_reviews[top_ten_reviews.movie_id == 'tt0111161'].copy()\n",
    "shawshank"
   ]
  },
  {
   "cell_type": "code",
   "execution_count": 29,
   "id": "63e49693",
   "metadata": {
    "ExecuteTime": {
     "end_time": "2022-05-03T15:22:34.867076Z",
     "start_time": "2022-05-03T15:22:34.849696Z"
    }
   },
   "outputs": [
    {
     "data": {
      "text/plain": [
       "4361"
      ]
     },
     "execution_count": 29,
     "metadata": {},
     "output_type": "execute_result"
    }
   ],
   "source": [
    "len(list(shawshank.review_text_lemmed))"
   ]
  },
  {
   "cell_type": "code",
   "execution_count": 32,
   "id": "0400e388",
   "metadata": {
    "ExecuteTime": {
     "end_time": "2022-05-03T15:24:28.030500Z",
     "start_time": "2022-05-03T15:24:28.015620Z"
    }
   },
   "outputs": [
    {
     "data": {
      "text/plain": [
       "\"chronicle experience formerly successful banker prisoner gloomy jailhouse shawshank find guilty crime commit film portrays man's unique way deal new torturous life along way befriends number fellow prisoner notably wise long term inmate name red write j golden\""
      ]
     },
     "execution_count": 32,
     "metadata": {},
     "output_type": "execute_result"
    }
   ],
   "source": [
    "shawshank.iloc[0].plot_summary_lemmed"
   ]
  },
  {
   "cell_type": "code",
   "execution_count": 31,
   "id": "0113a9b3",
   "metadata": {
    "ExecuteTime": {
     "end_time": "2022-05-03T15:23:58.645902Z",
     "start_time": "2022-05-03T15:23:58.631517Z"
    }
   },
   "outputs": [],
   "source": [
    "corpus = shawshank.review_text_lemmed.str.cat(sep=' ')"
   ]
  },
  {
   "cell_type": "code",
   "execution_count": null,
   "id": "4f337f73",
   "metadata": {},
   "outputs": [],
   "source": []
  },
  {
   "cell_type": "code",
   "execution_count": null,
   "id": "00b9810e",
   "metadata": {},
   "outputs": [],
   "source": []
  },
  {
   "cell_type": "code",
   "execution_count": null,
   "id": "68bf9692",
   "metadata": {},
   "outputs": [],
   "source": []
  },
  {
   "cell_type": "code",
   "execution_count": null,
   "id": "95bc6ff5",
   "metadata": {},
   "outputs": [],
   "source": []
  },
  {
   "cell_type": "code",
   "execution_count": null,
   "id": "e9a90797",
   "metadata": {},
   "outputs": [],
   "source": []
  },
  {
   "cell_type": "code",
   "execution_count": null,
   "id": "8819992f",
   "metadata": {},
   "outputs": [],
   "source": [
    "# helper function to transform the training and validation data\n",
    "def transformX(vectorizer, train=X_train, val=X_val, train_target=y_train, val_target=y_val):\n",
    "    # fit/transform training data\n",
    "    train_vec = vectorizer.fit_transform(train)\n",
    "    train_vec = pd.DataFrame.sparse.from_spmatrix(train_vec)\n",
    "    train_vec.columns = sorted(vectorizer.vocabulary_)\n",
    "    train_vec.set_index(train_target.index, inplace=True)\n",
    "    # transform validation data\n",
    "    val_vec = vectorizer.transform(val)\n",
    "    val_vec = pd.DataFrame.sparse.from_spmatrix(val_vec)\n",
    "    val_vec.columns = sorted(vectorizer.vocabulary_)\n",
    "    val_vec.set_index(val_target.index, inplace=True)\n",
    "    # return both dataframes\n",
    "    return train_vec, val_vec"
   ]
  },
  {
   "cell_type": "code",
   "execution_count": null,
   "id": "3e73d227",
   "metadata": {},
   "outputs": [],
   "source": [
    "shawshank_summary = "
   ]
  },
  {
   "cell_type": "code",
   "execution_count": null,
   "id": "5f9b2059",
   "metadata": {},
   "outputs": [],
   "source": []
  },
  {
   "cell_type": "code",
   "execution_count": null,
   "id": "86e640a9",
   "metadata": {},
   "outputs": [],
   "source": []
  },
  {
   "cell_type": "code",
   "execution_count": 22,
   "id": "23a1607b",
   "metadata": {
    "ExecuteTime": {
     "end_time": "2022-05-03T14:23:13.097106Z",
     "start_time": "2022-05-03T14:23:13.030673Z"
    }
   },
   "outputs": [],
   "source": [
    "def combine_review_plot(row):\n",
    "    return row['review_text_lemmed'] + row['plot_summary_lemmed']\n",
    "\n",
    "shawshank['combined_review_plot'] = shawshank.apply(combine_review_plot, axis=1)"
   ]
  },
  {
   "cell_type": "code",
   "execution_count": null,
   "id": "3474c6dd",
   "metadata": {},
   "outputs": [],
   "source": []
  },
  {
   "cell_type": "code",
   "execution_count": null,
   "id": "1cfe3279",
   "metadata": {},
   "outputs": [],
   "source": []
  },
  {
   "cell_type": "code",
   "execution_count": null,
   "id": "8eadc7a7",
   "metadata": {},
   "outputs": [],
   "source": []
  },
  {
   "cell_type": "code",
   "execution_count": 24,
   "id": "22a94475",
   "metadata": {
    "ExecuteTime": {
     "end_time": "2022-05-03T14:24:08.715362Z",
     "start_time": "2022-05-03T14:24:08.695494Z"
    }
   },
   "outputs": [
    {
     "data": {
      "text/html": [
       "<div>\n",
       "<style scoped>\n",
       "    .dataframe tbody tr th:only-of-type {\n",
       "        vertical-align: middle;\n",
       "    }\n",
       "\n",
       "    .dataframe tbody tr th {\n",
       "        vertical-align: top;\n",
       "    }\n",
       "\n",
       "    .dataframe thead th {\n",
       "        text-align: right;\n",
       "    }\n",
       "</style>\n",
       "<table border=\"1\" class=\"dataframe\">\n",
       "  <thead>\n",
       "    <tr style=\"text-align: right;\">\n",
       "      <th></th>\n",
       "      <th>is_spoiler</th>\n",
       "      <th>combined_review_plot</th>\n",
       "    </tr>\n",
       "  </thead>\n",
       "  <tbody>\n",
       "    <tr>\n",
       "      <th>0</th>\n",
       "      <td>1</td>\n",
       "      <td>oscar year shawshank redemption write direct f...</td>\n",
       "    </tr>\n",
       "    <tr>\n",
       "      <th>1</th>\n",
       "      <td>1</td>\n",
       "      <td>shawshank redemption without doubt one brillia...</td>\n",
       "    </tr>\n",
       "    <tr>\n",
       "      <th>2</th>\n",
       "      <td>1</td>\n",
       "      <td>believe film best story ever tell film i'm tel...</td>\n",
       "    </tr>\n",
       "    <tr>\n",
       "      <th>3</th>\n",
       "      <td>1</td>\n",
       "      <td>yes spoiler film emotional impact find hard wr...</td>\n",
       "    </tr>\n",
       "    <tr>\n",
       "      <th>4</th>\n",
       "      <td>1</td>\n",
       "      <td>heart extraordinary movie brilliant indelible ...</td>\n",
       "    </tr>\n",
       "    <tr>\n",
       "      <th>...</th>\n",
       "      <td>...</td>\n",
       "      <td>...</td>\n",
       "    </tr>\n",
       "    <tr>\n",
       "      <th>4356</th>\n",
       "      <td>0</td>\n",
       "      <td>movie really need hour develop story think sha...</td>\n",
       "    </tr>\n",
       "    <tr>\n",
       "      <th>4357</th>\n",
       "      <td>0</td>\n",
       "      <td>due respect people complain stark good v evil ...</td>\n",
       "    </tr>\n",
       "    <tr>\n",
       "      <th>4358</th>\n",
       "      <td>0</td>\n",
       "      <td>every single scene shawshank redemption every ...</td>\n",
       "    </tr>\n",
       "    <tr>\n",
       "      <th>4359</th>\n",
       "      <td>0</td>\n",
       "      <td>begin think would another annoy movie i've tot...</td>\n",
       "    </tr>\n",
       "    <tr>\n",
       "      <th>4360</th>\n",
       "      <td>0</td>\n",
       "      <td>year come shawshank redemtion see classic righ...</td>\n",
       "    </tr>\n",
       "  </tbody>\n",
       "</table>\n",
       "<p>4361 rows × 2 columns</p>\n",
       "</div>"
      ],
      "text/plain": [
       "      is_spoiler                               combined_review_plot\n",
       "0              1  oscar year shawshank redemption write direct f...\n",
       "1              1  shawshank redemption without doubt one brillia...\n",
       "2              1  believe film best story ever tell film i'm tel...\n",
       "3              1  yes spoiler film emotional impact find hard wr...\n",
       "4              1  heart extraordinary movie brilliant indelible ...\n",
       "...          ...                                                ...\n",
       "4356           0  movie really need hour develop story think sha...\n",
       "4357           0  due respect people complain stark good v evil ...\n",
       "4358           0  every single scene shawshank redemption every ...\n",
       "4359           0  begin think would another annoy movie i've tot...\n",
       "4360           0  year come shawshank redemtion see classic righ...\n",
       "\n",
       "[4361 rows x 2 columns]"
      ]
     },
     "execution_count": 24,
     "metadata": {},
     "output_type": "execute_result"
    }
   ],
   "source": [
    "df = shawshank[['is_spoiler', 'combined_review_plot']].copy()\n",
    "df"
   ]
  },
  {
   "cell_type": "code",
   "execution_count": 9,
   "id": "af9d5d4c",
   "metadata": {
    "ExecuteTime": {
     "end_time": "2022-05-03T13:59:38.137762Z",
     "start_time": "2022-05-03T13:59:38.117919Z"
    }
   },
   "outputs": [
    {
     "data": {
      "text/plain": [
       "0    0.780784\n",
       "1    0.219216\n",
       "Name: is_spoiler, dtype: float64"
      ]
     },
     "execution_count": 9,
     "metadata": {},
     "output_type": "execute_result"
    }
   ],
   "source": [
    "shawshank.is_spoiler.value_counts(normalize=True)"
   ]
  },
  {
   "cell_type": "code",
   "execution_count": 11,
   "id": "343640f7",
   "metadata": {
    "ExecuteTime": {
     "end_time": "2022-05-03T14:16:15.461618Z",
     "start_time": "2022-05-03T14:16:15.447730Z"
    }
   },
   "outputs": [],
   "source": [
    "plot_cv = CountVectorizer()"
   ]
  },
  {
   "cell_type": "code",
   "execution_count": 16,
   "id": "5ea89eba",
   "metadata": {
    "ExecuteTime": {
     "end_time": "2022-05-03T14:17:27.818683Z",
     "start_time": "2022-05-03T14:17:27.696010Z"
    }
   },
   "outputs": [],
   "source": [
    "plot_matrix = plot_cv.fit_transform(shawshank.plot_summary_lemmed)"
   ]
  },
  {
   "cell_type": "code",
   "execution_count": 21,
   "id": "e5822426",
   "metadata": {
    "ExecuteTime": {
     "end_time": "2022-05-03T14:20:55.632541Z",
     "start_time": "2022-05-03T14:20:55.617158Z"
    }
   },
   "outputs": [
    {
     "data": {
      "text/plain": [
       "array([1, 1, 1, 1, 1, 1, 1, 1, 1, 1, 1, 1, 1, 1, 1, 1, 1, 1, 1, 1, 1, 1,\n",
       "       1, 1, 1, 2, 1, 1, 1, 1, 1, 1, 2, 1, 1], dtype=int64)"
      ]
     },
     "execution_count": 21,
     "metadata": {},
     "output_type": "execute_result"
    }
   ],
   "source": [
    "plot_matrix.toarray()[1]"
   ]
  },
  {
   "cell_type": "code",
   "execution_count": 20,
   "id": "64627c3f",
   "metadata": {
    "ExecuteTime": {
     "end_time": "2022-05-03T14:17:51.547811Z",
     "start_time": "2022-05-03T14:17:51.535412Z"
    }
   },
   "outputs": [
    {
     "data": {
      "text/plain": [
       "array([1, 1, 1, 1, 1, 1, 1, 1, 1, 1, 1, 1, 1, 1, 1, 1, 1, 1, 1, 1, 1, 1,\n",
       "       1, 1, 1, 2, 1, 1, 1, 1, 1, 1, 2, 1, 1], dtype=int64)"
      ]
     },
     "execution_count": 20,
     "metadata": {},
     "output_type": "execute_result"
    }
   ],
   "source": [
    "plot_matrix.toarray()[2]"
   ]
  },
  {
   "cell_type": "markdown",
   "id": "16f1f85e",
   "metadata": {},
   "source": [
    "# BERT"
   ]
  },
  {
   "cell_type": "markdown",
   "id": "2e02f832",
   "metadata": {},
   "source": [
    "https://www.tensorflow.org/text/tutorials/classify_text_with_bert"
   ]
  },
  {
   "cell_type": "code",
   "execution_count": 25,
   "id": "7bf4a811",
   "metadata": {
    "ExecuteTime": {
     "end_time": "2022-05-03T15:06:06.884761Z",
     "start_time": "2022-05-03T15:05:59.314570Z"
    }
   },
   "outputs": [],
   "source": [
    "!pip install -q -U \"tensorflow-text==2.8.*\""
   ]
  },
  {
   "cell_type": "code",
   "execution_count": 26,
   "id": "3634f68a",
   "metadata": {
    "ExecuteTime": {
     "end_time": "2022-05-03T15:07:36.508198Z",
     "start_time": "2022-05-03T15:06:20.140106Z"
    }
   },
   "outputs": [
    {
     "name": "stderr",
     "output_type": "stream",
     "text": [
      "  ERROR: Command errored out with exit status 1:\n",
      "   command: 'C:\\Users\\brtra\\anaconda3\\python.exe' 'C:\\Users\\brtra\\anaconda3\\lib\\site-packages\\pip\\_vendor\\pep517\\in_process\\_in_process.py' build_wheel 'C:\\Users\\brtra\\AppData\\Local\\Temp\\tmp9vssf_mj'\n",
      "       cwd: C:\\Users\\brtra\\AppData\\Local\\Temp\\pip-install-2_dhd4o0\\pycocotools_943b44aa6f734ff2a06e32aae523675c\n",
      "  Complete output (14 lines):\n",
      "  running bdist_wheel\n",
      "  running build\n",
      "  running build_py\n",
      "  creating build\n",
      "  creating build\\lib.win-amd64-cpython-39\n",
      "  creating build\\lib.win-amd64-cpython-39\\pycocotools\n",
      "  copying pycocotools\\coco.py -> build\\lib.win-amd64-cpython-39\\pycocotools\n",
      "  copying pycocotools\\cocoeval.py -> build\\lib.win-amd64-cpython-39\\pycocotools\n",
      "  copying pycocotools\\mask.py -> build\\lib.win-amd64-cpython-39\\pycocotools\n",
      "  copying pycocotools\\__init__.py -> build\\lib.win-amd64-cpython-39\\pycocotools\n",
      "  running build_ext\n",
      "  skipping 'pycocotools\\_mask.c' Cython extension (up-to-date)\n",
      "  building 'pycocotools._mask' extension\n",
      "  error: Microsoft Visual C++ 14.0 or greater is required. Get it with \"Microsoft C++ Build Tools\": https://visualstudio.microsoft.com/visual-cpp-build-tools/\n",
      "  ----------------------------------------\n",
      "  ERROR: Failed building wheel for pycocotools\n",
      "ERROR: Could not build wheels for pycocotools which use PEP 517 and cannot be installed directly\n"
     ]
    }
   ],
   "source": [
    "!pip install -q tf-models-official==2.7.0"
   ]
  },
  {
   "cell_type": "code",
   "execution_count": 27,
   "id": "6107e12b",
   "metadata": {
    "ExecuteTime": {
     "end_time": "2022-05-03T15:08:11.362160Z",
     "start_time": "2022-05-03T15:08:10.687104Z"
    }
   },
   "outputs": [
    {
     "ename": "ModuleNotFoundError",
     "evalue": "No module named 'official'",
     "output_type": "error",
     "traceback": [
      "\u001b[1;31m---------------------------------------------------------------------------\u001b[0m",
      "\u001b[1;31mModuleNotFoundError\u001b[0m                       Traceback (most recent call last)",
      "\u001b[1;32m~\\AppData\\Local\\Temp/ipykernel_9608/1391753182.py\u001b[0m in \u001b[0;36m<module>\u001b[1;34m\u001b[0m\n\u001b[0;32m      5\u001b[0m \u001b[1;32mimport\u001b[0m \u001b[0mtensorflow_hub\u001b[0m \u001b[1;32mas\u001b[0m \u001b[0mhub\u001b[0m\u001b[1;33m\u001b[0m\u001b[1;33m\u001b[0m\u001b[0m\n\u001b[0;32m      6\u001b[0m \u001b[1;32mimport\u001b[0m \u001b[0mtensorflow_text\u001b[0m \u001b[1;32mas\u001b[0m \u001b[0mtext\u001b[0m\u001b[1;33m\u001b[0m\u001b[1;33m\u001b[0m\u001b[0m\n\u001b[1;32m----> 7\u001b[1;33m \u001b[1;32mfrom\u001b[0m \u001b[0mofficial\u001b[0m\u001b[1;33m.\u001b[0m\u001b[0mnlp\u001b[0m \u001b[1;32mimport\u001b[0m \u001b[0moptimization\u001b[0m  \u001b[1;31m# to create AdamW optimizer\u001b[0m\u001b[1;33m\u001b[0m\u001b[1;33m\u001b[0m\u001b[0m\n\u001b[0m\u001b[0;32m      8\u001b[0m \u001b[1;33m\u001b[0m\u001b[0m\n\u001b[0;32m      9\u001b[0m \u001b[1;32mimport\u001b[0m \u001b[0mmatplotlib\u001b[0m\u001b[1;33m.\u001b[0m\u001b[0mpyplot\u001b[0m \u001b[1;32mas\u001b[0m \u001b[0mplt\u001b[0m\u001b[1;33m\u001b[0m\u001b[1;33m\u001b[0m\u001b[0m\n",
      "\u001b[1;31mModuleNotFoundError\u001b[0m: No module named 'official'"
     ]
    }
   ],
   "source": [
    "import os\n",
    "import shutil\n",
    "\n",
    "import tensorflow as tf\n",
    "import tensorflow_hub as hub\n",
    "import tensorflow_text as text\n",
    "from official.nlp import optimization  # to create AdamW optimizer\n",
    "\n",
    "import matplotlib.pyplot as plt\n",
    "\n",
    "tf.get_logger().setLevel('ERROR')"
   ]
  },
  {
   "cell_type": "code",
   "execution_count": null,
   "id": "d72605ae",
   "metadata": {},
   "outputs": [],
   "source": []
  }
 ],
 "metadata": {
  "kernelspec": {
   "display_name": "Python 3 (ipykernel)",
   "language": "python",
   "name": "python3"
  },
  "language_info": {
   "codemirror_mode": {
    "name": "ipython",
    "version": 3
   },
   "file_extension": ".py",
   "mimetype": "text/x-python",
   "name": "python",
   "nbconvert_exporter": "python",
   "pygments_lexer": "ipython3",
   "version": "3.9.7"
  },
  "toc": {
   "base_numbering": 1,
   "nav_menu": {},
   "number_sections": true,
   "sideBar": true,
   "skip_h1_title": false,
   "title_cell": "Table of Contents",
   "title_sidebar": "Contents",
   "toc_cell": false,
   "toc_position": {
    "height": "calc(100% - 180px)",
    "left": "10px",
    "top": "150px",
    "width": "512px"
   },
   "toc_section_display": true,
   "toc_window_display": true
  },
  "varInspector": {
   "cols": {
    "lenName": 16,
    "lenType": 16,
    "lenVar": 40
   },
   "kernels_config": {
    "python": {
     "delete_cmd_postfix": "",
     "delete_cmd_prefix": "del ",
     "library": "var_list.py",
     "varRefreshCmd": "print(var_dic_list())"
    },
    "r": {
     "delete_cmd_postfix": ") ",
     "delete_cmd_prefix": "rm(",
     "library": "var_list.r",
     "varRefreshCmd": "cat(var_dic_list()) "
    }
   },
   "position": {
    "height": "720.844px",
    "left": "1924px",
    "right": "20px",
    "top": "109px",
    "width": "620px"
   },
   "types_to_exclude": [
    "module",
    "function",
    "builtin_function_or_method",
    "instance",
    "_Feature"
   ],
   "window_display": false
  }
 },
 "nbformat": 4,
 "nbformat_minor": 5
}
