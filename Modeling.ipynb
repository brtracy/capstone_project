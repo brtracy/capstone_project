{
 "cells": [
  {
   "cell_type": "markdown",
   "id": "ed2329c9",
   "metadata": {},
   "source": [
    "# Imports"
   ]
  },
  {
   "cell_type": "code",
   "execution_count": 1,
   "id": "88070054",
   "metadata": {
    "ExecuteTime": {
     "end_time": "2022-05-06T15:06:42.286460Z",
     "start_time": "2022-05-06T15:06:30.406752Z"
    }
   },
   "outputs": [],
   "source": [
    "import pandas as pd\n",
    "import numpy as np\n",
    "import re\n",
    "import string\n",
    "import json\n",
    "import os\n",
    "import pickle\n",
    "\n",
    "import matplotlib.pyplot as plt\n",
    "import matplotlib as mpl\n",
    "%matplotlib inline\n",
    "\n",
    "from langdetect import detect\n",
    "import spacy\n",
    "\n",
    "import nltk\n",
    "from nltk import pos_tag\n",
    "from nltk.corpus import wordnet\n",
    "from nltk.probability import FreqDist\n",
    "from nltk.corpus import stopwords\n",
    "from nltk.tokenize import regexp_tokenize, word_tokenize, RegexpTokenizer\n",
    "\n",
    "from sklearn.model_selection import train_test_split, GridSearchCV\n",
    "from sklearn.preprocessing import StandardScaler\n",
    "from sklearn.linear_model import SGDClassifier, LogisticRegression\n",
    "from sklearn.metrics import confusion_matrix, ConfusionMatrixDisplay,\\\n",
    "classification_report, accuracy_score, precision_score\n",
    "\n",
    "from sklearn.feature_extraction.text import CountVectorizer, TfidfVectorizer,\\\n",
    "HashingVectorizer\n",
    "\n",
    "from sklearn.ensemble import RandomForestClassifier\n",
    "from sklearn.naive_bayes import MultinomialNB\n",
    "from sklearn.svm import LinearSVC\n",
    "\n",
    "from xgboost import XGBClassifier\n",
    "\n",
    "import pendulum\n",
    "\n",
    "import tensorflow as tf\n",
    "from transformers import TFAutoModel"
   ]
  },
  {
   "cell_type": "code",
   "execution_count": 2,
   "id": "c50ef4cf",
   "metadata": {
    "ExecuteTime": {
     "end_time": "2022-05-06T15:06:44.300678Z",
     "start_time": "2022-05-06T15:06:44.288386Z"
    }
   },
   "outputs": [],
   "source": [
    "# helper function to print the classification report and confusion matrix\n",
    "def report(y_true, y_pred, class_names=['no_spoiler', 'spoiler']):\n",
    "    print(classification_report(y_true, y_pred, target_names=class_names))\n",
    "    confusion_matrix_plot(y_true, y_pred, class_names)\n",
    "\n",
    "# helper function to plot the confusion matrix\n",
    "def confusion_matrix_plot(y_true, y_pred, class_names):\n",
    "    cm = confusion_matrix(y_true, y_pred)\n",
    "    disp = ConfusionMatrixDisplay(confusion_matrix=cm, display_labels=class_names)\n",
    "    disp.plot(cmap=plt.cm.Blues)\n",
    "    return plt.show()"
   ]
  },
  {
   "cell_type": "markdown",
   "id": "2230be5c",
   "metadata": {},
   "source": [
    "# Load Data"
   ]
  },
  {
   "cell_type": "markdown",
   "id": "058f10fb",
   "metadata": {},
   "source": [
    "We performed our lemmatization in the EDA notebook and have full and partial dataframes saved on disk to load. Here we are loading from the reviews and synopsis lemmed data just the target and the review text. We have acccess to both the original text and the cleaned/lemmatized text depending on which modeling technique we're using.\n",
    "\n",
    "Since the last thing being attempted was BERT modeling we used the raw review text, but the lemmatized text was used for baseline and bag of words modeling."
   ]
  },
  {
   "cell_type": "code",
   "execution_count": 3,
   "id": "889766ee",
   "metadata": {
    "ExecuteTime": {
     "end_time": "2022-05-06T15:06:57.797056Z",
     "start_time": "2022-05-06T15:06:55.220817Z"
    }
   },
   "outputs": [
    {
     "data": {
      "text/html": [
       "<div>\n",
       "<style scoped>\n",
       "    .dataframe tbody tr th:only-of-type {\n",
       "        vertical-align: middle;\n",
       "    }\n",
       "\n",
       "    .dataframe tbody tr th {\n",
       "        vertical-align: top;\n",
       "    }\n",
       "\n",
       "    .dataframe thead th {\n",
       "        text-align: right;\n",
       "    }\n",
       "</style>\n",
       "<table border=\"1\" class=\"dataframe\">\n",
       "  <thead>\n",
       "    <tr style=\"text-align: right;\">\n",
       "      <th></th>\n",
       "      <th>is_spoiler</th>\n",
       "      <th>review_text_lemmed</th>\n",
       "    </tr>\n",
       "  </thead>\n",
       "  <tbody>\n",
       "    <tr>\n",
       "      <th>0</th>\n",
       "      <td>1</td>\n",
       "      <td>second tom clancy novel make film hunt red oct...</td>\n",
       "    </tr>\n",
       "    <tr>\n",
       "      <th>1</th>\n",
       "      <td>1</td>\n",
       "      <td>second look like become jack ryan catalogue fi...</td>\n",
       "    </tr>\n",
       "    <tr>\n",
       "      <th>2</th>\n",
       "      <td>1</td>\n",
       "      <td>fan hunt red october boring opinion alec baldw...</td>\n",
       "    </tr>\n",
       "    <tr>\n",
       "      <th>3</th>\n",
       "      <td>1</td>\n",
       "      <td>jack ryan harrison ford cia analyst save royal...</td>\n",
       "    </tr>\n",
       "    <tr>\n",
       "      <th>4</th>\n",
       "      <td>1</td>\n",
       "      <td>one big summer movie harrison ford take role j...</td>\n",
       "    </tr>\n",
       "    <tr>\n",
       "      <th>...</th>\n",
       "      <td>...</td>\n",
       "      <td>...</td>\n",
       "    </tr>\n",
       "    <tr>\n",
       "      <th>538777</th>\n",
       "      <td>0</td>\n",
       "      <td>dunkirk beautifully do movie horror action sus...</td>\n",
       "    </tr>\n",
       "    <tr>\n",
       "      <th>538778</th>\n",
       "      <td>0</td>\n",
       "      <td>dunkirk one rare case film receive huge critic...</td>\n",
       "    </tr>\n",
       "    <tr>\n",
       "      <th>538779</th>\n",
       "      <td>0</td>\n",
       "      <td>film give insufficient background transpire li...</td>\n",
       "    </tr>\n",
       "    <tr>\n",
       "      <th>538780</th>\n",
       "      <td>0</td>\n",
       "      <td>screen write shot image capture camera scene m...</td>\n",
       "    </tr>\n",
       "    <tr>\n",
       "      <th>538781</th>\n",
       "      <td>0</td>\n",
       "      <td>movie entirely engulf rather unusual acting pe...</td>\n",
       "    </tr>\n",
       "  </tbody>\n",
       "</table>\n",
       "<p>538782 rows × 2 columns</p>\n",
       "</div>"
      ],
      "text/plain": [
       "        is_spoiler                                 review_text_lemmed\n",
       "0                1  second tom clancy novel make film hunt red oct...\n",
       "1                1  second look like become jack ryan catalogue fi...\n",
       "2                1  fan hunt red october boring opinion alec baldw...\n",
       "3                1  jack ryan harrison ford cia analyst save royal...\n",
       "4                1  one big summer movie harrison ford take role j...\n",
       "...            ...                                                ...\n",
       "538777           0  dunkirk beautifully do movie horror action sus...\n",
       "538778           0  dunkirk one rare case film receive huge critic...\n",
       "538779           0  film give insufficient background transpire li...\n",
       "538780           0  screen write shot image capture camera scene m...\n",
       "538781           0  movie entirely engulf rather unusual acting pe...\n",
       "\n",
       "[538782 rows x 2 columns]"
      ]
     },
     "execution_count": 3,
     "metadata": {},
     "output_type": "execute_result"
    }
   ],
   "source": [
    "# loading the original text from the data. can load the lemmed text by adding '_lemmed' to the end of \n",
    "# review_text\n",
    "large_df = pd.read_parquet('./data/reviews_synopsis_lemmed.parquet', columns=['is_spoiler',\n",
    "#                                                                               'review_text',\n",
    "                                                                              'review_text_lemmed'\n",
    "                                                                             ])\n",
    "large_df"
   ]
  },
  {
   "cell_type": "markdown",
   "id": "a212579f",
   "metadata": {},
   "source": [
    "## train/val/test split"
   ]
  },
  {
   "cell_type": "code",
   "execution_count": 6,
   "id": "0f5eb35f",
   "metadata": {
    "ExecuteTime": {
     "end_time": "2022-05-06T15:08:28.129870Z",
     "start_time": "2022-05-06T15:08:27.651202Z"
    }
   },
   "outputs": [
    {
     "name": "stdout",
     "output_type": "stream",
     "text": [
      "X_train / y_train shapes: (431026,), (431026,)\n",
      "X_val / y_val shapes: (53878,), (53878,)\n",
      "X_test / y_test shapes: (53878,), (53878,)\n"
     ]
    }
   ],
   "source": [
    "# set predictor to the review text, target to is_spoiler\n",
    "predictor = large_df.review_text_lemmed\n",
    "target = large_df.is_spoiler\n",
    "\n",
    "# We want 10% of our data for test and 10% for validation, generate our holdout number\n",
    "holdout = round(len(predictor) * 0.1)\n",
    "\n",
    "# do first train/test split for train/val set and test set\n",
    "X_trainval, X_test, y_trainval, y_test = train_test_split(predictor, target, random_state=42, test_size=holdout, stratify=target)\n",
    "\n",
    "# perform 2nd train/test split (on train/val) for train and val sets\n",
    "X_train, X_val, y_train, y_val = train_test_split(X_trainval, y_trainval, random_state=42, test_size=holdout, stratify=y_trainval)\n",
    "\n",
    "# delete the large dataframe, predictor, target and trainval variables (no longer needed)\n",
    "del predictor, target, X_trainval, y_trainval\n",
    "\n",
    "# confirm shapes\n",
    "print(f\"X_train / y_train shapes: {X_train.shape}, {y_train.shape}\")\n",
    "print(f\"X_val / y_val shapes: {X_val.shape}, {y_val.shape}\")\n",
    "print(f\"X_test / y_test shapes: {X_test.shape}, {y_test.shape}\")"
   ]
  },
  {
   "cell_type": "markdown",
   "id": "c63637b0",
   "metadata": {},
   "source": [
    "# Baseline Model"
   ]
  },
  {
   "cell_type": "markdown",
   "id": "43415327",
   "metadata": {},
   "source": [
    "For the baseline model we decided to keep it extremely simple and say that any review that contains the word 'spoiler' was, in fact, a spoiler."
   ]
  },
  {
   "cell_type": "code",
   "execution_count": 8,
   "id": "fdf8c5c2",
   "metadata": {
    "ExecuteTime": {
     "end_time": "2022-05-03T17:01:15.099829Z",
     "start_time": "2022-05-03T17:01:14.184182Z"
    }
   },
   "outputs": [],
   "source": [
    "# make a baseline dataframe with just the target and the review_text\n",
    "baseline_df = large_df[['is_spoiler', 'review_text_lemmed']].copy()\n",
    "\n",
    "# we don't need the large_df anymore\n",
    "del large_df\n",
    "\n",
    "# create a new boolean value for reviews that contain the word 'spoiler'\n",
    "baseline_df['contains_spoiler'] = baseline_df.review_text_lemmed.str.contains('spoiler')\n",
    "baseline_df['contains_spoiler'] = baseline_df.contains_spoiler.astype(int)"
   ]
  },
  {
   "cell_type": "code",
   "execution_count": 9,
   "id": "ae0c21c8",
   "metadata": {
    "ExecuteTime": {
     "end_time": "2022-05-03T17:01:25.094705Z",
     "start_time": "2022-05-03T17:01:24.147065Z"
    },
    "scrolled": false
   },
   "outputs": [
    {
     "name": "stdout",
     "output_type": "stream",
     "text": [
      "              precision    recall  f1-score   support\n",
      "\n",
      "  no_spoiler       0.76      0.98      0.85    395686\n",
      "     spoiler       0.72      0.13      0.22    143096\n",
      "\n",
      "    accuracy                           0.75    538782\n",
      "   macro avg       0.74      0.55      0.54    538782\n",
      "weighted avg       0.75      0.75      0.68    538782\n",
      "\n"
     ]
    },
    {
     "data": {
      "image/png": "[encoded data removed]",
      "text/plain": [
       "<Figure size 432x288 with 2 Axes>"
      ]
     },
     "metadata": {
      "needs_background": "light"
     },
     "output_type": "display_data"
    }
   ],
   "source": [
    "report(baseline_df.is_spoiler, baseline_df.contains_spoiler)"
   ]
  },
  {
   "cell_type": "markdown",
   "id": "abb34cf6",
   "metadata": {},
   "source": []
  },
  {
   "cell_type": "markdown",
   "id": "178d751c",
   "metadata": {},
   "source": [
    "# Bag of Words"
   ]
  },
  {
   "cell_type": "markdown",
   "id": "506af4da",
   "metadata": {},
   "source": [
    "We wanted to make it easy to vectorize with different parameters and test the resulting data with a variety of models. The cell below contains two helper functions. The first transforms the X_train and X_val sets with the vectorizer we choose. The second function utilizes the first, and then feeds the resulting transformed data into the fitpredreport function defined in our imports. This way we can run a text on these three modeling techniques efficiently."
   ]
  },
  {
   "cell_type": "code",
   "execution_count": 7,
   "id": "2eb6f21a",
   "metadata": {
    "ExecuteTime": {
     "end_time": "2022-05-06T15:08:34.845013Z",
     "start_time": "2022-05-06T15:08:34.829607Z"
    }
   },
   "outputs": [],
   "source": [
    "# helper function to transform the training and validation data\n",
    "def transformX(vectorizer, train=X_train, val=X_val, train_target=y_train, val_target=y_val):\n",
    "    # fit/transform training data\n",
    "    train_vec = vectorizer.fit_transform(train)\n",
    "    train_vec = pd.DataFrame.sparse.from_spmatrix(train_vec)\n",
    "    train_vec.columns = sorted(vectorizer.vocabulary_)\n",
    "    train_vec.set_index(train_target.index, inplace=True)\n",
    "    # transform validation data\n",
    "    val_vec = vectorizer.transform(val)\n",
    "    val_vec = pd.DataFrame.sparse.from_spmatrix(val_vec)\n",
    "    val_vec.columns = sorted(vectorizer.vocabulary_)\n",
    "    val_vec.set_index(val_target.index, inplace=True)\n",
    "    # return both dataframes\n",
    "    return train_vec, val_vec\n",
    "\n",
    "def test_models(vectorizer):\n",
    "    \n",
    "    # transfrom X_train and X_val with helper function\n",
    "    X_train_tfidf, X_val_tfidf = transformX(vectorizer)\n",
    "    \n",
    "    # helper function to make fitting, predicting and reporting easier\n",
    "    def fitpredreport(model):\n",
    "        model.fit(X_train_tfidf, y_train)\n",
    "        y_pred = model.predict(X_val_tfidf)\n",
    "        report(y_val, y_pred)\n",
    "    \n",
    "    nb = MultinomialNB()\n",
    "    lr = LogisticRegression(verbose=1, solver='liblinear', random_state=42, C=5, max_iter=1000)\n",
    "    svm = LinearSVC(random_state=42)\n",
    "    \n",
    "    print('Multinomial Naive Bayes')\n",
    "    fitpredreport(nb)\n",
    "    print('--------------------------------------------')\n",
    "    print('Logistic Regression')\n",
    "    fitpredreport(lr)\n",
    "    print('--------------------------------------------')\n",
    "    print('Support Vector')\n",
    "    fitpredreport(svm)"
   ]
  },
  {
   "cell_type": "markdown",
   "id": "27836ead",
   "metadata": {},
   "source": [
    "## base count vectorizer"
   ]
  },
  {
   "cell_type": "markdown",
   "id": "17be0f6f",
   "metadata": {},
   "source": [
    "Using a basic count vectorizer. This takes about one and a quarter hours and generates a ____ word vocabulary."
   ]
  },
  {
   "cell_type": "code",
   "execution_count": 10,
   "id": "76f19951",
   "metadata": {
    "ExecuteTime": {
     "end_time": "2022-05-06T17:11:03.073876Z",
     "start_time": "2022-05-06T17:11:03.062964Z"
    }
   },
   "outputs": [
    {
     "data": {
      "text/plain": [
       "221287"
      ]
     },
     "execution_count": 10,
     "metadata": {},
     "output_type": "execute_result"
    }
   ],
   "source": [
    "len(base_countvec.vocabulary_)"
   ]
  },
  {
   "cell_type": "code",
   "execution_count": 8,
   "id": "b5888762",
   "metadata": {
    "ExecuteTime": {
     "end_time": "2022-05-06T16:22:32.569543Z",
     "start_time": "2022-05-06T15:08:46.133873Z"
    }
   },
   "outputs": [
    {
     "name": "stdout",
     "output_type": "stream",
     "text": [
      "Multinomial Naive Bayes\n",
      "              precision    recall  f1-score   support\n",
      "\n",
      "  no_spoiler       0.82      0.83      0.83     39569\n",
      "     spoiler       0.51      0.48      0.50     14309\n",
      "\n",
      "    accuracy                           0.74     53878\n",
      "   macro avg       0.66      0.66      0.66     53878\n",
      "weighted avg       0.74      0.74      0.74     53878\n",
      "\n"
     ]
    },
    {
     "data": {
      "image/png": "[encoded data removed]",
      "text/plain": [
       "<Figure size 432x288 with 2 Axes>"
      ]
     },
     "metadata": {
      "needs_background": "light"
     },
     "output_type": "display_data"
    },
    {
     "name": "stdout",
     "output_type": "stream",
     "text": [
      "--------------------------------------------\n",
      "Logistic Regression\n",
      "[LibLinear]"
     ]
    },
    {
     "name": "stderr",
     "output_type": "stream",
     "text": [
      "C:\\Users\\brtra\\anaconda3\\lib\\site-packages\\sklearn\\svm\\_base.py:1206: ConvergenceWarning: Liblinear failed to converge, increase the number of iterations.\n",
      "  warnings.warn(\n"
     ]
    },
    {
     "name": "stdout",
     "output_type": "stream",
     "text": [
      "              precision    recall  f1-score   support\n",
      "\n",
      "  no_spoiler       0.80      0.90      0.85     39569\n",
      "     spoiler       0.57      0.38      0.45     14309\n",
      "\n",
      "    accuracy                           0.76     53878\n",
      "   macro avg       0.68      0.64      0.65     53878\n",
      "weighted avg       0.74      0.76      0.74     53878\n",
      "\n"
     ]
    },
    {
     "data": {
      "image/png": "[encoded data removed]",
      "text/plain": [
       "<Figure size 432x288 with 2 Axes>"
      ]
     },
     "metadata": {
      "needs_background": "light"
     },
     "output_type": "display_data"
    },
    {
     "name": "stdout",
     "output_type": "stream",
     "text": [
      "--------------------------------------------\n",
      "Support Vector\n"
     ]
    },
    {
     "name": "stderr",
     "output_type": "stream",
     "text": [
      "C:\\Users\\brtra\\anaconda3\\lib\\site-packages\\sklearn\\svm\\_base.py:1206: ConvergenceWarning: Liblinear failed to converge, increase the number of iterations.\n",
      "  warnings.warn(\n"
     ]
    },
    {
     "name": "stdout",
     "output_type": "stream",
     "text": [
      "              precision    recall  f1-score   support\n",
      "\n",
      "  no_spoiler       0.80      0.88      0.84     39569\n",
      "     spoiler       0.54      0.39      0.45     14309\n",
      "\n",
      "    accuracy                           0.75     53878\n",
      "   macro avg       0.67      0.63      0.65     53878\n",
      "weighted avg       0.73      0.75      0.74     53878\n",
      "\n"
     ]
    },
    {
     "data": {
      "image/png": "[encoded data removed]",
      "text/plain": [
       "<Figure size 432x288 with 2 Axes>"
      ]
     },
     "metadata": {
      "needs_background": "light"
     },
     "output_type": "display_data"
    }
   ],
   "source": [
    "base_countvec = CountVectorizer()\n",
    "\n",
    "test_models(base_countvec)"
   ]
  },
  {
   "cell_type": "markdown",
   "id": "eafdb81d",
   "metadata": {},
   "source": [
    "## count vectorizer, min 5"
   ]
  },
  {
   "cell_type": "markdown",
   "id": "36bf84fe",
   "metadata": {},
   "source": [
    "Using a count vectorizer with min_df of 5. This takes about 35 minutes and generates a 63,223 word vocabulary."
   ]
  },
  {
   "cell_type": "code",
   "execution_count": 9,
   "id": "241db6b2",
   "metadata": {
    "ExecuteTime": {
     "end_time": "2022-05-06T17:11:01.168016Z",
     "start_time": "2022-05-06T16:36:31.028253Z"
    }
   },
   "outputs": [
    {
     "name": "stdout",
     "output_type": "stream",
     "text": [
      "Multinomial Naive Bayes\n",
      "              precision    recall  f1-score   support\n",
      "\n",
      "  no_spoiler       0.82      0.82      0.82     39569\n",
      "     spoiler       0.51      0.51      0.51     14309\n",
      "\n",
      "    accuracy                           0.74     53878\n",
      "   macro avg       0.66      0.66      0.66     53878\n",
      "weighted avg       0.74      0.74      0.74     53878\n",
      "\n"
     ]
    },
    {
     "data": {
      "image/png": "[encoded data removed]",
      "text/plain": [
       "<Figure size 432x288 with 2 Axes>"
      ]
     },
     "metadata": {
      "needs_background": "light"
     },
     "output_type": "display_data"
    },
    {
     "name": "stdout",
     "output_type": "stream",
     "text": [
      "--------------------------------------------\n",
      "Logistic Regression\n",
      "[LibLinear]              precision    recall  f1-score   support\n",
      "\n",
      "  no_spoiler       0.80      0.90      0.85     39569\n",
      "     spoiler       0.57      0.38      0.45     14309\n",
      "\n",
      "    accuracy                           0.76     53878\n",
      "   macro avg       0.68      0.64      0.65     53878\n",
      "weighted avg       0.74      0.76      0.74     53878\n",
      "\n"
     ]
    },
    {
     "data": {
      "image/png": "[encoded data removed]",
      "text/plain": [
       "<Figure size 432x288 with 2 Axes>"
      ]
     },
     "metadata": {
      "needs_background": "light"
     },
     "output_type": "display_data"
    },
    {
     "name": "stdout",
     "output_type": "stream",
     "text": [
      "--------------------------------------------\n",
      "Support Vector\n"
     ]
    },
    {
     "name": "stderr",
     "output_type": "stream",
     "text": [
      "C:\\Users\\brtra\\anaconda3\\lib\\site-packages\\sklearn\\svm\\_base.py:1206: ConvergenceWarning: Liblinear failed to converge, increase the number of iterations.\n",
      "  warnings.warn(\n"
     ]
    },
    {
     "name": "stdout",
     "output_type": "stream",
     "text": [
      "              precision    recall  f1-score   support\n",
      "\n",
      "  no_spoiler       0.80      0.89      0.84     39569\n",
      "     spoiler       0.56      0.38      0.46     14309\n",
      "\n",
      "    accuracy                           0.76     53878\n",
      "   macro avg       0.68      0.64      0.65     53878\n",
      "weighted avg       0.74      0.76      0.74     53878\n",
      "\n"
     ]
    },
    {
     "data": {
      "image/png": "[encoded data removed]",
      "text/plain": [
       "<Figure size 432x288 with 2 Axes>"
      ]
     },
     "metadata": {
      "needs_background": "light"
     },
     "output_type": "display_data"
    }
   ],
   "source": [
    "countvec_min_five = CountVectorizer(min_df=5)\n",
    "\n",
    "test_models(countvec_min_five)"
   ]
  },
  {
   "cell_type": "markdown",
   "id": "db5f8cb0",
   "metadata": {},
   "source": [
    "## base tfidf vectorizer"
   ]
  },
  {
   "cell_type": "markdown",
   "id": "54a99e7d",
   "metadata": {},
   "source": [
    "Vectorizing with no parameter changes. Takes about 3 minutes and generates a vocabulary of 221,997"
   ]
  },
  {
   "cell_type": "code",
   "execution_count": 8,
   "id": "aa413ed8",
   "metadata": {
    "ExecuteTime": {
     "end_time": "2022-05-03T17:47:51.572181Z",
     "start_time": "2022-05-03T17:44:48.171296Z"
    }
   },
   "outputs": [
    {
     "name": "stdout",
     "output_type": "stream",
     "text": [
      "Multinomial Naive Bayes\n",
      "              precision    recall  f1-score   support\n",
      "\n",
      "  no_spoiler       0.74      1.00      0.85     39720\n",
      "     spoiler       0.76      0.02      0.05     14158\n",
      "\n",
      "    accuracy                           0.74     53878\n",
      "   macro avg       0.75      0.51      0.45     53878\n",
      "weighted avg       0.75      0.74      0.64     53878\n",
      "\n"
     ]
    },
    {
     "data": {
      "image/png": "[encoded data removed]",
      "text/plain": [
       "<Figure size 432x288 with 2 Axes>"
      ]
     },
     "metadata": {
      "needs_background": "light"
     },
     "output_type": "display_data"
    },
    {
     "name": "stdout",
     "output_type": "stream",
     "text": [
      "--------------------------------------------\n",
      "Logistic Regression\n",
      "[LibLinear]              precision    recall  f1-score   support\n",
      "\n",
      "  no_spoiler       0.80      0.92      0.86     39720\n",
      "     spoiler       0.62      0.36      0.46     14158\n",
      "\n",
      "    accuracy                           0.77     53878\n",
      "   macro avg       0.71      0.64      0.66     53878\n",
      "weighted avg       0.75      0.77      0.75     53878\n",
      "\n"
     ]
    },
    {
     "data": {
      "image/png": "[encoded data removed]",
      "text/plain": [
       "<Figure size 432x288 with 2 Axes>"
      ]
     },
     "metadata": {
      "needs_background": "light"
     },
     "output_type": "display_data"
    },
    {
     "name": "stdout",
     "output_type": "stream",
     "text": [
      "--------------------------------------------\n",
      "Support Vector\n",
      "              precision    recall  f1-score   support\n",
      "\n",
      "  no_spoiler       0.80      0.92      0.86     39720\n",
      "     spoiler       0.62      0.35      0.45     14158\n",
      "\n",
      "    accuracy                           0.77     53878\n",
      "   macro avg       0.71      0.64      0.65     53878\n",
      "weighted avg       0.75      0.77      0.75     53878\n",
      "\n"
     ]
    },
    {
     "data": {
      "image/png": "[encoded data removed]",
      "text/plain": [
       "<Figure size 432x288 with 2 Axes>"
      ]
     },
     "metadata": {
      "needs_background": "light"
     },
     "output_type": "display_data"
    }
   ],
   "source": [
    "base_tfidf = TfidfVectorizer()\n",
    "\n",
    "test_models(base_tfidf)"
   ]
  },
  {
   "cell_type": "markdown",
   "id": "7dcd9a28",
   "metadata": {},
   "source": [
    "Of the three, the naive bayes model performs the worst, while the logistic regression and the support vector machine models perform similarly, with logistic regression just edging out the SVM model. The model definitely performs better than the simple baseline, but it's not super impressive, barely cracking 36% recall on the spoiler label.\n",
    "\n",
    "We wanted to try to additional modeling techniques to see how they fared with the data. Knowing they tend to take longer to train we did not include them in the helper function, but will try them now."
   ]
  },
  {
   "cell_type": "markdown",
   "id": "3c1bd34b",
   "metadata": {
    "heading_collapsed": true
   },
   "source": [
    "### RandomForest / XGBoost"
   ]
  },
  {
   "cell_type": "markdown",
   "id": "f9f936cf",
   "metadata": {
    "hidden": true
   },
   "source": [
    "Here we have to break apart the helper function to generate the data to feed into these models to see how the results look."
   ]
  },
  {
   "cell_type": "code",
   "execution_count": 12,
   "id": "e7d01803",
   "metadata": {
    "ExecuteTime": {
     "end_time": "2022-05-03T18:03:37.633939Z",
     "start_time": "2022-05-03T18:02:13.388248Z"
    },
    "hidden": true
   },
   "outputs": [
    {
     "name": "stdout",
     "output_type": "stream",
     "text": [
      "              precision    recall  f1-score   support\n",
      "\n",
      "  no_spoiler       0.74      1.00      0.85     39720\n",
      "     spoiler       1.00      0.00      0.00     14158\n",
      "\n",
      "    accuracy                           0.74     53878\n",
      "   macro avg       0.87      0.50      0.43     53878\n",
      "weighted avg       0.81      0.74      0.63     53878\n",
      "\n"
     ]
    },
    {
     "data": {
      "image/png": "[encoded data removed]",
      "text/plain": [
       "<Figure size 432x288 with 2 Axes>"
      ]
     },
     "metadata": {
      "needs_background": "light"
     },
     "output_type": "display_data"
    }
   ],
   "source": [
    "# set tfidf vectorizer, default parameters\n",
    "base_tfidf = TfidfVectorizer()\n",
    "\n",
    "X_train_tfidf, X_val_tfidf = transformX(base_tfidf)\n",
    "\n",
    "# helper function to make fitting, predicting and reporting easier\n",
    "def fitpredreport(model):\n",
    "    model.fit(X_train_tfidf, y_train)\n",
    "    y_pred = model.predict(X_val_tfidf)\n",
    "    report(y_val, y_pred)\n",
    "\n",
    "# instantiate random forest classifier\n",
    "rf_v1 = RandomForestClassifier(max_depth=20, random_state=42, n_jobs=-1)\n",
    "# fit, predict and report with helper function\n",
    "fitpredreport(rf_v1)"
   ]
  },
  {
   "cell_type": "code",
   "execution_count": 15,
   "id": "a8f20f3c",
   "metadata": {
    "ExecuteTime": {
     "end_time": "2022-05-03T17:07:49.220530Z",
     "start_time": "2022-05-03T17:07:44.195387Z"
    },
    "hidden": true,
    "scrolled": true
   },
   "outputs": [
    {
     "ename": "MemoryError",
     "evalue": "Unable to allocate 713. GiB for an array with shape (221997, 431026) and data type float64",
     "output_type": "error",
     "traceback": [
      "\u001b[1;31m---------------------------------------------------------------------------\u001b[0m",
      "\u001b[1;31mMemoryError\u001b[0m                               Traceback (most recent call last)",
      "\u001b[1;32m~\\AppData\\Local\\Temp/ipykernel_10548/2058205553.py\u001b[0m in \u001b[0;36m<module>\u001b[1;34m\u001b[0m\n\u001b[0;32m      1\u001b[0m \u001b[0mxgb_v1\u001b[0m \u001b[1;33m=\u001b[0m \u001b[0mXGBClassifier\u001b[0m\u001b[1;33m(\u001b[0m\u001b[0mrandom_state\u001b[0m\u001b[1;33m=\u001b[0m\u001b[1;36m42\u001b[0m\u001b[1;33m,\u001b[0m \u001b[0mn_jobs\u001b[0m\u001b[1;33m=\u001b[0m\u001b[1;33m-\u001b[0m\u001b[1;36m1\u001b[0m\u001b[1;33m)\u001b[0m\u001b[1;33m\u001b[0m\u001b[1;33m\u001b[0m\u001b[0m\n\u001b[1;32m----> 2\u001b[1;33m \u001b[0mfitpredreport\u001b[0m\u001b[1;33m(\u001b[0m\u001b[0mxgb_v1\u001b[0m\u001b[1;33m)\u001b[0m\u001b[1;33m\u001b[0m\u001b[1;33m\u001b[0m\u001b[0m\n\u001b[0m",
      "\u001b[1;32m~\\AppData\\Local\\Temp/ipykernel_10548/2006769416.py\u001b[0m in \u001b[0;36mfitpredreport\u001b[1;34m(model)\u001b[0m\n\u001b[0;32m      6\u001b[0m \u001b[1;31m# helper function to make fitting, predicting and reporting easier\u001b[0m\u001b[1;33m\u001b[0m\u001b[1;33m\u001b[0m\u001b[0m\n\u001b[0;32m      7\u001b[0m \u001b[1;32mdef\u001b[0m \u001b[0mfitpredreport\u001b[0m\u001b[1;33m(\u001b[0m\u001b[0mmodel\u001b[0m\u001b[1;33m)\u001b[0m\u001b[1;33m:\u001b[0m\u001b[1;33m\u001b[0m\u001b[1;33m\u001b[0m\u001b[0m\n\u001b[1;32m----> 8\u001b[1;33m     \u001b[0mmodel\u001b[0m\u001b[1;33m.\u001b[0m\u001b[0mfit\u001b[0m\u001b[1;33m(\u001b[0m\u001b[0mX_train_tfidf\u001b[0m\u001b[1;33m,\u001b[0m \u001b[0my_train\u001b[0m\u001b[1;33m)\u001b[0m\u001b[1;33m\u001b[0m\u001b[1;33m\u001b[0m\u001b[0m\n\u001b[0m\u001b[0;32m      9\u001b[0m     \u001b[0my_pred\u001b[0m \u001b[1;33m=\u001b[0m \u001b[0mmodel\u001b[0m\u001b[1;33m.\u001b[0m\u001b[0mpredict\u001b[0m\u001b[1;33m(\u001b[0m\u001b[0mX_val_tfidf\u001b[0m\u001b[1;33m)\u001b[0m\u001b[1;33m\u001b[0m\u001b[1;33m\u001b[0m\u001b[0m\n\u001b[0;32m     10\u001b[0m     \u001b[0mreport\u001b[0m\u001b[1;33m(\u001b[0m\u001b[0my_val\u001b[0m\u001b[1;33m,\u001b[0m \u001b[0my_pred\u001b[0m\u001b[1;33m)\u001b[0m\u001b[1;33m\u001b[0m\u001b[1;33m\u001b[0m\u001b[0m\n",
      "\u001b[1;32m~\\anaconda3\\lib\\site-packages\\xgboost\\core.py\u001b[0m in \u001b[0;36minner_f\u001b[1;34m(*args, **kwargs)\u001b[0m\n\u001b[0;32m    530\u001b[0m         \u001b[1;32mfor\u001b[0m \u001b[0mk\u001b[0m\u001b[1;33m,\u001b[0m \u001b[0marg\u001b[0m \u001b[1;32min\u001b[0m \u001b[0mzip\u001b[0m\u001b[1;33m(\u001b[0m\u001b[0msig\u001b[0m\u001b[1;33m.\u001b[0m\u001b[0mparameters\u001b[0m\u001b[1;33m,\u001b[0m \u001b[0margs\u001b[0m\u001b[1;33m)\u001b[0m\u001b[1;33m:\u001b[0m\u001b[1;33m\u001b[0m\u001b[1;33m\u001b[0m\u001b[0m\n\u001b[0;32m    531\u001b[0m             \u001b[0mkwargs\u001b[0m\u001b[1;33m[\u001b[0m\u001b[0mk\u001b[0m\u001b[1;33m]\u001b[0m \u001b[1;33m=\u001b[0m \u001b[0marg\u001b[0m\u001b[1;33m\u001b[0m\u001b[1;33m\u001b[0m\u001b[0m\n\u001b[1;32m--> 532\u001b[1;33m         \u001b[1;32mreturn\u001b[0m \u001b[0mf\u001b[0m\u001b[1;33m(\u001b[0m\u001b[1;33m**\u001b[0m\u001b[0mkwargs\u001b[0m\u001b[1;33m)\u001b[0m\u001b[1;33m\u001b[0m\u001b[1;33m\u001b[0m\u001b[0m\n\u001b[0m\u001b[0;32m    533\u001b[0m \u001b[1;33m\u001b[0m\u001b[0m\n\u001b[0;32m    534\u001b[0m     \u001b[1;32mreturn\u001b[0m \u001b[0minner_f\u001b[0m\u001b[1;33m\u001b[0m\u001b[1;33m\u001b[0m\u001b[0m\n",
      "\u001b[1;32m~\\anaconda3\\lib\\site-packages\\xgboost\\sklearn.py\u001b[0m in \u001b[0;36mfit\u001b[1;34m(self, X, y, sample_weight, base_margin, eval_set, eval_metric, early_stopping_rounds, verbose, xgb_model, sample_weight_eval_set, base_margin_eval_set, feature_weights, callbacks)\u001b[0m\n\u001b[0;32m   1380\u001b[0m             \u001b[0mxgb_model\u001b[0m\u001b[1;33m,\u001b[0m \u001b[0meval_metric\u001b[0m\u001b[1;33m,\u001b[0m \u001b[0mparams\u001b[0m\u001b[1;33m,\u001b[0m \u001b[0mearly_stopping_rounds\u001b[0m\u001b[1;33m,\u001b[0m \u001b[0mcallbacks\u001b[0m\u001b[1;33m\u001b[0m\u001b[1;33m\u001b[0m\u001b[0m\n\u001b[0;32m   1381\u001b[0m         )\n\u001b[1;32m-> 1382\u001b[1;33m         train_dmatrix, evals = _wrap_evaluation_matrices(\n\u001b[0m\u001b[0;32m   1383\u001b[0m             \u001b[0mmissing\u001b[0m\u001b[1;33m=\u001b[0m\u001b[0mself\u001b[0m\u001b[1;33m.\u001b[0m\u001b[0mmissing\u001b[0m\u001b[1;33m,\u001b[0m\u001b[1;33m\u001b[0m\u001b[1;33m\u001b[0m\u001b[0m\n\u001b[0;32m   1384\u001b[0m             \u001b[0mX\u001b[0m\u001b[1;33m=\u001b[0m\u001b[0mX\u001b[0m\u001b[1;33m,\u001b[0m\u001b[1;33m\u001b[0m\u001b[1;33m\u001b[0m\u001b[0m\n",
      "\u001b[1;32m~\\anaconda3\\lib\\site-packages\\xgboost\\sklearn.py\u001b[0m in \u001b[0;36m_wrap_evaluation_matrices\u001b[1;34m(missing, X, y, group, qid, sample_weight, base_margin, feature_weights, eval_set, sample_weight_eval_set, base_margin_eval_set, eval_group, eval_qid, create_dmatrix, enable_categorical)\u001b[0m\n\u001b[0;32m    399\u001b[0m \u001b[1;33m\u001b[0m\u001b[0m\n\u001b[0;32m    400\u001b[0m     \"\"\"\n\u001b[1;32m--> 401\u001b[1;33m     train_dmatrix = create_dmatrix(\n\u001b[0m\u001b[0;32m    402\u001b[0m         \u001b[0mdata\u001b[0m\u001b[1;33m=\u001b[0m\u001b[0mX\u001b[0m\u001b[1;33m,\u001b[0m\u001b[1;33m\u001b[0m\u001b[1;33m\u001b[0m\u001b[0m\n\u001b[0;32m    403\u001b[0m         \u001b[0mlabel\u001b[0m\u001b[1;33m=\u001b[0m\u001b[0my\u001b[0m\u001b[1;33m,\u001b[0m\u001b[1;33m\u001b[0m\u001b[1;33m\u001b[0m\u001b[0m\n",
      "\u001b[1;32m~\\anaconda3\\lib\\site-packages\\xgboost\\sklearn.py\u001b[0m in \u001b[0;36m<lambda>\u001b[1;34m(**kwargs)\u001b[0m\n\u001b[0;32m   1394\u001b[0m             \u001b[0meval_group\u001b[0m\u001b[1;33m=\u001b[0m\u001b[1;32mNone\u001b[0m\u001b[1;33m,\u001b[0m\u001b[1;33m\u001b[0m\u001b[1;33m\u001b[0m\u001b[0m\n\u001b[0;32m   1395\u001b[0m             \u001b[0meval_qid\u001b[0m\u001b[1;33m=\u001b[0m\u001b[1;32mNone\u001b[0m\u001b[1;33m,\u001b[0m\u001b[1;33m\u001b[0m\u001b[1;33m\u001b[0m\u001b[0m\n\u001b[1;32m-> 1396\u001b[1;33m             \u001b[0mcreate_dmatrix\u001b[0m\u001b[1;33m=\u001b[0m\u001b[1;32mlambda\u001b[0m \u001b[1;33m**\u001b[0m\u001b[0mkwargs\u001b[0m\u001b[1;33m:\u001b[0m \u001b[0mDMatrix\u001b[0m\u001b[1;33m(\u001b[0m\u001b[0mnthread\u001b[0m\u001b[1;33m=\u001b[0m\u001b[0mself\u001b[0m\u001b[1;33m.\u001b[0m\u001b[0mn_jobs\u001b[0m\u001b[1;33m,\u001b[0m \u001b[1;33m**\u001b[0m\u001b[0mkwargs\u001b[0m\u001b[1;33m)\u001b[0m\u001b[1;33m,\u001b[0m\u001b[1;33m\u001b[0m\u001b[1;33m\u001b[0m\u001b[0m\n\u001b[0m\u001b[0;32m   1397\u001b[0m             \u001b[0menable_categorical\u001b[0m\u001b[1;33m=\u001b[0m\u001b[0mself\u001b[0m\u001b[1;33m.\u001b[0m\u001b[0menable_categorical\u001b[0m\u001b[1;33m,\u001b[0m\u001b[1;33m\u001b[0m\u001b[1;33m\u001b[0m\u001b[0m\n\u001b[0;32m   1398\u001b[0m         )\n",
      "\u001b[1;32m~\\anaconda3\\lib\\site-packages\\xgboost\\core.py\u001b[0m in \u001b[0;36minner_f\u001b[1;34m(*args, **kwargs)\u001b[0m\n\u001b[0;32m    530\u001b[0m         \u001b[1;32mfor\u001b[0m \u001b[0mk\u001b[0m\u001b[1;33m,\u001b[0m \u001b[0marg\u001b[0m \u001b[1;32min\u001b[0m \u001b[0mzip\u001b[0m\u001b[1;33m(\u001b[0m\u001b[0msig\u001b[0m\u001b[1;33m.\u001b[0m\u001b[0mparameters\u001b[0m\u001b[1;33m,\u001b[0m \u001b[0margs\u001b[0m\u001b[1;33m)\u001b[0m\u001b[1;33m:\u001b[0m\u001b[1;33m\u001b[0m\u001b[1;33m\u001b[0m\u001b[0m\n\u001b[0;32m    531\u001b[0m             \u001b[0mkwargs\u001b[0m\u001b[1;33m[\u001b[0m\u001b[0mk\u001b[0m\u001b[1;33m]\u001b[0m \u001b[1;33m=\u001b[0m \u001b[0marg\u001b[0m\u001b[1;33m\u001b[0m\u001b[1;33m\u001b[0m\u001b[0m\n\u001b[1;32m--> 532\u001b[1;33m         \u001b[1;32mreturn\u001b[0m \u001b[0mf\u001b[0m\u001b[1;33m(\u001b[0m\u001b[1;33m**\u001b[0m\u001b[0mkwargs\u001b[0m\u001b[1;33m)\u001b[0m\u001b[1;33m\u001b[0m\u001b[1;33m\u001b[0m\u001b[0m\n\u001b[0m\u001b[0;32m    533\u001b[0m \u001b[1;33m\u001b[0m\u001b[0m\n\u001b[0;32m    534\u001b[0m     \u001b[1;32mreturn\u001b[0m \u001b[0minner_f\u001b[0m\u001b[1;33m\u001b[0m\u001b[1;33m\u001b[0m\u001b[0m\n",
      "\u001b[1;32m~\\anaconda3\\lib\\site-packages\\xgboost\\core.py\u001b[0m in \u001b[0;36m__init__\u001b[1;34m(self, data, label, weight, base_margin, missing, silent, feature_names, feature_types, nthread, group, qid, label_lower_bound, label_upper_bound, feature_weights, enable_categorical)\u001b[0m\n\u001b[0;32m    641\u001b[0m             \u001b[1;32mreturn\u001b[0m\u001b[1;33m\u001b[0m\u001b[1;33m\u001b[0m\u001b[0m\n\u001b[0;32m    642\u001b[0m \u001b[1;33m\u001b[0m\u001b[0m\n\u001b[1;32m--> 643\u001b[1;33m         handle, feature_names, feature_types = dispatch_data_backend(\n\u001b[0m\u001b[0;32m    644\u001b[0m             \u001b[0mdata\u001b[0m\u001b[1;33m,\u001b[0m\u001b[1;33m\u001b[0m\u001b[1;33m\u001b[0m\u001b[0m\n\u001b[0;32m    645\u001b[0m             \u001b[0mmissing\u001b[0m\u001b[1;33m=\u001b[0m\u001b[0mself\u001b[0m\u001b[1;33m.\u001b[0m\u001b[0mmissing\u001b[0m\u001b[1;33m,\u001b[0m\u001b[1;33m\u001b[0m\u001b[1;33m\u001b[0m\u001b[0m\n",
      "\u001b[1;32m~\\anaconda3\\lib\\site-packages\\xgboost\\data.py\u001b[0m in \u001b[0;36mdispatch_data_backend\u001b[1;34m(data, missing, threads, feature_names, feature_types, enable_categorical)\u001b[0m\n\u001b[0;32m    894\u001b[0m         \u001b[1;32mreturn\u001b[0m \u001b[0m_from_tuple\u001b[0m\u001b[1;33m(\u001b[0m\u001b[0mdata\u001b[0m\u001b[1;33m,\u001b[0m \u001b[0mmissing\u001b[0m\u001b[1;33m,\u001b[0m \u001b[0mthreads\u001b[0m\u001b[1;33m,\u001b[0m \u001b[0mfeature_names\u001b[0m\u001b[1;33m,\u001b[0m \u001b[0mfeature_types\u001b[0m\u001b[1;33m)\u001b[0m\u001b[1;33m\u001b[0m\u001b[1;33m\u001b[0m\u001b[0m\n\u001b[0;32m    895\u001b[0m     \u001b[1;32mif\u001b[0m \u001b[0m_is_pandas_df\u001b[0m\u001b[1;33m(\u001b[0m\u001b[0mdata\u001b[0m\u001b[1;33m)\u001b[0m\u001b[1;33m:\u001b[0m\u001b[1;33m\u001b[0m\u001b[1;33m\u001b[0m\u001b[0m\n\u001b[1;32m--> 896\u001b[1;33m         return _from_pandas_df(data, enable_categorical, missing, threads,\n\u001b[0m\u001b[0;32m    897\u001b[0m                                feature_names, feature_types)\n\u001b[0;32m    898\u001b[0m     \u001b[1;32mif\u001b[0m \u001b[0m_is_pandas_series\u001b[0m\u001b[1;33m(\u001b[0m\u001b[0mdata\u001b[0m\u001b[1;33m)\u001b[0m\u001b[1;33m:\u001b[0m\u001b[1;33m\u001b[0m\u001b[1;33m\u001b[0m\u001b[0m\n",
      "\u001b[1;32m~\\anaconda3\\lib\\site-packages\\xgboost\\data.py\u001b[0m in \u001b[0;36m_from_pandas_df\u001b[1;34m(data, enable_categorical, missing, nthread, feature_names, feature_types)\u001b[0m\n\u001b[0;32m    343\u001b[0m     \u001b[0mfeature_types\u001b[0m\u001b[1;33m:\u001b[0m \u001b[0mOptional\u001b[0m\u001b[1;33m[\u001b[0m\u001b[0mList\u001b[0m\u001b[1;33m[\u001b[0m\u001b[0mstr\u001b[0m\u001b[1;33m]\u001b[0m\u001b[1;33m]\u001b[0m\u001b[1;33m,\u001b[0m\u001b[1;33m\u001b[0m\u001b[1;33m\u001b[0m\u001b[0m\n\u001b[0;32m    344\u001b[0m ) -> Tuple[ctypes.c_void_p, FeatureNames, Optional[List[str]]]:\n\u001b[1;32m--> 345\u001b[1;33m     data, feature_names, feature_types = _transform_pandas_df(\n\u001b[0m\u001b[0;32m    346\u001b[0m         \u001b[0mdata\u001b[0m\u001b[1;33m,\u001b[0m \u001b[0menable_categorical\u001b[0m\u001b[1;33m,\u001b[0m \u001b[0mfeature_names\u001b[0m\u001b[1;33m,\u001b[0m \u001b[0mfeature_types\u001b[0m\u001b[1;33m\u001b[0m\u001b[1;33m\u001b[0m\u001b[0m\n\u001b[0;32m    347\u001b[0m     )\n",
      "\u001b[1;32m~\\anaconda3\\lib\\site-packages\\xgboost\\data.py\u001b[0m in \u001b[0;36m_transform_pandas_df\u001b[1;34m(data, enable_categorical, feature_names, feature_types, meta, meta_type)\u001b[0m\n\u001b[0;32m    329\u001b[0m \u001b[1;33m\u001b[0m\u001b[0m\n\u001b[0;32m    330\u001b[0m     \u001b[0mdtype\u001b[0m \u001b[1;33m=\u001b[0m \u001b[0mmeta_type\u001b[0m \u001b[1;32mif\u001b[0m \u001b[0mmeta_type\u001b[0m \u001b[1;32melse\u001b[0m \u001b[0mnp\u001b[0m\u001b[1;33m.\u001b[0m\u001b[0mfloat32\u001b[0m\u001b[1;33m\u001b[0m\u001b[1;33m\u001b[0m\u001b[0m\n\u001b[1;32m--> 331\u001b[1;33m     \u001b[0marr\u001b[0m \u001b[1;33m=\u001b[0m \u001b[0mtransformed\u001b[0m\u001b[1;33m.\u001b[0m\u001b[0mvalues\u001b[0m\u001b[1;33m\u001b[0m\u001b[1;33m\u001b[0m\u001b[0m\n\u001b[0m\u001b[0;32m    332\u001b[0m     \u001b[1;32mif\u001b[0m \u001b[0mmeta_type\u001b[0m\u001b[1;33m:\u001b[0m\u001b[1;33m\u001b[0m\u001b[1;33m\u001b[0m\u001b[0m\n\u001b[0;32m    333\u001b[0m         \u001b[0marr\u001b[0m \u001b[1;33m=\u001b[0m \u001b[0marr\u001b[0m\u001b[1;33m.\u001b[0m\u001b[0mastype\u001b[0m\u001b[1;33m(\u001b[0m\u001b[0mmeta_type\u001b[0m\u001b[1;33m)\u001b[0m\u001b[1;33m\u001b[0m\u001b[1;33m\u001b[0m\u001b[0m\n",
      "\u001b[1;32m~\\anaconda3\\lib\\site-packages\\pandas\\core\\frame.py\u001b[0m in \u001b[0;36mvalues\u001b[1;34m(self)\u001b[0m\n\u001b[0;32m  10662\u001b[0m         \"\"\"\n\u001b[0;32m  10663\u001b[0m         \u001b[0mself\u001b[0m\u001b[1;33m.\u001b[0m\u001b[0m_consolidate_inplace\u001b[0m\u001b[1;33m(\u001b[0m\u001b[1;33m)\u001b[0m\u001b[1;33m\u001b[0m\u001b[1;33m\u001b[0m\u001b[0m\n\u001b[1;32m> 10664\u001b[1;33m         \u001b[1;32mreturn\u001b[0m \u001b[0mself\u001b[0m\u001b[1;33m.\u001b[0m\u001b[0m_mgr\u001b[0m\u001b[1;33m.\u001b[0m\u001b[0mas_array\u001b[0m\u001b[1;33m(\u001b[0m\u001b[0mtranspose\u001b[0m\u001b[1;33m=\u001b[0m\u001b[1;32mTrue\u001b[0m\u001b[1;33m)\u001b[0m\u001b[1;33m\u001b[0m\u001b[1;33m\u001b[0m\u001b[0m\n\u001b[0m\u001b[0;32m  10665\u001b[0m \u001b[1;33m\u001b[0m\u001b[0m\n\u001b[0;32m  10666\u001b[0m     \u001b[1;33m@\u001b[0m\u001b[0mdeprecate_nonkeyword_arguments\u001b[0m\u001b[1;33m(\u001b[0m\u001b[0mversion\u001b[0m\u001b[1;33m=\u001b[0m\u001b[1;32mNone\u001b[0m\u001b[1;33m,\u001b[0m \u001b[0mallowed_args\u001b[0m\u001b[1;33m=\u001b[0m\u001b[1;33m[\u001b[0m\u001b[1;34m\"self\"\u001b[0m\u001b[1;33m]\u001b[0m\u001b[1;33m)\u001b[0m\u001b[1;33m\u001b[0m\u001b[1;33m\u001b[0m\u001b[0m\n",
      "\u001b[1;32m~\\anaconda3\\lib\\site-packages\\pandas\\core\\internals\\managers.py\u001b[0m in \u001b[0;36mas_array\u001b[1;34m(self, transpose, dtype, copy, na_value)\u001b[0m\n\u001b[0;32m   1464\u001b[0m                     \u001b[0marr\u001b[0m \u001b[1;33m=\u001b[0m \u001b[0marr\u001b[0m\u001b[1;33m.\u001b[0m\u001b[0mastype\u001b[0m\u001b[1;33m(\u001b[0m\u001b[0mdtype\u001b[0m\u001b[1;33m,\u001b[0m \u001b[0mcopy\u001b[0m\u001b[1;33m=\u001b[0m\u001b[1;32mFalse\u001b[0m\u001b[1;33m)\u001b[0m  \u001b[1;31m# type: ignore[arg-type]\u001b[0m\u001b[1;33m\u001b[0m\u001b[1;33m\u001b[0m\u001b[0m\n\u001b[0;32m   1465\u001b[0m         \u001b[1;32melse\u001b[0m\u001b[1;33m:\u001b[0m\u001b[1;33m\u001b[0m\u001b[1;33m\u001b[0m\u001b[0m\n\u001b[1;32m-> 1466\u001b[1;33m             \u001b[0marr\u001b[0m \u001b[1;33m=\u001b[0m \u001b[0mself\u001b[0m\u001b[1;33m.\u001b[0m\u001b[0m_interleave\u001b[0m\u001b[1;33m(\u001b[0m\u001b[0mdtype\u001b[0m\u001b[1;33m=\u001b[0m\u001b[0mdtype\u001b[0m\u001b[1;33m,\u001b[0m \u001b[0mna_value\u001b[0m\u001b[1;33m=\u001b[0m\u001b[0mna_value\u001b[0m\u001b[1;33m)\u001b[0m\u001b[1;33m\u001b[0m\u001b[1;33m\u001b[0m\u001b[0m\n\u001b[0m\u001b[0;32m   1467\u001b[0m             \u001b[1;31m# The underlying data was copied within _interleave\u001b[0m\u001b[1;33m\u001b[0m\u001b[1;33m\u001b[0m\u001b[0m\n\u001b[0;32m   1468\u001b[0m             \u001b[0mcopy\u001b[0m \u001b[1;33m=\u001b[0m \u001b[1;32mFalse\u001b[0m\u001b[1;33m\u001b[0m\u001b[1;33m\u001b[0m\u001b[0m\n",
      "\u001b[1;32m~\\anaconda3\\lib\\site-packages\\pandas\\core\\internals\\managers.py\u001b[0m in \u001b[0;36m_interleave\u001b[1;34m(self, dtype, na_value)\u001b[0m\n\u001b[0;32m   1500\u001b[0m         \u001b[1;31m# Tuple[Any, Union[int, Sequence[int]]], List[Any], _DTypeDict,\u001b[0m\u001b[1;33m\u001b[0m\u001b[1;33m\u001b[0m\u001b[0m\n\u001b[0;32m   1501\u001b[0m         \u001b[1;31m# Tuple[Any, Any]]]\"\u001b[0m\u001b[1;33m\u001b[0m\u001b[1;33m\u001b[0m\u001b[0m\n\u001b[1;32m-> 1502\u001b[1;33m         \u001b[0mresult\u001b[0m \u001b[1;33m=\u001b[0m \u001b[0mnp\u001b[0m\u001b[1;33m.\u001b[0m\u001b[0mempty\u001b[0m\u001b[1;33m(\u001b[0m\u001b[0mself\u001b[0m\u001b[1;33m.\u001b[0m\u001b[0mshape\u001b[0m\u001b[1;33m,\u001b[0m \u001b[0mdtype\u001b[0m\u001b[1;33m=\u001b[0m\u001b[0mdtype\u001b[0m\u001b[1;33m)\u001b[0m  \u001b[1;31m# type: ignore[arg-type]\u001b[0m\u001b[1;33m\u001b[0m\u001b[1;33m\u001b[0m\u001b[0m\n\u001b[0m\u001b[0;32m   1503\u001b[0m \u001b[1;33m\u001b[0m\u001b[0m\n\u001b[0;32m   1504\u001b[0m         \u001b[0mitemmask\u001b[0m \u001b[1;33m=\u001b[0m \u001b[0mnp\u001b[0m\u001b[1;33m.\u001b[0m\u001b[0mzeros\u001b[0m\u001b[1;33m(\u001b[0m\u001b[0mself\u001b[0m\u001b[1;33m.\u001b[0m\u001b[0mshape\u001b[0m\u001b[1;33m[\u001b[0m\u001b[1;36m0\u001b[0m\u001b[1;33m]\u001b[0m\u001b[1;33m)\u001b[0m\u001b[1;33m\u001b[0m\u001b[1;33m\u001b[0m\u001b[0m\n",
      "\u001b[1;31mMemoryError\u001b[0m: Unable to allocate 713. GiB for an array with shape (221997, 431026) and data type float64"
     ]
    }
   ],
   "source": [
    "xgb_v1 = XGBClassifier(random_state=42, n_jobs=-1)\n",
    "fitpredreport(xgb_v1)"
   ]
  },
  {
   "cell_type": "markdown",
   "id": "5a80f1d7",
   "metadata": {
    "hidden": true
   },
   "source": [
    "The RandomForest model performed terribly, while the XGBoost classifer wouldn't run at all due to memory allocation. We are not going to attempt to model with these for further iteration of vectorizer."
   ]
  },
  {
   "cell_type": "markdown",
   "id": "51c08c46",
   "metadata": {},
   "source": [
    "## tfidf vectorizer, min 5"
   ]
  },
  {
   "cell_type": "markdown",
   "id": "fd98ada9",
   "metadata": {},
   "source": [
    "Vectorizing with min_df of 5. Takes about 3 and a half minutes and generates a vocabulary of 75,436."
   ]
  },
  {
   "cell_type": "code",
   "execution_count": 7,
   "id": "fb291df1",
   "metadata": {
    "ExecuteTime": {
     "end_time": "2022-05-05T01:06:37.769642Z",
     "start_time": "2022-05-05T01:03:10.367009Z"
    },
    "scrolled": false
   },
   "outputs": [
    {
     "name": "stdout",
     "output_type": "stream",
     "text": [
      "Multinomial Naive Bayes\n",
      "              precision    recall  f1-score   support\n",
      "\n",
      "  no_spoiler       0.75      0.98      0.85     39569\n",
      "     spoiler       0.67      0.11      0.19     14309\n",
      "\n",
      "    accuracy                           0.75     53878\n",
      "   macro avg       0.71      0.55      0.52     53878\n",
      "weighted avg       0.73      0.75      0.68     53878\n",
      "\n"
     ]
    },
    {
     "data": {
      "image/png": "[encoded data removed]",
      "text/plain": [
       "<Figure size 432x288 with 2 Axes>"
      ]
     },
     "metadata": {
      "needs_background": "light"
     },
     "output_type": "display_data"
    },
    {
     "name": "stdout",
     "output_type": "stream",
     "text": [
      "--------------------------------------------\n",
      "Logistic Regression\n",
      "[LibLinear]              precision    recall  f1-score   support\n",
      "\n",
      "  no_spoiler       0.80      0.92      0.86     39569\n",
      "     spoiler       0.63      0.38      0.47     14309\n",
      "\n",
      "    accuracy                           0.78     53878\n",
      "   macro avg       0.72      0.65      0.67     53878\n",
      "weighted avg       0.76      0.78      0.76     53878\n",
      "\n"
     ]
    },
    {
     "data": {
      "image/png": "[encoded data removed]",
      "text/plain": [
       "<Figure size 432x288 with 2 Axes>"
      ]
     },
     "metadata": {
      "needs_background": "light"
     },
     "output_type": "display_data"
    },
    {
     "name": "stdout",
     "output_type": "stream",
     "text": [
      "--------------------------------------------\n",
      "Support Vector\n",
      "              precision    recall  f1-score   support\n",
      "\n",
      "  no_spoiler       0.80      0.92      0.86     39569\n",
      "     spoiler       0.63      0.37      0.47     14309\n",
      "\n",
      "    accuracy                           0.78     53878\n",
      "   macro avg       0.72      0.65      0.66     53878\n",
      "weighted avg       0.76      0.78      0.75     53878\n",
      "\n"
     ]
    },
    {
     "data": {
      "image/png": "[encoded data removed]",
      "text/plain": [
       "<Figure size 432x288 with 2 Axes>"
      ]
     },
     "metadata": {
      "needs_background": "light"
     },
     "output_type": "display_data"
    }
   ],
   "source": [
    "tfidf_min_five = TfidfVectorizer(min_df=5)\n",
    "\n",
    "test_models(tfidf_min_five)"
   ]
  },
  {
   "cell_type": "markdown",
   "id": "95b3dda1",
   "metadata": {
    "ExecuteTime": {
     "end_time": "2022-05-05T01:07:06.963059Z",
     "start_time": "2022-05-05T01:07:06.951127Z"
    }
   },
   "source": [
    "We certainly see some improvement by restricting the occurance of the words, i.e getting rid of words only used a few times. Lets up the min_df to 8 and see if we can maintain the models performance with an even smaller library"
   ]
  },
  {
   "cell_type": "markdown",
   "id": "3d655d9c",
   "metadata": {},
   "source": [
    "## tfidf vectorizer, min 8"
   ]
  },
  {
   "cell_type": "markdown",
   "id": "93256a89",
   "metadata": {},
   "source": [
    "Vectorizing with min_df of 8. Takes about three minutes and generates a vocabulary of 62,746"
   ]
  },
  {
   "cell_type": "code",
   "execution_count": 10,
   "id": "ed13013a",
   "metadata": {
    "ExecuteTime": {
     "end_time": "2022-05-05T01:13:52.256540Z",
     "start_time": "2022-05-05T01:10:42.748293Z"
    },
    "scrolled": false
   },
   "outputs": [
    {
     "name": "stdout",
     "output_type": "stream",
     "text": [
      "Multinomial Naive Bayes\n",
      "              precision    recall  f1-score   support\n",
      "\n",
      "  no_spoiler       0.75      0.98      0.85     39569\n",
      "     spoiler       0.66      0.12      0.21     14309\n",
      "\n",
      "    accuracy                           0.75     53878\n",
      "   macro avg       0.71      0.55      0.53     53878\n",
      "weighted avg       0.73      0.75      0.68     53878\n",
      "\n"
     ]
    },
    {
     "data": {
      "image/png": "[encoded data removed]",
      "text/plain": [
       "<Figure size 432x288 with 2 Axes>"
      ]
     },
     "metadata": {
      "needs_background": "light"
     },
     "output_type": "display_data"
    },
    {
     "name": "stdout",
     "output_type": "stream",
     "text": [
      "--------------------------------------------\n",
      "Logistic Regression\n",
      "[LibLinear]              precision    recall  f1-score   support\n",
      "\n",
      "  no_spoiler       0.80      0.92      0.86     39569\n",
      "     spoiler       0.63      0.38      0.47     14309\n",
      "\n",
      "    accuracy                           0.78     53878\n",
      "   macro avg       0.72      0.65      0.67     53878\n",
      "weighted avg       0.76      0.78      0.76     53878\n",
      "\n"
     ]
    },
    {
     "data": {
      "image/png": "[encoded data removed]",
      "text/plain": [
       "<Figure size 432x288 with 2 Axes>"
      ]
     },
     "metadata": {
      "needs_background": "light"
     },
     "output_type": "display_data"
    },
    {
     "name": "stdout",
     "output_type": "stream",
     "text": [
      "--------------------------------------------\n",
      "Support Vector\n",
      "              precision    recall  f1-score   support\n",
      "\n",
      "  no_spoiler       0.80      0.92      0.86     39569\n",
      "     spoiler       0.63      0.37      0.47     14309\n",
      "\n",
      "    accuracy                           0.78     53878\n",
      "   macro avg       0.72      0.65      0.66     53878\n",
      "weighted avg       0.76      0.78      0.75     53878\n",
      "\n"
     ]
    },
    {
     "data": {
      "image/png": "[encoded data removed]",
      "text/plain": [
       "<Figure size 432x288 with 2 Axes>"
      ]
     },
     "metadata": {
      "needs_background": "light"
     },
     "output_type": "display_data"
    }
   ],
   "source": [
    "tfidf_min_eight = TfidfVectorizer(min_df=8)\n",
    "\n",
    "test_models(tfidf_min_eight)"
   ]
  },
  {
   "cell_type": "code",
   "execution_count": 11,
   "id": "eabd4101",
   "metadata": {
    "ExecuteTime": {
     "end_time": "2022-05-05T01:15:08.070683Z",
     "start_time": "2022-05-05T01:15:08.054315Z"
    }
   },
   "outputs": [
    {
     "data": {
      "text/plain": [
       "62746"
      ]
     },
     "execution_count": 11,
     "metadata": {},
     "output_type": "execute_result"
    }
   ],
   "source": [
    "len(tfidf_min_eight.vocabulary_)"
   ]
  },
  {
   "cell_type": "markdown",
   "id": "909426bc",
   "metadata": {},
   "source": [
    "Increasing the minimum did improve our model much, save for the naive bayes model (but that 'improvement' is minimal). Lets add in bigrams, keeping our min_df at 8 and see if there can be any more improvement."
   ]
  },
  {
   "cell_type": "markdown",
   "id": "5bc9bbf4",
   "metadata": {},
   "source": [
    "## tfidf vectorizer, min 8 adding bigrams"
   ]
  },
  {
   "cell_type": "markdown",
   "id": "9175bb5d",
   "metadata": {},
   "source": [
    "Vectorizing with bigrams and a min_df of 8. Takes about 15 minutes and generates a vocabulary of 987,170"
   ]
  },
  {
   "cell_type": "code",
   "execution_count": 12,
   "id": "78622afd",
   "metadata": {
    "ExecuteTime": {
     "end_time": "2022-05-05T01:33:01.191593Z",
     "start_time": "2022-05-05T01:17:15.366801Z"
    },
    "scrolled": false
   },
   "outputs": [
    {
     "name": "stdout",
     "output_type": "stream",
     "text": [
      "Multinomial Naive Bayes\n",
      "              precision    recall  f1-score   support\n",
      "\n",
      "  no_spoiler       0.74      0.99      0.85     39569\n",
      "     spoiler       0.77      0.05      0.10     14309\n",
      "\n",
      "    accuracy                           0.74     53878\n",
      "   macro avg       0.76      0.52      0.48     53878\n",
      "weighted avg       0.75      0.74      0.65     53878\n",
      "\n"
     ]
    },
    {
     "data": {
      "image/png": "[encoded data removed]",
      "text/plain": [
       "<Figure size 432x288 with 2 Axes>"
      ]
     },
     "metadata": {
      "needs_background": "light"
     },
     "output_type": "display_data"
    },
    {
     "name": "stdout",
     "output_type": "stream",
     "text": [
      "--------------------------------------------\n",
      "Logistic Regression\n",
      "[LibLinear]              precision    recall  f1-score   support\n",
      "\n",
      "  no_spoiler       0.81      0.92      0.86     39569\n",
      "     spoiler       0.64      0.40      0.49     14309\n",
      "\n",
      "    accuracy                           0.78     53878\n",
      "   macro avg       0.73      0.66      0.68     53878\n",
      "weighted avg       0.76      0.78      0.76     53878\n",
      "\n"
     ]
    },
    {
     "data": {
      "image/png": "[encoded data removed]",
      "text/plain": [
       "<Figure size 432x288 with 2 Axes>"
      ]
     },
     "metadata": {
      "needs_background": "light"
     },
     "output_type": "display_data"
    },
    {
     "name": "stdout",
     "output_type": "stream",
     "text": [
      "--------------------------------------------\n",
      "Support Vector\n",
      "              precision    recall  f1-score   support\n",
      "\n",
      "  no_spoiler       0.81      0.91      0.86     39569\n",
      "     spoiler       0.61      0.41      0.49     14309\n",
      "\n",
      "    accuracy                           0.77     53878\n",
      "   macro avg       0.71      0.66      0.67     53878\n",
      "weighted avg       0.76      0.77      0.76     53878\n",
      "\n"
     ]
    },
    {
     "data": {
      "image/png": "[encoded data removed]",
      "text/plain": [
       "<Figure size 432x288 with 2 Axes>"
      ]
     },
     "metadata": {
      "needs_background": "light"
     },
     "output_type": "display_data"
    }
   ],
   "source": [
    "tfidf_min_eight_bi = TfidfVectorizer(min_df=8, ngram_range=(1,2))\n",
    "\n",
    "test_models(tfidf_min_eight_bi)"
   ]
  },
  {
   "cell_type": "markdown",
   "id": "705c9cef",
   "metadata": {
    "ExecuteTime": {
     "end_time": "2022-05-05T01:45:34.969742Z",
     "start_time": "2022-05-05T01:45:34.958819Z"
    }
   },
   "source": [
    "Still seeing improvment, but it's kind of plateauing. Lets add in trigrams and see how it looks."
   ]
  },
  {
   "cell_type": "markdown",
   "id": "7546d01a",
   "metadata": {},
   "source": [
    "## tfidf vectorizer, min 8 adding trigrams"
   ]
  },
  {
   "cell_type": "markdown",
   "id": "04d23e71",
   "metadata": {},
   "source": [
    "Vectorizing with trigrams and a min_df of 8. Takes about an hour and generates a vocabulary of 2,322,120"
   ]
  },
  {
   "cell_type": "code",
   "execution_count": 16,
   "id": "88e1a4d7",
   "metadata": {
    "ExecuteTime": {
     "end_time": "2022-05-05T02:41:49.705272Z",
     "start_time": "2022-05-05T01:46:40.244325Z"
    }
   },
   "outputs": [
    {
     "name": "stdout",
     "output_type": "stream",
     "text": [
      "Multinomial Naive Bayes\n",
      "              precision    recall  f1-score   support\n",
      "\n",
      "  no_spoiler       0.74      1.00      0.85     39569\n",
      "     spoiler       0.85      0.02      0.03     14309\n",
      "\n",
      "    accuracy                           0.74     53878\n",
      "   macro avg       0.79      0.51      0.44     53878\n",
      "weighted avg       0.77      0.74      0.63     53878\n",
      "\n"
     ]
    },
    {
     "data": {
      "image/png": "[encoded data removed]",
      "text/plain": [
       "<Figure size 432x288 with 2 Axes>"
      ]
     },
     "metadata": {
      "needs_background": "light"
     },
     "output_type": "display_data"
    },
    {
     "name": "stdout",
     "output_type": "stream",
     "text": [
      "--------------------------------------------\n",
      "Logistic Regression\n",
      "[LibLinear]              precision    recall  f1-score   support\n",
      "\n",
      "  no_spoiler       0.81      0.93      0.86     39569\n",
      "     spoiler       0.66      0.39      0.49     14309\n",
      "\n",
      "    accuracy                           0.78     53878\n",
      "   macro avg       0.73      0.66      0.68     53878\n",
      "weighted avg       0.77      0.78      0.76     53878\n",
      "\n"
     ]
    },
    {
     "data": {
      "image/png": "[encoded data removed]",
      "text/plain": [
       "<Figure size 432x288 with 2 Axes>"
      ]
     },
     "metadata": {
      "needs_background": "light"
     },
     "output_type": "display_data"
    },
    {
     "name": "stdout",
     "output_type": "stream",
     "text": [
      "--------------------------------------------\n",
      "Support Vector\n",
      "              precision    recall  f1-score   support\n",
      "\n",
      "  no_spoiler       0.81      0.91      0.86     39569\n",
      "     spoiler       0.63      0.40      0.49     14309\n",
      "\n",
      "    accuracy                           0.78     53878\n",
      "   macro avg       0.72      0.66      0.68     53878\n",
      "weighted avg       0.76      0.78      0.76     53878\n",
      "\n"
     ]
    },
    {
     "data": {
      "image/png": "[encoded data removed]",
      "text/plain": [
       "<Figure size 432x288 with 2 Axes>"
      ]
     },
     "metadata": {
      "needs_background": "light"
     },
     "output_type": "display_data"
    }
   ],
   "source": [
    "tfidf_min_eight_tri = TfidfVectorizer(min_df=8, ngram_range=(1,3))\n",
    "\n",
    "test_models(tfidf_min_eight_tri)"
   ]
  },
  {
   "cell_type": "markdown",
   "id": "87d7247e",
   "metadata": {},
   "source": [
    "# BERT"
   ]
  },
  {
   "cell_type": "markdown",
   "id": "723e137e",
   "metadata": {},
   "source": [
    "[Inspiration](https://github.com/jamescalam/transformers/tree/main/course/project_build_tf_sentiment_model)"
   ]
  },
  {
   "cell_type": "markdown",
   "id": "899f0d2c",
   "metadata": {
    "heading_collapsed": true
   },
   "source": [
    "## preprocessing"
   ]
  },
  {
   "cell_type": "code",
   "execution_count": 23,
   "id": "e8ed69d0",
   "metadata": {
    "ExecuteTime": {
     "end_time": "2022-05-04T01:07:33.902918Z",
     "start_time": "2022-05-04T01:07:33.885062Z"
    },
    "hidden": true
   },
   "outputs": [
    {
     "data": {
      "text/html": [
       "<div>\n",
       "<style scoped>\n",
       "    .dataframe tbody tr th:only-of-type {\n",
       "        vertical-align: middle;\n",
       "    }\n",
       "\n",
       "    .dataframe tbody tr th {\n",
       "        vertical-align: top;\n",
       "    }\n",
       "\n",
       "    .dataframe thead th {\n",
       "        text-align: right;\n",
       "    }\n",
       "</style>\n",
       "<table border=\"1\" class=\"dataframe\">\n",
       "  <thead>\n",
       "    <tr style=\"text-align: right;\">\n",
       "      <th></th>\n",
       "      <th>is_spoiler</th>\n",
       "      <th>review_text</th>\n",
       "    </tr>\n",
       "  </thead>\n",
       "  <tbody>\n",
       "    <tr>\n",
       "      <th>0</th>\n",
       "      <td>1</td>\n",
       "      <td>The second Tom Clancy novel made into a film (...</td>\n",
       "    </tr>\n",
       "    <tr>\n",
       "      <th>1</th>\n",
       "      <td>1</td>\n",
       "      <td>The second in what looks like becoming the 'Ja...</td>\n",
       "    </tr>\n",
       "    <tr>\n",
       "      <th>2</th>\n",
       "      <td>1</td>\n",
       "      <td>I was not a fan of The Hunt For Red October. I...</td>\n",
       "    </tr>\n",
       "    <tr>\n",
       "      <th>3</th>\n",
       "      <td>1</td>\n",
       "      <td>Jack Ryan (Harrison Ford) is a CIA analyst who...</td>\n",
       "    </tr>\n",
       "    <tr>\n",
       "      <th>4</th>\n",
       "      <td>1</td>\n",
       "      <td>This was one of the big summer movies of 1992....</td>\n",
       "    </tr>\n",
       "    <tr>\n",
       "      <th>...</th>\n",
       "      <td>...</td>\n",
       "      <td>...</td>\n",
       "    </tr>\n",
       "    <tr>\n",
       "      <th>538777</th>\n",
       "      <td>0</td>\n",
       "      <td>Dunkirk is a beautifully done movie that has h...</td>\n",
       "    </tr>\n",
       "    <tr>\n",
       "      <th>538778</th>\n",
       "      <td>0</td>\n",
       "      <td>Dunkirk is one of the rare cases a film receiv...</td>\n",
       "    </tr>\n",
       "    <tr>\n",
       "      <th>538779</th>\n",
       "      <td>0</td>\n",
       "      <td>Film gave insufficient background on what was ...</td>\n",
       "    </tr>\n",
       "    <tr>\n",
       "      <th>538780</th>\n",
       "      <td>0</td>\n",
       "      <td>In screen writing, a shot is an image captured...</td>\n",
       "    </tr>\n",
       "    <tr>\n",
       "      <th>538781</th>\n",
       "      <td>0</td>\n",
       "      <td>In a movie that entirely engulfs you it's rath...</td>\n",
       "    </tr>\n",
       "  </tbody>\n",
       "</table>\n",
       "<p>538782 rows × 2 columns</p>\n",
       "</div>"
      ],
      "text/plain": [
       "        is_spoiler                                        review_text\n",
       "0                1  The second Tom Clancy novel made into a film (...\n",
       "1                1  The second in what looks like becoming the 'Ja...\n",
       "2                1  I was not a fan of The Hunt For Red October. I...\n",
       "3                1  Jack Ryan (Harrison Ford) is a CIA analyst who...\n",
       "4                1  This was one of the big summer movies of 1992....\n",
       "...            ...                                                ...\n",
       "538777           0  Dunkirk is a beautifully done movie that has h...\n",
       "538778           0  Dunkirk is one of the rare cases a film receiv...\n",
       "538779           0  Film gave insufficient background on what was ...\n",
       "538780           0  In screen writing, a shot is an image captured...\n",
       "538781           0  In a movie that entirely engulfs you it's rath...\n",
       "\n",
       "[538782 rows x 2 columns]"
      ]
     },
     "execution_count": 23,
     "metadata": {},
     "output_type": "execute_result"
    }
   ],
   "source": [
    "large_df"
   ]
  },
  {
   "cell_type": "code",
   "execution_count": 22,
   "id": "88b091bd",
   "metadata": {
    "ExecuteTime": {
     "end_time": "2022-05-04T01:06:49.827986Z",
     "start_time": "2022-05-04T01:06:49.808615Z"
    },
    "hidden": true
   },
   "outputs": [
    {
     "data": {
      "text/plain": [
       "(538782, 512)"
      ]
     },
     "execution_count": 22,
     "metadata": {},
     "output_type": "execute_result"
    }
   ],
   "source": [
    "seq_len = 512\n",
    "num_samples = len(large_df)\n",
    "\n",
    "num_samples, seq_len"
   ]
  },
  {
   "cell_type": "code",
   "execution_count": 24,
   "id": "314a5525",
   "metadata": {
    "ExecuteTime": {
     "end_time": "2022-05-04T02:01:25.134661Z",
     "start_time": "2022-05-04T01:09:16.886110Z"
    },
    "hidden": true
   },
   "outputs": [
    {
     "data": {
      "application/vnd.jupyter.widget-view+json": {
       "model_id": "8b0c868cdfb24758abe01f8ae96b82d3",
       "version_major": 2,
       "version_minor": 0
      },
      "text/plain": [
       "Downloading:   0%|          | 0.00/208k [00:00<?, ?B/s]"
      ]
     },
     "metadata": {},
     "output_type": "display_data"
    },
    {
     "data": {
      "application/vnd.jupyter.widget-view+json": {
       "model_id": "61332bf6c30e487ca2c7b03e127409b1",
       "version_major": 2,
       "version_minor": 0
      },
      "text/plain": [
       "Downloading:   0%|          | 0.00/29.0 [00:00<?, ?B/s]"
      ]
     },
     "metadata": {},
     "output_type": "display_data"
    }
   ],
   "source": [
    "from transformers import BertTokenizer\n",
    "\n",
    "tokenizer = BertTokenizer.from_pretrained('bert-base-cased')\n",
    "\n",
    "tokens = tokenizer(large_df['review_text'].tolist(),\n",
    "                   max_length=seq_len,\n",
    "                   truncation=True,\n",
    "                   padding='max_length',\n",
    "                   add_special_tokens=True,\n",
    "                   return_tensors='np')"
   ]
  },
  {
   "cell_type": "code",
   "execution_count": 25,
   "id": "8e79d64a",
   "metadata": {
    "ExecuteTime": {
     "end_time": "2022-05-04T02:01:53.231895Z",
     "start_time": "2022-05-04T02:01:47.425078Z"
    },
    "hidden": true
   },
   "outputs": [],
   "source": [
    "with open('review-xids.npy', 'wb') as f:\n",
    "    np.save(f, tokens['input_ids'])\n",
    "    \n",
    "with open('review-xmask.npy', 'wb') as f:\n",
    "    np.save(f, tokens['attention_mask'])"
   ]
  },
  {
   "cell_type": "code",
   "execution_count": null,
   "id": "ef542f21",
   "metadata": {
    "hidden": true
   },
   "outputs": [],
   "source": [
    "del tokens"
   ]
  },
  {
   "cell_type": "code",
   "execution_count": 26,
   "id": "400deeae",
   "metadata": {
    "ExecuteTime": {
     "end_time": "2022-05-04T02:01:53.401031Z",
     "start_time": "2022-05-04T02:01:53.388135Z"
    },
    "hidden": true
   },
   "outputs": [],
   "source": [
    "arr = large_df['is_spoiler'].values"
   ]
  },
  {
   "cell_type": "code",
   "execution_count": 27,
   "id": "7f743740",
   "metadata": {
    "ExecuteTime": {
     "end_time": "2022-05-04T02:01:53.877686Z",
     "start_time": "2022-05-04T02:01:53.512632Z"
    },
    "hidden": true
   },
   "outputs": [
    {
     "data": {
      "text/plain": [
       "(538782, 2)"
      ]
     },
     "execution_count": 27,
     "metadata": {},
     "output_type": "execute_result"
    }
   ],
   "source": [
    "labels = np.zeros((num_samples, arr.max()+1))\n",
    "labels.shape"
   ]
  },
  {
   "cell_type": "code",
   "execution_count": 29,
   "id": "fec42df9",
   "metadata": {
    "ExecuteTime": {
     "end_time": "2022-05-04T10:58:29.797330Z",
     "start_time": "2022-05-04T10:58:29.775011Z"
    },
    "hidden": true
   },
   "outputs": [
    {
     "data": {
      "text/plain": [
       "array([[0., 1.],\n",
       "       [0., 1.],\n",
       "       [0., 1.],\n",
       "       ...,\n",
       "       [1., 0.],\n",
       "       [1., 0.],\n",
       "       [1., 0.]])"
      ]
     },
     "execution_count": 29,
     "metadata": {},
     "output_type": "execute_result"
    }
   ],
   "source": [
    "labels[np.arange(num_samples), arr] = 1\n",
    "labels"
   ]
  },
  {
   "cell_type": "code",
   "execution_count": 30,
   "id": "27de4ab8",
   "metadata": {
    "ExecuteTime": {
     "end_time": "2022-05-04T10:58:33.874336Z",
     "start_time": "2022-05-04T10:58:33.867392Z"
    },
    "hidden": true
   },
   "outputs": [],
   "source": [
    "with open('review-labels.npy', 'wb') as f:\n",
    "    np.save(f, labels)"
   ]
  },
  {
   "cell_type": "markdown",
   "id": "34d9ab67",
   "metadata": {
    "heading_collapsed": true
   },
   "source": [
    "## input pipeline"
   ]
  },
  {
   "cell_type": "code",
   "execution_count": 3,
   "id": "138f4eb4",
   "metadata": {
    "ExecuteTime": {
     "end_time": "2022-05-04T14:32:20.940390Z",
     "start_time": "2022-05-04T14:32:15.934675Z"
    },
    "hidden": true
   },
   "outputs": [],
   "source": [
    "with open('review-xids.npy', 'rb') as f:\n",
    "    Xids = np.load(f, allow_pickle=True)\n",
    "with open('review-xmask.npy', 'rb') as f:\n",
    "    Xmask = np.load(f, allow_pickle=True)\n",
    "with open('review-labels.npy', 'rb') as f:\n",
    "    labels = np.load(f, allow_pickle=True)"
   ]
  },
  {
   "cell_type": "code",
   "execution_count": 4,
   "id": "4eb63968",
   "metadata": {
    "ExecuteTime": {
     "end_time": "2022-05-04T14:32:23.985440Z",
     "start_time": "2022-05-04T14:32:23.842251Z"
    },
    "hidden": true
   },
   "outputs": [],
   "source": [
    "dataset = tf.data.Dataset.from_tensor_slices((Xids, Xmask, labels))"
   ]
  },
  {
   "cell_type": "code",
   "execution_count": 5,
   "id": "ce19b65f",
   "metadata": {
    "ExecuteTime": {
     "end_time": "2022-05-04T14:32:25.000074Z",
     "start_time": "2022-05-04T14:32:24.989163Z"
    },
    "hidden": true
   },
   "outputs": [
    {
     "data": {
      "text/plain": [
       "<TakeDataset element_spec=(TensorSpec(shape=(512,), dtype=tf.int32, name=None), TensorSpec(shape=(512,), dtype=tf.int32, name=None), TensorSpec(shape=(2,), dtype=tf.float64, name=None))>"
      ]
     },
     "execution_count": 5,
     "metadata": {},
     "output_type": "execute_result"
    }
   ],
   "source": [
    "dataset.take(1)"
   ]
  },
  {
   "cell_type": "code",
   "execution_count": 6,
   "id": "05fda990",
   "metadata": {
    "ExecuteTime": {
     "end_time": "2022-05-04T14:32:26.307769Z",
     "start_time": "2022-05-04T14:32:26.225929Z"
    },
    "hidden": true
   },
   "outputs": [
    {
     "data": {
      "text/plain": [
       "<TakeDataset element_spec=({'input_ids': TensorSpec(shape=(512,), dtype=tf.int32, name=None), 'attention_mask': TensorSpec(shape=(512,), dtype=tf.int32, name=None)}, TensorSpec(shape=(2,), dtype=tf.float64, name=None))>"
      ]
     },
     "execution_count": 6,
     "metadata": {},
     "output_type": "execute_result"
    }
   ],
   "source": [
    "def map_func(input_ids, masks, labels):\n",
    "    # we convert our three-item tuple into a two-item tuple where the input item is a dictionary\n",
    "    return {'input_ids': input_ids, 'attention_mask': masks}, labels\n",
    "\n",
    "# then we use the dataset map method to apply this transformation\n",
    "dataset = dataset.map(map_func)\n",
    "\n",
    "dataset.take(1)"
   ]
  },
  {
   "cell_type": "code",
   "execution_count": 7,
   "id": "8a77b72b",
   "metadata": {
    "ExecuteTime": {
     "end_time": "2022-05-04T14:32:28.275193Z",
     "start_time": "2022-05-04T14:32:28.260313Z"
    },
    "hidden": true
   },
   "outputs": [
    {
     "data": {
      "text/plain": [
       "<TakeDataset element_spec=({'input_ids': TensorSpec(shape=(256, 512), dtype=tf.int32, name=None), 'attention_mask': TensorSpec(shape=(256, 512), dtype=tf.int32, name=None)}, TensorSpec(shape=(256, 2), dtype=tf.float64, name=None))>"
      ]
     },
     "execution_count": 7,
     "metadata": {},
     "output_type": "execute_result"
    }
   ],
   "source": [
    "# shuffle data and batch it with batch size 256, dropping the remainder that don't fit\n",
    "\n",
    "batch_size = 256\n",
    "\n",
    "dataset = dataset.shuffle(10000).batch(batch_size, drop_remainder=True)\n",
    "\n",
    "dataset.take(1)"
   ]
  },
  {
   "cell_type": "code",
   "execution_count": 8,
   "id": "f46dc887",
   "metadata": {
    "ExecuteTime": {
     "end_time": "2022-05-04T14:32:29.951811Z",
     "start_time": "2022-05-04T14:32:29.942883Z"
    },
    "hidden": true
   },
   "outputs": [
    {
     "data": {
      "text/plain": [
       "1683"
      ]
     },
     "execution_count": 8,
     "metadata": {},
     "output_type": "execute_result"
    }
   ],
   "source": [
    "# split data into train and validation, 80/20 split\n",
    "\n",
    "split = 0.8\n",
    "\n",
    "# we need to calculate how many batches must be taken to create 90% training set\n",
    "size = int((Xids.shape[0] / batch_size) * split)\n",
    "\n",
    "size"
   ]
  },
  {
   "cell_type": "code",
   "execution_count": 9,
   "id": "1e6a87e0",
   "metadata": {
    "ExecuteTime": {
     "end_time": "2022-05-04T14:32:31.596556Z",
     "start_time": "2022-05-04T14:32:31.592092Z"
    },
    "hidden": true
   },
   "outputs": [],
   "source": [
    "train_ds = dataset.take(size)\n",
    "val_ds = dataset.skip(size)\n",
    "\n",
    "# free up memory\n",
    "del dataset"
   ]
  },
  {
   "cell_type": "code",
   "execution_count": 10,
   "id": "af986a81",
   "metadata": {
    "ExecuteTime": {
     "end_time": "2022-05-04T14:32:49.555535Z",
     "start_time": "2022-05-04T14:32:32.704466Z"
    },
    "hidden": true
   },
   "outputs": [],
   "source": [
    "tf.data.experimental.save(train_ds, 'train')\n",
    "tf.data.experimental.save(val_ds, 'val')"
   ]
  },
  {
   "cell_type": "code",
   "execution_count": 11,
   "id": "51148c76",
   "metadata": {
    "ExecuteTime": {
     "end_time": "2022-05-04T14:32:52.907502Z",
     "start_time": "2022-05-04T14:32:52.890142Z"
    },
    "hidden": true
   },
   "outputs": [
    {
     "data": {
      "text/plain": [
       "({'input_ids': TensorSpec(shape=(256, 512), dtype=tf.int32, name=None),\n",
       "  'attention_mask': TensorSpec(shape=(256, 512), dtype=tf.int32, name=None)},\n",
       " TensorSpec(shape=(256, 2), dtype=tf.float64, name=None))"
      ]
     },
     "execution_count": 11,
     "metadata": {},
     "output_type": "execute_result"
    }
   ],
   "source": [
    "train_ds.element_spec"
   ]
  },
  {
   "cell_type": "code",
   "execution_count": 12,
   "id": "ae8a856d",
   "metadata": {
    "ExecuteTime": {
     "end_time": "2022-05-04T14:32:53.691678Z",
     "start_time": "2022-05-04T14:32:53.683247Z"
    },
    "hidden": true
   },
   "outputs": [
    {
     "data": {
      "text/plain": [
       "True"
      ]
     },
     "execution_count": 12,
     "metadata": {},
     "output_type": "execute_result"
    }
   ],
   "source": [
    "val_ds.element_spec == train_ds.element_spec"
   ]
  },
  {
   "cell_type": "markdown",
   "id": "6f9ca13b",
   "metadata": {
    "heading_collapsed": true
   },
   "source": [
    "## build and train"
   ]
  },
  {
   "cell_type": "code",
   "execution_count": 13,
   "id": "f353abbc",
   "metadata": {
    "ExecuteTime": {
     "end_time": "2022-05-04T14:32:59.151435Z",
     "start_time": "2022-05-04T14:32:59.117211Z"
    },
    "hidden": true
   },
   "outputs": [],
   "source": [
    "ds = tf.data.experimental.load('train', element_spec=train_ds.element_spec)"
   ]
  },
  {
   "cell_type": "code",
   "execution_count": 14,
   "id": "3365ed0e",
   "metadata": {
    "ExecuteTime": {
     "end_time": "2022-05-04T14:33:05.746026Z",
     "start_time": "2022-05-04T14:33:00.333622Z"
    },
    "hidden": true
   },
   "outputs": [
    {
     "name": "stderr",
     "output_type": "stream",
     "text": [
      "Some layers from the model checkpoint at bert-base-cased were not used when initializing TFBertModel: ['mlm___cls', 'nsp___cls']\n",
      "- This IS expected if you are initializing TFBertModel from the checkpoint of a model trained on another task or with another architecture (e.g. initializing a BertForSequenceClassification model from a BertForPreTraining model).\n",
      "- This IS NOT expected if you are initializing TFBertModel from the checkpoint of a model that you expect to be exactly identical (initializing a BertForSequenceClassification model from a BertForSequenceClassification model).\n",
      "All the layers of TFBertModel were initialized from the model checkpoint at bert-base-cased.\n",
      "If your task is similar to the task the model of the checkpoint was trained on, you can already use TFBertModel for predictions without further training.\n"
     ]
    }
   ],
   "source": [
    "bert = TFAutoModel.from_pretrained('bert-base-cased')"
   ]
  },
  {
   "cell_type": "code",
   "execution_count": 15,
   "id": "15adf896",
   "metadata": {
    "ExecuteTime": {
     "end_time": "2022-05-04T14:33:07.312245Z",
     "start_time": "2022-05-04T14:33:07.285935Z"
    },
    "hidden": true
   },
   "outputs": [
    {
     "name": "stdout",
     "output_type": "stream",
     "text": [
      "Model: \"tf_bert_model\"\n",
      "_________________________________________________________________\n",
      " Layer (type)                Output Shape              Param #   \n",
      "=================================================================\n",
      " bert (TFBertMainLayer)      multiple                  108310272 \n",
      "                                                                 \n",
      "=================================================================\n",
      "Total params: 108,310,272\n",
      "Trainable params: 108,310,272\n",
      "Non-trainable params: 0\n",
      "_________________________________________________________________\n"
     ]
    }
   ],
   "source": [
    "bert.summary()"
   ]
  },
  {
   "cell_type": "code",
   "execution_count": 16,
   "id": "4c6891b5",
   "metadata": {
    "ExecuteTime": {
     "end_time": "2022-05-04T14:33:28.749419Z",
     "start_time": "2022-05-04T14:33:23.714724Z"
    },
    "hidden": true
   },
   "outputs": [],
   "source": [
    "# two input layers, we ensure layer name variables match to dictionary keys in TF dataset\n",
    "input_ids = tf.keras.layers.Input(shape=(512,), name='input_ids', dtype='int32')\n",
    "mask = tf.keras.layers.Input(shape=(512,), name='attention_mask', dtype='int32')\n",
    "\n",
    "# we access the transformer model within our bert object using the bert attribute (eg bert.bert instead of bert)\n",
    "embeddings = bert.bert(input_ids, attention_mask=mask)[1]  # access final activations (alread max-pooled) [1]\n",
    "# convert bert embeddings into binary output\n",
    "x = tf.keras.layers.Dense(1024, activation='relu')(embeddings)\n",
    "y = tf.keras.layers.Dense(2, activation='sigmoid', name='outputs')(x)"
   ]
  },
  {
   "cell_type": "code",
   "execution_count": 17,
   "id": "7c08f7c0",
   "metadata": {
    "ExecuteTime": {
     "end_time": "2022-05-04T14:33:30.838151Z",
     "start_time": "2022-05-04T14:33:30.798994Z"
    },
    "hidden": true
   },
   "outputs": [
    {
     "name": "stdout",
     "output_type": "stream",
     "text": [
      "Model: \"model\"\n",
      "__________________________________________________________________________________________________\n",
      " Layer (type)                   Output Shape         Param #     Connected to                     \n",
      "==================================================================================================\n",
      " input_ids (InputLayer)         [(None, 512)]        0           []                               \n",
      "                                                                                                  \n",
      " attention_mask (InputLayer)    [(None, 512)]        0           []                               \n",
      "                                                                                                  \n",
      " bert (TFBertMainLayer)         TFBaseModelOutputWi  108310272   ['input_ids[0][0]',              \n",
      "                                thPoolingAndCrossAt               'attention_mask[0][0]']         \n",
      "                                tentions(last_hidde                                               \n",
      "                                n_state=(None, 512,                                               \n",
      "                                 768),                                                            \n",
      "                                 pooler_output=(Non                                               \n",
      "                                e, 768),                                                          \n",
      "                                 past_key_values=No                                               \n",
      "                                ne, hidden_states=N                                               \n",
      "                                one, attentions=Non                                               \n",
      "                                e, cross_attentions                                               \n",
      "                                =None)                                                            \n",
      "                                                                                                  \n",
      " dense (Dense)                  (None, 1024)         787456      ['bert[0][1]']                   \n",
      "                                                                                                  \n",
      " outputs (Dense)                (None, 2)            2050        ['dense[0][0]']                  \n",
      "                                                                                                  \n",
      "==================================================================================================\n",
      "Total params: 109,099,778\n",
      "Trainable params: 789,506\n",
      "Non-trainable params: 108,310,272\n",
      "__________________________________________________________________________________________________\n"
     ]
    }
   ],
   "source": [
    "# initialize model\n",
    "model = tf.keras.Model(inputs=[input_ids, mask], outputs=y)\n",
    "\n",
    "# (optional) freeze bert layer\n",
    "model.layers[2].trainable = False\n",
    "\n",
    "# print out model summary\n",
    "model.summary()"
   ]
  },
  {
   "cell_type": "code",
   "execution_count": 18,
   "id": "5a7aaab2",
   "metadata": {
    "ExecuteTime": {
     "end_time": "2022-05-04T14:33:33.977691Z",
     "start_time": "2022-05-04T14:33:33.950410Z"
    },
    "hidden": true
   },
   "outputs": [],
   "source": [
    "optimizer = tf.keras.optimizers.Adam(learning_rate=1e-5, decay=1e-6)\n",
    "loss = tf.keras.losses.BinaryCrossentropy()\n",
    "acc = tf.keras.metrics.CategoricalAccuracy('accuracy')\n",
    "\n",
    "model.compile(optimizer=optimizer, loss=loss, metrics=[acc])"
   ]
  },
  {
   "cell_type": "code",
   "execution_count": 19,
   "id": "f077e161",
   "metadata": {
    "ExecuteTime": {
     "end_time": "2022-05-04T14:33:35.282138Z",
     "start_time": "2022-05-04T14:33:35.240473Z"
    },
    "hidden": true
   },
   "outputs": [
    {
     "data": {
      "text/plain": [
       "<TakeDataset element_spec=({'input_ids': TensorSpec(shape=(256, 512), dtype=tf.int32, name=None), 'attention_mask': TensorSpec(shape=(256, 512), dtype=tf.int32, name=None)}, TensorSpec(shape=(256, 2), dtype=tf.float64, name=None))>"
      ]
     },
     "execution_count": 19,
     "metadata": {},
     "output_type": "execute_result"
    }
   ],
   "source": [
    "element_spec = ({'input_ids': tf.TensorSpec(shape=(256, 512), dtype=tf.int32, name=None),\n",
    "                 'attention_mask': tf.TensorSpec(shape=(256, 512), dtype=tf.int32, name=None)},\n",
    "                tf.TensorSpec(shape=(256, 2), dtype=tf.float64, name=None))\n",
    "\n",
    "# load the training and validation sets\n",
    "train_ds = tf.data.experimental.load('train', element_spec=element_spec)\n",
    "val_ds = tf.data.experimental.load('val', element_spec=element_spec)\n",
    "\n",
    "# view the input format\n",
    "train_ds.take(1)"
   ]
  },
  {
   "cell_type": "code",
   "execution_count": null,
   "id": "4b1771eb",
   "metadata": {
    "ExecuteTime": {
     "start_time": "2022-05-04T14:33:39.729Z"
    },
    "hidden": true
   },
   "outputs": [
    {
     "name": "stdout",
     "output_type": "stream",
     "text": [
      "Epoch 1/3\n",
      "  14/1683 [..............................] - ETA: 196:35:07 - loss: 0.6148 - accuracy: 0.7355"
     ]
    }
   ],
   "source": [
    "history = model.fit(\n",
    "    train_ds,\n",
    "    validation_data=val_ds,\n",
    "    epochs=3\n",
    ")"
   ]
  },
  {
   "cell_type": "code",
   "execution_count": null,
   "id": "124c8c8a",
   "metadata": {
    "hidden": true
   },
   "outputs": [],
   "source": []
  }
 ],
 "metadata": {
  "kernelspec": {
   "display_name": "Python 3 (ipykernel)",
   "language": "python",
   "name": "python3"
  },
  "language_info": {
   "codemirror_mode": {
    "name": "ipython",
    "version": 3
   },
   "file_extension": ".py",
   "mimetype": "text/x-python",
   "name": "python",
   "nbconvert_exporter": "python",
   "pygments_lexer": "ipython3",
   "version": "3.9.7"
  },
  "toc": {
   "base_numbering": 1,
   "nav_menu": {},
   "number_sections": true,
   "sideBar": true,
   "skip_h1_title": false,
   "title_cell": "Table of Contents",
   "title_sidebar": "Contents",
   "toc_cell": false,
   "toc_position": {
    "height": "calc(100% - 180px)",
    "left": "10px",
    "top": "150px",
    "width": "512px"
   },
   "toc_section_display": true,
   "toc_window_display": true
  },
  "varInspector": {
   "cols": {
    "lenName": 16,
    "lenType": 16,
    "lenVar": 40
   },
   "kernels_config": {
    "python": {
     "delete_cmd_postfix": "",
     "delete_cmd_prefix": "del ",
     "library": "var_list.py",
     "varRefreshCmd": "print(var_dic_list())"
    },
    "r": {
     "delete_cmd_postfix": ") ",
     "delete_cmd_prefix": "rm(",
     "library": "var_list.r",
     "varRefreshCmd": "cat(var_dic_list()) "
    }
   },
   "position": {
    "height": "1099.84px",
    "left": "1907px",
    "right": "20px",
    "top": "122px",
    "width": "599px"
   },
   "types_to_exclude": [
    "module",
    "function",
    "builtin_function_or_method",
    "instance",
    "_Feature"
   ],
   "window_display": true
  }
 },
 "nbformat": 4,
 "nbformat_minor": 5
}
